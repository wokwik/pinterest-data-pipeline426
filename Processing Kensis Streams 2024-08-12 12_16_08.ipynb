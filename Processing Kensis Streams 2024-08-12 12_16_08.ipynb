{
 "cells": [
  {
   "cell_type": "code",
   "execution_count": 0,
   "metadata": {
    "application/vnd.databricks.v1+cell": {
     "cellMetadata": {
      "byteLimit": 2048000,
      "rowLimit": 10000
     },
     "inputWidgets": {},
     "nuid": "d638b8d6-82f8-4218-bb0f-1b9f5ff58147",
     "showTitle": false,
     "title": ""
    }
   },
   "outputs": [
    {
     "output_type": "display_data",
     "data": {
      "text/html": [
       "<style scoped>\n",
       "  .ansiout {\n",
       "    display: block;\n",
       "    unicode-bidi: embed;\n",
       "    white-space: pre-wrap;\n",
       "    word-wrap: break-word;\n",
       "    word-break: break-all;\n",
       "    font-family: \"Menlo\", \"Monaco\", \"Consolas\", \"Ubuntu Mono\", \"Source Code Pro\", monospace;\n",
       "    font-size: 13px;\n",
       "    color: #555;\n",
       "    margin-left: 4px;\n",
       "    line-height: 19px;\n",
       "  }\n",
       "</style>\n",
       "<div class=\"ansiout\"></div>"
      ]
     },
     "metadata": {
      "application/vnd.databricks.v1+output": {
       "addedWidgets": {},
       "arguments": {},
       "data": "<div class=\"ansiout\"></div>",
       "datasetInfos": [],
       "metadata": {},
       "removedWidgets": [],
       "type": "html"
      }
     },
     "output_type": "display_data"
    }
   ],
   "source": [
    "\n",
    "# import pyspark functions\n",
    "from pyspark.sql.functions import *\n",
    "from pyspark.sql.types import StructType, StructField, IntegerType, StringType, TimestampType, FloatType\n",
    "# import URL processing\n",
    "import urllib"
   ]
  },
  {
   "cell_type": "code",
   "execution_count": 0,
   "metadata": {
    "application/vnd.databricks.v1+cell": {
     "cellMetadata": {
      "byteLimit": 2048000,
      "rowLimit": 10000
     },
     "inputWidgets": {},
     "nuid": "635e7ced-9179-48dd-9444-503f3d0e990c",
     "showTitle": false,
     "title": ""
    }
   },
   "outputs": [
    {
     "output_type": "display_data",
     "data": {
      "text/html": [
       "<style scoped>\n",
       "  .ansiout {\n",
       "    display: block;\n",
       "    unicode-bidi: embed;\n",
       "    white-space: pre-wrap;\n",
       "    word-wrap: break-word;\n",
       "    word-break: break-all;\n",
       "    font-family: \"Menlo\", \"Monaco\", \"Consolas\", \"Ubuntu Mono\", \"Source Code Pro\", monospace;\n",
       "    font-size: 13px;\n",
       "    color: #555;\n",
       "    margin-left: 4px;\n",
       "    line-height: 19px;\n",
       "  }\n",
       "</style>\n",
       "<div class=\"ansiout\"></div>"
      ]
     },
     "metadata": {
      "application/vnd.databricks.v1+output": {
       "addedWidgets": {},
       "arguments": {},
       "data": "<div class=\"ansiout\"></div>",
       "datasetInfos": [],
       "metadata": {},
       "removedWidgets": [],
       "type": "html"
      }
     },
     "output_type": "display_data"
    }
   ],
   "source": [
    "# Define the path to the Delta table\n",
    "delta_table_path = \"dbfs:/user/hive/warehouse/authentication_credentials\"\n",
    "\n",
    "# Read the Delta table to a Spark DataFrame\n",
    "aws_keys_df = spark.read.format(\"delta\").load(delta_table_path)"
   ]
  },
  {
   "cell_type": "code",
   "execution_count": 0,
   "metadata": {
    "application/vnd.databricks.v1+cell": {
     "cellMetadata": {
      "byteLimit": 2048000,
      "rowLimit": 10000
     },
     "inputWidgets": {},
     "nuid": "52f7b0f9-7675-4536-9917-6b9906dc3d09",
     "showTitle": false,
     "title": ""
    }
   },
   "outputs": [
    {
     "output_type": "display_data",
     "data": {
      "text/html": [
       "<style scoped>\n",
       "  .ansiout {\n",
       "    display: block;\n",
       "    unicode-bidi: embed;\n",
       "    white-space: pre-wrap;\n",
       "    word-wrap: break-word;\n",
       "    word-break: break-all;\n",
       "    font-family: \"Menlo\", \"Monaco\", \"Consolas\", \"Ubuntu Mono\", \"Source Code Pro\", monospace;\n",
       "    font-size: 13px;\n",
       "    color: #555;\n",
       "    margin-left: 4px;\n",
       "    line-height: 19px;\n",
       "  }\n",
       "</style>\n",
       "<div class=\"ansiout\"></div>"
      ]
     },
     "metadata": {
      "application/vnd.databricks.v1+output": {
       "addedWidgets": {},
       "arguments": {},
       "data": "<div class=\"ansiout\"></div>",
       "datasetInfos": [],
       "metadata": {},
       "removedWidgets": [],
       "type": "html"
      }
     },
     "output_type": "display_data"
    }
   ],
   "source": [
    "# Get the AWS access key and secret key from the spark dataframe\n",
    "ACCESS_KEY = aws_keys_df.select('Access key ID').collect()[0]['Access key ID']\n",
    "SECRET_KEY = aws_keys_df.select('Secret access key').collect()[0]['Secret access key']\n",
    "\n",
    "# Encode the secret key\n",
    "ENCODED_SECRET_KEY = urllib.parse.quote(string=SECRET_KEY, safe=\"\")"
   ]
  },
  {
   "cell_type": "code",
   "execution_count": 0,
   "metadata": {
    "application/vnd.databricks.v1+cell": {
     "cellMetadata": {
      "byteLimit": 2048000,
      "rowLimit": 10000
     },
     "inputWidgets": {},
     "nuid": "46fa9e47-c828-492a-8ec0-03c5b90f5272",
     "showTitle": false,
     "title": ""
    }
   },
   "outputs": [
    {
     "output_type": "display_data",
     "data": {
      "text/html": [
       "<style scoped>\n",
       "  .ansiout {\n",
       "    display: block;\n",
       "    unicode-bidi: embed;\n",
       "    white-space: pre-wrap;\n",
       "    word-wrap: break-word;\n",
       "    word-break: break-all;\n",
       "    font-family: \"Menlo\", \"Monaco\", \"Consolas\", \"Ubuntu Mono\", \"Source Code Pro\", monospace;\n",
       "    font-size: 13px;\n",
       "    color: #555;\n",
       "    margin-left: 4px;\n",
       "    line-height: 19px;\n",
       "  }\n",
       "</style>\n",
       "<div class=\"ansiout\">/mnt/mount_path has been unmounted.\n",
       "Finally: Mount Directory anyway!\n",
       "</div>"
      ]
     },
     "metadata": {
      "application/vnd.databricks.v1+output": {
       "addedWidgets": {},
       "arguments": {},
       "data": "<div class=\"ansiout\">/mnt/mount_path has been unmounted.\nFinally: Mount Directory anyway!\n</div>",
       "datasetInfos": [],
       "metadata": {},
       "removedWidgets": [],
       "type": "html"
      }
     },
     "output_type": "display_data"
    }
   ],
   "source": [
    "# AWS S3 bucket name\n",
    "AWS_S3_BUCKET = \"user-0affec486183-bucket\"\n",
    "# Mount name for the bucket\n",
    "MOUNT_PATH = \"/mnt/mount_path\"\n",
    "# Source url\n",
    "SOURCE_URL = \"s3n://{0}:{1}@{2}\".format(ACCESS_KEY, ENCODED_SECRET_KEY, AWS_S3_BUCKET)\n",
    "# Mount the drive\n",
    "try:\n",
    "  dbutils.fs.unmount(MOUNT_PATH)\n",
    "except:\n",
    "  print(\"Exception: Directory is not mounted!\")\n",
    "finally:\n",
    "  print(\"Finally: Mount Directory anyway!\")\n",
    "  dbutils.fs.mount(SOURCE_URL, MOUNT_PATH)"
   ]
  },
  {
   "cell_type": "code",
   "execution_count": 0,
   "metadata": {
    "application/vnd.databricks.v1+cell": {
     "cellMetadata": {
      "byteLimit": 2048000,
      "rowLimit": 10000
     },
     "inputWidgets": {},
     "nuid": "a03c5d84-5747-4374-91e0-62e3950b25b2",
     "showTitle": false,
     "title": ""
    }
   },
   "outputs": [
    {
     "output_type": "display_data",
     "data": {
      "text/html": [
       "<style scoped>\n",
       "  .ansiout {\n",
       "    display: block;\n",
       "    unicode-bidi: embed;\n",
       "    white-space: pre-wrap;\n",
       "    word-wrap: break-word;\n",
       "    word-break: break-all;\n",
       "    font-family: \"Menlo\", \"Monaco\", \"Consolas\", \"Ubuntu Mono\", \"Source Code Pro\", monospace;\n",
       "    font-size: 13px;\n",
       "    color: #555;\n",
       "    margin-left: 4px;\n",
       "    line-height: 19px;\n",
       "  }\n",
       "</style>\n",
       "<div class=\"ansiout\"></div>"
      ]
     },
     "metadata": {
      "application/vnd.databricks.v1+output": {
       "addedWidgets": {},
       "arguments": {},
       "data": "<div class=\"ansiout\"></div>",
       "datasetInfos": [],
       "metadata": {},
       "removedWidgets": [],
       "type": "html"
      }
     },
     "output_type": "display_data"
    }
   ],
   "source": [
    "def get_kinesis_stream(stream_name: str):\n",
    "    '''Uses spark.readStream to retrieve Kinesis stream and returns stream as dataframe'''\n",
    "    dataframe = spark.readStream \\\n",
    "    .format('kinesis') \\\n",
    "    .option('streamName', stream_name) \\\n",
    "    .option('initialPosition','earliest') \\ # earliest vs latest\n",
    "    .option('region','us-east-1') \\\n",
    "    .option('awsAccessKey', ACCESS_KEY) \\\n",
    "    .option('awsSecretKey', SECRET_KEY) \\\n",
    "    .load()\n",
    "    return dataframe\n",
    "\n",
    "def deserialize_kinesis_stream(stream, schema):\n",
    "    '''Takes stream dataframe and schema, deserializes data from stream and returns data as dataframe'''\n",
    "    dataframe = stream \\\n",
    "    .selectExpr(\"CAST(data as STRING)\") \\\n",
    "    .withColumn(\"data\", from_json(col(\"data\"), schema)) \\\n",
    "    .select(col(\"data.*\"))\n",
    "    return dataframe\n",
    "\n",
    "def write_Kinesis_stream_df_to_table(dataframe, name: str):\n",
    "    '''Takes dataframe and name string and writes dataframe to delta table using name in options and table name'''\n",
    "    dataframe.writeStream \\\n",
    "    .format(\"delta\") \\\n",
    "    .outputMode(\"append\") \\\n",
    "    .option(\"checkpointLocation\", f\"/tmp/kinesis/1215be80977f_{name}_table_checkpoints/\") \\\n",
    "    .table(f\"1215be80977f_{name}_table\")"
   ]
  },
  {
   "cell_type": "code",
   "execution_count": 0,
   "metadata": {
    "application/vnd.databricks.v1+cell": {
     "cellMetadata": {
      "byteLimit": 2048000,
      "rowLimit": 10000
     },
     "inputWidgets": {},
     "nuid": "c2832407-c315-4c74-854c-a6f161c2433b",
     "showTitle": false,
     "title": ""
    }
   },
   "outputs": [
    {
     "output_type": "display_data",
     "data": {
      "text/html": [
       "<style scoped>\n",
       "  .ansiout {\n",
       "    display: block;\n",
       "    unicode-bidi: embed;\n",
       "    white-space: pre-wrap;\n",
       "    word-wrap: break-word;\n",
       "    word-break: break-all;\n",
       "    font-family: \"Menlo\", \"Monaco\", \"Consolas\", \"Ubuntu Mono\", \"Source Code Pro\", monospace;\n",
       "    font-size: 13px;\n",
       "    color: #555;\n",
       "    margin-left: 4px;\n",
       "    line-height: 19px;\n",
       "  }\n",
       "</style>\n",
       "<div class=\"ansiout\"></div>"
      ]
     },
     "metadata": {
      "application/vnd.databricks.v1+output": {
       "addedWidgets": {},
       "arguments": {},
       "data": "<div class=\"ansiout\"></div>",
       "datasetInfos": [],
       "metadata": {},
       "removedWidgets": [],
       "type": "html"
      }
     },
     "output_type": "display_data"
    }
   ],
   "source": [
    "# define schemas for each of the dataframes\n",
    "pin_schema = StructType([\n",
    "    StructField(\"index\", IntegerType()),\n",
    "    StructField(\"unique_id\", StringType()),\n",
    "    StructField(\"title\", StringType()),\n",
    "    StructField(\"description\", StringType()),\n",
    "    StructField(\"poster_name\", StringType()),\n",
    "    StructField(\"follower_count\", StringType()),\n",
    "    StructField(\"tag_list\", StringType()),\n",
    "    StructField(\"is_image_or_video\", StringType()),\n",
    "    StructField(\"image_src\", StringType()),\n",
    "    StructField(\"downloaded\", IntegerType()),\n",
    "    StructField(\"save_location\", StringType()),\n",
    "    StructField(\"category\", StringType())\n",
    "])\n",
    "geo_schema = StructType([\n",
    "    StructField(\"ind\", IntegerType()),\n",
    "    StructField(\"timestamp\", TimestampType()),\n",
    "    StructField(\"latitude\", FloatType()),\n",
    "    StructField(\"longitude\", FloatType()),\n",
    "    StructField(\"country\", StringType())\n",
    "])\n",
    "user_schema = StructType([\n",
    "    StructField(\"ind\", IntegerType()),\n",
    "    StructField(\"first_name\", StringType()),\n",
    "    StructField(\"last_name\", StringType()),\n",
    "    StructField(\"age\", StringType()),\n",
    "    StructField(\"date_joined\", TimestampType())\n",
    "])"
   ]
  },
  {
   "cell_type": "code",
   "execution_count": 0,
   "metadata": {
    "application/vnd.databricks.v1+cell": {
     "cellMetadata": {
      "byteLimit": 2048000,
      "rowLimit": 10000
     },
     "inputWidgets": {},
     "nuid": "466de54d-00a4-4246-9dc4-9941f62be6d2",
     "showTitle": false,
     "title": ""
    }
   },
   "outputs": [
    {
     "output_type": "display_data",
     "data": {
      "text/html": [
       "<style scoped>\n",
       "  .table-result-container {\n",
       "    max-height: 300px;\n",
       "    overflow: auto;\n",
       "  }\n",
       "  table, th, td {\n",
       "    border: 1px solid black;\n",
       "    border-collapse: collapse;\n",
       "  }\n",
       "  th, td {\n",
       "    padding: 5px;\n",
       "  }\n",
       "  th {\n",
       "    text-align: left;\n",
       "  }\n",
       "</style><div class='table-result-container'><table class='table-result'><thead style='background-color: white'><tr><th>partitionKey</th><th>data</th><th>stream</th><th>shardId</th><th>sequenceNumber</th><th>approximateArrivalTimestamp</th></tr></thead><tbody><tr><td>partition-1</td><td>eyJpbmRleCI6NzUyOCwidW5pcXVlX2lkIjoiZmJlNTNjNjYtMzQ0Mi00NzczLWIxOWUtZDNlYzZmNTRkZGRmIiwidGl0bGUiOiJObyBUaXRsZSBEYXRhIEF2YWlsYWJsZSIsImRlc2NyaXB0aW9uIjoiTm8gZGVzY3JpcHRpb24= (truncated)</td><td>streaming-0affec486183-pin</td><td>shardId-000000000000</td><td>49654776698500171106604173156775567464098671253650407426</td><td>2024-08-12T12:21:11.473+0000</td></tr><tr><td>partition-1</td><td>eyJpbmRleCI6Mjg2MywidW5pcXVlX2lkIjoiOWJmMzk0MzctNDJhNi00ZjAyLTk5YTAtOWEwMzgzZDhjZDcwIiwidGl0bGUiOiIyNSBTdXBlciBGdW4gU3VtbWVyIENyYWZ0cyBmb3IgS2lkcyAtIE9mIExpZmUgYW5kIExpc2E= (truncated)</td><td>streaming-0affec486183-pin</td><td>shardId-000000000000</td><td>49654776698500171106604173161714029437224431569764089858</td><td>2024-08-12T12:21:13.127+0000</td></tr><tr><td>partition-1</td><td>eyJpbmRleCI6NTczMCwidW5pcXVlX2lkIjoiMWUxZjBjOGItOWZjZi00NjBiLTkxNTQtYzc3NTgyNzIwNmViIiwidGl0bGUiOiJJc2xhbmQgT2FzaXMgQ291cG9uIE9yZ2FuaXplciIsImRlc2NyaXB0aW9uIjoiRGVzY3JpcHQ= (truncated)</td><td>streaming-0affec486183-pin</td><td>shardId-000000000000</td><td>49654776698500171106604173170971983363833261927102939138</td><td>2024-08-12T12:21:16.233+0000</td></tr><tr><td>partition-1</td><td>eyJpbmRleCI6ODMwNCwidW5pcXVlX2lkIjoiNWI2ZDA5MTMtMjVlNC00M2FiLTgzOWQtODVkNTUxNmY3OGE0IiwidGl0bGUiOiJUaGUgIzEgUmVhc29uIFlvdeKAmXJlIE5vdCBIaXMgUHJpb3JpdHkgQW55bW9yZSAtIE1hdHQ= (truncated)</td><td>streaming-0affec486183-pin</td><td>shardId-000000000000</td><td>49654776698500171106604173179545685276540212240277569538</td><td>2024-08-12T12:21:18.745+0000</td></tr><tr><td>partition-1</td><td>eyJpbmRleCI6ODczMSwidW5pcXVlX2lkIjoiZWE3NjBmNzEtZmViZi00MDIzLWI1OTItZDE3Mzk2NjU5MDM5IiwidGl0bGUiOiIyMCBLb2kgRmlzaCBUYXR0b29zIEZvciBMdWNreSBNZW4iLCJkZXNjcmlwdGlvbiI6IktvaSA= (truncated)</td><td>streaming-0affec486183-pin</td><td>shardId-000000000000</td><td>49654776698500171106604173183333249869392845513351495682</td><td>2024-08-12T12:21:19.926+0000</td></tr><tr><td>partition-1</td><td>eyJpbmRleCI6MTMxMywidW5pcXVlX2lkIjoiNDQ2NjIwNDUtZTg5MS00ODIxLThhMTktZWJlN2VlZGQzNzFhIiwidGl0bGUiOiJMaXF1aWQgTGFzaCBFeHRlbnNpb25zIE1hc2NhcmEiLCJkZXNjcmlwdGlvbiI6Ikluc3RhbnQ= (truncated)</td><td>streaming-0affec486183-pin</td><td>shardId-000000000000</td><td>49654776698500171106604173185143011821355945456606117890</td><td>2024-08-12T12:21:20.543+0000</td></tr><tr><td>partition-1</td><td>eyJpbmRleCI6NDMxNSwidW5pcXVlX2lkIjoiMjFiNTliYTktODI5ZC00YzMzLThjMjctNGNkNGM1NmQyNmI4IiwidGl0bGUiOiJQb2RjYXN0cyBmb3IgVGVhY2hlcnMgb3IgUGFyZW50cyBvZiBUZWVuYWdlcnMiLCJkZXNjcmk= (truncated)</td><td>streaming-0affec486183-pin</td><td>shardId-000000000000</td><td>49654776698500171106604173192035097918978946587764457474</td><td>2024-08-12T12:21:23.197+0000</td></tr><tr><td>partition-1</td><td>eyJpbmRleCI6MTA3OTQsInVuaXF1ZV9pZCI6ImM0YmQyNTc3LWE3YmItNDQwOS1iYjdhLTE3ZDVlZDdlMWNmMSIsInRpdGxlIjoiVGlyZUJ1eWVyIiwiZGVzY3JpcHRpb24iOiJOaXNzYW4gR1QtUi4gU2ljay4iLCJwb3N0ZXI= (truncated)</td><td>streaming-0affec486183-pin</td><td>shardId-000000000000</td><td>49654776698500171106604173194183359100434142699936808962</td><td>2024-08-12T12:21:23.874+0000</td></tr><tr><td>partition-1</td><td>eyJpbmRleCI6NTQ5NCwidW5pcXVlX2lkIjoiOGZiMmFmNjgtNTQzYi00NjM5LTgxMTktZGUzM2QyODcwNmVkIiwidGl0bGUiOiJEYXZlIFJhbXNleSdzIDcgQmFieSBTdGVwczogV2hhdCBBcmUgVGhleSBBbmQgV2lsbCBUaGU= (truncated)</td><td>streaming-0affec486183-pin</td><td>shardId-000000000000</td><td>49654776698500171106604173195962897906906876845104300034</td><td>2024-08-12T12:21:24.503+0000</td></tr><tr><td>partition-1</td><td>eyJpbmRleCI6NTA2OSwidW5pcXVlX2lkIjoiYjc1YjZmODctZGViMy00NDRmLWIyOWUtY2U5MTYxYjJkZjQ5IiwidGl0bGUiOiJUaGUgVmF1bHQ6IEN1cmF0ZWQgJiBSZWZpbmVkIFdlZGRpbmcgSW5zcGlyYXRpb24iLCJkZXM= (truncated)</td><td>streaming-0affec486183-pin</td><td>shardId-000000000000</td><td>49654776698500171106604173199009390972335742434083340290</td><td>2024-08-12T12:21:25.730+0000</td></tr><tr><td>partition-1</td><td>eyJpbmRleCI6MjkyMywidW5pcXVlX2lkIjoiNTJmYTNhZjUtMjRhNC00Y2NiLThmMTctOWMzZWIxMjMyN2VlIiwidGl0bGUiOiJVRk8gUGFwZXIgUGxhdGUgQ3JhZnQiLCJkZXNjcmlwdGlvbiI6IkEgZnVuIHNwYWNlIGFjdGk= (truncated)</td><td>streaming-0affec486183-pin</td><td>shardId-000000000000</td><td>49654776698500171106604173202365369047585953091787161602</td><td>2024-08-12T12:21:26.898+0000</td></tr><tr><td>partition-1</td><td>eyJpbmRleCI6MzA4OSwidW5pcXVlX2lkIjoiODhmOTIyN2UtODhkMC00YjFjLWIwYmUtYmNmYzMwMjhiOGUyIiwidGl0bGUiOiJObyBUaXRsZSBEYXRhIEF2YWlsYWJsZSIsImRlc2NyaXB0aW9uIjoiTm8gZGVzY3JpcHRpb24= (truncated)</td><td>streaming-0affec486183-pin</td><td>shardId-000000000000</td><td>49654776698500171106604173204985111298690854513375444994</td><td>2024-08-12T12:21:27.531+0000</td></tr><tr><td>partition-1</td><td>eyJpbmRleCI6NjA2MywidW5pcXVlX2lkIjoiNjA2OTM3MjctNDkyNy00YmQ2LWE4YzUtMDk2YTM5MmQ2M2U2IiwidGl0bGUiOiI0MSBHb3JnZW91cyBGYWxsIERlY29yIElkZWFzIEZvciBZb3VyIEhvbWUgLSBDaGF5bG9yICY= (truncated)</td><td>streaming-0affec486183-pin</td><td>shardId-000000000000</td><td>49654776698500171106604173210040839076319233928155103234</td><td>2024-08-12T12:21:29.187+0000</td></tr><tr><td>partition-1</td><td>eyJpbmRleCI6MzQ1NCwidW5pcXVlX2lkIjoiNDZiZDNmODYtYjA5ZC00ZTI5LTkwMzMtN2ZmMmRmNTk1ZTUxIiwidGl0bGUiOiJXaGF0IGNhbiB5b3UgdXNlIHRvIGNvbG9yIHJlc2luPyIsImRlc2NyaXB0aW9uIjoiSEVMUEY= (truncated)</td><td>streaming-0affec486183-pin</td><td>shardId-000000000000</td><td>49654776698500171106604173214656517855607888185902759938</td><td>2024-08-12T12:21:30.843+0000</td></tr><tr><td>partition-1</td><td>eyJpbmRleCI6NzU1NCwidW5pcXVlX2lkIjoiYzZmYTEyZjQtMGQ0YS00YjA3LWEzMzUtNWJmOWYzN2Y4MjgxIiwidGl0bGUiOiJDcmFpZyBTdHlsZSIsImRlc2NyaXB0aW9uIjoiaW1nZW50bGVib3NzOiDigJwgLSBNb3JlIGE= (truncated)</td><td>streaming-0affec486183-pin</td><td>shardId-000000000000</td><td>49654776698500171106604173220699938027861419567697887234</td><td>2024-08-12T12:21:32.555+0000</td></tr><tr><td>partition-1</td><td>eyJpbmRleCI6NzUyOCwidW5pcXVlX2lkIjoiZmJlNTNjNjYtMzQ0Mi00NzczLWIxOWUtZDNlYzZmNTRkZGRmIiwidGl0bGUiOiJObyBUaXRsZSBEYXRhIEF2YWlsYWJsZSIsImRlc2NyaXB0aW9uIjoiTm8gZGVzY3JpcHRpb24= (truncated)</td><td>streaming-0affec486183-pin</td><td>shardId-000000000000</td><td>49654776698500171106604178227607664282743155808423378946</td><td>2024-08-12T12:45:11.839+0000</td></tr><tr><td>partition-1</td><td>eyJpbmRleCI6Mjg2MywidW5pcXVlX2lkIjoiOWJmMzk0MzctNDJhNi00ZjAyLTk5YTAtOWEwMzgzZDhjZDcwIiwidGl0bGUiOiIyNSBTdXBlciBGdW4gU3VtbWVyIENyYWZ0cyBmb3IgS2lkcyAtIE9mIExpZmUgYW5kIExpc2E= (truncated)</td><td>streaming-0affec486183-pin</td><td>shardId-000000000000</td><td>49654776698500171106604178232744390090285715240469397506</td><td>2024-08-12T12:45:13.449+0000</td></tr><tr><td>partition-1</td><td>eyJpbmRleCI6NTczMCwidW5pcXVlX2lkIjoiMWUxZjBjOGItOWZjZi00NjBiLTkxNTQtYzc3NTgyNzIwNmViIiwidGl0bGUiOiJJc2xhbmQgT2FzaXMgQ291cG9uIE9yZ2FuaXplciIsImRlc2NyaXB0aW9uIjoiRGVzY3JpcHQ= (truncated)</td><td>streaming-0affec486183-pin</td><td>shardId-000000000000</td><td>49654776698500171106604178237656255695379953646020067330</td><td>2024-08-12T12:45:15.097+0000</td></tr><tr><td>partition-1</td><td>eyJpbmRleCI6ODMwNCwidW5pcXVlX2lkIjoiNWI2ZDA5MTMtMjVlNC00M2FiLTgzOWQtODVkNTUxNmY3OGE0IiwidGl0bGUiOiJUaGUgIzEgUmVhc29uIFlvdeKAmXJlIE5vdCBIaXMgUHJpb3JpdHkgQW55bW9yZSAtIE1hdHQ= (truncated)</td><td>streaming-0affec486183-pin</td><td>shardId-000000000000</td><td>49654776698500171106604178243020259557010063431630323714</td><td>2024-08-12T12:45:16.716+0000</td></tr><tr><td>partition-1</td><td>eyJpbmRleCI6ODczMSwidW5pcXVlX2lkIjoiZWE3NjBmNzEtZmViZi00MDIzLWI1OTItZDE3Mzk2NjU5MDM5IiwidGl0bGUiOiIyMCBLb2kgRmlzaCBUYXR0b29zIEZvciBMdWNreSBNZW4iLCJkZXNjcmlwdGlvbiI6IktvaSA= (truncated)</td><td>streaming-0affec486183-pin</td><td>shardId-000000000000</td><td>49654776698500171106604178246042574106046636437115240450</td><td>2024-08-12T12:45:17.447+0000</td></tr><tr><td>partition-1</td><td>eyJpbmRleCI6MTMxMywidW5pcXVlX2lkIjoiNDQ2NjIwNDUtZTg5MS00ODIxLThhMTktZWJlN2VlZGQzNzFhIiwidGl0bGUiOiJMaXF1aWQgTGFzaCBFeHRlbnNpb25zIE1hc2NhcmEiLCJkZXNjcmlwdGlvbiI6Ikluc3RhbnQ= (truncated)</td><td>streaming-0affec486183-pin</td><td>shardId-000000000000</td><td>49654776698500171106604178247648027594494863981125042178</td><td>2024-08-12T12:45:18.086+0000</td></tr><tr><td>partition-1</td><td>eyJpbmRleCI6NDMxNSwidW5pcXVlX2lkIjoiMjFiNTliYTktODI5ZC00YzMzLThjMjctNGNkNGM1NmQyNmI4IiwidGl0bGUiOiJQb2RjYXN0cyBmb3IgVGVhY2hlcnMgb3IgUGFyZW50cyBvZiBUZWVuYWdlcnMiLCJkZXNjcmk= (truncated)</td><td>streaming-0affec486183-pin</td><td>shardId-000000000000</td><td>49654776698500171106604178253163147183576802344854093826</td><td>2024-08-12T12:45:19.697+0000</td></tr><tr><td>partition-1</td><td>eyJpbmRleCI6MTA3OTQsInVuaXF1ZV9pZCI6ImM0YmQyNTc3LWE3YmItNDQwOS1iYjdhLTE3ZDVlZDdlMWNmMSIsInRpdGxlIjoiVGlyZUJ1eWVyIiwiZGVzY3JpcHRpb24iOiJOaXNzYW4gR1QtUi4gU2ljay4iLCJwb3N0ZXI= (truncated)</td><td>streaming-0affec486183-pin</td><td>shardId-000000000000</td><td>49654776698500171106604178254530442285560948078885732354</td><td>2024-08-12T12:45:20.352+0000</td></tr><tr><td>partition-1</td><td>eyJpbmRleCI6NTQ5NCwidW5pcXVlX2lkIjoiOGZiMmFmNjgtNTQzYi00NjM5LTgxMTktZGUzM2QyODcwNmVkIiwidGl0bGUiOiJEYXZlIFJhbXNleSdzIDcgQmFieSBTdGVwczogV2hhdCBBcmUgVGhleSBBbmQgV2lsbCBUaGU= (truncated)</td><td>streaming-0affec486183-pin</td><td>shardId-000000000000</td><td>49654776698500171106604178256861251265777953127719239682</td><td>2024-08-12T12:45:21.209+0000</td></tr><tr><td>partition-1</td><td>eyJpbmRleCI6NTA2OSwidW5pcXVlX2lkIjoiYjc1YjZmODctZGViMy00NDRmLWIyOWUtY2U5MTYxYjJkZjQ5IiwidGl0bGUiOiJUaGUgVmF1bHQ6IEN1cmF0ZWQgJiBSZWZpbmVkIFdlZGRpbmcgSW5zcGlyYXRpb24iLCJkZXM= (truncated)</td><td>streaming-0affec486183-pin</td><td>shardId-000000000000</td><td>49654776698500171106604178261285919765567495975863320578</td><td>2024-08-12T12:45:22.542+0000</td></tr><tr><td>partition-1</td><td>eyJpbmRleCI6MjkyMywidW5pcXVlX2lkIjoiNTJmYTNhZjUtMjRhNC00Y2NiLThmMTctOWMzZWIxMjMyN2VlIiwidGl0bGUiOiJVRk8gUGFwZXIgUGxhdGUgQ3JhZnQiLCJkZXNjcmlwdGlvbiI6IkEgZnVuIHNwYWNlIGFjdGk= (truncated)</td><td>streaming-0affec486183-pin</td><td>shardId-000000000000</td><td>49654776698500171106604178270148554949162342661792727042</td><td>2024-08-12T12:45:25.064+0000</td></tr><tr><td>partition-1</td><td>eyJpbmRleCI6MzA4OSwidW5pcXVlX2lkIjoiODhmOTIyN2UtODhkMC00YjFjLWIwYmUtYmNmYzMwMjhiOGUyIiwidGl0bGUiOiJObyBUaXRsZSBEYXRhIEF2YWlsYWJsZSIsImRlc2NyaXB0aW9uIjoiTm8gZGVzY3JpcHRpb24= (truncated)</td><td>streaming-0affec486183-pin</td><td>shardId-000000000000</td><td>49654776698500171106604178273475518804741802219303600130</td><td>2024-08-12T12:45:25.724+0000</td></tr><tr><td>partition-1</td><td>eyJpbmRleCI6NjA2MywidW5pcXVlX2lkIjoiNjA2OTM3MjctNDkyNy00YmQ2LWE4YzUtMDk2YTM5MmQ2M2U2IiwidGl0bGUiOiI0MSBHb3JnZW91cyBGYWxsIERlY29yIElkZWFzIEZvciBZb3VyIEhvbWUgLSBDaGF5bG9yICY= (truncated)</td><td>streaming-0affec486183-pin</td><td>shardId-000000000000</td><td>49654776698500171106604178278024706663951651872442417154</td><td>2024-08-12T12:45:27.380+0000</td></tr><tr><td>partition-1</td><td>eyJpbmRleCI6MzQ1NCwidW5pcXVlX2lkIjoiNDZiZDNmODYtYjA5ZC00ZTI5LTkwMzMtN2ZmMmRmNTk1ZTUxIiwidGl0bGUiOiJXaGF0IGNhbiB5b3UgdXNlIHRvIGNvbG9yIHJlc2luPyIsImRlc2NyaXB0aW9uIjoiSEVMUEY= (truncated)</td><td>streaming-0affec486183-pin</td><td>shardId-000000000000</td><td>49654776698500171106604178285651819659900347610541588482</td><td>2024-08-12T12:45:30.207+0000</td></tr><tr><td>partition-1</td><td>eyJpbmRleCI6NzU1NCwidW5pcXVlX2lkIjoiYzZmYTEyZjQtMGQ0YS00YjA3LWEzMzUtNWJmOWYzN2Y4MjgxIiwidGl0bGUiOiJDcmFpZyBTdHlsZSIsImRlc2NyaXB0aW9uIjoiaW1nZW50bGVib3NzOiDigJwgLSBNb3JlIGE= (truncated)</td><td>streaming-0affec486183-pin</td><td>shardId-000000000000</td><td>49654776698500171106604178291894712592390292737443758082</td><td>2024-08-12T12:45:31.834+0000</td></tr><tr><td>partition-1</td><td>eyJpbmRleCI6NjE0NSwidW5pcXVlX2lkIjoiODJlMTNhMDctZGI5OS00M2EzLWIxYzAtODlhNGI3NTgyMWRhIiwidGl0bGUiOiJIT0xJREFZIE1BTlRMRSBERUNPUiAtIEBBTUFaT04gJiBAVEFSR0VUIEZJTkRTIiwiZGVzY3I= (truncated)</td><td>streaming-0affec486183-pin</td><td>shardId-000000000000</td><td>49654776698500171106604178306105635601960258892273287170</td><td>2024-08-12T12:45:34.629+0000</td></tr><tr><td>partition-1</td><td>eyJpbmRleCI6MTA2MjUsInVuaXF1ZV9pZCI6ImQzMTg4NWI3LTc0MmEtNGUyYS1iYmI3LWFjNWY5ZDMzNDM0MCIsInRpdGxlIjoiSmFndWFyIFR5cGUgRSIsImRlc2NyaXB0aW9uIjoiMTkzNyBKYWd1YXIgU1MxMDAgLSAyIDE= (truncated)</td><td>streaming-0affec486183-pin</td><td>shardId-000000000000</td><td>49654776698500171106604178310530304101749801740417368066</td><td>2024-08-12T12:45:35.262+0000</td></tr><tr><td>partition-1</td><td>eyJpbmRleCI6Mjk1OSwidW5pcXVlX2lkIjoiNDM5Y2FjNGItMThlOC00YWFhLTg4YzUtZWRiMjZhNzAxMTExIiwidGl0bGUiOiJUaGUgQ3V0ZXN0IFRvaWxldCBQYXBlciBDcmFmdHMiLCJkZXNjcmlwdGlvbiI6Ik9uZSB0aGk= (truncated)</td><td>streaming-0affec486183-pin</td><td>shardId-000000000000</td><td>49654776698500171106604178313470411695052579893302788098</td><td>2024-08-12T12:45:35.869+0000</td></tr><tr><td>partition-1</td><td>eyJpbmRleCI6OTg3NSwidW5pcXVlX2lkIjoiNzgyZGNiYWQtZmY5MS00MGE2LWJhNjAtMjE2ZWZlMjlhZGI3IiwidGl0bGUiOiJFdXJvcGVhbiBCdWNrZXQgTGlzdDogMzUgVGhpbmdzIE5PVCBUbyBNaXNzIFdoZW4gVHJhdmU= (truncated)</td><td>streaming-0affec486183-pin</td><td>shardId-000000000000</td><td>49654776698500171106604178316496353021547996786311823362</td><td>2024-08-12T12:45:36.484+0000</td></tr><tr><td>partition-1</td><td>eyJpbmRleCI6MjQxOCwidW5pcXVlX2lkIjoiZGE4NzQ1YTYtNTE2MC00NmM0LTg3N2QtMTgxZDUwYTcyOWZkIiwidGl0bGUiOiIxMDAgRElZIENocmlzdG1hcyBDZW50ZXJwaWVjZXMgWW91J2xsIExvdmUgVG8gRGVjb3JhdGU= (truncated)</td><td>streaming-0affec486183-pin</td><td>shardId-000000000000</td><td>49654776698500171106604178323868382669558005562389561346</td><td>2024-08-12T12:45:38.252+0000</td></tr><tr><td>partition-1</td><td>eyJpbmRleCI6MzE1NiwidW5pcXVlX2lkIjoiZmE2ZTMxYTQtMThjMi00ZWNhLWE2ZDgtZTkwM2VlZTJjMmE0IiwidGl0bGUiOiJIYW5kcHJpbnQgUmVpbmRlZXIgT3JuYW1lbnRzIC0gQ3JhZnR5IE1vcm5pbmciLCJkZXNjcmk= (truncated)</td><td>streaming-0affec486183-pin</td><td>shardId-000000000000</td><td>49654776698500171106604178326035986664127035810076688386</td><td>2024-08-12T12:45:38.888+0000</td></tr><tr><td>partition-1</td><td>eyJpbmRleCI6NDI4LCJ1bmlxdWVfaWQiOiI2MTBiM2Y4My05ZmUwLTQ2OWQtOTQ2Yy1kMTZiNTc3ZmNhNzEiLCJ0aXRsZSI6IkZhc2hpb24gRGVzaWduZXIgSXNhYWMgTWl6cmFoaeKAmXMgVXBkYXRlZCAxOTMwcyBOZXcgWW8= (truncated)</td><td>streaming-0affec486183-pin</td><td>shardId-000000000000</td><td>49654776698500171106604178329098195765210891509607432194</td><td>2024-08-12T12:45:39.467+0000</td></tr><tr><td>partition-1</td><td>eyJpbmRleCI6NzM0MywidW5pcXVlX2lkIjoiYjhjNjNhOTUtNmZlOC00ZDdmLTk0NTUtMWVlZjM0NjJmZWUwIiwidGl0bGUiOiJUaGlzIEZhc2hpb24gUnVsZSBJcyBOb25zZW5zZSwgQW5kIFdlIFNob3VsZCBBbGwgRm9yZ2U= (truncated)</td><td>streaming-0affec486183-pin</td><td>shardId-000000000000</td><td>49654776698500171106604178332160404866294747277857652738</td><td>2024-08-12T12:45:40.151+0000</td></tr><tr><td>partition-1</td><td>eyJpbmRleCI6MjA3NCwidW5pcXVlX2lkIjoiODZlZDA5YTctODQyZC00OTZkLTk1MDEtMDEwYzY1NGViMzQwIiwidGl0bGUiOiIzNSBDaHJpc3RtYXMgRGVjb3JhdGluZyBJZGVhcyBXZSBCZXQgWW91IEhhdmVuJ3QgVGhvdWc= (truncated)</td><td>streaming-0affec486183-pin</td><td>shardId-000000000000</td><td>49654776698500171106604178348310444890526578560196411394</td><td>2024-08-12T12:45:43.380+0000</td></tr><tr><td>partition-1</td><td>eyJpbmRleCI6OTk3OSwidW5pcXVlX2lkIjoiMmIyYWJjODUtZmM1MS00ODFmLThhZTYtMTc2ODE5OTNkYTI4IiwidGl0bGUiOiJQYXJpcyBpbiB0aGUgU3VtbWVyLiAxMCBmdW4gdGhpbmdzIHRvIGRvIGluIFBhcmlzIGluIHQ= (truncated)</td><td>streaming-0affec486183-pin</td><td>shardId-000000000000</td><td>49654776698500171106604178366375423413027982523989229570</td><td>2024-08-12T12:45:45.602+0000</td></tr><tr><td>partition-1</td><td>eyJpbmRleCI6MTAxMzgsInVuaXF1ZV9pZCI6IjkyN2M0NjU4LWNjM2YtNGI5Mi05YjVjLTcwNzQzZDBjMjM4ZCIsInRpdGxlIjoiMTQgQW1hemluZyBUaGluZ3MgVG8gRG8gSW4gQ29zdGEgUmljYSB8IFZvbGNhbm9lcywgV2E= (truncated)</td><td>streaming-0affec486183-pin</td><td>shardId-000000000000</td><td>49654776698500171106604178368734037687096124112560455682</td><td>2024-08-12T12:45:46.243+0000</td></tr><tr><td>partition-1</td><td>eyJpbmRleCI6OTY3MiwidW5pcXVlX2lkIjoiMWE1MDUwYTQtYWM4Mi00NzJjLWFlZmYtMzQ1N2RlOGJiZWU5IiwidGl0bGUiOiJMYWtlIE1vcmFpbmUsIEJhbmZmLCBDYW5hZGEiLCJkZXNjcmlwdGlvbiI6Ik9uIG91ciBDYWw= (truncated)</td><td>streaming-0affec486183-pin</td><td>shardId-000000000000</td><td>49654776698500171106604178373769213725791054693931155458</td><td>2024-08-12T12:45:47.905+0000</td></tr><tr><td>partition-1</td><td>eyJpbmRleCI6ODY1MywidW5pcXVlX2lkIjoiMjRiMTM0M2MtNGQ4Ni00NzA1LThlYzktN2YxZjJkZjJkNzdlIiwidGl0bGUiOiJVbmlxdWUgV29tZW4gVGF0dG9vcyBJZGVhcyAyMDIwIiwiZGVzY3JpcHRpb24iOiJXZSB3ZWw= (truncated)</td><td>streaming-0affec486183-pin</td><td>shardId-000000000000</td><td>49654776698500171106604178382014087815562825871585705986</td><td>2024-08-12T12:45:50.522+0000</td></tr><tr><td>partition-1</td><td>eyJpbmRleCI6ODg4NywidW5pcXVlX2lkIjoiNWRmOWY2ZTUtMDdmNS00Y2U4LWE4MmUtOTY1ODZiYmMwNWQ4IiwidGl0bGUiOiIyNSBVbHRyYSBTZXh5IEJhY2sgVGF0dG9vIElkZWFzIEZvciBHaXJscyIsImRlc2NyaXB0aW8= (truncated)</td><td>streaming-0affec486183-pin</td><td>shardId-000000000000</td><td>49654776698500171106604178388122789982075547160095490050</td><td>2024-08-12T12:45:52.153+0000</td></tr><tr><td>partition-1</td><td>eyJpbmRleCI6NzkyMiwidW5pcXVlX2lkIjoiYTU4NDU4MWMtMWIzOC00NzMxLWExY2MtZjM2MTE1ZWNmMjI5IiwidGl0bGUiOiI0NSBUb3AgTGlmZSBRdW90ZXMgU2Nob29sIERpZCBOb3QgVGVhY2ggWW91IiwiZGVzY3JpcHQ= (truncated)</td><td>streaming-0affec486183-pin</td><td>shardId-000000000000</td><td>49654776698500171106604178394093674605152200722688770050</td><td>2024-08-12T12:45:53.778+0000</td></tr><tr><td>partition-1</td><td>eyJpbmRleCI6MTAxNCwidW5pcXVlX2lkIjoiOWFjOTQzMDctYmIyNy00MTBlLWI1NTQtMGEwYWI2YzE5ODQ3IiwidGl0bGUiOiJIYWlyc3R5bGVzICYgQmVhdXR5IiwiZGVzY3JpcHRpb24iOiJVbnRpdGxlZCIsInBvc3Rlcl8= (truncated)</td><td>streaming-0affec486183-pin</td><td>shardId-000000000000</td><td>49654776698500171106604178399521751535221885785838977026</td><td>2024-08-12T12:45:55.431+0000</td></tr><tr><td>partition-1</td><td>eyJpbmRleCI6NDkxMywidW5pcXVlX2lkIjoiNGQyZDc5YzYtOWNhOC00NmM5LWEzOGUtOTMxYzVkOTY3ODA0IiwidGl0bGUiOiJIb3cgdG8gV29yayBGcm9tIEhvbWUgYXMgYW4gRXZlbnQgUGxhbm5lciIsImRlc2NyaXB0aW8= (truncated)</td><td>streaming-0affec486183-pin</td><td>shardId-000000000000</td><td>49654776698500171106604178405209747516508716327709442050</td><td>2024-08-12T12:45:57.092+0000</td></tr><tr><td>partition-1</td><td>eyJpbmRleCI6NDEzNywidW5pcXVlX2lkIjoiYmYyNzUwNTQtNDQ2NC00NDhiLTkxNDMtMWJmMTAxYWEzNjZkIiwidGl0bGUiOiIxNSBFc3NlbnRpYWwgQ2xhc3Nyb29tIEl0ZW1zIEZvciBGaXJzdCBZZWFyIFRlYWNoZXJzIC8= (truncated)</td><td>streaming-0affec486183-pin</td><td>shardId-000000000000</td><td>49654776698500171106604178411280972982613384111803334658</td><td>2024-08-12T12:45:58.712+0000</td></tr><tr><td>partition-1</td><td>eyJpbmRleCI6NzE2NiwidW5pcXVlX2lkIjoiNGE4NDRiMDMtZTE2MS00N2ExLTkwNGItNTkxZWI1ZGM0ZmIxIiwidGl0bGUiOiJUaGUgS2lsbGVycyAtIE1yLiBCcmlnaHRzaWRlIC0gV29tZW4ncyBULVNoaXJ0IC0gSGVhdGg= (truncated)</td><td>streaming-0affec486183-pin</td><td>shardId-000000000000</td><td>49654776698500171106604178413008527978842689271177936898</td><td>2024-08-12T12:45:59.379+0000</td></tr><tr><td>partition-1</td><td>eyJpbmRleCI6OTU0NiwidW5pcXVlX2lkIjoiZWZkNWIyZDYtMmY2OS00MGNkLWJiNTktNDFmMThjMDg5ZTUyIiwidGl0bGUiOiIyMCBBbWF6aW5nIFRyaXBzIHRvIFRha2UgaW4gWW91ciBUd2VudGllcyEiLCJkZXNjcmlwdGk= (truncated)</td><td>streaming-0affec486183-pin</td><td>shardId-000000000000</td><td>49654776698500171106604178424402653828710569448942075906</td><td>2024-08-12T12:46:02.503+0000</td></tr><tr><td>partition-1</td><td>eyJpbmRleCI6MjQxMSwidW5pcXVlX2lkIjoiNGUxMTgwMWUtN2E2NC00ZjFlLTkwZGQtZTkwMDY3NzU5NWM1IiwidGl0bGUiOiJUaGUgU3dlZXRlc3QgR2luZ2VyYnJlYWQgSG91c2UgT3JuYW1lbnRzIEtpZHMgQ2FuIE1ha2U= (truncated)</td><td>streaming-0affec486183-pin</td><td>shardId-000000000000</td><td>49654776698500171106604178431104938572654073730952069122</td><td>2024-08-12T12:46:04.107+0000</td></tr><tr><td>partition-1</td><td>eyJpbmRleCI6OTU5MCwidW5pcXVlX2lkIjoiYjg0OWU5NzYtNTJmNi00NWQ3LThiMjUtNTE1NTkzMThmMTY3IiwidGl0bGUiOiJUb3AgMjAgVGhpbmdzIFRvIFNlZSBBbmQgRG8gSW4gSXJlbGFuZCIsImRlc2NyaXB0aW9uIjo= (truncated)</td><td>streaming-0affec486183-pin</td><td>shardId-000000000000</td><td>49654776698500171106604178433746441488512038477685063682</td><td>2024-08-12T12:46:04.716+0000</td></tr><tr><td>partition-1</td><td>eyJpbmRleCI6MjY5OCwidW5pcXVlX2lkIjoiNzNmMTYzMDItNDg3MS00ODZhLTg4MzYtOTQ3NTMwNTI2MzM3IiwidGl0bGUiOiJESVkgRG9sbGFyIFRyZWUgVmFsZW50aW5lJ3MgRGF5IFdyZWF0aCIsImRlc2NyaXB0aW9uIjo= (truncated)</td><td>streaming-0affec486183-pin</td><td>shardId-000000000000</td><td>49654776698500171106604178441149903207832027612305162242</td><td>2024-08-12T12:46:06.337+0000</td></tr><tr><td>partition-1</td><td>eyJpbmRleCI6NDUwOCwidW5pcXVlX2lkIjoiOTA2NGY0YTItMjc1My00NzZjLTgxNWUtZGIzNjBmNDVhOTNlIiwidGl0bGUiOiJDdXN0b20gRXZlbnQgYW5kIFNob3AgTmVvbiBTaWduIExpZ2h0cyAtIEV2ZW50ICYgU2hvcCI= (truncated)</td><td>streaming-0affec486183-pin</td><td>shardId-000000000000</td><td>49654776698500171106604178444255633638422010030844805122</td><td>2024-08-12T12:46:06.932+0000</td></tr><tr><td>partition-1</td><td>eyJpbmRleCI6ODMxLCJ1bmlxdWVfaWQiOiI1ZTY1OTE0ZC05ZjU4LTRmZjEtOTY3Ni02NThlNDI2ZThjZTUiLCJ0aXRsZSI6ImNyZWF0aW5nIG1peGVkLW1lZGlhIGZhY2VzIHR1dG9yaWFsIiwiZGVzY3JpcHRpb24iOiJGcmU= (truncated)</td><td>streaming-0affec486183-pin</td><td>shardId-000000000000</td><td>49654776698500171106604178447142548495661744500043153410</td><td>2024-08-12T12:46:07.606+0000</td></tr><tr><td>partition-1</td><td>eyJpbmRleCI6NTA3NiwidW5pcXVlX2lkIjoiZmEzYWYyOWMtZGM3OC00ZWVkLWE0YzUtNTJhNDA3ZWEwNGMwIiwidGl0bGUiOiJRdWl6OiBUZXN0IFlvdXIgRXZlbnQgSVEhIC0gUG9pbnRlcnMgRm9yIFBsYW5uZXJzIiwiZGU= (truncated)</td><td>streaming-0affec486183-pin</td><td>shardId-000000000000</td><td>49654776698500171106604178449583369725463680941213876226</td><td>2024-08-12T12:46:08.202+0000</td></tr><tr><td>partition-1</td><td>eyJpbmRleCI6MTA2NjMsInVuaXF1ZV9pZCI6ImQ1MjA4YzE2LTgyYWUtNGZkMS04N2YwLTM2ZTVlZjc4OTQxMiIsInRpdGxlIjoiMjErIENsYXNzaWMgQ2FyIFBpY3R1cmUgb2YgdGhlIDE5NTBzIC0gVmludGFnZXRvcGlhIiw= (truncated)</td><td>streaming-0affec486183-pin</td><td>shardId-000000000000</td><td>49654776698500171106604178452221245863862801869142228994</td><td>2024-08-12T12:46:08.824+0000</td></tr><tr><td>partition-1</td><td>eyJpbmRleCI6NTQ2OCwidW5pcXVlX2lkIjoiOTFlZTQ5ZjYtMDA3MC00MjcwLWJhMTktZmRlODhiYTUxYzkxIiwidGl0bGUiOiJCdWRnZXRzLCBTcG91c2VzICYgTWFraW5nIEl0IFdvcmshIC0gVHNoYW5pbmEgUGV0ZXJzb24= (truncated)</td><td>streaming-0affec486183-pin</td><td>shardId-000000000000</td><td>49654776698500171106604178460565251870842972501683732482</td><td>2024-08-12T12:46:10.465+0000</td></tr><tr><td>partition-1</td><td>eyJpbmRleCI6MjA1LCJ1bmlxdWVfaWQiOiJmNGFmZDU0My1iOWZlLTQ0YzMtODA2NC1mMjE5OGZhYTEzNzIiLCJ0aXRsZSI6IkRJWSBBYnN0cmFjdCBIZWFydCBQYWludGluZyBhbmQgYSBGdW4gUGFpbnQgUGFydHkiLCJkZXM= (truncated)</td><td>streaming-0affec486183-pin</td><td>shardId-000000000000</td><td>49654776698500171106604178469679343624917661918513070082</td><td>2024-08-12T12:46:12.062+0000</td></tr><tr><td>partition-1</td><td>eyJpbmRleCI6Nzc5MCwidW5pcXVlX2lkIjoiOWNkODlmYjktZDFhZi00ZTY2LTg1Y2EtYzlkNjU2YzkxOGI0IiwidGl0bGUiOiI1MCBIZWFydCBUb3VjaGluZyBTYWQgUXVvdGVzIFRoYXQgV2lsbCBNYWtlIFlvdSBDcnkiLCI= (truncated)</td><td>streaming-0affec486183-pin</td><td>shardId-000000000000</td><td>49654776698500171106604178472216878920288768624940810242</td><td>2024-08-12T12:46:12.675+0000</td></tr><tr><td>partition-1</td><td>eyJpbmRleCI6ODYwNiwidW5pcXVlX2lkIjoiNzE3NTcwNDAtYmZjOC00NjMxLTljYWMtMjI4MDFlNjFkOWUzIiwidGl0bGUiOiIzMCsgRWFnbGUgVGF0dG9vcyBJZGVhcyBmb3IgV29tZW4iLCJkZXNjcmlwdGlvbiI6InN1bW0= (truncated)</td><td>streaming-0affec486183-pin</td><td>shardId-000000000000</td><td>49654776698500171106604178475111047332446190869187395586</td><td>2024-08-12T12:46:13.309+0000</td></tr><tr><td>partition-1</td><td>eyJpbmRleCI6OTc1OSwidW5pcXVlX2lkIjoiZDEwNWViNmUtMGY5Zi00NmU3LThkMDItZDI0YjYyZjZhZTkwIiwidGl0bGUiOiI4IEJlc3QgR3JlZWsgSXNsYW5kcyBZb3UgSGF2ZSBUbyBWaXNpdCAtIFRoZUZhYjIwcyIsImQ= (truncated)</td><td>streaming-0affec486183-pin</td><td>shardId-000000000000</td><td>49654776698500171106604178479255245042085139817519120386</td><td>2024-08-12T12:46:13.960+0000</td></tr><tr><td>partition-1</td><td>eyJpbmRleCI6NzE5LCJ1bmlxdWVfaWQiOiJkN2M1M2UzNC05NTQwLTRmNDgtYTMxYi04OWI2ZWQxODUyYmIiLCJ0aXRsZSI6IjEwIEFydCBTdWIgTGVzc29ucyB0aGF0IG9ubHkgbmVlZCBhIFBlbmNpbCIsImRlc2NyaXB0aW8= (truncated)</td><td>streaming-0affec486183-pin</td><td>shardId-000000000000</td><td>49654776698500171106604178496904353082639111276493537282</td><td>2024-08-12T12:46:16.321+0000</td></tr><tr><td>partition-1</td><td>eyJpbmRleCI6MTcwNCwidW5pcXVlX2lkIjoiNWZiZjk4NjMtZmI3OS00NzdjLWE1YjYtNTQwYzMwMjBhNTVmIiwidGl0bGUiOiJDaHJpc3RtYXMgVHJlZXMgRnJvbSBQYWxsZXQgV29vZCB8IEhvbGlkYXkgRElZIiwiZGVzY3I= (truncated)</td><td>streaming-0affec486183-pin</td><td>shardId-000000000000</td><td>49654776698500171106604178511702814040541787278949744642</td><td>2024-08-12T12:46:19.614+0000</td></tr><tr><td>partition-1</td><td>eyJpbmRleCI6MjQ4MiwidW5pcXVlX2lkIjoiMDg2MDRmMjAtZmExNy00YjlhLTk5NDktNzgxNzE3ZWNhNmNkIiwidGl0bGUiOiJGT1JOVCBQT1JDSCBDSFJJU1RNQVMgREVDT1JBVElORyBJREVBUyIsImRlc2NyaXB0aW9uIjo= (truncated)</td><td>streaming-0affec486183-pin</td><td>shardId-000000000000</td><td>49654776698500171106604178524533143764111846847545344002</td><td>2024-08-12T12:46:22.701+0000</td></tr><tr><td>partition-1</td><td>eyJpbmRleCI6ODkzMCwidW5pcXVlX2lkIjoiYTI5OTljMjgtZjdiMi00NTc3LWFmODctNDlkMjFkNmQ4YTE4IiwidGl0bGUiOiIxMzUgU3VuZmxvd2VyIFRhdHRvbyBJZGVhcyAtIFtCZXN0IFJhdGVkIERlc2lnbnMgaW4gMjA= (truncated)</td><td>streaming-0affec486183-pin</td><td>shardId-000000000000</td><td>49654776698500171106604178531334560425263750653161766914</td><td>2024-08-12T12:46:24.379+0000</td></tr><tr><td>partition-1</td><td>eyJpbmRleCI6NzI5NCwidW5pcXVlX2lkIjoiOWQ4NDA5ZWYtYmVhNy00MTMzLWEwMjEtYzU4YjljMDQyMjEwIiwidGl0bGUiOiJGb29scHJvb2YgRmFsbCBGYXNoaW9uIEZvciBNZW4gWW91J2xsIExvdmUiLCJkZXNjcmlwdGk= (truncated)</td><td>streaming-0affec486183-pin</td><td>shardId-000000000000</td><td>49654776698500171106604178533342586211643649781068201986</td><td>2024-08-12T12:46:24.994+0000</td></tr><tr><td>partition-1</td><td>eyJpbmRleCI6ODA4LCJ1bmlxdWVfaWQiOiIyM2Y2N2U0Mi1kYjlmLTRhYWUtOGI4Mi1jYmVjNjRhZDlmNGQiLCJ0aXRsZSI6IkNoYWxrIFBhc3RlbCBIb3QgQ2hvY29sYXRlIEFydCBQcm9qZWN0IiwiZGVzY3JpcHRpb24iOiI= (truncated)</td><td>streaming-0affec486183-pin</td><td>shardId-000000000000</td><td>49654776698500171106604178536671967918862338528209010690</td><td>2024-08-12T12:46:25.664+0000</td></tr><tr><td>partition-1</td><td>eyJpbmRleCI6NzcxLCJ1bmlxdWVfaWQiOiJhNTAyMTc2Ni1hOGFhLTRkYzctOTg1Ny00ZGE2YjhlM2RjMWEiLCJ0aXRsZSI6IkFmcmljYW4gU3Vuc2V0IFNoYWRvdyBUcmFjaW5nIEFydCAtIFRhbWluZyBMaXR0bGUgTW9uc3Q= (truncated)</td><td>streaming-0affec486183-pin</td><td>shardId-000000000000</td><td>49654776698500171106604178544387332499642902127342256130</td><td>2024-08-12T12:46:27.736+0000</td></tr><tr><td>partition-1</td><td>eyJpbmRleCI6NDA3NiwidW5pcXVlX2lkIjoiM2E1MmQzNjQtN2MwNC00N2NiLWEzZTUtNTZkOWUyYjc3NTI4IiwidGl0bGUiOiJQaG9uaWNzIEFjdGl2aXRpZXMgWW91ciBLaWRzIFdpbGwgTG92ZSAtIFRoZSBMaXRlcmFjeSA= (truncated)</td><td>streaming-0affec486183-pin</td><td>shardId-000000000000</td><td>49654776698500171106604178550485154333779091821999161346</td><td>2024-08-12T12:46:29.391+0000</td></tr><tr><td>partition-1</td><td>eyJpbmRleCI6MTU0NSwidW5pcXVlX2lkIjoiMGM2Mjk1NDEtY2M1Yi00YjYxLWJkM2YtNjEzMzQ2ODkzMjU4IiwidGl0bGUiOiJPaWwgQ2xlYW5zaW5nIE1ldGhvZDogV2hhdCBpdCBpcyBhbmQgd2h5IHlvdSBzaG91bGQgZG8= (truncated)</td><td>streaming-0affec486183-pin</td><td>shardId-000000000000</td><td>49654776698500171106604178552650340476708892673897922562</td><td>2024-08-12T12:46:30.021+0000</td></tr><tr><td>partition-1</td><td>eyJpbmRleCI6MjI5MywidW5pcXVlX2lkIjoiMWZkN2Q0Y2MtNTRjMS00NTQyLTljMWYtNDQ5Y2I0Yzg3NWY0IiwidGl0bGUiOiJPdmVyIDQwIG9mIHRoZSBCRVNUIEhvbWVtYWRlIENocmlzdG1hcyBPcm5hbWVudCBJZGVhcyI= (truncated)</td><td>streaming-0affec486183-pin</td><td>shardId-000000000000</td><td>49654776698500171106604178555694415690498529004527550466</td><td>2024-08-12T12:46:30.853+0000</td></tr><tr><td>partition-1</td><td>eyJpbmRleCI6MTA1MDksInVuaXF1ZV9pZCI6IjZhNWYwZTdlLTEzODktNGU1NC05NDJmLTRjYjY5ZjA5ZjE0MCIsInRpdGxlIjoiRmx5aW5nIENhciIsImRlc2NyaXB0aW9uIjoiTm8gZGVzY3JpcHRpb24gYXZhaWxhYmxlIFM= (truncated)</td><td>streaming-0affec486183-pin</td><td>shardId-000000000000</td><td>49654776698500171106604178559915984652592814220040470530</td><td>2024-08-12T12:46:31.780+0000</td></tr><tr><td>partition-1</td><td>eyJpbmRleCI6MjAxNSwidW5pcXVlX2lkIjoiNzIzNTkxNjQtNDQxOS00NTJjLTgxY2ItNzRmMzBhNWEyNmI3IiwidGl0bGUiOiIxNiBCbGlzc2Z1bCBDaHJpc3RtYXMgVGFibGUgRGVjb3IgSWRlYXMgVGhhdCBZb3UgTXVzdCA= (truncated)</td><td>streaming-0affec486183-pin</td><td>shardId-000000000000</td><td>49654776698500171106604178567217896603065174503985250306</td><td>2024-08-12T12:46:33.196+0000</td></tr><tr><td>partition-1</td><td>eyJpbmRleCI6MTA5NCwidW5pcXVlX2lkIjoiNmRlYWNkY2QtNzVlZC00ZGQ4LTg5NTEtOWI3NzQ1M2YzOGUwIiwidGl0bGUiOiI5IGNvbG9ycyBsYXp5IGxpcHN0aWNrIC0gOSBjb2xvcnMgbGF6eSBsaXBzdGljazQiLCJkZXM= (truncated)</td><td>streaming-0affec486183-pin</td><td>shardId-000000000000</td><td>49654776698500171106604178578686975853749161621861695490</td><td>2024-08-12T12:46:35.591+0000</td></tr><tr><td>partition-1</td><td>eyJpbmRleCI6NjAzLCJ1bmlxdWVfaWQiOiI3OGUyMWE2NC01M2IwLTQ3NDUtODI5NC1lOGM0NTZmMGNjYzEiLCJ0aXRsZSI6IkhvdyB0byBDcmVhdGUgQWxjb2hvbCBJbmsgUmluZ3MgRm9yIEdvcmdlb3VzIFBpZWNlcyBvZiA= (truncated)</td><td>streaming-0affec486183-pin</td><td>shardId-000000000000</td><td>49654776698500171106604178587433554158661003769580355586</td><td>2024-08-12T12:46:37.190+0000</td></tr><tr><td>partition-1</td><td>eyJpbmRleCI6Nzc2OCwidW5pcXVlX2lkIjoiYWUxYTYxZjYtZDk1OC00MGZlLWJhOTMtNmE3OGIzYTczMTc4IiwidGl0bGUiOiIxNiBNb3RpdmF0aW9uYWwgUXVvdGVzIEdldCBZb3UgSW5zcGlyZWQgVG9kYXkgLSBCb3NzIEI= (truncated)</td><td>streaming-0affec486183-pin</td><td>shardId-000000000000</td><td>49654776698500171106604178600097052119124244580785979394</td><td>2024-08-12T12:46:38.840+0000</td></tr><tr><td>partition-1</td><td>eyJpbmRleCI6NTYzMCwidW5pcXVlX2lkIjoiZDQxZTcwM2MtYzk3Yy00YzVhLTlmOWMtMzM4OTgyY2E3NTA0IiwidGl0bGUiOiI3IEluc2FuZWx5IFVzZWZ1bCBNb25leSBNYW5hZ2VtZW50IFdvcmtzaGVldHMiLCJkZXNjcmk= (truncated)</td><td>streaming-0affec486183-pin</td><td>shardId-000000000000</td><td>49654776698500171106604178609506121773184903516243623938</td><td>2024-08-12T12:46:40.563+0000</td></tr><tr><td>partition-1</td><td>eyJpbmRleCI6ODU3OCwidW5pcXVlX2lkIjoiMDM2ZWMyNjctNjU4Yi00ZGFkLWEwOTctOGVmMGI0ZjMwYzBkIiwidGl0bGUiOiJTbmFrZSBDb2xsYXJib25lIFRlbXBvcmFyeSBUYXR0b28uIEhhbGxvd2VlbiBUYXR0b29zICA= (truncated)</td><td>streaming-0affec486183-pin</td><td>shardId-000000000000</td><td>49654776698500171106604178615711538005266795138729902082</td><td>2024-08-12T12:46:42.220+0000</td></tr><tr><td>partition-1</td><td>eyJpbmRleCI6OTkzNiwidW5pcXVlX2lkIjoiMWYzMTU0YTYtMTNmMC00MDQ5LThkNWMtZmFlYTE1YjlmMDdjIiwidGl0bGUiOiJDaGFzaW5nIFdhdGVyZmFsbHMgaW4gQ29zdGEgUmljYSIsImRlc2NyaXB0aW9uIjoiVm9sY2E= (truncated)</td><td>streaming-0affec486183-pin</td><td>shardId-000000000000</td><td>49654776698500171106604178618117300386299907265114669058</td><td>2024-08-12T12:46:42.840+0000</td></tr><tr><td>partition-1</td><td>eyJpbmRleCI6Njg0NCwidW5pcXVlX2lkIjoiNjljM2YyNjgtMjc0Zi00NGJkLTljYjQtNDI3ZTY0ZmVmYzQ0IiwidGl0bGUiOiLimZR0aGUtZmFzaG1hbuKZlCIsImRlc2NyaXB0aW9uIjoiYmlsbHktZ2VvcmdlOiDigJxTdW0= (truncated)</td><td>streaming-0affec486183-pin</td><td>shardId-000000000000</td><td>49654776698500171106604178626467351022378151180968656898</td><td>2024-08-12T12:46:45.239+0000</td></tr><tr><td>partition-1</td><td>eyJpbmRleCI6MzQxOSwidW5pcXVlX2lkIjoiZDBiODAxODctMDE3MS00OWIyLThlZTQtNTcyOTg0MjQ0ZjY1IiwidGl0bGUiOiJFYXN5IENocmlzdG1hcyBUcmVlIENyYWZ0cyBJZGVhcyBmb3IgdG9kZGxlcnMgYW5kIHByZXM= (truncated)</td><td>streaming-0affec486183-pin</td><td>shardId-000000000000</td><td>49654776698500171106604178629177762709954149790659903490</td><td>2024-08-12T12:46:45.904+0000</td></tr><tr><td>partition-1</td><td>eyJpbmRleCI6MTI2OCwidW5pcXVlX2lkIjoiZTJmMmNlYzUtY2RhNS00MmIyLWFiOWQtNmRkZGY4NjNlOTRlIiwidGl0bGUiOiJKYW5ldCBvbiBUd2l0dGVyIiwiZGVzY3JpcHRpb24iOiJIZXJl4oCZcyBob3cgdG8gZ2V0IGw= (truncated)</td><td>streaming-0affec486183-pin</td><td>shardId-000000000000</td><td>49654776698500171106604178640687945438505034369195835394</td><td>2024-08-12T12:46:48.254+0000</td></tr><tr><td>partition-1</td><td>eyJpbmRleCI6NjU2NiwidW5pcXVlX2lkIjoiNmQ4ODQ4ZjgtZjUxNS00OTM1LThkYWUtNWRkMDIzMDRkNzZlIiwidGl0bGUiOiJOYXZ5IGFuZCBOZXV0cmFsIEZhbGwgTGl2aW5nIFJvb20gKyBLaXRjaGVuIFRvdXIgLSBTYW4= (truncated)</td><td>streaming-0affec486183-pin</td><td>shardId-000000000000</td><td>49654776698500171106604178651463101268730224272071458818</td><td>2024-08-12T12:46:49.922+0000</td></tr><tr><td>partition-1</td><td>eyJpbmRleCI6MTU1NSwidW5pcXVlX2lkIjoiMWYyMDU1MWItYTIxYy00ZmYwLWIyMGQtNDllOTVmZGM1MGQzIiwidGl0bGUiOiJTa2luIFB1cmdpbmc6IERpZSBQZmxlZ2VtZXRob2RlIGbDvHIgcmVpbmUgSGF1dCB8IEVMTEU= (truncated)</td><td>streaming-0affec486183-pin</td><td>shardId-000000000000</td><td>49654776698500171106604178659584664924901303205186502658</td><td>2024-08-12T12:46:51.562+0000</td></tr><tr><td>partition-1</td><td>eyJpbmRleCI6MzcyOSwidW5pcXVlX2lkIjoiYWM5MGYxZDItZGM5ZS00MzhjLWIwNzMtZGQ0ODUxMWI4MGIwIiwidGl0bGUiOiI1ICsgTmF0dXJlIEdhbWVzIGZvciBZb3VyIEhvbWVzY2hvb2wiLCJkZXNjcmlwdGlvbiI6Ik8= (truncated)</td><td>streaming-0affec486183-pin</td><td>shardId-000000000000</td><td>49654776698500171106604178662663798987459763781882609666</td><td>2024-08-12T12:46:52.292+0000</td></tr><tr><td>partition-1</td><td>eyJpbmRleCI6NjM5OCwidW5pcXVlX2lkIjoiZWE0NGQzMTgtMmNlZC00Y2Y4LWE2NmYtYTZhMDM2Yjg0ZmFhIiwidGl0bGUiOiJNeSBtYXN0ZXIgYmF0aHJvb20gbWFrZW92ZXIgd2l0aCBAZmxvb3JhbmRkZWNvciAhIEZvbGw= (truncated)</td><td>streaming-0affec486183-pin</td><td>shardId-000000000000</td><td>49654776698500171106604178664932952750876422742806102018</td><td>2024-08-12T12:46:52.902+0000</td></tr><tr><td>partition-1</td><td>eyJpbmRleCI6NDYsInVuaXF1ZV9pZCI6IjE5MjM0MDczLTg5MDUtNDg4NS1iMGQ1LTk4ZTBiODRjYmYyNyIsInRpdGxlIjoiMTAgV2F0ZXJjb2xvciBIYWNrcyBGb3IgQmVnaW5uZXJzIHwgVGlwcyBhbmQgVHJpY2tzIHRvIE0= (truncated)</td><td>streaming-0affec486183-pin</td><td>shardId-000000000000</td><td>49654776698500171106604178673215303541056247356157067266</td><td>2024-08-12T12:46:54.501+0000</td></tr><tr><td>partition-1</td><td>eyJpbmRleCI6NDk4OCwidW5pcXVlX2lkIjoiZmJkZmQzNTUtYTM1Ni00NmMyLWEyNTEtMzAxODY5YWUyNjc0IiwidGl0bGUiOiJGdW4gQm9vayBQYWdlIENyYWZ0cyAtIE1vbUFkdmljZSIsImRlc2NyaXB0aW9uIjoiRnVuIEI= (truncated)</td><td>streaming-0affec486183-pin</td><td>shardId-000000000000</td><td>49654776698500171106604178681214765689446248673907310594</td><td>2024-08-12T12:46:56.171+0000</td></tr><tr><td>partition-1</td><td>eyJpbmRleCI6NDI3LCJ1bmlxdWVfaWQiOiI0YTQ1NTM0MC0wOWEyLTQzNzAtYWQ4Ni03M2Q3OTY0NjAzZGIiLCJ0aXRsZSI6IkRJWSBBY3J5bGljIFBhaW50IFBvdXJpbmcgV2FsbCBBcnQgLSBBYmJvdHRzIEF0IEhvbWUiLCI= (truncated)</td><td>streaming-0affec486183-pin</td><td>shardId-000000000000</td><td>49654776698500171106604178684840334222470521706290085890</td><td>2024-08-12T12:46:56.902+0000</td></tr><tr><td>partition-1</td><td>eyJpbmRleCI6MzgwMCwidW5pcXVlX2lkIjoiZDJjMzY3ZWQtOTI4Ny00ZWEzLWIxNzMtMTk4YjI5MmQ5OTgxIiwidGl0bGUiOiJSZWluZm9yY2luZyB0aGUgRGlmZmljdWx0IENoaWxkIFdoZW4gVG9rZW4gQm9hcmRzIERvbic= (truncated)</td><td>streaming-0affec486183-pin</td><td>shardId-000000000000</td><td>49654776698500171106604178704102149306390408553042018306</td><td>2024-08-12T12:47:00.603+0000</td></tr><tr><td>partition-1</td><td>eyJpbmRleCI6MTU5LCJ1bmlxdWVfaWQiOiI4NDFhMTYxYS00N2I4LTQxNjEtODg0ZC1hZGViNjdhMjhiMWUiLCJ0aXRsZSI6IlZhbGVudGluZSdzIERheSBCZWUgRGlyZWN0ZWQgRHJhd2luZyB7QXJ0IFByb2plY3R9IiwiZGU= (truncated)</td><td>streaming-0affec486183-pin</td><td>shardId-000000000000</td><td>49654776698500171106604178712722999326062329266591236098</td><td>2024-08-12T12:47:02.300+0000</td></tr><tr><td>partition-1</td><td>eyJpbmRleCI6MzU5OSwidW5pcXVlX2lkIjoiZmYwZGQ5NDUtZGFmYS00MTFjLThjZWYtZWI0M2UzNzRlODE1IiwidGl0bGUiOiJFZHVjYXRpb25hbCBMZWFkZXJzaGlwIGluIEFvdGVhcm9hIE5ldyBaZWFsYW5kIDogSXNzdWU= (truncated)</td><td>streaming-0affec486183-pin</td><td>shardId-000000000000</td><td>49654776698500171106604178717163383861506862362725974018</td><td>2024-08-12T12:47:02.938+0000</td></tr><tr><td>partition-1</td><td>eyJpbmRleCI6MTA1NTIsInVuaXF1ZV9pZCI6IjE3MzAxYjhjLWNjYmItNDJhZC1iMmRmLTM4NzZkZjM1YjFjZCIsInRpdGxlIjoiVGhlIFByb3dsZXIgRW1lcmdlbmN5IFJlc3BvbnNlIFZlaGljbGUiLCJkZXNjcmlwdGlvbiI= (truncated)</td><td>streaming-0affec486183-pin</td><td>shardId-000000000000</td><td>49654776698500171106604178732131094434155586312202092546</td><td>2024-08-12T12:47:05.528+0000</td></tr><tr><td>partition-1</td><td>eyJpbmRleCI6MTQyMiwidW5pcXVlX2lkIjoiN2JiZTg2MGMtYTczOS00YmE5LWJhYmQtZmViMjRiYjZlNGQ5IiwidGl0bGUiOiI0MSBMaWZlLVNhdmluZyBCZWF1dHkgSGFja3MgRXZlcnkgR2lybCBTaG91bGQgSGF2ZSBJbiA= (truncated)</td><td>streaming-0affec486183-pin</td><td>shardId-000000000000</td><td>49654776698500171106604178736167697745848833126546014210</td><td>2024-08-12T12:47:06.155+0000</td></tr><tr><td>partition-1</td><td>eyJpbmRleCI6NTMwOSwidW5pcXVlX2lkIjoiYzM4YmI0N2ItOTU4NC00ZmM0LWFmMGQtYTMxZTEwNjFkZjQxIiwidGl0bGUiOiJIb3cgdG8gV2F0Y2ggWW91ciBGYXZvcml0ZSBTaG93cyBXaXRob3V0IENhYmxlIiwiZGVzY3I= (truncated)</td><td>streaming-0affec486183-pin</td><td>shardId-000000000000</td><td>49654776698500171106604178744797010246258056381757128706</td><td>2024-08-12T12:47:07.811+0000</td></tr><tr><td>partition-1</td><td>eyJpbmRleCI6NTUyLCJ1bmlxdWVfaWQiOiJiODI2MDJhOS1lNDM0LTQyY2YtOTQ4MS0yMmYzZjQxZDgyY2UiLCJ0aXRsZSI6IlRoZSBoZXJiYWwgYmVkOiBLYXRpZSBTY290dCdzIHBzeWNoZWRlbGljIGZsb3JhIGFuZCBmYXU= (truncated)</td><td>streaming-0affec486183-pin</td><td>shardId-000000000000</td><td>49654776698500171106604178754695694857262640132970774530</td><td>2024-08-12T12:47:09.402+0000</td></tr><tr><td>partition-1</td><td>eyJpbmRleCI6MTM3MSwidW5pcXVlX2lkIjoiMzNlOTJhYzEtNzNkMS00YzMxLTk4OTItZDVlNjMzMDYwNzkwIiwidGl0bGUiOiJIb3cgVG8gRG8gTWFrZXVwIC0gU3RlcCBCeSBTdGVwIFRpcHMgRm9yIFRoZSBQZXJmZWN0IEw= (truncated)</td><td>streaming-0affec486183-pin</td><td>shardId-000000000000</td><td>49654776698500171106604178757994853418990963219463405570</td><td>2024-08-12T12:47:10.001+0000</td></tr><tr><td>partition-1</td><td>eyJpbmRleCI6MTAxMTksInVuaXF1ZV9pZCI6IjQwZWFiOWJhLTc4MTItNGYyNi1iYWNhLTM1YTZiZWQ5NWE5ZiIsInRpdGxlIjoiSG93IHRvIEFmZm9yZCBGYW1pbHkgVHJhdmVsOiAxMCBNaXN0YWtlcyBZb3UncmUgTWFraW4= (truncated)</td><td>streaming-0affec486183-pin</td><td>shardId-000000000000</td><td>49654776698500171106604178761258953131950461991170080770</td><td>2024-08-12T12:47:10.699+0000</td></tr><tr><td>partition-1</td><td>eyJpbmRleCI6OTA3NCwidW5pcXVlX2lkIjoiMmFkZWRlMDYtN2ZiMC00YjVmLThjZjktY2U4ZTZkNmZhNmExIiwidGl0bGUiOiI3NyBEaXNuZXkgVGF0dG9vcyBUbyBVbmxlYXNoIFlvdXIgTWFnaWMgUG93ZXIgLSBPdXIgTWk= (truncated)</td><td>streaming-0affec486183-pin</td><td>shardId-000000000000</td><td>49654776698500171106604178769621093026224852061332176898</td><td>2024-08-12T12:47:12.341+0000</td></tr><tr><td>partition-1</td><td>eyJpbmRleCI6MjYwNCwidW5pcXVlX2lkIjoiMDg3YjBmYTktZjkwMS00MjYyLWFhMGEtNmNhZjIzNGQxYjM1IiwidGl0bGUiOiI3NSsgTmV1dHJhbCBDaHJpc3RtYXMgSG9tZSBEZWNvciBmb3IgdGhlIEhvbGlkYXkgU2Vhc28= (truncated)</td><td>streaming-0affec486183-pin</td><td>shardId-000000000000</td><td>49654776698500171106604178772237208499870909664115818498</td><td>2024-08-12T12:47:12.971+0000</td></tr><tr><td>partition-1</td><td>eyJpbmRleCI6MjIzLCJ1bmlxdWVfaWQiOiI4NjcyZjk5Ni02Y2U5LTQwM2UtOTU5OS0yYzRkZjY2OGYxZTAiLCJ0aXRsZSI6IkVhc3kgR291YWNoZSBwYWludGluZyIsImRlc2NyaXB0aW9uIjoiTm8gZGVzY3JpcHRpb24gYXY= (truncated)</td><td>streaming-0affec486183-pin</td><td>shardId-000000000000</td><td>49654776698500171106604178780758926602334430854058606594</td><td>2024-08-12T12:47:14.900+0000</td></tr><tr><td>partition-1</td><td>eyJpbmRleCI6ODMxMiwidW5pcXVlX2lkIjoiY2EzYzliYjAtNzI4MS00YjliLThhYmYtMjAxZGEwYjY4ZDYyIiwidGl0bGUiOiI4IFZpc2lvbiBCb2FyZCBJZGVhcyBUbyBNYW5pZmVzdCBZb3VyIERyZWFtcyAtIFRoZUZhYjI= (truncated)</td><td>streaming-0affec486183-pin</td><td>shardId-000000000000</td><td>49654776698500171106604178788030615407316425477355208706</td><td>2024-08-12T12:47:16.525+0000</td></tr><tr><td>partition-1</td><td>eyJpbmRleCI6Mjg1OCwidW5pcXVlX2lkIjoiMjZmODFkYTQtMjZhOS00NjViLWI4MTktNjA5OWJjNjZlMWMwIiwidGl0bGUiOiI1MCBQb3B1bGFyIFNwcmluZyBDcmFmdHMgRm9yIEtpZHMgWW91IE5lZWQgVG8gTWFrZSIsImQ= (truncated)</td><td>streaming-0affec486183-pin</td><td>shardId-000000000000</td><td>49654776698500171106604178796268235942170508742522568706</td><td>2024-08-12T12:47:18.183+0000</td></tr><tr><td>partition-1</td><td>eyJpbmRleCI6NjI2MSwidW5pcXVlX2lkIjoiMzA4YzVjMWMtMWViZC00NjQ5LWJlNzgtMTQ0MjRlZTM0NmIxIiwidGl0bGUiOiJERUNPUkFUSU5HIFdJVEggUkFUVEFOICYgQ0FORSAtIERhc2hpbmcgRGFybGluJyIsImRlc2M= (truncated)</td><td>streaming-0affec486183-pin</td><td>shardId-000000000000</td><td>49654776698500171106604178803601579963952849453729185794</td><td>2024-08-12T12:47:19.850+0000</td></tr><tr><td>partition-1</td><td>eyJpbmRleCI6MzIwMSwidW5pcXVlX2lkIjoiNjM3MGYwOTYtZjM0NC00OWMzLWE2YjEtMzA3MmM1MzdhOTUzIiwidGl0bGUiOiJESVkgUG9tIFBvbSBMZXR0ZXJzIGZvciBNT00hIiwiZGVzY3JpcHRpb24iOiJNYXJsYSBNZXI= (truncated)</td><td>streaming-0affec486183-pin</td><td>shardId-000000000000</td><td>49654776698500171106604178810435637622234348315782152194</td><td>2024-08-12T12:47:21.441+0000</td></tr><tr><td>partition-1</td><td>eyJpbmRleCI6MjYzNywidW5pcXVlX2lkIjoiYjE4ZThkMzgtZWI0NS00MGMwLWI0NDMtNGZjYTI1MGRmODUwIiwidGl0bGUiOiJNYXJjbyBCb2hvIiwiZGVzY3JpcHRpb24iOiJObyBkZXNjcmlwdGlvbiBhdmFpbGFibGUgU3Q= (truncated)</td><td>streaming-0affec486183-pin</td><td>shardId-000000000000</td><td>49654776698500171106604178813120661867598439781524045826</td><td>2024-08-12T12:47:22.040+0000</td></tr><tr><td>partition-1</td><td>eyJpbmRleCI6MTE5OCwidW5pcXVlX2lkIjoiMWE5MGNhYWMtZjVkZi00YTI3LTgyMWItMGZiNGJlNjc4NTQyIiwidGl0bGUiOiJUaGUgRW5kIG9mIHRoZSBTa2luLUNhcmUgQ3JhemUiLCJkZXNjcmlwdGlvbiI6IkluIHRoZSA= (truncated)</td><td>streaming-0affec486183-pin</td><td>shardId-000000000000</td><td>49654776698500171106604178825304216277674672741651841026</td><td>2024-08-12T12:47:24.651+0000</td></tr><tr><td>partition-1</td><td>eyJpbmRleCI6MTAzNzAsInVuaXF1ZV9pZCI6Ijc0Njk0OGU3LWEyMTYtNDU2Yi04ZGU3LTdmZWU3MzEyMDEyYyIsInRpdGxlIjoiSm9zaHVhIFRyZWUgLSBBIFdlZWtlbmQgaW4gdGhlIERlc2VydCB3aXRoIEZhaXRoZnVsbCA= (truncated)</td><td>streaming-0affec486183-pin</td><td>shardId-000000000000</td><td>49654776698500171106604178832268837924474551485853597698</td><td>2024-08-12T12:47:26.324+0000</td></tr><tr><td>partition-1</td><td>eyJpbmRleCI6NzE2NywidW5pcXVlX2lkIjoiOTIyNDI1ZDItMTZkYy00NjVlLThmZTQtZTNjMDgxYTAyOTlmIiwidGl0bGUiOiJIYW1pbHRvbiBLaGFraSBBdmlhdGlvbiBQaWxvdCBDaHJvbm8gV2F0Y2ggSDc2NzEyMTUxIiw= (truncated)</td><td>streaming-0affec486183-pin</td><td>shardId-000000000000</td><td>49654776698500171106604178835989911597248380223038160898</td><td>2024-08-12T12:47:26.941+0000</td></tr><tr><td>partition-1</td><td>eyJpbmRleCI6MTA2NzMsInVuaXF1ZV9pZCI6ImVkZTczMTY5LTViOWYtNDkwNi1iMDJlLTlkYjFiZWUyMDNhNCIsInRpdGxlIjoiRGlzY292ZXIgdGhlIG5ldyBSYW5nZSBSb3ZlciBsdXh1cnkgcGVyZm9ybWFuY2UgU1VWIiw= (truncated)</td><td>streaming-0affec486183-pin</td><td>shardId-000000000000</td><td>49654776698500171106604178838716039320479369012000587778</td><td>2024-08-12T12:47:27.601+0000</td></tr><tr><td>partition-1</td><td>eyJpbmRleCI6MjA2MCwidW5pcXVlX2lkIjoiMTc3ZGRlMWEtMzQwOS00ODY1LWE1MzMtOWY1MGVmYWVkY2Q4IiwidGl0bGUiOiI1MCBESVkgRGVjb3JhdGlvbnMgZm9yIGEgSm9sbHkgQ2hyaXN0bWFzIFRhYmxlIFNldHRpbmc= (truncated)</td><td>streaming-0affec486183-pin</td><td>shardId-000000000000</td><td>49654776698500171106604178847970366469629355481815318530</td><td>2024-08-12T12:47:29.465+0000</td></tr><tr><td>partition-1</td><td>eyJpbmRleCI6OTQ4NywidW5pcXVlX2lkIjoiM2JjY2IwNWUtZjAzMS00NzdmLTljYTQtOWJlMjhlNWJkNTQyIiwidGl0bGUiOiJUaGUgQ2hlYXBlc3QgQ291bnRyaWVzIHRvIFZpc2l0IEFyb3VuZCB0aGUgV29ybGQiLCJkZXM= (truncated)</td><td>streaming-0affec486183-pin</td><td>shardId-000000000000</td><td>49654776698500171106604178851522190527657135997102063618</td><td>2024-08-12T12:47:30.122+0000</td></tr><tr><td>partition-1</td><td>eyJpbmRleCI6NzcyLCJ1bmlxdWVfaWQiOiI0OWExMjUxNi0yYzc3LTQ0NWYtYjY1Ni00YjU1YjRhNjk2MDgiLCJ0aXRsZSI6IjUgUGFzdGVsIENvbG9yIFBhbGV0dGVzIGZvciA1IEZsb3JhbCBGYXZvcml0ZXMiLCJkZXNjcmk= (truncated)</td><td>streaming-0affec486183-pin</td><td>shardId-000000000000</td><td>49654776698500171106604178853813104955826858351889743874</td><td>2024-08-12T12:47:30.721+0000</td></tr><tr><td>partition-1</td><td>eyJpbmRleCI6NzUxMCwidW5pcXVlX2lkIjoiZTA5ZmRkZGEtMWNjMi00MWM4LWI3OTktZDIzOGZlOTBiOTM3IiwidGl0bGUiOiJTZWUgdGhlIE1vc3QgU3R5bGlzaCBNZW4gb2YgTmV3IFlvcmsgRmFzaGlvbiBXZWVrIiwiZGU= (truncated)</td><td>streaming-0affec486183-pin</td><td>shardId-000000000000</td><td>49654776698500171106604178861182716752197637938337546242</td><td>2024-08-12T12:47:32.384+0000</td></tr><tr><td>partition-1</td><td>eyJpbmRleCI6NTc1OCwidW5pcXVlX2lkIjoiYWY2MDIwNzUtN2JlYS00YWEwLWFkZjQtYTFhODk5NTJlOTJlIiwidGl0bGUiOiJSb2JvdCBDaGFsbGVuZ2UgU2NyZWVuIiwiZGVzY3JpcHRpb24iOiJOZWVkIHRvIG9yZ2FuaXo= (truncated)</td><td>streaming-0affec486183-pin</td><td>shardId-000000000000</td><td>49654776698500171106604178869546065572291642706393825282</td><td>2024-08-12T12:47:34.105+0000</td></tr></tbody></table></div>"
      ]
     },
     "metadata": {
      "application/vnd.databricks.v1+output": {
       "addedWidgets": {},
       "aggData": [],
       "aggError": "",
       "aggOverflow": false,
       "aggSchema": [],
       "aggSeriesLimitReached": false,
       "aggType": "",
       "arguments": {},
       "columnCustomDisplayInfos": {},
       "data": [
        [
         "partition-1",
         "eyJpbmRleCI6NzUyOCwidW5pcXVlX2lkIjoiZmJlNTNjNjYtMzQ0Mi00NzczLWIxOWUtZDNlYzZmNTRkZGRmIiwidGl0bGUiOiJObyBUaXRsZSBEYXRhIEF2YWlsYWJsZSIsImRlc2NyaXB0aW9uIjoiTm8gZGVzY3JpcHRpb24= (truncated)",
         "streaming-0affec486183-pin",
         "shardId-000000000000",
         "49654776698500171106604173156775567464098671253650407426",
         "2024-08-12T12:21:11.473+0000"
        ],
        [
         "partition-1",
         "eyJpbmRleCI6Mjg2MywidW5pcXVlX2lkIjoiOWJmMzk0MzctNDJhNi00ZjAyLTk5YTAtOWEwMzgzZDhjZDcwIiwidGl0bGUiOiIyNSBTdXBlciBGdW4gU3VtbWVyIENyYWZ0cyBmb3IgS2lkcyAtIE9mIExpZmUgYW5kIExpc2E= (truncated)",
         "streaming-0affec486183-pin",
         "shardId-000000000000",
         "49654776698500171106604173161714029437224431569764089858",
         "2024-08-12T12:21:13.127+0000"
        ],
        [
         "partition-1",
         "eyJpbmRleCI6NTczMCwidW5pcXVlX2lkIjoiMWUxZjBjOGItOWZjZi00NjBiLTkxNTQtYzc3NTgyNzIwNmViIiwidGl0bGUiOiJJc2xhbmQgT2FzaXMgQ291cG9uIE9yZ2FuaXplciIsImRlc2NyaXB0aW9uIjoiRGVzY3JpcHQ= (truncated)",
         "streaming-0affec486183-pin",
         "shardId-000000000000",
         "49654776698500171106604173170971983363833261927102939138",
         "2024-08-12T12:21:16.233+0000"
        ],
        [
         "partition-1",
         "eyJpbmRleCI6ODMwNCwidW5pcXVlX2lkIjoiNWI2ZDA5MTMtMjVlNC00M2FiLTgzOWQtODVkNTUxNmY3OGE0IiwidGl0bGUiOiJUaGUgIzEgUmVhc29uIFlvdeKAmXJlIE5vdCBIaXMgUHJpb3JpdHkgQW55bW9yZSAtIE1hdHQ= (truncated)",
         "streaming-0affec486183-pin",
         "shardId-000000000000",
         "49654776698500171106604173179545685276540212240277569538",
         "2024-08-12T12:21:18.745+0000"
        ],
        [
         "partition-1",
         "eyJpbmRleCI6ODczMSwidW5pcXVlX2lkIjoiZWE3NjBmNzEtZmViZi00MDIzLWI1OTItZDE3Mzk2NjU5MDM5IiwidGl0bGUiOiIyMCBLb2kgRmlzaCBUYXR0b29zIEZvciBMdWNreSBNZW4iLCJkZXNjcmlwdGlvbiI6IktvaSA= (truncated)",
         "streaming-0affec486183-pin",
         "shardId-000000000000",
         "49654776698500171106604173183333249869392845513351495682",
         "2024-08-12T12:21:19.926+0000"
        ],
        [
         "partition-1",
         "eyJpbmRleCI6MTMxMywidW5pcXVlX2lkIjoiNDQ2NjIwNDUtZTg5MS00ODIxLThhMTktZWJlN2VlZGQzNzFhIiwidGl0bGUiOiJMaXF1aWQgTGFzaCBFeHRlbnNpb25zIE1hc2NhcmEiLCJkZXNjcmlwdGlvbiI6Ikluc3RhbnQ= (truncated)",
         "streaming-0affec486183-pin",
         "shardId-000000000000",
         "49654776698500171106604173185143011821355945456606117890",
         "2024-08-12T12:21:20.543+0000"
        ],
        [
         "partition-1",
         "eyJpbmRleCI6NDMxNSwidW5pcXVlX2lkIjoiMjFiNTliYTktODI5ZC00YzMzLThjMjctNGNkNGM1NmQyNmI4IiwidGl0bGUiOiJQb2RjYXN0cyBmb3IgVGVhY2hlcnMgb3IgUGFyZW50cyBvZiBUZWVuYWdlcnMiLCJkZXNjcmk= (truncated)",
         "streaming-0affec486183-pin",
         "shardId-000000000000",
         "49654776698500171106604173192035097918978946587764457474",
         "2024-08-12T12:21:23.197+0000"
        ],
        [
         "partition-1",
         "eyJpbmRleCI6MTA3OTQsInVuaXF1ZV9pZCI6ImM0YmQyNTc3LWE3YmItNDQwOS1iYjdhLTE3ZDVlZDdlMWNmMSIsInRpdGxlIjoiVGlyZUJ1eWVyIiwiZGVzY3JpcHRpb24iOiJOaXNzYW4gR1QtUi4gU2ljay4iLCJwb3N0ZXI= (truncated)",
         "streaming-0affec486183-pin",
         "shardId-000000000000",
         "49654776698500171106604173194183359100434142699936808962",
         "2024-08-12T12:21:23.874+0000"
        ],
        [
         "partition-1",
         "eyJpbmRleCI6NTQ5NCwidW5pcXVlX2lkIjoiOGZiMmFmNjgtNTQzYi00NjM5LTgxMTktZGUzM2QyODcwNmVkIiwidGl0bGUiOiJEYXZlIFJhbXNleSdzIDcgQmFieSBTdGVwczogV2hhdCBBcmUgVGhleSBBbmQgV2lsbCBUaGU= (truncated)",
         "streaming-0affec486183-pin",
         "shardId-000000000000",
         "49654776698500171106604173195962897906906876845104300034",
         "2024-08-12T12:21:24.503+0000"
        ],
        [
         "partition-1",
         "eyJpbmRleCI6NTA2OSwidW5pcXVlX2lkIjoiYjc1YjZmODctZGViMy00NDRmLWIyOWUtY2U5MTYxYjJkZjQ5IiwidGl0bGUiOiJUaGUgVmF1bHQ6IEN1cmF0ZWQgJiBSZWZpbmVkIFdlZGRpbmcgSW5zcGlyYXRpb24iLCJkZXM= (truncated)",
         "streaming-0affec486183-pin",
         "shardId-000000000000",
         "49654776698500171106604173199009390972335742434083340290",
         "2024-08-12T12:21:25.730+0000"
        ],
        [
         "partition-1",
         "eyJpbmRleCI6MjkyMywidW5pcXVlX2lkIjoiNTJmYTNhZjUtMjRhNC00Y2NiLThmMTctOWMzZWIxMjMyN2VlIiwidGl0bGUiOiJVRk8gUGFwZXIgUGxhdGUgQ3JhZnQiLCJkZXNjcmlwdGlvbiI6IkEgZnVuIHNwYWNlIGFjdGk= (truncated)",
         "streaming-0affec486183-pin",
         "shardId-000000000000",
         "49654776698500171106604173202365369047585953091787161602",
         "2024-08-12T12:21:26.898+0000"
        ],
        [
         "partition-1",
         "eyJpbmRleCI6MzA4OSwidW5pcXVlX2lkIjoiODhmOTIyN2UtODhkMC00YjFjLWIwYmUtYmNmYzMwMjhiOGUyIiwidGl0bGUiOiJObyBUaXRsZSBEYXRhIEF2YWlsYWJsZSIsImRlc2NyaXB0aW9uIjoiTm8gZGVzY3JpcHRpb24= (truncated)",
         "streaming-0affec486183-pin",
         "shardId-000000000000",
         "49654776698500171106604173204985111298690854513375444994",
         "2024-08-12T12:21:27.531+0000"
        ],
        [
         "partition-1",
         "eyJpbmRleCI6NjA2MywidW5pcXVlX2lkIjoiNjA2OTM3MjctNDkyNy00YmQ2LWE4YzUtMDk2YTM5MmQ2M2U2IiwidGl0bGUiOiI0MSBHb3JnZW91cyBGYWxsIERlY29yIElkZWFzIEZvciBZb3VyIEhvbWUgLSBDaGF5bG9yICY= (truncated)",
         "streaming-0affec486183-pin",
         "shardId-000000000000",
         "49654776698500171106604173210040839076319233928155103234",
         "2024-08-12T12:21:29.187+0000"
        ],
        [
         "partition-1",
         "eyJpbmRleCI6MzQ1NCwidW5pcXVlX2lkIjoiNDZiZDNmODYtYjA5ZC00ZTI5LTkwMzMtN2ZmMmRmNTk1ZTUxIiwidGl0bGUiOiJXaGF0IGNhbiB5b3UgdXNlIHRvIGNvbG9yIHJlc2luPyIsImRlc2NyaXB0aW9uIjoiSEVMUEY= (truncated)",
         "streaming-0affec486183-pin",
         "shardId-000000000000",
         "49654776698500171106604173214656517855607888185902759938",
         "2024-08-12T12:21:30.843+0000"
        ],
        [
         "partition-1",
         "eyJpbmRleCI6NzU1NCwidW5pcXVlX2lkIjoiYzZmYTEyZjQtMGQ0YS00YjA3LWEzMzUtNWJmOWYzN2Y4MjgxIiwidGl0bGUiOiJDcmFpZyBTdHlsZSIsImRlc2NyaXB0aW9uIjoiaW1nZW50bGVib3NzOiDigJwgLSBNb3JlIGE= (truncated)",
         "streaming-0affec486183-pin",
         "shardId-000000000000",
         "49654776698500171106604173220699938027861419567697887234",
         "2024-08-12T12:21:32.555+0000"
        ],
        [
         "partition-1",
         "eyJpbmRleCI6NzUyOCwidW5pcXVlX2lkIjoiZmJlNTNjNjYtMzQ0Mi00NzczLWIxOWUtZDNlYzZmNTRkZGRmIiwidGl0bGUiOiJObyBUaXRsZSBEYXRhIEF2YWlsYWJsZSIsImRlc2NyaXB0aW9uIjoiTm8gZGVzY3JpcHRpb24= (truncated)",
         "streaming-0affec486183-pin",
         "shardId-000000000000",
         "49654776698500171106604178227607664282743155808423378946",
         "2024-08-12T12:45:11.839+0000"
        ],
        [
         "partition-1",
         "eyJpbmRleCI6Mjg2MywidW5pcXVlX2lkIjoiOWJmMzk0MzctNDJhNi00ZjAyLTk5YTAtOWEwMzgzZDhjZDcwIiwidGl0bGUiOiIyNSBTdXBlciBGdW4gU3VtbWVyIENyYWZ0cyBmb3IgS2lkcyAtIE9mIExpZmUgYW5kIExpc2E= (truncated)",
         "streaming-0affec486183-pin",
         "shardId-000000000000",
         "49654776698500171106604178232744390090285715240469397506",
         "2024-08-12T12:45:13.449+0000"
        ],
        [
         "partition-1",
         "eyJpbmRleCI6NTczMCwidW5pcXVlX2lkIjoiMWUxZjBjOGItOWZjZi00NjBiLTkxNTQtYzc3NTgyNzIwNmViIiwidGl0bGUiOiJJc2xhbmQgT2FzaXMgQ291cG9uIE9yZ2FuaXplciIsImRlc2NyaXB0aW9uIjoiRGVzY3JpcHQ= (truncated)",
         "streaming-0affec486183-pin",
         "shardId-000000000000",
         "49654776698500171106604178237656255695379953646020067330",
         "2024-08-12T12:45:15.097+0000"
        ],
        [
         "partition-1",
         "eyJpbmRleCI6ODMwNCwidW5pcXVlX2lkIjoiNWI2ZDA5MTMtMjVlNC00M2FiLTgzOWQtODVkNTUxNmY3OGE0IiwidGl0bGUiOiJUaGUgIzEgUmVhc29uIFlvdeKAmXJlIE5vdCBIaXMgUHJpb3JpdHkgQW55bW9yZSAtIE1hdHQ= (truncated)",
         "streaming-0affec486183-pin",
         "shardId-000000000000",
         "49654776698500171106604178243020259557010063431630323714",
         "2024-08-12T12:45:16.716+0000"
        ],
        [
         "partition-1",
         "eyJpbmRleCI6ODczMSwidW5pcXVlX2lkIjoiZWE3NjBmNzEtZmViZi00MDIzLWI1OTItZDE3Mzk2NjU5MDM5IiwidGl0bGUiOiIyMCBLb2kgRmlzaCBUYXR0b29zIEZvciBMdWNreSBNZW4iLCJkZXNjcmlwdGlvbiI6IktvaSA= (truncated)",
         "streaming-0affec486183-pin",
         "shardId-000000000000",
         "49654776698500171106604178246042574106046636437115240450",
         "2024-08-12T12:45:17.447+0000"
        ],
        [
         "partition-1",
         "eyJpbmRleCI6MTMxMywidW5pcXVlX2lkIjoiNDQ2NjIwNDUtZTg5MS00ODIxLThhMTktZWJlN2VlZGQzNzFhIiwidGl0bGUiOiJMaXF1aWQgTGFzaCBFeHRlbnNpb25zIE1hc2NhcmEiLCJkZXNjcmlwdGlvbiI6Ikluc3RhbnQ= (truncated)",
         "streaming-0affec486183-pin",
         "shardId-000000000000",
         "49654776698500171106604178247648027594494863981125042178",
         "2024-08-12T12:45:18.086+0000"
        ],
        [
         "partition-1",
         "eyJpbmRleCI6NDMxNSwidW5pcXVlX2lkIjoiMjFiNTliYTktODI5ZC00YzMzLThjMjctNGNkNGM1NmQyNmI4IiwidGl0bGUiOiJQb2RjYXN0cyBmb3IgVGVhY2hlcnMgb3IgUGFyZW50cyBvZiBUZWVuYWdlcnMiLCJkZXNjcmk= (truncated)",
         "streaming-0affec486183-pin",
         "shardId-000000000000",
         "49654776698500171106604178253163147183576802344854093826",
         "2024-08-12T12:45:19.697+0000"
        ],
        [
         "partition-1",
         "eyJpbmRleCI6MTA3OTQsInVuaXF1ZV9pZCI6ImM0YmQyNTc3LWE3YmItNDQwOS1iYjdhLTE3ZDVlZDdlMWNmMSIsInRpdGxlIjoiVGlyZUJ1eWVyIiwiZGVzY3JpcHRpb24iOiJOaXNzYW4gR1QtUi4gU2ljay4iLCJwb3N0ZXI= (truncated)",
         "streaming-0affec486183-pin",
         "shardId-000000000000",
         "49654776698500171106604178254530442285560948078885732354",
         "2024-08-12T12:45:20.352+0000"
        ],
        [
         "partition-1",
         "eyJpbmRleCI6NTQ5NCwidW5pcXVlX2lkIjoiOGZiMmFmNjgtNTQzYi00NjM5LTgxMTktZGUzM2QyODcwNmVkIiwidGl0bGUiOiJEYXZlIFJhbXNleSdzIDcgQmFieSBTdGVwczogV2hhdCBBcmUgVGhleSBBbmQgV2lsbCBUaGU= (truncated)",
         "streaming-0affec486183-pin",
         "shardId-000000000000",
         "49654776698500171106604178256861251265777953127719239682",
         "2024-08-12T12:45:21.209+0000"
        ],
        [
         "partition-1",
         "eyJpbmRleCI6NTA2OSwidW5pcXVlX2lkIjoiYjc1YjZmODctZGViMy00NDRmLWIyOWUtY2U5MTYxYjJkZjQ5IiwidGl0bGUiOiJUaGUgVmF1bHQ6IEN1cmF0ZWQgJiBSZWZpbmVkIFdlZGRpbmcgSW5zcGlyYXRpb24iLCJkZXM= (truncated)",
         "streaming-0affec486183-pin",
         "shardId-000000000000",
         "49654776698500171106604178261285919765567495975863320578",
         "2024-08-12T12:45:22.542+0000"
        ],
        [
         "partition-1",
         "eyJpbmRleCI6MjkyMywidW5pcXVlX2lkIjoiNTJmYTNhZjUtMjRhNC00Y2NiLThmMTctOWMzZWIxMjMyN2VlIiwidGl0bGUiOiJVRk8gUGFwZXIgUGxhdGUgQ3JhZnQiLCJkZXNjcmlwdGlvbiI6IkEgZnVuIHNwYWNlIGFjdGk= (truncated)",
         "streaming-0affec486183-pin",
         "shardId-000000000000",
         "49654776698500171106604178270148554949162342661792727042",
         "2024-08-12T12:45:25.064+0000"
        ],
        [
         "partition-1",
         "eyJpbmRleCI6MzA4OSwidW5pcXVlX2lkIjoiODhmOTIyN2UtODhkMC00YjFjLWIwYmUtYmNmYzMwMjhiOGUyIiwidGl0bGUiOiJObyBUaXRsZSBEYXRhIEF2YWlsYWJsZSIsImRlc2NyaXB0aW9uIjoiTm8gZGVzY3JpcHRpb24= (truncated)",
         "streaming-0affec486183-pin",
         "shardId-000000000000",
         "49654776698500171106604178273475518804741802219303600130",
         "2024-08-12T12:45:25.724+0000"
        ],
        [
         "partition-1",
         "eyJpbmRleCI6NjA2MywidW5pcXVlX2lkIjoiNjA2OTM3MjctNDkyNy00YmQ2LWE4YzUtMDk2YTM5MmQ2M2U2IiwidGl0bGUiOiI0MSBHb3JnZW91cyBGYWxsIERlY29yIElkZWFzIEZvciBZb3VyIEhvbWUgLSBDaGF5bG9yICY= (truncated)",
         "streaming-0affec486183-pin",
         "shardId-000000000000",
         "49654776698500171106604178278024706663951651872442417154",
         "2024-08-12T12:45:27.380+0000"
        ],
        [
         "partition-1",
         "eyJpbmRleCI6MzQ1NCwidW5pcXVlX2lkIjoiNDZiZDNmODYtYjA5ZC00ZTI5LTkwMzMtN2ZmMmRmNTk1ZTUxIiwidGl0bGUiOiJXaGF0IGNhbiB5b3UgdXNlIHRvIGNvbG9yIHJlc2luPyIsImRlc2NyaXB0aW9uIjoiSEVMUEY= (truncated)",
         "streaming-0affec486183-pin",
         "shardId-000000000000",
         "49654776698500171106604178285651819659900347610541588482",
         "2024-08-12T12:45:30.207+0000"
        ],
        [
         "partition-1",
         "eyJpbmRleCI6NzU1NCwidW5pcXVlX2lkIjoiYzZmYTEyZjQtMGQ0YS00YjA3LWEzMzUtNWJmOWYzN2Y4MjgxIiwidGl0bGUiOiJDcmFpZyBTdHlsZSIsImRlc2NyaXB0aW9uIjoiaW1nZW50bGVib3NzOiDigJwgLSBNb3JlIGE= (truncated)",
         "streaming-0affec486183-pin",
         "shardId-000000000000",
         "49654776698500171106604178291894712592390292737443758082",
         "2024-08-12T12:45:31.834+0000"
        ],
        [
         "partition-1",
         "eyJpbmRleCI6NjE0NSwidW5pcXVlX2lkIjoiODJlMTNhMDctZGI5OS00M2EzLWIxYzAtODlhNGI3NTgyMWRhIiwidGl0bGUiOiJIT0xJREFZIE1BTlRMRSBERUNPUiAtIEBBTUFaT04gJiBAVEFSR0VUIEZJTkRTIiwiZGVzY3I= (truncated)",
         "streaming-0affec486183-pin",
         "shardId-000000000000",
         "49654776698500171106604178306105635601960258892273287170",
         "2024-08-12T12:45:34.629+0000"
        ],
        [
         "partition-1",
         "eyJpbmRleCI6MTA2MjUsInVuaXF1ZV9pZCI6ImQzMTg4NWI3LTc0MmEtNGUyYS1iYmI3LWFjNWY5ZDMzNDM0MCIsInRpdGxlIjoiSmFndWFyIFR5cGUgRSIsImRlc2NyaXB0aW9uIjoiMTkzNyBKYWd1YXIgU1MxMDAgLSAyIDE= (truncated)",
         "streaming-0affec486183-pin",
         "shardId-000000000000",
         "49654776698500171106604178310530304101749801740417368066",
         "2024-08-12T12:45:35.262+0000"
        ],
        [
         "partition-1",
         "eyJpbmRleCI6Mjk1OSwidW5pcXVlX2lkIjoiNDM5Y2FjNGItMThlOC00YWFhLTg4YzUtZWRiMjZhNzAxMTExIiwidGl0bGUiOiJUaGUgQ3V0ZXN0IFRvaWxldCBQYXBlciBDcmFmdHMiLCJkZXNjcmlwdGlvbiI6Ik9uZSB0aGk= (truncated)",
         "streaming-0affec486183-pin",
         "shardId-000000000000",
         "49654776698500171106604178313470411695052579893302788098",
         "2024-08-12T12:45:35.869+0000"
        ],
        [
         "partition-1",
         "eyJpbmRleCI6OTg3NSwidW5pcXVlX2lkIjoiNzgyZGNiYWQtZmY5MS00MGE2LWJhNjAtMjE2ZWZlMjlhZGI3IiwidGl0bGUiOiJFdXJvcGVhbiBCdWNrZXQgTGlzdDogMzUgVGhpbmdzIE5PVCBUbyBNaXNzIFdoZW4gVHJhdmU= (truncated)",
         "streaming-0affec486183-pin",
         "shardId-000000000000",
         "49654776698500171106604178316496353021547996786311823362",
         "2024-08-12T12:45:36.484+0000"
        ],
        [
         "partition-1",
         "eyJpbmRleCI6MjQxOCwidW5pcXVlX2lkIjoiZGE4NzQ1YTYtNTE2MC00NmM0LTg3N2QtMTgxZDUwYTcyOWZkIiwidGl0bGUiOiIxMDAgRElZIENocmlzdG1hcyBDZW50ZXJwaWVjZXMgWW91J2xsIExvdmUgVG8gRGVjb3JhdGU= (truncated)",
         "streaming-0affec486183-pin",
         "shardId-000000000000",
         "49654776698500171106604178323868382669558005562389561346",
         "2024-08-12T12:45:38.252+0000"
        ],
        [
         "partition-1",
         "eyJpbmRleCI6MzE1NiwidW5pcXVlX2lkIjoiZmE2ZTMxYTQtMThjMi00ZWNhLWE2ZDgtZTkwM2VlZTJjMmE0IiwidGl0bGUiOiJIYW5kcHJpbnQgUmVpbmRlZXIgT3JuYW1lbnRzIC0gQ3JhZnR5IE1vcm5pbmciLCJkZXNjcmk= (truncated)",
         "streaming-0affec486183-pin",
         "shardId-000000000000",
         "49654776698500171106604178326035986664127035810076688386",
         "2024-08-12T12:45:38.888+0000"
        ],
        [
         "partition-1",
         "eyJpbmRleCI6NDI4LCJ1bmlxdWVfaWQiOiI2MTBiM2Y4My05ZmUwLTQ2OWQtOTQ2Yy1kMTZiNTc3ZmNhNzEiLCJ0aXRsZSI6IkZhc2hpb24gRGVzaWduZXIgSXNhYWMgTWl6cmFoaeKAmXMgVXBkYXRlZCAxOTMwcyBOZXcgWW8= (truncated)",
         "streaming-0affec486183-pin",
         "shardId-000000000000",
         "49654776698500171106604178329098195765210891509607432194",
         "2024-08-12T12:45:39.467+0000"
        ],
        [
         "partition-1",
         "eyJpbmRleCI6NzM0MywidW5pcXVlX2lkIjoiYjhjNjNhOTUtNmZlOC00ZDdmLTk0NTUtMWVlZjM0NjJmZWUwIiwidGl0bGUiOiJUaGlzIEZhc2hpb24gUnVsZSBJcyBOb25zZW5zZSwgQW5kIFdlIFNob3VsZCBBbGwgRm9yZ2U= (truncated)",
         "streaming-0affec486183-pin",
         "shardId-000000000000",
         "49654776698500171106604178332160404866294747277857652738",
         "2024-08-12T12:45:40.151+0000"
        ],
        [
         "partition-1",
         "eyJpbmRleCI6MjA3NCwidW5pcXVlX2lkIjoiODZlZDA5YTctODQyZC00OTZkLTk1MDEtMDEwYzY1NGViMzQwIiwidGl0bGUiOiIzNSBDaHJpc3RtYXMgRGVjb3JhdGluZyBJZGVhcyBXZSBCZXQgWW91IEhhdmVuJ3QgVGhvdWc= (truncated)",
         "streaming-0affec486183-pin",
         "shardId-000000000000",
         "49654776698500171106604178348310444890526578560196411394",
         "2024-08-12T12:45:43.380+0000"
        ],
        [
         "partition-1",
         "eyJpbmRleCI6OTk3OSwidW5pcXVlX2lkIjoiMmIyYWJjODUtZmM1MS00ODFmLThhZTYtMTc2ODE5OTNkYTI4IiwidGl0bGUiOiJQYXJpcyBpbiB0aGUgU3VtbWVyLiAxMCBmdW4gdGhpbmdzIHRvIGRvIGluIFBhcmlzIGluIHQ= (truncated)",
         "streaming-0affec486183-pin",
         "shardId-000000000000",
         "49654776698500171106604178366375423413027982523989229570",
         "2024-08-12T12:45:45.602+0000"
        ],
        [
         "partition-1",
         "eyJpbmRleCI6MTAxMzgsInVuaXF1ZV9pZCI6IjkyN2M0NjU4LWNjM2YtNGI5Mi05YjVjLTcwNzQzZDBjMjM4ZCIsInRpdGxlIjoiMTQgQW1hemluZyBUaGluZ3MgVG8gRG8gSW4gQ29zdGEgUmljYSB8IFZvbGNhbm9lcywgV2E= (truncated)",
         "streaming-0affec486183-pin",
         "shardId-000000000000",
         "49654776698500171106604178368734037687096124112560455682",
         "2024-08-12T12:45:46.243+0000"
        ],
        [
         "partition-1",
         "eyJpbmRleCI6OTY3MiwidW5pcXVlX2lkIjoiMWE1MDUwYTQtYWM4Mi00NzJjLWFlZmYtMzQ1N2RlOGJiZWU5IiwidGl0bGUiOiJMYWtlIE1vcmFpbmUsIEJhbmZmLCBDYW5hZGEiLCJkZXNjcmlwdGlvbiI6Ik9uIG91ciBDYWw= (truncated)",
         "streaming-0affec486183-pin",
         "shardId-000000000000",
         "49654776698500171106604178373769213725791054693931155458",
         "2024-08-12T12:45:47.905+0000"
        ],
        [
         "partition-1",
         "eyJpbmRleCI6ODY1MywidW5pcXVlX2lkIjoiMjRiMTM0M2MtNGQ4Ni00NzA1LThlYzktN2YxZjJkZjJkNzdlIiwidGl0bGUiOiJVbmlxdWUgV29tZW4gVGF0dG9vcyBJZGVhcyAyMDIwIiwiZGVzY3JpcHRpb24iOiJXZSB3ZWw= (truncated)",
         "streaming-0affec486183-pin",
         "shardId-000000000000",
         "49654776698500171106604178382014087815562825871585705986",
         "2024-08-12T12:45:50.522+0000"
        ],
        [
         "partition-1",
         "eyJpbmRleCI6ODg4NywidW5pcXVlX2lkIjoiNWRmOWY2ZTUtMDdmNS00Y2U4LWE4MmUtOTY1ODZiYmMwNWQ4IiwidGl0bGUiOiIyNSBVbHRyYSBTZXh5IEJhY2sgVGF0dG9vIElkZWFzIEZvciBHaXJscyIsImRlc2NyaXB0aW8= (truncated)",
         "streaming-0affec486183-pin",
         "shardId-000000000000",
         "49654776698500171106604178388122789982075547160095490050",
         "2024-08-12T12:45:52.153+0000"
        ],
        [
         "partition-1",
         "eyJpbmRleCI6NzkyMiwidW5pcXVlX2lkIjoiYTU4NDU4MWMtMWIzOC00NzMxLWExY2MtZjM2MTE1ZWNmMjI5IiwidGl0bGUiOiI0NSBUb3AgTGlmZSBRdW90ZXMgU2Nob29sIERpZCBOb3QgVGVhY2ggWW91IiwiZGVzY3JpcHQ= (truncated)",
         "streaming-0affec486183-pin",
         "shardId-000000000000",
         "49654776698500171106604178394093674605152200722688770050",
         "2024-08-12T12:45:53.778+0000"
        ],
        [
         "partition-1",
         "eyJpbmRleCI6MTAxNCwidW5pcXVlX2lkIjoiOWFjOTQzMDctYmIyNy00MTBlLWI1NTQtMGEwYWI2YzE5ODQ3IiwidGl0bGUiOiJIYWlyc3R5bGVzICYgQmVhdXR5IiwiZGVzY3JpcHRpb24iOiJVbnRpdGxlZCIsInBvc3Rlcl8= (truncated)",
         "streaming-0affec486183-pin",
         "shardId-000000000000",
         "49654776698500171106604178399521751535221885785838977026",
         "2024-08-12T12:45:55.431+0000"
        ],
        [
         "partition-1",
         "eyJpbmRleCI6NDkxMywidW5pcXVlX2lkIjoiNGQyZDc5YzYtOWNhOC00NmM5LWEzOGUtOTMxYzVkOTY3ODA0IiwidGl0bGUiOiJIb3cgdG8gV29yayBGcm9tIEhvbWUgYXMgYW4gRXZlbnQgUGxhbm5lciIsImRlc2NyaXB0aW8= (truncated)",
         "streaming-0affec486183-pin",
         "shardId-000000000000",
         "49654776698500171106604178405209747516508716327709442050",
         "2024-08-12T12:45:57.092+0000"
        ],
        [
         "partition-1",
         "eyJpbmRleCI6NDEzNywidW5pcXVlX2lkIjoiYmYyNzUwNTQtNDQ2NC00NDhiLTkxNDMtMWJmMTAxYWEzNjZkIiwidGl0bGUiOiIxNSBFc3NlbnRpYWwgQ2xhc3Nyb29tIEl0ZW1zIEZvciBGaXJzdCBZZWFyIFRlYWNoZXJzIC8= (truncated)",
         "streaming-0affec486183-pin",
         "shardId-000000000000",
         "49654776698500171106604178411280972982613384111803334658",
         "2024-08-12T12:45:58.712+0000"
        ],
        [
         "partition-1",
         "eyJpbmRleCI6NzE2NiwidW5pcXVlX2lkIjoiNGE4NDRiMDMtZTE2MS00N2ExLTkwNGItNTkxZWI1ZGM0ZmIxIiwidGl0bGUiOiJUaGUgS2lsbGVycyAtIE1yLiBCcmlnaHRzaWRlIC0gV29tZW4ncyBULVNoaXJ0IC0gSGVhdGg= (truncated)",
         "streaming-0affec486183-pin",
         "shardId-000000000000",
         "49654776698500171106604178413008527978842689271177936898",
         "2024-08-12T12:45:59.379+0000"
        ],
        [
         "partition-1",
         "eyJpbmRleCI6OTU0NiwidW5pcXVlX2lkIjoiZWZkNWIyZDYtMmY2OS00MGNkLWJiNTktNDFmMThjMDg5ZTUyIiwidGl0bGUiOiIyMCBBbWF6aW5nIFRyaXBzIHRvIFRha2UgaW4gWW91ciBUd2VudGllcyEiLCJkZXNjcmlwdGk= (truncated)",
         "streaming-0affec486183-pin",
         "shardId-000000000000",
         "49654776698500171106604178424402653828710569448942075906",
         "2024-08-12T12:46:02.503+0000"
        ],
        [
         "partition-1",
         "eyJpbmRleCI6MjQxMSwidW5pcXVlX2lkIjoiNGUxMTgwMWUtN2E2NC00ZjFlLTkwZGQtZTkwMDY3NzU5NWM1IiwidGl0bGUiOiJUaGUgU3dlZXRlc3QgR2luZ2VyYnJlYWQgSG91c2UgT3JuYW1lbnRzIEtpZHMgQ2FuIE1ha2U= (truncated)",
         "streaming-0affec486183-pin",
         "shardId-000000000000",
         "49654776698500171106604178431104938572654073730952069122",
         "2024-08-12T12:46:04.107+0000"
        ],
        [
         "partition-1",
         "eyJpbmRleCI6OTU5MCwidW5pcXVlX2lkIjoiYjg0OWU5NzYtNTJmNi00NWQ3LThiMjUtNTE1NTkzMThmMTY3IiwidGl0bGUiOiJUb3AgMjAgVGhpbmdzIFRvIFNlZSBBbmQgRG8gSW4gSXJlbGFuZCIsImRlc2NyaXB0aW9uIjo= (truncated)",
         "streaming-0affec486183-pin",
         "shardId-000000000000",
         "49654776698500171106604178433746441488512038477685063682",
         "2024-08-12T12:46:04.716+0000"
        ],
        [
         "partition-1",
         "eyJpbmRleCI6MjY5OCwidW5pcXVlX2lkIjoiNzNmMTYzMDItNDg3MS00ODZhLTg4MzYtOTQ3NTMwNTI2MzM3IiwidGl0bGUiOiJESVkgRG9sbGFyIFRyZWUgVmFsZW50aW5lJ3MgRGF5IFdyZWF0aCIsImRlc2NyaXB0aW9uIjo= (truncated)",
         "streaming-0affec486183-pin",
         "shardId-000000000000",
         "49654776698500171106604178441149903207832027612305162242",
         "2024-08-12T12:46:06.337+0000"
        ],
        [
         "partition-1",
         "eyJpbmRleCI6NDUwOCwidW5pcXVlX2lkIjoiOTA2NGY0YTItMjc1My00NzZjLTgxNWUtZGIzNjBmNDVhOTNlIiwidGl0bGUiOiJDdXN0b20gRXZlbnQgYW5kIFNob3AgTmVvbiBTaWduIExpZ2h0cyAtIEV2ZW50ICYgU2hvcCI= (truncated)",
         "streaming-0affec486183-pin",
         "shardId-000000000000",
         "49654776698500171106604178444255633638422010030844805122",
         "2024-08-12T12:46:06.932+0000"
        ],
        [
         "partition-1",
         "eyJpbmRleCI6ODMxLCJ1bmlxdWVfaWQiOiI1ZTY1OTE0ZC05ZjU4LTRmZjEtOTY3Ni02NThlNDI2ZThjZTUiLCJ0aXRsZSI6ImNyZWF0aW5nIG1peGVkLW1lZGlhIGZhY2VzIHR1dG9yaWFsIiwiZGVzY3JpcHRpb24iOiJGcmU= (truncated)",
         "streaming-0affec486183-pin",
         "shardId-000000000000",
         "49654776698500171106604178447142548495661744500043153410",
         "2024-08-12T12:46:07.606+0000"
        ],
        [
         "partition-1",
         "eyJpbmRleCI6NTA3NiwidW5pcXVlX2lkIjoiZmEzYWYyOWMtZGM3OC00ZWVkLWE0YzUtNTJhNDA3ZWEwNGMwIiwidGl0bGUiOiJRdWl6OiBUZXN0IFlvdXIgRXZlbnQgSVEhIC0gUG9pbnRlcnMgRm9yIFBsYW5uZXJzIiwiZGU= (truncated)",
         "streaming-0affec486183-pin",
         "shardId-000000000000",
         "49654776698500171106604178449583369725463680941213876226",
         "2024-08-12T12:46:08.202+0000"
        ],
        [
         "partition-1",
         "eyJpbmRleCI6MTA2NjMsInVuaXF1ZV9pZCI6ImQ1MjA4YzE2LTgyYWUtNGZkMS04N2YwLTM2ZTVlZjc4OTQxMiIsInRpdGxlIjoiMjErIENsYXNzaWMgQ2FyIFBpY3R1cmUgb2YgdGhlIDE5NTBzIC0gVmludGFnZXRvcGlhIiw= (truncated)",
         "streaming-0affec486183-pin",
         "shardId-000000000000",
         "49654776698500171106604178452221245863862801869142228994",
         "2024-08-12T12:46:08.824+0000"
        ],
        [
         "partition-1",
         "eyJpbmRleCI6NTQ2OCwidW5pcXVlX2lkIjoiOTFlZTQ5ZjYtMDA3MC00MjcwLWJhMTktZmRlODhiYTUxYzkxIiwidGl0bGUiOiJCdWRnZXRzLCBTcG91c2VzICYgTWFraW5nIEl0IFdvcmshIC0gVHNoYW5pbmEgUGV0ZXJzb24= (truncated)",
         "streaming-0affec486183-pin",
         "shardId-000000000000",
         "49654776698500171106604178460565251870842972501683732482",
         "2024-08-12T12:46:10.465+0000"
        ],
        [
         "partition-1",
         "eyJpbmRleCI6MjA1LCJ1bmlxdWVfaWQiOiJmNGFmZDU0My1iOWZlLTQ0YzMtODA2NC1mMjE5OGZhYTEzNzIiLCJ0aXRsZSI6IkRJWSBBYnN0cmFjdCBIZWFydCBQYWludGluZyBhbmQgYSBGdW4gUGFpbnQgUGFydHkiLCJkZXM= (truncated)",
         "streaming-0affec486183-pin",
         "shardId-000000000000",
         "49654776698500171106604178469679343624917661918513070082",
         "2024-08-12T12:46:12.062+0000"
        ],
        [
         "partition-1",
         "eyJpbmRleCI6Nzc5MCwidW5pcXVlX2lkIjoiOWNkODlmYjktZDFhZi00ZTY2LTg1Y2EtYzlkNjU2YzkxOGI0IiwidGl0bGUiOiI1MCBIZWFydCBUb3VjaGluZyBTYWQgUXVvdGVzIFRoYXQgV2lsbCBNYWtlIFlvdSBDcnkiLCI= (truncated)",
         "streaming-0affec486183-pin",
         "shardId-000000000000",
         "49654776698500171106604178472216878920288768624940810242",
         "2024-08-12T12:46:12.675+0000"
        ],
        [
         "partition-1",
         "eyJpbmRleCI6ODYwNiwidW5pcXVlX2lkIjoiNzE3NTcwNDAtYmZjOC00NjMxLTljYWMtMjI4MDFlNjFkOWUzIiwidGl0bGUiOiIzMCsgRWFnbGUgVGF0dG9vcyBJZGVhcyBmb3IgV29tZW4iLCJkZXNjcmlwdGlvbiI6InN1bW0= (truncated)",
         "streaming-0affec486183-pin",
         "shardId-000000000000",
         "49654776698500171106604178475111047332446190869187395586",
         "2024-08-12T12:46:13.309+0000"
        ],
        [
         "partition-1",
         "eyJpbmRleCI6OTc1OSwidW5pcXVlX2lkIjoiZDEwNWViNmUtMGY5Zi00NmU3LThkMDItZDI0YjYyZjZhZTkwIiwidGl0bGUiOiI4IEJlc3QgR3JlZWsgSXNsYW5kcyBZb3UgSGF2ZSBUbyBWaXNpdCAtIFRoZUZhYjIwcyIsImQ= (truncated)",
         "streaming-0affec486183-pin",
         "shardId-000000000000",
         "49654776698500171106604178479255245042085139817519120386",
         "2024-08-12T12:46:13.960+0000"
        ],
        [
         "partition-1",
         "eyJpbmRleCI6NzE5LCJ1bmlxdWVfaWQiOiJkN2M1M2UzNC05NTQwLTRmNDgtYTMxYi04OWI2ZWQxODUyYmIiLCJ0aXRsZSI6IjEwIEFydCBTdWIgTGVzc29ucyB0aGF0IG9ubHkgbmVlZCBhIFBlbmNpbCIsImRlc2NyaXB0aW8= (truncated)",
         "streaming-0affec486183-pin",
         "shardId-000000000000",
         "49654776698500171106604178496904353082639111276493537282",
         "2024-08-12T12:46:16.321+0000"
        ],
        [
         "partition-1",
         "eyJpbmRleCI6MTcwNCwidW5pcXVlX2lkIjoiNWZiZjk4NjMtZmI3OS00NzdjLWE1YjYtNTQwYzMwMjBhNTVmIiwidGl0bGUiOiJDaHJpc3RtYXMgVHJlZXMgRnJvbSBQYWxsZXQgV29vZCB8IEhvbGlkYXkgRElZIiwiZGVzY3I= (truncated)",
         "streaming-0affec486183-pin",
         "shardId-000000000000",
         "49654776698500171106604178511702814040541787278949744642",
         "2024-08-12T12:46:19.614+0000"
        ],
        [
         "partition-1",
         "eyJpbmRleCI6MjQ4MiwidW5pcXVlX2lkIjoiMDg2MDRmMjAtZmExNy00YjlhLTk5NDktNzgxNzE3ZWNhNmNkIiwidGl0bGUiOiJGT1JOVCBQT1JDSCBDSFJJU1RNQVMgREVDT1JBVElORyBJREVBUyIsImRlc2NyaXB0aW9uIjo= (truncated)",
         "streaming-0affec486183-pin",
         "shardId-000000000000",
         "49654776698500171106604178524533143764111846847545344002",
         "2024-08-12T12:46:22.701+0000"
        ],
        [
         "partition-1",
         "eyJpbmRleCI6ODkzMCwidW5pcXVlX2lkIjoiYTI5OTljMjgtZjdiMi00NTc3LWFmODctNDlkMjFkNmQ4YTE4IiwidGl0bGUiOiIxMzUgU3VuZmxvd2VyIFRhdHRvbyBJZGVhcyAtIFtCZXN0IFJhdGVkIERlc2lnbnMgaW4gMjA= (truncated)",
         "streaming-0affec486183-pin",
         "shardId-000000000000",
         "49654776698500171106604178531334560425263750653161766914",
         "2024-08-12T12:46:24.379+0000"
        ],
        [
         "partition-1",
         "eyJpbmRleCI6NzI5NCwidW5pcXVlX2lkIjoiOWQ4NDA5ZWYtYmVhNy00MTMzLWEwMjEtYzU4YjljMDQyMjEwIiwidGl0bGUiOiJGb29scHJvb2YgRmFsbCBGYXNoaW9uIEZvciBNZW4gWW91J2xsIExvdmUiLCJkZXNjcmlwdGk= (truncated)",
         "streaming-0affec486183-pin",
         "shardId-000000000000",
         "49654776698500171106604178533342586211643649781068201986",
         "2024-08-12T12:46:24.994+0000"
        ],
        [
         "partition-1",
         "eyJpbmRleCI6ODA4LCJ1bmlxdWVfaWQiOiIyM2Y2N2U0Mi1kYjlmLTRhYWUtOGI4Mi1jYmVjNjRhZDlmNGQiLCJ0aXRsZSI6IkNoYWxrIFBhc3RlbCBIb3QgQ2hvY29sYXRlIEFydCBQcm9qZWN0IiwiZGVzY3JpcHRpb24iOiI= (truncated)",
         "streaming-0affec486183-pin",
         "shardId-000000000000",
         "49654776698500171106604178536671967918862338528209010690",
         "2024-08-12T12:46:25.664+0000"
        ],
        [
         "partition-1",
         "eyJpbmRleCI6NzcxLCJ1bmlxdWVfaWQiOiJhNTAyMTc2Ni1hOGFhLTRkYzctOTg1Ny00ZGE2YjhlM2RjMWEiLCJ0aXRsZSI6IkFmcmljYW4gU3Vuc2V0IFNoYWRvdyBUcmFjaW5nIEFydCAtIFRhbWluZyBMaXR0bGUgTW9uc3Q= (truncated)",
         "streaming-0affec486183-pin",
         "shardId-000000000000",
         "49654776698500171106604178544387332499642902127342256130",
         "2024-08-12T12:46:27.736+0000"
        ],
        [
         "partition-1",
         "eyJpbmRleCI6NDA3NiwidW5pcXVlX2lkIjoiM2E1MmQzNjQtN2MwNC00N2NiLWEzZTUtNTZkOWUyYjc3NTI4IiwidGl0bGUiOiJQaG9uaWNzIEFjdGl2aXRpZXMgWW91ciBLaWRzIFdpbGwgTG92ZSAtIFRoZSBMaXRlcmFjeSA= (truncated)",
         "streaming-0affec486183-pin",
         "shardId-000000000000",
         "49654776698500171106604178550485154333779091821999161346",
         "2024-08-12T12:46:29.391+0000"
        ],
        [
         "partition-1",
         "eyJpbmRleCI6MTU0NSwidW5pcXVlX2lkIjoiMGM2Mjk1NDEtY2M1Yi00YjYxLWJkM2YtNjEzMzQ2ODkzMjU4IiwidGl0bGUiOiJPaWwgQ2xlYW5zaW5nIE1ldGhvZDogV2hhdCBpdCBpcyBhbmQgd2h5IHlvdSBzaG91bGQgZG8= (truncated)",
         "streaming-0affec486183-pin",
         "shardId-000000000000",
         "49654776698500171106604178552650340476708892673897922562",
         "2024-08-12T12:46:30.021+0000"
        ],
        [
         "partition-1",
         "eyJpbmRleCI6MjI5MywidW5pcXVlX2lkIjoiMWZkN2Q0Y2MtNTRjMS00NTQyLTljMWYtNDQ5Y2I0Yzg3NWY0IiwidGl0bGUiOiJPdmVyIDQwIG9mIHRoZSBCRVNUIEhvbWVtYWRlIENocmlzdG1hcyBPcm5hbWVudCBJZGVhcyI= (truncated)",
         "streaming-0affec486183-pin",
         "shardId-000000000000",
         "49654776698500171106604178555694415690498529004527550466",
         "2024-08-12T12:46:30.853+0000"
        ],
        [
         "partition-1",
         "eyJpbmRleCI6MTA1MDksInVuaXF1ZV9pZCI6IjZhNWYwZTdlLTEzODktNGU1NC05NDJmLTRjYjY5ZjA5ZjE0MCIsInRpdGxlIjoiRmx5aW5nIENhciIsImRlc2NyaXB0aW9uIjoiTm8gZGVzY3JpcHRpb24gYXZhaWxhYmxlIFM= (truncated)",
         "streaming-0affec486183-pin",
         "shardId-000000000000",
         "49654776698500171106604178559915984652592814220040470530",
         "2024-08-12T12:46:31.780+0000"
        ],
        [
         "partition-1",
         "eyJpbmRleCI6MjAxNSwidW5pcXVlX2lkIjoiNzIzNTkxNjQtNDQxOS00NTJjLTgxY2ItNzRmMzBhNWEyNmI3IiwidGl0bGUiOiIxNiBCbGlzc2Z1bCBDaHJpc3RtYXMgVGFibGUgRGVjb3IgSWRlYXMgVGhhdCBZb3UgTXVzdCA= (truncated)",
         "streaming-0affec486183-pin",
         "shardId-000000000000",
         "49654776698500171106604178567217896603065174503985250306",
         "2024-08-12T12:46:33.196+0000"
        ],
        [
         "partition-1",
         "eyJpbmRleCI6MTA5NCwidW5pcXVlX2lkIjoiNmRlYWNkY2QtNzVlZC00ZGQ4LTg5NTEtOWI3NzQ1M2YzOGUwIiwidGl0bGUiOiI5IGNvbG9ycyBsYXp5IGxpcHN0aWNrIC0gOSBjb2xvcnMgbGF6eSBsaXBzdGljazQiLCJkZXM= (truncated)",
         "streaming-0affec486183-pin",
         "shardId-000000000000",
         "49654776698500171106604178578686975853749161621861695490",
         "2024-08-12T12:46:35.591+0000"
        ],
        [
         "partition-1",
         "eyJpbmRleCI6NjAzLCJ1bmlxdWVfaWQiOiI3OGUyMWE2NC01M2IwLTQ3NDUtODI5NC1lOGM0NTZmMGNjYzEiLCJ0aXRsZSI6IkhvdyB0byBDcmVhdGUgQWxjb2hvbCBJbmsgUmluZ3MgRm9yIEdvcmdlb3VzIFBpZWNlcyBvZiA= (truncated)",
         "streaming-0affec486183-pin",
         "shardId-000000000000",
         "49654776698500171106604178587433554158661003769580355586",
         "2024-08-12T12:46:37.190+0000"
        ],
        [
         "partition-1",
         "eyJpbmRleCI6Nzc2OCwidW5pcXVlX2lkIjoiYWUxYTYxZjYtZDk1OC00MGZlLWJhOTMtNmE3OGIzYTczMTc4IiwidGl0bGUiOiIxNiBNb3RpdmF0aW9uYWwgUXVvdGVzIEdldCBZb3UgSW5zcGlyZWQgVG9kYXkgLSBCb3NzIEI= (truncated)",
         "streaming-0affec486183-pin",
         "shardId-000000000000",
         "49654776698500171106604178600097052119124244580785979394",
         "2024-08-12T12:46:38.840+0000"
        ],
        [
         "partition-1",
         "eyJpbmRleCI6NTYzMCwidW5pcXVlX2lkIjoiZDQxZTcwM2MtYzk3Yy00YzVhLTlmOWMtMzM4OTgyY2E3NTA0IiwidGl0bGUiOiI3IEluc2FuZWx5IFVzZWZ1bCBNb25leSBNYW5hZ2VtZW50IFdvcmtzaGVldHMiLCJkZXNjcmk= (truncated)",
         "streaming-0affec486183-pin",
         "shardId-000000000000",
         "49654776698500171106604178609506121773184903516243623938",
         "2024-08-12T12:46:40.563+0000"
        ],
        [
         "partition-1",
         "eyJpbmRleCI6ODU3OCwidW5pcXVlX2lkIjoiMDM2ZWMyNjctNjU4Yi00ZGFkLWEwOTctOGVmMGI0ZjMwYzBkIiwidGl0bGUiOiJTbmFrZSBDb2xsYXJib25lIFRlbXBvcmFyeSBUYXR0b28uIEhhbGxvd2VlbiBUYXR0b29zICA= (truncated)",
         "streaming-0affec486183-pin",
         "shardId-000000000000",
         "49654776698500171106604178615711538005266795138729902082",
         "2024-08-12T12:46:42.220+0000"
        ],
        [
         "partition-1",
         "eyJpbmRleCI6OTkzNiwidW5pcXVlX2lkIjoiMWYzMTU0YTYtMTNmMC00MDQ5LThkNWMtZmFlYTE1YjlmMDdjIiwidGl0bGUiOiJDaGFzaW5nIFdhdGVyZmFsbHMgaW4gQ29zdGEgUmljYSIsImRlc2NyaXB0aW9uIjoiVm9sY2E= (truncated)",
         "streaming-0affec486183-pin",
         "shardId-000000000000",
         "49654776698500171106604178618117300386299907265114669058",
         "2024-08-12T12:46:42.840+0000"
        ],
        [
         "partition-1",
         "eyJpbmRleCI6Njg0NCwidW5pcXVlX2lkIjoiNjljM2YyNjgtMjc0Zi00NGJkLTljYjQtNDI3ZTY0ZmVmYzQ0IiwidGl0bGUiOiLimZR0aGUtZmFzaG1hbuKZlCIsImRlc2NyaXB0aW9uIjoiYmlsbHktZ2VvcmdlOiDigJxTdW0= (truncated)",
         "streaming-0affec486183-pin",
         "shardId-000000000000",
         "49654776698500171106604178626467351022378151180968656898",
         "2024-08-12T12:46:45.239+0000"
        ],
        [
         "partition-1",
         "eyJpbmRleCI6MzQxOSwidW5pcXVlX2lkIjoiZDBiODAxODctMDE3MS00OWIyLThlZTQtNTcyOTg0MjQ0ZjY1IiwidGl0bGUiOiJFYXN5IENocmlzdG1hcyBUcmVlIENyYWZ0cyBJZGVhcyBmb3IgdG9kZGxlcnMgYW5kIHByZXM= (truncated)",
         "streaming-0affec486183-pin",
         "shardId-000000000000",
         "49654776698500171106604178629177762709954149790659903490",
         "2024-08-12T12:46:45.904+0000"
        ],
        [
         "partition-1",
         "eyJpbmRleCI6MTI2OCwidW5pcXVlX2lkIjoiZTJmMmNlYzUtY2RhNS00MmIyLWFiOWQtNmRkZGY4NjNlOTRlIiwidGl0bGUiOiJKYW5ldCBvbiBUd2l0dGVyIiwiZGVzY3JpcHRpb24iOiJIZXJl4oCZcyBob3cgdG8gZ2V0IGw= (truncated)",
         "streaming-0affec486183-pin",
         "shardId-000000000000",
         "49654776698500171106604178640687945438505034369195835394",
         "2024-08-12T12:46:48.254+0000"
        ],
        [
         "partition-1",
         "eyJpbmRleCI6NjU2NiwidW5pcXVlX2lkIjoiNmQ4ODQ4ZjgtZjUxNS00OTM1LThkYWUtNWRkMDIzMDRkNzZlIiwidGl0bGUiOiJOYXZ5IGFuZCBOZXV0cmFsIEZhbGwgTGl2aW5nIFJvb20gKyBLaXRjaGVuIFRvdXIgLSBTYW4= (truncated)",
         "streaming-0affec486183-pin",
         "shardId-000000000000",
         "49654776698500171106604178651463101268730224272071458818",
         "2024-08-12T12:46:49.922+0000"
        ],
        [
         "partition-1",
         "eyJpbmRleCI6MTU1NSwidW5pcXVlX2lkIjoiMWYyMDU1MWItYTIxYy00ZmYwLWIyMGQtNDllOTVmZGM1MGQzIiwidGl0bGUiOiJTa2luIFB1cmdpbmc6IERpZSBQZmxlZ2VtZXRob2RlIGbDvHIgcmVpbmUgSGF1dCB8IEVMTEU= (truncated)",
         "streaming-0affec486183-pin",
         "shardId-000000000000",
         "49654776698500171106604178659584664924901303205186502658",
         "2024-08-12T12:46:51.562+0000"
        ],
        [
         "partition-1",
         "eyJpbmRleCI6MzcyOSwidW5pcXVlX2lkIjoiYWM5MGYxZDItZGM5ZS00MzhjLWIwNzMtZGQ0ODUxMWI4MGIwIiwidGl0bGUiOiI1ICsgTmF0dXJlIEdhbWVzIGZvciBZb3VyIEhvbWVzY2hvb2wiLCJkZXNjcmlwdGlvbiI6Ik8= (truncated)",
         "streaming-0affec486183-pin",
         "shardId-000000000000",
         "49654776698500171106604178662663798987459763781882609666",
         "2024-08-12T12:46:52.292+0000"
        ],
        [
         "partition-1",
         "eyJpbmRleCI6NjM5OCwidW5pcXVlX2lkIjoiZWE0NGQzMTgtMmNlZC00Y2Y4LWE2NmYtYTZhMDM2Yjg0ZmFhIiwidGl0bGUiOiJNeSBtYXN0ZXIgYmF0aHJvb20gbWFrZW92ZXIgd2l0aCBAZmxvb3JhbmRkZWNvciAhIEZvbGw= (truncated)",
         "streaming-0affec486183-pin",
         "shardId-000000000000",
         "49654776698500171106604178664932952750876422742806102018",
         "2024-08-12T12:46:52.902+0000"
        ],
        [
         "partition-1",
         "eyJpbmRleCI6NDYsInVuaXF1ZV9pZCI6IjE5MjM0MDczLTg5MDUtNDg4NS1iMGQ1LTk4ZTBiODRjYmYyNyIsInRpdGxlIjoiMTAgV2F0ZXJjb2xvciBIYWNrcyBGb3IgQmVnaW5uZXJzIHwgVGlwcyBhbmQgVHJpY2tzIHRvIE0= (truncated)",
         "streaming-0affec486183-pin",
         "shardId-000000000000",
         "49654776698500171106604178673215303541056247356157067266",
         "2024-08-12T12:46:54.501+0000"
        ],
        [
         "partition-1",
         "eyJpbmRleCI6NDk4OCwidW5pcXVlX2lkIjoiZmJkZmQzNTUtYTM1Ni00NmMyLWEyNTEtMzAxODY5YWUyNjc0IiwidGl0bGUiOiJGdW4gQm9vayBQYWdlIENyYWZ0cyAtIE1vbUFkdmljZSIsImRlc2NyaXB0aW9uIjoiRnVuIEI= (truncated)",
         "streaming-0affec486183-pin",
         "shardId-000000000000",
         "49654776698500171106604178681214765689446248673907310594",
         "2024-08-12T12:46:56.171+0000"
        ],
        [
         "partition-1",
         "eyJpbmRleCI6NDI3LCJ1bmlxdWVfaWQiOiI0YTQ1NTM0MC0wOWEyLTQzNzAtYWQ4Ni03M2Q3OTY0NjAzZGIiLCJ0aXRsZSI6IkRJWSBBY3J5bGljIFBhaW50IFBvdXJpbmcgV2FsbCBBcnQgLSBBYmJvdHRzIEF0IEhvbWUiLCI= (truncated)",
         "streaming-0affec486183-pin",
         "shardId-000000000000",
         "49654776698500171106604178684840334222470521706290085890",
         "2024-08-12T12:46:56.902+0000"
        ],
        [
         "partition-1",
         "eyJpbmRleCI6MzgwMCwidW5pcXVlX2lkIjoiZDJjMzY3ZWQtOTI4Ny00ZWEzLWIxNzMtMTk4YjI5MmQ5OTgxIiwidGl0bGUiOiJSZWluZm9yY2luZyB0aGUgRGlmZmljdWx0IENoaWxkIFdoZW4gVG9rZW4gQm9hcmRzIERvbic= (truncated)",
         "streaming-0affec486183-pin",
         "shardId-000000000000",
         "49654776698500171106604178704102149306390408553042018306",
         "2024-08-12T12:47:00.603+0000"
        ],
        [
         "partition-1",
         "eyJpbmRleCI6MTU5LCJ1bmlxdWVfaWQiOiI4NDFhMTYxYS00N2I4LTQxNjEtODg0ZC1hZGViNjdhMjhiMWUiLCJ0aXRsZSI6IlZhbGVudGluZSdzIERheSBCZWUgRGlyZWN0ZWQgRHJhd2luZyB7QXJ0IFByb2plY3R9IiwiZGU= (truncated)",
         "streaming-0affec486183-pin",
         "shardId-000000000000",
         "49654776698500171106604178712722999326062329266591236098",
         "2024-08-12T12:47:02.300+0000"
        ],
        [
         "partition-1",
         "eyJpbmRleCI6MzU5OSwidW5pcXVlX2lkIjoiZmYwZGQ5NDUtZGFmYS00MTFjLThjZWYtZWI0M2UzNzRlODE1IiwidGl0bGUiOiJFZHVjYXRpb25hbCBMZWFkZXJzaGlwIGluIEFvdGVhcm9hIE5ldyBaZWFsYW5kIDogSXNzdWU= (truncated)",
         "streaming-0affec486183-pin",
         "shardId-000000000000",
         "49654776698500171106604178717163383861506862362725974018",
         "2024-08-12T12:47:02.938+0000"
        ],
        [
         "partition-1",
         "eyJpbmRleCI6MTA1NTIsInVuaXF1ZV9pZCI6IjE3MzAxYjhjLWNjYmItNDJhZC1iMmRmLTM4NzZkZjM1YjFjZCIsInRpdGxlIjoiVGhlIFByb3dsZXIgRW1lcmdlbmN5IFJlc3BvbnNlIFZlaGljbGUiLCJkZXNjcmlwdGlvbiI= (truncated)",
         "streaming-0affec486183-pin",
         "shardId-000000000000",
         "49654776698500171106604178732131094434155586312202092546",
         "2024-08-12T12:47:05.528+0000"
        ],
        [
         "partition-1",
         "eyJpbmRleCI6MTQyMiwidW5pcXVlX2lkIjoiN2JiZTg2MGMtYTczOS00YmE5LWJhYmQtZmViMjRiYjZlNGQ5IiwidGl0bGUiOiI0MSBMaWZlLVNhdmluZyBCZWF1dHkgSGFja3MgRXZlcnkgR2lybCBTaG91bGQgSGF2ZSBJbiA= (truncated)",
         "streaming-0affec486183-pin",
         "shardId-000000000000",
         "49654776698500171106604178736167697745848833126546014210",
         "2024-08-12T12:47:06.155+0000"
        ],
        [
         "partition-1",
         "eyJpbmRleCI6NTMwOSwidW5pcXVlX2lkIjoiYzM4YmI0N2ItOTU4NC00ZmM0LWFmMGQtYTMxZTEwNjFkZjQxIiwidGl0bGUiOiJIb3cgdG8gV2F0Y2ggWW91ciBGYXZvcml0ZSBTaG93cyBXaXRob3V0IENhYmxlIiwiZGVzY3I= (truncated)",
         "streaming-0affec486183-pin",
         "shardId-000000000000",
         "49654776698500171106604178744797010246258056381757128706",
         "2024-08-12T12:47:07.811+0000"
        ],
        [
         "partition-1",
         "eyJpbmRleCI6NTUyLCJ1bmlxdWVfaWQiOiJiODI2MDJhOS1lNDM0LTQyY2YtOTQ4MS0yMmYzZjQxZDgyY2UiLCJ0aXRsZSI6IlRoZSBoZXJiYWwgYmVkOiBLYXRpZSBTY290dCdzIHBzeWNoZWRlbGljIGZsb3JhIGFuZCBmYXU= (truncated)",
         "streaming-0affec486183-pin",
         "shardId-000000000000",
         "49654776698500171106604178754695694857262640132970774530",
         "2024-08-12T12:47:09.402+0000"
        ],
        [
         "partition-1",
         "eyJpbmRleCI6MTM3MSwidW5pcXVlX2lkIjoiMzNlOTJhYzEtNzNkMS00YzMxLTk4OTItZDVlNjMzMDYwNzkwIiwidGl0bGUiOiJIb3cgVG8gRG8gTWFrZXVwIC0gU3RlcCBCeSBTdGVwIFRpcHMgRm9yIFRoZSBQZXJmZWN0IEw= (truncated)",
         "streaming-0affec486183-pin",
         "shardId-000000000000",
         "49654776698500171106604178757994853418990963219463405570",
         "2024-08-12T12:47:10.001+0000"
        ],
        [
         "partition-1",
         "eyJpbmRleCI6MTAxMTksInVuaXF1ZV9pZCI6IjQwZWFiOWJhLTc4MTItNGYyNi1iYWNhLTM1YTZiZWQ5NWE5ZiIsInRpdGxlIjoiSG93IHRvIEFmZm9yZCBGYW1pbHkgVHJhdmVsOiAxMCBNaXN0YWtlcyBZb3UncmUgTWFraW4= (truncated)",
         "streaming-0affec486183-pin",
         "shardId-000000000000",
         "49654776698500171106604178761258953131950461991170080770",
         "2024-08-12T12:47:10.699+0000"
        ],
        [
         "partition-1",
         "eyJpbmRleCI6OTA3NCwidW5pcXVlX2lkIjoiMmFkZWRlMDYtN2ZiMC00YjVmLThjZjktY2U4ZTZkNmZhNmExIiwidGl0bGUiOiI3NyBEaXNuZXkgVGF0dG9vcyBUbyBVbmxlYXNoIFlvdXIgTWFnaWMgUG93ZXIgLSBPdXIgTWk= (truncated)",
         "streaming-0affec486183-pin",
         "shardId-000000000000",
         "49654776698500171106604178769621093026224852061332176898",
         "2024-08-12T12:47:12.341+0000"
        ],
        [
         "partition-1",
         "eyJpbmRleCI6MjYwNCwidW5pcXVlX2lkIjoiMDg3YjBmYTktZjkwMS00MjYyLWFhMGEtNmNhZjIzNGQxYjM1IiwidGl0bGUiOiI3NSsgTmV1dHJhbCBDaHJpc3RtYXMgSG9tZSBEZWNvciBmb3IgdGhlIEhvbGlkYXkgU2Vhc28= (truncated)",
         "streaming-0affec486183-pin",
         "shardId-000000000000",
         "49654776698500171106604178772237208499870909664115818498",
         "2024-08-12T12:47:12.971+0000"
        ],
        [
         "partition-1",
         "eyJpbmRleCI6MjIzLCJ1bmlxdWVfaWQiOiI4NjcyZjk5Ni02Y2U5LTQwM2UtOTU5OS0yYzRkZjY2OGYxZTAiLCJ0aXRsZSI6IkVhc3kgR291YWNoZSBwYWludGluZyIsImRlc2NyaXB0aW9uIjoiTm8gZGVzY3JpcHRpb24gYXY= (truncated)",
         "streaming-0affec486183-pin",
         "shardId-000000000000",
         "49654776698500171106604178780758926602334430854058606594",
         "2024-08-12T12:47:14.900+0000"
        ],
        [
         "partition-1",
         "eyJpbmRleCI6ODMxMiwidW5pcXVlX2lkIjoiY2EzYzliYjAtNzI4MS00YjliLThhYmYtMjAxZGEwYjY4ZDYyIiwidGl0bGUiOiI4IFZpc2lvbiBCb2FyZCBJZGVhcyBUbyBNYW5pZmVzdCBZb3VyIERyZWFtcyAtIFRoZUZhYjI= (truncated)",
         "streaming-0affec486183-pin",
         "shardId-000000000000",
         "49654776698500171106604178788030615407316425477355208706",
         "2024-08-12T12:47:16.525+0000"
        ],
        [
         "partition-1",
         "eyJpbmRleCI6Mjg1OCwidW5pcXVlX2lkIjoiMjZmODFkYTQtMjZhOS00NjViLWI4MTktNjA5OWJjNjZlMWMwIiwidGl0bGUiOiI1MCBQb3B1bGFyIFNwcmluZyBDcmFmdHMgRm9yIEtpZHMgWW91IE5lZWQgVG8gTWFrZSIsImQ= (truncated)",
         "streaming-0affec486183-pin",
         "shardId-000000000000",
         "49654776698500171106604178796268235942170508742522568706",
         "2024-08-12T12:47:18.183+0000"
        ],
        [
         "partition-1",
         "eyJpbmRleCI6NjI2MSwidW5pcXVlX2lkIjoiMzA4YzVjMWMtMWViZC00NjQ5LWJlNzgtMTQ0MjRlZTM0NmIxIiwidGl0bGUiOiJERUNPUkFUSU5HIFdJVEggUkFUVEFOICYgQ0FORSAtIERhc2hpbmcgRGFybGluJyIsImRlc2M= (truncated)",
         "streaming-0affec486183-pin",
         "shardId-000000000000",
         "49654776698500171106604178803601579963952849453729185794",
         "2024-08-12T12:47:19.850+0000"
        ],
        [
         "partition-1",
         "eyJpbmRleCI6MzIwMSwidW5pcXVlX2lkIjoiNjM3MGYwOTYtZjM0NC00OWMzLWE2YjEtMzA3MmM1MzdhOTUzIiwidGl0bGUiOiJESVkgUG9tIFBvbSBMZXR0ZXJzIGZvciBNT00hIiwiZGVzY3JpcHRpb24iOiJNYXJsYSBNZXI= (truncated)",
         "streaming-0affec486183-pin",
         "shardId-000000000000",
         "49654776698500171106604178810435637622234348315782152194",
         "2024-08-12T12:47:21.441+0000"
        ],
        [
         "partition-1",
         "eyJpbmRleCI6MjYzNywidW5pcXVlX2lkIjoiYjE4ZThkMzgtZWI0NS00MGMwLWI0NDMtNGZjYTI1MGRmODUwIiwidGl0bGUiOiJNYXJjbyBCb2hvIiwiZGVzY3JpcHRpb24iOiJObyBkZXNjcmlwdGlvbiBhdmFpbGFibGUgU3Q= (truncated)",
         "streaming-0affec486183-pin",
         "shardId-000000000000",
         "49654776698500171106604178813120661867598439781524045826",
         "2024-08-12T12:47:22.040+0000"
        ],
        [
         "partition-1",
         "eyJpbmRleCI6MTE5OCwidW5pcXVlX2lkIjoiMWE5MGNhYWMtZjVkZi00YTI3LTgyMWItMGZiNGJlNjc4NTQyIiwidGl0bGUiOiJUaGUgRW5kIG9mIHRoZSBTa2luLUNhcmUgQ3JhemUiLCJkZXNjcmlwdGlvbiI6IkluIHRoZSA= (truncated)",
         "streaming-0affec486183-pin",
         "shardId-000000000000",
         "49654776698500171106604178825304216277674672741651841026",
         "2024-08-12T12:47:24.651+0000"
        ],
        [
         "partition-1",
         "eyJpbmRleCI6MTAzNzAsInVuaXF1ZV9pZCI6Ijc0Njk0OGU3LWEyMTYtNDU2Yi04ZGU3LTdmZWU3MzEyMDEyYyIsInRpdGxlIjoiSm9zaHVhIFRyZWUgLSBBIFdlZWtlbmQgaW4gdGhlIERlc2VydCB3aXRoIEZhaXRoZnVsbCA= (truncated)",
         "streaming-0affec486183-pin",
         "shardId-000000000000",
         "49654776698500171106604178832268837924474551485853597698",
         "2024-08-12T12:47:26.324+0000"
        ],
        [
         "partition-1",
         "eyJpbmRleCI6NzE2NywidW5pcXVlX2lkIjoiOTIyNDI1ZDItMTZkYy00NjVlLThmZTQtZTNjMDgxYTAyOTlmIiwidGl0bGUiOiJIYW1pbHRvbiBLaGFraSBBdmlhdGlvbiBQaWxvdCBDaHJvbm8gV2F0Y2ggSDc2NzEyMTUxIiw= (truncated)",
         "streaming-0affec486183-pin",
         "shardId-000000000000",
         "49654776698500171106604178835989911597248380223038160898",
         "2024-08-12T12:47:26.941+0000"
        ],
        [
         "partition-1",
         "eyJpbmRleCI6MTA2NzMsInVuaXF1ZV9pZCI6ImVkZTczMTY5LTViOWYtNDkwNi1iMDJlLTlkYjFiZWUyMDNhNCIsInRpdGxlIjoiRGlzY292ZXIgdGhlIG5ldyBSYW5nZSBSb3ZlciBsdXh1cnkgcGVyZm9ybWFuY2UgU1VWIiw= (truncated)",
         "streaming-0affec486183-pin",
         "shardId-000000000000",
         "49654776698500171106604178838716039320479369012000587778",
         "2024-08-12T12:47:27.601+0000"
        ],
        [
         "partition-1",
         "eyJpbmRleCI6MjA2MCwidW5pcXVlX2lkIjoiMTc3ZGRlMWEtMzQwOS00ODY1LWE1MzMtOWY1MGVmYWVkY2Q4IiwidGl0bGUiOiI1MCBESVkgRGVjb3JhdGlvbnMgZm9yIGEgSm9sbHkgQ2hyaXN0bWFzIFRhYmxlIFNldHRpbmc= (truncated)",
         "streaming-0affec486183-pin",
         "shardId-000000000000",
         "49654776698500171106604178847970366469629355481815318530",
         "2024-08-12T12:47:29.465+0000"
        ],
        [
         "partition-1",
         "eyJpbmRleCI6OTQ4NywidW5pcXVlX2lkIjoiM2JjY2IwNWUtZjAzMS00NzdmLTljYTQtOWJlMjhlNWJkNTQyIiwidGl0bGUiOiJUaGUgQ2hlYXBlc3QgQ291bnRyaWVzIHRvIFZpc2l0IEFyb3VuZCB0aGUgV29ybGQiLCJkZXM= (truncated)",
         "streaming-0affec486183-pin",
         "shardId-000000000000",
         "49654776698500171106604178851522190527657135997102063618",
         "2024-08-12T12:47:30.122+0000"
        ],
        [
         "partition-1",
         "eyJpbmRleCI6NzcyLCJ1bmlxdWVfaWQiOiI0OWExMjUxNi0yYzc3LTQ0NWYtYjY1Ni00YjU1YjRhNjk2MDgiLCJ0aXRsZSI6IjUgUGFzdGVsIENvbG9yIFBhbGV0dGVzIGZvciA1IEZsb3JhbCBGYXZvcml0ZXMiLCJkZXNjcmk= (truncated)",
         "streaming-0affec486183-pin",
         "shardId-000000000000",
         "49654776698500171106604178853813104955826858351889743874",
         "2024-08-12T12:47:30.721+0000"
        ],
        [
         "partition-1",
         "eyJpbmRleCI6NzUxMCwidW5pcXVlX2lkIjoiZTA5ZmRkZGEtMWNjMi00MWM4LWI3OTktZDIzOGZlOTBiOTM3IiwidGl0bGUiOiJTZWUgdGhlIE1vc3QgU3R5bGlzaCBNZW4gb2YgTmV3IFlvcmsgRmFzaGlvbiBXZWVrIiwiZGU= (truncated)",
         "streaming-0affec486183-pin",
         "shardId-000000000000",
         "49654776698500171106604178861182716752197637938337546242",
         "2024-08-12T12:47:32.384+0000"
        ],
        [
         "partition-1",
         "eyJpbmRleCI6NTc1OCwidW5pcXVlX2lkIjoiYWY2MDIwNzUtN2JlYS00YWEwLWFkZjQtYTFhODk5NTJlOTJlIiwidGl0bGUiOiJSb2JvdCBDaGFsbGVuZ2UgU2NyZWVuIiwiZGVzY3JpcHRpb24iOiJOZWVkIHRvIG9yZ2FuaXo= (truncated)",
         "streaming-0affec486183-pin",
         "shardId-000000000000",
         "49654776698500171106604178869546065572291642706393825282",
         "2024-08-12T12:47:34.105+0000"
        ]
       ],
       "datasetInfos": [],
       "dbfsResultPath": null,
       "isJsonSchema": true,
       "metadata": {},
       "overflow": false,
       "plotOptions": {
        "customPlotOptions": {},
        "displayType": "table",
        "pivotAggregation": null,
        "pivotColumns": null,
        "xColumns": null,
        "yColumns": null
       },
       "removedWidgets": [],
       "schema": [
        {
         "metadata": "{}",
         "name": "partitionKey",
         "type": "\"string\""
        },
        {
         "metadata": "{}",
         "name": "data",
         "type": "\"binary\""
        },
        {
         "metadata": "{}",
         "name": "stream",
         "type": "\"string\""
        },
        {
         "metadata": "{}",
         "name": "shardId",
         "type": "\"string\""
        },
        {
         "metadata": "{}",
         "name": "sequenceNumber",
         "type": "\"string\""
        },
        {
         "metadata": "{}",
         "name": "approximateArrivalTimestamp",
         "type": "\"timestamp\""
        }
       ],
       "type": "table"
      }
     },
     "output_type": "display_data"
    }
   ],
   "source": [
    "kstream_pin = get_kinesis_stream('streaming-0affec486183-pin')\n",
    "# kstream_geo = get_kinesis_stream('streaming-0affec486183-geo')\n",
    "# kstream_user = get_kinesis_stream('streaming-0affec486183-user')\n",
    "display(kstream_pin)"
   ]
  },
  {
   "cell_type": "code",
   "execution_count": 0,
   "metadata": {
    "application/vnd.databricks.v1+cell": {
     "cellMetadata": {
      "byteLimit": 2048000,
      "rowLimit": 10000
     },
     "inputWidgets": {},
     "nuid": "b06689ca-36bd-446f-9ce9-3fd50a09c21b",
     "showTitle": false,
     "title": ""
    }
   },
   "outputs": [
    {
     "output_type": "display_data",
     "data": {
      "text/html": [
       "<style scoped>\n",
       "  .table-result-container {\n",
       "    max-height: 300px;\n",
       "    overflow: auto;\n",
       "  }\n",
       "  table, th, td {\n",
       "    border: 1px solid black;\n",
       "    border-collapse: collapse;\n",
       "  }\n",
       "  th, td {\n",
       "    padding: 5px;\n",
       "  }\n",
       "  th {\n",
       "    text-align: left;\n",
       "  }\n",
       "</style><div class='table-result-container'><table class='table-result'><thead style='background-color: white'><tr><th>partitionKey</th><th>data</th><th>stream</th><th>shardId</th><th>sequenceNumber</th><th>approximateArrivalTimestamp</th></tr></thead><tbody></tbody></table></div>"
      ]
     },
     "metadata": {
      "application/vnd.databricks.v1+output": {
       "addedWidgets": {},
       "aggData": [],
       "aggError": "",
       "aggOverflow": false,
       "aggSchema": [],
       "aggSeriesLimitReached": false,
       "aggType": "",
       "arguments": {},
       "columnCustomDisplayInfos": {},
       "data": [],
       "datasetInfos": [],
       "dbfsResultPath": null,
       "isJsonSchema": true,
       "metadata": {
        "isDbfsCommandResult": false
       },
       "overflow": false,
       "plotOptions": {
        "customPlotOptions": {},
        "displayType": "table",
        "pivotAggregation": null,
        "pivotColumns": null,
        "xColumns": null,
        "yColumns": null
       },
       "removedWidgets": [],
       "schema": [
        {
         "metadata": "{}",
         "name": "partitionKey",
         "type": "\"string\""
        },
        {
         "metadata": "{}",
         "name": "data",
         "type": "\"binary\""
        },
        {
         "metadata": "{}",
         "name": "stream",
         "type": "\"string\""
        },
        {
         "metadata": "{}",
         "name": "shardId",
         "type": "\"string\""
        },
        {
         "metadata": "{}",
         "name": "sequenceNumber",
         "type": "\"string\""
        },
        {
         "metadata": "{}",
         "name": "approximateArrivalTimestamp",
         "type": "\"timestamp\""
        }
       ],
       "type": "table"
      }
     },
     "output_type": "display_data"
    }
   ],
   "source": [
    "# need to be sending live data for this to work:\n",
    "kstream_geo = get_kinesis_stream('streaming-0affec486183-geo')\n",
    "display(kstream_geo)"
   ]
  },
  {
   "cell_type": "code",
   "execution_count": 0,
   "metadata": {
    "application/vnd.databricks.v1+cell": {
     "cellMetadata": {
      "byteLimit": 2048000,
      "rowLimit": 10000
     },
     "inputWidgets": {},
     "nuid": "c076e06f-ad1c-40da-9c59-289f5b50c0d2",
     "showTitle": false,
     "title": ""
    }
   },
   "outputs": [
    {
     "output_type": "display_data",
     "data": {
      "text/html": [
       "<style scoped>\n",
       "  .table-result-container {\n",
       "    max-height: 300px;\n",
       "    overflow: auto;\n",
       "  }\n",
       "  table, th, td {\n",
       "    border: 1px solid black;\n",
       "    border-collapse: collapse;\n",
       "  }\n",
       "  th, td {\n",
       "    padding: 5px;\n",
       "  }\n",
       "  th {\n",
       "    text-align: left;\n",
       "  }\n",
       "</style><div class='table-result-container'><table class='table-result'><thead style='background-color: white'><tr><th>partitionKey</th><th>data</th><th>stream</th><th>shardId</th><th>sequenceNumber</th><th>approximateArrivalTimestamp</th></tr></thead><tbody></tbody></table></div>"
      ]
     },
     "metadata": {
      "application/vnd.databricks.v1+output": {
       "addedWidgets": {},
       "aggData": [],
       "aggError": "",
       "aggOverflow": false,
       "aggSchema": [],
       "aggSeriesLimitReached": false,
       "aggType": "",
       "arguments": {},
       "columnCustomDisplayInfos": {},
       "data": [],
       "datasetInfos": [],
       "dbfsResultPath": null,
       "isJsonSchema": true,
       "metadata": {
        "isDbfsCommandResult": false
       },
       "overflow": false,
       "plotOptions": {
        "customPlotOptions": {},
        "displayType": "table",
        "pivotAggregation": null,
        "pivotColumns": null,
        "xColumns": null,
        "yColumns": null
       },
       "removedWidgets": [],
       "schema": [
        {
         "metadata": "{}",
         "name": "partitionKey",
         "type": "\"string\""
        },
        {
         "metadata": "{}",
         "name": "data",
         "type": "\"binary\""
        },
        {
         "metadata": "{}",
         "name": "stream",
         "type": "\"string\""
        },
        {
         "metadata": "{}",
         "name": "shardId",
         "type": "\"string\""
        },
        {
         "metadata": "{}",
         "name": "sequenceNumber",
         "type": "\"string\""
        },
        {
         "metadata": "{}",
         "name": "approximateArrivalTimestamp",
         "type": "\"timestamp\""
        }
       ],
       "type": "table"
      }
     },
     "output_type": "display_data"
    }
   ],
   "source": [
    "# need to be sending live data for this to work:\n",
    "kstream_user = get_kinesis_stream('streaming-0affec486183-user')\n",
    "display(kstream_user)"
   ]
  },
  {
   "cell_type": "code",
   "execution_count": 0,
   "metadata": {
    "application/vnd.databricks.v1+cell": {
     "cellMetadata": {
      "byteLimit": 2048000,
      "rowLimit": 10000
     },
     "inputWidgets": {},
     "nuid": "fa7ba1ad-30fc-4eb0-8c0a-3ec9c6d1e1e6",
     "showTitle": false,
     "title": ""
    }
   },
   "outputs": [
    {
     "output_type": "display_data",
     "data": {
      "text/html": [
       "<style scoped>\n",
       "  .ansiout {\n",
       "    display: block;\n",
       "    unicode-bidi: embed;\n",
       "    white-space: pre-wrap;\n",
       "    word-wrap: break-word;\n",
       "    word-break: break-all;\n",
       "    font-family: \"Menlo\", \"Monaco\", \"Consolas\", \"Ubuntu Mono\", \"Source Code Pro\", monospace;\n",
       "    font-size: 13px;\n",
       "    color: #555;\n",
       "    margin-left: 4px;\n",
       "    line-height: 19px;\n",
       "  }\n",
       "</style>\n",
       "<div class=\"ansiout\"></div>"
      ]
     },
     "metadata": {
      "application/vnd.databricks.v1+output": {
       "addedWidgets": {},
       "arguments": {},
       "data": "<div class=\"ansiout\"></div>",
       "datasetInfos": [],
       "metadata": {},
       "removedWidgets": [],
       "type": "html"
      }
     },
     "output_type": "display_data"
    }
   ],
   "source": [
    "df_pin = deserialize_kinesis_stream(kstream_pin, pin_schema)\n",
    "df_geo = deserialize_kinesis_stream(kstream_geo, geo_schema)\n",
    "df_user = deserialize_kinesis_stream(kstream_user, user_schema)"
   ]
  },
  {
   "cell_type": "code",
   "execution_count": 0,
   "metadata": {
    "application/vnd.databricks.v1+cell": {
     "cellMetadata": {
      "byteLimit": 2048000,
      "rowLimit": 10000
     },
     "inputWidgets": {},
     "nuid": "ededf3e0-27c0-4084-8280-10b71be381ea",
     "showTitle": false,
     "title": ""
    }
   },
   "outputs": [
    {
     "output_type": "display_data",
     "data": {
      "text/html": [
       "<style scoped>\n",
       "  .ansiout {\n",
       "    display: block;\n",
       "    unicode-bidi: embed;\n",
       "    white-space: pre-wrap;\n",
       "    word-wrap: break-word;\n",
       "    word-break: break-all;\n",
       "    font-family: \"Menlo\", \"Monaco\", \"Consolas\", \"Ubuntu Mono\", \"Source Code Pro\", monospace;\n",
       "    font-size: 13px;\n",
       "    color: #555;\n",
       "    margin-left: 4px;\n",
       "    line-height: 19px;\n",
       "  }\n",
       "</style>\n",
       "<div class=\"ansiout\"></div>"
      ]
     },
     "metadata": {
      "application/vnd.databricks.v1+output": {
       "addedWidgets": {},
       "arguments": {},
       "data": "<div class=\"ansiout\"></div>",
       "datasetInfos": [],
       "metadata": {},
       "removedWidgets": [],
       "type": "html"
      }
     },
     "output_type": "display_data"
    }
   ],
   "source": [
    "# replace empty entries and entries with no relevant data in each column with Nones\n",
    "# column names and values to change to null\n",
    "replace_dict = {\n",
    "    \"description\": \"No description available%\",\n",
    "    \"follower_count\": \"User Info Error\",\n",
    "    \"image_src\": \"Image src error.\",\n",
    "    \"poster_name\": \"User Info Error\",\n",
    "    \"tag_list\": \"N,o, ,T,a,g,s, ,A,v,a,i,l,a,b,l,e\",\n",
    "    \"title\": \"No Title Data Available\"\n",
    "}\n",
    "# replace wrong values with None\n",
    "for key, value in replace_dict.items():\n",
    "    df_pin = df_pin.withColumn(key, when(col(key).like(value), None).otherwise(col(key)))\n",
    "\n",
    "# format follower_count as number\n",
    "df_pin = df_pin.withColumn(\"follower_count\", regexp_replace(\"follower_count\", \"k\", \"000\"))\n",
    "df_pin = df_pin.withColumn(\"follower_count\", regexp_replace(\"follower_count\", \"M\", \"000000\"))\n",
    "\n",
    "# cast follower_count to integer type\n",
    "df_pin = df_pin.withColumn(\"follower_count\", col(\"follower_count\").cast('int'))\n",
    "\n",
    "# convert save_location column to include only the save location path\n",
    "df_pin = df_pin.withColumn(\"save_location\", regexp_replace(\"save_location\", \"Local save in \", \"\"))\n",
    "\n",
    "# rename the index column to ind\n",
    "df_pin = df_pin.withColumnRenamed(\"index\", \"ind\")\n",
    "\n",
    "# reorder the df_pin\n",
    "new_order_pin = [\n",
    "    \"ind\",\n",
    "    \"unique_id\",\n",
    "    \"title\",\n",
    "    \"description\",\n",
    "    \"follower_count\",\n",
    "    \"poster_name\",\n",
    "    \"tag_list\",\n",
    "    \"is_image_or_video\",\n",
    "    \"image_src\",\n",
    "    \"save_location\",\n",
    "    \"category\"\n",
    "]\n",
    "df_pin = df_pin.select(new_order_pin)\n",
    "     "
   ]
  },
  {
   "cell_type": "code",
   "execution_count": 0,
   "metadata": {
    "application/vnd.databricks.v1+cell": {
     "cellMetadata": {
      "byteLimit": 2048000,
      "rowLimit": 10000
     },
     "inputWidgets": {},
     "nuid": "852aa08c-dc16-4f58-a982-e592217e4127",
     "showTitle": false,
     "title": ""
    }
   },
   "outputs": [
    {
     "output_type": "display_data",
     "data": {
      "text/html": [
       "<style scoped>\n",
       "  .ansiout {\n",
       "    display: block;\n",
       "    unicode-bidi: embed;\n",
       "    white-space: pre-wrap;\n",
       "    word-wrap: break-word;\n",
       "    word-break: break-all;\n",
       "    font-family: \"Menlo\", \"Monaco\", \"Consolas\", \"Ubuntu Mono\", \"Source Code Pro\", monospace;\n",
       "    font-size: 13px;\n",
       "    color: #555;\n",
       "    margin-left: 4px;\n",
       "    line-height: 19px;\n",
       "  }\n",
       "</style>\n",
       "<div class=\"ansiout\"></div>"
      ]
     },
     "metadata": {
      "application/vnd.databricks.v1+output": {
       "addedWidgets": {},
       "arguments": {},
       "data": "<div class=\"ansiout\"></div>",
       "datasetInfos": [],
       "metadata": {},
       "removedWidgets": [],
       "type": "html"
      }
     },
     "output_type": "display_data"
    }
   ],
   "source": [
    "from pyspark.sql.types import ArrayType, DoubleType\n",
    "\n",
    "# New coordinates column, array with lat, long\n",
    "df_geo = df_geo.withColumn(\"coordinates\", array(\"latitude\", \"longitude\"))\n",
    "\n",
    "# drop the lat and long cols\n",
    "cols_to_drop = (\"latitude\", \"longitude\")\n",
    "df_geo = df_geo.drop(*cols_to_drop)\n",
    "\n",
    "# convert timestamp column to type timestamp\n",
    "df_geo = df_geo.withColumn(\"timestamp\", to_timestamp(\"timestamp\"))\n",
    "\n",
    "# reorder the df_geo\n",
    "new_order_geo = [\n",
    "    \"ind\",\n",
    "    \"country\",\n",
    "    \"coordinates\",\n",
    "    \"timestamp\",\n",
    "]\n",
    "df_geo = df_geo.select(new_order_geo)\n",
    "     "
   ]
  },
  {
   "cell_type": "code",
   "execution_count": 0,
   "metadata": {
    "application/vnd.databricks.v1+cell": {
     "cellMetadata": {
      "byteLimit": 2048000,
      "rowLimit": 10000
     },
     "inputWidgets": {},
     "nuid": "dbd7a510-6603-4e38-9fc7-e3ddd784ffad",
     "showTitle": false,
     "title": ""
    }
   },
   "outputs": [
    {
     "output_type": "display_data",
     "data": {
      "text/html": [
       "<style scoped>\n",
       "  .ansiout {\n",
       "    display: block;\n",
       "    unicode-bidi: embed;\n",
       "    white-space: pre-wrap;\n",
       "    word-wrap: break-word;\n",
       "    word-break: break-all;\n",
       "    font-family: \"Menlo\", \"Monaco\", \"Consolas\", \"Ubuntu Mono\", \"Source Code Pro\", monospace;\n",
       "    font-size: 13px;\n",
       "    color: #555;\n",
       "    margin-left: 4px;\n",
       "    line-height: 19px;\n",
       "  }\n",
       "</style>\n",
       "<div class=\"ansiout\"></div>"
      ]
     },
     "metadata": {
      "application/vnd.databricks.v1+output": {
       "addedWidgets": {},
       "arguments": {},
       "data": "<div class=\"ansiout\"></div>",
       "datasetInfos": [],
       "metadata": {},
       "removedWidgets": [],
       "type": "html"
      }
     },
     "output_type": "display_data"
    }
   ],
   "source": [
    "# create new user_name from first_name and last_name\n",
    "df_user = df_user.withColumn(\"user_name\", concat(\"first_name\", \"last_name\"))\n",
    "\n",
    "# drop first_name and last_name\n",
    "df_user = df_user.drop('first_name', 'last_name')\n",
    "\n",
    "# convert date_joined to timestamp\n",
    "df_user = df_user.withColumn(\"date_joined\", to_timestamp(\"date_joined\"))\n",
    "\n",
    "# reorder the df_user\n",
    "new_order_user = [\n",
    "    \"ind\",\n",
    "    \"user_name\",\n",
    "    \"age\",\n",
    "    \"date_joined\",\n",
    "]\n",
    "df_user = df_user.select(new_order_user)"
   ]
  },
  {
   "cell_type": "code",
   "execution_count": 0,
   "metadata": {
    "application/vnd.databricks.v1+cell": {
     "cellMetadata": {
      "byteLimit": 2048000,
      "rowLimit": 10000
     },
     "inputWidgets": {},
     "nuid": "68de5dcd-e842-4099-8859-00f3ff56ccd2",
     "showTitle": false,
     "title": ""
    }
   },
   "outputs": [
    {
     "output_type": "display_data",
     "data": {
      "text/html": [
       "<style scoped>\n",
       "  .table-result-container {\n",
       "    max-height: 300px;\n",
       "    overflow: auto;\n",
       "  }\n",
       "  table, th, td {\n",
       "    border: 1px solid black;\n",
       "    border-collapse: collapse;\n",
       "  }\n",
       "  th, td {\n",
       "    padding: 5px;\n",
       "  }\n",
       "  th {\n",
       "    text-align: left;\n",
       "  }\n",
       "</style><div class='table-result-container'><table class='table-result'><thead style='background-color: white'><tr><th>ind</th><th>unique_id</th><th>title</th><th>description</th><th>follower_count</th><th>poster_name</th><th>tag_list</th><th>is_image_or_video</th><th>image_src</th><th>save_location</th><th>category</th></tr></thead><tbody></tbody></table></div>"
      ]
     },
     "metadata": {
      "application/vnd.databricks.v1+output": {
       "addedWidgets": {},
       "aggData": [],
       "aggError": "",
       "aggOverflow": false,
       "aggSchema": [],
       "aggSeriesLimitReached": false,
       "aggType": "",
       "arguments": {},
       "columnCustomDisplayInfos": {},
       "data": [],
       "datasetInfos": [],
       "dbfsResultPath": null,
       "isJsonSchema": true,
       "metadata": {
        "isDbfsCommandResult": false
       },
       "overflow": false,
       "plotOptions": {
        "customPlotOptions": {},
        "displayType": "table",
        "pivotAggregation": null,
        "pivotColumns": null,
        "xColumns": null,
        "yColumns": null
       },
       "removedWidgets": [],
       "schema": [
        {
         "metadata": "{}",
         "name": "ind",
         "type": "\"integer\""
        },
        {
         "metadata": "{}",
         "name": "unique_id",
         "type": "\"string\""
        },
        {
         "metadata": "{}",
         "name": "title",
         "type": "\"string\""
        },
        {
         "metadata": "{}",
         "name": "description",
         "type": "\"string\""
        },
        {
         "metadata": "{}",
         "name": "follower_count",
         "type": "\"integer\""
        },
        {
         "metadata": "{}",
         "name": "poster_name",
         "type": "\"string\""
        },
        {
         "metadata": "{}",
         "name": "tag_list",
         "type": "\"string\""
        },
        {
         "metadata": "{}",
         "name": "is_image_or_video",
         "type": "\"string\""
        },
        {
         "metadata": "{}",
         "name": "image_src",
         "type": "\"string\""
        },
        {
         "metadata": "{}",
         "name": "save_location",
         "type": "\"string\""
        },
        {
         "metadata": "{}",
         "name": "category",
         "type": "\"string\""
        }
       ],
       "type": "table"
      }
     },
     "output_type": "display_data"
    }
   ],
   "source": [
    "# insepct df_pin\n",
    "display(df_pin)"
   ]
  },
  {
   "cell_type": "code",
   "execution_count": 0,
   "metadata": {
    "application/vnd.databricks.v1+cell": {
     "cellMetadata": {
      "byteLimit": 2048000,
      "rowLimit": 10000
     },
     "inputWidgets": {},
     "nuid": "35cdb8c7-42c2-43f4-822c-b8ef97609f6e",
     "showTitle": false,
     "title": ""
    }
   },
   "outputs": [
    {
     "output_type": "display_data",
     "data": {
      "text/html": [
       "<style scoped>\n",
       "  .ansiout {\n",
       "    display: block;\n",
       "    unicode-bidi: embed;\n",
       "    white-space: pre-wrap;\n",
       "    word-wrap: break-word;\n",
       "    word-break: break-all;\n",
       "    font-family: \"Menlo\", \"Monaco\", \"Consolas\", \"Ubuntu Mono\", \"Source Code Pro\", monospace;\n",
       "    font-size: 13px;\n",
       "    color: #555;\n",
       "    margin-left: 4px;\n",
       "    line-height: 19px;\n",
       "  }\n",
       "</style>\n",
       "<div class=\"ansiout\">root\n",
       "-- ind: integer (nullable = true)\n",
       "-- unique_id: string (nullable = true)\n",
       "-- title: string (nullable = true)\n",
       "-- description: string (nullable = true)\n",
       "-- follower_count: integer (nullable = true)\n",
       "-- poster_name: string (nullable = true)\n",
       "-- tag_list: string (nullable = true)\n",
       "-- is_image_or_video: string (nullable = true)\n",
       "-- image_src: string (nullable = true)\n",
       "-- save_location: string (nullable = true)\n",
       "-- category: string (nullable = true)\n",
       "\n",
       "</div>"
      ]
     },
     "metadata": {
      "application/vnd.databricks.v1+output": {
       "addedWidgets": {},
       "arguments": {},
       "data": "<div class=\"ansiout\">root\n |-- ind: integer (nullable = true)\n |-- unique_id: string (nullable = true)\n |-- title: string (nullable = true)\n |-- description: string (nullable = true)\n |-- follower_count: integer (nullable = true)\n |-- poster_name: string (nullable = true)\n |-- tag_list: string (nullable = true)\n |-- is_image_or_video: string (nullable = true)\n |-- image_src: string (nullable = true)\n |-- save_location: string (nullable = true)\n |-- category: string (nullable = true)\n\n</div>",
       "datasetInfos": [],
       "metadata": {},
       "removedWidgets": [],
       "type": "html"
      }
     },
     "output_type": "display_data"
    }
   ],
   "source": [
    "#df_pin.schema\n",
    "#df_pin.schema.simpleString()\n",
    "df_pin.printSchema()"
   ]
  },
  {
   "cell_type": "code",
   "execution_count": 0,
   "metadata": {
    "application/vnd.databricks.v1+cell": {
     "cellMetadata": {
      "byteLimit": 2048000,
      "rowLimit": 10000
     },
     "inputWidgets": {},
     "nuid": "33453df4-34c2-4aae-bae5-f0ef09a8a32d",
     "showTitle": false,
     "title": ""
    }
   },
   "outputs": [
    {
     "output_type": "display_data",
     "data": {
      "text/html": [
       "<style scoped>\n",
       "  .ansiout {\n",
       "    display: block;\n",
       "    unicode-bidi: embed;\n",
       "    white-space: pre-wrap;\n",
       "    word-wrap: break-word;\n",
       "    word-break: break-all;\n",
       "    font-family: \"Menlo\", \"Monaco\", \"Consolas\", \"Ubuntu Mono\", \"Source Code Pro\", monospace;\n",
       "    font-size: 13px;\n",
       "    color: #555;\n",
       "    margin-left: 4px;\n",
       "    line-height: 19px;\n",
       "  }\n",
       "</style>\n",
       "<div class=\"ansiout\"></div>"
      ]
     },
     "metadata": {
      "application/vnd.databricks.v1+output": {
       "addedWidgets": {},
       "arguments": {},
       "data": "<div class=\"ansiout\"></div>",
       "datasetInfos": [],
       "metadata": {},
       "removedWidgets": [],
       "type": "html"
      }
     },
     "output_type": "display_data"
    },
    {
     "output_type": "display_data",
     "data": {
      "text/html": [
       "<style scoped>\n",
       "  .ansiout {\n",
       "    display: block;\n",
       "    unicode-bidi: embed;\n",
       "    white-space: pre-wrap;\n",
       "    word-wrap: break-word;\n",
       "    word-break: break-all;\n",
       "    font-family: \"Menlo\", \"Monaco\", \"Consolas\", \"Ubuntu Mono\", \"Source Code Pro\", monospace;\n",
       "    font-size: 13px;\n",
       "    color: #555;\n",
       "    margin-left: 4px;\n",
       "    line-height: 19px;\n",
       "  }\n",
       "</style>\n",
       "<div class=\"ansiout\"><span class=\"ansi-red-fg\">---------------------------------------------------------------------------</span>\n",
       "<span class=\"ansi-red-fg\">AttributeError</span>                            Traceback (most recent call last)\n",
       "<span class=\"ansi-green-fg\">&lt;command-1126979784802555&gt;</span> in <span class=\"ansi-cyan-fg\">&lt;module&gt;</span>\n",
       "<span class=\"ansi-green-fg\">----&gt; 1</span><span class=\"ansi-red-fg\"> </span>display<span class=\"ansi-blue-fg\">(</span>df_geo<span class=\"ansi-blue-fg\">)</span><span class=\"ansi-blue-fg\">.</span>start<span class=\"ansi-blue-fg\">(</span><span class=\"ansi-blue-fg\">)</span><span class=\"ansi-blue-fg\">.</span>awaitTermination<span class=\"ansi-blue-fg\">(</span><span class=\"ansi-blue-fg\">)</span><span class=\"ansi-blue-fg\">;</span>\n",
       "\n",
       "<span class=\"ansi-red-fg\">AttributeError</span>: &#39;NoneType&#39; object has no attribute &#39;start&#39;</div>"
      ]
     },
     "metadata": {
      "application/vnd.databricks.v1+output": {
       "arguments": {},
       "data": "<div class=\"ansiout\"><span class=\"ansi-red-fg\">---------------------------------------------------------------------------</span>\n<span class=\"ansi-red-fg\">AttributeError</span>                            Traceback (most recent call last)\n<span class=\"ansi-green-fg\">&lt;command-1126979784802555&gt;</span> in <span class=\"ansi-cyan-fg\">&lt;module&gt;</span>\n<span class=\"ansi-green-fg\">----&gt; 1</span><span class=\"ansi-red-fg\"> </span>display<span class=\"ansi-blue-fg\">(</span>df_geo<span class=\"ansi-blue-fg\">)</span><span class=\"ansi-blue-fg\">.</span>start<span class=\"ansi-blue-fg\">(</span><span class=\"ansi-blue-fg\">)</span><span class=\"ansi-blue-fg\">.</span>awaitTermination<span class=\"ansi-blue-fg\">(</span><span class=\"ansi-blue-fg\">)</span><span class=\"ansi-blue-fg\">;</span>\n\n<span class=\"ansi-red-fg\">AttributeError</span>: &#39;NoneType&#39; object has no attribute &#39;start&#39;</div>",
       "errorSummary": "<span class=\"ansi-red-fg\">AttributeError</span>: &#39;NoneType&#39; object has no attribute &#39;start&#39;",
       "errorTraceType": "html",
       "metadata": {},
       "type": "ipynbError"
      }
     },
     "output_type": "display_data"
    }
   ],
   "source": [
    "display(df_geo)"
   ]
  },
  {
   "cell_type": "code",
   "execution_count": 0,
   "metadata": {
    "application/vnd.databricks.v1+cell": {
     "cellMetadata": {
      "byteLimit": 2048000,
      "rowLimit": 10000
     },
     "inputWidgets": {},
     "nuid": "1eeb7e04-29a9-4c4d-bd8f-78b588118dc3",
     "showTitle": false,
     "title": ""
    }
   },
   "outputs": [
    {
     "output_type": "display_data",
     "data": {
      "text/html": [
       "<style scoped>\n",
       "  .ansiout {\n",
       "    display: block;\n",
       "    unicode-bidi: embed;\n",
       "    white-space: pre-wrap;\n",
       "    word-wrap: break-word;\n",
       "    word-break: break-all;\n",
       "    font-family: \"Menlo\", \"Monaco\", \"Consolas\", \"Ubuntu Mono\", \"Source Code Pro\", monospace;\n",
       "    font-size: 13px;\n",
       "    color: #555;\n",
       "    margin-left: 4px;\n",
       "    line-height: 19px;\n",
       "  }\n",
       "</style>\n",
       "<div class=\"ansiout\">root\n",
       "-- ind: integer (nullable = true)\n",
       "-- country: string (nullable = true)\n",
       "-- coordinates: array (nullable = false)\n",
       "    |-- element: float (containsNull = true)\n",
       "-- timestamp: timestamp (nullable = true)\n",
       "\n",
       "</div>"
      ]
     },
     "metadata": {
      "application/vnd.databricks.v1+output": {
       "addedWidgets": {},
       "arguments": {},
       "data": "<div class=\"ansiout\">root\n |-- ind: integer (nullable = true)\n |-- country: string (nullable = true)\n |-- coordinates: array (nullable = false)\n |    |-- element: float (containsNull = true)\n |-- timestamp: timestamp (nullable = true)\n\n</div>",
       "datasetInfos": [],
       "metadata": {},
       "removedWidgets": [],
       "type": "html"
      }
     },
     "output_type": "display_data"
    }
   ],
   "source": [
    "df_geo.printSchema()"
   ]
  },
  {
   "cell_type": "code",
   "execution_count": 0,
   "metadata": {
    "application/vnd.databricks.v1+cell": {
     "cellMetadata": {},
     "inputWidgets": {},
     "nuid": "e459f461-4807-43ed-a2e8-487c01904aa2",
     "showTitle": false,
     "title": ""
    }
   },
   "outputs": [],
   "source": [
    "display(df_user)"
   ]
  },
  {
   "cell_type": "code",
   "execution_count": 0,
   "metadata": {
    "application/vnd.databricks.v1+cell": {
     "cellMetadata": {
      "byteLimit": 2048000,
      "rowLimit": 10000
     },
     "inputWidgets": {},
     "nuid": "050580d9-8724-479b-a66c-0c358dfc5185",
     "showTitle": false,
     "title": ""
    }
   },
   "outputs": [
    {
     "output_type": "display_data",
     "data": {
      "text/html": [
       "<style scoped>\n",
       "  .ansiout {\n",
       "    display: block;\n",
       "    unicode-bidi: embed;\n",
       "    white-space: pre-wrap;\n",
       "    word-wrap: break-word;\n",
       "    word-break: break-all;\n",
       "    font-family: \"Menlo\", \"Monaco\", \"Consolas\", \"Ubuntu Mono\", \"Source Code Pro\", monospace;\n",
       "    font-size: 13px;\n",
       "    color: #555;\n",
       "    margin-left: 4px;\n",
       "    line-height: 19px;\n",
       "  }\n",
       "</style>\n",
       "<div class=\"ansiout\">root\n",
       "-- ind: integer (nullable = true)\n",
       "-- user_name: string (nullable = true)\n",
       "-- age: string (nullable = true)\n",
       "-- date_joined: timestamp (nullable = true)\n",
       "\n",
       "</div>"
      ]
     },
     "metadata": {
      "application/vnd.databricks.v1+output": {
       "addedWidgets": {},
       "arguments": {},
       "data": "<div class=\"ansiout\">root\n |-- ind: integer (nullable = true)\n |-- user_name: string (nullable = true)\n |-- age: string (nullable = true)\n |-- date_joined: timestamp (nullable = true)\n\n</div>",
       "datasetInfos": [],
       "metadata": {},
       "removedWidgets": [],
       "type": "html"
      }
     },
     "output_type": "display_data"
    }
   ],
   "source": [
    "df_user.printSchema()"
   ]
  },
  {
   "cell_type": "code",
   "execution_count": 0,
   "metadata": {
    "application/vnd.databricks.v1+cell": {
     "cellMetadata": {},
     "inputWidgets": {},
     "nuid": "e88daf1b-36c1-49fd-a8dc-61c79256d6dd",
     "showTitle": false,
     "title": ""
    }
   },
   "outputs": [],
   "source": []
  },
  {
   "cell_type": "code",
   "execution_count": 0,
   "metadata": {
    "application/vnd.databricks.v1+cell": {
     "cellMetadata": {
      "byteLimit": 2048000,
      "rowLimit": 10000
     },
     "inputWidgets": {},
     "nuid": "678a2b76-2661-4e8d-92f7-200c879a2c4a",
     "showTitle": false,
     "title": ""
    }
   },
   "outputs": [
    {
     "output_type": "display_data",
     "data": {
      "text/html": [
       "<style scoped>\n",
       "  .ansiout {\n",
       "    display: block;\n",
       "    unicode-bidi: embed;\n",
       "    white-space: pre-wrap;\n",
       "    word-wrap: break-word;\n",
       "    word-break: break-all;\n",
       "    font-family: \"Menlo\", \"Monaco\", \"Consolas\", \"Ubuntu Mono\", \"Source Code Pro\", monospace;\n",
       "    font-size: 13px;\n",
       "    color: #555;\n",
       "    margin-left: 4px;\n",
       "    line-height: 19px;\n",
       "  }\n",
       "</style>\n",
       "<div class=\"ansiout\"></div>"
      ]
     },
     "metadata": {
      "application/vnd.databricks.v1+output": {
       "addedWidgets": {},
       "arguments": {},
       "data": "<div class=\"ansiout\"></div>",
       "datasetInfos": [],
       "metadata": {},
       "removedWidgets": [],
       "type": "html"
      }
     },
     "output_type": "display_data"
    },
    {
     "output_type": "display_data",
     "data": {
      "text/html": [
       "<style scoped>\n",
       "  .ansiout {\n",
       "    display: block;\n",
       "    unicode-bidi: embed;\n",
       "    white-space: pre-wrap;\n",
       "    word-wrap: break-word;\n",
       "    word-break: break-all;\n",
       "    font-family: \"Menlo\", \"Monaco\", \"Consolas\", \"Ubuntu Mono\", \"Source Code Pro\", monospace;\n",
       "    font-size: 13px;\n",
       "    color: #555;\n",
       "    margin-left: 4px;\n",
       "    line-height: 19px;\n",
       "  }\n",
       "</style>\n",
       "<div class=\"ansiout\"><span class=\"ansi-red-fg\">---------------------------------------------------------------------------</span>\n",
       "<span class=\"ansi-red-fg\">AnalysisException</span>                         Traceback (most recent call last)\n",
       "<span class=\"ansi-green-fg\">&lt;command-1126979784802560&gt;</span> in <span class=\"ansi-cyan-fg\">&lt;module&gt;</span>\n",
       "<span class=\"ansi-green-fg\">----&gt; 1</span><span class=\"ansi-red-fg\"> </span>print<span class=\"ansi-blue-fg\">(</span><span class=\"ansi-blue-fg\">(</span>df_pin<span class=\"ansi-blue-fg\">.</span>count<span class=\"ansi-blue-fg\">(</span><span class=\"ansi-blue-fg\">)</span><span class=\"ansi-blue-fg\">,</span> len<span class=\"ansi-blue-fg\">(</span>df_pin<span class=\"ansi-blue-fg\">.</span>columns<span class=\"ansi-blue-fg\">)</span><span class=\"ansi-blue-fg\">)</span><span class=\"ansi-blue-fg\">)</span>\n",
       "\n",
       "<span class=\"ansi-green-fg\">/databricks/spark/python/pyspark/sql/dataframe.py</span> in <span class=\"ansi-cyan-fg\">count</span><span class=\"ansi-blue-fg\">(self)</span>\n",
       "<span class=\"ansi-green-intense-fg ansi-bold\">    686</span>         <span class=\"ansi-cyan-fg\">2</span>\n",
       "<span class=\"ansi-green-intense-fg ansi-bold\">    687</span>         &#34;&#34;&#34;\n",
       "<span class=\"ansi-green-fg\">--&gt; 688</span><span class=\"ansi-red-fg\">         </span><span class=\"ansi-green-fg\">return</span> int<span class=\"ansi-blue-fg\">(</span>self<span class=\"ansi-blue-fg\">.</span>_jdf<span class=\"ansi-blue-fg\">.</span>count<span class=\"ansi-blue-fg\">(</span><span class=\"ansi-blue-fg\">)</span><span class=\"ansi-blue-fg\">)</span>\n",
       "<span class=\"ansi-green-intense-fg ansi-bold\">    689</span> \n",
       "<span class=\"ansi-green-intense-fg ansi-bold\">    690</span>     <span class=\"ansi-green-fg\">def</span> collect<span class=\"ansi-blue-fg\">(</span>self<span class=\"ansi-blue-fg\">)</span><span class=\"ansi-blue-fg\">:</span>\n",
       "\n",
       "<span class=\"ansi-green-fg\">/databricks/spark/python/lib/py4j-0.10.9.1-src.zip/py4j/java_gateway.py</span> in <span class=\"ansi-cyan-fg\">__call__</span><span class=\"ansi-blue-fg\">(self, *args)</span>\n",
       "<span class=\"ansi-green-intense-fg ansi-bold\">   1302</span> \n",
       "<span class=\"ansi-green-intense-fg ansi-bold\">   1303</span>         answer <span class=\"ansi-blue-fg\">=</span> self<span class=\"ansi-blue-fg\">.</span>gateway_client<span class=\"ansi-blue-fg\">.</span>send_command<span class=\"ansi-blue-fg\">(</span>command<span class=\"ansi-blue-fg\">)</span>\n",
       "<span class=\"ansi-green-fg\">-&gt; 1304</span><span class=\"ansi-red-fg\">         return_value = get_return_value(\n",
       "</span><span class=\"ansi-green-intense-fg ansi-bold\">   1305</span>             answer, self.gateway_client, self.target_id, self.name)\n",
       "<span class=\"ansi-green-intense-fg ansi-bold\">   1306</span> \n",
       "\n",
       "<span class=\"ansi-green-fg\">/databricks/spark/python/pyspark/sql/utils.py</span> in <span class=\"ansi-cyan-fg\">deco</span><span class=\"ansi-blue-fg\">(*a, **kw)</span>\n",
       "<span class=\"ansi-green-intense-fg ansi-bold\">    121</span>                 <span class=\"ansi-red-fg\"># Hide where the exception came from that shows a non-Pythonic</span>\n",
       "<span class=\"ansi-green-intense-fg ansi-bold\">    122</span>                 <span class=\"ansi-red-fg\"># JVM exception message.</span>\n",
       "<span class=\"ansi-green-fg\">--&gt; 123</span><span class=\"ansi-red-fg\">                 </span><span class=\"ansi-green-fg\">raise</span> converted <span class=\"ansi-green-fg\">from</span> <span class=\"ansi-green-fg\">None</span>\n",
       "<span class=\"ansi-green-intense-fg ansi-bold\">    124</span>             <span class=\"ansi-green-fg\">else</span><span class=\"ansi-blue-fg\">:</span>\n",
       "<span class=\"ansi-green-intense-fg ansi-bold\">    125</span>                 <span class=\"ansi-green-fg\">raise</span>\n",
       "\n",
       "<span class=\"ansi-red-fg\">AnalysisException</span>: Queries with streaming sources must be executed with writeStream.start();\n",
       "kinesis</div>"
      ]
     },
     "metadata": {
      "application/vnd.databricks.v1+output": {
       "arguments": {},
       "data": "<div class=\"ansiout\"><span class=\"ansi-red-fg\">---------------------------------------------------------------------------</span>\n<span class=\"ansi-red-fg\">AnalysisException</span>                         Traceback (most recent call last)\n<span class=\"ansi-green-fg\">&lt;command-1126979784802560&gt;</span> in <span class=\"ansi-cyan-fg\">&lt;module&gt;</span>\n<span class=\"ansi-green-fg\">----&gt; 1</span><span class=\"ansi-red-fg\"> </span>print<span class=\"ansi-blue-fg\">(</span><span class=\"ansi-blue-fg\">(</span>df_pin<span class=\"ansi-blue-fg\">.</span>count<span class=\"ansi-blue-fg\">(</span><span class=\"ansi-blue-fg\">)</span><span class=\"ansi-blue-fg\">,</span> len<span class=\"ansi-blue-fg\">(</span>df_pin<span class=\"ansi-blue-fg\">.</span>columns<span class=\"ansi-blue-fg\">)</span><span class=\"ansi-blue-fg\">)</span><span class=\"ansi-blue-fg\">)</span>\n\n<span class=\"ansi-green-fg\">/databricks/spark/python/pyspark/sql/dataframe.py</span> in <span class=\"ansi-cyan-fg\">count</span><span class=\"ansi-blue-fg\">(self)</span>\n<span class=\"ansi-green-intense-fg ansi-bold\">    686</span>         <span class=\"ansi-cyan-fg\">2</span>\n<span class=\"ansi-green-intense-fg ansi-bold\">    687</span>         &#34;&#34;&#34;\n<span class=\"ansi-green-fg\">--&gt; 688</span><span class=\"ansi-red-fg\">         </span><span class=\"ansi-green-fg\">return</span> int<span class=\"ansi-blue-fg\">(</span>self<span class=\"ansi-blue-fg\">.</span>_jdf<span class=\"ansi-blue-fg\">.</span>count<span class=\"ansi-blue-fg\">(</span><span class=\"ansi-blue-fg\">)</span><span class=\"ansi-blue-fg\">)</span>\n<span class=\"ansi-green-intense-fg ansi-bold\">    689</span> \n<span class=\"ansi-green-intense-fg ansi-bold\">    690</span>     <span class=\"ansi-green-fg\">def</span> collect<span class=\"ansi-blue-fg\">(</span>self<span class=\"ansi-blue-fg\">)</span><span class=\"ansi-blue-fg\">:</span>\n\n<span class=\"ansi-green-fg\">/databricks/spark/python/lib/py4j-0.10.9.1-src.zip/py4j/java_gateway.py</span> in <span class=\"ansi-cyan-fg\">__call__</span><span class=\"ansi-blue-fg\">(self, *args)</span>\n<span class=\"ansi-green-intense-fg ansi-bold\">   1302</span> \n<span class=\"ansi-green-intense-fg ansi-bold\">   1303</span>         answer <span class=\"ansi-blue-fg\">=</span> self<span class=\"ansi-blue-fg\">.</span>gateway_client<span class=\"ansi-blue-fg\">.</span>send_command<span class=\"ansi-blue-fg\">(</span>command<span class=\"ansi-blue-fg\">)</span>\n<span class=\"ansi-green-fg\">-&gt; 1304</span><span class=\"ansi-red-fg\">         return_value = get_return_value(\n</span><span class=\"ansi-green-intense-fg ansi-bold\">   1305</span>             answer, self.gateway_client, self.target_id, self.name)\n<span class=\"ansi-green-intense-fg ansi-bold\">   1306</span> \n\n<span class=\"ansi-green-fg\">/databricks/spark/python/pyspark/sql/utils.py</span> in <span class=\"ansi-cyan-fg\">deco</span><span class=\"ansi-blue-fg\">(*a, **kw)</span>\n<span class=\"ansi-green-intense-fg ansi-bold\">    121</span>                 <span class=\"ansi-red-fg\"># Hide where the exception came from that shows a non-Pythonic</span>\n<span class=\"ansi-green-intense-fg ansi-bold\">    122</span>                 <span class=\"ansi-red-fg\"># JVM exception message.</span>\n<span class=\"ansi-green-fg\">--&gt; 123</span><span class=\"ansi-red-fg\">                 </span><span class=\"ansi-green-fg\">raise</span> converted <span class=\"ansi-green-fg\">from</span> <span class=\"ansi-green-fg\">None</span>\n<span class=\"ansi-green-intense-fg ansi-bold\">    124</span>             <span class=\"ansi-green-fg\">else</span><span class=\"ansi-blue-fg\">:</span>\n<span class=\"ansi-green-intense-fg ansi-bold\">    125</span>                 <span class=\"ansi-green-fg\">raise</span>\n\n<span class=\"ansi-red-fg\">AnalysisException</span>: Queries with streaming sources must be executed with writeStream.start();\nkinesis</div>",
       "errorSummary": "<span class=\"ansi-red-fg\">AnalysisException</span>: Queries with streaming sources must be executed with writeStream.start();",
       "errorTraceType": "html",
       "metadata": {},
       "type": "ipynbError"
      }
     },
     "output_type": "display_data"
    }
   ],
   "source": [
    "print((df_pin.count(), len(df.columns)))"
   ]
  },
  {
   "cell_type": "code",
   "execution_count": 0,
   "metadata": {
    "application/vnd.databricks.v1+cell": {
     "cellMetadata": {},
     "inputWidgets": {},
     "nuid": "5d7b5fc4-c2db-4367-a15c-7f63fb4aa8a7",
     "showTitle": false,
     "title": ""
    }
   },
   "outputs": [],
   "source": [
    "write_stream_df_to_table(df_pin, \"0affec486183_pin_table\")\n",
    "write_stream_df_to_table(df_geo, \"0affec486183_geo_table\")\n",
    "write_stream_df_to_table(df_user, \"0affec486183_user_table\")"
   ]
  },
  {
   "cell_type": "code",
   "execution_count": 0,
   "metadata": {
    "application/vnd.databricks.v1+cell": {
     "cellMetadata": {},
     "inputWidgets": {},
     "nuid": "1330718d-105d-40fc-83db-cbf84d6ea009",
     "showTitle": false,
     "title": ""
    }
   },
   "outputs": [],
   "source": []
  }
 ],
 "metadata": {
  "application/vnd.databricks.v1+notebook": {
   "dashboards": [],
   "environmentMetadata": null,
   "language": "python",
   "notebookMetadata": {
    "pythonIndentUnit": 4
   },
   "notebookName": "Processing Kensis Streams 2024-08-12 12:16:08",
   "widgets": {}
  }
 },
 "nbformat": 4,
 "nbformat_minor": 0
}
