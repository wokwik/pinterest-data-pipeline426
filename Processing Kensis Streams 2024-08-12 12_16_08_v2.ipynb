{
 "cells": [
  {
   "cell_type": "code",
   "execution_count": 0,
   "metadata": {
    "application/vnd.databricks.v1+cell": {
     "cellMetadata": {
      "byteLimit": 2048000,
      "rowLimit": 10000
     },
     "inputWidgets": {},
     "nuid": "d638b8d6-82f8-4218-bb0f-1b9f5ff58147",
     "showTitle": false,
     "title": ""
    }
   },
   "outputs": [
    {
     "output_type": "display_data",
     "data": {
      "text/html": [
       "<style scoped>\n",
       "  .ansiout {\n",
       "    display: block;\n",
       "    unicode-bidi: embed;\n",
       "    white-space: pre-wrap;\n",
       "    word-wrap: break-word;\n",
       "    word-break: break-all;\n",
       "    font-family: \"Menlo\", \"Monaco\", \"Consolas\", \"Ubuntu Mono\", \"Source Code Pro\", monospace;\n",
       "    font-size: 13px;\n",
       "    color: #555;\n",
       "    margin-left: 4px;\n",
       "    line-height: 19px;\n",
       "  }\n",
       "</style>\n",
       "<div class=\"ansiout\"></div>"
      ]
     },
     "metadata": {
      "application/vnd.databricks.v1+output": {
       "addedWidgets": {},
       "arguments": {},
       "data": "<div class=\"ansiout\"></div>",
       "datasetInfos": [],
       "metadata": {},
       "removedWidgets": [],
       "type": "html"
      }
     },
     "output_type": "display_data"
    }
   ],
   "source": [
    "\n",
    "# import pyspark functions\n",
    "from pyspark.sql.functions import *\n",
    "from pyspark.sql.types import StructType, StructField, IntegerType, StringType, TimestampType, FloatType\n",
    "# import URL processing\n",
    "import urllib"
   ]
  },
  {
   "cell_type": "code",
   "execution_count": 0,
   "metadata": {
    "application/vnd.databricks.v1+cell": {
     "cellMetadata": {
      "byteLimit": 2048000,
      "rowLimit": 10000
     },
     "inputWidgets": {},
     "nuid": "635e7ced-9179-48dd-9444-503f3d0e990c",
     "showTitle": false,
     "title": ""
    }
   },
   "outputs": [
    {
     "output_type": "display_data",
     "data": {
      "text/html": [
       "<style scoped>\n",
       "  .ansiout {\n",
       "    display: block;\n",
       "    unicode-bidi: embed;\n",
       "    white-space: pre-wrap;\n",
       "    word-wrap: break-word;\n",
       "    word-break: break-all;\n",
       "    font-family: \"Menlo\", \"Monaco\", \"Consolas\", \"Ubuntu Mono\", \"Source Code Pro\", monospace;\n",
       "    font-size: 13px;\n",
       "    color: #555;\n",
       "    margin-left: 4px;\n",
       "    line-height: 19px;\n",
       "  }\n",
       "</style>\n",
       "<div class=\"ansiout\"></div>"
      ]
     },
     "metadata": {
      "application/vnd.databricks.v1+output": {
       "addedWidgets": {},
       "arguments": {},
       "data": "<div class=\"ansiout\"></div>",
       "datasetInfos": [],
       "metadata": {},
       "removedWidgets": [],
       "type": "html"
      }
     },
     "output_type": "display_data"
    }
   ],
   "source": [
    "# Define the path to the Delta table\n",
    "delta_table_path = \"dbfs:/user/hive/warehouse/authentication_credentials\"\n",
    "\n",
    "# Read the Delta table to a Spark DataFrame\n",
    "aws_keys_df = spark.read.format(\"delta\").load(delta_table_path)"
   ]
  },
  {
   "cell_type": "code",
   "execution_count": 0,
   "metadata": {
    "application/vnd.databricks.v1+cell": {
     "cellMetadata": {
      "byteLimit": 2048000,
      "rowLimit": 10000
     },
     "inputWidgets": {},
     "nuid": "52f7b0f9-7675-4536-9917-6b9906dc3d09",
     "showTitle": false,
     "title": ""
    }
   },
   "outputs": [
    {
     "output_type": "display_data",
     "data": {
      "text/html": [
       "<style scoped>\n",
       "  .ansiout {\n",
       "    display: block;\n",
       "    unicode-bidi: embed;\n",
       "    white-space: pre-wrap;\n",
       "    word-wrap: break-word;\n",
       "    word-break: break-all;\n",
       "    font-family: \"Menlo\", \"Monaco\", \"Consolas\", \"Ubuntu Mono\", \"Source Code Pro\", monospace;\n",
       "    font-size: 13px;\n",
       "    color: #555;\n",
       "    margin-left: 4px;\n",
       "    line-height: 19px;\n",
       "  }\n",
       "</style>\n",
       "<div class=\"ansiout\"></div>"
      ]
     },
     "metadata": {
      "application/vnd.databricks.v1+output": {
       "addedWidgets": {},
       "arguments": {},
       "data": "<div class=\"ansiout\"></div>",
       "datasetInfos": [],
       "metadata": {},
       "removedWidgets": [],
       "type": "html"
      }
     },
     "output_type": "display_data"
    }
   ],
   "source": [
    "# Get the AWS access key and secret key from the spark dataframe\n",
    "ACCESS_KEY = aws_keys_df.select('Access key ID').collect()[0]['Access key ID']\n",
    "SECRET_KEY = aws_keys_df.select('Secret access key').collect()[0]['Secret access key']\n",
    "\n",
    "# Encode the secret key\n",
    "ENCODED_SECRET_KEY = urllib.parse.quote(string=SECRET_KEY, safe=\"\")"
   ]
  },
  {
   "cell_type": "code",
   "execution_count": 0,
   "metadata": {
    "application/vnd.databricks.v1+cell": {
     "cellMetadata": {
      "byteLimit": 2048000,
      "rowLimit": 10000
     },
     "inputWidgets": {},
     "nuid": "a03c5d84-5747-4374-91e0-62e3950b25b2",
     "showTitle": false,
     "title": ""
    }
   },
   "outputs": [
    {
     "output_type": "display_data",
     "data": {
      "text/html": [
       "<style scoped>\n",
       "  .ansiout {\n",
       "    display: block;\n",
       "    unicode-bidi: embed;\n",
       "    white-space: pre-wrap;\n",
       "    word-wrap: break-word;\n",
       "    word-break: break-all;\n",
       "    font-family: \"Menlo\", \"Monaco\", \"Consolas\", \"Ubuntu Mono\", \"Source Code Pro\", monospace;\n",
       "    font-size: 13px;\n",
       "    color: #555;\n",
       "    margin-left: 4px;\n",
       "    line-height: 19px;\n",
       "  }\n",
       "</style>\n",
       "<div class=\"ansiout\"></div>"
      ]
     },
     "metadata": {
      "application/vnd.databricks.v1+output": {
       "addedWidgets": {},
       "arguments": {},
       "data": "<div class=\"ansiout\"></div>",
       "datasetInfos": [],
       "metadata": {},
       "removedWidgets": [],
       "type": "html"
      }
     },
     "output_type": "display_data"
    }
   ],
   "source": [
    "def get_kinesis_stream(stream_name: str):\n",
    "    '''Uses spark.readStream to retrieve Kinesis stream and returns stream as dataframe'''\n",
    "    dataframe = spark.readStream \\\n",
    "    .format('kinesis') \\\n",
    "    .option('streamName', stream_name) \\\n",
    "    .option('initialPosition','earliest') \\\n",
    "    .option('region','us-east-1') \\\n",
    "    .option('awsAccessKey', ACCESS_KEY) \\\n",
    "    .option('awsSecretKey', SECRET_KEY) \\\n",
    "    .load()\n",
    "     # .option('initialPosition','earliest')  check earliest vs latest\n",
    "    return dataframe\n",
    "\n",
    "def deserialize_kinesis_stream(stream, schema):\n",
    "    '''Takes stream dataframe and schema, deserializes data from stream and returns data as dataframe'''\n",
    "    dataframe = stream \\\n",
    "    .selectExpr(\"CAST(data as STRING)\") \\\n",
    "    .withColumn(\"data\", from_json(col(\"data\"), schema)) \\\n",
    "    .select(col(\"data.*\"))\n",
    "    return dataframe\n",
    "\n",
    "def write_Kinesis_stream_df_to_table(dataframe, prefix: str, name: str):\n",
    "    '''Takes dataframe and name string and writes dataframe to delta table using name in options and table name'''\n",
    "    dataframe.writeStream \\\n",
    "    .format(\"delta\") \\\n",
    "    .outputMode(\"append\") \\\n",
    "    .option(\"checkpointLocation\", f\"/tmp/kinesis/{prefix}_{name}_table_checkpoints/\") \\\n",
    "    .table(f\"{prefix}_{name}_table\")"
   ]
  },
  {
   "cell_type": "code",
   "execution_count": 0,
   "metadata": {
    "application/vnd.databricks.v1+cell": {
     "cellMetadata": {
      "byteLimit": 2048000,
      "rowLimit": 10000
     },
     "inputWidgets": {},
     "nuid": "c2832407-c315-4c74-854c-a6f161c2433b",
     "showTitle": false,
     "title": ""
    }
   },
   "outputs": [
    {
     "output_type": "display_data",
     "data": {
      "text/html": [
       "<style scoped>\n",
       "  .ansiout {\n",
       "    display: block;\n",
       "    unicode-bidi: embed;\n",
       "    white-space: pre-wrap;\n",
       "    word-wrap: break-word;\n",
       "    word-break: break-all;\n",
       "    font-family: \"Menlo\", \"Monaco\", \"Consolas\", \"Ubuntu Mono\", \"Source Code Pro\", monospace;\n",
       "    font-size: 13px;\n",
       "    color: #555;\n",
       "    margin-left: 4px;\n",
       "    line-height: 19px;\n",
       "  }\n",
       "</style>\n",
       "<div class=\"ansiout\"></div>"
      ]
     },
     "metadata": {
      "application/vnd.databricks.v1+output": {
       "addedWidgets": {},
       "arguments": {},
       "data": "<div class=\"ansiout\"></div>",
       "datasetInfos": [],
       "metadata": {},
       "removedWidgets": [],
       "type": "html"
      }
     },
     "output_type": "display_data"
    }
   ],
   "source": [
    "# define schemas for each of the dataframes\n",
    "pin_schema = StructType([\n",
    "    StructField(\"index\", IntegerType()),\n",
    "    StructField(\"unique_id\", StringType()),\n",
    "    StructField(\"title\", StringType()),\n",
    "    StructField(\"description\", StringType()),\n",
    "    StructField(\"poster_name\", StringType()),\n",
    "    StructField(\"follower_count\", StringType()),\n",
    "    StructField(\"tag_list\", StringType()),\n",
    "    StructField(\"is_image_or_video\", StringType()),\n",
    "    StructField(\"image_src\", StringType()),\n",
    "    StructField(\"downloaded\", IntegerType()),\n",
    "    StructField(\"save_location\", StringType()),\n",
    "    StructField(\"category\", StringType())\n",
    "])\n",
    "geo_schema = StructType([\n",
    "    StructField(\"ind\", IntegerType()),\n",
    "    StructField(\"timestamp\", TimestampType()),\n",
    "    StructField(\"latitude\", FloatType()),\n",
    "    StructField(\"longitude\", FloatType()),\n",
    "    StructField(\"country\", StringType())\n",
    "])\n",
    "user_schema = StructType([\n",
    "    StructField(\"ind\", IntegerType()),\n",
    "    StructField(\"first_name\", StringType()),\n",
    "    StructField(\"last_name\", StringType()),\n",
    "    StructField(\"age\", StringType()),\n",
    "    StructField(\"date_joined\", TimestampType())\n",
    "])"
   ]
  },
  {
   "cell_type": "code",
   "execution_count": 0,
   "metadata": {
    "application/vnd.databricks.v1+cell": {
     "cellMetadata": {
      "byteLimit": 2048000,
      "rowLimit": 10000
     },
     "inputWidgets": {},
     "nuid": "466de54d-00a4-4246-9dc4-9941f62be6d2",
     "showTitle": false,
     "title": ""
    }
   },
   "outputs": [
    {
     "output_type": "display_data",
     "data": {
      "text/html": [
       "<style scoped>\n",
       "  .table-result-container {\n",
       "    max-height: 300px;\n",
       "    overflow: auto;\n",
       "  }\n",
       "  table, th, td {\n",
       "    border: 1px solid black;\n",
       "    border-collapse: collapse;\n",
       "  }\n",
       "  th, td {\n",
       "    padding: 5px;\n",
       "  }\n",
       "  th {\n",
       "    text-align: left;\n",
       "  }\n",
       "</style><div class='table-result-container'><table class='table-result'><thead style='background-color: white'><tr><th>partitionKey</th><th>data</th><th>stream</th><th>shardId</th><th>sequenceNumber</th><th>approximateArrivalTimestamp</th></tr></thead><tbody><tr><td>partition-1</td><td>eyJpbmRleCI6NzUyOCwidW5pcXVlX2lkIjoiZmJlNTNjNjYtMzQ0Mi00NzczLWIxOWUtZDNlYzZmNTRkZGRmIiwidGl0bGUiOiJObyBUaXRsZSBEYXRhIEF2YWlsYWJsZSIsImRlc2NyaXB0aW9uIjoiTm8gZGVzY3JpcHRpb24= (truncated)</td><td>streaming-0affec486183-pin</td><td>shardId-000000000000</td><td>49654776698500171106604173156775567464098671253650407426</td><td>2024-08-12T12:21:11.473+0000</td></tr><tr><td>partition-1</td><td>eyJpbmRleCI6Mjg2MywidW5pcXVlX2lkIjoiOWJmMzk0MzctNDJhNi00ZjAyLTk5YTAtOWEwMzgzZDhjZDcwIiwidGl0bGUiOiIyNSBTdXBlciBGdW4gU3VtbWVyIENyYWZ0cyBmb3IgS2lkcyAtIE9mIExpZmUgYW5kIExpc2E= (truncated)</td><td>streaming-0affec486183-pin</td><td>shardId-000000000000</td><td>49654776698500171106604173161714029437224431569764089858</td><td>2024-08-12T12:21:13.127+0000</td></tr><tr><td>partition-1</td><td>eyJpbmRleCI6NTczMCwidW5pcXVlX2lkIjoiMWUxZjBjOGItOWZjZi00NjBiLTkxNTQtYzc3NTgyNzIwNmViIiwidGl0bGUiOiJJc2xhbmQgT2FzaXMgQ291cG9uIE9yZ2FuaXplciIsImRlc2NyaXB0aW9uIjoiRGVzY3JpcHQ= (truncated)</td><td>streaming-0affec486183-pin</td><td>shardId-000000000000</td><td>49654776698500171106604173170971983363833261927102939138</td><td>2024-08-12T12:21:16.233+0000</td></tr><tr><td>partition-1</td><td>eyJpbmRleCI6ODMwNCwidW5pcXVlX2lkIjoiNWI2ZDA5MTMtMjVlNC00M2FiLTgzOWQtODVkNTUxNmY3OGE0IiwidGl0bGUiOiJUaGUgIzEgUmVhc29uIFlvdeKAmXJlIE5vdCBIaXMgUHJpb3JpdHkgQW55bW9yZSAtIE1hdHQ= (truncated)</td><td>streaming-0affec486183-pin</td><td>shardId-000000000000</td><td>49654776698500171106604173179545685276540212240277569538</td><td>2024-08-12T12:21:18.745+0000</td></tr><tr><td>partition-1</td><td>eyJpbmRleCI6ODczMSwidW5pcXVlX2lkIjoiZWE3NjBmNzEtZmViZi00MDIzLWI1OTItZDE3Mzk2NjU5MDM5IiwidGl0bGUiOiIyMCBLb2kgRmlzaCBUYXR0b29zIEZvciBMdWNreSBNZW4iLCJkZXNjcmlwdGlvbiI6IktvaSA= (truncated)</td><td>streaming-0affec486183-pin</td><td>shardId-000000000000</td><td>49654776698500171106604173183333249869392845513351495682</td><td>2024-08-12T12:21:19.926+0000</td></tr><tr><td>partition-1</td><td>eyJpbmRleCI6MTMxMywidW5pcXVlX2lkIjoiNDQ2NjIwNDUtZTg5MS00ODIxLThhMTktZWJlN2VlZGQzNzFhIiwidGl0bGUiOiJMaXF1aWQgTGFzaCBFeHRlbnNpb25zIE1hc2NhcmEiLCJkZXNjcmlwdGlvbiI6Ikluc3RhbnQ= (truncated)</td><td>streaming-0affec486183-pin</td><td>shardId-000000000000</td><td>49654776698500171106604173185143011821355945456606117890</td><td>2024-08-12T12:21:20.543+0000</td></tr><tr><td>partition-1</td><td>eyJpbmRleCI6NDMxNSwidW5pcXVlX2lkIjoiMjFiNTliYTktODI5ZC00YzMzLThjMjctNGNkNGM1NmQyNmI4IiwidGl0bGUiOiJQb2RjYXN0cyBmb3IgVGVhY2hlcnMgb3IgUGFyZW50cyBvZiBUZWVuYWdlcnMiLCJkZXNjcmk= (truncated)</td><td>streaming-0affec486183-pin</td><td>shardId-000000000000</td><td>49654776698500171106604173192035097918978946587764457474</td><td>2024-08-12T12:21:23.197+0000</td></tr><tr><td>partition-1</td><td>eyJpbmRleCI6MTA3OTQsInVuaXF1ZV9pZCI6ImM0YmQyNTc3LWE3YmItNDQwOS1iYjdhLTE3ZDVlZDdlMWNmMSIsInRpdGxlIjoiVGlyZUJ1eWVyIiwiZGVzY3JpcHRpb24iOiJOaXNzYW4gR1QtUi4gU2ljay4iLCJwb3N0ZXI= (truncated)</td><td>streaming-0affec486183-pin</td><td>shardId-000000000000</td><td>49654776698500171106604173194183359100434142699936808962</td><td>2024-08-12T12:21:23.874+0000</td></tr><tr><td>partition-1</td><td>eyJpbmRleCI6NTQ5NCwidW5pcXVlX2lkIjoiOGZiMmFmNjgtNTQzYi00NjM5LTgxMTktZGUzM2QyODcwNmVkIiwidGl0bGUiOiJEYXZlIFJhbXNleSdzIDcgQmFieSBTdGVwczogV2hhdCBBcmUgVGhleSBBbmQgV2lsbCBUaGU= (truncated)</td><td>streaming-0affec486183-pin</td><td>shardId-000000000000</td><td>49654776698500171106604173195962897906906876845104300034</td><td>2024-08-12T12:21:24.503+0000</td></tr><tr><td>partition-1</td><td>eyJpbmRleCI6NTA2OSwidW5pcXVlX2lkIjoiYjc1YjZmODctZGViMy00NDRmLWIyOWUtY2U5MTYxYjJkZjQ5IiwidGl0bGUiOiJUaGUgVmF1bHQ6IEN1cmF0ZWQgJiBSZWZpbmVkIFdlZGRpbmcgSW5zcGlyYXRpb24iLCJkZXM= (truncated)</td><td>streaming-0affec486183-pin</td><td>shardId-000000000000</td><td>49654776698500171106604173199009390972335742434083340290</td><td>2024-08-12T12:21:25.730+0000</td></tr><tr><td>partition-1</td><td>eyJpbmRleCI6MjkyMywidW5pcXVlX2lkIjoiNTJmYTNhZjUtMjRhNC00Y2NiLThmMTctOWMzZWIxMjMyN2VlIiwidGl0bGUiOiJVRk8gUGFwZXIgUGxhdGUgQ3JhZnQiLCJkZXNjcmlwdGlvbiI6IkEgZnVuIHNwYWNlIGFjdGk= (truncated)</td><td>streaming-0affec486183-pin</td><td>shardId-000000000000</td><td>49654776698500171106604173202365369047585953091787161602</td><td>2024-08-12T12:21:26.898+0000</td></tr><tr><td>partition-1</td><td>eyJpbmRleCI6MzA4OSwidW5pcXVlX2lkIjoiODhmOTIyN2UtODhkMC00YjFjLWIwYmUtYmNmYzMwMjhiOGUyIiwidGl0bGUiOiJObyBUaXRsZSBEYXRhIEF2YWlsYWJsZSIsImRlc2NyaXB0aW9uIjoiTm8gZGVzY3JpcHRpb24= (truncated)</td><td>streaming-0affec486183-pin</td><td>shardId-000000000000</td><td>49654776698500171106604173204985111298690854513375444994</td><td>2024-08-12T12:21:27.531+0000</td></tr><tr><td>partition-1</td><td>eyJpbmRleCI6NjA2MywidW5pcXVlX2lkIjoiNjA2OTM3MjctNDkyNy00YmQ2LWE4YzUtMDk2YTM5MmQ2M2U2IiwidGl0bGUiOiI0MSBHb3JnZW91cyBGYWxsIERlY29yIElkZWFzIEZvciBZb3VyIEhvbWUgLSBDaGF5bG9yICY= (truncated)</td><td>streaming-0affec486183-pin</td><td>shardId-000000000000</td><td>49654776698500171106604173210040839076319233928155103234</td><td>2024-08-12T12:21:29.187+0000</td></tr><tr><td>partition-1</td><td>eyJpbmRleCI6MzQ1NCwidW5pcXVlX2lkIjoiNDZiZDNmODYtYjA5ZC00ZTI5LTkwMzMtN2ZmMmRmNTk1ZTUxIiwidGl0bGUiOiJXaGF0IGNhbiB5b3UgdXNlIHRvIGNvbG9yIHJlc2luPyIsImRlc2NyaXB0aW9uIjoiSEVMUEY= (truncated)</td><td>streaming-0affec486183-pin</td><td>shardId-000000000000</td><td>49654776698500171106604173214656517855607888185902759938</td><td>2024-08-12T12:21:30.843+0000</td></tr><tr><td>partition-1</td><td>eyJpbmRleCI6NzU1NCwidW5pcXVlX2lkIjoiYzZmYTEyZjQtMGQ0YS00YjA3LWEzMzUtNWJmOWYzN2Y4MjgxIiwidGl0bGUiOiJDcmFpZyBTdHlsZSIsImRlc2NyaXB0aW9uIjoiaW1nZW50bGVib3NzOiDigJwgLSBNb3JlIGE= (truncated)</td><td>streaming-0affec486183-pin</td><td>shardId-000000000000</td><td>49654776698500171106604173220699938027861419567697887234</td><td>2024-08-12T12:21:32.555+0000</td></tr><tr><td>partition-1</td><td>eyJpbmRleCI6NzUyOCwidW5pcXVlX2lkIjoiZmJlNTNjNjYtMzQ0Mi00NzczLWIxOWUtZDNlYzZmNTRkZGRmIiwidGl0bGUiOiJObyBUaXRsZSBEYXRhIEF2YWlsYWJsZSIsImRlc2NyaXB0aW9uIjoiTm8gZGVzY3JpcHRpb24= (truncated)</td><td>streaming-0affec486183-pin</td><td>shardId-000000000000</td><td>49654776698500171106604178227607664282743155808423378946</td><td>2024-08-12T12:45:11.839+0000</td></tr><tr><td>partition-1</td><td>eyJpbmRleCI6Mjg2MywidW5pcXVlX2lkIjoiOWJmMzk0MzctNDJhNi00ZjAyLTk5YTAtOWEwMzgzZDhjZDcwIiwidGl0bGUiOiIyNSBTdXBlciBGdW4gU3VtbWVyIENyYWZ0cyBmb3IgS2lkcyAtIE9mIExpZmUgYW5kIExpc2E= (truncated)</td><td>streaming-0affec486183-pin</td><td>shardId-000000000000</td><td>49654776698500171106604178232744390090285715240469397506</td><td>2024-08-12T12:45:13.449+0000</td></tr><tr><td>partition-1</td><td>eyJpbmRleCI6NTczMCwidW5pcXVlX2lkIjoiMWUxZjBjOGItOWZjZi00NjBiLTkxNTQtYzc3NTgyNzIwNmViIiwidGl0bGUiOiJJc2xhbmQgT2FzaXMgQ291cG9uIE9yZ2FuaXplciIsImRlc2NyaXB0aW9uIjoiRGVzY3JpcHQ= (truncated)</td><td>streaming-0affec486183-pin</td><td>shardId-000000000000</td><td>49654776698500171106604178237656255695379953646020067330</td><td>2024-08-12T12:45:15.097+0000</td></tr><tr><td>partition-1</td><td>eyJpbmRleCI6ODMwNCwidW5pcXVlX2lkIjoiNWI2ZDA5MTMtMjVlNC00M2FiLTgzOWQtODVkNTUxNmY3OGE0IiwidGl0bGUiOiJUaGUgIzEgUmVhc29uIFlvdeKAmXJlIE5vdCBIaXMgUHJpb3JpdHkgQW55bW9yZSAtIE1hdHQ= (truncated)</td><td>streaming-0affec486183-pin</td><td>shardId-000000000000</td><td>49654776698500171106604178243020259557010063431630323714</td><td>2024-08-12T12:45:16.716+0000</td></tr><tr><td>partition-1</td><td>eyJpbmRleCI6ODczMSwidW5pcXVlX2lkIjoiZWE3NjBmNzEtZmViZi00MDIzLWI1OTItZDE3Mzk2NjU5MDM5IiwidGl0bGUiOiIyMCBLb2kgRmlzaCBUYXR0b29zIEZvciBMdWNreSBNZW4iLCJkZXNjcmlwdGlvbiI6IktvaSA= (truncated)</td><td>streaming-0affec486183-pin</td><td>shardId-000000000000</td><td>49654776698500171106604178246042574106046636437115240450</td><td>2024-08-12T12:45:17.447+0000</td></tr><tr><td>partition-1</td><td>eyJpbmRleCI6MTMxMywidW5pcXVlX2lkIjoiNDQ2NjIwNDUtZTg5MS00ODIxLThhMTktZWJlN2VlZGQzNzFhIiwidGl0bGUiOiJMaXF1aWQgTGFzaCBFeHRlbnNpb25zIE1hc2NhcmEiLCJkZXNjcmlwdGlvbiI6Ikluc3RhbnQ= (truncated)</td><td>streaming-0affec486183-pin</td><td>shardId-000000000000</td><td>49654776698500171106604178247648027594494863981125042178</td><td>2024-08-12T12:45:18.086+0000</td></tr><tr><td>partition-1</td><td>eyJpbmRleCI6NDMxNSwidW5pcXVlX2lkIjoiMjFiNTliYTktODI5ZC00YzMzLThjMjctNGNkNGM1NmQyNmI4IiwidGl0bGUiOiJQb2RjYXN0cyBmb3IgVGVhY2hlcnMgb3IgUGFyZW50cyBvZiBUZWVuYWdlcnMiLCJkZXNjcmk= (truncated)</td><td>streaming-0affec486183-pin</td><td>shardId-000000000000</td><td>49654776698500171106604178253163147183576802344854093826</td><td>2024-08-12T12:45:19.697+0000</td></tr><tr><td>partition-1</td><td>eyJpbmRleCI6MTA3OTQsInVuaXF1ZV9pZCI6ImM0YmQyNTc3LWE3YmItNDQwOS1iYjdhLTE3ZDVlZDdlMWNmMSIsInRpdGxlIjoiVGlyZUJ1eWVyIiwiZGVzY3JpcHRpb24iOiJOaXNzYW4gR1QtUi4gU2ljay4iLCJwb3N0ZXI= (truncated)</td><td>streaming-0affec486183-pin</td><td>shardId-000000000000</td><td>49654776698500171106604178254530442285560948078885732354</td><td>2024-08-12T12:45:20.352+0000</td></tr><tr><td>partition-1</td><td>eyJpbmRleCI6NTQ5NCwidW5pcXVlX2lkIjoiOGZiMmFmNjgtNTQzYi00NjM5LTgxMTktZGUzM2QyODcwNmVkIiwidGl0bGUiOiJEYXZlIFJhbXNleSdzIDcgQmFieSBTdGVwczogV2hhdCBBcmUgVGhleSBBbmQgV2lsbCBUaGU= (truncated)</td><td>streaming-0affec486183-pin</td><td>shardId-000000000000</td><td>49654776698500171106604178256861251265777953127719239682</td><td>2024-08-12T12:45:21.209+0000</td></tr><tr><td>partition-1</td><td>eyJpbmRleCI6NTA2OSwidW5pcXVlX2lkIjoiYjc1YjZmODctZGViMy00NDRmLWIyOWUtY2U5MTYxYjJkZjQ5IiwidGl0bGUiOiJUaGUgVmF1bHQ6IEN1cmF0ZWQgJiBSZWZpbmVkIFdlZGRpbmcgSW5zcGlyYXRpb24iLCJkZXM= (truncated)</td><td>streaming-0affec486183-pin</td><td>shardId-000000000000</td><td>49654776698500171106604178261285919765567495975863320578</td><td>2024-08-12T12:45:22.542+0000</td></tr><tr><td>partition-1</td><td>eyJpbmRleCI6MjkyMywidW5pcXVlX2lkIjoiNTJmYTNhZjUtMjRhNC00Y2NiLThmMTctOWMzZWIxMjMyN2VlIiwidGl0bGUiOiJVRk8gUGFwZXIgUGxhdGUgQ3JhZnQiLCJkZXNjcmlwdGlvbiI6IkEgZnVuIHNwYWNlIGFjdGk= (truncated)</td><td>streaming-0affec486183-pin</td><td>shardId-000000000000</td><td>49654776698500171106604178270148554949162342661792727042</td><td>2024-08-12T12:45:25.064+0000</td></tr><tr><td>partition-1</td><td>eyJpbmRleCI6MzA4OSwidW5pcXVlX2lkIjoiODhmOTIyN2UtODhkMC00YjFjLWIwYmUtYmNmYzMwMjhiOGUyIiwidGl0bGUiOiJObyBUaXRsZSBEYXRhIEF2YWlsYWJsZSIsImRlc2NyaXB0aW9uIjoiTm8gZGVzY3JpcHRpb24= (truncated)</td><td>streaming-0affec486183-pin</td><td>shardId-000000000000</td><td>49654776698500171106604178273475518804741802219303600130</td><td>2024-08-12T12:45:25.724+0000</td></tr><tr><td>partition-1</td><td>eyJpbmRleCI6NjA2MywidW5pcXVlX2lkIjoiNjA2OTM3MjctNDkyNy00YmQ2LWE4YzUtMDk2YTM5MmQ2M2U2IiwidGl0bGUiOiI0MSBHb3JnZW91cyBGYWxsIERlY29yIElkZWFzIEZvciBZb3VyIEhvbWUgLSBDaGF5bG9yICY= (truncated)</td><td>streaming-0affec486183-pin</td><td>shardId-000000000000</td><td>49654776698500171106604178278024706663951651872442417154</td><td>2024-08-12T12:45:27.380+0000</td></tr><tr><td>partition-1</td><td>eyJpbmRleCI6MzQ1NCwidW5pcXVlX2lkIjoiNDZiZDNmODYtYjA5ZC00ZTI5LTkwMzMtN2ZmMmRmNTk1ZTUxIiwidGl0bGUiOiJXaGF0IGNhbiB5b3UgdXNlIHRvIGNvbG9yIHJlc2luPyIsImRlc2NyaXB0aW9uIjoiSEVMUEY= (truncated)</td><td>streaming-0affec486183-pin</td><td>shardId-000000000000</td><td>49654776698500171106604178285651819659900347610541588482</td><td>2024-08-12T12:45:30.207+0000</td></tr><tr><td>partition-1</td><td>eyJpbmRleCI6NzU1NCwidW5pcXVlX2lkIjoiYzZmYTEyZjQtMGQ0YS00YjA3LWEzMzUtNWJmOWYzN2Y4MjgxIiwidGl0bGUiOiJDcmFpZyBTdHlsZSIsImRlc2NyaXB0aW9uIjoiaW1nZW50bGVib3NzOiDigJwgLSBNb3JlIGE= (truncated)</td><td>streaming-0affec486183-pin</td><td>shardId-000000000000</td><td>49654776698500171106604178291894712592390292737443758082</td><td>2024-08-12T12:45:31.834+0000</td></tr><tr><td>partition-1</td><td>eyJpbmRleCI6NjE0NSwidW5pcXVlX2lkIjoiODJlMTNhMDctZGI5OS00M2EzLWIxYzAtODlhNGI3NTgyMWRhIiwidGl0bGUiOiJIT0xJREFZIE1BTlRMRSBERUNPUiAtIEBBTUFaT04gJiBAVEFSR0VUIEZJTkRTIiwiZGVzY3I= (truncated)</td><td>streaming-0affec486183-pin</td><td>shardId-000000000000</td><td>49654776698500171106604178306105635601960258892273287170</td><td>2024-08-12T12:45:34.629+0000</td></tr><tr><td>partition-1</td><td>eyJpbmRleCI6MTA2MjUsInVuaXF1ZV9pZCI6ImQzMTg4NWI3LTc0MmEtNGUyYS1iYmI3LWFjNWY5ZDMzNDM0MCIsInRpdGxlIjoiSmFndWFyIFR5cGUgRSIsImRlc2NyaXB0aW9uIjoiMTkzNyBKYWd1YXIgU1MxMDAgLSAyIDE= (truncated)</td><td>streaming-0affec486183-pin</td><td>shardId-000000000000</td><td>49654776698500171106604178310530304101749801740417368066</td><td>2024-08-12T12:45:35.262+0000</td></tr><tr><td>partition-1</td><td>eyJpbmRleCI6Mjk1OSwidW5pcXVlX2lkIjoiNDM5Y2FjNGItMThlOC00YWFhLTg4YzUtZWRiMjZhNzAxMTExIiwidGl0bGUiOiJUaGUgQ3V0ZXN0IFRvaWxldCBQYXBlciBDcmFmdHMiLCJkZXNjcmlwdGlvbiI6Ik9uZSB0aGk= (truncated)</td><td>streaming-0affec486183-pin</td><td>shardId-000000000000</td><td>49654776698500171106604178313470411695052579893302788098</td><td>2024-08-12T12:45:35.869+0000</td></tr><tr><td>partition-1</td><td>eyJpbmRleCI6OTg3NSwidW5pcXVlX2lkIjoiNzgyZGNiYWQtZmY5MS00MGE2LWJhNjAtMjE2ZWZlMjlhZGI3IiwidGl0bGUiOiJFdXJvcGVhbiBCdWNrZXQgTGlzdDogMzUgVGhpbmdzIE5PVCBUbyBNaXNzIFdoZW4gVHJhdmU= (truncated)</td><td>streaming-0affec486183-pin</td><td>shardId-000000000000</td><td>49654776698500171106604178316496353021547996786311823362</td><td>2024-08-12T12:45:36.484+0000</td></tr><tr><td>partition-1</td><td>eyJpbmRleCI6MjQxOCwidW5pcXVlX2lkIjoiZGE4NzQ1YTYtNTE2MC00NmM0LTg3N2QtMTgxZDUwYTcyOWZkIiwidGl0bGUiOiIxMDAgRElZIENocmlzdG1hcyBDZW50ZXJwaWVjZXMgWW91J2xsIExvdmUgVG8gRGVjb3JhdGU= (truncated)</td><td>streaming-0affec486183-pin</td><td>shardId-000000000000</td><td>49654776698500171106604178323868382669558005562389561346</td><td>2024-08-12T12:45:38.252+0000</td></tr><tr><td>partition-1</td><td>eyJpbmRleCI6MzE1NiwidW5pcXVlX2lkIjoiZmE2ZTMxYTQtMThjMi00ZWNhLWE2ZDgtZTkwM2VlZTJjMmE0IiwidGl0bGUiOiJIYW5kcHJpbnQgUmVpbmRlZXIgT3JuYW1lbnRzIC0gQ3JhZnR5IE1vcm5pbmciLCJkZXNjcmk= (truncated)</td><td>streaming-0affec486183-pin</td><td>shardId-000000000000</td><td>49654776698500171106604178326035986664127035810076688386</td><td>2024-08-12T12:45:38.888+0000</td></tr><tr><td>partition-1</td><td>eyJpbmRleCI6NDI4LCJ1bmlxdWVfaWQiOiI2MTBiM2Y4My05ZmUwLTQ2OWQtOTQ2Yy1kMTZiNTc3ZmNhNzEiLCJ0aXRsZSI6IkZhc2hpb24gRGVzaWduZXIgSXNhYWMgTWl6cmFoaeKAmXMgVXBkYXRlZCAxOTMwcyBOZXcgWW8= (truncated)</td><td>streaming-0affec486183-pin</td><td>shardId-000000000000</td><td>49654776698500171106604178329098195765210891509607432194</td><td>2024-08-12T12:45:39.467+0000</td></tr><tr><td>partition-1</td><td>eyJpbmRleCI6NzM0MywidW5pcXVlX2lkIjoiYjhjNjNhOTUtNmZlOC00ZDdmLTk0NTUtMWVlZjM0NjJmZWUwIiwidGl0bGUiOiJUaGlzIEZhc2hpb24gUnVsZSBJcyBOb25zZW5zZSwgQW5kIFdlIFNob3VsZCBBbGwgRm9yZ2U= (truncated)</td><td>streaming-0affec486183-pin</td><td>shardId-000000000000</td><td>49654776698500171106604178332160404866294747277857652738</td><td>2024-08-12T12:45:40.151+0000</td></tr><tr><td>partition-1</td><td>eyJpbmRleCI6MjA3NCwidW5pcXVlX2lkIjoiODZlZDA5YTctODQyZC00OTZkLTk1MDEtMDEwYzY1NGViMzQwIiwidGl0bGUiOiIzNSBDaHJpc3RtYXMgRGVjb3JhdGluZyBJZGVhcyBXZSBCZXQgWW91IEhhdmVuJ3QgVGhvdWc= (truncated)</td><td>streaming-0affec486183-pin</td><td>shardId-000000000000</td><td>49654776698500171106604178348310444890526578560196411394</td><td>2024-08-12T12:45:43.380+0000</td></tr><tr><td>partition-1</td><td>eyJpbmRleCI6OTk3OSwidW5pcXVlX2lkIjoiMmIyYWJjODUtZmM1MS00ODFmLThhZTYtMTc2ODE5OTNkYTI4IiwidGl0bGUiOiJQYXJpcyBpbiB0aGUgU3VtbWVyLiAxMCBmdW4gdGhpbmdzIHRvIGRvIGluIFBhcmlzIGluIHQ= (truncated)</td><td>streaming-0affec486183-pin</td><td>shardId-000000000000</td><td>49654776698500171106604178366375423413027982523989229570</td><td>2024-08-12T12:45:45.602+0000</td></tr><tr><td>partition-1</td><td>eyJpbmRleCI6MTAxMzgsInVuaXF1ZV9pZCI6IjkyN2M0NjU4LWNjM2YtNGI5Mi05YjVjLTcwNzQzZDBjMjM4ZCIsInRpdGxlIjoiMTQgQW1hemluZyBUaGluZ3MgVG8gRG8gSW4gQ29zdGEgUmljYSB8IFZvbGNhbm9lcywgV2E= (truncated)</td><td>streaming-0affec486183-pin</td><td>shardId-000000000000</td><td>49654776698500171106604178368734037687096124112560455682</td><td>2024-08-12T12:45:46.243+0000</td></tr><tr><td>partition-1</td><td>eyJpbmRleCI6OTY3MiwidW5pcXVlX2lkIjoiMWE1MDUwYTQtYWM4Mi00NzJjLWFlZmYtMzQ1N2RlOGJiZWU5IiwidGl0bGUiOiJMYWtlIE1vcmFpbmUsIEJhbmZmLCBDYW5hZGEiLCJkZXNjcmlwdGlvbiI6Ik9uIG91ciBDYWw= (truncated)</td><td>streaming-0affec486183-pin</td><td>shardId-000000000000</td><td>49654776698500171106604178373769213725791054693931155458</td><td>2024-08-12T12:45:47.905+0000</td></tr><tr><td>partition-1</td><td>eyJpbmRleCI6ODY1MywidW5pcXVlX2lkIjoiMjRiMTM0M2MtNGQ4Ni00NzA1LThlYzktN2YxZjJkZjJkNzdlIiwidGl0bGUiOiJVbmlxdWUgV29tZW4gVGF0dG9vcyBJZGVhcyAyMDIwIiwiZGVzY3JpcHRpb24iOiJXZSB3ZWw= (truncated)</td><td>streaming-0affec486183-pin</td><td>shardId-000000000000</td><td>49654776698500171106604178382014087815562825871585705986</td><td>2024-08-12T12:45:50.522+0000</td></tr><tr><td>partition-1</td><td>eyJpbmRleCI6ODg4NywidW5pcXVlX2lkIjoiNWRmOWY2ZTUtMDdmNS00Y2U4LWE4MmUtOTY1ODZiYmMwNWQ4IiwidGl0bGUiOiIyNSBVbHRyYSBTZXh5IEJhY2sgVGF0dG9vIElkZWFzIEZvciBHaXJscyIsImRlc2NyaXB0aW8= (truncated)</td><td>streaming-0affec486183-pin</td><td>shardId-000000000000</td><td>49654776698500171106604178388122789982075547160095490050</td><td>2024-08-12T12:45:52.153+0000</td></tr><tr><td>partition-1</td><td>eyJpbmRleCI6NzkyMiwidW5pcXVlX2lkIjoiYTU4NDU4MWMtMWIzOC00NzMxLWExY2MtZjM2MTE1ZWNmMjI5IiwidGl0bGUiOiI0NSBUb3AgTGlmZSBRdW90ZXMgU2Nob29sIERpZCBOb3QgVGVhY2ggWW91IiwiZGVzY3JpcHQ= (truncated)</td><td>streaming-0affec486183-pin</td><td>shardId-000000000000</td><td>49654776698500171106604178394093674605152200722688770050</td><td>2024-08-12T12:45:53.778+0000</td></tr><tr><td>partition-1</td><td>eyJpbmRleCI6MTAxNCwidW5pcXVlX2lkIjoiOWFjOTQzMDctYmIyNy00MTBlLWI1NTQtMGEwYWI2YzE5ODQ3IiwidGl0bGUiOiJIYWlyc3R5bGVzICYgQmVhdXR5IiwiZGVzY3JpcHRpb24iOiJVbnRpdGxlZCIsInBvc3Rlcl8= (truncated)</td><td>streaming-0affec486183-pin</td><td>shardId-000000000000</td><td>49654776698500171106604178399521751535221885785838977026</td><td>2024-08-12T12:45:55.431+0000</td></tr><tr><td>partition-1</td><td>eyJpbmRleCI6NDkxMywidW5pcXVlX2lkIjoiNGQyZDc5YzYtOWNhOC00NmM5LWEzOGUtOTMxYzVkOTY3ODA0IiwidGl0bGUiOiJIb3cgdG8gV29yayBGcm9tIEhvbWUgYXMgYW4gRXZlbnQgUGxhbm5lciIsImRlc2NyaXB0aW8= (truncated)</td><td>streaming-0affec486183-pin</td><td>shardId-000000000000</td><td>49654776698500171106604178405209747516508716327709442050</td><td>2024-08-12T12:45:57.092+0000</td></tr><tr><td>partition-1</td><td>eyJpbmRleCI6NDEzNywidW5pcXVlX2lkIjoiYmYyNzUwNTQtNDQ2NC00NDhiLTkxNDMtMWJmMTAxYWEzNjZkIiwidGl0bGUiOiIxNSBFc3NlbnRpYWwgQ2xhc3Nyb29tIEl0ZW1zIEZvciBGaXJzdCBZZWFyIFRlYWNoZXJzIC8= (truncated)</td><td>streaming-0affec486183-pin</td><td>shardId-000000000000</td><td>49654776698500171106604178411280972982613384111803334658</td><td>2024-08-12T12:45:58.712+0000</td></tr><tr><td>partition-1</td><td>eyJpbmRleCI6NzE2NiwidW5pcXVlX2lkIjoiNGE4NDRiMDMtZTE2MS00N2ExLTkwNGItNTkxZWI1ZGM0ZmIxIiwidGl0bGUiOiJUaGUgS2lsbGVycyAtIE1yLiBCcmlnaHRzaWRlIC0gV29tZW4ncyBULVNoaXJ0IC0gSGVhdGg= (truncated)</td><td>streaming-0affec486183-pin</td><td>shardId-000000000000</td><td>49654776698500171106604178413008527978842689271177936898</td><td>2024-08-12T12:45:59.379+0000</td></tr><tr><td>partition-1</td><td>eyJpbmRleCI6OTU0NiwidW5pcXVlX2lkIjoiZWZkNWIyZDYtMmY2OS00MGNkLWJiNTktNDFmMThjMDg5ZTUyIiwidGl0bGUiOiIyMCBBbWF6aW5nIFRyaXBzIHRvIFRha2UgaW4gWW91ciBUd2VudGllcyEiLCJkZXNjcmlwdGk= (truncated)</td><td>streaming-0affec486183-pin</td><td>shardId-000000000000</td><td>49654776698500171106604178424402653828710569448942075906</td><td>2024-08-12T12:46:02.503+0000</td></tr><tr><td>partition-1</td><td>eyJpbmRleCI6MjQxMSwidW5pcXVlX2lkIjoiNGUxMTgwMWUtN2E2NC00ZjFlLTkwZGQtZTkwMDY3NzU5NWM1IiwidGl0bGUiOiJUaGUgU3dlZXRlc3QgR2luZ2VyYnJlYWQgSG91c2UgT3JuYW1lbnRzIEtpZHMgQ2FuIE1ha2U= (truncated)</td><td>streaming-0affec486183-pin</td><td>shardId-000000000000</td><td>49654776698500171106604178431104938572654073730952069122</td><td>2024-08-12T12:46:04.107+0000</td></tr><tr><td>partition-1</td><td>eyJpbmRleCI6OTU5MCwidW5pcXVlX2lkIjoiYjg0OWU5NzYtNTJmNi00NWQ3LThiMjUtNTE1NTkzMThmMTY3IiwidGl0bGUiOiJUb3AgMjAgVGhpbmdzIFRvIFNlZSBBbmQgRG8gSW4gSXJlbGFuZCIsImRlc2NyaXB0aW9uIjo= (truncated)</td><td>streaming-0affec486183-pin</td><td>shardId-000000000000</td><td>49654776698500171106604178433746441488512038477685063682</td><td>2024-08-12T12:46:04.716+0000</td></tr><tr><td>partition-1</td><td>eyJpbmRleCI6MjY5OCwidW5pcXVlX2lkIjoiNzNmMTYzMDItNDg3MS00ODZhLTg4MzYtOTQ3NTMwNTI2MzM3IiwidGl0bGUiOiJESVkgRG9sbGFyIFRyZWUgVmFsZW50aW5lJ3MgRGF5IFdyZWF0aCIsImRlc2NyaXB0aW9uIjo= (truncated)</td><td>streaming-0affec486183-pin</td><td>shardId-000000000000</td><td>49654776698500171106604178441149903207832027612305162242</td><td>2024-08-12T12:46:06.337+0000</td></tr><tr><td>partition-1</td><td>eyJpbmRleCI6NDUwOCwidW5pcXVlX2lkIjoiOTA2NGY0YTItMjc1My00NzZjLTgxNWUtZGIzNjBmNDVhOTNlIiwidGl0bGUiOiJDdXN0b20gRXZlbnQgYW5kIFNob3AgTmVvbiBTaWduIExpZ2h0cyAtIEV2ZW50ICYgU2hvcCI= (truncated)</td><td>streaming-0affec486183-pin</td><td>shardId-000000000000</td><td>49654776698500171106604178444255633638422010030844805122</td><td>2024-08-12T12:46:06.932+0000</td></tr><tr><td>partition-1</td><td>eyJpbmRleCI6ODMxLCJ1bmlxdWVfaWQiOiI1ZTY1OTE0ZC05ZjU4LTRmZjEtOTY3Ni02NThlNDI2ZThjZTUiLCJ0aXRsZSI6ImNyZWF0aW5nIG1peGVkLW1lZGlhIGZhY2VzIHR1dG9yaWFsIiwiZGVzY3JpcHRpb24iOiJGcmU= (truncated)</td><td>streaming-0affec486183-pin</td><td>shardId-000000000000</td><td>49654776698500171106604178447142548495661744500043153410</td><td>2024-08-12T12:46:07.606+0000</td></tr><tr><td>partition-1</td><td>eyJpbmRleCI6NTA3NiwidW5pcXVlX2lkIjoiZmEzYWYyOWMtZGM3OC00ZWVkLWE0YzUtNTJhNDA3ZWEwNGMwIiwidGl0bGUiOiJRdWl6OiBUZXN0IFlvdXIgRXZlbnQgSVEhIC0gUG9pbnRlcnMgRm9yIFBsYW5uZXJzIiwiZGU= (truncated)</td><td>streaming-0affec486183-pin</td><td>shardId-000000000000</td><td>49654776698500171106604178449583369725463680941213876226</td><td>2024-08-12T12:46:08.202+0000</td></tr><tr><td>partition-1</td><td>eyJpbmRleCI6MTA2NjMsInVuaXF1ZV9pZCI6ImQ1MjA4YzE2LTgyYWUtNGZkMS04N2YwLTM2ZTVlZjc4OTQxMiIsInRpdGxlIjoiMjErIENsYXNzaWMgQ2FyIFBpY3R1cmUgb2YgdGhlIDE5NTBzIC0gVmludGFnZXRvcGlhIiw= (truncated)</td><td>streaming-0affec486183-pin</td><td>shardId-000000000000</td><td>49654776698500171106604178452221245863862801869142228994</td><td>2024-08-12T12:46:08.824+0000</td></tr><tr><td>partition-1</td><td>eyJpbmRleCI6NTQ2OCwidW5pcXVlX2lkIjoiOTFlZTQ5ZjYtMDA3MC00MjcwLWJhMTktZmRlODhiYTUxYzkxIiwidGl0bGUiOiJCdWRnZXRzLCBTcG91c2VzICYgTWFraW5nIEl0IFdvcmshIC0gVHNoYW5pbmEgUGV0ZXJzb24= (truncated)</td><td>streaming-0affec486183-pin</td><td>shardId-000000000000</td><td>49654776698500171106604178460565251870842972501683732482</td><td>2024-08-12T12:46:10.465+0000</td></tr><tr><td>partition-1</td><td>eyJpbmRleCI6MjA1LCJ1bmlxdWVfaWQiOiJmNGFmZDU0My1iOWZlLTQ0YzMtODA2NC1mMjE5OGZhYTEzNzIiLCJ0aXRsZSI6IkRJWSBBYnN0cmFjdCBIZWFydCBQYWludGluZyBhbmQgYSBGdW4gUGFpbnQgUGFydHkiLCJkZXM= (truncated)</td><td>streaming-0affec486183-pin</td><td>shardId-000000000000</td><td>49654776698500171106604178469679343624917661918513070082</td><td>2024-08-12T12:46:12.062+0000</td></tr><tr><td>partition-1</td><td>eyJpbmRleCI6Nzc5MCwidW5pcXVlX2lkIjoiOWNkODlmYjktZDFhZi00ZTY2LTg1Y2EtYzlkNjU2YzkxOGI0IiwidGl0bGUiOiI1MCBIZWFydCBUb3VjaGluZyBTYWQgUXVvdGVzIFRoYXQgV2lsbCBNYWtlIFlvdSBDcnkiLCI= (truncated)</td><td>streaming-0affec486183-pin</td><td>shardId-000000000000</td><td>49654776698500171106604178472216878920288768624940810242</td><td>2024-08-12T12:46:12.675+0000</td></tr><tr><td>partition-1</td><td>eyJpbmRleCI6ODYwNiwidW5pcXVlX2lkIjoiNzE3NTcwNDAtYmZjOC00NjMxLTljYWMtMjI4MDFlNjFkOWUzIiwidGl0bGUiOiIzMCsgRWFnbGUgVGF0dG9vcyBJZGVhcyBmb3IgV29tZW4iLCJkZXNjcmlwdGlvbiI6InN1bW0= (truncated)</td><td>streaming-0affec486183-pin</td><td>shardId-000000000000</td><td>49654776698500171106604178475111047332446190869187395586</td><td>2024-08-12T12:46:13.309+0000</td></tr><tr><td>partition-1</td><td>eyJpbmRleCI6OTc1OSwidW5pcXVlX2lkIjoiZDEwNWViNmUtMGY5Zi00NmU3LThkMDItZDI0YjYyZjZhZTkwIiwidGl0bGUiOiI4IEJlc3QgR3JlZWsgSXNsYW5kcyBZb3UgSGF2ZSBUbyBWaXNpdCAtIFRoZUZhYjIwcyIsImQ= (truncated)</td><td>streaming-0affec486183-pin</td><td>shardId-000000000000</td><td>49654776698500171106604178479255245042085139817519120386</td><td>2024-08-12T12:46:13.960+0000</td></tr><tr><td>partition-1</td><td>eyJpbmRleCI6NzE5LCJ1bmlxdWVfaWQiOiJkN2M1M2UzNC05NTQwLTRmNDgtYTMxYi04OWI2ZWQxODUyYmIiLCJ0aXRsZSI6IjEwIEFydCBTdWIgTGVzc29ucyB0aGF0IG9ubHkgbmVlZCBhIFBlbmNpbCIsImRlc2NyaXB0aW8= (truncated)</td><td>streaming-0affec486183-pin</td><td>shardId-000000000000</td><td>49654776698500171106604178496904353082639111276493537282</td><td>2024-08-12T12:46:16.321+0000</td></tr><tr><td>partition-1</td><td>eyJpbmRleCI6MTcwNCwidW5pcXVlX2lkIjoiNWZiZjk4NjMtZmI3OS00NzdjLWE1YjYtNTQwYzMwMjBhNTVmIiwidGl0bGUiOiJDaHJpc3RtYXMgVHJlZXMgRnJvbSBQYWxsZXQgV29vZCB8IEhvbGlkYXkgRElZIiwiZGVzY3I= (truncated)</td><td>streaming-0affec486183-pin</td><td>shardId-000000000000</td><td>49654776698500171106604178511702814040541787278949744642</td><td>2024-08-12T12:46:19.614+0000</td></tr><tr><td>partition-1</td><td>eyJpbmRleCI6MjQ4MiwidW5pcXVlX2lkIjoiMDg2MDRmMjAtZmExNy00YjlhLTk5NDktNzgxNzE3ZWNhNmNkIiwidGl0bGUiOiJGT1JOVCBQT1JDSCBDSFJJU1RNQVMgREVDT1JBVElORyBJREVBUyIsImRlc2NyaXB0aW9uIjo= (truncated)</td><td>streaming-0affec486183-pin</td><td>shardId-000000000000</td><td>49654776698500171106604178524533143764111846847545344002</td><td>2024-08-12T12:46:22.701+0000</td></tr><tr><td>partition-1</td><td>eyJpbmRleCI6ODkzMCwidW5pcXVlX2lkIjoiYTI5OTljMjgtZjdiMi00NTc3LWFmODctNDlkMjFkNmQ4YTE4IiwidGl0bGUiOiIxMzUgU3VuZmxvd2VyIFRhdHRvbyBJZGVhcyAtIFtCZXN0IFJhdGVkIERlc2lnbnMgaW4gMjA= (truncated)</td><td>streaming-0affec486183-pin</td><td>shardId-000000000000</td><td>49654776698500171106604178531334560425263750653161766914</td><td>2024-08-12T12:46:24.379+0000</td></tr><tr><td>partition-1</td><td>eyJpbmRleCI6NzI5NCwidW5pcXVlX2lkIjoiOWQ4NDA5ZWYtYmVhNy00MTMzLWEwMjEtYzU4YjljMDQyMjEwIiwidGl0bGUiOiJGb29scHJvb2YgRmFsbCBGYXNoaW9uIEZvciBNZW4gWW91J2xsIExvdmUiLCJkZXNjcmlwdGk= (truncated)</td><td>streaming-0affec486183-pin</td><td>shardId-000000000000</td><td>49654776698500171106604178533342586211643649781068201986</td><td>2024-08-12T12:46:24.994+0000</td></tr><tr><td>partition-1</td><td>eyJpbmRleCI6ODA4LCJ1bmlxdWVfaWQiOiIyM2Y2N2U0Mi1kYjlmLTRhYWUtOGI4Mi1jYmVjNjRhZDlmNGQiLCJ0aXRsZSI6IkNoYWxrIFBhc3RlbCBIb3QgQ2hvY29sYXRlIEFydCBQcm9qZWN0IiwiZGVzY3JpcHRpb24iOiI= (truncated)</td><td>streaming-0affec486183-pin</td><td>shardId-000000000000</td><td>49654776698500171106604178536671967918862338528209010690</td><td>2024-08-12T12:46:25.664+0000</td></tr><tr><td>partition-1</td><td>eyJpbmRleCI6NzcxLCJ1bmlxdWVfaWQiOiJhNTAyMTc2Ni1hOGFhLTRkYzctOTg1Ny00ZGE2YjhlM2RjMWEiLCJ0aXRsZSI6IkFmcmljYW4gU3Vuc2V0IFNoYWRvdyBUcmFjaW5nIEFydCAtIFRhbWluZyBMaXR0bGUgTW9uc3Q= (truncated)</td><td>streaming-0affec486183-pin</td><td>shardId-000000000000</td><td>49654776698500171106604178544387332499642902127342256130</td><td>2024-08-12T12:46:27.736+0000</td></tr><tr><td>partition-1</td><td>eyJpbmRleCI6NDA3NiwidW5pcXVlX2lkIjoiM2E1MmQzNjQtN2MwNC00N2NiLWEzZTUtNTZkOWUyYjc3NTI4IiwidGl0bGUiOiJQaG9uaWNzIEFjdGl2aXRpZXMgWW91ciBLaWRzIFdpbGwgTG92ZSAtIFRoZSBMaXRlcmFjeSA= (truncated)</td><td>streaming-0affec486183-pin</td><td>shardId-000000000000</td><td>49654776698500171106604178550485154333779091821999161346</td><td>2024-08-12T12:46:29.391+0000</td></tr><tr><td>partition-1</td><td>eyJpbmRleCI6MTU0NSwidW5pcXVlX2lkIjoiMGM2Mjk1NDEtY2M1Yi00YjYxLWJkM2YtNjEzMzQ2ODkzMjU4IiwidGl0bGUiOiJPaWwgQ2xlYW5zaW5nIE1ldGhvZDogV2hhdCBpdCBpcyBhbmQgd2h5IHlvdSBzaG91bGQgZG8= (truncated)</td><td>streaming-0affec486183-pin</td><td>shardId-000000000000</td><td>49654776698500171106604178552650340476708892673897922562</td><td>2024-08-12T12:46:30.021+0000</td></tr><tr><td>partition-1</td><td>eyJpbmRleCI6MjI5MywidW5pcXVlX2lkIjoiMWZkN2Q0Y2MtNTRjMS00NTQyLTljMWYtNDQ5Y2I0Yzg3NWY0IiwidGl0bGUiOiJPdmVyIDQwIG9mIHRoZSBCRVNUIEhvbWVtYWRlIENocmlzdG1hcyBPcm5hbWVudCBJZGVhcyI= (truncated)</td><td>streaming-0affec486183-pin</td><td>shardId-000000000000</td><td>49654776698500171106604178555694415690498529004527550466</td><td>2024-08-12T12:46:30.853+0000</td></tr><tr><td>partition-1</td><td>eyJpbmRleCI6MTA1MDksInVuaXF1ZV9pZCI6IjZhNWYwZTdlLTEzODktNGU1NC05NDJmLTRjYjY5ZjA5ZjE0MCIsInRpdGxlIjoiRmx5aW5nIENhciIsImRlc2NyaXB0aW9uIjoiTm8gZGVzY3JpcHRpb24gYXZhaWxhYmxlIFM= (truncated)</td><td>streaming-0affec486183-pin</td><td>shardId-000000000000</td><td>49654776698500171106604178559915984652592814220040470530</td><td>2024-08-12T12:46:31.780+0000</td></tr><tr><td>partition-1</td><td>eyJpbmRleCI6MjAxNSwidW5pcXVlX2lkIjoiNzIzNTkxNjQtNDQxOS00NTJjLTgxY2ItNzRmMzBhNWEyNmI3IiwidGl0bGUiOiIxNiBCbGlzc2Z1bCBDaHJpc3RtYXMgVGFibGUgRGVjb3IgSWRlYXMgVGhhdCBZb3UgTXVzdCA= (truncated)</td><td>streaming-0affec486183-pin</td><td>shardId-000000000000</td><td>49654776698500171106604178567217896603065174503985250306</td><td>2024-08-12T12:46:33.196+0000</td></tr><tr><td>partition-1</td><td>eyJpbmRleCI6MTA5NCwidW5pcXVlX2lkIjoiNmRlYWNkY2QtNzVlZC00ZGQ4LTg5NTEtOWI3NzQ1M2YzOGUwIiwidGl0bGUiOiI5IGNvbG9ycyBsYXp5IGxpcHN0aWNrIC0gOSBjb2xvcnMgbGF6eSBsaXBzdGljazQiLCJkZXM= (truncated)</td><td>streaming-0affec486183-pin</td><td>shardId-000000000000</td><td>49654776698500171106604178578686975853749161621861695490</td><td>2024-08-12T12:46:35.591+0000</td></tr><tr><td>partition-1</td><td>eyJpbmRleCI6NjAzLCJ1bmlxdWVfaWQiOiI3OGUyMWE2NC01M2IwLTQ3NDUtODI5NC1lOGM0NTZmMGNjYzEiLCJ0aXRsZSI6IkhvdyB0byBDcmVhdGUgQWxjb2hvbCBJbmsgUmluZ3MgRm9yIEdvcmdlb3VzIFBpZWNlcyBvZiA= (truncated)</td><td>streaming-0affec486183-pin</td><td>shardId-000000000000</td><td>49654776698500171106604178587433554158661003769580355586</td><td>2024-08-12T12:46:37.190+0000</td></tr><tr><td>partition-1</td><td>eyJpbmRleCI6Nzc2OCwidW5pcXVlX2lkIjoiYWUxYTYxZjYtZDk1OC00MGZlLWJhOTMtNmE3OGIzYTczMTc4IiwidGl0bGUiOiIxNiBNb3RpdmF0aW9uYWwgUXVvdGVzIEdldCBZb3UgSW5zcGlyZWQgVG9kYXkgLSBCb3NzIEI= (truncated)</td><td>streaming-0affec486183-pin</td><td>shardId-000000000000</td><td>49654776698500171106604178600097052119124244580785979394</td><td>2024-08-12T12:46:38.840+0000</td></tr><tr><td>partition-1</td><td>eyJpbmRleCI6NTYzMCwidW5pcXVlX2lkIjoiZDQxZTcwM2MtYzk3Yy00YzVhLTlmOWMtMzM4OTgyY2E3NTA0IiwidGl0bGUiOiI3IEluc2FuZWx5IFVzZWZ1bCBNb25leSBNYW5hZ2VtZW50IFdvcmtzaGVldHMiLCJkZXNjcmk= (truncated)</td><td>streaming-0affec486183-pin</td><td>shardId-000000000000</td><td>49654776698500171106604178609506121773184903516243623938</td><td>2024-08-12T12:46:40.563+0000</td></tr><tr><td>partition-1</td><td>eyJpbmRleCI6ODU3OCwidW5pcXVlX2lkIjoiMDM2ZWMyNjctNjU4Yi00ZGFkLWEwOTctOGVmMGI0ZjMwYzBkIiwidGl0bGUiOiJTbmFrZSBDb2xsYXJib25lIFRlbXBvcmFyeSBUYXR0b28uIEhhbGxvd2VlbiBUYXR0b29zICA= (truncated)</td><td>streaming-0affec486183-pin</td><td>shardId-000000000000</td><td>49654776698500171106604178615711538005266795138729902082</td><td>2024-08-12T12:46:42.220+0000</td></tr><tr><td>partition-1</td><td>eyJpbmRleCI6OTkzNiwidW5pcXVlX2lkIjoiMWYzMTU0YTYtMTNmMC00MDQ5LThkNWMtZmFlYTE1YjlmMDdjIiwidGl0bGUiOiJDaGFzaW5nIFdhdGVyZmFsbHMgaW4gQ29zdGEgUmljYSIsImRlc2NyaXB0aW9uIjoiVm9sY2E= (truncated)</td><td>streaming-0affec486183-pin</td><td>shardId-000000000000</td><td>49654776698500171106604178618117300386299907265114669058</td><td>2024-08-12T12:46:42.840+0000</td></tr><tr><td>partition-1</td><td>eyJpbmRleCI6Njg0NCwidW5pcXVlX2lkIjoiNjljM2YyNjgtMjc0Zi00NGJkLTljYjQtNDI3ZTY0ZmVmYzQ0IiwidGl0bGUiOiLimZR0aGUtZmFzaG1hbuKZlCIsImRlc2NyaXB0aW9uIjoiYmlsbHktZ2VvcmdlOiDigJxTdW0= (truncated)</td><td>streaming-0affec486183-pin</td><td>shardId-000000000000</td><td>49654776698500171106604178626467351022378151180968656898</td><td>2024-08-12T12:46:45.239+0000</td></tr><tr><td>partition-1</td><td>eyJpbmRleCI6MzQxOSwidW5pcXVlX2lkIjoiZDBiODAxODctMDE3MS00OWIyLThlZTQtNTcyOTg0MjQ0ZjY1IiwidGl0bGUiOiJFYXN5IENocmlzdG1hcyBUcmVlIENyYWZ0cyBJZGVhcyBmb3IgdG9kZGxlcnMgYW5kIHByZXM= (truncated)</td><td>streaming-0affec486183-pin</td><td>shardId-000000000000</td><td>49654776698500171106604178629177762709954149790659903490</td><td>2024-08-12T12:46:45.904+0000</td></tr><tr><td>partition-1</td><td>eyJpbmRleCI6MTI2OCwidW5pcXVlX2lkIjoiZTJmMmNlYzUtY2RhNS00MmIyLWFiOWQtNmRkZGY4NjNlOTRlIiwidGl0bGUiOiJKYW5ldCBvbiBUd2l0dGVyIiwiZGVzY3JpcHRpb24iOiJIZXJl4oCZcyBob3cgdG8gZ2V0IGw= (truncated)</td><td>streaming-0affec486183-pin</td><td>shardId-000000000000</td><td>49654776698500171106604178640687945438505034369195835394</td><td>2024-08-12T12:46:48.254+0000</td></tr><tr><td>partition-1</td><td>eyJpbmRleCI6NjU2NiwidW5pcXVlX2lkIjoiNmQ4ODQ4ZjgtZjUxNS00OTM1LThkYWUtNWRkMDIzMDRkNzZlIiwidGl0bGUiOiJOYXZ5IGFuZCBOZXV0cmFsIEZhbGwgTGl2aW5nIFJvb20gKyBLaXRjaGVuIFRvdXIgLSBTYW4= (truncated)</td><td>streaming-0affec486183-pin</td><td>shardId-000000000000</td><td>49654776698500171106604178651463101268730224272071458818</td><td>2024-08-12T12:46:49.922+0000</td></tr><tr><td>partition-1</td><td>eyJpbmRleCI6MTU1NSwidW5pcXVlX2lkIjoiMWYyMDU1MWItYTIxYy00ZmYwLWIyMGQtNDllOTVmZGM1MGQzIiwidGl0bGUiOiJTa2luIFB1cmdpbmc6IERpZSBQZmxlZ2VtZXRob2RlIGbDvHIgcmVpbmUgSGF1dCB8IEVMTEU= (truncated)</td><td>streaming-0affec486183-pin</td><td>shardId-000000000000</td><td>49654776698500171106604178659584664924901303205186502658</td><td>2024-08-12T12:46:51.562+0000</td></tr><tr><td>partition-1</td><td>eyJpbmRleCI6MzcyOSwidW5pcXVlX2lkIjoiYWM5MGYxZDItZGM5ZS00MzhjLWIwNzMtZGQ0ODUxMWI4MGIwIiwidGl0bGUiOiI1ICsgTmF0dXJlIEdhbWVzIGZvciBZb3VyIEhvbWVzY2hvb2wiLCJkZXNjcmlwdGlvbiI6Ik8= (truncated)</td><td>streaming-0affec486183-pin</td><td>shardId-000000000000</td><td>49654776698500171106604178662663798987459763781882609666</td><td>2024-08-12T12:46:52.292+0000</td></tr><tr><td>partition-1</td><td>eyJpbmRleCI6NjM5OCwidW5pcXVlX2lkIjoiZWE0NGQzMTgtMmNlZC00Y2Y4LWE2NmYtYTZhMDM2Yjg0ZmFhIiwidGl0bGUiOiJNeSBtYXN0ZXIgYmF0aHJvb20gbWFrZW92ZXIgd2l0aCBAZmxvb3JhbmRkZWNvciAhIEZvbGw= (truncated)</td><td>streaming-0affec486183-pin</td><td>shardId-000000000000</td><td>49654776698500171106604178664932952750876422742806102018</td><td>2024-08-12T12:46:52.902+0000</td></tr><tr><td>partition-1</td><td>eyJpbmRleCI6NDYsInVuaXF1ZV9pZCI6IjE5MjM0MDczLTg5MDUtNDg4NS1iMGQ1LTk4ZTBiODRjYmYyNyIsInRpdGxlIjoiMTAgV2F0ZXJjb2xvciBIYWNrcyBGb3IgQmVnaW5uZXJzIHwgVGlwcyBhbmQgVHJpY2tzIHRvIE0= (truncated)</td><td>streaming-0affec486183-pin</td><td>shardId-000000000000</td><td>49654776698500171106604178673215303541056247356157067266</td><td>2024-08-12T12:46:54.501+0000</td></tr><tr><td>partition-1</td><td>eyJpbmRleCI6NDk4OCwidW5pcXVlX2lkIjoiZmJkZmQzNTUtYTM1Ni00NmMyLWEyNTEtMzAxODY5YWUyNjc0IiwidGl0bGUiOiJGdW4gQm9vayBQYWdlIENyYWZ0cyAtIE1vbUFkdmljZSIsImRlc2NyaXB0aW9uIjoiRnVuIEI= (truncated)</td><td>streaming-0affec486183-pin</td><td>shardId-000000000000</td><td>49654776698500171106604178681214765689446248673907310594</td><td>2024-08-12T12:46:56.171+0000</td></tr><tr><td>partition-1</td><td>eyJpbmRleCI6NDI3LCJ1bmlxdWVfaWQiOiI0YTQ1NTM0MC0wOWEyLTQzNzAtYWQ4Ni03M2Q3OTY0NjAzZGIiLCJ0aXRsZSI6IkRJWSBBY3J5bGljIFBhaW50IFBvdXJpbmcgV2FsbCBBcnQgLSBBYmJvdHRzIEF0IEhvbWUiLCI= (truncated)</td><td>streaming-0affec486183-pin</td><td>shardId-000000000000</td><td>49654776698500171106604178684840334222470521706290085890</td><td>2024-08-12T12:46:56.902+0000</td></tr><tr><td>partition-1</td><td>eyJpbmRleCI6MzgwMCwidW5pcXVlX2lkIjoiZDJjMzY3ZWQtOTI4Ny00ZWEzLWIxNzMtMTk4YjI5MmQ5OTgxIiwidGl0bGUiOiJSZWluZm9yY2luZyB0aGUgRGlmZmljdWx0IENoaWxkIFdoZW4gVG9rZW4gQm9hcmRzIERvbic= (truncated)</td><td>streaming-0affec486183-pin</td><td>shardId-000000000000</td><td>49654776698500171106604178704102149306390408553042018306</td><td>2024-08-12T12:47:00.603+0000</td></tr><tr><td>partition-1</td><td>eyJpbmRleCI6MTU5LCJ1bmlxdWVfaWQiOiI4NDFhMTYxYS00N2I4LTQxNjEtODg0ZC1hZGViNjdhMjhiMWUiLCJ0aXRsZSI6IlZhbGVudGluZSdzIERheSBCZWUgRGlyZWN0ZWQgRHJhd2luZyB7QXJ0IFByb2plY3R9IiwiZGU= (truncated)</td><td>streaming-0affec486183-pin</td><td>shardId-000000000000</td><td>49654776698500171106604178712722999326062329266591236098</td><td>2024-08-12T12:47:02.300+0000</td></tr><tr><td>partition-1</td><td>eyJpbmRleCI6MzU5OSwidW5pcXVlX2lkIjoiZmYwZGQ5NDUtZGFmYS00MTFjLThjZWYtZWI0M2UzNzRlODE1IiwidGl0bGUiOiJFZHVjYXRpb25hbCBMZWFkZXJzaGlwIGluIEFvdGVhcm9hIE5ldyBaZWFsYW5kIDogSXNzdWU= (truncated)</td><td>streaming-0affec486183-pin</td><td>shardId-000000000000</td><td>49654776698500171106604178717163383861506862362725974018</td><td>2024-08-12T12:47:02.938+0000</td></tr><tr><td>partition-1</td><td>eyJpbmRleCI6MTA1NTIsInVuaXF1ZV9pZCI6IjE3MzAxYjhjLWNjYmItNDJhZC1iMmRmLTM4NzZkZjM1YjFjZCIsInRpdGxlIjoiVGhlIFByb3dsZXIgRW1lcmdlbmN5IFJlc3BvbnNlIFZlaGljbGUiLCJkZXNjcmlwdGlvbiI= (truncated)</td><td>streaming-0affec486183-pin</td><td>shardId-000000000000</td><td>49654776698500171106604178732131094434155586312202092546</td><td>2024-08-12T12:47:05.528+0000</td></tr><tr><td>partition-1</td><td>eyJpbmRleCI6MTQyMiwidW5pcXVlX2lkIjoiN2JiZTg2MGMtYTczOS00YmE5LWJhYmQtZmViMjRiYjZlNGQ5IiwidGl0bGUiOiI0MSBMaWZlLVNhdmluZyBCZWF1dHkgSGFja3MgRXZlcnkgR2lybCBTaG91bGQgSGF2ZSBJbiA= (truncated)</td><td>streaming-0affec486183-pin</td><td>shardId-000000000000</td><td>49654776698500171106604178736167697745848833126546014210</td><td>2024-08-12T12:47:06.155+0000</td></tr><tr><td>partition-1</td><td>eyJpbmRleCI6NTMwOSwidW5pcXVlX2lkIjoiYzM4YmI0N2ItOTU4NC00ZmM0LWFmMGQtYTMxZTEwNjFkZjQxIiwidGl0bGUiOiJIb3cgdG8gV2F0Y2ggWW91ciBGYXZvcml0ZSBTaG93cyBXaXRob3V0IENhYmxlIiwiZGVzY3I= (truncated)</td><td>streaming-0affec486183-pin</td><td>shardId-000000000000</td><td>49654776698500171106604178744797010246258056381757128706</td><td>2024-08-12T12:47:07.811+0000</td></tr><tr><td>partition-1</td><td>eyJpbmRleCI6NTUyLCJ1bmlxdWVfaWQiOiJiODI2MDJhOS1lNDM0LTQyY2YtOTQ4MS0yMmYzZjQxZDgyY2UiLCJ0aXRsZSI6IlRoZSBoZXJiYWwgYmVkOiBLYXRpZSBTY290dCdzIHBzeWNoZWRlbGljIGZsb3JhIGFuZCBmYXU= (truncated)</td><td>streaming-0affec486183-pin</td><td>shardId-000000000000</td><td>49654776698500171106604178754695694857262640132970774530</td><td>2024-08-12T12:47:09.402+0000</td></tr><tr><td>partition-1</td><td>eyJpbmRleCI6MTM3MSwidW5pcXVlX2lkIjoiMzNlOTJhYzEtNzNkMS00YzMxLTk4OTItZDVlNjMzMDYwNzkwIiwidGl0bGUiOiJIb3cgVG8gRG8gTWFrZXVwIC0gU3RlcCBCeSBTdGVwIFRpcHMgRm9yIFRoZSBQZXJmZWN0IEw= (truncated)</td><td>streaming-0affec486183-pin</td><td>shardId-000000000000</td><td>49654776698500171106604178757994853418990963219463405570</td><td>2024-08-12T12:47:10.001+0000</td></tr><tr><td>partition-1</td><td>eyJpbmRleCI6MTAxMTksInVuaXF1ZV9pZCI6IjQwZWFiOWJhLTc4MTItNGYyNi1iYWNhLTM1YTZiZWQ5NWE5ZiIsInRpdGxlIjoiSG93IHRvIEFmZm9yZCBGYW1pbHkgVHJhdmVsOiAxMCBNaXN0YWtlcyBZb3UncmUgTWFraW4= (truncated)</td><td>streaming-0affec486183-pin</td><td>shardId-000000000000</td><td>49654776698500171106604178761258953131950461991170080770</td><td>2024-08-12T12:47:10.699+0000</td></tr><tr><td>partition-1</td><td>eyJpbmRleCI6OTA3NCwidW5pcXVlX2lkIjoiMmFkZWRlMDYtN2ZiMC00YjVmLThjZjktY2U4ZTZkNmZhNmExIiwidGl0bGUiOiI3NyBEaXNuZXkgVGF0dG9vcyBUbyBVbmxlYXNoIFlvdXIgTWFnaWMgUG93ZXIgLSBPdXIgTWk= (truncated)</td><td>streaming-0affec486183-pin</td><td>shardId-000000000000</td><td>49654776698500171106604178769621093026224852061332176898</td><td>2024-08-12T12:47:12.341+0000</td></tr><tr><td>partition-1</td><td>eyJpbmRleCI6MjYwNCwidW5pcXVlX2lkIjoiMDg3YjBmYTktZjkwMS00MjYyLWFhMGEtNmNhZjIzNGQxYjM1IiwidGl0bGUiOiI3NSsgTmV1dHJhbCBDaHJpc3RtYXMgSG9tZSBEZWNvciBmb3IgdGhlIEhvbGlkYXkgU2Vhc28= (truncated)</td><td>streaming-0affec486183-pin</td><td>shardId-000000000000</td><td>49654776698500171106604178772237208499870909664115818498</td><td>2024-08-12T12:47:12.971+0000</td></tr><tr><td>partition-1</td><td>eyJpbmRleCI6MjIzLCJ1bmlxdWVfaWQiOiI4NjcyZjk5Ni02Y2U5LTQwM2UtOTU5OS0yYzRkZjY2OGYxZTAiLCJ0aXRsZSI6IkVhc3kgR291YWNoZSBwYWludGluZyIsImRlc2NyaXB0aW9uIjoiTm8gZGVzY3JpcHRpb24gYXY= (truncated)</td><td>streaming-0affec486183-pin</td><td>shardId-000000000000</td><td>49654776698500171106604178780758926602334430854058606594</td><td>2024-08-12T12:47:14.900+0000</td></tr><tr><td>partition-1</td><td>eyJpbmRleCI6ODMxMiwidW5pcXVlX2lkIjoiY2EzYzliYjAtNzI4MS00YjliLThhYmYtMjAxZGEwYjY4ZDYyIiwidGl0bGUiOiI4IFZpc2lvbiBCb2FyZCBJZGVhcyBUbyBNYW5pZmVzdCBZb3VyIERyZWFtcyAtIFRoZUZhYjI= (truncated)</td><td>streaming-0affec486183-pin</td><td>shardId-000000000000</td><td>49654776698500171106604178788030615407316425477355208706</td><td>2024-08-12T12:47:16.525+0000</td></tr><tr><td>partition-1</td><td>eyJpbmRleCI6Mjg1OCwidW5pcXVlX2lkIjoiMjZmODFkYTQtMjZhOS00NjViLWI4MTktNjA5OWJjNjZlMWMwIiwidGl0bGUiOiI1MCBQb3B1bGFyIFNwcmluZyBDcmFmdHMgRm9yIEtpZHMgWW91IE5lZWQgVG8gTWFrZSIsImQ= (truncated)</td><td>streaming-0affec486183-pin</td><td>shardId-000000000000</td><td>49654776698500171106604178796268235942170508742522568706</td><td>2024-08-12T12:47:18.183+0000</td></tr><tr><td>partition-1</td><td>eyJpbmRleCI6NjI2MSwidW5pcXVlX2lkIjoiMzA4YzVjMWMtMWViZC00NjQ5LWJlNzgtMTQ0MjRlZTM0NmIxIiwidGl0bGUiOiJERUNPUkFUSU5HIFdJVEggUkFUVEFOICYgQ0FORSAtIERhc2hpbmcgRGFybGluJyIsImRlc2M= (truncated)</td><td>streaming-0affec486183-pin</td><td>shardId-000000000000</td><td>49654776698500171106604178803601579963952849453729185794</td><td>2024-08-12T12:47:19.850+0000</td></tr><tr><td>partition-1</td><td>eyJpbmRleCI6MzIwMSwidW5pcXVlX2lkIjoiNjM3MGYwOTYtZjM0NC00OWMzLWE2YjEtMzA3MmM1MzdhOTUzIiwidGl0bGUiOiJESVkgUG9tIFBvbSBMZXR0ZXJzIGZvciBNT00hIiwiZGVzY3JpcHRpb24iOiJNYXJsYSBNZXI= (truncated)</td><td>streaming-0affec486183-pin</td><td>shardId-000000000000</td><td>49654776698500171106604178810435637622234348315782152194</td><td>2024-08-12T12:47:21.441+0000</td></tr><tr><td>partition-1</td><td>eyJpbmRleCI6MjYzNywidW5pcXVlX2lkIjoiYjE4ZThkMzgtZWI0NS00MGMwLWI0NDMtNGZjYTI1MGRmODUwIiwidGl0bGUiOiJNYXJjbyBCb2hvIiwiZGVzY3JpcHRpb24iOiJObyBkZXNjcmlwdGlvbiBhdmFpbGFibGUgU3Q= (truncated)</td><td>streaming-0affec486183-pin</td><td>shardId-000000000000</td><td>49654776698500171106604178813120661867598439781524045826</td><td>2024-08-12T12:47:22.040+0000</td></tr><tr><td>partition-1</td><td>eyJpbmRleCI6MTE5OCwidW5pcXVlX2lkIjoiMWE5MGNhYWMtZjVkZi00YTI3LTgyMWItMGZiNGJlNjc4NTQyIiwidGl0bGUiOiJUaGUgRW5kIG9mIHRoZSBTa2luLUNhcmUgQ3JhemUiLCJkZXNjcmlwdGlvbiI6IkluIHRoZSA= (truncated)</td><td>streaming-0affec486183-pin</td><td>shardId-000000000000</td><td>49654776698500171106604178825304216277674672741651841026</td><td>2024-08-12T12:47:24.651+0000</td></tr><tr><td>partition-1</td><td>eyJpbmRleCI6MTAzNzAsInVuaXF1ZV9pZCI6Ijc0Njk0OGU3LWEyMTYtNDU2Yi04ZGU3LTdmZWU3MzEyMDEyYyIsInRpdGxlIjoiSm9zaHVhIFRyZWUgLSBBIFdlZWtlbmQgaW4gdGhlIERlc2VydCB3aXRoIEZhaXRoZnVsbCA= (truncated)</td><td>streaming-0affec486183-pin</td><td>shardId-000000000000</td><td>49654776698500171106604178832268837924474551485853597698</td><td>2024-08-12T12:47:26.324+0000</td></tr><tr><td>partition-1</td><td>eyJpbmRleCI6NzE2NywidW5pcXVlX2lkIjoiOTIyNDI1ZDItMTZkYy00NjVlLThmZTQtZTNjMDgxYTAyOTlmIiwidGl0bGUiOiJIYW1pbHRvbiBLaGFraSBBdmlhdGlvbiBQaWxvdCBDaHJvbm8gV2F0Y2ggSDc2NzEyMTUxIiw= (truncated)</td><td>streaming-0affec486183-pin</td><td>shardId-000000000000</td><td>49654776698500171106604178835989911597248380223038160898</td><td>2024-08-12T12:47:26.941+0000</td></tr><tr><td>partition-1</td><td>eyJpbmRleCI6MTA2NzMsInVuaXF1ZV9pZCI6ImVkZTczMTY5LTViOWYtNDkwNi1iMDJlLTlkYjFiZWUyMDNhNCIsInRpdGxlIjoiRGlzY292ZXIgdGhlIG5ldyBSYW5nZSBSb3ZlciBsdXh1cnkgcGVyZm9ybWFuY2UgU1VWIiw= (truncated)</td><td>streaming-0affec486183-pin</td><td>shardId-000000000000</td><td>49654776698500171106604178838716039320479369012000587778</td><td>2024-08-12T12:47:27.601+0000</td></tr><tr><td>partition-1</td><td>eyJpbmRleCI6MjA2MCwidW5pcXVlX2lkIjoiMTc3ZGRlMWEtMzQwOS00ODY1LWE1MzMtOWY1MGVmYWVkY2Q4IiwidGl0bGUiOiI1MCBESVkgRGVjb3JhdGlvbnMgZm9yIGEgSm9sbHkgQ2hyaXN0bWFzIFRhYmxlIFNldHRpbmc= (truncated)</td><td>streaming-0affec486183-pin</td><td>shardId-000000000000</td><td>49654776698500171106604178847970366469629355481815318530</td><td>2024-08-12T12:47:29.465+0000</td></tr><tr><td>partition-1</td><td>eyJpbmRleCI6OTQ4NywidW5pcXVlX2lkIjoiM2JjY2IwNWUtZjAzMS00NzdmLTljYTQtOWJlMjhlNWJkNTQyIiwidGl0bGUiOiJUaGUgQ2hlYXBlc3QgQ291bnRyaWVzIHRvIFZpc2l0IEFyb3VuZCB0aGUgV29ybGQiLCJkZXM= (truncated)</td><td>streaming-0affec486183-pin</td><td>shardId-000000000000</td><td>49654776698500171106604178851522190527657135997102063618</td><td>2024-08-12T12:47:30.122+0000</td></tr><tr><td>partition-1</td><td>eyJpbmRleCI6NzcyLCJ1bmlxdWVfaWQiOiI0OWExMjUxNi0yYzc3LTQ0NWYtYjY1Ni00YjU1YjRhNjk2MDgiLCJ0aXRsZSI6IjUgUGFzdGVsIENvbG9yIFBhbGV0dGVzIGZvciA1IEZsb3JhbCBGYXZvcml0ZXMiLCJkZXNjcmk= (truncated)</td><td>streaming-0affec486183-pin</td><td>shardId-000000000000</td><td>49654776698500171106604178853813104955826858351889743874</td><td>2024-08-12T12:47:30.721+0000</td></tr><tr><td>partition-1</td><td>eyJpbmRleCI6NzUxMCwidW5pcXVlX2lkIjoiZTA5ZmRkZGEtMWNjMi00MWM4LWI3OTktZDIzOGZlOTBiOTM3IiwidGl0bGUiOiJTZWUgdGhlIE1vc3QgU3R5bGlzaCBNZW4gb2YgTmV3IFlvcmsgRmFzaGlvbiBXZWVrIiwiZGU= (truncated)</td><td>streaming-0affec486183-pin</td><td>shardId-000000000000</td><td>49654776698500171106604178861182716752197637938337546242</td><td>2024-08-12T12:47:32.384+0000</td></tr><tr><td>partition-1</td><td>eyJpbmRleCI6NTc1OCwidW5pcXVlX2lkIjoiYWY2MDIwNzUtN2JlYS00YWEwLWFkZjQtYTFhODk5NTJlOTJlIiwidGl0bGUiOiJSb2JvdCBDaGFsbGVuZ2UgU2NyZWVuIiwiZGVzY3JpcHRpb24iOiJOZWVkIHRvIG9yZ2FuaXo= (truncated)</td><td>streaming-0affec486183-pin</td><td>shardId-000000000000</td><td>49654776698500171106604178869546065572291642706393825282</td><td>2024-08-12T12:47:34.105+0000</td></tr></tbody></table></div>"
      ]
     },
     "metadata": {
      "application/vnd.databricks.v1+output": {
       "addedWidgets": {},
       "aggData": [],
       "aggError": "",
       "aggOverflow": false,
       "aggSchema": [],
       "aggSeriesLimitReached": false,
       "aggType": "",
       "arguments": {},
       "columnCustomDisplayInfos": {},
       "data": [
        [
         "partition-1",
         "eyJpbmRleCI6NzUyOCwidW5pcXVlX2lkIjoiZmJlNTNjNjYtMzQ0Mi00NzczLWIxOWUtZDNlYzZmNTRkZGRmIiwidGl0bGUiOiJObyBUaXRsZSBEYXRhIEF2YWlsYWJsZSIsImRlc2NyaXB0aW9uIjoiTm8gZGVzY3JpcHRpb24= (truncated)",
         "streaming-0affec486183-pin",
         "shardId-000000000000",
         "49654776698500171106604173156775567464098671253650407426",
         "2024-08-12T12:21:11.473+0000"
        ],
        [
         "partition-1",
         "eyJpbmRleCI6Mjg2MywidW5pcXVlX2lkIjoiOWJmMzk0MzctNDJhNi00ZjAyLTk5YTAtOWEwMzgzZDhjZDcwIiwidGl0bGUiOiIyNSBTdXBlciBGdW4gU3VtbWVyIENyYWZ0cyBmb3IgS2lkcyAtIE9mIExpZmUgYW5kIExpc2E= (truncated)",
         "streaming-0affec486183-pin",
         "shardId-000000000000",
         "49654776698500171106604173161714029437224431569764089858",
         "2024-08-12T12:21:13.127+0000"
        ],
        [
         "partition-1",
         "eyJpbmRleCI6NTczMCwidW5pcXVlX2lkIjoiMWUxZjBjOGItOWZjZi00NjBiLTkxNTQtYzc3NTgyNzIwNmViIiwidGl0bGUiOiJJc2xhbmQgT2FzaXMgQ291cG9uIE9yZ2FuaXplciIsImRlc2NyaXB0aW9uIjoiRGVzY3JpcHQ= (truncated)",
         "streaming-0affec486183-pin",
         "shardId-000000000000",
         "49654776698500171106604173170971983363833261927102939138",
         "2024-08-12T12:21:16.233+0000"
        ],
        [
         "partition-1",
         "eyJpbmRleCI6ODMwNCwidW5pcXVlX2lkIjoiNWI2ZDA5MTMtMjVlNC00M2FiLTgzOWQtODVkNTUxNmY3OGE0IiwidGl0bGUiOiJUaGUgIzEgUmVhc29uIFlvdeKAmXJlIE5vdCBIaXMgUHJpb3JpdHkgQW55bW9yZSAtIE1hdHQ= (truncated)",
         "streaming-0affec486183-pin",
         "shardId-000000000000",
         "49654776698500171106604173179545685276540212240277569538",
         "2024-08-12T12:21:18.745+0000"
        ],
        [
         "partition-1",
         "eyJpbmRleCI6ODczMSwidW5pcXVlX2lkIjoiZWE3NjBmNzEtZmViZi00MDIzLWI1OTItZDE3Mzk2NjU5MDM5IiwidGl0bGUiOiIyMCBLb2kgRmlzaCBUYXR0b29zIEZvciBMdWNreSBNZW4iLCJkZXNjcmlwdGlvbiI6IktvaSA= (truncated)",
         "streaming-0affec486183-pin",
         "shardId-000000000000",
         "49654776698500171106604173183333249869392845513351495682",
         "2024-08-12T12:21:19.926+0000"
        ],
        [
         "partition-1",
         "eyJpbmRleCI6MTMxMywidW5pcXVlX2lkIjoiNDQ2NjIwNDUtZTg5MS00ODIxLThhMTktZWJlN2VlZGQzNzFhIiwidGl0bGUiOiJMaXF1aWQgTGFzaCBFeHRlbnNpb25zIE1hc2NhcmEiLCJkZXNjcmlwdGlvbiI6Ikluc3RhbnQ= (truncated)",
         "streaming-0affec486183-pin",
         "shardId-000000000000",
         "49654776698500171106604173185143011821355945456606117890",
         "2024-08-12T12:21:20.543+0000"
        ],
        [
         "partition-1",
         "eyJpbmRleCI6NDMxNSwidW5pcXVlX2lkIjoiMjFiNTliYTktODI5ZC00YzMzLThjMjctNGNkNGM1NmQyNmI4IiwidGl0bGUiOiJQb2RjYXN0cyBmb3IgVGVhY2hlcnMgb3IgUGFyZW50cyBvZiBUZWVuYWdlcnMiLCJkZXNjcmk= (truncated)",
         "streaming-0affec486183-pin",
         "shardId-000000000000",
         "49654776698500171106604173192035097918978946587764457474",
         "2024-08-12T12:21:23.197+0000"
        ],
        [
         "partition-1",
         "eyJpbmRleCI6MTA3OTQsInVuaXF1ZV9pZCI6ImM0YmQyNTc3LWE3YmItNDQwOS1iYjdhLTE3ZDVlZDdlMWNmMSIsInRpdGxlIjoiVGlyZUJ1eWVyIiwiZGVzY3JpcHRpb24iOiJOaXNzYW4gR1QtUi4gU2ljay4iLCJwb3N0ZXI= (truncated)",
         "streaming-0affec486183-pin",
         "shardId-000000000000",
         "49654776698500171106604173194183359100434142699936808962",
         "2024-08-12T12:21:23.874+0000"
        ],
        [
         "partition-1",
         "eyJpbmRleCI6NTQ5NCwidW5pcXVlX2lkIjoiOGZiMmFmNjgtNTQzYi00NjM5LTgxMTktZGUzM2QyODcwNmVkIiwidGl0bGUiOiJEYXZlIFJhbXNleSdzIDcgQmFieSBTdGVwczogV2hhdCBBcmUgVGhleSBBbmQgV2lsbCBUaGU= (truncated)",
         "streaming-0affec486183-pin",
         "shardId-000000000000",
         "49654776698500171106604173195962897906906876845104300034",
         "2024-08-12T12:21:24.503+0000"
        ],
        [
         "partition-1",
         "eyJpbmRleCI6NTA2OSwidW5pcXVlX2lkIjoiYjc1YjZmODctZGViMy00NDRmLWIyOWUtY2U5MTYxYjJkZjQ5IiwidGl0bGUiOiJUaGUgVmF1bHQ6IEN1cmF0ZWQgJiBSZWZpbmVkIFdlZGRpbmcgSW5zcGlyYXRpb24iLCJkZXM= (truncated)",
         "streaming-0affec486183-pin",
         "shardId-000000000000",
         "49654776698500171106604173199009390972335742434083340290",
         "2024-08-12T12:21:25.730+0000"
        ],
        [
         "partition-1",
         "eyJpbmRleCI6MjkyMywidW5pcXVlX2lkIjoiNTJmYTNhZjUtMjRhNC00Y2NiLThmMTctOWMzZWIxMjMyN2VlIiwidGl0bGUiOiJVRk8gUGFwZXIgUGxhdGUgQ3JhZnQiLCJkZXNjcmlwdGlvbiI6IkEgZnVuIHNwYWNlIGFjdGk= (truncated)",
         "streaming-0affec486183-pin",
         "shardId-000000000000",
         "49654776698500171106604173202365369047585953091787161602",
         "2024-08-12T12:21:26.898+0000"
        ],
        [
         "partition-1",
         "eyJpbmRleCI6MzA4OSwidW5pcXVlX2lkIjoiODhmOTIyN2UtODhkMC00YjFjLWIwYmUtYmNmYzMwMjhiOGUyIiwidGl0bGUiOiJObyBUaXRsZSBEYXRhIEF2YWlsYWJsZSIsImRlc2NyaXB0aW9uIjoiTm8gZGVzY3JpcHRpb24= (truncated)",
         "streaming-0affec486183-pin",
         "shardId-000000000000",
         "49654776698500171106604173204985111298690854513375444994",
         "2024-08-12T12:21:27.531+0000"
        ],
        [
         "partition-1",
         "eyJpbmRleCI6NjA2MywidW5pcXVlX2lkIjoiNjA2OTM3MjctNDkyNy00YmQ2LWE4YzUtMDk2YTM5MmQ2M2U2IiwidGl0bGUiOiI0MSBHb3JnZW91cyBGYWxsIERlY29yIElkZWFzIEZvciBZb3VyIEhvbWUgLSBDaGF5bG9yICY= (truncated)",
         "streaming-0affec486183-pin",
         "shardId-000000000000",
         "49654776698500171106604173210040839076319233928155103234",
         "2024-08-12T12:21:29.187+0000"
        ],
        [
         "partition-1",
         "eyJpbmRleCI6MzQ1NCwidW5pcXVlX2lkIjoiNDZiZDNmODYtYjA5ZC00ZTI5LTkwMzMtN2ZmMmRmNTk1ZTUxIiwidGl0bGUiOiJXaGF0IGNhbiB5b3UgdXNlIHRvIGNvbG9yIHJlc2luPyIsImRlc2NyaXB0aW9uIjoiSEVMUEY= (truncated)",
         "streaming-0affec486183-pin",
         "shardId-000000000000",
         "49654776698500171106604173214656517855607888185902759938",
         "2024-08-12T12:21:30.843+0000"
        ],
        [
         "partition-1",
         "eyJpbmRleCI6NzU1NCwidW5pcXVlX2lkIjoiYzZmYTEyZjQtMGQ0YS00YjA3LWEzMzUtNWJmOWYzN2Y4MjgxIiwidGl0bGUiOiJDcmFpZyBTdHlsZSIsImRlc2NyaXB0aW9uIjoiaW1nZW50bGVib3NzOiDigJwgLSBNb3JlIGE= (truncated)",
         "streaming-0affec486183-pin",
         "shardId-000000000000",
         "49654776698500171106604173220699938027861419567697887234",
         "2024-08-12T12:21:32.555+0000"
        ],
        [
         "partition-1",
         "eyJpbmRleCI6NzUyOCwidW5pcXVlX2lkIjoiZmJlNTNjNjYtMzQ0Mi00NzczLWIxOWUtZDNlYzZmNTRkZGRmIiwidGl0bGUiOiJObyBUaXRsZSBEYXRhIEF2YWlsYWJsZSIsImRlc2NyaXB0aW9uIjoiTm8gZGVzY3JpcHRpb24= (truncated)",
         "streaming-0affec486183-pin",
         "shardId-000000000000",
         "49654776698500171106604178227607664282743155808423378946",
         "2024-08-12T12:45:11.839+0000"
        ],
        [
         "partition-1",
         "eyJpbmRleCI6Mjg2MywidW5pcXVlX2lkIjoiOWJmMzk0MzctNDJhNi00ZjAyLTk5YTAtOWEwMzgzZDhjZDcwIiwidGl0bGUiOiIyNSBTdXBlciBGdW4gU3VtbWVyIENyYWZ0cyBmb3IgS2lkcyAtIE9mIExpZmUgYW5kIExpc2E= (truncated)",
         "streaming-0affec486183-pin",
         "shardId-000000000000",
         "49654776698500171106604178232744390090285715240469397506",
         "2024-08-12T12:45:13.449+0000"
        ],
        [
         "partition-1",
         "eyJpbmRleCI6NTczMCwidW5pcXVlX2lkIjoiMWUxZjBjOGItOWZjZi00NjBiLTkxNTQtYzc3NTgyNzIwNmViIiwidGl0bGUiOiJJc2xhbmQgT2FzaXMgQ291cG9uIE9yZ2FuaXplciIsImRlc2NyaXB0aW9uIjoiRGVzY3JpcHQ= (truncated)",
         "streaming-0affec486183-pin",
         "shardId-000000000000",
         "49654776698500171106604178237656255695379953646020067330",
         "2024-08-12T12:45:15.097+0000"
        ],
        [
         "partition-1",
         "eyJpbmRleCI6ODMwNCwidW5pcXVlX2lkIjoiNWI2ZDA5MTMtMjVlNC00M2FiLTgzOWQtODVkNTUxNmY3OGE0IiwidGl0bGUiOiJUaGUgIzEgUmVhc29uIFlvdeKAmXJlIE5vdCBIaXMgUHJpb3JpdHkgQW55bW9yZSAtIE1hdHQ= (truncated)",
         "streaming-0affec486183-pin",
         "shardId-000000000000",
         "49654776698500171106604178243020259557010063431630323714",
         "2024-08-12T12:45:16.716+0000"
        ],
        [
         "partition-1",
         "eyJpbmRleCI6ODczMSwidW5pcXVlX2lkIjoiZWE3NjBmNzEtZmViZi00MDIzLWI1OTItZDE3Mzk2NjU5MDM5IiwidGl0bGUiOiIyMCBLb2kgRmlzaCBUYXR0b29zIEZvciBMdWNreSBNZW4iLCJkZXNjcmlwdGlvbiI6IktvaSA= (truncated)",
         "streaming-0affec486183-pin",
         "shardId-000000000000",
         "49654776698500171106604178246042574106046636437115240450",
         "2024-08-12T12:45:17.447+0000"
        ],
        [
         "partition-1",
         "eyJpbmRleCI6MTMxMywidW5pcXVlX2lkIjoiNDQ2NjIwNDUtZTg5MS00ODIxLThhMTktZWJlN2VlZGQzNzFhIiwidGl0bGUiOiJMaXF1aWQgTGFzaCBFeHRlbnNpb25zIE1hc2NhcmEiLCJkZXNjcmlwdGlvbiI6Ikluc3RhbnQ= (truncated)",
         "streaming-0affec486183-pin",
         "shardId-000000000000",
         "49654776698500171106604178247648027594494863981125042178",
         "2024-08-12T12:45:18.086+0000"
        ],
        [
         "partition-1",
         "eyJpbmRleCI6NDMxNSwidW5pcXVlX2lkIjoiMjFiNTliYTktODI5ZC00YzMzLThjMjctNGNkNGM1NmQyNmI4IiwidGl0bGUiOiJQb2RjYXN0cyBmb3IgVGVhY2hlcnMgb3IgUGFyZW50cyBvZiBUZWVuYWdlcnMiLCJkZXNjcmk= (truncated)",
         "streaming-0affec486183-pin",
         "shardId-000000000000",
         "49654776698500171106604178253163147183576802344854093826",
         "2024-08-12T12:45:19.697+0000"
        ],
        [
         "partition-1",
         "eyJpbmRleCI6MTA3OTQsInVuaXF1ZV9pZCI6ImM0YmQyNTc3LWE3YmItNDQwOS1iYjdhLTE3ZDVlZDdlMWNmMSIsInRpdGxlIjoiVGlyZUJ1eWVyIiwiZGVzY3JpcHRpb24iOiJOaXNzYW4gR1QtUi4gU2ljay4iLCJwb3N0ZXI= (truncated)",
         "streaming-0affec486183-pin",
         "shardId-000000000000",
         "49654776698500171106604178254530442285560948078885732354",
         "2024-08-12T12:45:20.352+0000"
        ],
        [
         "partition-1",
         "eyJpbmRleCI6NTQ5NCwidW5pcXVlX2lkIjoiOGZiMmFmNjgtNTQzYi00NjM5LTgxMTktZGUzM2QyODcwNmVkIiwidGl0bGUiOiJEYXZlIFJhbXNleSdzIDcgQmFieSBTdGVwczogV2hhdCBBcmUgVGhleSBBbmQgV2lsbCBUaGU= (truncated)",
         "streaming-0affec486183-pin",
         "shardId-000000000000",
         "49654776698500171106604178256861251265777953127719239682",
         "2024-08-12T12:45:21.209+0000"
        ],
        [
         "partition-1",
         "eyJpbmRleCI6NTA2OSwidW5pcXVlX2lkIjoiYjc1YjZmODctZGViMy00NDRmLWIyOWUtY2U5MTYxYjJkZjQ5IiwidGl0bGUiOiJUaGUgVmF1bHQ6IEN1cmF0ZWQgJiBSZWZpbmVkIFdlZGRpbmcgSW5zcGlyYXRpb24iLCJkZXM= (truncated)",
         "streaming-0affec486183-pin",
         "shardId-000000000000",
         "49654776698500171106604178261285919765567495975863320578",
         "2024-08-12T12:45:22.542+0000"
        ],
        [
         "partition-1",
         "eyJpbmRleCI6MjkyMywidW5pcXVlX2lkIjoiNTJmYTNhZjUtMjRhNC00Y2NiLThmMTctOWMzZWIxMjMyN2VlIiwidGl0bGUiOiJVRk8gUGFwZXIgUGxhdGUgQ3JhZnQiLCJkZXNjcmlwdGlvbiI6IkEgZnVuIHNwYWNlIGFjdGk= (truncated)",
         "streaming-0affec486183-pin",
         "shardId-000000000000",
         "49654776698500171106604178270148554949162342661792727042",
         "2024-08-12T12:45:25.064+0000"
        ],
        [
         "partition-1",
         "eyJpbmRleCI6MzA4OSwidW5pcXVlX2lkIjoiODhmOTIyN2UtODhkMC00YjFjLWIwYmUtYmNmYzMwMjhiOGUyIiwidGl0bGUiOiJObyBUaXRsZSBEYXRhIEF2YWlsYWJsZSIsImRlc2NyaXB0aW9uIjoiTm8gZGVzY3JpcHRpb24= (truncated)",
         "streaming-0affec486183-pin",
         "shardId-000000000000",
         "49654776698500171106604178273475518804741802219303600130",
         "2024-08-12T12:45:25.724+0000"
        ],
        [
         "partition-1",
         "eyJpbmRleCI6NjA2MywidW5pcXVlX2lkIjoiNjA2OTM3MjctNDkyNy00YmQ2LWE4YzUtMDk2YTM5MmQ2M2U2IiwidGl0bGUiOiI0MSBHb3JnZW91cyBGYWxsIERlY29yIElkZWFzIEZvciBZb3VyIEhvbWUgLSBDaGF5bG9yICY= (truncated)",
         "streaming-0affec486183-pin",
         "shardId-000000000000",
         "49654776698500171106604178278024706663951651872442417154",
         "2024-08-12T12:45:27.380+0000"
        ],
        [
         "partition-1",
         "eyJpbmRleCI6MzQ1NCwidW5pcXVlX2lkIjoiNDZiZDNmODYtYjA5ZC00ZTI5LTkwMzMtN2ZmMmRmNTk1ZTUxIiwidGl0bGUiOiJXaGF0IGNhbiB5b3UgdXNlIHRvIGNvbG9yIHJlc2luPyIsImRlc2NyaXB0aW9uIjoiSEVMUEY= (truncated)",
         "streaming-0affec486183-pin",
         "shardId-000000000000",
         "49654776698500171106604178285651819659900347610541588482",
         "2024-08-12T12:45:30.207+0000"
        ],
        [
         "partition-1",
         "eyJpbmRleCI6NzU1NCwidW5pcXVlX2lkIjoiYzZmYTEyZjQtMGQ0YS00YjA3LWEzMzUtNWJmOWYzN2Y4MjgxIiwidGl0bGUiOiJDcmFpZyBTdHlsZSIsImRlc2NyaXB0aW9uIjoiaW1nZW50bGVib3NzOiDigJwgLSBNb3JlIGE= (truncated)",
         "streaming-0affec486183-pin",
         "shardId-000000000000",
         "49654776698500171106604178291894712592390292737443758082",
         "2024-08-12T12:45:31.834+0000"
        ],
        [
         "partition-1",
         "eyJpbmRleCI6NjE0NSwidW5pcXVlX2lkIjoiODJlMTNhMDctZGI5OS00M2EzLWIxYzAtODlhNGI3NTgyMWRhIiwidGl0bGUiOiJIT0xJREFZIE1BTlRMRSBERUNPUiAtIEBBTUFaT04gJiBAVEFSR0VUIEZJTkRTIiwiZGVzY3I= (truncated)",
         "streaming-0affec486183-pin",
         "shardId-000000000000",
         "49654776698500171106604178306105635601960258892273287170",
         "2024-08-12T12:45:34.629+0000"
        ],
        [
         "partition-1",
         "eyJpbmRleCI6MTA2MjUsInVuaXF1ZV9pZCI6ImQzMTg4NWI3LTc0MmEtNGUyYS1iYmI3LWFjNWY5ZDMzNDM0MCIsInRpdGxlIjoiSmFndWFyIFR5cGUgRSIsImRlc2NyaXB0aW9uIjoiMTkzNyBKYWd1YXIgU1MxMDAgLSAyIDE= (truncated)",
         "streaming-0affec486183-pin",
         "shardId-000000000000",
         "49654776698500171106604178310530304101749801740417368066",
         "2024-08-12T12:45:35.262+0000"
        ],
        [
         "partition-1",
         "eyJpbmRleCI6Mjk1OSwidW5pcXVlX2lkIjoiNDM5Y2FjNGItMThlOC00YWFhLTg4YzUtZWRiMjZhNzAxMTExIiwidGl0bGUiOiJUaGUgQ3V0ZXN0IFRvaWxldCBQYXBlciBDcmFmdHMiLCJkZXNjcmlwdGlvbiI6Ik9uZSB0aGk= (truncated)",
         "streaming-0affec486183-pin",
         "shardId-000000000000",
         "49654776698500171106604178313470411695052579893302788098",
         "2024-08-12T12:45:35.869+0000"
        ],
        [
         "partition-1",
         "eyJpbmRleCI6OTg3NSwidW5pcXVlX2lkIjoiNzgyZGNiYWQtZmY5MS00MGE2LWJhNjAtMjE2ZWZlMjlhZGI3IiwidGl0bGUiOiJFdXJvcGVhbiBCdWNrZXQgTGlzdDogMzUgVGhpbmdzIE5PVCBUbyBNaXNzIFdoZW4gVHJhdmU= (truncated)",
         "streaming-0affec486183-pin",
         "shardId-000000000000",
         "49654776698500171106604178316496353021547996786311823362",
         "2024-08-12T12:45:36.484+0000"
        ],
        [
         "partition-1",
         "eyJpbmRleCI6MjQxOCwidW5pcXVlX2lkIjoiZGE4NzQ1YTYtNTE2MC00NmM0LTg3N2QtMTgxZDUwYTcyOWZkIiwidGl0bGUiOiIxMDAgRElZIENocmlzdG1hcyBDZW50ZXJwaWVjZXMgWW91J2xsIExvdmUgVG8gRGVjb3JhdGU= (truncated)",
         "streaming-0affec486183-pin",
         "shardId-000000000000",
         "49654776698500171106604178323868382669558005562389561346",
         "2024-08-12T12:45:38.252+0000"
        ],
        [
         "partition-1",
         "eyJpbmRleCI6MzE1NiwidW5pcXVlX2lkIjoiZmE2ZTMxYTQtMThjMi00ZWNhLWE2ZDgtZTkwM2VlZTJjMmE0IiwidGl0bGUiOiJIYW5kcHJpbnQgUmVpbmRlZXIgT3JuYW1lbnRzIC0gQ3JhZnR5IE1vcm5pbmciLCJkZXNjcmk= (truncated)",
         "streaming-0affec486183-pin",
         "shardId-000000000000",
         "49654776698500171106604178326035986664127035810076688386",
         "2024-08-12T12:45:38.888+0000"
        ],
        [
         "partition-1",
         "eyJpbmRleCI6NDI4LCJ1bmlxdWVfaWQiOiI2MTBiM2Y4My05ZmUwLTQ2OWQtOTQ2Yy1kMTZiNTc3ZmNhNzEiLCJ0aXRsZSI6IkZhc2hpb24gRGVzaWduZXIgSXNhYWMgTWl6cmFoaeKAmXMgVXBkYXRlZCAxOTMwcyBOZXcgWW8= (truncated)",
         "streaming-0affec486183-pin",
         "shardId-000000000000",
         "49654776698500171106604178329098195765210891509607432194",
         "2024-08-12T12:45:39.467+0000"
        ],
        [
         "partition-1",
         "eyJpbmRleCI6NzM0MywidW5pcXVlX2lkIjoiYjhjNjNhOTUtNmZlOC00ZDdmLTk0NTUtMWVlZjM0NjJmZWUwIiwidGl0bGUiOiJUaGlzIEZhc2hpb24gUnVsZSBJcyBOb25zZW5zZSwgQW5kIFdlIFNob3VsZCBBbGwgRm9yZ2U= (truncated)",
         "streaming-0affec486183-pin",
         "shardId-000000000000",
         "49654776698500171106604178332160404866294747277857652738",
         "2024-08-12T12:45:40.151+0000"
        ],
        [
         "partition-1",
         "eyJpbmRleCI6MjA3NCwidW5pcXVlX2lkIjoiODZlZDA5YTctODQyZC00OTZkLTk1MDEtMDEwYzY1NGViMzQwIiwidGl0bGUiOiIzNSBDaHJpc3RtYXMgRGVjb3JhdGluZyBJZGVhcyBXZSBCZXQgWW91IEhhdmVuJ3QgVGhvdWc= (truncated)",
         "streaming-0affec486183-pin",
         "shardId-000000000000",
         "49654776698500171106604178348310444890526578560196411394",
         "2024-08-12T12:45:43.380+0000"
        ],
        [
         "partition-1",
         "eyJpbmRleCI6OTk3OSwidW5pcXVlX2lkIjoiMmIyYWJjODUtZmM1MS00ODFmLThhZTYtMTc2ODE5OTNkYTI4IiwidGl0bGUiOiJQYXJpcyBpbiB0aGUgU3VtbWVyLiAxMCBmdW4gdGhpbmdzIHRvIGRvIGluIFBhcmlzIGluIHQ= (truncated)",
         "streaming-0affec486183-pin",
         "shardId-000000000000",
         "49654776698500171106604178366375423413027982523989229570",
         "2024-08-12T12:45:45.602+0000"
        ],
        [
         "partition-1",
         "eyJpbmRleCI6MTAxMzgsInVuaXF1ZV9pZCI6IjkyN2M0NjU4LWNjM2YtNGI5Mi05YjVjLTcwNzQzZDBjMjM4ZCIsInRpdGxlIjoiMTQgQW1hemluZyBUaGluZ3MgVG8gRG8gSW4gQ29zdGEgUmljYSB8IFZvbGNhbm9lcywgV2E= (truncated)",
         "streaming-0affec486183-pin",
         "shardId-000000000000",
         "49654776698500171106604178368734037687096124112560455682",
         "2024-08-12T12:45:46.243+0000"
        ],
        [
         "partition-1",
         "eyJpbmRleCI6OTY3MiwidW5pcXVlX2lkIjoiMWE1MDUwYTQtYWM4Mi00NzJjLWFlZmYtMzQ1N2RlOGJiZWU5IiwidGl0bGUiOiJMYWtlIE1vcmFpbmUsIEJhbmZmLCBDYW5hZGEiLCJkZXNjcmlwdGlvbiI6Ik9uIG91ciBDYWw= (truncated)",
         "streaming-0affec486183-pin",
         "shardId-000000000000",
         "49654776698500171106604178373769213725791054693931155458",
         "2024-08-12T12:45:47.905+0000"
        ],
        [
         "partition-1",
         "eyJpbmRleCI6ODY1MywidW5pcXVlX2lkIjoiMjRiMTM0M2MtNGQ4Ni00NzA1LThlYzktN2YxZjJkZjJkNzdlIiwidGl0bGUiOiJVbmlxdWUgV29tZW4gVGF0dG9vcyBJZGVhcyAyMDIwIiwiZGVzY3JpcHRpb24iOiJXZSB3ZWw= (truncated)",
         "streaming-0affec486183-pin",
         "shardId-000000000000",
         "49654776698500171106604178382014087815562825871585705986",
         "2024-08-12T12:45:50.522+0000"
        ],
        [
         "partition-1",
         "eyJpbmRleCI6ODg4NywidW5pcXVlX2lkIjoiNWRmOWY2ZTUtMDdmNS00Y2U4LWE4MmUtOTY1ODZiYmMwNWQ4IiwidGl0bGUiOiIyNSBVbHRyYSBTZXh5IEJhY2sgVGF0dG9vIElkZWFzIEZvciBHaXJscyIsImRlc2NyaXB0aW8= (truncated)",
         "streaming-0affec486183-pin",
         "shardId-000000000000",
         "49654776698500171106604178388122789982075547160095490050",
         "2024-08-12T12:45:52.153+0000"
        ],
        [
         "partition-1",
         "eyJpbmRleCI6NzkyMiwidW5pcXVlX2lkIjoiYTU4NDU4MWMtMWIzOC00NzMxLWExY2MtZjM2MTE1ZWNmMjI5IiwidGl0bGUiOiI0NSBUb3AgTGlmZSBRdW90ZXMgU2Nob29sIERpZCBOb3QgVGVhY2ggWW91IiwiZGVzY3JpcHQ= (truncated)",
         "streaming-0affec486183-pin",
         "shardId-000000000000",
         "49654776698500171106604178394093674605152200722688770050",
         "2024-08-12T12:45:53.778+0000"
        ],
        [
         "partition-1",
         "eyJpbmRleCI6MTAxNCwidW5pcXVlX2lkIjoiOWFjOTQzMDctYmIyNy00MTBlLWI1NTQtMGEwYWI2YzE5ODQ3IiwidGl0bGUiOiJIYWlyc3R5bGVzICYgQmVhdXR5IiwiZGVzY3JpcHRpb24iOiJVbnRpdGxlZCIsInBvc3Rlcl8= (truncated)",
         "streaming-0affec486183-pin",
         "shardId-000000000000",
         "49654776698500171106604178399521751535221885785838977026",
         "2024-08-12T12:45:55.431+0000"
        ],
        [
         "partition-1",
         "eyJpbmRleCI6NDkxMywidW5pcXVlX2lkIjoiNGQyZDc5YzYtOWNhOC00NmM5LWEzOGUtOTMxYzVkOTY3ODA0IiwidGl0bGUiOiJIb3cgdG8gV29yayBGcm9tIEhvbWUgYXMgYW4gRXZlbnQgUGxhbm5lciIsImRlc2NyaXB0aW8= (truncated)",
         "streaming-0affec486183-pin",
         "shardId-000000000000",
         "49654776698500171106604178405209747516508716327709442050",
         "2024-08-12T12:45:57.092+0000"
        ],
        [
         "partition-1",
         "eyJpbmRleCI6NDEzNywidW5pcXVlX2lkIjoiYmYyNzUwNTQtNDQ2NC00NDhiLTkxNDMtMWJmMTAxYWEzNjZkIiwidGl0bGUiOiIxNSBFc3NlbnRpYWwgQ2xhc3Nyb29tIEl0ZW1zIEZvciBGaXJzdCBZZWFyIFRlYWNoZXJzIC8= (truncated)",
         "streaming-0affec486183-pin",
         "shardId-000000000000",
         "49654776698500171106604178411280972982613384111803334658",
         "2024-08-12T12:45:58.712+0000"
        ],
        [
         "partition-1",
         "eyJpbmRleCI6NzE2NiwidW5pcXVlX2lkIjoiNGE4NDRiMDMtZTE2MS00N2ExLTkwNGItNTkxZWI1ZGM0ZmIxIiwidGl0bGUiOiJUaGUgS2lsbGVycyAtIE1yLiBCcmlnaHRzaWRlIC0gV29tZW4ncyBULVNoaXJ0IC0gSGVhdGg= (truncated)",
         "streaming-0affec486183-pin",
         "shardId-000000000000",
         "49654776698500171106604178413008527978842689271177936898",
         "2024-08-12T12:45:59.379+0000"
        ],
        [
         "partition-1",
         "eyJpbmRleCI6OTU0NiwidW5pcXVlX2lkIjoiZWZkNWIyZDYtMmY2OS00MGNkLWJiNTktNDFmMThjMDg5ZTUyIiwidGl0bGUiOiIyMCBBbWF6aW5nIFRyaXBzIHRvIFRha2UgaW4gWW91ciBUd2VudGllcyEiLCJkZXNjcmlwdGk= (truncated)",
         "streaming-0affec486183-pin",
         "shardId-000000000000",
         "49654776698500171106604178424402653828710569448942075906",
         "2024-08-12T12:46:02.503+0000"
        ],
        [
         "partition-1",
         "eyJpbmRleCI6MjQxMSwidW5pcXVlX2lkIjoiNGUxMTgwMWUtN2E2NC00ZjFlLTkwZGQtZTkwMDY3NzU5NWM1IiwidGl0bGUiOiJUaGUgU3dlZXRlc3QgR2luZ2VyYnJlYWQgSG91c2UgT3JuYW1lbnRzIEtpZHMgQ2FuIE1ha2U= (truncated)",
         "streaming-0affec486183-pin",
         "shardId-000000000000",
         "49654776698500171106604178431104938572654073730952069122",
         "2024-08-12T12:46:04.107+0000"
        ],
        [
         "partition-1",
         "eyJpbmRleCI6OTU5MCwidW5pcXVlX2lkIjoiYjg0OWU5NzYtNTJmNi00NWQ3LThiMjUtNTE1NTkzMThmMTY3IiwidGl0bGUiOiJUb3AgMjAgVGhpbmdzIFRvIFNlZSBBbmQgRG8gSW4gSXJlbGFuZCIsImRlc2NyaXB0aW9uIjo= (truncated)",
         "streaming-0affec486183-pin",
         "shardId-000000000000",
         "49654776698500171106604178433746441488512038477685063682",
         "2024-08-12T12:46:04.716+0000"
        ],
        [
         "partition-1",
         "eyJpbmRleCI6MjY5OCwidW5pcXVlX2lkIjoiNzNmMTYzMDItNDg3MS00ODZhLTg4MzYtOTQ3NTMwNTI2MzM3IiwidGl0bGUiOiJESVkgRG9sbGFyIFRyZWUgVmFsZW50aW5lJ3MgRGF5IFdyZWF0aCIsImRlc2NyaXB0aW9uIjo= (truncated)",
         "streaming-0affec486183-pin",
         "shardId-000000000000",
         "49654776698500171106604178441149903207832027612305162242",
         "2024-08-12T12:46:06.337+0000"
        ],
        [
         "partition-1",
         "eyJpbmRleCI6NDUwOCwidW5pcXVlX2lkIjoiOTA2NGY0YTItMjc1My00NzZjLTgxNWUtZGIzNjBmNDVhOTNlIiwidGl0bGUiOiJDdXN0b20gRXZlbnQgYW5kIFNob3AgTmVvbiBTaWduIExpZ2h0cyAtIEV2ZW50ICYgU2hvcCI= (truncated)",
         "streaming-0affec486183-pin",
         "shardId-000000000000",
         "49654776698500171106604178444255633638422010030844805122",
         "2024-08-12T12:46:06.932+0000"
        ],
        [
         "partition-1",
         "eyJpbmRleCI6ODMxLCJ1bmlxdWVfaWQiOiI1ZTY1OTE0ZC05ZjU4LTRmZjEtOTY3Ni02NThlNDI2ZThjZTUiLCJ0aXRsZSI6ImNyZWF0aW5nIG1peGVkLW1lZGlhIGZhY2VzIHR1dG9yaWFsIiwiZGVzY3JpcHRpb24iOiJGcmU= (truncated)",
         "streaming-0affec486183-pin",
         "shardId-000000000000",
         "49654776698500171106604178447142548495661744500043153410",
         "2024-08-12T12:46:07.606+0000"
        ],
        [
         "partition-1",
         "eyJpbmRleCI6NTA3NiwidW5pcXVlX2lkIjoiZmEzYWYyOWMtZGM3OC00ZWVkLWE0YzUtNTJhNDA3ZWEwNGMwIiwidGl0bGUiOiJRdWl6OiBUZXN0IFlvdXIgRXZlbnQgSVEhIC0gUG9pbnRlcnMgRm9yIFBsYW5uZXJzIiwiZGU= (truncated)",
         "streaming-0affec486183-pin",
         "shardId-000000000000",
         "49654776698500171106604178449583369725463680941213876226",
         "2024-08-12T12:46:08.202+0000"
        ],
        [
         "partition-1",
         "eyJpbmRleCI6MTA2NjMsInVuaXF1ZV9pZCI6ImQ1MjA4YzE2LTgyYWUtNGZkMS04N2YwLTM2ZTVlZjc4OTQxMiIsInRpdGxlIjoiMjErIENsYXNzaWMgQ2FyIFBpY3R1cmUgb2YgdGhlIDE5NTBzIC0gVmludGFnZXRvcGlhIiw= (truncated)",
         "streaming-0affec486183-pin",
         "shardId-000000000000",
         "49654776698500171106604178452221245863862801869142228994",
         "2024-08-12T12:46:08.824+0000"
        ],
        [
         "partition-1",
         "eyJpbmRleCI6NTQ2OCwidW5pcXVlX2lkIjoiOTFlZTQ5ZjYtMDA3MC00MjcwLWJhMTktZmRlODhiYTUxYzkxIiwidGl0bGUiOiJCdWRnZXRzLCBTcG91c2VzICYgTWFraW5nIEl0IFdvcmshIC0gVHNoYW5pbmEgUGV0ZXJzb24= (truncated)",
         "streaming-0affec486183-pin",
         "shardId-000000000000",
         "49654776698500171106604178460565251870842972501683732482",
         "2024-08-12T12:46:10.465+0000"
        ],
        [
         "partition-1",
         "eyJpbmRleCI6MjA1LCJ1bmlxdWVfaWQiOiJmNGFmZDU0My1iOWZlLTQ0YzMtODA2NC1mMjE5OGZhYTEzNzIiLCJ0aXRsZSI6IkRJWSBBYnN0cmFjdCBIZWFydCBQYWludGluZyBhbmQgYSBGdW4gUGFpbnQgUGFydHkiLCJkZXM= (truncated)",
         "streaming-0affec486183-pin",
         "shardId-000000000000",
         "49654776698500171106604178469679343624917661918513070082",
         "2024-08-12T12:46:12.062+0000"
        ],
        [
         "partition-1",
         "eyJpbmRleCI6Nzc5MCwidW5pcXVlX2lkIjoiOWNkODlmYjktZDFhZi00ZTY2LTg1Y2EtYzlkNjU2YzkxOGI0IiwidGl0bGUiOiI1MCBIZWFydCBUb3VjaGluZyBTYWQgUXVvdGVzIFRoYXQgV2lsbCBNYWtlIFlvdSBDcnkiLCI= (truncated)",
         "streaming-0affec486183-pin",
         "shardId-000000000000",
         "49654776698500171106604178472216878920288768624940810242",
         "2024-08-12T12:46:12.675+0000"
        ],
        [
         "partition-1",
         "eyJpbmRleCI6ODYwNiwidW5pcXVlX2lkIjoiNzE3NTcwNDAtYmZjOC00NjMxLTljYWMtMjI4MDFlNjFkOWUzIiwidGl0bGUiOiIzMCsgRWFnbGUgVGF0dG9vcyBJZGVhcyBmb3IgV29tZW4iLCJkZXNjcmlwdGlvbiI6InN1bW0= (truncated)",
         "streaming-0affec486183-pin",
         "shardId-000000000000",
         "49654776698500171106604178475111047332446190869187395586",
         "2024-08-12T12:46:13.309+0000"
        ],
        [
         "partition-1",
         "eyJpbmRleCI6OTc1OSwidW5pcXVlX2lkIjoiZDEwNWViNmUtMGY5Zi00NmU3LThkMDItZDI0YjYyZjZhZTkwIiwidGl0bGUiOiI4IEJlc3QgR3JlZWsgSXNsYW5kcyBZb3UgSGF2ZSBUbyBWaXNpdCAtIFRoZUZhYjIwcyIsImQ= (truncated)",
         "streaming-0affec486183-pin",
         "shardId-000000000000",
         "49654776698500171106604178479255245042085139817519120386",
         "2024-08-12T12:46:13.960+0000"
        ],
        [
         "partition-1",
         "eyJpbmRleCI6NzE5LCJ1bmlxdWVfaWQiOiJkN2M1M2UzNC05NTQwLTRmNDgtYTMxYi04OWI2ZWQxODUyYmIiLCJ0aXRsZSI6IjEwIEFydCBTdWIgTGVzc29ucyB0aGF0IG9ubHkgbmVlZCBhIFBlbmNpbCIsImRlc2NyaXB0aW8= (truncated)",
         "streaming-0affec486183-pin",
         "shardId-000000000000",
         "49654776698500171106604178496904353082639111276493537282",
         "2024-08-12T12:46:16.321+0000"
        ],
        [
         "partition-1",
         "eyJpbmRleCI6MTcwNCwidW5pcXVlX2lkIjoiNWZiZjk4NjMtZmI3OS00NzdjLWE1YjYtNTQwYzMwMjBhNTVmIiwidGl0bGUiOiJDaHJpc3RtYXMgVHJlZXMgRnJvbSBQYWxsZXQgV29vZCB8IEhvbGlkYXkgRElZIiwiZGVzY3I= (truncated)",
         "streaming-0affec486183-pin",
         "shardId-000000000000",
         "49654776698500171106604178511702814040541787278949744642",
         "2024-08-12T12:46:19.614+0000"
        ],
        [
         "partition-1",
         "eyJpbmRleCI6MjQ4MiwidW5pcXVlX2lkIjoiMDg2MDRmMjAtZmExNy00YjlhLTk5NDktNzgxNzE3ZWNhNmNkIiwidGl0bGUiOiJGT1JOVCBQT1JDSCBDSFJJU1RNQVMgREVDT1JBVElORyBJREVBUyIsImRlc2NyaXB0aW9uIjo= (truncated)",
         "streaming-0affec486183-pin",
         "shardId-000000000000",
         "49654776698500171106604178524533143764111846847545344002",
         "2024-08-12T12:46:22.701+0000"
        ],
        [
         "partition-1",
         "eyJpbmRleCI6ODkzMCwidW5pcXVlX2lkIjoiYTI5OTljMjgtZjdiMi00NTc3LWFmODctNDlkMjFkNmQ4YTE4IiwidGl0bGUiOiIxMzUgU3VuZmxvd2VyIFRhdHRvbyBJZGVhcyAtIFtCZXN0IFJhdGVkIERlc2lnbnMgaW4gMjA= (truncated)",
         "streaming-0affec486183-pin",
         "shardId-000000000000",
         "49654776698500171106604178531334560425263750653161766914",
         "2024-08-12T12:46:24.379+0000"
        ],
        [
         "partition-1",
         "eyJpbmRleCI6NzI5NCwidW5pcXVlX2lkIjoiOWQ4NDA5ZWYtYmVhNy00MTMzLWEwMjEtYzU4YjljMDQyMjEwIiwidGl0bGUiOiJGb29scHJvb2YgRmFsbCBGYXNoaW9uIEZvciBNZW4gWW91J2xsIExvdmUiLCJkZXNjcmlwdGk= (truncated)",
         "streaming-0affec486183-pin",
         "shardId-000000000000",
         "49654776698500171106604178533342586211643649781068201986",
         "2024-08-12T12:46:24.994+0000"
        ],
        [
         "partition-1",
         "eyJpbmRleCI6ODA4LCJ1bmlxdWVfaWQiOiIyM2Y2N2U0Mi1kYjlmLTRhYWUtOGI4Mi1jYmVjNjRhZDlmNGQiLCJ0aXRsZSI6IkNoYWxrIFBhc3RlbCBIb3QgQ2hvY29sYXRlIEFydCBQcm9qZWN0IiwiZGVzY3JpcHRpb24iOiI= (truncated)",
         "streaming-0affec486183-pin",
         "shardId-000000000000",
         "49654776698500171106604178536671967918862338528209010690",
         "2024-08-12T12:46:25.664+0000"
        ],
        [
         "partition-1",
         "eyJpbmRleCI6NzcxLCJ1bmlxdWVfaWQiOiJhNTAyMTc2Ni1hOGFhLTRkYzctOTg1Ny00ZGE2YjhlM2RjMWEiLCJ0aXRsZSI6IkFmcmljYW4gU3Vuc2V0IFNoYWRvdyBUcmFjaW5nIEFydCAtIFRhbWluZyBMaXR0bGUgTW9uc3Q= (truncated)",
         "streaming-0affec486183-pin",
         "shardId-000000000000",
         "49654776698500171106604178544387332499642902127342256130",
         "2024-08-12T12:46:27.736+0000"
        ],
        [
         "partition-1",
         "eyJpbmRleCI6NDA3NiwidW5pcXVlX2lkIjoiM2E1MmQzNjQtN2MwNC00N2NiLWEzZTUtNTZkOWUyYjc3NTI4IiwidGl0bGUiOiJQaG9uaWNzIEFjdGl2aXRpZXMgWW91ciBLaWRzIFdpbGwgTG92ZSAtIFRoZSBMaXRlcmFjeSA= (truncated)",
         "streaming-0affec486183-pin",
         "shardId-000000000000",
         "49654776698500171106604178550485154333779091821999161346",
         "2024-08-12T12:46:29.391+0000"
        ],
        [
         "partition-1",
         "eyJpbmRleCI6MTU0NSwidW5pcXVlX2lkIjoiMGM2Mjk1NDEtY2M1Yi00YjYxLWJkM2YtNjEzMzQ2ODkzMjU4IiwidGl0bGUiOiJPaWwgQ2xlYW5zaW5nIE1ldGhvZDogV2hhdCBpdCBpcyBhbmQgd2h5IHlvdSBzaG91bGQgZG8= (truncated)",
         "streaming-0affec486183-pin",
         "shardId-000000000000",
         "49654776698500171106604178552650340476708892673897922562",
         "2024-08-12T12:46:30.021+0000"
        ],
        [
         "partition-1",
         "eyJpbmRleCI6MjI5MywidW5pcXVlX2lkIjoiMWZkN2Q0Y2MtNTRjMS00NTQyLTljMWYtNDQ5Y2I0Yzg3NWY0IiwidGl0bGUiOiJPdmVyIDQwIG9mIHRoZSBCRVNUIEhvbWVtYWRlIENocmlzdG1hcyBPcm5hbWVudCBJZGVhcyI= (truncated)",
         "streaming-0affec486183-pin",
         "shardId-000000000000",
         "49654776698500171106604178555694415690498529004527550466",
         "2024-08-12T12:46:30.853+0000"
        ],
        [
         "partition-1",
         "eyJpbmRleCI6MTA1MDksInVuaXF1ZV9pZCI6IjZhNWYwZTdlLTEzODktNGU1NC05NDJmLTRjYjY5ZjA5ZjE0MCIsInRpdGxlIjoiRmx5aW5nIENhciIsImRlc2NyaXB0aW9uIjoiTm8gZGVzY3JpcHRpb24gYXZhaWxhYmxlIFM= (truncated)",
         "streaming-0affec486183-pin",
         "shardId-000000000000",
         "49654776698500171106604178559915984652592814220040470530",
         "2024-08-12T12:46:31.780+0000"
        ],
        [
         "partition-1",
         "eyJpbmRleCI6MjAxNSwidW5pcXVlX2lkIjoiNzIzNTkxNjQtNDQxOS00NTJjLTgxY2ItNzRmMzBhNWEyNmI3IiwidGl0bGUiOiIxNiBCbGlzc2Z1bCBDaHJpc3RtYXMgVGFibGUgRGVjb3IgSWRlYXMgVGhhdCBZb3UgTXVzdCA= (truncated)",
         "streaming-0affec486183-pin",
         "shardId-000000000000",
         "49654776698500171106604178567217896603065174503985250306",
         "2024-08-12T12:46:33.196+0000"
        ],
        [
         "partition-1",
         "eyJpbmRleCI6MTA5NCwidW5pcXVlX2lkIjoiNmRlYWNkY2QtNzVlZC00ZGQ4LTg5NTEtOWI3NzQ1M2YzOGUwIiwidGl0bGUiOiI5IGNvbG9ycyBsYXp5IGxpcHN0aWNrIC0gOSBjb2xvcnMgbGF6eSBsaXBzdGljazQiLCJkZXM= (truncated)",
         "streaming-0affec486183-pin",
         "shardId-000000000000",
         "49654776698500171106604178578686975853749161621861695490",
         "2024-08-12T12:46:35.591+0000"
        ],
        [
         "partition-1",
         "eyJpbmRleCI6NjAzLCJ1bmlxdWVfaWQiOiI3OGUyMWE2NC01M2IwLTQ3NDUtODI5NC1lOGM0NTZmMGNjYzEiLCJ0aXRsZSI6IkhvdyB0byBDcmVhdGUgQWxjb2hvbCBJbmsgUmluZ3MgRm9yIEdvcmdlb3VzIFBpZWNlcyBvZiA= (truncated)",
         "streaming-0affec486183-pin",
         "shardId-000000000000",
         "49654776698500171106604178587433554158661003769580355586",
         "2024-08-12T12:46:37.190+0000"
        ],
        [
         "partition-1",
         "eyJpbmRleCI6Nzc2OCwidW5pcXVlX2lkIjoiYWUxYTYxZjYtZDk1OC00MGZlLWJhOTMtNmE3OGIzYTczMTc4IiwidGl0bGUiOiIxNiBNb3RpdmF0aW9uYWwgUXVvdGVzIEdldCBZb3UgSW5zcGlyZWQgVG9kYXkgLSBCb3NzIEI= (truncated)",
         "streaming-0affec486183-pin",
         "shardId-000000000000",
         "49654776698500171106604178600097052119124244580785979394",
         "2024-08-12T12:46:38.840+0000"
        ],
        [
         "partition-1",
         "eyJpbmRleCI6NTYzMCwidW5pcXVlX2lkIjoiZDQxZTcwM2MtYzk3Yy00YzVhLTlmOWMtMzM4OTgyY2E3NTA0IiwidGl0bGUiOiI3IEluc2FuZWx5IFVzZWZ1bCBNb25leSBNYW5hZ2VtZW50IFdvcmtzaGVldHMiLCJkZXNjcmk= (truncated)",
         "streaming-0affec486183-pin",
         "shardId-000000000000",
         "49654776698500171106604178609506121773184903516243623938",
         "2024-08-12T12:46:40.563+0000"
        ],
        [
         "partition-1",
         "eyJpbmRleCI6ODU3OCwidW5pcXVlX2lkIjoiMDM2ZWMyNjctNjU4Yi00ZGFkLWEwOTctOGVmMGI0ZjMwYzBkIiwidGl0bGUiOiJTbmFrZSBDb2xsYXJib25lIFRlbXBvcmFyeSBUYXR0b28uIEhhbGxvd2VlbiBUYXR0b29zICA= (truncated)",
         "streaming-0affec486183-pin",
         "shardId-000000000000",
         "49654776698500171106604178615711538005266795138729902082",
         "2024-08-12T12:46:42.220+0000"
        ],
        [
         "partition-1",
         "eyJpbmRleCI6OTkzNiwidW5pcXVlX2lkIjoiMWYzMTU0YTYtMTNmMC00MDQ5LThkNWMtZmFlYTE1YjlmMDdjIiwidGl0bGUiOiJDaGFzaW5nIFdhdGVyZmFsbHMgaW4gQ29zdGEgUmljYSIsImRlc2NyaXB0aW9uIjoiVm9sY2E= (truncated)",
         "streaming-0affec486183-pin",
         "shardId-000000000000",
         "49654776698500171106604178618117300386299907265114669058",
         "2024-08-12T12:46:42.840+0000"
        ],
        [
         "partition-1",
         "eyJpbmRleCI6Njg0NCwidW5pcXVlX2lkIjoiNjljM2YyNjgtMjc0Zi00NGJkLTljYjQtNDI3ZTY0ZmVmYzQ0IiwidGl0bGUiOiLimZR0aGUtZmFzaG1hbuKZlCIsImRlc2NyaXB0aW9uIjoiYmlsbHktZ2VvcmdlOiDigJxTdW0= (truncated)",
         "streaming-0affec486183-pin",
         "shardId-000000000000",
         "49654776698500171106604178626467351022378151180968656898",
         "2024-08-12T12:46:45.239+0000"
        ],
        [
         "partition-1",
         "eyJpbmRleCI6MzQxOSwidW5pcXVlX2lkIjoiZDBiODAxODctMDE3MS00OWIyLThlZTQtNTcyOTg0MjQ0ZjY1IiwidGl0bGUiOiJFYXN5IENocmlzdG1hcyBUcmVlIENyYWZ0cyBJZGVhcyBmb3IgdG9kZGxlcnMgYW5kIHByZXM= (truncated)",
         "streaming-0affec486183-pin",
         "shardId-000000000000",
         "49654776698500171106604178629177762709954149790659903490",
         "2024-08-12T12:46:45.904+0000"
        ],
        [
         "partition-1",
         "eyJpbmRleCI6MTI2OCwidW5pcXVlX2lkIjoiZTJmMmNlYzUtY2RhNS00MmIyLWFiOWQtNmRkZGY4NjNlOTRlIiwidGl0bGUiOiJKYW5ldCBvbiBUd2l0dGVyIiwiZGVzY3JpcHRpb24iOiJIZXJl4oCZcyBob3cgdG8gZ2V0IGw= (truncated)",
         "streaming-0affec486183-pin",
         "shardId-000000000000",
         "49654776698500171106604178640687945438505034369195835394",
         "2024-08-12T12:46:48.254+0000"
        ],
        [
         "partition-1",
         "eyJpbmRleCI6NjU2NiwidW5pcXVlX2lkIjoiNmQ4ODQ4ZjgtZjUxNS00OTM1LThkYWUtNWRkMDIzMDRkNzZlIiwidGl0bGUiOiJOYXZ5IGFuZCBOZXV0cmFsIEZhbGwgTGl2aW5nIFJvb20gKyBLaXRjaGVuIFRvdXIgLSBTYW4= (truncated)",
         "streaming-0affec486183-pin",
         "shardId-000000000000",
         "49654776698500171106604178651463101268730224272071458818",
         "2024-08-12T12:46:49.922+0000"
        ],
        [
         "partition-1",
         "eyJpbmRleCI6MTU1NSwidW5pcXVlX2lkIjoiMWYyMDU1MWItYTIxYy00ZmYwLWIyMGQtNDllOTVmZGM1MGQzIiwidGl0bGUiOiJTa2luIFB1cmdpbmc6IERpZSBQZmxlZ2VtZXRob2RlIGbDvHIgcmVpbmUgSGF1dCB8IEVMTEU= (truncated)",
         "streaming-0affec486183-pin",
         "shardId-000000000000",
         "49654776698500171106604178659584664924901303205186502658",
         "2024-08-12T12:46:51.562+0000"
        ],
        [
         "partition-1",
         "eyJpbmRleCI6MzcyOSwidW5pcXVlX2lkIjoiYWM5MGYxZDItZGM5ZS00MzhjLWIwNzMtZGQ0ODUxMWI4MGIwIiwidGl0bGUiOiI1ICsgTmF0dXJlIEdhbWVzIGZvciBZb3VyIEhvbWVzY2hvb2wiLCJkZXNjcmlwdGlvbiI6Ik8= (truncated)",
         "streaming-0affec486183-pin",
         "shardId-000000000000",
         "49654776698500171106604178662663798987459763781882609666",
         "2024-08-12T12:46:52.292+0000"
        ],
        [
         "partition-1",
         "eyJpbmRleCI6NjM5OCwidW5pcXVlX2lkIjoiZWE0NGQzMTgtMmNlZC00Y2Y4LWE2NmYtYTZhMDM2Yjg0ZmFhIiwidGl0bGUiOiJNeSBtYXN0ZXIgYmF0aHJvb20gbWFrZW92ZXIgd2l0aCBAZmxvb3JhbmRkZWNvciAhIEZvbGw= (truncated)",
         "streaming-0affec486183-pin",
         "shardId-000000000000",
         "49654776698500171106604178664932952750876422742806102018",
         "2024-08-12T12:46:52.902+0000"
        ],
        [
         "partition-1",
         "eyJpbmRleCI6NDYsInVuaXF1ZV9pZCI6IjE5MjM0MDczLTg5MDUtNDg4NS1iMGQ1LTk4ZTBiODRjYmYyNyIsInRpdGxlIjoiMTAgV2F0ZXJjb2xvciBIYWNrcyBGb3IgQmVnaW5uZXJzIHwgVGlwcyBhbmQgVHJpY2tzIHRvIE0= (truncated)",
         "streaming-0affec486183-pin",
         "shardId-000000000000",
         "49654776698500171106604178673215303541056247356157067266",
         "2024-08-12T12:46:54.501+0000"
        ],
        [
         "partition-1",
         "eyJpbmRleCI6NDk4OCwidW5pcXVlX2lkIjoiZmJkZmQzNTUtYTM1Ni00NmMyLWEyNTEtMzAxODY5YWUyNjc0IiwidGl0bGUiOiJGdW4gQm9vayBQYWdlIENyYWZ0cyAtIE1vbUFkdmljZSIsImRlc2NyaXB0aW9uIjoiRnVuIEI= (truncated)",
         "streaming-0affec486183-pin",
         "shardId-000000000000",
         "49654776698500171106604178681214765689446248673907310594",
         "2024-08-12T12:46:56.171+0000"
        ],
        [
         "partition-1",
         "eyJpbmRleCI6NDI3LCJ1bmlxdWVfaWQiOiI0YTQ1NTM0MC0wOWEyLTQzNzAtYWQ4Ni03M2Q3OTY0NjAzZGIiLCJ0aXRsZSI6IkRJWSBBY3J5bGljIFBhaW50IFBvdXJpbmcgV2FsbCBBcnQgLSBBYmJvdHRzIEF0IEhvbWUiLCI= (truncated)",
         "streaming-0affec486183-pin",
         "shardId-000000000000",
         "49654776698500171106604178684840334222470521706290085890",
         "2024-08-12T12:46:56.902+0000"
        ],
        [
         "partition-1",
         "eyJpbmRleCI6MzgwMCwidW5pcXVlX2lkIjoiZDJjMzY3ZWQtOTI4Ny00ZWEzLWIxNzMtMTk4YjI5MmQ5OTgxIiwidGl0bGUiOiJSZWluZm9yY2luZyB0aGUgRGlmZmljdWx0IENoaWxkIFdoZW4gVG9rZW4gQm9hcmRzIERvbic= (truncated)",
         "streaming-0affec486183-pin",
         "shardId-000000000000",
         "49654776698500171106604178704102149306390408553042018306",
         "2024-08-12T12:47:00.603+0000"
        ],
        [
         "partition-1",
         "eyJpbmRleCI6MTU5LCJ1bmlxdWVfaWQiOiI4NDFhMTYxYS00N2I4LTQxNjEtODg0ZC1hZGViNjdhMjhiMWUiLCJ0aXRsZSI6IlZhbGVudGluZSdzIERheSBCZWUgRGlyZWN0ZWQgRHJhd2luZyB7QXJ0IFByb2plY3R9IiwiZGU= (truncated)",
         "streaming-0affec486183-pin",
         "shardId-000000000000",
         "49654776698500171106604178712722999326062329266591236098",
         "2024-08-12T12:47:02.300+0000"
        ],
        [
         "partition-1",
         "eyJpbmRleCI6MzU5OSwidW5pcXVlX2lkIjoiZmYwZGQ5NDUtZGFmYS00MTFjLThjZWYtZWI0M2UzNzRlODE1IiwidGl0bGUiOiJFZHVjYXRpb25hbCBMZWFkZXJzaGlwIGluIEFvdGVhcm9hIE5ldyBaZWFsYW5kIDogSXNzdWU= (truncated)",
         "streaming-0affec486183-pin",
         "shardId-000000000000",
         "49654776698500171106604178717163383861506862362725974018",
         "2024-08-12T12:47:02.938+0000"
        ],
        [
         "partition-1",
         "eyJpbmRleCI6MTA1NTIsInVuaXF1ZV9pZCI6IjE3MzAxYjhjLWNjYmItNDJhZC1iMmRmLTM4NzZkZjM1YjFjZCIsInRpdGxlIjoiVGhlIFByb3dsZXIgRW1lcmdlbmN5IFJlc3BvbnNlIFZlaGljbGUiLCJkZXNjcmlwdGlvbiI= (truncated)",
         "streaming-0affec486183-pin",
         "shardId-000000000000",
         "49654776698500171106604178732131094434155586312202092546",
         "2024-08-12T12:47:05.528+0000"
        ],
        [
         "partition-1",
         "eyJpbmRleCI6MTQyMiwidW5pcXVlX2lkIjoiN2JiZTg2MGMtYTczOS00YmE5LWJhYmQtZmViMjRiYjZlNGQ5IiwidGl0bGUiOiI0MSBMaWZlLVNhdmluZyBCZWF1dHkgSGFja3MgRXZlcnkgR2lybCBTaG91bGQgSGF2ZSBJbiA= (truncated)",
         "streaming-0affec486183-pin",
         "shardId-000000000000",
         "49654776698500171106604178736167697745848833126546014210",
         "2024-08-12T12:47:06.155+0000"
        ],
        [
         "partition-1",
         "eyJpbmRleCI6NTMwOSwidW5pcXVlX2lkIjoiYzM4YmI0N2ItOTU4NC00ZmM0LWFmMGQtYTMxZTEwNjFkZjQxIiwidGl0bGUiOiJIb3cgdG8gV2F0Y2ggWW91ciBGYXZvcml0ZSBTaG93cyBXaXRob3V0IENhYmxlIiwiZGVzY3I= (truncated)",
         "streaming-0affec486183-pin",
         "shardId-000000000000",
         "49654776698500171106604178744797010246258056381757128706",
         "2024-08-12T12:47:07.811+0000"
        ],
        [
         "partition-1",
         "eyJpbmRleCI6NTUyLCJ1bmlxdWVfaWQiOiJiODI2MDJhOS1lNDM0LTQyY2YtOTQ4MS0yMmYzZjQxZDgyY2UiLCJ0aXRsZSI6IlRoZSBoZXJiYWwgYmVkOiBLYXRpZSBTY290dCdzIHBzeWNoZWRlbGljIGZsb3JhIGFuZCBmYXU= (truncated)",
         "streaming-0affec486183-pin",
         "shardId-000000000000",
         "49654776698500171106604178754695694857262640132970774530",
         "2024-08-12T12:47:09.402+0000"
        ],
        [
         "partition-1",
         "eyJpbmRleCI6MTM3MSwidW5pcXVlX2lkIjoiMzNlOTJhYzEtNzNkMS00YzMxLTk4OTItZDVlNjMzMDYwNzkwIiwidGl0bGUiOiJIb3cgVG8gRG8gTWFrZXVwIC0gU3RlcCBCeSBTdGVwIFRpcHMgRm9yIFRoZSBQZXJmZWN0IEw= (truncated)",
         "streaming-0affec486183-pin",
         "shardId-000000000000",
         "49654776698500171106604178757994853418990963219463405570",
         "2024-08-12T12:47:10.001+0000"
        ],
        [
         "partition-1",
         "eyJpbmRleCI6MTAxMTksInVuaXF1ZV9pZCI6IjQwZWFiOWJhLTc4MTItNGYyNi1iYWNhLTM1YTZiZWQ5NWE5ZiIsInRpdGxlIjoiSG93IHRvIEFmZm9yZCBGYW1pbHkgVHJhdmVsOiAxMCBNaXN0YWtlcyBZb3UncmUgTWFraW4= (truncated)",
         "streaming-0affec486183-pin",
         "shardId-000000000000",
         "49654776698500171106604178761258953131950461991170080770",
         "2024-08-12T12:47:10.699+0000"
        ],
        [
         "partition-1",
         "eyJpbmRleCI6OTA3NCwidW5pcXVlX2lkIjoiMmFkZWRlMDYtN2ZiMC00YjVmLThjZjktY2U4ZTZkNmZhNmExIiwidGl0bGUiOiI3NyBEaXNuZXkgVGF0dG9vcyBUbyBVbmxlYXNoIFlvdXIgTWFnaWMgUG93ZXIgLSBPdXIgTWk= (truncated)",
         "streaming-0affec486183-pin",
         "shardId-000000000000",
         "49654776698500171106604178769621093026224852061332176898",
         "2024-08-12T12:47:12.341+0000"
        ],
        [
         "partition-1",
         "eyJpbmRleCI6MjYwNCwidW5pcXVlX2lkIjoiMDg3YjBmYTktZjkwMS00MjYyLWFhMGEtNmNhZjIzNGQxYjM1IiwidGl0bGUiOiI3NSsgTmV1dHJhbCBDaHJpc3RtYXMgSG9tZSBEZWNvciBmb3IgdGhlIEhvbGlkYXkgU2Vhc28= (truncated)",
         "streaming-0affec486183-pin",
         "shardId-000000000000",
         "49654776698500171106604178772237208499870909664115818498",
         "2024-08-12T12:47:12.971+0000"
        ],
        [
         "partition-1",
         "eyJpbmRleCI6MjIzLCJ1bmlxdWVfaWQiOiI4NjcyZjk5Ni02Y2U5LTQwM2UtOTU5OS0yYzRkZjY2OGYxZTAiLCJ0aXRsZSI6IkVhc3kgR291YWNoZSBwYWludGluZyIsImRlc2NyaXB0aW9uIjoiTm8gZGVzY3JpcHRpb24gYXY= (truncated)",
         "streaming-0affec486183-pin",
         "shardId-000000000000",
         "49654776698500171106604178780758926602334430854058606594",
         "2024-08-12T12:47:14.900+0000"
        ],
        [
         "partition-1",
         "eyJpbmRleCI6ODMxMiwidW5pcXVlX2lkIjoiY2EzYzliYjAtNzI4MS00YjliLThhYmYtMjAxZGEwYjY4ZDYyIiwidGl0bGUiOiI4IFZpc2lvbiBCb2FyZCBJZGVhcyBUbyBNYW5pZmVzdCBZb3VyIERyZWFtcyAtIFRoZUZhYjI= (truncated)",
         "streaming-0affec486183-pin",
         "shardId-000000000000",
         "49654776698500171106604178788030615407316425477355208706",
         "2024-08-12T12:47:16.525+0000"
        ],
        [
         "partition-1",
         "eyJpbmRleCI6Mjg1OCwidW5pcXVlX2lkIjoiMjZmODFkYTQtMjZhOS00NjViLWI4MTktNjA5OWJjNjZlMWMwIiwidGl0bGUiOiI1MCBQb3B1bGFyIFNwcmluZyBDcmFmdHMgRm9yIEtpZHMgWW91IE5lZWQgVG8gTWFrZSIsImQ= (truncated)",
         "streaming-0affec486183-pin",
         "shardId-000000000000",
         "49654776698500171106604178796268235942170508742522568706",
         "2024-08-12T12:47:18.183+0000"
        ],
        [
         "partition-1",
         "eyJpbmRleCI6NjI2MSwidW5pcXVlX2lkIjoiMzA4YzVjMWMtMWViZC00NjQ5LWJlNzgtMTQ0MjRlZTM0NmIxIiwidGl0bGUiOiJERUNPUkFUSU5HIFdJVEggUkFUVEFOICYgQ0FORSAtIERhc2hpbmcgRGFybGluJyIsImRlc2M= (truncated)",
         "streaming-0affec486183-pin",
         "shardId-000000000000",
         "49654776698500171106604178803601579963952849453729185794",
         "2024-08-12T12:47:19.850+0000"
        ],
        [
         "partition-1",
         "eyJpbmRleCI6MzIwMSwidW5pcXVlX2lkIjoiNjM3MGYwOTYtZjM0NC00OWMzLWE2YjEtMzA3MmM1MzdhOTUzIiwidGl0bGUiOiJESVkgUG9tIFBvbSBMZXR0ZXJzIGZvciBNT00hIiwiZGVzY3JpcHRpb24iOiJNYXJsYSBNZXI= (truncated)",
         "streaming-0affec486183-pin",
         "shardId-000000000000",
         "49654776698500171106604178810435637622234348315782152194",
         "2024-08-12T12:47:21.441+0000"
        ],
        [
         "partition-1",
         "eyJpbmRleCI6MjYzNywidW5pcXVlX2lkIjoiYjE4ZThkMzgtZWI0NS00MGMwLWI0NDMtNGZjYTI1MGRmODUwIiwidGl0bGUiOiJNYXJjbyBCb2hvIiwiZGVzY3JpcHRpb24iOiJObyBkZXNjcmlwdGlvbiBhdmFpbGFibGUgU3Q= (truncated)",
         "streaming-0affec486183-pin",
         "shardId-000000000000",
         "49654776698500171106604178813120661867598439781524045826",
         "2024-08-12T12:47:22.040+0000"
        ],
        [
         "partition-1",
         "eyJpbmRleCI6MTE5OCwidW5pcXVlX2lkIjoiMWE5MGNhYWMtZjVkZi00YTI3LTgyMWItMGZiNGJlNjc4NTQyIiwidGl0bGUiOiJUaGUgRW5kIG9mIHRoZSBTa2luLUNhcmUgQ3JhemUiLCJkZXNjcmlwdGlvbiI6IkluIHRoZSA= (truncated)",
         "streaming-0affec486183-pin",
         "shardId-000000000000",
         "49654776698500171106604178825304216277674672741651841026",
         "2024-08-12T12:47:24.651+0000"
        ],
        [
         "partition-1",
         "eyJpbmRleCI6MTAzNzAsInVuaXF1ZV9pZCI6Ijc0Njk0OGU3LWEyMTYtNDU2Yi04ZGU3LTdmZWU3MzEyMDEyYyIsInRpdGxlIjoiSm9zaHVhIFRyZWUgLSBBIFdlZWtlbmQgaW4gdGhlIERlc2VydCB3aXRoIEZhaXRoZnVsbCA= (truncated)",
         "streaming-0affec486183-pin",
         "shardId-000000000000",
         "49654776698500171106604178832268837924474551485853597698",
         "2024-08-12T12:47:26.324+0000"
        ],
        [
         "partition-1",
         "eyJpbmRleCI6NzE2NywidW5pcXVlX2lkIjoiOTIyNDI1ZDItMTZkYy00NjVlLThmZTQtZTNjMDgxYTAyOTlmIiwidGl0bGUiOiJIYW1pbHRvbiBLaGFraSBBdmlhdGlvbiBQaWxvdCBDaHJvbm8gV2F0Y2ggSDc2NzEyMTUxIiw= (truncated)",
         "streaming-0affec486183-pin",
         "shardId-000000000000",
         "49654776698500171106604178835989911597248380223038160898",
         "2024-08-12T12:47:26.941+0000"
        ],
        [
         "partition-1",
         "eyJpbmRleCI6MTA2NzMsInVuaXF1ZV9pZCI6ImVkZTczMTY5LTViOWYtNDkwNi1iMDJlLTlkYjFiZWUyMDNhNCIsInRpdGxlIjoiRGlzY292ZXIgdGhlIG5ldyBSYW5nZSBSb3ZlciBsdXh1cnkgcGVyZm9ybWFuY2UgU1VWIiw= (truncated)",
         "streaming-0affec486183-pin",
         "shardId-000000000000",
         "49654776698500171106604178838716039320479369012000587778",
         "2024-08-12T12:47:27.601+0000"
        ],
        [
         "partition-1",
         "eyJpbmRleCI6MjA2MCwidW5pcXVlX2lkIjoiMTc3ZGRlMWEtMzQwOS00ODY1LWE1MzMtOWY1MGVmYWVkY2Q4IiwidGl0bGUiOiI1MCBESVkgRGVjb3JhdGlvbnMgZm9yIGEgSm9sbHkgQ2hyaXN0bWFzIFRhYmxlIFNldHRpbmc= (truncated)",
         "streaming-0affec486183-pin",
         "shardId-000000000000",
         "49654776698500171106604178847970366469629355481815318530",
         "2024-08-12T12:47:29.465+0000"
        ],
        [
         "partition-1",
         "eyJpbmRleCI6OTQ4NywidW5pcXVlX2lkIjoiM2JjY2IwNWUtZjAzMS00NzdmLTljYTQtOWJlMjhlNWJkNTQyIiwidGl0bGUiOiJUaGUgQ2hlYXBlc3QgQ291bnRyaWVzIHRvIFZpc2l0IEFyb3VuZCB0aGUgV29ybGQiLCJkZXM= (truncated)",
         "streaming-0affec486183-pin",
         "shardId-000000000000",
         "49654776698500171106604178851522190527657135997102063618",
         "2024-08-12T12:47:30.122+0000"
        ],
        [
         "partition-1",
         "eyJpbmRleCI6NzcyLCJ1bmlxdWVfaWQiOiI0OWExMjUxNi0yYzc3LTQ0NWYtYjY1Ni00YjU1YjRhNjk2MDgiLCJ0aXRsZSI6IjUgUGFzdGVsIENvbG9yIFBhbGV0dGVzIGZvciA1IEZsb3JhbCBGYXZvcml0ZXMiLCJkZXNjcmk= (truncated)",
         "streaming-0affec486183-pin",
         "shardId-000000000000",
         "49654776698500171106604178853813104955826858351889743874",
         "2024-08-12T12:47:30.721+0000"
        ],
        [
         "partition-1",
         "eyJpbmRleCI6NzUxMCwidW5pcXVlX2lkIjoiZTA5ZmRkZGEtMWNjMi00MWM4LWI3OTktZDIzOGZlOTBiOTM3IiwidGl0bGUiOiJTZWUgdGhlIE1vc3QgU3R5bGlzaCBNZW4gb2YgTmV3IFlvcmsgRmFzaGlvbiBXZWVrIiwiZGU= (truncated)",
         "streaming-0affec486183-pin",
         "shardId-000000000000",
         "49654776698500171106604178861182716752197637938337546242",
         "2024-08-12T12:47:32.384+0000"
        ],
        [
         "partition-1",
         "eyJpbmRleCI6NTc1OCwidW5pcXVlX2lkIjoiYWY2MDIwNzUtN2JlYS00YWEwLWFkZjQtYTFhODk5NTJlOTJlIiwidGl0bGUiOiJSb2JvdCBDaGFsbGVuZ2UgU2NyZWVuIiwiZGVzY3JpcHRpb24iOiJOZWVkIHRvIG9yZ2FuaXo= (truncated)",
         "streaming-0affec486183-pin",
         "shardId-000000000000",
         "49654776698500171106604178869546065572291642706393825282",
         "2024-08-12T12:47:34.105+0000"
        ]
       ],
       "datasetInfos": [],
       "dbfsResultPath": null,
       "isJsonSchema": true,
       "metadata": {},
       "overflow": false,
       "plotOptions": {
        "customPlotOptions": {},
        "displayType": "table",
        "pivotAggregation": null,
        "pivotColumns": null,
        "xColumns": null,
        "yColumns": null
       },
       "removedWidgets": [],
       "schema": [
        {
         "metadata": "{}",
         "name": "partitionKey",
         "type": "\"string\""
        },
        {
         "metadata": "{}",
         "name": "data",
         "type": "\"binary\""
        },
        {
         "metadata": "{}",
         "name": "stream",
         "type": "\"string\""
        },
        {
         "metadata": "{}",
         "name": "shardId",
         "type": "\"string\""
        },
        {
         "metadata": "{}",
         "name": "sequenceNumber",
         "type": "\"string\""
        },
        {
         "metadata": "{}",
         "name": "approximateArrivalTimestamp",
         "type": "\"timestamp\""
        }
       ],
       "type": "table"
      }
     },
     "output_type": "display_data"
    }
   ],
   "source": [
    "kstream_pin = get_kinesis_stream('streaming-0affec486183-pin')\n",
    "# kstream_geo = get_kinesis_stream('streaming-0affec486183-geo')\n",
    "# kstream_user = get_kinesis_stream('streaming-0affec486183-user')\n",
    "display(kstream_pin)"
   ]
  },
  {
   "cell_type": "code",
   "execution_count": 0,
   "metadata": {
    "application/vnd.databricks.v1+cell": {
     "cellMetadata": {
      "byteLimit": 2048000,
      "rowLimit": 10000
     },
     "inputWidgets": {},
     "nuid": "b06689ca-36bd-446f-9ce9-3fd50a09c21b",
     "showTitle": false,
     "title": ""
    }
   },
   "outputs": [
    {
     "output_type": "display_data",
     "data": {
      "text/html": [
       "<style scoped>\n",
       "  .ansiout {\n",
       "    display: block;\n",
       "    unicode-bidi: embed;\n",
       "    white-space: pre-wrap;\n",
       "    word-wrap: break-word;\n",
       "    word-break: break-all;\n",
       "    font-family: \"Menlo\", \"Monaco\", \"Consolas\", \"Ubuntu Mono\", \"Source Code Pro\", monospace;\n",
       "    font-size: 13px;\n",
       "    color: #555;\n",
       "    margin-left: 4px;\n",
       "    line-height: 19px;\n",
       "  }\n",
       "</style>\n",
       "<div class=\"ansiout\"></div>"
      ]
     },
     "metadata": {
      "application/vnd.databricks.v1+output": {
       "addedWidgets": {},
       "arguments": {},
       "data": "<div class=\"ansiout\"></div>",
       "datasetInfos": [],
       "metadata": {},
       "removedWidgets": [],
       "type": "html"
      }
     },
     "output_type": "display_data"
    }
   ],
   "source": [
    "# need to be sending live data for this to work:\n",
    "kstream_geo = get_kinesis_stream('streaming-0affec486183-geo')\n"
   ]
  },
  {
   "cell_type": "code",
   "execution_count": 0,
   "metadata": {
    "application/vnd.databricks.v1+cell": {
     "cellMetadata": {
      "byteLimit": 2048000,
      "rowLimit": 10000
     },
     "inputWidgets": {},
     "nuid": "e6293000-f63a-40bf-9d8b-31852eaad0f6",
     "showTitle": false,
     "title": ""
    }
   },
   "outputs": [
    {
     "output_type": "display_data",
     "data": {
      "text/html": [
       "<style scoped>\n",
       "  .table-result-container {\n",
       "    max-height: 300px;\n",
       "    overflow: auto;\n",
       "  }\n",
       "  table, th, td {\n",
       "    border: 1px solid black;\n",
       "    border-collapse: collapse;\n",
       "  }\n",
       "  th, td {\n",
       "    padding: 5px;\n",
       "  }\n",
       "  th {\n",
       "    text-align: left;\n",
       "  }\n",
       "</style><div class='table-result-container'><table class='table-result'><thead style='background-color: white'><tr><th>partitionKey</th><th>data</th><th>stream</th><th>shardId</th><th>sequenceNumber</th><th>approximateArrivalTimestamp</th></tr></thead><tbody><tr><td>partition-geo</td><td>eyJpbmQiOjc1MjgsInRpbWVzdGFtcCI6IjIwMjAtMDgtMjhUMDM6NTI6NDciLCJsYXRpdHVkZSI6LTg5Ljk3ODcsImxvbmdpdHVkZSI6LTE3My4yOTMsImNvdW50cnkiOiJBbGJhbmlhIn0=</td><td>streaming-0affec486183-geo</td><td>shardId-000000000000</td><td>49654776715983955342252074455743937999881516150966714370</td><td>2024-08-12T17:29:20.362+0000</td></tr><tr><td>partition-geo</td><td>eyJpbmQiOjI4NjMsInRpbWVzdGFtcCI6IjIwMjAtMDQtMjdUMTM6MzQ6MTYiLCJsYXRpdHVkZSI6LTUuMzQ0NDUsImxvbmdpdHVkZSI6LTE3Ny45MjQsImNvdW50cnkiOiJBcm1lbmlhIn0=</td><td>streaming-0affec486183-geo</td><td>shardId-000000000000</td><td>49654776715983955342252074458108596903047730954130948098</td><td>2024-08-12T17:29:21.974+0000</td></tr><tr><td>partition-geo</td><td>eyJpbmQiOjU3MzAsInRpbWVzdGFtcCI6IjIwMjEtMDQtMTlUMTc6Mzc6MDMiLCJsYXRpdHVkZSI6LTc3LjAxNSwibG9uZ2l0dWRlIjotMTAxLjQzNywiY291bnRyeSI6IkNvbG9tYmlhIn0=</td><td>streaming-0affec486183-geo</td><td>shardId-000000000000</td><td>49654776715983955342252074460300379414009053716592721922</td><td>2024-08-12T17:29:23.602+0000</td></tr><tr><td>partition-geo</td><td>eyJpbmQiOjgzMDQsInRpbWVzdGFtcCI6IjIwMTktMDktMTNUMDQ6NTA6MjkiLCJsYXRpdHVkZSI6LTI4Ljg4NTIsImxvbmdpdHVkZSI6LTE2NC44NywiY291bnRyeSI6IkZyZW5jaCBHdWlhbmEifQ==</td><td>streaming-0affec486183-geo</td><td>shardId-000000000000</td><td>49654776715983955342252074462366433639730455113604530178</td><td>2024-08-12T17:29:25.236+0000</td></tr><tr><td>partition-geo</td><td>eyJpbmQiOjg3MzEsInRpbWVzdGFtcCI6IjIwMjAtMDctMTdUMDQ6Mzk6MDkiLCJsYXRpdHVkZSI6LTgzLjEwNCwibG9uZ2l0dWRlIjotMTcxLjMwMiwiY291bnRyeSI6IkFydWJhIn0=</td><td>streaming-0affec486183-geo</td><td>shardId-000000000000</td><td>49654776715983955342252074463363797440912524182737125378</td><td>2024-08-12T17:29:25.913+0000</td></tr><tr><td>partition-geo</td><td>eyJpbmQiOjEzMTMsInRpbWVzdGFtcCI6IjIwMTgtMDYtMjZUMDI6Mzk6MjUiLCJsYXRpdHVkZSI6NzcuMDQ0NywibG9uZ2l0dWRlIjo2MS45MTE5LCJjb3VudHJ5IjoiTWFsZGl2ZXMifQ==</td><td>streaming-0affec486183-geo</td><td>shardId-000000000000</td><td>49654776715983955342252074464474800269138368394292101122</td><td>2024-08-12T17:29:26.567+0000</td></tr><tr><td>partition-geo</td><td>eyJpbmQiOjQzMTUsInRpbWVzdGFtcCI6IjIwMTktMTItMTVUMDM6NTE6MjgiLCJsYXRpdHVkZSI6LTQ1Ljg1MDgsImxvbmdpdHVkZSI6NjYuMTAwMywiY291bnRyeSI6IkNvdGUgZCdJdm9pcmUifQ==</td><td>streaming-0affec486183-geo</td><td>shardId-000000000000</td><td>49654776715983955342252074466548108049777457635071623170</td><td>2024-08-12T17:29:28.198+0000</td></tr><tr><td>partition-geo</td><td>eyJpbmQiOjEwNzk0LCJ0aW1lc3RhbXAiOiIyMDIyLTAxLTAxVDAyOjI2OjUwIiwibGF0aXR1ZGUiOi04OS41MjM2LCJsb25naXR1ZGUiOi0xNTQuNTY3LCJjb3VudHJ5IjoiQ29jb3MgKEtlZWxpbmcpIElzbGFuZHMifQ==</td><td>streaming-0affec486183-geo</td><td>shardId-000000000000</td><td>49654776715983955342252074467375013310393864059290124290</td><td>2024-08-12T17:29:28.855+0000</td></tr><tr><td>partition-geo</td><td>eyJpbmQiOjU0OTQsInRpbWVzdGFtcCI6IjIwMjEtMDctMjFUMDI6MDI6MzUiLCJsYXRpdHVkZSI6LTgyLjY3NjgsImxvbmdpdHVkZSI6LTEyOS4yMDIsImNvdW50cnkiOiJCdWxnYXJpYSJ9</td><td>streaming-0affec486183-geo</td><td>shardId-000000000000</td><td>49654776715983955342252074468154770464045299876975607810</td><td>2024-08-12T17:29:29.506+0000</td></tr><tr><td>partition-geo</td><td>eyJpbmQiOjUwNjksInRpbWVzdGFtcCI6IjIwMjEtMDMtMjBUMDk6MzI6NDQiLCJsYXRpdHVkZSI6LTYzLjAwNjMsImxvbmdpdHVkZSI6LTE1Ny40NzQsImNvdW50cnkiOiJBemVyYmFpamFuIn0=</td><td>streaming-0affec486183-geo</td><td>shardId-000000000000</td><td>49654776715983955342252074468929691914418277246681743362</td><td>2024-08-12T17:29:30.158+0000</td></tr><tr><td>partition-geo</td><td>eyJpbmQiOjI5MjMsInRpbWVzdGFtcCI6IjIwMTktMDktMDhUMjI6NTM6MDkiLCJsYXRpdHVkZSI6LTg0LjYzMDIsImxvbmdpdHVkZSI6LTE2NC41MDcsImNvdW50cnkiOiJDb3RlIGQnSXZvaXJlIn0=</td><td>streaming-0affec486183-geo</td><td>shardId-000000000000</td><td>49654776715983955342252074469711866919708942322716639234</td><td>2024-08-12T17:29:30.839+0000</td></tr><tr><td>partition-geo</td><td>eyJpbmQiOjMwODksInRpbWVzdGFtcCI6IjIwMTgtMDItMjhUMDU6MzE6MjkiLCJsYXRpdHVkZSI6LTg5Ljk3ODcsImxvbmdpdHVkZSI6LTE3My4yOTMsImNvdW50cnkiOiJBbGJhbmlhIn0=</td><td>streaming-0affec486183-geo</td><td>shardId-000000000000</td><td>49654776715983955342252074470612516655321841126592217090</td><td>2024-08-12T17:29:31.469+0000</td></tr><tr><td>partition-geo</td><td>eyJpbmQiOjYwNjMsInRpbWVzdGFtcCI6IjIwMjEtMDctMjBUMDk6MDI6NDciLCJsYXRpdHVkZSI6LTg5LjE3OTcsImxvbmdpdHVkZSI6LTE3NC4wMTUsImNvdW50cnkiOiJBbmd1aWxsYSJ9</td><td>streaming-0affec486183-geo</td><td>shardId-000000000000</td><td>49654776715983955342252074472914311415868095143952252930</td><td>2024-08-12T17:29:33.107+0000</td></tr><tr><td>partition-geo</td><td>eyJpbmQiOjM0NTQsInRpbWVzdGFtcCI6IjIwMjEtMDctMjVUMDI6MjA6MjkiLCJsYXRpdHVkZSI6LTAuMzc1MTc0LCJsb25naXR1ZGUiOjQ5LjgxMDYsImNvdW50cnkiOiJDYW1ib2RpYSJ9</td><td>streaming-0affec486183-geo</td><td>shardId-000000000000</td><td>49654776715983955342252074474997290603064101349409947650</td><td>2024-08-12T17:29:34.741+0000</td></tr><tr><td>partition-geo</td><td>eyJpbmQiOjc1NTQsInRpbWVzdGFtcCI6IjIwMTktMDMtMjBUMDM6MTU6MDciLCJsYXRpdHVkZSI6LTUxLjIxNzIsImxvbmdpdHVkZSI6LTc3Ljk3NjgsImNvdW50cnkiOiJTdWRhbiJ9</td><td>streaming-0affec486183-geo</td><td>shardId-000000000000</td><td>49654776715983955342252074477027077054197063871180570626</td><td>2024-08-12T17:29:36.431+0000</td></tr><tr><td>partition-geo</td><td>eyJpbmQiOjYxNDUsInRpbWVzdGFtcCI6IjIwMTktMTItMDVUMDI6MDk6NDQiLCJsYXRpdHVkZSI6LTY1LjkwNzksImxvbmdpdHVkZSI6LTE0My44NDUsImNvdW50cnkiOiJNb3phbWJpcXVlIn0=</td><td>streaming-0affec486183-geo</td><td>shardId-000000000000</td><td>49654776715983955342252074479064117060247714167999430658</td><td>2024-08-12T17:29:38.120+0000</td></tr><tr><td>partition-geo</td><td>eyJpbmQiOjEwNjI1LCJ0aW1lc3RhbXAiOiIyMDE4LTA3LTEzVDExOjUxOjE1IiwibGF0aXR1ZGUiOi04NC40OTQ0LCJsb25naXR1ZGUiOi04MS4wNjEzLCJjb3VudHJ5IjoiSmFtYWljYSJ9</td><td>streaming-0affec486183-geo</td><td>shardId-000000000000</td><td>49654776715983955342252074479883768765946432817169694722</td><td>2024-08-12T17:29:38.789+0000</td></tr><tr><td>partition-geo</td><td>eyJpbmQiOjI5NTksInRpbWVzdGFtcCI6IjIwMTktMDgtMTlUMDg6MjI6MDIiLCJsYXRpdHVkZSI6LTY4LjAwOTUsImxvbmdpdHVkZSI6LTE1Ny4yMjcsImNvdW50cnkiOiJBbmdvbGEifQ==</td><td>streaming-0affec486183-geo</td><td>shardId-000000000000</td><td>49654776715983955342252074480592199296240605513547513858</td><td>2024-08-12T17:29:39.421+0000</td></tr><tr><td>partition-geo</td><td>eyJpbmQiOjk4NzUsInRpbWVzdGFtcCI6IjIwMjAtMDMtMjBUMTM6MDM6MTgiLCJsYXRpdHVkZSI6LTc0LjMzODIsImxvbmdpdHVkZSI6LTExMC40ODQsImNvdW50cnkiOiJCYXJiYWRvcyJ9</td><td>streaming-0affec486183-geo</td><td>shardId-000000000000</td><td>49654776715983955342252074481334479749483987826817105922</td><td>2024-08-12T17:29:40.074+0000</td></tr><tr><td>partition-geo</td><td>eyJpbmQiOjI0MTgsInRpbWVzdGFtcCI6IjIwMjItMDUtMjdUMTE6MzA6NTkiLCJsYXRpdHVkZSI6LTg4LjQ2NDIsImxvbmdpdHVkZSI6LTE3MS4wNjEsImNvdW50cnkiOiJBbnRhcmN0aWNhICh0aGUgdGVycml0b3J5IFNvdXQ= (truncated)</td><td>streaming-0affec486183-geo</td><td>shardId-000000000000</td><td>49654776715983955342252074483143032775627473209616498690</td><td>2024-08-12T17:29:41.737+0000</td></tr><tr><td>partition-geo</td><td>eyJpbmQiOjMxNTYsInRpbWVzdGFtcCI6IjIwMTgtMDEtMTNUMTk6MzM6NDkiLCJsYXRpdHVkZSI6LTg0LjczOCwibG9uZ2l0dWRlIjotMTYwLjc5NSwiY291bnRyeSI6IkFybWVuaWEifQ==</td><td>streaming-0affec486183-geo</td><td>shardId-000000000000</td><td>49654776715983955342252074483879268599772782377012559874</td><td>2024-08-12T17:29:42.392+0000</td></tr><tr><td>partition-geo</td><td>eyJpbmQiOjQyOCwidGltZXN0YW1wIjoiMjAyMC0wOS0yN1QxODo0Njo0MSIsImxhdGl0dWRlIjotODMuNDEwNSwibG9uZ2l0dWRlIjotMTUwLjc4OCwiY291bnRyeSI6IkJhbmdsYWRlc2gifQ==</td><td>streaming-0affec486183-geo</td><td>shardId-000000000000</td><td>49654776715983955342252074485143805007089684562474696706</td><td>2024-08-12T17:29:43.027+0000</td></tr><tr><td>partition-geo</td><td>eyJpbmQiOjczNDMsInRpbWVzdGFtcCI6IjIwMTgtMDgtMDZUMTI6MTc6MDciLCJsYXRpdHVkZSI6LTY1LjQ0MjgsImxvbmdpdHVkZSI6LTE2MS42ODQsImNvdW50cnkiOiJBdXN0cmFsaWEifQ==</td><td>streaming-0affec486183-geo</td><td>shardId-000000000000</td><td>49654776715983955342252074486054126149259500468467400706</td><td>2024-08-12T17:29:43.665+0000</td></tr><tr><td>partition-geo</td><td>eyJpbmQiOjIwNzQsInRpbWVzdGFtcCI6IjIwMTktMTEtMDNUMDU6NDE6NTkiLCJsYXRpdHVkZSI6LTUyLjMyMTMsImxvbmdpdHVkZSI6LTUwLjExLCJjb3VudHJ5IjoiQ2VudHJhbCBBZnJpY2FuIFJlcHVibGljIn0=</td><td>streaming-0affec486183-geo</td><td>shardId-000000000000</td><td>49654776715983955342252074488237446179483520826706231298</td><td>2024-08-12T17:29:45.357+0000</td></tr><tr><td>partition-geo</td><td>eyJpbmQiOjk5NzksInRpbWVzdGFtcCI6IjIwMTgtMDctMThUMTk6MDE6NDYiLCJsYXRpdHVkZSI6MTQuOTk2NywibG9uZ2l0dWRlIjotMTIwLjY4MiwiY291bnRyeSI6IkRvbWluaWNhbiBSZXB1YmxpYyJ9</td><td>streaming-0affec486183-geo</td><td>shardId-000000000000</td><td>49654776715983955342252074489047426478625322373759369218</td><td>2024-08-12T17:29:46.022+0000</td></tr><tr><td>partition-geo</td><td>eyJpbmQiOjEwMTM4LCJ0aW1lc3RhbXAiOiIyMDE5LTA4LTAzVDAwOjU5OjI5IiwibGF0aXR1ZGUiOi03Mi4xNDIsImxvbmdpdHVkZSI6LTc0LjM1NDUsImNvdW50cnkiOiJBdXN0cmlhIn0=</td><td>streaming-0affec486183-geo</td><td>shardId-000000000000</td><td>49654776715983955342252074489944449436779377290110828546</td><td>2024-08-12T17:29:46.756+0000</td></tr><tr><td>partition-geo</td><td>eyJpbmQiOjk2NzIsInRpbWVzdGFtcCI6IjIwMTktMTEtMDNUMTM6MTU6NTIiLCJsYXRpdHVkZSI6NzkuNDY1OCwibG9uZ2l0dWRlIjotNjkuNDEzMywiY291bnRyeSI6IkluZGlhIn0=</td><td>streaming-0affec486183-geo</td><td>shardId-000000000000</td><td>49654776715983955342252074492008085810861549360053747714</td><td>2024-08-12T17:29:48.410+0000</td></tr><tr><td>partition-geo</td><td>eyJpbmQiOjg2NTMsInRpbWVzdGFtcCI6IjIwMjItMDQtMTFUMTg6MzA6MTkiLCJsYXRpdHVkZSI6NDguNDU2OSwibG9uZ2l0dWRlIjotMTM5LjY1OCwiY291bnRyeSI6IlNleWNoZWxsZXMifQ==</td><td>streaming-0affec486183-geo</td><td>shardId-000000000000</td><td>49654776715983955342252074493962918861178404941712064514</td><td>2024-08-12T17:29:50.022+0000</td></tr><tr><td>partition-geo</td><td>eyJpbmQiOjg4ODcsInRpbWVzdGFtcCI6IjIwMjEtMDktMTlUMDU6Mjc6NDMiLCJsYXRpdHVkZSI6LTI4LjAxMzcsImxvbmdpdHVkZSI6LTE2MC43MDgsImNvdW50cnkiOiJCb3Rzd2FuYSJ9</td><td>streaming-0affec486183-geo</td><td>shardId-000000000000</td><td>49654776715983955342252074495966108944279845552919674882</td><td>2024-08-12T17:29:51.701+0000</td></tr><tr><td>partition-geo</td><td>eyJpbmQiOjc5MjIsInRpbWVzdGFtcCI6IjIwMjEtMDEtMjdUMDk6MTQ6MTkiLCJsYXRpdHVkZSI6LTg4LjA5NzQsImxvbmdpdHVkZSI6LTE3Mi4wNTIsImNvdW50cnkiOiJBbnRpZ3VhIGFuZCBCYXJidWRhIn0=</td><td>streaming-0affec486183-geo</td><td>shardId-000000000000</td><td>49654776715983955342252074497861704629435584167578435586</td><td>2024-08-12T17:29:53.366+0000</td></tr><tr><td>partition-geo</td><td>eyJpbmQiOjEwMTQsInRpbWVzdGFtcCI6IjIwMjItMDItMDNUMjI6MDU6MzQiLCJsYXRpdHVkZSI6ODEuMTQ3NywibG9uZ2l0dWRlIjo2OS4zNTM4LCJjb3VudHJ5IjoiVG9uZ2EifQ==</td><td>streaming-0affec486183-geo</td><td>shardId-000000000000</td><td>49654776715983955342252074500447596957591276178433376258</td><td>2024-08-12T17:29:54.992+0000</td></tr><tr><td>partition-geo</td><td>eyJpbmQiOjQ5MTMsInRpbWVzdGFtcCI6IjIwMTktMDMtMDhUMDY6NDU6MzkiLCJsYXRpdHVkZSI6LTg0LjM3NjgsImxvbmdpdHVkZSI6LTE1Ny41NDQsImNvdW50cnkiOiJBcnViYSJ9</td><td>streaming-0affec486183-geo</td><td>shardId-000000000000</td><td>49654776715983955342252074501313187844435350667522998274</td><td>2024-08-12T17:29:55.625+0000</td></tr><tr><td>partition-geo</td><td>eyJpbmQiOjQxMzcsInRpbWVzdGFtcCI6IjIwMTktMDYtMjNUMjI6MTY6MzQiLCJsYXRpdHVkZSI6LTU1LjMwNzksImxvbmdpdHVkZSI6MTA4LjkxOCwiY291bnRyeSI6IkF1c3RyYWxpYSJ9</td><td>streaming-0affec486183-geo</td><td>shardId-000000000000</td><td>49654776715983955342252074503401002734909815389679517698</td><td>2024-08-12T17:29:57.281+0000</td></tr><tr><td>partition-geo</td><td>eyJpbmQiOjcxNjYsInRpbWVzdGFtcCI6IjIwMjItMDctMjVUMDM6MDc6MzciLCJsYXRpdHVkZSI6LTg2LjQwNjMsImxvbmdpdHVkZSI6LTEzNi42NTcsImNvdW50cnkiOiJBcnViYSJ9</td><td>streaming-0affec486183-geo</td><td>shardId-000000000000</td><td>49654776715983955342252074504233952624624294891052072962</td><td>2024-08-12T17:29:57.922+0000</td></tr><tr><td>partition-geo</td><td>eyJpbmQiOjk1NDYsInRpbWVzdGFtcCI6IjIwMTgtMDItMTBUMDY6MTY6NDAiLCJsYXRpdHVkZSI6LTcwLjAyOTUsImxvbmdpdHVkZSI6LTE1NS40MjgsImNvdW50cnkiOiJBdXN0cmlhIn0=</td><td>streaming-0affec486183-geo</td><td>shardId-000000000000</td><td>49654776715983955342252074506278246185592632894199693314</td><td>2024-08-12T17:29:59.579+0000</td></tr><tr><td>partition-geo</td><td>eyJpbmQiOjI0MTEsInRpbWVzdGFtcCI6IjIwMjAtMTEtMTVUMTc6MTA6MDciLCJsYXRpdHVkZSI6LTcxLjY4NTYsImxvbmdpdHVkZSI6LTE3OS4xMjYsImNvdW50cnkiOiJBbGJhbmlhIn0=</td><td>streaming-0affec486183-geo</td><td>shardId-000000000000</td><td>49654776715983955342252074508439805551063590064732766210</td><td>2024-08-12T17:30:01.383+0000</td></tr><tr><td>partition-geo</td><td>eyJpbmQiOjk1OTAsInRpbWVzdGFtcCI6IjIwMTktMDUtMjBUMTk6NDg6NDgiLCJsYXRpdHVkZSI6LTY0LjM4NzYsImxvbmdpdHVkZSI6LTE3NC4yODEsImNvdW50cnkiOiJBbGdlcmlhIn0=</td><td>streaming-0affec486183-geo</td><td>shardId-000000000000</td><td>49654776715983955342252074510472009853835781776133324802</td><td>2024-08-12T17:30:03.097+0000</td></tr><tr><td>partition-geo</td><td>eyJpbmQiOjI2OTgsInRpbWVzdGFtcCI6IjIwMjEtMTEtMjRUMDg6MzM6NTEiLCJsYXRpdHVkZSI6LTcyLjcxNzQsImxvbmdpdHVkZSI6MjQuMTY5LCJjb3VudHJ5IjoiRWd5cHQifQ==</td><td>streaming-0affec486183-geo</td><td>shardId-000000000000</td><td>49654776715983955342252074512403873313579959403472224258</td><td>2024-08-12T17:30:04.767+0000</td></tr><tr><td>partition-geo</td><td>eyJpbmQiOjQ1MDgsInRpbWVzdGFtcCI6IjIwMTktMDEtMDRUMTE6MTU6MjciLCJsYXRpdHVkZSI6NjkuMTg1OCwibG9uZ2l0dWRlIjotNzYuMDc2MSwiY291bnRyeSI6IlBoaWxpcHBpbmVzIn0=</td><td>streaming-0affec486183-geo</td><td>shardId-000000000000</td><td>49654776715983955342252074513076036069285693224608858114</td><td>2024-08-12T17:30:05.385+0000</td></tr><tr><td>partition-geo</td><td>eyJpbmQiOjgzMSwidGltZXN0YW1wIjoiMjAyMS0wNi0yM1QyMzoxNjoxMCIsImxhdGl0dWRlIjotNDMuNzgxNiwibG9uZ2l0dWRlIjotNjYuMTU5MiwiY291bnRyeSI6IkNvbmdvIn0=</td><td>streaming-0affec486183-geo</td><td>shardId-000000000000</td><td>49654776715983955342252074513766332712285646552085561346</td><td>2024-08-12T17:30:06.011+0000</td></tr><tr><td>partition-geo</td><td>eyJpbmQiOjUwNzYsInRpbWVzdGFtcCI6IjIwMTktMDUtMDVUMTY6MjI6MjMiLCJsYXRpdHVkZSI6LTcwLjcxOTUsImxvbmdpdHVkZSI6LTkxLjE5MzUsImNvdW50cnkiOiJHZXJtYW55In0=</td><td>streaming-0affec486183-geo</td><td>shardId-000000000000</td><td>49654776715983955342252074514587193343803979761711054850</td><td>2024-08-12T17:30:06.648+0000</td></tr><tr><td>partition-geo</td><td>eyJpbmQiOjEwNjYzLCJ0aW1lc3RhbXAiOiIyMDE5LTA3LTI1VDE4OjUzOjUxIiwibGF0aXR1ZGUiOi0yNy4zNDc0LCJsb25naXR1ZGUiOi0xNjIuODMsImNvdW50cnkiOiJTYWludCBLaXR0cyBhbmQgTmV2aXMifQ==</td><td>streaming-0affec486183-geo</td><td>shardId-000000000000</td><td>49654776715983955342252074515381457607290791198212489218</td><td>2024-08-12T17:30:07.352+0000</td></tr><tr><td>partition-geo</td><td>eyJpbmQiOjU0NjgsInRpbWVzdGFtcCI6IjIwMjAtMDUtMTZUMjM6MTc6NTAiLCJsYXRpdHVkZSI6LTgzLjU0NCwibG9uZ2l0dWRlIjozMy45NDczLCJjb3VudHJ5IjoiSXNsZSBvZiBNYW4ifQ==</td><td>streaming-0affec486183-geo</td><td>shardId-000000000000</td><td>49654776715983955342252074517157369636304681524575338498</td><td>2024-08-12T17:30:08.985+0000</td></tr><tr><td>partition-geo</td><td>eyJpbmQiOjIwNSwidGltZXN0YW1wIjoiMjAyMC0wNy0wOFQxNDoxMDozOCIsImxhdGl0dWRlIjotNzUuODM3OCwibG9uZ2l0dWRlIjotMTYzLjk0NSwiY291bnRyeSI6IkJhcmJhZG9zIn0=</td><td>streaming-0affec486183-geo</td><td>shardId-000000000000</td><td>49654776715983955342252074518991310104660074188763037698</td><td>2024-08-12T17:30:10.720+0000</td></tr><tr><td>partition-geo</td><td>eyJpbmQiOjc3OTAsInRpbWVzdGFtcCI6IjIwMTgtMDctMzFUMDg6MTk6MTUiLCJsYXRpdHVkZSI6LTQzLjY5MiwibG9uZ2l0dWRlIjo2NC45ODM5LCJjb3VudHJ5IjoiUGFwdWEgTmV3IEd1aW5lYSJ9</td><td>streaming-0affec486183-geo</td><td>shardId-000000000000</td><td>49654776715983955342252074519668308563644266526598496258</td><td>2024-08-12T17:30:11.367+0000</td></tr><tr><td>partition-geo</td><td>eyJpbmQiOjg2MDYsInRpbWVzdGFtcCI6IjIwMjEtMDMtMjhUMTQ6NTQ6MDciLCJsYXRpdHVkZSI6LTg4LjA5NzQsImxvbmdpdHVkZSI6LTE3Mi4wNTIsImNvdW50cnkiOiJBbnRpZ3VhIGFuZCBCYXJidWRhIn0=</td><td>streaming-0affec486183-geo</td><td>shardId-000000000000</td><td>49654776715983955342252074521074289291856080325501255682</td><td>2024-08-12T17:30:12.029+0000</td></tr><tr><td>partition-geo</td><td>eyJpbmQiOjk3NTksInRpbWVzdGFtcCI6IjIwMTctMTItMzBUMTM6MDU6NDkiLCJsYXRpdHVkZSI6LTc3Ljk3NDQsImxvbmdpdHVkZSI6LTEwNi4yNTgsImNvdW50cnkiOiJBbWVyaWNhbiBTYW1vYSJ9</td><td>streaming-0affec486183-geo</td><td>shardId-000000000000</td><td>49654776715983955342252074522017251431155491081772072962</td><td>2024-08-12T17:30:12.729+0000</td></tr><tr><td>partition-geo</td><td>eyJpbmQiOjcxOSwidGltZXN0YW1wIjoiMjAxOC0xMC0yOVQwNDowNToxMiIsImxhdGl0dWRlIjotMzguNDA2MiwibG9uZ2l0dWRlIjotMTU0LjMyMywiY291bnRyeSI6IkFybWVuaWEifQ==</td><td>streaming-0affec486183-geo</td><td>shardId-000000000000</td><td>49654776715983955342252074522718428406531976003101655042</td><td>2024-08-12T17:30:13.366+0000</td></tr><tr><td>partition-geo</td><td>eyJpbmQiOjE3MDQsInRpbWVzdGFtcCI6IjIwMTgtMTEtMjlUMDQ6NDY6MzkiLCJsYXRpdHVkZSI6LTU2Ljg3MDIsImxvbmdpdHVkZSI6LTkzLjYyMzIsImNvdW50cnkiOiJDaHJpc3RtYXMgSXNsYW5kIn0=</td><td>streaming-0affec486183-geo</td><td>shardId-000000000000</td><td>49654776715983955342252074525113310455188556604353019906</td><td>2024-08-12T17:30:15.351+0000</td></tr><tr><td>partition-geo</td><td>eyJpbmQiOjI0ODIsInRpbWVzdGFtcCI6IjIwMTktMDktMTNUMDg6MjA6MTMiLCJsYXRpdHVkZSI6NjMuNDU2MywibG9uZ2l0dWRlIjotMTY0LjcwOSwiY291bnRyeSI6IkJlcm11ZGEifQ==</td><td>streaming-0affec486183-geo</td><td>shardId-000000000000</td><td>49654776715983955342252074527192662864925718922286596098</td><td>2024-08-12T17:30:17.018+0000</td></tr><tr><td>partition-geo</td><td>eyJpbmQiOjg5MzAsInRpbWVzdGFtcCI6IjIwMjEtMDktMjlUMTM6MjU6NDkiLCJsYXRpdHVkZSI6LTg5LjQ3MzksImxvbmdpdHVkZSI6LTE3Ni4xNTQsImNvdW50cnkiOiJBcmdlbnRpbmEifQ==</td><td>streaming-0affec486183-geo</td><td>shardId-000000000000</td><td>49654776715983955342252074529201897577125232679367737346</td><td>2024-08-12T17:30:18.654+0000</td></tr><tr><td>partition-geo</td><td>eyJpbmQiOjcyOTQsInRpbWVzdGFtcCI6IjIwMTgtMDItMTJUMDg6MDY6MjgiLCJsYXRpdHVkZSI6LTc2LjI5NjcsImxvbmdpdHVkZSI6LTEzNi41MDEsImNvdW50cnkiOiJBdXN0cmFsaWEifQ==</td><td>streaming-0affec486183-geo</td><td>shardId-000000000000</td><td>49654776715983955342252074529980445804957053867878514690</td><td>2024-08-12T17:30:19.276+0000</td></tr><tr><td>partition-geo</td><td>eyJpbmQiOjgwOCwidGltZXN0YW1wIjoiMjAxOS0wMS0wM1QxNTo0MzoxMiIsImxhdGl0dWRlIjotNzEuNjg1NiwibG9uZ2l0dWRlIjotMTc5LjEyNiwiY291bnRyeSI6IkFsYmFuaWEifQ==</td><td>streaming-0affec486183-geo</td><td>shardId-000000000000</td><td>49654776715983955342252074530761411884428104452177657858</td><td>2024-08-12T17:30:19.915+0000</td></tr><tr><td>partition-geo</td><td>eyJpbmQiOjc3MSwidGltZXN0YW1wIjoiMjAxOC0wNi0yMVQwODo0Mjo1NyIsImxhdGl0dWRlIjotMjkuMTcxMiwibG9uZ2l0dWRlIjotMTA3LjExMSwiY291bnRyeSI6Ik1vbnRzZXJyYXQifQ==</td><td>streaming-0affec486183-geo</td><td>shardId-000000000000</td><td>49654776715983955342252074532875823142934090947458236418</td><td>2024-08-12T17:30:21.574+0000</td></tr><tr><td>partition-geo</td><td>eyJpbmQiOjQwNzYsInRpbWVzdGFtcCI6IjIwMTktMDYtMDdUMjA6MTM6NTAiLCJsYXRpdHVkZSI6LTY3LjIxNTcsImxvbmdpdHVkZSI6MjcuODEzOSwiY291bnRyeSI6Ik1hdXJpdGFuaWEifQ==</td><td>streaming-0affec486183-geo</td><td>shardId-000000000000</td><td>49654776715983955342252074533706355181009341190481379330</td><td>2024-08-12T17:30:22.225+0000</td></tr><tr><td>partition-geo</td><td>eyJpbmQiOjE1NDUsInRpbWVzdGFtcCI6IjIwMjItMDYtMTdUMDU6NDc6MTIiLCJsYXRpdHVkZSI6LTMwLjE4LCJsb25naXR1ZGUiOi03Mi4zNzg0LCJjb3VudHJ5IjoiQW5ndWlsbGEifQ==</td><td>streaming-0affec486183-geo</td><td>shardId-000000000000</td><td>49654776715983955342252074534574363919492645006639890434</td><td>2024-08-12T17:30:22.857+0000</td></tr><tr><td>partition-geo</td><td>eyJpbmQiOjIyOTMsInRpbWVzdGFtcCI6IjIwMjItMDMtMjFUMTA6NDY6NTMiLCJsYXRpdHVkZSI6LTg3Ljc5NDYsImxvbmdpdHVkZSI6LTE1OS42NDcsImNvdW50cnkiOiJCcml0aXNoIFZpcmdpbiBJc2xhbmRzIn0=</td><td>streaming-0affec486183-geo</td><td>shardId-000000000000</td><td>49654776715983955342252074535267078414131827523746529282</td><td>2024-08-12T17:30:23.467+0000</td></tr><tr><td>partition-geo</td><td>eyJpbmQiOjEwNTA5LCJ0aW1lc3RhbXAiOiIyMDE5LTAzLTA2VDEyOjIxOjU2IiwibGF0aXR1ZGUiOi02Ny4xODcsImxvbmdpdHVkZSI6LTI0LjI5NzcsImNvdW50cnkiOiJHaWJyYWx0YXIifQ==</td><td>streaming-0affec486183-geo</td><td>shardId-000000000000</td><td>49654776715983955342252074536028701680489043972530896898</td><td>2024-08-12T17:30:24.096+0000</td></tr><tr><td>partition-geo</td><td>eyJpbmQiOjIwMTUsInRpbWVzdGFtcCI6IjIwMTgtMDktMjJUMTM6NTI6MTkiLCJsYXRpdHVkZSI6LTE3LjYyOSwibG9uZ2l0dWRlIjotMTc3LjY4NSwiY291bnRyeSI6IkFybWVuaWEifQ==</td><td>streaming-0affec486183-geo</td><td>shardId-000000000000</td><td>49654776715983955342252074536783071391928572577547550722</td><td>2024-08-12T17:30:24.709+0000</td></tr><tr><td>partition-geo</td><td>eyJpbmQiOjEwOTQsInRpbWVzdGFtcCI6IjIwMTgtMDgtMTlUMDA6MzQ6MjAiLCJsYXRpdHVkZSI6LTQ2LjczMjgsImxvbmdpdHVkZSI6LTEyNC40NDUsImNvdW50cnkiOiJBcm1lbmlhIn0=</td><td>streaming-0affec486183-geo</td><td>shardId-000000000000</td><td>49654776715983955342252074539667568397529077994554916866</td><td>2024-08-12T17:30:26.395+0000</td></tr><tr><td>partition-geo</td><td>eyJpbmQiOjYwMywidGltZXN0YW1wIjoiMjAxOS0wNi0yNVQwNToxMzowMSIsImxhdGl0dWRlIjoxNC4wMDgzLCJsb25naXR1ZGUiOi0xNDEuNjAzLCJjb3VudHJ5IjoiTmV0aGVybGFuZHMgQW50aWxsZXMifQ==</td><td>streaming-0affec486183-geo</td><td>shardId-000000000000</td><td>49654776715983955342252074541744502955627010985419603970</td><td>2024-08-12T17:30:28.061+0000</td></tr><tr><td>partition-geo</td><td>eyJpbmQiOjc3NjgsInRpbWVzdGFtcCI6IjIwMTgtMDUtMjVUMjE6MzQ6MTkiLCJsYXRpdHVkZSI6LTg4LjM1NSwibG9uZ2l0dWRlIjotOTYuMDEzMSwiY291bnRyeSI6IkFsZ2VyaWEifQ==</td><td>streaming-0affec486183-geo</td><td>shardId-000000000000</td><td>49654776715983955342252074543817810736266100157479649282</td><td>2024-08-12T17:30:29.660+0000</td></tr><tr><td>partition-geo</td><td>eyJpbmQiOjU2MzAsInRpbWVzdGFtcCI6IjIwMTktMDUtMTJUMTQ6NDM6MTkiLCJsYXRpdHVkZSI6LTE5LjE0MDMsImxvbmdpdHVkZSI6LTE2NC45ODcsImNvdW50cnkiOiJCYWhyYWluIn0=</td><td>streaming-0affec486183-geo</td><td>shardId-000000000000</td><td>49654776715983955342252074545738793863633746053526716418</td><td>2024-08-12T17:30:31.269+0000</td></tr><tr><td>partition-geo</td><td>eyJpbmQiOjg1NzgsInRpbWVzdGFtcCI6IjIwMTgtMDEtMjZUMTk6Mjc6MTEiLCJsYXRpdHVkZSI6MzQuNjQyNywibG9uZ2l0dWRlIjotMTYxLjM5NywiY291bnRyeSI6Ikd1aW5lYS1CaXNzYXUifQ==</td><td>streaming-0affec486183-geo</td><td>shardId-000000000000</td><td>49654776715983955342252074547858040825418191065506119682</td><td>2024-08-12T17:30:32.920+0000</td></tr><tr><td>partition-geo</td><td>eyJpbmQiOjk5MzYsInRpbWVzdGFtcCI6IjIwMTgtMDYtMzBUMjI6MDc6MTMiLCJsYXRpdHVkZSI6LTgyLjE3MTUsImxvbmdpdHVkZSI6LTE0Ny42OTEsImNvdW50cnkiOiJBdXN0cmFsaWEifQ==</td><td>streaming-0affec486183-geo</td><td>shardId-000000000000</td><td>49654776715983955342252074549099607642162415296648839170</td><td>2024-08-12T17:30:33.570+0000</td></tr><tr><td>partition-geo</td><td>eyJpbmQiOjY4NDQsInRpbWVzdGFtcCI6IjIwMjEtMDYtMDZUMjE6NTM6MTEiLCJsYXRpdHVkZSI6LTIyLjY5MTUsImxvbmdpdHVkZSI6NS42OTI0NSwiY291bnRyeSI6Ik5ldyBDYWxlZG9uaWEifQ==</td><td>streaming-0affec486183-geo</td><td>shardId-000000000000</td><td>49654776715983955342252074551134229796573836335118286850</td><td>2024-08-12T17:30:35.188+0000</td></tr><tr><td>partition-geo</td><td>eyJpbmQiOjM0MTksInRpbWVzdGFtcCI6IjIwMjEtMTItMjBUMDU6MDE6NTQiLCJsYXRpdHVkZSI6Ny42MDI5MywibG9uZ2l0dWRlIjotMTA4Ljk3OSwiY291bnRyeSI6IkJodXRhbiJ9</td><td>streaming-0affec486183-geo</td><td>shardId-000000000000</td><td>49654776715983955342252074551990149276860993859529736194</td><td>2024-08-12T17:30:35.784+0000</td></tr><tr><td>partition-geo</td><td>eyJpbmQiOjEyNjgsInRpbWVzdGFtcCI6IjIwMTktMDctMDZUMDQ6MTA6MjkiLCJsYXRpdHVkZSI6LTQxLjc4MDMsImxvbmdpdHVkZSI6LTE3Ny4yMywiY291bnRyeSI6IkFyZ2VudGluYSJ9</td><td>streaming-0affec486183-geo</td><td>shardId-000000000000</td><td>49654776715983955342252074554244795930442277339076231170</td><td>2024-08-12T17:30:37.429+0000</td></tr><tr><td>partition-geo</td><td>eyJpbmQiOjY1NjYsInRpbWVzdGFtcCI6IjIwMjAtMTEtMTlUMTA6MDY6MTMiLCJsYXRpdHVkZSI6LTM5LjIyNSwibG9uZ2l0dWRlIjotNzEuNjU5MywiY291bnRyeSI6IkNhcGUgVmVyZGUifQ==</td><td>streaming-0affec486183-geo</td><td>shardId-000000000000</td><td>49654776715983955342252074556474055141811653605953896450</td><td>2024-08-12T17:30:39.043+0000</td></tr><tr><td>partition-geo</td><td>eyJpbmQiOjE1NTUsInRpbWVzdGFtcCI6IjIwMTctMTItMjRUMTg6NDE6MjMiLCJsYXRpdHVkZSI6LTEuNzA0NiwibG9uZ2l0dWRlIjotNTUuMzMyLCJjb3VudHJ5IjoiQWxnZXJpYSJ9</td><td>streaming-0affec486183-geo</td><td>shardId-000000000000</td><td>49654776715983955342252074558635614507282610776486969346</td><td>2024-08-12T17:30:40.660+0000</td></tr><tr><td>partition-geo</td><td>eyJpbmQiOjM3MjksInRpbWVzdGFtcCI6IjIwMTgtMDEtMTdUMDM6NDM6MzgiLCJsYXRpdHVkZSI6LTI0LjQ3OTMsImxvbmdpdHVkZSI6LTE1MC4xNDUsImNvdW50cnkiOiJUdXJrZXkifQ==</td><td>streaming-0affec486183-geo</td><td>shardId-000000000000</td><td>49654776715983955342252074559593083756417397082854260738</td><td>2024-08-12T17:30:41.288+0000</td></tr><tr><td>partition-geo</td><td>eyJpbmQiOjYzOTgsInRpbWVzdGFtcCI6IjIwMjAtMDEtMTlUMDE6NDk6MDUiLCJsYXRpdHVkZSI6LTMuMjkyNjcsImxvbmdpdHVkZSI6LTE3OS43MjYsImNvdW50cnkiOiJBbGJhbmlhIn0=</td><td>streaming-0affec486183-geo</td><td>shardId-000000000000</td><td>49654776715983955342252074560392183723182667036054519810</td><td>2024-08-12T17:30:41.919+0000</td></tr><tr><td>partition-geo</td><td>eyJpbmQiOjQ2LCJ0aW1lc3RhbXAiOiIyMDE4LTA5LTE1VDA5OjE2OjU3IiwibGF0aXR1ZGUiOjQuMjE2ODksImxvbmdpdHVkZSI6LTE0NS44MiwiY291bnRyeSI6IkFmZ2hhbmlzdGFuIn0=</td><td>streaming-0affec486183-geo</td><td>shardId-000000000000</td><td>49654776715983955342252074562944226128389149292578734082</td><td>2024-08-12T17:30:43.609+0000</td></tr><tr><td>partition-geo</td><td>eyJpbmQiOjQ5ODgsInRpbWVzdGFtcCI6IjIwMjAtMDctMTFUMTE6MDE6MTIiLCJsYXRpdHVkZSI6LTMyLjE4NzksImxvbmdpdHVkZSI6LTM1LjI3ODQsImNvdW50cnkiOiJNYWRhZ2FzY2FyIn0=</td><td>streaming-0affec486183-geo</td><td>shardId-000000000000</td><td>49654776715983955342252074565299213624998446993625841666</td><td>2024-08-12T17:30:45.231+0000</td></tr><tr><td>partition-geo</td><td>eyJpbmQiOjQyNywidGltZXN0YW1wIjoiMjAyMC0wNC0yMlQwMzowODo1MCIsImxhdGl0dWRlIjotNjYuOTQxOCwibG9uZ2l0dWRlIjotMzAuMDA4NywiY291bnRyeSI6IklzbGUgb2YgTWFuIn0=</td><td>streaming-0affec486183-geo</td><td>shardId-000000000000</td><td>49654776715983955342252074566166013437662136180609646594</td><td>2024-08-12T17:30:45.843+0000</td></tr><tr><td>partition-geo</td><td>eyJpbmQiOjM4MDAsInRpbWVzdGFtcCI6IjIwMTgtMDEtMjdUMTY6NDk6MDciLCJsYXRpdHVkZSI6LTYxLjQ3MSwibG9uZ2l0dWRlIjotMTU0LjkxMiwiY291bnRyeSI6IkFydWJhIn0=</td><td>streaming-0affec486183-geo</td><td>shardId-000000000000</td><td>49654776715983955342252074568425495794521878245574443010</td><td>2024-08-12T17:30:47.473+0000</td></tr><tr><td>partition-geo</td><td>eyJpbmQiOjE1OSwidGltZXN0YW1wIjoiMjAxNy0xMS0yMFQyMToxNDo1NiIsImxhdGl0dWRlIjotODguMDgxMiwibG9uZ2l0dWRlIjotMTY2LjYwMywiY291bnRyeSI6IkFuZG9ycmEifQ==</td><td>streaming-0affec486183-geo</td><td>shardId-000000000000</td><td>49654776715983955342252074571023477380873716479456968706</td><td>2024-08-12T17:30:49.138+0000</td></tr><tr><td>partition-geo</td><td>eyJpbmQiOjM1OTksInRpbWVzdGFtcCI6IjIwMTktMDMtMDNUMDY6MTM6NDEiLCJsYXRpdHVkZSI6LTg4LjU0NzgsImxvbmdpdHVkZSI6LTE3NC45NzEsImNvdW50cnkiOiJBZmdoYW5pc3RhbiJ9</td><td>streaming-0affec486183-geo</td><td>shardId-000000000000</td><td>49654776715983955342252074571972484149271200381601316866</td><td>2024-08-12T17:30:49.760+0000</td></tr><tr><td>partition-geo</td><td>eyJpbmQiOjEwNTUyLCJ0aW1lc3RhbXAiOiIyMDIwLTA4LTI0VDExOjM5OjMyIiwibGF0aXR1ZGUiOjMyLjc1NjgsImxvbmdpdHVkZSI6LTE3OS44MTIsImNvdW50cnkiOiJHcmVuYWRhIn0=</td><td>streaming-0affec486183-geo</td><td>shardId-000000000000</td><td>49654776715983955342252074574287577093833215319883120642</td><td>2024-08-12T17:30:51.371+0000</td></tr><tr><td>partition-geo</td><td>eyJpbmQiOjE0MjIsInRpbWVzdGFtcCI6IjIwMTgtMDQtMzBUMDg6Mjc6MjEiLCJsYXRpdHVkZSI6LTg4LjUyNTIsImxvbmdpdHVkZSI6LTE3Mi40MzYsImNvdW50cnkiOiJBbWVyaWNhbiBTYW1vYSJ9</td><td>streaming-0affec486183-geo</td><td>shardId-000000000000</td><td>49654776715983955342252074575333297927799869693442916354</td><td>2024-08-12T17:30:52.047+0000</td></tr><tr><td>partition-geo</td><td>eyJpbmQiOjUzMDksInRpbWVzdGFtcCI6IjIwMjAtMDUtMDRUMjI6MDA6MzIiLCJsYXRpdHVkZSI6LTg5LjQxOTQsImxvbmdpdHVkZSI6LTg0LjI0OTMsImNvdW50cnkiOiJNYWxkaXZlcyJ9</td><td>streaming-0affec486183-geo</td><td>shardId-000000000000</td><td>49654776715983955342252074577710046089162230719634735106</td><td>2024-08-12T17:30:53.699+0000</td></tr><tr><td>partition-geo</td><td>eyJpbmQiOjU1MiwidGltZXN0YW1wIjoiMjAyMi0wMy0xNFQwNToxMjowNyIsImxhdGl0dWRlIjotODAuNjA0MywibG9uZ2l0dWRlIjozMS45NjAxLCJjb3VudHJ5IjoiTGVzb3RobyJ9</td><td>streaming-0affec486183-geo</td><td>shardId-000000000000</td><td>49654776715983955342252074580355175782479039422611324930</td><td>2024-08-12T17:30:55.380+0000</td></tr><tr><td>partition-geo</td><td>eyJpbmQiOjEzNzEsInRpbWVzdGFtcCI6IjIwMTgtMDgtMDhUMDQ6NDE6MTciLCJsYXRpdHVkZSI6LTg5LjQ1ODQsImxvbmdpdHVkZSI6LTEzNC4yNzEsImNvdW50cnkiOiJBbmRvcnJhIn0=</td><td>streaming-0affec486183-geo</td><td>shardId-000000000000</td><td>49654776715983955342252074581340450325464962268716335106</td><td>2024-08-12T17:30:56.014+0000</td></tr><tr><td>partition-geo</td><td>eyJpbmQiOjEwMTE5LCJ0aW1lc3RhbXAiOiIyMDIwLTEwLTIyVDAxOjU5OjU4IiwibGF0aXR1ZGUiOi03NC41NDMxLCJsb25naXR1ZGUiOi0xNjIuNzk1LCJjb3VudHJ5IjoiQ2hyaXN0bWFzIElzbGFuZCJ9</td><td>streaming-0affec486183-geo</td><td>shardId-000000000000</td><td>49654776715983955342252074582261651800011309768561917954</td><td>2024-08-12T17:30:56.640+0000</td></tr><tr><td>partition-geo</td><td>eyJpbmQiOjkwNzQsInRpbWVzdGFtcCI6IjIwMjItMDQtMTBUMTc6MDY6MTMiLCJsYXRpdHVkZSI6LTg0LjczNjMsImxvbmdpdHVkZSI6LTE3OS4wODcsImNvdW50cnkiOiJBbmRvcnJhIn0=</td><td>streaming-0affec486183-geo</td><td>shardId-000000000000</td><td>49654776715983955342252074584600923260965617359057321986</td><td>2024-08-12T17:30:58.290+0000</td></tr><tr><td>partition-geo</td><td>eyJpbmQiOjI2MDQsInRpbWVzdGFtcCI6IjIwMTgtMTItMDFUMDk6MjM6MzUiLCJsYXRpdHVkZSI6LTgwLjg5MzMsImxvbmdpdHVkZSI6LTEwNC45NzIsImNvdW50cnkiOiJBbnRpZ3VhIGFuZCBCYXJidWRhIn0=</td><td>streaming-0affec486183-geo</td><td>shardId-000000000000</td><td>49654776715983955342252074585587406729771154834337038338</td><td>2024-08-12T17:30:58.949+0000</td></tr><tr><td>partition-geo</td><td>eyJpbmQiOjIyMywidGltZXN0YW1wIjoiMjAxOC0xMi0wN1QwNzozMDo0MCIsImxhdGl0dWRlIjoxLjE1NTA5LCJsb25naXR1ZGUiOi0xMTguMzk3LCJjb3VudHJ5IjoiSXNsZSBvZiBNYW4ifQ==</td><td>streaming-0affec486183-geo</td><td>shardId-000000000000</td><td>49654776715983955342252074586508608204317502265463144450</td><td>2024-08-12T17:30:59.575+0000</td></tr><tr><td>partition-geo</td><td>eyJpbmQiOjgzMTIsInRpbWVzdGFtcCI6IjIwMjEtMDQtMjVUMTU6NTY6MjkiLCJsYXRpdHVkZSI6LTc3Ljk3NDQsImxvbmdpdHVkZSI6LTEwNi4yNTgsImNvdW50cnkiOiJBbWVyaWNhbiBTYW1vYSJ9</td><td>streaming-0affec486183-geo</td><td>shardId-000000000000</td><td>49654776715983955342252074588849088591091424416413777922</td><td>2024-08-12T17:31:01.224+0000</td></tr><tr><td>partition-geo</td><td>eyJpbmQiOjI4NTgsInRpbWVzdGFtcCI6IjIwMTgtMDUtMDNUMTM6Mjc6MDkiLCJsYXRpdHVkZSI6LTY1LjE1NjUsImxvbmdpdHVkZSI6LTE2Ni44MDcsImNvdW50cnkiOiJBcmdlbnRpbmEifQ==</td><td>streaming-0affec486183-geo</td><td>shardId-000000000000</td><td>49654776715983955342252074591144838722539605356619759618</td><td>2024-08-12T17:31:02.851+0000</td></tr><tr><td>partition-geo</td><td>eyJpbmQiOjYyNjEsInRpbWVzdGFtcCI6IjIwMjEtMTEtMTFUMTY6MTg6NDUiLCJsYXRpdHVkZSI6LTEwLjMxMDEsImxvbmdpdHVkZSI6LTEwOS43NjMsImNvdW50cnkiOiJNYXJzaGFsbCBJc2xhbmRzIn0=</td><td>streaming-0affec486183-geo</td><td>shardId-000000000000</td><td>49654776715983955342252074593469603073658537397018689538</td><td>2024-08-12T17:31:04.498+0000</td></tr><tr><td>partition-geo</td><td>eyJpbmQiOjMyMDEsInRpbWVzdGFtcCI6IjIwMTktMDYtMjVUMDg6MzE6MzciLCJsYXRpdHVkZSI6MzQuMDUzMiwibG9uZ2l0dWRlIjotNjguNDk0NiwiY291bnRyeSI6IlBpdGNhaXJuIElzbGFuZHMifQ==</td><td>streaming-0affec486183-geo</td><td>shardId-000000000000</td><td>49654776715983955342252074595819754866989376650086449154</td><td>2024-08-12T17:31:06.112+0000</td></tr><tr><td>partition-geo</td><td>eyJpbmQiOjI2MzcsInRpbWVzdGFtcCI6IjIwMjItMTAtMTVUMTM6MjU6NTEiLCJsYXRpdHVkZSI6My4wMDMzLCJsb25naXR1ZGUiOi05Ni40OTA0LCJjb3VudHJ5IjoiVHVuaXNpYSJ9</td><td>streaming-0affec486183-geo</td><td>shardId-000000000000</td><td>49654776715983955342252074596710733196045358351844900866</td><td>2024-08-12T17:31:06.732+0000</td></tr><tr><td>partition-geo</td><td>eyJpbmQiOjExOTgsInRpbWVzdGFtcCI6IjIwMjAtMDEtMjRUMjM6NDI6MTgiLCJsYXRpdHVkZSI6Ni4zNzIwNywibG9uZ2l0dWRlIjotMTUwLjczLCJjb3VudHJ5IjoiRmlubGFuZCJ9</td><td>streaming-0affec486183-geo</td><td>shardId-000000000000</td><td>49654776715983955342252074598956917368889339427168452610</td><td>2024-08-12T17:31:08.344+0000</td></tr><tr><td>partition-geo</td><td>eyJpbmQiOjEwMzcwLCJ0aW1lc3RhbXAiOiIyMDE4LTA3LTI5VDE1OjUzOjQwIiwibGF0aXR1ZGUiOi04MS45Nzk4LCJsb25naXR1ZGUiOi03MS45MzIsImNvdW50cnkiOiJGaW5sYW5kIn0=</td><td>streaming-0affec486183-geo</td><td>shardId-000000000000</td><td>49654776715983955342252074601161998063866423179271471106</td><td>2024-08-12T17:31:10.029+0000</td></tr><tr><td>partition-geo</td><td>eyJpbmQiOjcxNjcsInRpbWVzdGFtcCI6IjIwMTktMTItMjdUMjA6NDU6MDQiLCJsYXRpdHVkZSI6LTU1Ljc1NywibG9uZ2l0dWRlIjotMTU3LjU3MiwiY291bnRyeSI6IkVjdWFkb3IifQ==</td><td>streaming-0affec486183-geo</td><td>shardId-000000000000</td><td>49654776715983955342252074602033633579808570951673577474</td><td>2024-08-12T17:31:10.678+0000</td></tr><tr><td>partition-geo</td><td>eyJpbmQiOjEwNjczLCJ0aW1lc3RhbXAiOiIyMDIxLTA2LTMwVDA4OjQ3OjAxIiwibGF0aXR1ZGUiOjM3LjE5OTEsImxvbmdpdHVkZSI6LTMyLjE3MTMsImNvdW50cnkiOiJOaWNhcmFndWEifQ==</td><td>streaming-0affec486183-geo</td><td>shardId-000000000000</td><td>49654776715983955342252074602853285285507289532124364802</td><td>2024-08-12T17:31:11.304+0000</td></tr><tr><td>partition-geo</td><td>eyJpbmQiOjIwNjAsInRpbWVzdGFtcCI6IjIwMjAtMDEtMjVUMTM6NTQ6MTciLCJsYXRpdHVkZSI6NTIuNDU4NCwibG9uZ2l0dWRlIjo2OC42NTI3LCJjb3VudHJ5IjoiVHJpbmlkYWQgYW5kIFRvYmFnbyJ9</td><td>streaming-0affec486183-geo</td><td>shardId-000000000000</td><td>49654776715983955342252074604987039357127110094200242178</td><td>2024-08-12T17:31:12.955+0000</td></tr><tr><td>partition-geo</td><td>eyJpbmQiOjk0ODcsInRpbWVzdGFtcCI6IjIwMTgtMTItMThUMTE6MTY6NTIiLCJsYXRpdHVkZSI6LTc2Ljk1MzIsImxvbmdpdHVkZSI6LTExMy42NDEsImNvdW50cnkiOiJDYW5hZGEifQ==</td><td>streaming-0affec486183-geo</td><td>shardId-000000000000</td><td>49654776715983955342252074605809108914465058001719918594</td><td>2024-08-12T17:31:13.557+0000</td></tr><tr><td>partition-geo</td><td>eyJpbmQiOjc3MiwidGltZXN0YW1wIjoiMjAyMi0wOS0yMlQwNTo1OTo1NSIsImxhdGl0dWRlIjoyNS4wNzA4LCJsb25naXR1ZGUiOi05Ny4xOTY0LCJjb3VudHJ5IjoiTW9uYWNvIn0=</td><td>streaming-0affec486183-geo</td><td>shardId-000000000000</td><td>49654776715983955342252074606533255480414220877368918018</td><td>2024-08-12T17:31:14.189+0000</td></tr><tr><td>partition-geo</td><td>eyJpbmQiOjc1MTAsInRpbWVzdGFtcCI6IjIwMjEtMTItMjFUMDE6Mzc6MjUiLCJsYXRpdHVkZSI6LTc5Ljk4MjgsImxvbmdpdHVkZSI6LTE3Mi4yMzUsImNvdW50cnkiOiJBcnViYSJ9</td><td>streaming-0affec486183-geo</td><td>shardId-000000000000</td><td>49654776715983955342252074608600518631955236972274909186</td><td>2024-08-12T17:31:15.887+0000</td></tr><tr><td>partition-geo</td><td>eyJpbmQiOjU3NTgsInRpbWVzdGFtcCI6IjIwMTgtMDktMTJUMTU6MDg6MzQiLCJsYXRpdHVkZSI6LTc5LjM3MTQsImxvbmdpdHVkZSI6LTE0NS4yNDIsImNvdW50cnkiOiJBemVyYmFpamFuIn0=</td><td>streaming-0affec486183-geo</td><td>shardId-000000000000</td><td>49654776715983955342252074610598873011778219066783694850</td><td>2024-08-12T17:31:17.507+0000</td></tr><tr><td>partition-geo</td><td>eyJpbmQiOjExMzcsInRpbWVzdGFtcCI6IjIwMjAtMTItMjZUMDA6NTY6MDQiLCJsYXRpdHVkZSI6MTIuMjU0NCwibG9uZ2l0dWRlIjoxMC43MzYxLCJjb3VudHJ5IjoiU2V5Y2hlbGxlcyJ9</td><td>streaming-0affec486183-geo</td><td>shardId-000000000000</td><td>49654776715983955342252074611396764052723874390809247746</td><td>2024-08-12T17:31:18.139+0000</td></tr><tr><td>partition-geo</td><td>eyJpbmQiOjcyMzQsInRpbWVzdGFtcCI6IjIwMTctMTAtMjFUMTQ6MzE6MDIiLCJsYXRpdHVkZSI6LTg2LjQ3OTEsImxvbmdpdHVkZSI6LTE2OS41NDcsImNvdW50cnkiOiJBbGdlcmlhIn0=</td><td>streaming-0affec486183-geo</td><td>shardId-000000000000</td><td>49654776715983955342252074612250265681371802588151808002</td><td>2024-08-12T17:31:18.762+0000</td></tr><tr><td>partition-geo</td><td>eyJpbmQiOjMyNywidGltZXN0YW1wIjoiMjAyMi0wMi0wOVQwMzowMzo1OCIsImxhdGl0dWRlIjo2Mi4zNjc0LCJsb25naXR1ZGUiOjEwMC45NzIsImNvdW50cnkiOiJHaWJyYWx0YXIifQ==</td><td>streaming-0affec486183-geo</td><td>shardId-000000000000</td><td>49654776715983955342252074614379184049713164633528860674</td><td>2024-08-12T17:31:20.436+0000</td></tr><tr><td>partition-geo</td><td>eyJpbmQiOjc4NzQsInRpbWVzdGFtcCI6IjIwMjItMDEtMThUMDg6NTg6NDkiLCJsYXRpdHVkZSI6LTg5LjUxNzMsImxvbmdpdHVkZSI6LTE3OS42ODksImNvdW50cnkiOiJBbGdlcmlhIn0=</td><td>streaming-0affec486183-geo</td><td>shardId-000000000000</td><td>49654776715983955342252074615216969642706102720319717378</td><td>2024-08-12T17:31:21.099+0000</td></tr><tr><td>partition-geo</td><td>eyJpbmQiOjE0NTAsInRpbWVzdGFtcCI6IjIwMjItMDEtMTVUMTY6MDQ6MjciLCJsYXRpdHVkZSI6LTg4LjUyNTIsImxvbmdpdHVkZSI6LTE3Mi40MzYsImNvdW50cnkiOiJBbWVyaWNhbiBTYW1vYSJ9</td><td>streaming-0affec486183-geo</td><td>shardId-000000000000</td><td>49654776715983955342252074615982219686522163125347680258</td><td>2024-08-12T17:31:21.680+0000</td></tr><tr><td>partition-geo</td><td>eyJpbmQiOjEwMjQ1LCJ0aW1lc3RhbXAiOiIyMDIwLTAzLTAzVDE1OjM5OjQ0IiwibGF0aXR1ZGUiOi01MC4xODM1LCJsb25naXR1ZGUiOjE0Ni43NzYsImNvdW50cnkiOiJCYWhhbWFzIn0=</td><td>streaming-0affec486183-geo</td><td>shardId-000000000000</td><td>49654776715983955342252074618022886470031657240971182082</td><td>2024-08-12T17:31:23.324+0000</td></tr><tr><td>partition-geo</td><td>eyJpbmQiOjkwOTMsInRpbWVzdGFtcCI6IjIwMjEtMDctMjRUMjM6MDc6MDYiLCJsYXRpdHVkZSI6LTg3Ljc3NjQsImxvbmdpdHVkZSI6LTE1MS42NDUsImNvdW50cnkiOiJBdXN0cmlhIn0=</td><td>streaming-0affec486183-geo</td><td>shardId-000000000000</td><td>49654776715983955342252074618902984466711107280157278210</td><td>2024-08-12T17:31:23.957+0000</td></tr><tr><td>partition-geo</td><td>eyJpbmQiOjIzMDEsInRpbWVzdGFtcCI6IjIwMjAtMTEtMTRUMDA6MjU6MjgiLCJsYXRpdHVkZSI6MTMuNDY4MywibG9uZ2l0dWRlIjo1MS43MjQ0LCJjb3VudHJ5IjoiU2FpbnQgVmluY2VudCBhbmQgdGhlIEdyZW5hZGluZXM= (truncated)</td><td>streaming-0affec486183-geo</td><td>shardId-000000000000</td><td>49654776715983955342252074619654936326511406695543996418</td><td>2024-08-12T17:31:24.580+0000</td></tr><tr><td>partition-geo</td><td>eyJpbmQiOjI3ODgsInRpbWVzdGFtcCI6IjIwMTktMTItMThUMDM6MDQ6NDEiLCJsYXRpdHVkZSI6LTM2LjA3NiwibG9uZ2l0dWRlIjotOTQuMTc3OSwiY291bnRyeSI6IkRqaWJvdXRpIn0=</td><td>streaming-0affec486183-geo</td><td>shardId-000000000000</td><td>49654776715983955342252074620457663070735520467548897282</td><td>2024-08-12T17:31:25.200+0000</td></tr><tr><td>partition-geo</td><td>eyJpbmQiOjkyNjgsInRpbWVzdGFtcCI6IjIwMjAtMDMtMTZUMjM6MTM6NTEiLCJsYXRpdHVkZSI6LTg4LjUyNTUsImxvbmdpdHVkZSI6LTE2MS42NDQsImNvdW50cnkiOiJBbWVyaWNhbiBTYW1vYSJ9</td><td>streaming-0affec486183-geo</td><td>shardId-000000000000</td><td>49654776715983955342252074622676041949728365209293160450</td><td>2024-08-12T17:31:26.867+0000</td></tr><tr><td>partition-geo</td><td>eyJpbmQiOjE3MDYsInRpbWVzdGFtcCI6IjIwMTctMTEtMjRUMjM6MzY6NDYiLCJsYXRpdHVkZSI6LTcxLjUwMjUsImxvbmdpdHVkZSI6LTE3OS4yNTcsImNvdW50cnkiOiJBcnViYSJ9</td><td>streaming-0affec486183-geo</td><td>shardId-000000000000</td><td>49654776715983955342252074624807378169708956513019625474</td><td>2024-08-12T17:31:28.539+0000</td></tr><tr><td>partition-geo</td><td>eyJpbmQiOjUyOTMsInRpbWVzdGFtcCI6IjIwMTktMDUtMzFUMjA6NDk6MzYiLCJsYXRpdHVkZSI6LTEzLjE0NjMsImxvbmdpdHVkZSI6LTI1Ljk2NDksImNvdW50cnkiOiJTYW8gVG9tZSBhbmQgUHJpbmNpcGUifQ==</td><td>streaming-0affec486183-geo</td><td>shardId-000000000000</td><td>49654776715983955342252074627124888965910200709650841602</td><td>2024-08-12T17:31:30.173+0000</td></tr><tr><td>partition-geo</td><td>eyJpbmQiOjc3MzMsInRpbWVzdGFtcCI6IjIwMjItMDktMjlUMTA6NDU6MTkiLCJsYXRpdHVkZSI6LTg5LjUxNzMsImxvbmdpdHVkZSI6LTE3OS42ODksImNvdW50cnkiOiJBbGdlcmlhIn0=</td><td>streaming-0affec486183-geo</td><td>shardId-000000000000</td><td>49654776715983955342252074628024329775703484884351713282</td><td>2024-08-12T17:31:30.792+0000</td></tr><tr><td>partition-geo</td><td>eyJpbmQiOjM3MTYsInRpbWVzdGFtcCI6IjIwMTgtMTItMzFUMjA6NDM6NDIiLCJsYXRpdHVkZSI6MzIuNjY0OCwibG9uZ2l0dWRlIjotMTYuMDU3OCwiY291bnRyeSI6IkxpdGh1YW5pYSJ9</td><td>streaming-0affec486183-geo</td><td>shardId-000000000000</td><td>49654776715983955342252074630587252513286498803448283138</td><td>2024-08-12T17:31:32.430+0000</td></tr><tr><td>partition-geo</td><td>eyJpbmQiOjM3NTAsInRpbWVzdGFtcCI6IjIwMjItMDktMDNUMjM6MzY6MDgiLCJsYXRpdHVkZSI6LTczLjg4MzcsImxvbmdpdHVkZSI6LTE1OS4wNTQsImNvdW50cnkiOiJDb21vcm9zIn0=</td><td>streaming-0affec486183-geo</td><td>shardId-000000000000</td><td>49654776715983955342252074633381080082415907032352686082</td><td>2024-08-12T17:31:34.055+0000</td></tr><tr><td>partition-geo</td><td>eyJpbmQiOjIzMiwidGltZXN0YW1wIjoiMjAxOS0wMi0xOFQwMzozODo0NyIsImxhdGl0dWRlIjo2LjYwOTEyLCJsb25naXR1ZGUiOi0xNzMuNjA5LCJjb3VudHJ5IjoiVGFuemFuaWEifQ==</td><td>streaming-0affec486183-geo</td><td>shardId-000000000000</td><td>49654776715983955342252074634444934803676780706094120962</td><td>2024-08-12T17:31:34.698+0000</td></tr><tr><td>partition-geo</td><td>eyJpbmQiOjgzMDAsInRpbWVzdGFtcCI6IjIwMTgtMDItMTRUMjM6NTA6MTAiLCJsYXRpdHVkZSI6LTY0LjUyNTksImxvbmdpdHVkZSI6MTkuNzA0OSwiY291bnRyeSI6IkNoaWxlIn0=</td><td>streaming-0affec486183-geo</td><td>shardId-000000000000</td><td>49654776715983955342252074635491864563463049640109146114</td><td>2024-08-12T17:31:35.292+0000</td></tr><tr><td>partition-geo</td><td>eyJpbmQiOjg5NzgsInRpbWVzdGFtcCI6IjIwMTctMTItMDFUMTM6MjY6MDYiLCJsYXRpdHVkZSI6LTIuMDE0OTksImxvbmdpdHVkZSI6My43ODE5OCwiY291bnRyeSI6IkZhcm9lIElzbGFuZHMifQ==</td><td>streaming-0affec486183-geo</td><td>shardId-000000000000</td><td>49654776715983955342252074636570226394559298863947055106</td><td>2024-08-12T17:31:35.915+0000</td></tr><tr><td>partition-geo</td><td>eyJpbmQiOjIwNDgsInRpbWVzdGFtcCI6IjIwMTctMTEtMjBUMDY6MzM6NTAiLCJsYXRpdHVkZSI6LTg5LjQwMDgsImxvbmdpdHVkZSI6LTE0Mi4xODYsImNvdW50cnkiOiJBbnRpZ3VhIGFuZCBCYXJidWRhIn0=</td><td>streaming-0affec486183-geo</td><td>shardId-000000000000</td><td>49654776715983955342252074637700572035898977211016806402</td><td>2024-08-12T17:31:36.556+0000</td></tr><tr><td>partition-geo</td><td>eyJpbmQiOjEwMzM3LCJ0aW1lc3RhbXAiOiIyMDIxLTEwLTI2VDEyOjA5OjQzIiwibGF0aXR1ZGUiOi00Mi4zMDY5LCJsb25naXR1ZGUiOi0xMDkuMTcsImNvdW50cnkiOiJDaHJpc3RtYXMgSXNsYW5kIn0=</td><td>streaming-0affec486183-geo</td><td>shardId-000000000000</td><td>49654776715983955342252074640462967533718404943939895298</td><td>2024-08-12T17:31:38.220+0000</td></tr><tr><td>partition-geo</td><td>eyJpbmQiOjc4MzIsInRpbWVzdGFtcCI6IjIwMjItMDItMTRUMTM6NDc6MjQiLCJsYXRpdHVkZSI6LTUzLjg2MjksImxvbmdpdHVkZSI6OTEuODEzNiwiY291bnRyeSI6IklzcmFlbCJ9</td><td>streaming-0affec486183-geo</td><td>shardId-000000000000</td><td>49654776715983955342252074641483300925473152104830861314</td><td>2024-08-12T17:31:38.857+0000</td></tr><tr><td>partition-geo</td><td>eyJpbmQiOjgzNjYsInRpbWVzdGFtcCI6IjIwMTgtMDMtMjhUMTQ6MTc6MTEiLCJsYXRpdHVkZSI6LTM4LjUzMTgsImxvbmdpdHVkZSI6LTEzOS4yMTUsImNvdW50cnkiOiJLdXdhaXQifQ==</td><td>streaming-0affec486183-geo</td><td>shardId-000000000000</td><td>49654776715983955342252074643993030926993122340240359426</td><td>2024-08-12T17:31:40.502+0000</td></tr><tr><td>partition-geo</td><td>eyJpbmQiOjMzMzQsInRpbWVzdGFtcCI6IjIwMTktMDktMjZUMjA6MTM6NDgiLCJsYXRpdHVkZSI6LTg5LjA2MDksImxvbmdpdHVkZSI6LTE3MC45MDQsImNvdW50cnkiOiJBbmd1aWxsYSJ9</td><td>streaming-0affec486183-geo</td><td>shardId-000000000000</td><td>49654776715983955342252074646837633380546344857043468290</td><td>2024-08-12T17:31:42.130+0000</td></tr><tr><td>partition-geo</td><td>eyJpbmQiOjc3OCwidGltZXN0YW1wIjoiMjAxOC0xMC0xOVQxNDo0MzozOSIsImxhdGl0dWRlIjo0OC4yNzA0LCJsb25naXR1ZGUiOi0xMjMuMDczLCJjb3VudHJ5IjoiR3VhdGVtYWxhIn0=</td><td>streaming-0affec486183-geo</td><td>shardId-000000000000</td><td>49654776715983955342252074650205700713992701943933304834</td><td>2024-08-12T17:31:43.801+0000</td></tr><tr><td>partition-geo</td><td>eyJpbmQiOjQ4MCwidGltZXN0YW1wIjoiMjAxOS0wMi0wOFQwMzozNDo1OCIsImxhdGl0dWRlIjotMzAuNzE1OCwibG9uZ2l0dWRlIjotMTY3LjQ2MSwiY291bnRyeSI6Ik1vemFtYmlxdWUifQ==</td><td>streaming-0affec486183-geo</td><td>shardId-000000000000</td><td>49654776715983955342252074653335609660974976945967071234</td><td>2024-08-12T17:31:45.446+0000</td></tr><tr><td>partition-geo</td><td>eyJpbmQiOjMwMTEsInRpbWVzdGFtcCI6IjIwMTktMTItMTdUMTc6NDY6MTgiLCJsYXRpdHVkZSI6LTc2LjQ2NzUsImxvbmdpdHVkZSI6MjguODA1NCwiY291bnRyeSI6Ikt1d2FpdCJ9</td><td>streaming-0affec486183-geo</td><td>shardId-000000000000</td><td>49654776715983955342252074654447821415020435855416229890</td><td>2024-08-12T17:31:46.073+0000</td></tr><tr><td>partition-geo</td><td>eyJpbmQiOjk0NzUsInRpbWVzdGFtcCI6IjIwMTktMDMtMTlUMDg6MjY6MzUiLCJsYXRpdHVkZSI6LTg0LjE5NTMsImxvbmdpdHVkZSI6MTY0LjM2MiwiY291bnRyeSI6IlBhbmFtYSJ9</td><td>streaming-0affec486183-geo</td><td>shardId-000000000000</td><td>49654776715983955342252074655702686415780420938761240578</td><td>2024-08-12T17:31:46.720+0000</td></tr><tr><td>partition-geo</td><td>eyJpbmQiOjc1ODYsInRpbWVzdGFtcCI6IjIwMjEtMDItMDdUMjI6MTc6MzEiLCJsYXRpdHVkZSI6LTg0LjczNjMsImxvbmdpdHVkZSI6LTE3OS4wODcsImNvdW50cnkiOiJBbmRvcnJhIn0=</td><td>streaming-0affec486183-geo</td><td>shardId-000000000000</td><td>49654776715983955342252074657088115405058786041693995010</td><td>2024-08-12T17:31:47.360+0000</td></tr><tr><td>partition-geo</td><td>eyJpbmQiOjE4NjQsInRpbWVzdGFtcCI6IjIwMjAtMDQtMjRUMTc6MDg6MTMiLCJsYXRpdHVkZSI6LTcyLjM5NTgsImxvbmdpdHVkZSI6LTE2NC40MTQsImNvdW50cnkiOiJBbGdlcmlhIn0=</td><td>streaming-0affec486183-geo</td><td>shardId-000000000000</td><td>49654776715983955342252074658436067693929097571491381250</td><td>2024-08-12T17:31:48.021+0000</td></tr><tr><td>partition-geo</td><td>eyJpbmQiOjYwMTQsInRpbWVzdGFtcCI6IjIwMTktMDQtMzBUMTI6MzM6MTMiLCJsYXRpdHVkZSI6LTI2LjYwMjYsImxvbmdpdHVkZSI6MTU1LjIwNiwiY291bnRyeSI6IkZyZW5jaCBTb3V0aGVybiBUZXJyaXRvcmllcyJ9</td><td>streaming-0affec486183-geo</td><td>shardId-000000000000</td><td>49654776715983955342252074659846884125419369887092965378</td><td>2024-08-12T17:31:48.683+0000</td></tr><tr><td>partition-geo</td><td>eyJpbmQiOjE5NjcsInRpbWVzdGFtcCI6IjIwMjEtMDItMDVUMTA6Mzc6MjgiLCJsYXRpdHVkZSI6MzIuNzQsImxvbmdpdHVkZSI6LTE3OS41ODEsImNvdW50cnkiOiJBdXN0cmFsaWEifQ==</td><td>streaming-0affec486183-geo</td><td>shardId-000000000000</td><td>49654776715983955342252074663489377619918247727921627138</td><td>2024-08-12T17:31:50.308+0000</td></tr><tr><td>partition-geo</td><td>eyJpbmQiOjE2OTksInRpbWVzdGFtcCI6IjIwMjItMDctMDNUMTM6MjU6NDgiLCJsYXRpdHVkZSI6LTU0LjM3MDYsImxvbmdpdHVkZSI6LTEyNy43ODMsImNvdW50cnkiOiJDYW5hZGEifQ==</td><td>streaming-0affec486183-geo</td><td>shardId-000000000000</td><td>49654776715983955342252074666471797616907537970641240066</td><td>2024-08-12T17:31:51.931+0000</td></tr><tr><td>partition-geo</td><td>eyJpbmQiOjQ5OTYsInRpbWVzdGFtcCI6IjIwMTktMDQtMTZUMjM6NDk6NDIiLCJsYXRpdHVkZSI6MzkuOTYyNSwibG9uZ2l0dWRlIjotMTE4LjU2OSwiY291bnRyeSI6IlBvbGFuZCJ9</td><td>streaming-0affec486183-geo</td><td>shardId-000000000000</td><td>49654776715983955342252074668946468769658684028703735810</td><td>2024-08-12T17:31:53.574+0000</td></tr><tr><td>partition-geo</td><td>eyJpbmQiOjEwMTY4LCJ0aW1lc3RhbXAiOiIyMDE5LTEwLTE0VDAwOjE5OjMzIiwibGF0aXR1ZGUiOi0xNC43MjExLCJsb25naXR1ZGUiOjEzNy44MTIsImNvdW50cnkiOiJOb3J3YXkifQ==</td><td>streaming-0affec486183-geo</td><td>shardId-000000000000</td><td>49654776715983955342252074671406632812574454536669757442</td><td>2024-08-12T17:31:55.194+0000</td></tr><tr><td>partition-geo</td><td>eyJpbmQiOjUzMzMsInRpbWVzdGFtcCI6IjIwMjEtMDEtMjBUMDg6MTA6MDgiLCJsYXRpdHVkZSI6LTg2LjY2NTIsImxvbmdpdHVkZSI6LTE3My44OTgsImNvdW50cnkiOiJDcm9hdGlhIn0=</td><td>streaming-0affec486183-geo</td><td>shardId-000000000000</td><td>49654776715983955342252074672290357586712748532099448834</td><td>2024-08-12T17:31:55.817+0000</td></tr><tr><td>partition-geo</td><td>eyJpbmQiOjI1NjUsInRpbWVzdGFtcCI6IjIwMjItMDItMDZUMTM6NDI6MzUiLCJsYXRpdHVkZSI6LTg3LjQ5OTIsImxvbmdpdHVkZSI6LTE3Ny4zMzYsImNvdW50cnkiOiJCdWxnYXJpYSJ9</td><td>streaming-0affec486183-geo</td><td>shardId-000000000000</td><td>49654776715983955342252074673251453613306378725990858754</td><td>2024-08-12T17:31:56.457+0000</td></tr><tr><td>partition-geo</td><td>eyJpbmQiOjk3NzgsInRpbWVzdGFtcCI6IjIwMjAtMDgtMjRUMTQ6MjQ6NDIiLCJsYXRpdHVkZSI6ODUuMjM0MywibG9uZ2l0dWRlIjoxMjYuNjI4LCJjb3VudHJ5IjoiR3VhbSJ9</td><td>streaming-0affec486183-geo</td><td>shardId-000000000000</td><td>49654776715983955342252074675587098296801842428962144258</td><td>2024-08-12T17:31:58.114+0000</td></tr><tr><td>partition-geo</td><td>eyJpbmQiOjMxNDUsInRpbWVzdGFtcCI6IjIwMjItMDYtMThUMjI6NDY6MjYiLCJsYXRpdHVkZSI6LTU3LjU5ODEsImxvbmdpdHVkZSI6LTE5Ljg5MzIsImNvdW50cnkiOiJLZW55YSJ9</td><td>streaming-0affec486183-geo</td><td>shardId-000000000000</td><td>49654776715983955342252074676467196293481292468148240386</td><td>2024-08-12T17:31:58.769+0000</td></tr><tr><td>partition-geo</td><td>eyJpbmQiOjEzNDEsInRpbWVzdGFtcCI6IjIwMjItMDgtMTFUMDU6MjU6MzMiLCJsYXRpdHVkZSI6LTg5Ljk3ODcsImxvbmdpdHVkZSI6LTE3My4yOTMsImNvdW50cnkiOiJBbGJhbmlhIn0=</td><td>streaming-0affec486183-geo</td><td>shardId-000000000000</td><td>49654776715983955342252074679291247008101066288981344258</td><td>2024-08-12T17:32:00.737+0000</td></tr><tr><td>partition-geo</td><td>eyJpbmQiOjUxNjIsInRpbWVzdGFtcCI6IjIwMTktMDktMjdUMTk6MDY6NDMiLCJsYXRpdHVkZSI6LTcxLjY2MDcsImxvbmdpdHVkZSI6LTE0OS4yMDYsImNvdW50cnkiOiJBbnRhcmN0aWNhICh0aGUgdGVycml0b3J5IFNvdXQ= (truncated)</td><td>streaming-0affec486183-geo</td><td>shardId-000000000000</td><td>49654776715983955342252074680150793265847067769636388866</td><td>2024-08-12T17:32:01.373+0000</td></tr><tr><td>partition-geo</td><td>eyJpbmQiOjUxNTEsInRpbWVzdGFtcCI6IjIwMjAtMDctMTVUMDE6NDI6MzgiLCJsYXRpdHVkZSI6LTQ3LjMzNzIsImxvbmdpdHVkZSI6LTE1MS4zOTcsImNvdW50cnkiOiJHdWF0ZW1hbGEifQ==</td><td>streaming-0affec486183-geo</td><td>shardId-000000000000</td><td>49654776715983955342252074681073203666213029898656677890</td><td>2024-08-12T17:32:02.071+0000</td></tr><tr><td>partition-geo</td><td>eyJpbmQiOjI0OTgsInRpbWVzdGFtcCI6IjIwMjEtMDQtMDNUMTg6MTA6MzQiLCJsYXRpdHVkZSI6NjEuNDcwNiwibG9uZ2l0dWRlIjotNTEuMDUsImNvdW50cnkiOiJUb2dvIn0=</td><td>streaming-0affec486183-geo</td><td>shardId-000000000000</td><td>49654776715983955342252074683627663923058741413530304514</td><td>2024-08-12T17:32:03.743+0000</td></tr><tr><td>partition-geo</td><td>eyJpbmQiOjcyNjgsInRpbWVzdGFtcCI6IjIwMTktMTItMTFUMTQ6MDU6MTgiLCJsYXRpdHVkZSI6LTg4LjM3NTQsImxvbmdpdHVkZSI6LTE2NC4yNzMsImNvdW50cnkiOiJBZmdoYW5pc3RhbiJ9</td><td>streaming-0affec486183-geo</td><td>shardId-000000000000</td><td>49654776715983955342252074684527104732852025519511699458</td><td>2024-08-12T17:32:04.357+0000</td></tr><tr><td>partition-geo</td><td>eyJpbmQiOjMzNTEsInRpbWVzdGFtcCI6IjIwMjAtMDktMTJUMTA6MzQ6MTEiLCJsYXRpdHVkZSI6LTkuMTE4NTksImxvbmdpdHVkZSI6LTk2LjkwOTEsImNvdW50cnkiOiJQb3J0dWdhbCJ9</td><td>streaming-0affec486183-geo</td><td>shardId-000000000000</td><td>49654776715983955342252074685442261578300299873483751426</td><td>2024-08-12T17:32:04.971+0000</td></tr><tr><td>partition-geo</td><td>eyJpbmQiOjc3MzgsInRpbWVzdGFtcCI6IjIwMTctMTEtMTJUMDM6NDU6MjEiLCJsYXRpdHVkZSI6NjYuODQ3OCwibG9uZ2l0dWRlIjoyMi43NzcsImNvdW50cnkiOiJDb21vcm9zIn0=</td><td>streaming-0affec486183-geo</td><td>shardId-000000000000</td><td>49654776715983955342252074686368298756125105821308682242</td><td>2024-08-12T17:32:05.586+0000</td></tr><tr><td>partition-geo</td><td>eyJpbmQiOjg4ODYsInRpbWVzdGFtcCI6IjIwMjItMDEtMTZUMTA6MTc6MTYiLCJsYXRpdHVkZSI6LTg4LjIyODYsImxvbmdpdHVkZSI6LTE3OC45MTksImNvdW50cnkiOiJBbWVyaWNhbiBTYW1vYSJ9</td><td>streaming-0affec486183-geo</td><td>shardId-000000000000</td><td>49654776715983955342252074687364453631487560398705524738</td><td>2024-08-12T17:32:06.240+0000</td></tr><tr><td>partition-geo</td><td>eyJpbmQiOjU3NDIsInRpbWVzdGFtcCI6IjIwMjAtMDktMDJUMDE6NDA6MTgiLCJsYXRpdHVkZSI6LTczLjQ5MjYsImxvbmdpdHVkZSI6LTYxLjU2LCJjb3VudHJ5IjoiSmFtYWljYSJ9</td><td>streaming-0affec486183-geo</td><td>shardId-000000000000</td><td>49654776715983955342252074690013210102263212989206233090</td><td>2024-08-12T17:32:07.903+0000</td></tr><tr><td>partition-geo</td><td>eyJpbmQiOjEzNjIsInRpbWVzdGFtcCI6IjIwMjItMDctMjBUMDU6Mzg6MTgiLCJsYXRpdHVkZSI6NDguMzcwNCwibG9uZ2l0dWRlIjo5Mi4yOCwiY291bnRyeSI6IkdoYW5hIn0=</td><td>streaming-0affec486183-geo</td><td>shardId-000000000000</td><td>49654776715983955342252074691092780859179076910938324994</td><td>2024-08-12T17:32:08.599+0000</td></tr><tr><td>partition-geo</td><td>eyJpbmQiOjk5NSwidGltZXN0YW1wIjoiMjAyMi0wOS0yMlQxMjoxNzo1NyIsImxhdGl0dWRlIjotODguMDkyMywibG9uZ2l0dWRlIjotMTc5LjMxOSwiY291bnRyeSI6Ik1vbGRvdmEifQ==</td><td>streaming-0affec486183-geo</td><td>shardId-000000000000</td><td>49654776715983955342252074693847922802080816868813176834</td><td>2024-08-12T17:32:10.235+0000</td></tr><tr><td>partition-geo</td><td>eyJpbmQiOjYyNTAsInRpbWVzdGFtcCI6IjIwMjAtMTEtMjJUMTg6Mjg6MDIiLCJsYXRpdHVkZSI6LTczLjIwOTgsImxvbmdpdHVkZSI6LTE1MC44NTYsImNvdW50cnkiOiJBdXN0cmlhIn0=</td><td>streaming-0affec486183-geo</td><td>shardId-000000000000</td><td>49654776715983955342252074696794075024481668373730557954</td><td>2024-08-12T17:32:11.886+0000</td></tr><tr><td>partition-geo</td><td>eyJpbmQiOjMxODQsInRpbWVzdGFtcCI6IjIwMTgtMDktMjVUMjM6MTc6NDYiLCJsYXRpdHVkZSI6LTQxLjI5MywibG9uZ2l0dWRlIjotMTcxLjU4NSwiY291bnRyeSI6IkNhcGUgVmVyZGUifQ==</td><td>streaming-0affec486183-geo</td><td>shardId-000000000000</td><td>49654776715983955342252074697978822327704004964942610434</td><td>2024-08-12T17:32:12.517+0000</td></tr><tr><td>partition-geo</td><td>eyJpbmQiOjI5NTUsInRpbWVzdGFtcCI6IjIwMjItMTAtMTFUMTc6MjE6MDYiLCJsYXRpdHVkZSI6MjMuNzc2OCwibG9uZ2l0dWRlIjotMjMuNDgzOCwiY291bnRyeSI6IkFudGlndWEgYW5kIEJhcmJ1ZGEifQ==</td><td>streaming-0affec486183-geo</td><td>shardId-000000000000</td><td>49654776715983955342252074700991465470183661005749354498</td><td>2024-08-12T17:32:14.169+0000</td></tr><tr><td>partition-geo</td><td>eyJpbmQiOjQzNTcsInRpbWVzdGFtcCI6IjIwMjAtMDMtMDZUMDk6NTY6NDMiLCJsYXRpdHVkZSI6LTc1LjQ5MDksImxvbmdpdHVkZSI6LTE3OS45MDgsImNvdW50cnkiOiJCYWhhbWFzIn0=</td><td>streaming-0affec486183-geo</td><td>shardId-000000000000</td><td>49654776715983955342252074702237867990206343684871421954</td><td>2024-08-12T17:32:14.817+0000</td></tr><tr><td>partition-geo</td><td>eyJpbmQiOjM1NjMsInRpbWVzdGFtcCI6IjIwMTgtMDktMDVUMDc6NDA6MDEiLCJsYXRpdHVkZSI6LTc3LjMxNTMsImxvbmdpdHVkZSI6LTY5LjUwNSwiY291bnRyeSI6IlNhaW50IEJhcnRoZWxlbXkifQ==</td><td>streaming-0affec486183-geo</td><td>shardId-000000000000</td><td>49654776715983955342252074705100604331053785708014600194</td><td>2024-08-12T17:32:16.441+0000</td></tr><tr><td>partition-geo</td><td>eyJpbmQiOjY1NTgsInRpbWVzdGFtcCI6IjIwMTktMDktMDhUMDM6Mjc6MzEiLCJsYXRpdHVkZSI6LTI2LjQ5NDQsImxvbmdpdHVkZSI6LTE3NC4wMDksImNvdW50cnkiOiJHdWFkZWxvdXBlIn0=</td><td>streaming-0affec486183-geo</td><td>shardId-000000000000</td><td>49654776715983955342252074707739689395272521333837135874</td><td>2024-08-12T17:32:18.133+0000</td></tr><tr><td>partition-geo</td><td>eyJpbmQiOjQyNTYsInRpbWVzdGFtcCI6IjIwMTgtMTAtMTBUMTc6NTc6MTYiLCJsYXRpdHVkZSI6LTg4LjU0NzgsImxvbmdpdHVkZSI6LTE3NC45NzEsImNvdW50cnkiOiJBZmdoYW5pc3RhbiJ9</td><td>streaming-0affec486183-geo</td><td>shardId-000000000000</td><td>49654776715983955342252074710179301699254843077113675778</td><td>2024-08-12T17:32:19.830+0000</td></tr><tr><td>partition-geo</td><td>eyJpbmQiOjQ1MCwidGltZXN0YW1wIjoiMjAxOC0wOS0yOFQwNTo0MzoxOCIsImxhdGl0dWRlIjotODEuMDEwOCwibG9uZ2l0dWRlIjotMTY1LjIwNiwiY291bnRyeSI6IkFudGlndWEgYW5kIEJhcmJ1ZGEifQ==</td><td>streaming-0affec486183-geo</td><td>shardId-000000000000</td><td>49654776715983955342252074712627376483974467224613158914</td><td>2024-08-12T17:32:21.468+0000</td></tr><tr><td>partition-geo</td><td>eyJpbmQiOjM5NDUsInRpbWVzdGFtcCI6IjIwMjItMDQtMTdUMDI6MDE6NTMiLCJsYXRpdHVkZSI6LTY2LjI4MTYsImxvbmdpdHVkZSI6LTE0Mi42NzMsImNvdW50cnkiOiJCYXJiYWRvcyJ9</td><td>streaming-0affec486183-geo</td><td>shardId-000000000000</td><td>49654776715983955342252074714943678354356096929508622338</td><td>2024-08-12T17:32:23.109+0000</td></tr><tr><td>partition-geo</td><td>eyJpbmQiOjg1OSwidGltZXN0YW1wIjoiMjAyMC0wNC0wN1QxOToyMzoyNCIsImxhdGl0dWRlIjo4OS44MjYxLCJsb25naXR1ZGUiOjQ4LjIyNTYsImNvdW50cnkiOiJSb21hbmlhIn0=</td><td>streaming-0affec486183-geo</td><td>shardId-000000000000</td><td>49654776715983955342252074715812896018659015306122362882</td><td>2024-08-12T17:32:23.710+0000</td></tr><tr><td>partition-geo</td><td>eyJpbmQiOjE1MjEsInRpbWVzdGFtcCI6IjIwMjItMTAtMTJUMTQ6MDM6MjYiLCJsYXRpdHVkZSI6MjQuNTE5MiwibG9uZ2l0dWRlIjo2NC45Njc0LCJjb3VudHJ5IjoiU2FpbnQgSGVsZW5hIn0=</td><td>streaming-0affec486183-geo</td><td>shardId-000000000000</td><td>49654776715983955342252074718100183669369893842105401346</td><td>2024-08-12T17:32:25.390+0000</td></tr><tr><td>partition-geo</td><td>eyJpbmQiOjE5NjEsInRpbWVzdGFtcCI6IjIwMjItMDctMjlUMTg6MTY6NTAiLCJsYXRpdHVkZSI6LTY1LjM5NTIsImxvbmdpdHVkZSI6LTE3NS4yNDksImNvdW50cnkiOiJBcmdlbnRpbmEifQ==</td><td>streaming-0affec486183-geo</td><td>shardId-000000000000</td><td>49654776715983955342252074720224266334432797370783629314</td><td>2024-08-12T17:32:27.010+0000</td></tr><tr><td>partition-geo</td><td>eyJpbmQiOjEwMDk5LCJ0aW1lc3RhbXAiOiIyMDIwLTEyLTI0VDEzOjMzOjAzIiwibGF0aXR1ZGUiOi04OS40MjYxLCJsb25naXR1ZGUiOi0xNzEuNTgsImNvdW50cnkiOiJBZmdoYW5pc3RhbiJ9</td><td>streaming-0affec486183-geo</td><td>shardId-000000000000</td><td>49654776715983955342252074721116453589308393770436263938</td><td>2024-08-12T17:32:27.700+0000</td></tr><tr><td>partition-geo</td><td>eyJpbmQiOjYwNjYsInRpbWVzdGFtcCI6IjIwMTktMDMtMDRUMDE6MDQ6MTEiLCJsYXRpdHVkZSI6LTY3LjcyNzgsImxvbmdpdHVkZSI6LTE3NC41MDUsImNvdW50cnkiOiJCb2xpdmlhIn0=</td><td>streaming-0affec486183-geo</td><td>shardId-000000000000</td><td>49654776715983955342252074723304609322810872714093395970</td><td>2024-08-12T17:32:29.387+0000</td></tr><tr><td>partition-geo</td><td>eyJpbmQiOjEwODM3LCJ0aW1lc3RhbXAiOiIyMDE4LTA5LTI3VDA3OjEyOjMxIiwibGF0aXR1ZGUiOjg2LjYzODcsImxvbmdpdHVkZSI6LTI2LjI0MDgsImNvdW50cnkiOiJTYW1vYSJ9</td><td>streaming-0affec486183-geo</td><td>shardId-000000000000</td><td>49654776715983955342252074724027546962940420960567689218</td><td>2024-08-12T17:32:30.007+0000</td></tr><tr><td>partition-geo</td><td>eyJpbmQiOjY2MTUsInRpbWVzdGFtcCI6IjIwMjItMDEtMzFUMTg6NTM6MzQiLCJsYXRpdHVkZSI6LTI1LjI0MjgsImxvbmdpdHVkZSI6LTMyLjg5OTIsImNvdW50cnkiOiJXYWxsaXMgYW5kIEZ1dHVuYSJ9</td><td>streaming-0affec486183-geo</td><td>shardId-000000000000</td><td>49654776715983955342252074724800050561674169071924412418</td><td>2024-08-12T17:32:30.660+0000</td></tr><tr><td>partition-geo</td><td>eyJpbmQiOjc2NDEsInRpbWVzdGFtcCI6IjIwMjEtMDktMjhUMTM6NTY6NTAiLCJsYXRpdHVkZSI6LTg3LjIsImxvbmdpdHVkZSI6LTE3Ny4xMDksImNvdW50cnkiOiJBbGJhbmlhIn0=</td><td>streaming-0affec486183-geo</td><td>shardId-000000000000</td><td>49654776715983955342252074725654761116141711967161155586</td><td>2024-08-12T17:32:31.325+0000</td></tr><tr><td>partition-geo</td><td>eyJpbmQiOjY0MCwidGltZXN0YW1wIjoiMjAxOS0wNy0xMlQxNjo0NjowMyIsImxhdGl0dWRlIjotODcuMiwibG9uZ2l0dWRlIjotMTc3LjEwOSwiY291bnRyeSI6IkFsYmFuaWEifQ==</td><td>streaming-0affec486183-geo</td><td>shardId-000000000000</td><td>49654776715983955342252074727514089026709011706578731010</td><td>2024-08-12T17:32:32.929+0000</td></tr><tr><td>partition-geo</td><td>eyJpbmQiOjgxNzQsInRpbWVzdGFtcCI6IjIwMTgtMTAtMjBUMTc6Mjg6MjMiLCJsYXRpdHVkZSI6LTY2LjY3MDgsImxvbmdpdHVkZSI6LTExMC40NywiY291bnRyeSI6IkJ1cmtpbmEgRmFzbyJ9</td><td>streaming-0affec486183-geo</td><td>shardId-000000000000</td><td>49654776715983955342252074729474966706123940296671625218</td><td>2024-08-12T17:32:34.564+0000</td></tr><tr><td>partition-geo</td><td>eyJpbmQiOjEyMTYsInRpbWVzdGFtcCI6IjIwMjAtMDctMTlUMjM6NTc6MTYiLCJsYXRpdHVkZSI6LTY5LjgxMzQsImxvbmdpdHVkZSI6LTE1Mi44MzQsImNvdW50cnkiOiJBbGJhbmlhIn0=</td><td>streaming-0affec486183-geo</td><td>shardId-000000000000</td><td>49654776715983955342252074730173725829861196097090748418</td><td>2024-08-12T17:32:35.174+0000</td></tr><tr><td>partition-geo</td><td>eyJpbmQiOjY4MCwidGltZXN0YW1wIjoiMjAxOS0wMy0yOVQyMzoyMjo1NiIsImxhdGl0dWRlIjotNzMuMTgzOCwibG9uZ2l0dWRlIjotMTU0LjI5MywiY291bnRyeSI6IkJhbmdsYWRlc2gifQ==</td><td>streaming-0affec486183-geo</td><td>shardId-000000000000</td><td>49654776715983955342252074732227690797386451133636018178</td><td>2024-08-12T17:32:36.832+0000</td></tr><tr><td>partition-geo</td><td>eyJpbmQiOjk1MjcsInRpbWVzdGFtcCI6IjIwMjEtMTEtMTdUMDc6NTA6NTgiLCJsYXRpdHVkZSI6LTM4LjQ0NDMsImxvbmdpdHVkZSI6MTcwLjYwMSwiY291bnRyeSI6IlR1cmttZW5pc3RhbiJ9</td><td>streaming-0affec486183-geo</td><td>shardId-000000000000</td><td>49654776715983955342252074734080974078855677795899539458</td><td>2024-08-12T17:32:38.445+0000</td></tr><tr><td>partition-geo</td><td>eyJpbmQiOjk0MjYsInRpbWVzdGFtcCI6IjIwMjEtMDYtMzBUMDI6MTQ6NDciLCJsYXRpdHVkZSI6LTI5Ljg2NDYsImxvbmdpdHVkZSI6LTc4LjE0NDksImNvdW50cnkiOiJTYW8gVG9tZSBhbmQgUHJpbmNpcGUifQ==</td><td>streaming-0affec486183-geo</td><td>shardId-000000000000</td><td>49654776715983955342252074736038224980811762498468315138</td><td>2024-08-12T17:32:40.097+0000</td></tr><tr><td>partition-geo</td><td>eyJpbmQiOjg3NDUsInRpbWVzdGFtcCI6IjIwMjAtMTAtMjhUMDM6NDU6MzMiLCJsYXRpdHVkZSI6MzEuNjcwMSwibG9uZ2l0dWRlIjotNTkuNzM5MSwiY291bnRyeSI6IlR1dmFsdSJ9</td><td>streaming-0affec486183-geo</td><td>shardId-000000000000</td><td>49654776715983955342252074738034161508995515403347165186</td><td>2024-08-12T17:32:41.755+0000</td></tr><tr><td>partition-geo</td><td>eyJpbmQiOjU5NTksInRpbWVzdGFtcCI6IjIwMjAtMDgtMTBUMDE6MDA6MzMiLCJsYXRpdHVkZSI6LTQ0LjkwMTYsImxvbmdpdHVkZSI6LTE3LjUxOTIsImNvdW50cnkiOiJDeXBydXMifQ==</td><td>streaming-0affec486183-geo</td><td>shardId-000000000000</td><td>49654776715983955342252074740123185325289594754678390786</td><td>2024-08-12T17:32:43.376+0000</td></tr><tr><td>partition-geo</td><td>eyJpbmQiOjI1NzcsInRpbWVzdGFtcCI6IjIwMTktMDgtMDFUMDU6NDU6NTEiLCJsYXRpdHVkZSI6LTcxLjUwMjUsImxvbmdpdHVkZSI6LTE3OS4yNTcsImNvdW50cnkiOiJBcnViYSJ9</td><td>streaming-0affec486183-geo</td><td>shardId-000000000000</td><td>49654776715983955342252074742264192951827103091802505218</td><td>2024-08-12T17:32:44.997+0000</td></tr><tr><td>partition-geo</td><td>eyJpbmQiOjMwMDgsInRpbWVzdGFtcCI6IjIwMTktMDctMzFUMjI6MzY6MTEiLCJsYXRpdHVkZSI6MC4zMTQzMzcsImxvbmdpdHVkZSI6LTU4Ljc2NjYsImNvdW50cnkiOiJWZW5lenVlbGEifQ==</td><td>streaming-0affec486183-geo</td><td>shardId-000000000000</td><td>49654776715983955342252074743100769619000426618138132482</td><td>2024-08-12T17:32:45.629+0000</td></tr><tr><td>partition-geo</td><td>eyJpbmQiOjgwODEsInRpbWVzdGFtcCI6IjIwMjItMDMtMjVUMDc6NDI6MjkiLCJsYXRpdHVkZSI6LTMzLjgyMzgsImxvbmdpdHVkZSI6LTEyOS4xOCwiY291bnRyeSI6IkVneXB0In0=</td><td>streaming-0affec486183-geo</td><td>shardId-000000000000</td><td>49654776715983955342252074745291343204142134751425200130</td><td>2024-08-12T17:32:47.293+0000</td></tr><tr><td>partition-geo</td><td>eyJpbmQiOjEwMTIwLCJ0aW1lc3RhbXAiOiIyMDIyLTAzLTEwVDA3OjAyOjMyIiwibGF0aXR1ZGUiOi01NS4xNTYyLCJsb25naXR1ZGUiOi0xMjIuODU0LCJjb3VudHJ5IjoiSXNsZSBvZiBNYW4ifQ==</td><td>streaming-0affec486183-geo</td><td>shardId-000000000000</td><td>49654776715983955342252074747613689703621837464755240962</td><td>2024-08-12T17:32:48.995+0000</td></tr><tr><td>partition-geo</td><td>eyJpbmQiOjQwNDUsInRpbWVzdGFtcCI6IjIwMTgtMDMtMTFUMjM6MDE6MDgiLCJsYXRpdHVkZSI6LTg5LjMwOTksImxvbmdpdHVkZSI6LTE2Ni4wMzMsImNvdW50cnkiOiJBbWVyaWNhbiBTYW1vYSJ9</td><td>streaming-0affec486183-geo</td><td>shardId-000000000000</td><td>49654776715983955342252074749752279478520116612249419778</td><td>2024-08-12T17:32:50.614+0000</td></tr><tr><td>partition-geo</td><td>eyJpbmQiOjE1OTksInRpbWVzdGFtcCI6IjIwMTktMDItMDVUMTQ6NTg6MjAiLCJsYXRpdHVkZSI6ODYuMDk2NywibG9uZ2l0dWRlIjoxMTEuMzIzLCJjb3VudHJ5IjoiQm9saXZpYSJ9</td><td>streaming-0affec486183-geo</td><td>shardId-000000000000</td><td>49654776715983955342252074751709530380476201383537672194</td><td>2024-08-12T17:32:52.226+0000</td></tr><tr><td>partition-geo</td><td>eyJpbmQiOjI4OTMsInRpbWVzdGFtcCI6IjIwMTgtMDMtMDVUMDQ6MzM6NTUiLCJsYXRpdHVkZSI6LTY4LjUzOTksImxvbmdpdHVkZSI6LTI4LjM4LCJjb3VudHJ5IjoiQmVybXVkYSJ9</td><td>streaming-0affec486183-geo</td><td>shardId-000000000000</td><td>49654776715983955342252074752764922620999772721775640578</td><td>2024-08-12T17:32:53.003+0000</td></tr><tr><td>partition-geo</td><td>eyJpbmQiOjQwMjQsInRpbWVzdGFtcCI6IjIwMTktMTAtMTlUMTA6MDM6MDMiLCJsYXRpdHVkZSI6LTYxLjQ3MSwibG9uZ2l0dWRlIjotMTU0LjkxMiwiY291bnRyeSI6IkFydWJhIn0=</td><td>streaming-0affec486183-geo</td><td>shardId-000000000000</td><td>49654776715983955342252074753768331051279914936781766658</td><td>2024-08-12T17:32:53.652+0000</td></tr><tr><td>partition-geo</td><td>eyJpbmQiOjMxMCwidGltZXN0YW1wIjoiMjAyMS0wMS0yNVQyMjoyMjozNyIsImxhdGl0dWRlIjotODEuMDEwOCwibG9uZ2l0dWRlIjotMTY1LjIwNiwiY291bnRyeSI6IkFudGlndWEgYW5kIEJhcmJ1ZGEifQ==</td><td>streaming-0affec486183-geo</td><td>shardId-000000000000</td><td>49654776715983955342252074754683487896728189290753818626</td><td>2024-08-12T17:32:54.325+0000</td></tr><tr><td>partition-geo</td><td>eyJpbmQiOjc5MDUsInRpbWVzdGFtcCI6IjIwMTgtMTEtMTNUMTI6Mzk6NDMiLCJsYXRpdHVkZSI6LTQ3LjgxMjEsImxvbmdpdHVkZSI6LTEzNC4wMTUsImNvdW50cnkiOiJOYW1pYmlhIn0=</td><td>streaming-0affec486183-geo</td><td>shardId-000000000000</td><td>49654776715983955342252074756807570561791092819432046594</td><td>2024-08-12T17:32:55.980+0000</td></tr><tr><td>partition-geo</td><td>eyJpbmQiOjU0ODgsInRpbWVzdGFtcCI6IjIwMjEtMDMtMTRUMDU6NTU6MjEiLCJsYXRpdHVkZSI6LTU5LjYxNjMsImxvbmdpdHVkZSI6LTEwNy4zMjQsImNvdW50cnkiOiJGaW5sYW5kIn0=</td><td>streaming-0affec486183-geo</td><td>shardId-000000000000</td><td>49654776715983955342252074757617550860932894366485184514</td><td>2024-08-12T17:32:56.610+0000</td></tr><tr><td>partition-geo</td><td>eyJpbmQiOjc0NCwidGltZXN0YW1wIjoiMjAxOS0wOC0yOFQxNTowMzoxMyIsImxhdGl0dWRlIjotNzYuODA3NCwibG9uZ2l0dWRlIjo1OC43NTE3LCJjb3VudHJ5IjoiTmV3IENhbGVkb25pYSJ9</td><td>streaming-0affec486183-geo</td><td>shardId-000000000000</td><td>49654776715983955342252074759804497668615758749687087106</td><td>2024-08-12T17:32:58.305+0000</td></tr><tr><td>partition-geo</td><td>eyJpbmQiOjc4MDEsInRpbWVzdGFtcCI6IjIwMTctMTEtMThUMjI6NTQ6NTgiLCJsYXRpdHVkZSI6LTc1LjkxNjEsImxvbmdpdHVkZSI6LTI3LjYyODUsImNvdW50cnkiOiJBZmdoYW5pc3RhbiJ9</td><td>streaming-0affec486183-geo</td><td>shardId-000000000000</td><td>49654776715983955342252074761859671561960628415407063042</td><td>2024-08-12T17:32:59.946+0000</td></tr><tr><td>partition-geo</td><td>eyJpbmQiOjU2MjAsInRpbWVzdGFtcCI6IjIwMjEtMDItMThUMTI6MzQ6NDQiLCJsYXRpdHVkZSI6LTUzLjYwODcsImxvbmdpdHVkZSI6LTEyMS42OCwiY291bnRyeSI6IkZhcm9lIElzbGFuZHMifQ==</td><td>streaming-0affec486183-geo</td><td>shardId-000000000000</td><td>49654776715983955342252074763932979342599717518747631618</td><td>2024-08-12T17:33:01.586+0000</td></tr><tr><td>partition-geo</td><td>eyJpbmQiOjgzNDEsInRpbWVzdGFtcCI6IjIwMjItMDgtMDhUMDU6MDk6NTAiLCJsYXRpdHVkZSI6LTE2LjUwNjYsImxvbmdpdHVkZSI6LTEzMy4xODUsImNvdW50cnkiOiJTb21hbGlhIn0=</td><td>streaming-0affec486183-geo</td><td>shardId-000000000000</td><td>49654776715983955342252074764711527570431538844697362434</td><td>2024-08-12T17:33:02.197+0000</td></tr><tr><td>partition-geo</td><td>eyJpbmQiOjEwMDIyLCJ0aW1lc3RhbXAiOiIyMDE4LTEyLTE3VDIwOjI2OjE0IiwibGF0aXR1ZGUiOjcwLjU2MjYsImxvbmdpdHVkZSI6LTg5LjQ1MjYsImNvdW50cnkiOiJCZW5pbiJ9</td><td>streaming-0affec486183-geo</td><td>shardId-000000000000</td><td>49654776715983955342252074766952876039997061403322089474</td><td>2024-08-12T17:33:03.838+0000</td></tr><tr><td>partition-geo</td><td>eyJpbmQiOjYxMzQsInRpbWVzdGFtcCI6IjIwMjItMDQtMDNUMTI6MzQ6NTkiLCJsYXRpdHVkZSI6LTY4LjgxMzYsImxvbmdpdHVkZSI6LTEyOC40ODIsImNvdW50cnkiOiJBdXN0cmlhIn0=</td><td>streaming-0affec486183-geo</td><td>shardId-000000000000</td><td>49654776715983955342252074767907927437492618520059445250</td><td>2024-08-12T17:33:04.572+0000</td></tr><tr><td>partition-geo</td><td>eyJpbmQiOjM4MjQsInRpbWVzdGFtcCI6IjIwMTgtMTAtMjhUMTk6MjI6MzQiLCJsYXRpdHVkZSI6LTgyLjQyNzYsImxvbmdpdHVkZSI6LTE3MC4wMTksImNvdW50cnkiOiJCcml0aXNoIFZpcmdpbiBJc2xhbmRzIn0=</td><td>streaming-0affec486183-geo</td><td>shardId-000000000000</td><td>49654776715983955342252074769964310256657102814954127362</td><td>2024-08-12T17:33:06.205+0000</td></tr><tr><td>partition-geo</td><td>eyJpbmQiOjcxMTYsInRpbWVzdGFtcCI6IjIwMTktMDktMTZUMTg6NDU6NDEiLCJsYXRpdHVkZSI6LTE4LjM2ODYsImxvbmdpdHVkZSI6NzIuNDEwOSwiY291bnRyeSI6Ik1hY2FvIn0=</td><td>streaming-0affec486183-geo</td><td>shardId-000000000000</td><td>49654776715983955342252074772198405171304937735969570818</td><td>2024-08-12T17:33:07.886+0000</td></tr><tr><td>partition-geo</td><td>eyJpbmQiOjc0LCJ0aW1lc3RhbXAiOiIyMDIwLTAxLTI5VDE0OjAzOjM1IiwibGF0aXR1ZGUiOi04MS4wMTA4LCJsb25naXR1ZGUiOi0xNjUuMjA2LCJjb3VudHJ5IjoiQW50aWd1YSBhbmQgQmFyYnVkYSJ9</td><td>streaming-0affec486183-geo</td><td>shardId-000000000000</td><td>49654776715983955342252074773218738563059684759421583362</td><td>2024-08-12T17:33:08.562+0000</td></tr><tr><td>partition-geo</td><td>eyJpbmQiOjEzMzUsInRpbWVzdGFtcCI6IjIwMjItMDMtMTlUMTc6Mjk6NDIiLCJsYXRpdHVkZSI6LTc3Ljk5MzEsImxvbmdpdHVkZSI6LTE3NS42ODIsImNvdW50cnkiOiJBbnRhcmN0aWNhICh0aGUgdGVycml0b3J5IFNvdXQ= (truncated)</td><td>streaming-0affec486183-geo</td><td>shardId-000000000000</td><td>49654776715983955342252074776340185029304657425951883266</td><td>2024-08-12T17:33:10.914+0000</td></tr><tr><td>partition-geo</td><td>eyJpbmQiOjQ1MTMsInRpbWVzdGFtcCI6IjIwMjItMDQtMTFUMTE6MDU6MTMiLCJsYXRpdHVkZSI6MjIuMjMxNCwibG9uZ2l0dWRlIjoxNDQuMjE0LCJjb3VudHJ5IjoiTmFtaWJpYSJ9</td><td>streaming-0affec486183-geo</td><td>shardId-000000000000</td><td>49654776715983955342252074777180388473936824839811629058</td><td>2024-08-12T17:33:11.540+0000</td></tr><tr><td>partition-geo</td><td>eyJpbmQiOjc4NTAsInRpbWVzdGFtcCI6IjIwMjItMDQtMDlUMTU6MDY6MDEiLCJsYXRpdHVkZSI6MjYuNTIwOCwibG9uZ2l0dWRlIjoxNjAuNjk5LCJjb3VudHJ5IjoiVmlldG5hbSJ9</td><td>streaming-0affec486183-geo</td><td>shardId-000000000000</td><td>49654776715983955342252074779431408350059264431834005506</td><td>2024-08-12T17:33:13.180+0000</td></tr><tr><td>partition-geo</td><td>eyJpbmQiOjEwMjQ4LCJ0aW1lc3RhbXAiOiIyMDE5LTExLTAzVDE1OjExOjAwIiwibGF0aXR1ZGUiOi0zMS45NjE1LCJsb25naXR1ZGUiOjE2MS4xNTEsImNvdW50cnkiOiJFcXVhdG9yaWFsIEd1aW5lYSJ9</td><td>streaming-0affec486183-geo</td><td>shardId-000000000000</td><td>49654776715983955342252074781829917176174688783170535426</td><td>2024-08-12T17:33:14.841+0000</td></tr><tr><td>partition-geo</td><td>eyJpbmQiOjgxMjMsInRpbWVzdGFtcCI6IjIwMjEtMDgtMjNUMDc6MzE6NDYiLCJsYXRpdHVkZSI6ODAuMjU5MywibG9uZ2l0dWRlIjotMTM0LjI5MiwiY291bnRyeSI6Ik1vcm9jY28ifQ==</td><td>streaming-0affec486183-geo</td><td>shardId-000000000000</td><td>49654776715983955342252074782729357985967972957871407106</td><td>2024-08-12T17:33:15.448+0000</td></tr><tr><td>partition-geo</td><td>eyJpbmQiOjI5ODcsInRpbWVzdGFtcCI6IjIwMTktMTItMjRUMjI6MzM6MDYiLCJsYXRpdHVkZSI6ODMuMTQ2NiwibG9uZ2l0dWRlIjotMTY5LjEzNiwiY291bnRyeSI6IkRvbWluaWNhIn0=</td><td>streaming-0affec486183-geo</td><td>shardId-000000000000</td><td>49654776715983955342252074784910260164552764126480302082</td><td>2024-08-12T17:33:17.080+0000</td></tr><tr><td>partition-geo</td><td>eyJpbmQiOjE0ODcsInRpbWVzdGFtcCI6IjIwMjEtMDUtMTVUMTg6MjM6NDUiLCJsYXRpdHVkZSI6Ni4yMzAyOSwibG9uZ2l0dWRlIjotNzUuNTkzOSwiY291bnRyeSI6IkRlbm1hcmsifQ==</td><td>streaming-0affec486183-geo</td><td>shardId-000000000000</td><td>49654776715983955342252074785833879490738340815955820546</td><td>2024-08-12T17:33:17.739+0000</td></tr><tr><td>partition-geo</td><td>eyJpbmQiOjEwMDUyLCJ0aW1lc3RhbXAiOiIyMDIwLTAxLTAzVDAxOjEwOjU3IiwibGF0aXR1ZGUiOjE0LjcxOTUsImxvbmdpdHVkZSI6LTEzMC45MjEsImNvdW50cnkiOiJDZW50cmFsIEFmcmljYW4gUmVwdWJsaWMifQ==</td><td>streaming-0affec486183-geo</td><td>shardId-000000000000</td><td>49654776715983955342252074788167106322594575260577693698</td><td>2024-08-12T17:33:19.410+0000</td></tr><tr><td>partition-geo</td><td>eyJpbmQiOjg2NzcsInRpbWVzdGFtcCI6IjIwMjAtMDItMTJUMjM6MjQ6MDEiLCJsYXRpdHVkZSI6LTg0LjM5ODQsImxvbmdpdHVkZSI6LTE0NC45MzMsImNvdW50cnkiOiJCb3V2ZXQgSXNsYW5kIChCb3V2ZXRveWEpIn0=</td><td>streaming-0affec486183-geo</td><td>shardId-000000000000</td><td>49654776715983955342252074788990384805752137797272076290</td><td>2024-08-12T17:33:20.075+0000</td></tr><tr><td>partition-geo</td><td>eyJpbmQiOjU1NTEsInRpbWVzdGFtcCI6IjIwMjItMDMtMjJUMDY6MDQ6MzMiLCJsYXRpdHVkZSI6LTY3LjgwOTUsImxvbmdpdHVkZSI6NjMuMjc1OCwiY291bnRyeSI6IkNvbG9tYmlhIn0=</td><td>streaming-0affec486183-geo</td><td>shardId-000000000000</td><td>49654776715983955342252074789810036511450856377722863618</td><td>2024-08-12T17:33:20.699+0000</td></tr><tr><td>partition-geo</td><td>eyJpbmQiOjY2NTIsInRpbWVzdGFtcCI6IjIwMTgtMTEtMjhUMDg6MjE6MTIiLCJsYXRpdHVkZSI6LTc4LjI1MzQsImxvbmdpdHVkZSI6LTE3MC42NjgsImNvdW50cnkiOiJFZ3lwdCJ9</td><td>streaming-0affec486183-geo</td><td>shardId-000000000000</td><td>49654776715983955342252074790743327244193350169315508226</td><td>2024-08-12T17:33:21.395+0000</td></tr><tr><td>partition-geo</td><td>eyJpbmQiOjY0NzksInRpbWVzdGFtcCI6IjIwMjAtMTAtMTJUMDQ6MTM6MDYiLCJsYXRpdHVkZSI6NDcuOTE0MiwibG9uZ2l0dWRlIjotOTguNDc1NiwiY291bnRyeSI6IklyZWxhbmQifQ==</td><td>streaming-0affec486183-geo</td><td>shardId-000000000000</td><td>49654776715983955342252074791536382581860546907922759682</td><td>2024-08-12T17:33:22.025+0000</td></tr></tbody></table></div>"
      ]
     },
     "metadata": {
      "application/vnd.databricks.v1+output": {
       "addedWidgets": {},
       "aggData": [],
       "aggError": "",
       "aggOverflow": false,
       "aggSchema": [],
       "aggSeriesLimitReached": false,
       "aggType": "",
       "arguments": {},
       "columnCustomDisplayInfos": {},
       "data": [
        [
         "partition-geo",
         "eyJpbmQiOjc1MjgsInRpbWVzdGFtcCI6IjIwMjAtMDgtMjhUMDM6NTI6NDciLCJsYXRpdHVkZSI6LTg5Ljk3ODcsImxvbmdpdHVkZSI6LTE3My4yOTMsImNvdW50cnkiOiJBbGJhbmlhIn0=",
         "streaming-0affec486183-geo",
         "shardId-000000000000",
         "49654776715983955342252074455743937999881516150966714370",
         "2024-08-12T17:29:20.362+0000"
        ],
        [
         "partition-geo",
         "eyJpbmQiOjI4NjMsInRpbWVzdGFtcCI6IjIwMjAtMDQtMjdUMTM6MzQ6MTYiLCJsYXRpdHVkZSI6LTUuMzQ0NDUsImxvbmdpdHVkZSI6LTE3Ny45MjQsImNvdW50cnkiOiJBcm1lbmlhIn0=",
         "streaming-0affec486183-geo",
         "shardId-000000000000",
         "49654776715983955342252074458108596903047730954130948098",
         "2024-08-12T17:29:21.974+0000"
        ],
        [
         "partition-geo",
         "eyJpbmQiOjU3MzAsInRpbWVzdGFtcCI6IjIwMjEtMDQtMTlUMTc6Mzc6MDMiLCJsYXRpdHVkZSI6LTc3LjAxNSwibG9uZ2l0dWRlIjotMTAxLjQzNywiY291bnRyeSI6IkNvbG9tYmlhIn0=",
         "streaming-0affec486183-geo",
         "shardId-000000000000",
         "49654776715983955342252074460300379414009053716592721922",
         "2024-08-12T17:29:23.602+0000"
        ],
        [
         "partition-geo",
         "eyJpbmQiOjgzMDQsInRpbWVzdGFtcCI6IjIwMTktMDktMTNUMDQ6NTA6MjkiLCJsYXRpdHVkZSI6LTI4Ljg4NTIsImxvbmdpdHVkZSI6LTE2NC44NywiY291bnRyeSI6IkZyZW5jaCBHdWlhbmEifQ==",
         "streaming-0affec486183-geo",
         "shardId-000000000000",
         "49654776715983955342252074462366433639730455113604530178",
         "2024-08-12T17:29:25.236+0000"
        ],
        [
         "partition-geo",
         "eyJpbmQiOjg3MzEsInRpbWVzdGFtcCI6IjIwMjAtMDctMTdUMDQ6Mzk6MDkiLCJsYXRpdHVkZSI6LTgzLjEwNCwibG9uZ2l0dWRlIjotMTcxLjMwMiwiY291bnRyeSI6IkFydWJhIn0=",
         "streaming-0affec486183-geo",
         "shardId-000000000000",
         "49654776715983955342252074463363797440912524182737125378",
         "2024-08-12T17:29:25.913+0000"
        ],
        [
         "partition-geo",
         "eyJpbmQiOjEzMTMsInRpbWVzdGFtcCI6IjIwMTgtMDYtMjZUMDI6Mzk6MjUiLCJsYXRpdHVkZSI6NzcuMDQ0NywibG9uZ2l0dWRlIjo2MS45MTE5LCJjb3VudHJ5IjoiTWFsZGl2ZXMifQ==",
         "streaming-0affec486183-geo",
         "shardId-000000000000",
         "49654776715983955342252074464474800269138368394292101122",
         "2024-08-12T17:29:26.567+0000"
        ],
        [
         "partition-geo",
         "eyJpbmQiOjQzMTUsInRpbWVzdGFtcCI6IjIwMTktMTItMTVUMDM6NTE6MjgiLCJsYXRpdHVkZSI6LTQ1Ljg1MDgsImxvbmdpdHVkZSI6NjYuMTAwMywiY291bnRyeSI6IkNvdGUgZCdJdm9pcmUifQ==",
         "streaming-0affec486183-geo",
         "shardId-000000000000",
         "49654776715983955342252074466548108049777457635071623170",
         "2024-08-12T17:29:28.198+0000"
        ],
        [
         "partition-geo",
         "eyJpbmQiOjEwNzk0LCJ0aW1lc3RhbXAiOiIyMDIyLTAxLTAxVDAyOjI2OjUwIiwibGF0aXR1ZGUiOi04OS41MjM2LCJsb25naXR1ZGUiOi0xNTQuNTY3LCJjb3VudHJ5IjoiQ29jb3MgKEtlZWxpbmcpIElzbGFuZHMifQ==",
         "streaming-0affec486183-geo",
         "shardId-000000000000",
         "49654776715983955342252074467375013310393864059290124290",
         "2024-08-12T17:29:28.855+0000"
        ],
        [
         "partition-geo",
         "eyJpbmQiOjU0OTQsInRpbWVzdGFtcCI6IjIwMjEtMDctMjFUMDI6MDI6MzUiLCJsYXRpdHVkZSI6LTgyLjY3NjgsImxvbmdpdHVkZSI6LTEyOS4yMDIsImNvdW50cnkiOiJCdWxnYXJpYSJ9",
         "streaming-0affec486183-geo",
         "shardId-000000000000",
         "49654776715983955342252074468154770464045299876975607810",
         "2024-08-12T17:29:29.506+0000"
        ],
        [
         "partition-geo",
         "eyJpbmQiOjUwNjksInRpbWVzdGFtcCI6IjIwMjEtMDMtMjBUMDk6MzI6NDQiLCJsYXRpdHVkZSI6LTYzLjAwNjMsImxvbmdpdHVkZSI6LTE1Ny40NzQsImNvdW50cnkiOiJBemVyYmFpamFuIn0=",
         "streaming-0affec486183-geo",
         "shardId-000000000000",
         "49654776715983955342252074468929691914418277246681743362",
         "2024-08-12T17:29:30.158+0000"
        ],
        [
         "partition-geo",
         "eyJpbmQiOjI5MjMsInRpbWVzdGFtcCI6IjIwMTktMDktMDhUMjI6NTM6MDkiLCJsYXRpdHVkZSI6LTg0LjYzMDIsImxvbmdpdHVkZSI6LTE2NC41MDcsImNvdW50cnkiOiJDb3RlIGQnSXZvaXJlIn0=",
         "streaming-0affec486183-geo",
         "shardId-000000000000",
         "49654776715983955342252074469711866919708942322716639234",
         "2024-08-12T17:29:30.839+0000"
        ],
        [
         "partition-geo",
         "eyJpbmQiOjMwODksInRpbWVzdGFtcCI6IjIwMTgtMDItMjhUMDU6MzE6MjkiLCJsYXRpdHVkZSI6LTg5Ljk3ODcsImxvbmdpdHVkZSI6LTE3My4yOTMsImNvdW50cnkiOiJBbGJhbmlhIn0=",
         "streaming-0affec486183-geo",
         "shardId-000000000000",
         "49654776715983955342252074470612516655321841126592217090",
         "2024-08-12T17:29:31.469+0000"
        ],
        [
         "partition-geo",
         "eyJpbmQiOjYwNjMsInRpbWVzdGFtcCI6IjIwMjEtMDctMjBUMDk6MDI6NDciLCJsYXRpdHVkZSI6LTg5LjE3OTcsImxvbmdpdHVkZSI6LTE3NC4wMTUsImNvdW50cnkiOiJBbmd1aWxsYSJ9",
         "streaming-0affec486183-geo",
         "shardId-000000000000",
         "49654776715983955342252074472914311415868095143952252930",
         "2024-08-12T17:29:33.107+0000"
        ],
        [
         "partition-geo",
         "eyJpbmQiOjM0NTQsInRpbWVzdGFtcCI6IjIwMjEtMDctMjVUMDI6MjA6MjkiLCJsYXRpdHVkZSI6LTAuMzc1MTc0LCJsb25naXR1ZGUiOjQ5LjgxMDYsImNvdW50cnkiOiJDYW1ib2RpYSJ9",
         "streaming-0affec486183-geo",
         "shardId-000000000000",
         "49654776715983955342252074474997290603064101349409947650",
         "2024-08-12T17:29:34.741+0000"
        ],
        [
         "partition-geo",
         "eyJpbmQiOjc1NTQsInRpbWVzdGFtcCI6IjIwMTktMDMtMjBUMDM6MTU6MDciLCJsYXRpdHVkZSI6LTUxLjIxNzIsImxvbmdpdHVkZSI6LTc3Ljk3NjgsImNvdW50cnkiOiJTdWRhbiJ9",
         "streaming-0affec486183-geo",
         "shardId-000000000000",
         "49654776715983955342252074477027077054197063871180570626",
         "2024-08-12T17:29:36.431+0000"
        ],
        [
         "partition-geo",
         "eyJpbmQiOjYxNDUsInRpbWVzdGFtcCI6IjIwMTktMTItMDVUMDI6MDk6NDQiLCJsYXRpdHVkZSI6LTY1LjkwNzksImxvbmdpdHVkZSI6LTE0My44NDUsImNvdW50cnkiOiJNb3phbWJpcXVlIn0=",
         "streaming-0affec486183-geo",
         "shardId-000000000000",
         "49654776715983955342252074479064117060247714167999430658",
         "2024-08-12T17:29:38.120+0000"
        ],
        [
         "partition-geo",
         "eyJpbmQiOjEwNjI1LCJ0aW1lc3RhbXAiOiIyMDE4LTA3LTEzVDExOjUxOjE1IiwibGF0aXR1ZGUiOi04NC40OTQ0LCJsb25naXR1ZGUiOi04MS4wNjEzLCJjb3VudHJ5IjoiSmFtYWljYSJ9",
         "streaming-0affec486183-geo",
         "shardId-000000000000",
         "49654776715983955342252074479883768765946432817169694722",
         "2024-08-12T17:29:38.789+0000"
        ],
        [
         "partition-geo",
         "eyJpbmQiOjI5NTksInRpbWVzdGFtcCI6IjIwMTktMDgtMTlUMDg6MjI6MDIiLCJsYXRpdHVkZSI6LTY4LjAwOTUsImxvbmdpdHVkZSI6LTE1Ny4yMjcsImNvdW50cnkiOiJBbmdvbGEifQ==",
         "streaming-0affec486183-geo",
         "shardId-000000000000",
         "49654776715983955342252074480592199296240605513547513858",
         "2024-08-12T17:29:39.421+0000"
        ],
        [
         "partition-geo",
         "eyJpbmQiOjk4NzUsInRpbWVzdGFtcCI6IjIwMjAtMDMtMjBUMTM6MDM6MTgiLCJsYXRpdHVkZSI6LTc0LjMzODIsImxvbmdpdHVkZSI6LTExMC40ODQsImNvdW50cnkiOiJCYXJiYWRvcyJ9",
         "streaming-0affec486183-geo",
         "shardId-000000000000",
         "49654776715983955342252074481334479749483987826817105922",
         "2024-08-12T17:29:40.074+0000"
        ],
        [
         "partition-geo",
         "eyJpbmQiOjI0MTgsInRpbWVzdGFtcCI6IjIwMjItMDUtMjdUMTE6MzA6NTkiLCJsYXRpdHVkZSI6LTg4LjQ2NDIsImxvbmdpdHVkZSI6LTE3MS4wNjEsImNvdW50cnkiOiJBbnRhcmN0aWNhICh0aGUgdGVycml0b3J5IFNvdXQ= (truncated)",
         "streaming-0affec486183-geo",
         "shardId-000000000000",
         "49654776715983955342252074483143032775627473209616498690",
         "2024-08-12T17:29:41.737+0000"
        ],
        [
         "partition-geo",
         "eyJpbmQiOjMxNTYsInRpbWVzdGFtcCI6IjIwMTgtMDEtMTNUMTk6MzM6NDkiLCJsYXRpdHVkZSI6LTg0LjczOCwibG9uZ2l0dWRlIjotMTYwLjc5NSwiY291bnRyeSI6IkFybWVuaWEifQ==",
         "streaming-0affec486183-geo",
         "shardId-000000000000",
         "49654776715983955342252074483879268599772782377012559874",
         "2024-08-12T17:29:42.392+0000"
        ],
        [
         "partition-geo",
         "eyJpbmQiOjQyOCwidGltZXN0YW1wIjoiMjAyMC0wOS0yN1QxODo0Njo0MSIsImxhdGl0dWRlIjotODMuNDEwNSwibG9uZ2l0dWRlIjotMTUwLjc4OCwiY291bnRyeSI6IkJhbmdsYWRlc2gifQ==",
         "streaming-0affec486183-geo",
         "shardId-000000000000",
         "49654776715983955342252074485143805007089684562474696706",
         "2024-08-12T17:29:43.027+0000"
        ],
        [
         "partition-geo",
         "eyJpbmQiOjczNDMsInRpbWVzdGFtcCI6IjIwMTgtMDgtMDZUMTI6MTc6MDciLCJsYXRpdHVkZSI6LTY1LjQ0MjgsImxvbmdpdHVkZSI6LTE2MS42ODQsImNvdW50cnkiOiJBdXN0cmFsaWEifQ==",
         "streaming-0affec486183-geo",
         "shardId-000000000000",
         "49654776715983955342252074486054126149259500468467400706",
         "2024-08-12T17:29:43.665+0000"
        ],
        [
         "partition-geo",
         "eyJpbmQiOjIwNzQsInRpbWVzdGFtcCI6IjIwMTktMTEtMDNUMDU6NDE6NTkiLCJsYXRpdHVkZSI6LTUyLjMyMTMsImxvbmdpdHVkZSI6LTUwLjExLCJjb3VudHJ5IjoiQ2VudHJhbCBBZnJpY2FuIFJlcHVibGljIn0=",
         "streaming-0affec486183-geo",
         "shardId-000000000000",
         "49654776715983955342252074488237446179483520826706231298",
         "2024-08-12T17:29:45.357+0000"
        ],
        [
         "partition-geo",
         "eyJpbmQiOjk5NzksInRpbWVzdGFtcCI6IjIwMTgtMDctMThUMTk6MDE6NDYiLCJsYXRpdHVkZSI6MTQuOTk2NywibG9uZ2l0dWRlIjotMTIwLjY4MiwiY291bnRyeSI6IkRvbWluaWNhbiBSZXB1YmxpYyJ9",
         "streaming-0affec486183-geo",
         "shardId-000000000000",
         "49654776715983955342252074489047426478625322373759369218",
         "2024-08-12T17:29:46.022+0000"
        ],
        [
         "partition-geo",
         "eyJpbmQiOjEwMTM4LCJ0aW1lc3RhbXAiOiIyMDE5LTA4LTAzVDAwOjU5OjI5IiwibGF0aXR1ZGUiOi03Mi4xNDIsImxvbmdpdHVkZSI6LTc0LjM1NDUsImNvdW50cnkiOiJBdXN0cmlhIn0=",
         "streaming-0affec486183-geo",
         "shardId-000000000000",
         "49654776715983955342252074489944449436779377290110828546",
         "2024-08-12T17:29:46.756+0000"
        ],
        [
         "partition-geo",
         "eyJpbmQiOjk2NzIsInRpbWVzdGFtcCI6IjIwMTktMTEtMDNUMTM6MTU6NTIiLCJsYXRpdHVkZSI6NzkuNDY1OCwibG9uZ2l0dWRlIjotNjkuNDEzMywiY291bnRyeSI6IkluZGlhIn0=",
         "streaming-0affec486183-geo",
         "shardId-000000000000",
         "49654776715983955342252074492008085810861549360053747714",
         "2024-08-12T17:29:48.410+0000"
        ],
        [
         "partition-geo",
         "eyJpbmQiOjg2NTMsInRpbWVzdGFtcCI6IjIwMjItMDQtMTFUMTg6MzA6MTkiLCJsYXRpdHVkZSI6NDguNDU2OSwibG9uZ2l0dWRlIjotMTM5LjY1OCwiY291bnRyeSI6IlNleWNoZWxsZXMifQ==",
         "streaming-0affec486183-geo",
         "shardId-000000000000",
         "49654776715983955342252074493962918861178404941712064514",
         "2024-08-12T17:29:50.022+0000"
        ],
        [
         "partition-geo",
         "eyJpbmQiOjg4ODcsInRpbWVzdGFtcCI6IjIwMjEtMDktMTlUMDU6Mjc6NDMiLCJsYXRpdHVkZSI6LTI4LjAxMzcsImxvbmdpdHVkZSI6LTE2MC43MDgsImNvdW50cnkiOiJCb3Rzd2FuYSJ9",
         "streaming-0affec486183-geo",
         "shardId-000000000000",
         "49654776715983955342252074495966108944279845552919674882",
         "2024-08-12T17:29:51.701+0000"
        ],
        [
         "partition-geo",
         "eyJpbmQiOjc5MjIsInRpbWVzdGFtcCI6IjIwMjEtMDEtMjdUMDk6MTQ6MTkiLCJsYXRpdHVkZSI6LTg4LjA5NzQsImxvbmdpdHVkZSI6LTE3Mi4wNTIsImNvdW50cnkiOiJBbnRpZ3VhIGFuZCBCYXJidWRhIn0=",
         "streaming-0affec486183-geo",
         "shardId-000000000000",
         "49654776715983955342252074497861704629435584167578435586",
         "2024-08-12T17:29:53.366+0000"
        ],
        [
         "partition-geo",
         "eyJpbmQiOjEwMTQsInRpbWVzdGFtcCI6IjIwMjItMDItMDNUMjI6MDU6MzQiLCJsYXRpdHVkZSI6ODEuMTQ3NywibG9uZ2l0dWRlIjo2OS4zNTM4LCJjb3VudHJ5IjoiVG9uZ2EifQ==",
         "streaming-0affec486183-geo",
         "shardId-000000000000",
         "49654776715983955342252074500447596957591276178433376258",
         "2024-08-12T17:29:54.992+0000"
        ],
        [
         "partition-geo",
         "eyJpbmQiOjQ5MTMsInRpbWVzdGFtcCI6IjIwMTktMDMtMDhUMDY6NDU6MzkiLCJsYXRpdHVkZSI6LTg0LjM3NjgsImxvbmdpdHVkZSI6LTE1Ny41NDQsImNvdW50cnkiOiJBcnViYSJ9",
         "streaming-0affec486183-geo",
         "shardId-000000000000",
         "49654776715983955342252074501313187844435350667522998274",
         "2024-08-12T17:29:55.625+0000"
        ],
        [
         "partition-geo",
         "eyJpbmQiOjQxMzcsInRpbWVzdGFtcCI6IjIwMTktMDYtMjNUMjI6MTY6MzQiLCJsYXRpdHVkZSI6LTU1LjMwNzksImxvbmdpdHVkZSI6MTA4LjkxOCwiY291bnRyeSI6IkF1c3RyYWxpYSJ9",
         "streaming-0affec486183-geo",
         "shardId-000000000000",
         "49654776715983955342252074503401002734909815389679517698",
         "2024-08-12T17:29:57.281+0000"
        ],
        [
         "partition-geo",
         "eyJpbmQiOjcxNjYsInRpbWVzdGFtcCI6IjIwMjItMDctMjVUMDM6MDc6MzciLCJsYXRpdHVkZSI6LTg2LjQwNjMsImxvbmdpdHVkZSI6LTEzNi42NTcsImNvdW50cnkiOiJBcnViYSJ9",
         "streaming-0affec486183-geo",
         "shardId-000000000000",
         "49654776715983955342252074504233952624624294891052072962",
         "2024-08-12T17:29:57.922+0000"
        ],
        [
         "partition-geo",
         "eyJpbmQiOjk1NDYsInRpbWVzdGFtcCI6IjIwMTgtMDItMTBUMDY6MTY6NDAiLCJsYXRpdHVkZSI6LTcwLjAyOTUsImxvbmdpdHVkZSI6LTE1NS40MjgsImNvdW50cnkiOiJBdXN0cmlhIn0=",
         "streaming-0affec486183-geo",
         "shardId-000000000000",
         "49654776715983955342252074506278246185592632894199693314",
         "2024-08-12T17:29:59.579+0000"
        ],
        [
         "partition-geo",
         "eyJpbmQiOjI0MTEsInRpbWVzdGFtcCI6IjIwMjAtMTEtMTVUMTc6MTA6MDciLCJsYXRpdHVkZSI6LTcxLjY4NTYsImxvbmdpdHVkZSI6LTE3OS4xMjYsImNvdW50cnkiOiJBbGJhbmlhIn0=",
         "streaming-0affec486183-geo",
         "shardId-000000000000",
         "49654776715983955342252074508439805551063590064732766210",
         "2024-08-12T17:30:01.383+0000"
        ],
        [
         "partition-geo",
         "eyJpbmQiOjk1OTAsInRpbWVzdGFtcCI6IjIwMTktMDUtMjBUMTk6NDg6NDgiLCJsYXRpdHVkZSI6LTY0LjM4NzYsImxvbmdpdHVkZSI6LTE3NC4yODEsImNvdW50cnkiOiJBbGdlcmlhIn0=",
         "streaming-0affec486183-geo",
         "shardId-000000000000",
         "49654776715983955342252074510472009853835781776133324802",
         "2024-08-12T17:30:03.097+0000"
        ],
        [
         "partition-geo",
         "eyJpbmQiOjI2OTgsInRpbWVzdGFtcCI6IjIwMjEtMTEtMjRUMDg6MzM6NTEiLCJsYXRpdHVkZSI6LTcyLjcxNzQsImxvbmdpdHVkZSI6MjQuMTY5LCJjb3VudHJ5IjoiRWd5cHQifQ==",
         "streaming-0affec486183-geo",
         "shardId-000000000000",
         "49654776715983955342252074512403873313579959403472224258",
         "2024-08-12T17:30:04.767+0000"
        ],
        [
         "partition-geo",
         "eyJpbmQiOjQ1MDgsInRpbWVzdGFtcCI6IjIwMTktMDEtMDRUMTE6MTU6MjciLCJsYXRpdHVkZSI6NjkuMTg1OCwibG9uZ2l0dWRlIjotNzYuMDc2MSwiY291bnRyeSI6IlBoaWxpcHBpbmVzIn0=",
         "streaming-0affec486183-geo",
         "shardId-000000000000",
         "49654776715983955342252074513076036069285693224608858114",
         "2024-08-12T17:30:05.385+0000"
        ],
        [
         "partition-geo",
         "eyJpbmQiOjgzMSwidGltZXN0YW1wIjoiMjAyMS0wNi0yM1QyMzoxNjoxMCIsImxhdGl0dWRlIjotNDMuNzgxNiwibG9uZ2l0dWRlIjotNjYuMTU5MiwiY291bnRyeSI6IkNvbmdvIn0=",
         "streaming-0affec486183-geo",
         "shardId-000000000000",
         "49654776715983955342252074513766332712285646552085561346",
         "2024-08-12T17:30:06.011+0000"
        ],
        [
         "partition-geo",
         "eyJpbmQiOjUwNzYsInRpbWVzdGFtcCI6IjIwMTktMDUtMDVUMTY6MjI6MjMiLCJsYXRpdHVkZSI6LTcwLjcxOTUsImxvbmdpdHVkZSI6LTkxLjE5MzUsImNvdW50cnkiOiJHZXJtYW55In0=",
         "streaming-0affec486183-geo",
         "shardId-000000000000",
         "49654776715983955342252074514587193343803979761711054850",
         "2024-08-12T17:30:06.648+0000"
        ],
        [
         "partition-geo",
         "eyJpbmQiOjEwNjYzLCJ0aW1lc3RhbXAiOiIyMDE5LTA3LTI1VDE4OjUzOjUxIiwibGF0aXR1ZGUiOi0yNy4zNDc0LCJsb25naXR1ZGUiOi0xNjIuODMsImNvdW50cnkiOiJTYWludCBLaXR0cyBhbmQgTmV2aXMifQ==",
         "streaming-0affec486183-geo",
         "shardId-000000000000",
         "49654776715983955342252074515381457607290791198212489218",
         "2024-08-12T17:30:07.352+0000"
        ],
        [
         "partition-geo",
         "eyJpbmQiOjU0NjgsInRpbWVzdGFtcCI6IjIwMjAtMDUtMTZUMjM6MTc6NTAiLCJsYXRpdHVkZSI6LTgzLjU0NCwibG9uZ2l0dWRlIjozMy45NDczLCJjb3VudHJ5IjoiSXNsZSBvZiBNYW4ifQ==",
         "streaming-0affec486183-geo",
         "shardId-000000000000",
         "49654776715983955342252074517157369636304681524575338498",
         "2024-08-12T17:30:08.985+0000"
        ],
        [
         "partition-geo",
         "eyJpbmQiOjIwNSwidGltZXN0YW1wIjoiMjAyMC0wNy0wOFQxNDoxMDozOCIsImxhdGl0dWRlIjotNzUuODM3OCwibG9uZ2l0dWRlIjotMTYzLjk0NSwiY291bnRyeSI6IkJhcmJhZG9zIn0=",
         "streaming-0affec486183-geo",
         "shardId-000000000000",
         "49654776715983955342252074518991310104660074188763037698",
         "2024-08-12T17:30:10.720+0000"
        ],
        [
         "partition-geo",
         "eyJpbmQiOjc3OTAsInRpbWVzdGFtcCI6IjIwMTgtMDctMzFUMDg6MTk6MTUiLCJsYXRpdHVkZSI6LTQzLjY5MiwibG9uZ2l0dWRlIjo2NC45ODM5LCJjb3VudHJ5IjoiUGFwdWEgTmV3IEd1aW5lYSJ9",
         "streaming-0affec486183-geo",
         "shardId-000000000000",
         "49654776715983955342252074519668308563644266526598496258",
         "2024-08-12T17:30:11.367+0000"
        ],
        [
         "partition-geo",
         "eyJpbmQiOjg2MDYsInRpbWVzdGFtcCI6IjIwMjEtMDMtMjhUMTQ6NTQ6MDciLCJsYXRpdHVkZSI6LTg4LjA5NzQsImxvbmdpdHVkZSI6LTE3Mi4wNTIsImNvdW50cnkiOiJBbnRpZ3VhIGFuZCBCYXJidWRhIn0=",
         "streaming-0affec486183-geo",
         "shardId-000000000000",
         "49654776715983955342252074521074289291856080325501255682",
         "2024-08-12T17:30:12.029+0000"
        ],
        [
         "partition-geo",
         "eyJpbmQiOjk3NTksInRpbWVzdGFtcCI6IjIwMTctMTItMzBUMTM6MDU6NDkiLCJsYXRpdHVkZSI6LTc3Ljk3NDQsImxvbmdpdHVkZSI6LTEwNi4yNTgsImNvdW50cnkiOiJBbWVyaWNhbiBTYW1vYSJ9",
         "streaming-0affec486183-geo",
         "shardId-000000000000",
         "49654776715983955342252074522017251431155491081772072962",
         "2024-08-12T17:30:12.729+0000"
        ],
        [
         "partition-geo",
         "eyJpbmQiOjcxOSwidGltZXN0YW1wIjoiMjAxOC0xMC0yOVQwNDowNToxMiIsImxhdGl0dWRlIjotMzguNDA2MiwibG9uZ2l0dWRlIjotMTU0LjMyMywiY291bnRyeSI6IkFybWVuaWEifQ==",
         "streaming-0affec486183-geo",
         "shardId-000000000000",
         "49654776715983955342252074522718428406531976003101655042",
         "2024-08-12T17:30:13.366+0000"
        ],
        [
         "partition-geo",
         "eyJpbmQiOjE3MDQsInRpbWVzdGFtcCI6IjIwMTgtMTEtMjlUMDQ6NDY6MzkiLCJsYXRpdHVkZSI6LTU2Ljg3MDIsImxvbmdpdHVkZSI6LTkzLjYyMzIsImNvdW50cnkiOiJDaHJpc3RtYXMgSXNsYW5kIn0=",
         "streaming-0affec486183-geo",
         "shardId-000000000000",
         "49654776715983955342252074525113310455188556604353019906",
         "2024-08-12T17:30:15.351+0000"
        ],
        [
         "partition-geo",
         "eyJpbmQiOjI0ODIsInRpbWVzdGFtcCI6IjIwMTktMDktMTNUMDg6MjA6MTMiLCJsYXRpdHVkZSI6NjMuNDU2MywibG9uZ2l0dWRlIjotMTY0LjcwOSwiY291bnRyeSI6IkJlcm11ZGEifQ==",
         "streaming-0affec486183-geo",
         "shardId-000000000000",
         "49654776715983955342252074527192662864925718922286596098",
         "2024-08-12T17:30:17.018+0000"
        ],
        [
         "partition-geo",
         "eyJpbmQiOjg5MzAsInRpbWVzdGFtcCI6IjIwMjEtMDktMjlUMTM6MjU6NDkiLCJsYXRpdHVkZSI6LTg5LjQ3MzksImxvbmdpdHVkZSI6LTE3Ni4xNTQsImNvdW50cnkiOiJBcmdlbnRpbmEifQ==",
         "streaming-0affec486183-geo",
         "shardId-000000000000",
         "49654776715983955342252074529201897577125232679367737346",
         "2024-08-12T17:30:18.654+0000"
        ],
        [
         "partition-geo",
         "eyJpbmQiOjcyOTQsInRpbWVzdGFtcCI6IjIwMTgtMDItMTJUMDg6MDY6MjgiLCJsYXRpdHVkZSI6LTc2LjI5NjcsImxvbmdpdHVkZSI6LTEzNi41MDEsImNvdW50cnkiOiJBdXN0cmFsaWEifQ==",
         "streaming-0affec486183-geo",
         "shardId-000000000000",
         "49654776715983955342252074529980445804957053867878514690",
         "2024-08-12T17:30:19.276+0000"
        ],
        [
         "partition-geo",
         "eyJpbmQiOjgwOCwidGltZXN0YW1wIjoiMjAxOS0wMS0wM1QxNTo0MzoxMiIsImxhdGl0dWRlIjotNzEuNjg1NiwibG9uZ2l0dWRlIjotMTc5LjEyNiwiY291bnRyeSI6IkFsYmFuaWEifQ==",
         "streaming-0affec486183-geo",
         "shardId-000000000000",
         "49654776715983955342252074530761411884428104452177657858",
         "2024-08-12T17:30:19.915+0000"
        ],
        [
         "partition-geo",
         "eyJpbmQiOjc3MSwidGltZXN0YW1wIjoiMjAxOC0wNi0yMVQwODo0Mjo1NyIsImxhdGl0dWRlIjotMjkuMTcxMiwibG9uZ2l0dWRlIjotMTA3LjExMSwiY291bnRyeSI6Ik1vbnRzZXJyYXQifQ==",
         "streaming-0affec486183-geo",
         "shardId-000000000000",
         "49654776715983955342252074532875823142934090947458236418",
         "2024-08-12T17:30:21.574+0000"
        ],
        [
         "partition-geo",
         "eyJpbmQiOjQwNzYsInRpbWVzdGFtcCI6IjIwMTktMDYtMDdUMjA6MTM6NTAiLCJsYXRpdHVkZSI6LTY3LjIxNTcsImxvbmdpdHVkZSI6MjcuODEzOSwiY291bnRyeSI6Ik1hdXJpdGFuaWEifQ==",
         "streaming-0affec486183-geo",
         "shardId-000000000000",
         "49654776715983955342252074533706355181009341190481379330",
         "2024-08-12T17:30:22.225+0000"
        ],
        [
         "partition-geo",
         "eyJpbmQiOjE1NDUsInRpbWVzdGFtcCI6IjIwMjItMDYtMTdUMDU6NDc6MTIiLCJsYXRpdHVkZSI6LTMwLjE4LCJsb25naXR1ZGUiOi03Mi4zNzg0LCJjb3VudHJ5IjoiQW5ndWlsbGEifQ==",
         "streaming-0affec486183-geo",
         "shardId-000000000000",
         "49654776715983955342252074534574363919492645006639890434",
         "2024-08-12T17:30:22.857+0000"
        ],
        [
         "partition-geo",
         "eyJpbmQiOjIyOTMsInRpbWVzdGFtcCI6IjIwMjItMDMtMjFUMTA6NDY6NTMiLCJsYXRpdHVkZSI6LTg3Ljc5NDYsImxvbmdpdHVkZSI6LTE1OS42NDcsImNvdW50cnkiOiJCcml0aXNoIFZpcmdpbiBJc2xhbmRzIn0=",
         "streaming-0affec486183-geo",
         "shardId-000000000000",
         "49654776715983955342252074535267078414131827523746529282",
         "2024-08-12T17:30:23.467+0000"
        ],
        [
         "partition-geo",
         "eyJpbmQiOjEwNTA5LCJ0aW1lc3RhbXAiOiIyMDE5LTAzLTA2VDEyOjIxOjU2IiwibGF0aXR1ZGUiOi02Ny4xODcsImxvbmdpdHVkZSI6LTI0LjI5NzcsImNvdW50cnkiOiJHaWJyYWx0YXIifQ==",
         "streaming-0affec486183-geo",
         "shardId-000000000000",
         "49654776715983955342252074536028701680489043972530896898",
         "2024-08-12T17:30:24.096+0000"
        ],
        [
         "partition-geo",
         "eyJpbmQiOjIwMTUsInRpbWVzdGFtcCI6IjIwMTgtMDktMjJUMTM6NTI6MTkiLCJsYXRpdHVkZSI6LTE3LjYyOSwibG9uZ2l0dWRlIjotMTc3LjY4NSwiY291bnRyeSI6IkFybWVuaWEifQ==",
         "streaming-0affec486183-geo",
         "shardId-000000000000",
         "49654776715983955342252074536783071391928572577547550722",
         "2024-08-12T17:30:24.709+0000"
        ],
        [
         "partition-geo",
         "eyJpbmQiOjEwOTQsInRpbWVzdGFtcCI6IjIwMTgtMDgtMTlUMDA6MzQ6MjAiLCJsYXRpdHVkZSI6LTQ2LjczMjgsImxvbmdpdHVkZSI6LTEyNC40NDUsImNvdW50cnkiOiJBcm1lbmlhIn0=",
         "streaming-0affec486183-geo",
         "shardId-000000000000",
         "49654776715983955342252074539667568397529077994554916866",
         "2024-08-12T17:30:26.395+0000"
        ],
        [
         "partition-geo",
         "eyJpbmQiOjYwMywidGltZXN0YW1wIjoiMjAxOS0wNi0yNVQwNToxMzowMSIsImxhdGl0dWRlIjoxNC4wMDgzLCJsb25naXR1ZGUiOi0xNDEuNjAzLCJjb3VudHJ5IjoiTmV0aGVybGFuZHMgQW50aWxsZXMifQ==",
         "streaming-0affec486183-geo",
         "shardId-000000000000",
         "49654776715983955342252074541744502955627010985419603970",
         "2024-08-12T17:30:28.061+0000"
        ],
        [
         "partition-geo",
         "eyJpbmQiOjc3NjgsInRpbWVzdGFtcCI6IjIwMTgtMDUtMjVUMjE6MzQ6MTkiLCJsYXRpdHVkZSI6LTg4LjM1NSwibG9uZ2l0dWRlIjotOTYuMDEzMSwiY291bnRyeSI6IkFsZ2VyaWEifQ==",
         "streaming-0affec486183-geo",
         "shardId-000000000000",
         "49654776715983955342252074543817810736266100157479649282",
         "2024-08-12T17:30:29.660+0000"
        ],
        [
         "partition-geo",
         "eyJpbmQiOjU2MzAsInRpbWVzdGFtcCI6IjIwMTktMDUtMTJUMTQ6NDM6MTkiLCJsYXRpdHVkZSI6LTE5LjE0MDMsImxvbmdpdHVkZSI6LTE2NC45ODcsImNvdW50cnkiOiJCYWhyYWluIn0=",
         "streaming-0affec486183-geo",
         "shardId-000000000000",
         "49654776715983955342252074545738793863633746053526716418",
         "2024-08-12T17:30:31.269+0000"
        ],
        [
         "partition-geo",
         "eyJpbmQiOjg1NzgsInRpbWVzdGFtcCI6IjIwMTgtMDEtMjZUMTk6Mjc6MTEiLCJsYXRpdHVkZSI6MzQuNjQyNywibG9uZ2l0dWRlIjotMTYxLjM5NywiY291bnRyeSI6Ikd1aW5lYS1CaXNzYXUifQ==",
         "streaming-0affec486183-geo",
         "shardId-000000000000",
         "49654776715983955342252074547858040825418191065506119682",
         "2024-08-12T17:30:32.920+0000"
        ],
        [
         "partition-geo",
         "eyJpbmQiOjk5MzYsInRpbWVzdGFtcCI6IjIwMTgtMDYtMzBUMjI6MDc6MTMiLCJsYXRpdHVkZSI6LTgyLjE3MTUsImxvbmdpdHVkZSI6LTE0Ny42OTEsImNvdW50cnkiOiJBdXN0cmFsaWEifQ==",
         "streaming-0affec486183-geo",
         "shardId-000000000000",
         "49654776715983955342252074549099607642162415296648839170",
         "2024-08-12T17:30:33.570+0000"
        ],
        [
         "partition-geo",
         "eyJpbmQiOjY4NDQsInRpbWVzdGFtcCI6IjIwMjEtMDYtMDZUMjE6NTM6MTEiLCJsYXRpdHVkZSI6LTIyLjY5MTUsImxvbmdpdHVkZSI6NS42OTI0NSwiY291bnRyeSI6Ik5ldyBDYWxlZG9uaWEifQ==",
         "streaming-0affec486183-geo",
         "shardId-000000000000",
         "49654776715983955342252074551134229796573836335118286850",
         "2024-08-12T17:30:35.188+0000"
        ],
        [
         "partition-geo",
         "eyJpbmQiOjM0MTksInRpbWVzdGFtcCI6IjIwMjEtMTItMjBUMDU6MDE6NTQiLCJsYXRpdHVkZSI6Ny42MDI5MywibG9uZ2l0dWRlIjotMTA4Ljk3OSwiY291bnRyeSI6IkJodXRhbiJ9",
         "streaming-0affec486183-geo",
         "shardId-000000000000",
         "49654776715983955342252074551990149276860993859529736194",
         "2024-08-12T17:30:35.784+0000"
        ],
        [
         "partition-geo",
         "eyJpbmQiOjEyNjgsInRpbWVzdGFtcCI6IjIwMTktMDctMDZUMDQ6MTA6MjkiLCJsYXRpdHVkZSI6LTQxLjc4MDMsImxvbmdpdHVkZSI6LTE3Ny4yMywiY291bnRyeSI6IkFyZ2VudGluYSJ9",
         "streaming-0affec486183-geo",
         "shardId-000000000000",
         "49654776715983955342252074554244795930442277339076231170",
         "2024-08-12T17:30:37.429+0000"
        ],
        [
         "partition-geo",
         "eyJpbmQiOjY1NjYsInRpbWVzdGFtcCI6IjIwMjAtMTEtMTlUMTA6MDY6MTMiLCJsYXRpdHVkZSI6LTM5LjIyNSwibG9uZ2l0dWRlIjotNzEuNjU5MywiY291bnRyeSI6IkNhcGUgVmVyZGUifQ==",
         "streaming-0affec486183-geo",
         "shardId-000000000000",
         "49654776715983955342252074556474055141811653605953896450",
         "2024-08-12T17:30:39.043+0000"
        ],
        [
         "partition-geo",
         "eyJpbmQiOjE1NTUsInRpbWVzdGFtcCI6IjIwMTctMTItMjRUMTg6NDE6MjMiLCJsYXRpdHVkZSI6LTEuNzA0NiwibG9uZ2l0dWRlIjotNTUuMzMyLCJjb3VudHJ5IjoiQWxnZXJpYSJ9",
         "streaming-0affec486183-geo",
         "shardId-000000000000",
         "49654776715983955342252074558635614507282610776486969346",
         "2024-08-12T17:30:40.660+0000"
        ],
        [
         "partition-geo",
         "eyJpbmQiOjM3MjksInRpbWVzdGFtcCI6IjIwMTgtMDEtMTdUMDM6NDM6MzgiLCJsYXRpdHVkZSI6LTI0LjQ3OTMsImxvbmdpdHVkZSI6LTE1MC4xNDUsImNvdW50cnkiOiJUdXJrZXkifQ==",
         "streaming-0affec486183-geo",
         "shardId-000000000000",
         "49654776715983955342252074559593083756417397082854260738",
         "2024-08-12T17:30:41.288+0000"
        ],
        [
         "partition-geo",
         "eyJpbmQiOjYzOTgsInRpbWVzdGFtcCI6IjIwMjAtMDEtMTlUMDE6NDk6MDUiLCJsYXRpdHVkZSI6LTMuMjkyNjcsImxvbmdpdHVkZSI6LTE3OS43MjYsImNvdW50cnkiOiJBbGJhbmlhIn0=",
         "streaming-0affec486183-geo",
         "shardId-000000000000",
         "49654776715983955342252074560392183723182667036054519810",
         "2024-08-12T17:30:41.919+0000"
        ],
        [
         "partition-geo",
         "eyJpbmQiOjQ2LCJ0aW1lc3RhbXAiOiIyMDE4LTA5LTE1VDA5OjE2OjU3IiwibGF0aXR1ZGUiOjQuMjE2ODksImxvbmdpdHVkZSI6LTE0NS44MiwiY291bnRyeSI6IkFmZ2hhbmlzdGFuIn0=",
         "streaming-0affec486183-geo",
         "shardId-000000000000",
         "49654776715983955342252074562944226128389149292578734082",
         "2024-08-12T17:30:43.609+0000"
        ],
        [
         "partition-geo",
         "eyJpbmQiOjQ5ODgsInRpbWVzdGFtcCI6IjIwMjAtMDctMTFUMTE6MDE6MTIiLCJsYXRpdHVkZSI6LTMyLjE4NzksImxvbmdpdHVkZSI6LTM1LjI3ODQsImNvdW50cnkiOiJNYWRhZ2FzY2FyIn0=",
         "streaming-0affec486183-geo",
         "shardId-000000000000",
         "49654776715983955342252074565299213624998446993625841666",
         "2024-08-12T17:30:45.231+0000"
        ],
        [
         "partition-geo",
         "eyJpbmQiOjQyNywidGltZXN0YW1wIjoiMjAyMC0wNC0yMlQwMzowODo1MCIsImxhdGl0dWRlIjotNjYuOTQxOCwibG9uZ2l0dWRlIjotMzAuMDA4NywiY291bnRyeSI6IklzbGUgb2YgTWFuIn0=",
         "streaming-0affec486183-geo",
         "shardId-000000000000",
         "49654776715983955342252074566166013437662136180609646594",
         "2024-08-12T17:30:45.843+0000"
        ],
        [
         "partition-geo",
         "eyJpbmQiOjM4MDAsInRpbWVzdGFtcCI6IjIwMTgtMDEtMjdUMTY6NDk6MDciLCJsYXRpdHVkZSI6LTYxLjQ3MSwibG9uZ2l0dWRlIjotMTU0LjkxMiwiY291bnRyeSI6IkFydWJhIn0=",
         "streaming-0affec486183-geo",
         "shardId-000000000000",
         "49654776715983955342252074568425495794521878245574443010",
         "2024-08-12T17:30:47.473+0000"
        ],
        [
         "partition-geo",
         "eyJpbmQiOjE1OSwidGltZXN0YW1wIjoiMjAxNy0xMS0yMFQyMToxNDo1NiIsImxhdGl0dWRlIjotODguMDgxMiwibG9uZ2l0dWRlIjotMTY2LjYwMywiY291bnRyeSI6IkFuZG9ycmEifQ==",
         "streaming-0affec486183-geo",
         "shardId-000000000000",
         "49654776715983955342252074571023477380873716479456968706",
         "2024-08-12T17:30:49.138+0000"
        ],
        [
         "partition-geo",
         "eyJpbmQiOjM1OTksInRpbWVzdGFtcCI6IjIwMTktMDMtMDNUMDY6MTM6NDEiLCJsYXRpdHVkZSI6LTg4LjU0NzgsImxvbmdpdHVkZSI6LTE3NC45NzEsImNvdW50cnkiOiJBZmdoYW5pc3RhbiJ9",
         "streaming-0affec486183-geo",
         "shardId-000000000000",
         "49654776715983955342252074571972484149271200381601316866",
         "2024-08-12T17:30:49.760+0000"
        ],
        [
         "partition-geo",
         "eyJpbmQiOjEwNTUyLCJ0aW1lc3RhbXAiOiIyMDIwLTA4LTI0VDExOjM5OjMyIiwibGF0aXR1ZGUiOjMyLjc1NjgsImxvbmdpdHVkZSI6LTE3OS44MTIsImNvdW50cnkiOiJHcmVuYWRhIn0=",
         "streaming-0affec486183-geo",
         "shardId-000000000000",
         "49654776715983955342252074574287577093833215319883120642",
         "2024-08-12T17:30:51.371+0000"
        ],
        [
         "partition-geo",
         "eyJpbmQiOjE0MjIsInRpbWVzdGFtcCI6IjIwMTgtMDQtMzBUMDg6Mjc6MjEiLCJsYXRpdHVkZSI6LTg4LjUyNTIsImxvbmdpdHVkZSI6LTE3Mi40MzYsImNvdW50cnkiOiJBbWVyaWNhbiBTYW1vYSJ9",
         "streaming-0affec486183-geo",
         "shardId-000000000000",
         "49654776715983955342252074575333297927799869693442916354",
         "2024-08-12T17:30:52.047+0000"
        ],
        [
         "partition-geo",
         "eyJpbmQiOjUzMDksInRpbWVzdGFtcCI6IjIwMjAtMDUtMDRUMjI6MDA6MzIiLCJsYXRpdHVkZSI6LTg5LjQxOTQsImxvbmdpdHVkZSI6LTg0LjI0OTMsImNvdW50cnkiOiJNYWxkaXZlcyJ9",
         "streaming-0affec486183-geo",
         "shardId-000000000000",
         "49654776715983955342252074577710046089162230719634735106",
         "2024-08-12T17:30:53.699+0000"
        ],
        [
         "partition-geo",
         "eyJpbmQiOjU1MiwidGltZXN0YW1wIjoiMjAyMi0wMy0xNFQwNToxMjowNyIsImxhdGl0dWRlIjotODAuNjA0MywibG9uZ2l0dWRlIjozMS45NjAxLCJjb3VudHJ5IjoiTGVzb3RobyJ9",
         "streaming-0affec486183-geo",
         "shardId-000000000000",
         "49654776715983955342252074580355175782479039422611324930",
         "2024-08-12T17:30:55.380+0000"
        ],
        [
         "partition-geo",
         "eyJpbmQiOjEzNzEsInRpbWVzdGFtcCI6IjIwMTgtMDgtMDhUMDQ6NDE6MTciLCJsYXRpdHVkZSI6LTg5LjQ1ODQsImxvbmdpdHVkZSI6LTEzNC4yNzEsImNvdW50cnkiOiJBbmRvcnJhIn0=",
         "streaming-0affec486183-geo",
         "shardId-000000000000",
         "49654776715983955342252074581340450325464962268716335106",
         "2024-08-12T17:30:56.014+0000"
        ],
        [
         "partition-geo",
         "eyJpbmQiOjEwMTE5LCJ0aW1lc3RhbXAiOiIyMDIwLTEwLTIyVDAxOjU5OjU4IiwibGF0aXR1ZGUiOi03NC41NDMxLCJsb25naXR1ZGUiOi0xNjIuNzk1LCJjb3VudHJ5IjoiQ2hyaXN0bWFzIElzbGFuZCJ9",
         "streaming-0affec486183-geo",
         "shardId-000000000000",
         "49654776715983955342252074582261651800011309768561917954",
         "2024-08-12T17:30:56.640+0000"
        ],
        [
         "partition-geo",
         "eyJpbmQiOjkwNzQsInRpbWVzdGFtcCI6IjIwMjItMDQtMTBUMTc6MDY6MTMiLCJsYXRpdHVkZSI6LTg0LjczNjMsImxvbmdpdHVkZSI6LTE3OS4wODcsImNvdW50cnkiOiJBbmRvcnJhIn0=",
         "streaming-0affec486183-geo",
         "shardId-000000000000",
         "49654776715983955342252074584600923260965617359057321986",
         "2024-08-12T17:30:58.290+0000"
        ],
        [
         "partition-geo",
         "eyJpbmQiOjI2MDQsInRpbWVzdGFtcCI6IjIwMTgtMTItMDFUMDk6MjM6MzUiLCJsYXRpdHVkZSI6LTgwLjg5MzMsImxvbmdpdHVkZSI6LTEwNC45NzIsImNvdW50cnkiOiJBbnRpZ3VhIGFuZCBCYXJidWRhIn0=",
         "streaming-0affec486183-geo",
         "shardId-000000000000",
         "49654776715983955342252074585587406729771154834337038338",
         "2024-08-12T17:30:58.949+0000"
        ],
        [
         "partition-geo",
         "eyJpbmQiOjIyMywidGltZXN0YW1wIjoiMjAxOC0xMi0wN1QwNzozMDo0MCIsImxhdGl0dWRlIjoxLjE1NTA5LCJsb25naXR1ZGUiOi0xMTguMzk3LCJjb3VudHJ5IjoiSXNsZSBvZiBNYW4ifQ==",
         "streaming-0affec486183-geo",
         "shardId-000000000000",
         "49654776715983955342252074586508608204317502265463144450",
         "2024-08-12T17:30:59.575+0000"
        ],
        [
         "partition-geo",
         "eyJpbmQiOjgzMTIsInRpbWVzdGFtcCI6IjIwMjEtMDQtMjVUMTU6NTY6MjkiLCJsYXRpdHVkZSI6LTc3Ljk3NDQsImxvbmdpdHVkZSI6LTEwNi4yNTgsImNvdW50cnkiOiJBbWVyaWNhbiBTYW1vYSJ9",
         "streaming-0affec486183-geo",
         "shardId-000000000000",
         "49654776715983955342252074588849088591091424416413777922",
         "2024-08-12T17:31:01.224+0000"
        ],
        [
         "partition-geo",
         "eyJpbmQiOjI4NTgsInRpbWVzdGFtcCI6IjIwMTgtMDUtMDNUMTM6Mjc6MDkiLCJsYXRpdHVkZSI6LTY1LjE1NjUsImxvbmdpdHVkZSI6LTE2Ni44MDcsImNvdW50cnkiOiJBcmdlbnRpbmEifQ==",
         "streaming-0affec486183-geo",
         "shardId-000000000000",
         "49654776715983955342252074591144838722539605356619759618",
         "2024-08-12T17:31:02.851+0000"
        ],
        [
         "partition-geo",
         "eyJpbmQiOjYyNjEsInRpbWVzdGFtcCI6IjIwMjEtMTEtMTFUMTY6MTg6NDUiLCJsYXRpdHVkZSI6LTEwLjMxMDEsImxvbmdpdHVkZSI6LTEwOS43NjMsImNvdW50cnkiOiJNYXJzaGFsbCBJc2xhbmRzIn0=",
         "streaming-0affec486183-geo",
         "shardId-000000000000",
         "49654776715983955342252074593469603073658537397018689538",
         "2024-08-12T17:31:04.498+0000"
        ],
        [
         "partition-geo",
         "eyJpbmQiOjMyMDEsInRpbWVzdGFtcCI6IjIwMTktMDYtMjVUMDg6MzE6MzciLCJsYXRpdHVkZSI6MzQuMDUzMiwibG9uZ2l0dWRlIjotNjguNDk0NiwiY291bnRyeSI6IlBpdGNhaXJuIElzbGFuZHMifQ==",
         "streaming-0affec486183-geo",
         "shardId-000000000000",
         "49654776715983955342252074595819754866989376650086449154",
         "2024-08-12T17:31:06.112+0000"
        ],
        [
         "partition-geo",
         "eyJpbmQiOjI2MzcsInRpbWVzdGFtcCI6IjIwMjItMTAtMTVUMTM6MjU6NTEiLCJsYXRpdHVkZSI6My4wMDMzLCJsb25naXR1ZGUiOi05Ni40OTA0LCJjb3VudHJ5IjoiVHVuaXNpYSJ9",
         "streaming-0affec486183-geo",
         "shardId-000000000000",
         "49654776715983955342252074596710733196045358351844900866",
         "2024-08-12T17:31:06.732+0000"
        ],
        [
         "partition-geo",
         "eyJpbmQiOjExOTgsInRpbWVzdGFtcCI6IjIwMjAtMDEtMjRUMjM6NDI6MTgiLCJsYXRpdHVkZSI6Ni4zNzIwNywibG9uZ2l0dWRlIjotMTUwLjczLCJjb3VudHJ5IjoiRmlubGFuZCJ9",
         "streaming-0affec486183-geo",
         "shardId-000000000000",
         "49654776715983955342252074598956917368889339427168452610",
         "2024-08-12T17:31:08.344+0000"
        ],
        [
         "partition-geo",
         "eyJpbmQiOjEwMzcwLCJ0aW1lc3RhbXAiOiIyMDE4LTA3LTI5VDE1OjUzOjQwIiwibGF0aXR1ZGUiOi04MS45Nzk4LCJsb25naXR1ZGUiOi03MS45MzIsImNvdW50cnkiOiJGaW5sYW5kIn0=",
         "streaming-0affec486183-geo",
         "shardId-000000000000",
         "49654776715983955342252074601161998063866423179271471106",
         "2024-08-12T17:31:10.029+0000"
        ],
        [
         "partition-geo",
         "eyJpbmQiOjcxNjcsInRpbWVzdGFtcCI6IjIwMTktMTItMjdUMjA6NDU6MDQiLCJsYXRpdHVkZSI6LTU1Ljc1NywibG9uZ2l0dWRlIjotMTU3LjU3MiwiY291bnRyeSI6IkVjdWFkb3IifQ==",
         "streaming-0affec486183-geo",
         "shardId-000000000000",
         "49654776715983955342252074602033633579808570951673577474",
         "2024-08-12T17:31:10.678+0000"
        ],
        [
         "partition-geo",
         "eyJpbmQiOjEwNjczLCJ0aW1lc3RhbXAiOiIyMDIxLTA2LTMwVDA4OjQ3OjAxIiwibGF0aXR1ZGUiOjM3LjE5OTEsImxvbmdpdHVkZSI6LTMyLjE3MTMsImNvdW50cnkiOiJOaWNhcmFndWEifQ==",
         "streaming-0affec486183-geo",
         "shardId-000000000000",
         "49654776715983955342252074602853285285507289532124364802",
         "2024-08-12T17:31:11.304+0000"
        ],
        [
         "partition-geo",
         "eyJpbmQiOjIwNjAsInRpbWVzdGFtcCI6IjIwMjAtMDEtMjVUMTM6NTQ6MTciLCJsYXRpdHVkZSI6NTIuNDU4NCwibG9uZ2l0dWRlIjo2OC42NTI3LCJjb3VudHJ5IjoiVHJpbmlkYWQgYW5kIFRvYmFnbyJ9",
         "streaming-0affec486183-geo",
         "shardId-000000000000",
         "49654776715983955342252074604987039357127110094200242178",
         "2024-08-12T17:31:12.955+0000"
        ],
        [
         "partition-geo",
         "eyJpbmQiOjk0ODcsInRpbWVzdGFtcCI6IjIwMTgtMTItMThUMTE6MTY6NTIiLCJsYXRpdHVkZSI6LTc2Ljk1MzIsImxvbmdpdHVkZSI6LTExMy42NDEsImNvdW50cnkiOiJDYW5hZGEifQ==",
         "streaming-0affec486183-geo",
         "shardId-000000000000",
         "49654776715983955342252074605809108914465058001719918594",
         "2024-08-12T17:31:13.557+0000"
        ],
        [
         "partition-geo",
         "eyJpbmQiOjc3MiwidGltZXN0YW1wIjoiMjAyMi0wOS0yMlQwNTo1OTo1NSIsImxhdGl0dWRlIjoyNS4wNzA4LCJsb25naXR1ZGUiOi05Ny4xOTY0LCJjb3VudHJ5IjoiTW9uYWNvIn0=",
         "streaming-0affec486183-geo",
         "shardId-000000000000",
         "49654776715983955342252074606533255480414220877368918018",
         "2024-08-12T17:31:14.189+0000"
        ],
        [
         "partition-geo",
         "eyJpbmQiOjc1MTAsInRpbWVzdGFtcCI6IjIwMjEtMTItMjFUMDE6Mzc6MjUiLCJsYXRpdHVkZSI6LTc5Ljk4MjgsImxvbmdpdHVkZSI6LTE3Mi4yMzUsImNvdW50cnkiOiJBcnViYSJ9",
         "streaming-0affec486183-geo",
         "shardId-000000000000",
         "49654776715983955342252074608600518631955236972274909186",
         "2024-08-12T17:31:15.887+0000"
        ],
        [
         "partition-geo",
         "eyJpbmQiOjU3NTgsInRpbWVzdGFtcCI6IjIwMTgtMDktMTJUMTU6MDg6MzQiLCJsYXRpdHVkZSI6LTc5LjM3MTQsImxvbmdpdHVkZSI6LTE0NS4yNDIsImNvdW50cnkiOiJBemVyYmFpamFuIn0=",
         "streaming-0affec486183-geo",
         "shardId-000000000000",
         "49654776715983955342252074610598873011778219066783694850",
         "2024-08-12T17:31:17.507+0000"
        ],
        [
         "partition-geo",
         "eyJpbmQiOjExMzcsInRpbWVzdGFtcCI6IjIwMjAtMTItMjZUMDA6NTY6MDQiLCJsYXRpdHVkZSI6MTIuMjU0NCwibG9uZ2l0dWRlIjoxMC43MzYxLCJjb3VudHJ5IjoiU2V5Y2hlbGxlcyJ9",
         "streaming-0affec486183-geo",
         "shardId-000000000000",
         "49654776715983955342252074611396764052723874390809247746",
         "2024-08-12T17:31:18.139+0000"
        ],
        [
         "partition-geo",
         "eyJpbmQiOjcyMzQsInRpbWVzdGFtcCI6IjIwMTctMTAtMjFUMTQ6MzE6MDIiLCJsYXRpdHVkZSI6LTg2LjQ3OTEsImxvbmdpdHVkZSI6LTE2OS41NDcsImNvdW50cnkiOiJBbGdlcmlhIn0=",
         "streaming-0affec486183-geo",
         "shardId-000000000000",
         "49654776715983955342252074612250265681371802588151808002",
         "2024-08-12T17:31:18.762+0000"
        ],
        [
         "partition-geo",
         "eyJpbmQiOjMyNywidGltZXN0YW1wIjoiMjAyMi0wMi0wOVQwMzowMzo1OCIsImxhdGl0dWRlIjo2Mi4zNjc0LCJsb25naXR1ZGUiOjEwMC45NzIsImNvdW50cnkiOiJHaWJyYWx0YXIifQ==",
         "streaming-0affec486183-geo",
         "shardId-000000000000",
         "49654776715983955342252074614379184049713164633528860674",
         "2024-08-12T17:31:20.436+0000"
        ],
        [
         "partition-geo",
         "eyJpbmQiOjc4NzQsInRpbWVzdGFtcCI6IjIwMjItMDEtMThUMDg6NTg6NDkiLCJsYXRpdHVkZSI6LTg5LjUxNzMsImxvbmdpdHVkZSI6LTE3OS42ODksImNvdW50cnkiOiJBbGdlcmlhIn0=",
         "streaming-0affec486183-geo",
         "shardId-000000000000",
         "49654776715983955342252074615216969642706102720319717378",
         "2024-08-12T17:31:21.099+0000"
        ],
        [
         "partition-geo",
         "eyJpbmQiOjE0NTAsInRpbWVzdGFtcCI6IjIwMjItMDEtMTVUMTY6MDQ6MjciLCJsYXRpdHVkZSI6LTg4LjUyNTIsImxvbmdpdHVkZSI6LTE3Mi40MzYsImNvdW50cnkiOiJBbWVyaWNhbiBTYW1vYSJ9",
         "streaming-0affec486183-geo",
         "shardId-000000000000",
         "49654776715983955342252074615982219686522163125347680258",
         "2024-08-12T17:31:21.680+0000"
        ],
        [
         "partition-geo",
         "eyJpbmQiOjEwMjQ1LCJ0aW1lc3RhbXAiOiIyMDIwLTAzLTAzVDE1OjM5OjQ0IiwibGF0aXR1ZGUiOi01MC4xODM1LCJsb25naXR1ZGUiOjE0Ni43NzYsImNvdW50cnkiOiJCYWhhbWFzIn0=",
         "streaming-0affec486183-geo",
         "shardId-000000000000",
         "49654776715983955342252074618022886470031657240971182082",
         "2024-08-12T17:31:23.324+0000"
        ],
        [
         "partition-geo",
         "eyJpbmQiOjkwOTMsInRpbWVzdGFtcCI6IjIwMjEtMDctMjRUMjM6MDc6MDYiLCJsYXRpdHVkZSI6LTg3Ljc3NjQsImxvbmdpdHVkZSI6LTE1MS42NDUsImNvdW50cnkiOiJBdXN0cmlhIn0=",
         "streaming-0affec486183-geo",
         "shardId-000000000000",
         "49654776715983955342252074618902984466711107280157278210",
         "2024-08-12T17:31:23.957+0000"
        ],
        [
         "partition-geo",
         "eyJpbmQiOjIzMDEsInRpbWVzdGFtcCI6IjIwMjAtMTEtMTRUMDA6MjU6MjgiLCJsYXRpdHVkZSI6MTMuNDY4MywibG9uZ2l0dWRlIjo1MS43MjQ0LCJjb3VudHJ5IjoiU2FpbnQgVmluY2VudCBhbmQgdGhlIEdyZW5hZGluZXM= (truncated)",
         "streaming-0affec486183-geo",
         "shardId-000000000000",
         "49654776715983955342252074619654936326511406695543996418",
         "2024-08-12T17:31:24.580+0000"
        ],
        [
         "partition-geo",
         "eyJpbmQiOjI3ODgsInRpbWVzdGFtcCI6IjIwMTktMTItMThUMDM6MDQ6NDEiLCJsYXRpdHVkZSI6LTM2LjA3NiwibG9uZ2l0dWRlIjotOTQuMTc3OSwiY291bnRyeSI6IkRqaWJvdXRpIn0=",
         "streaming-0affec486183-geo",
         "shardId-000000000000",
         "49654776715983955342252074620457663070735520467548897282",
         "2024-08-12T17:31:25.200+0000"
        ],
        [
         "partition-geo",
         "eyJpbmQiOjkyNjgsInRpbWVzdGFtcCI6IjIwMjAtMDMtMTZUMjM6MTM6NTEiLCJsYXRpdHVkZSI6LTg4LjUyNTUsImxvbmdpdHVkZSI6LTE2MS42NDQsImNvdW50cnkiOiJBbWVyaWNhbiBTYW1vYSJ9",
         "streaming-0affec486183-geo",
         "shardId-000000000000",
         "49654776715983955342252074622676041949728365209293160450",
         "2024-08-12T17:31:26.867+0000"
        ],
        [
         "partition-geo",
         "eyJpbmQiOjE3MDYsInRpbWVzdGFtcCI6IjIwMTctMTEtMjRUMjM6MzY6NDYiLCJsYXRpdHVkZSI6LTcxLjUwMjUsImxvbmdpdHVkZSI6LTE3OS4yNTcsImNvdW50cnkiOiJBcnViYSJ9",
         "streaming-0affec486183-geo",
         "shardId-000000000000",
         "49654776715983955342252074624807378169708956513019625474",
         "2024-08-12T17:31:28.539+0000"
        ],
        [
         "partition-geo",
         "eyJpbmQiOjUyOTMsInRpbWVzdGFtcCI6IjIwMTktMDUtMzFUMjA6NDk6MzYiLCJsYXRpdHVkZSI6LTEzLjE0NjMsImxvbmdpdHVkZSI6LTI1Ljk2NDksImNvdW50cnkiOiJTYW8gVG9tZSBhbmQgUHJpbmNpcGUifQ==",
         "streaming-0affec486183-geo",
         "shardId-000000000000",
         "49654776715983955342252074627124888965910200709650841602",
         "2024-08-12T17:31:30.173+0000"
        ],
        [
         "partition-geo",
         "eyJpbmQiOjc3MzMsInRpbWVzdGFtcCI6IjIwMjItMDktMjlUMTA6NDU6MTkiLCJsYXRpdHVkZSI6LTg5LjUxNzMsImxvbmdpdHVkZSI6LTE3OS42ODksImNvdW50cnkiOiJBbGdlcmlhIn0=",
         "streaming-0affec486183-geo",
         "shardId-000000000000",
         "49654776715983955342252074628024329775703484884351713282",
         "2024-08-12T17:31:30.792+0000"
        ],
        [
         "partition-geo",
         "eyJpbmQiOjM3MTYsInRpbWVzdGFtcCI6IjIwMTgtMTItMzFUMjA6NDM6NDIiLCJsYXRpdHVkZSI6MzIuNjY0OCwibG9uZ2l0dWRlIjotMTYuMDU3OCwiY291bnRyeSI6IkxpdGh1YW5pYSJ9",
         "streaming-0affec486183-geo",
         "shardId-000000000000",
         "49654776715983955342252074630587252513286498803448283138",
         "2024-08-12T17:31:32.430+0000"
        ],
        [
         "partition-geo",
         "eyJpbmQiOjM3NTAsInRpbWVzdGFtcCI6IjIwMjItMDktMDNUMjM6MzY6MDgiLCJsYXRpdHVkZSI6LTczLjg4MzcsImxvbmdpdHVkZSI6LTE1OS4wNTQsImNvdW50cnkiOiJDb21vcm9zIn0=",
         "streaming-0affec486183-geo",
         "shardId-000000000000",
         "49654776715983955342252074633381080082415907032352686082",
         "2024-08-12T17:31:34.055+0000"
        ],
        [
         "partition-geo",
         "eyJpbmQiOjIzMiwidGltZXN0YW1wIjoiMjAxOS0wMi0xOFQwMzozODo0NyIsImxhdGl0dWRlIjo2LjYwOTEyLCJsb25naXR1ZGUiOi0xNzMuNjA5LCJjb3VudHJ5IjoiVGFuemFuaWEifQ==",
         "streaming-0affec486183-geo",
         "shardId-000000000000",
         "49654776715983955342252074634444934803676780706094120962",
         "2024-08-12T17:31:34.698+0000"
        ],
        [
         "partition-geo",
         "eyJpbmQiOjgzMDAsInRpbWVzdGFtcCI6IjIwMTgtMDItMTRUMjM6NTA6MTAiLCJsYXRpdHVkZSI6LTY0LjUyNTksImxvbmdpdHVkZSI6MTkuNzA0OSwiY291bnRyeSI6IkNoaWxlIn0=",
         "streaming-0affec486183-geo",
         "shardId-000000000000",
         "49654776715983955342252074635491864563463049640109146114",
         "2024-08-12T17:31:35.292+0000"
        ],
        [
         "partition-geo",
         "eyJpbmQiOjg5NzgsInRpbWVzdGFtcCI6IjIwMTctMTItMDFUMTM6MjY6MDYiLCJsYXRpdHVkZSI6LTIuMDE0OTksImxvbmdpdHVkZSI6My43ODE5OCwiY291bnRyeSI6IkZhcm9lIElzbGFuZHMifQ==",
         "streaming-0affec486183-geo",
         "shardId-000000000000",
         "49654776715983955342252074636570226394559298863947055106",
         "2024-08-12T17:31:35.915+0000"
        ],
        [
         "partition-geo",
         "eyJpbmQiOjIwNDgsInRpbWVzdGFtcCI6IjIwMTctMTEtMjBUMDY6MzM6NTAiLCJsYXRpdHVkZSI6LTg5LjQwMDgsImxvbmdpdHVkZSI6LTE0Mi4xODYsImNvdW50cnkiOiJBbnRpZ3VhIGFuZCBCYXJidWRhIn0=",
         "streaming-0affec486183-geo",
         "shardId-000000000000",
         "49654776715983955342252074637700572035898977211016806402",
         "2024-08-12T17:31:36.556+0000"
        ],
        [
         "partition-geo",
         "eyJpbmQiOjEwMzM3LCJ0aW1lc3RhbXAiOiIyMDIxLTEwLTI2VDEyOjA5OjQzIiwibGF0aXR1ZGUiOi00Mi4zMDY5LCJsb25naXR1ZGUiOi0xMDkuMTcsImNvdW50cnkiOiJDaHJpc3RtYXMgSXNsYW5kIn0=",
         "streaming-0affec486183-geo",
         "shardId-000000000000",
         "49654776715983955342252074640462967533718404943939895298",
         "2024-08-12T17:31:38.220+0000"
        ],
        [
         "partition-geo",
         "eyJpbmQiOjc4MzIsInRpbWVzdGFtcCI6IjIwMjItMDItMTRUMTM6NDc6MjQiLCJsYXRpdHVkZSI6LTUzLjg2MjksImxvbmdpdHVkZSI6OTEuODEzNiwiY291bnRyeSI6IklzcmFlbCJ9",
         "streaming-0affec486183-geo",
         "shardId-000000000000",
         "49654776715983955342252074641483300925473152104830861314",
         "2024-08-12T17:31:38.857+0000"
        ],
        [
         "partition-geo",
         "eyJpbmQiOjgzNjYsInRpbWVzdGFtcCI6IjIwMTgtMDMtMjhUMTQ6MTc6MTEiLCJsYXRpdHVkZSI6LTM4LjUzMTgsImxvbmdpdHVkZSI6LTEzOS4yMTUsImNvdW50cnkiOiJLdXdhaXQifQ==",
         "streaming-0affec486183-geo",
         "shardId-000000000000",
         "49654776715983955342252074643993030926993122340240359426",
         "2024-08-12T17:31:40.502+0000"
        ],
        [
         "partition-geo",
         "eyJpbmQiOjMzMzQsInRpbWVzdGFtcCI6IjIwMTktMDktMjZUMjA6MTM6NDgiLCJsYXRpdHVkZSI6LTg5LjA2MDksImxvbmdpdHVkZSI6LTE3MC45MDQsImNvdW50cnkiOiJBbmd1aWxsYSJ9",
         "streaming-0affec486183-geo",
         "shardId-000000000000",
         "49654776715983955342252074646837633380546344857043468290",
         "2024-08-12T17:31:42.130+0000"
        ],
        [
         "partition-geo",
         "eyJpbmQiOjc3OCwidGltZXN0YW1wIjoiMjAxOC0xMC0xOVQxNDo0MzozOSIsImxhdGl0dWRlIjo0OC4yNzA0LCJsb25naXR1ZGUiOi0xMjMuMDczLCJjb3VudHJ5IjoiR3VhdGVtYWxhIn0=",
         "streaming-0affec486183-geo",
         "shardId-000000000000",
         "49654776715983955342252074650205700713992701943933304834",
         "2024-08-12T17:31:43.801+0000"
        ],
        [
         "partition-geo",
         "eyJpbmQiOjQ4MCwidGltZXN0YW1wIjoiMjAxOS0wMi0wOFQwMzozNDo1OCIsImxhdGl0dWRlIjotMzAuNzE1OCwibG9uZ2l0dWRlIjotMTY3LjQ2MSwiY291bnRyeSI6Ik1vemFtYmlxdWUifQ==",
         "streaming-0affec486183-geo",
         "shardId-000000000000",
         "49654776715983955342252074653335609660974976945967071234",
         "2024-08-12T17:31:45.446+0000"
        ],
        [
         "partition-geo",
         "eyJpbmQiOjMwMTEsInRpbWVzdGFtcCI6IjIwMTktMTItMTdUMTc6NDY6MTgiLCJsYXRpdHVkZSI6LTc2LjQ2NzUsImxvbmdpdHVkZSI6MjguODA1NCwiY291bnRyeSI6Ikt1d2FpdCJ9",
         "streaming-0affec486183-geo",
         "shardId-000000000000",
         "49654776715983955342252074654447821415020435855416229890",
         "2024-08-12T17:31:46.073+0000"
        ],
        [
         "partition-geo",
         "eyJpbmQiOjk0NzUsInRpbWVzdGFtcCI6IjIwMTktMDMtMTlUMDg6MjY6MzUiLCJsYXRpdHVkZSI6LTg0LjE5NTMsImxvbmdpdHVkZSI6MTY0LjM2MiwiY291bnRyeSI6IlBhbmFtYSJ9",
         "streaming-0affec486183-geo",
         "shardId-000000000000",
         "49654776715983955342252074655702686415780420938761240578",
         "2024-08-12T17:31:46.720+0000"
        ],
        [
         "partition-geo",
         "eyJpbmQiOjc1ODYsInRpbWVzdGFtcCI6IjIwMjEtMDItMDdUMjI6MTc6MzEiLCJsYXRpdHVkZSI6LTg0LjczNjMsImxvbmdpdHVkZSI6LTE3OS4wODcsImNvdW50cnkiOiJBbmRvcnJhIn0=",
         "streaming-0affec486183-geo",
         "shardId-000000000000",
         "49654776715983955342252074657088115405058786041693995010",
         "2024-08-12T17:31:47.360+0000"
        ],
        [
         "partition-geo",
         "eyJpbmQiOjE4NjQsInRpbWVzdGFtcCI6IjIwMjAtMDQtMjRUMTc6MDg6MTMiLCJsYXRpdHVkZSI6LTcyLjM5NTgsImxvbmdpdHVkZSI6LTE2NC40MTQsImNvdW50cnkiOiJBbGdlcmlhIn0=",
         "streaming-0affec486183-geo",
         "shardId-000000000000",
         "49654776715983955342252074658436067693929097571491381250",
         "2024-08-12T17:31:48.021+0000"
        ],
        [
         "partition-geo",
         "eyJpbmQiOjYwMTQsInRpbWVzdGFtcCI6IjIwMTktMDQtMzBUMTI6MzM6MTMiLCJsYXRpdHVkZSI6LTI2LjYwMjYsImxvbmdpdHVkZSI6MTU1LjIwNiwiY291bnRyeSI6IkZyZW5jaCBTb3V0aGVybiBUZXJyaXRvcmllcyJ9",
         "streaming-0affec486183-geo",
         "shardId-000000000000",
         "49654776715983955342252074659846884125419369887092965378",
         "2024-08-12T17:31:48.683+0000"
        ],
        [
         "partition-geo",
         "eyJpbmQiOjE5NjcsInRpbWVzdGFtcCI6IjIwMjEtMDItMDVUMTA6Mzc6MjgiLCJsYXRpdHVkZSI6MzIuNzQsImxvbmdpdHVkZSI6LTE3OS41ODEsImNvdW50cnkiOiJBdXN0cmFsaWEifQ==",
         "streaming-0affec486183-geo",
         "shardId-000000000000",
         "49654776715983955342252074663489377619918247727921627138",
         "2024-08-12T17:31:50.308+0000"
        ],
        [
         "partition-geo",
         "eyJpbmQiOjE2OTksInRpbWVzdGFtcCI6IjIwMjItMDctMDNUMTM6MjU6NDgiLCJsYXRpdHVkZSI6LTU0LjM3MDYsImxvbmdpdHVkZSI6LTEyNy43ODMsImNvdW50cnkiOiJDYW5hZGEifQ==",
         "streaming-0affec486183-geo",
         "shardId-000000000000",
         "49654776715983955342252074666471797616907537970641240066",
         "2024-08-12T17:31:51.931+0000"
        ],
        [
         "partition-geo",
         "eyJpbmQiOjQ5OTYsInRpbWVzdGFtcCI6IjIwMTktMDQtMTZUMjM6NDk6NDIiLCJsYXRpdHVkZSI6MzkuOTYyNSwibG9uZ2l0dWRlIjotMTE4LjU2OSwiY291bnRyeSI6IlBvbGFuZCJ9",
         "streaming-0affec486183-geo",
         "shardId-000000000000",
         "49654776715983955342252074668946468769658684028703735810",
         "2024-08-12T17:31:53.574+0000"
        ],
        [
         "partition-geo",
         "eyJpbmQiOjEwMTY4LCJ0aW1lc3RhbXAiOiIyMDE5LTEwLTE0VDAwOjE5OjMzIiwibGF0aXR1ZGUiOi0xNC43MjExLCJsb25naXR1ZGUiOjEzNy44MTIsImNvdW50cnkiOiJOb3J3YXkifQ==",
         "streaming-0affec486183-geo",
         "shardId-000000000000",
         "49654776715983955342252074671406632812574454536669757442",
         "2024-08-12T17:31:55.194+0000"
        ],
        [
         "partition-geo",
         "eyJpbmQiOjUzMzMsInRpbWVzdGFtcCI6IjIwMjEtMDEtMjBUMDg6MTA6MDgiLCJsYXRpdHVkZSI6LTg2LjY2NTIsImxvbmdpdHVkZSI6LTE3My44OTgsImNvdW50cnkiOiJDcm9hdGlhIn0=",
         "streaming-0affec486183-geo",
         "shardId-000000000000",
         "49654776715983955342252074672290357586712748532099448834",
         "2024-08-12T17:31:55.817+0000"
        ],
        [
         "partition-geo",
         "eyJpbmQiOjI1NjUsInRpbWVzdGFtcCI6IjIwMjItMDItMDZUMTM6NDI6MzUiLCJsYXRpdHVkZSI6LTg3LjQ5OTIsImxvbmdpdHVkZSI6LTE3Ny4zMzYsImNvdW50cnkiOiJCdWxnYXJpYSJ9",
         "streaming-0affec486183-geo",
         "shardId-000000000000",
         "49654776715983955342252074673251453613306378725990858754",
         "2024-08-12T17:31:56.457+0000"
        ],
        [
         "partition-geo",
         "eyJpbmQiOjk3NzgsInRpbWVzdGFtcCI6IjIwMjAtMDgtMjRUMTQ6MjQ6NDIiLCJsYXRpdHVkZSI6ODUuMjM0MywibG9uZ2l0dWRlIjoxMjYuNjI4LCJjb3VudHJ5IjoiR3VhbSJ9",
         "streaming-0affec486183-geo",
         "shardId-000000000000",
         "49654776715983955342252074675587098296801842428962144258",
         "2024-08-12T17:31:58.114+0000"
        ],
        [
         "partition-geo",
         "eyJpbmQiOjMxNDUsInRpbWVzdGFtcCI6IjIwMjItMDYtMThUMjI6NDY6MjYiLCJsYXRpdHVkZSI6LTU3LjU5ODEsImxvbmdpdHVkZSI6LTE5Ljg5MzIsImNvdW50cnkiOiJLZW55YSJ9",
         "streaming-0affec486183-geo",
         "shardId-000000000000",
         "49654776715983955342252074676467196293481292468148240386",
         "2024-08-12T17:31:58.769+0000"
        ],
        [
         "partition-geo",
         "eyJpbmQiOjEzNDEsInRpbWVzdGFtcCI6IjIwMjItMDgtMTFUMDU6MjU6MzMiLCJsYXRpdHVkZSI6LTg5Ljk3ODcsImxvbmdpdHVkZSI6LTE3My4yOTMsImNvdW50cnkiOiJBbGJhbmlhIn0=",
         "streaming-0affec486183-geo",
         "shardId-000000000000",
         "49654776715983955342252074679291247008101066288981344258",
         "2024-08-12T17:32:00.737+0000"
        ],
        [
         "partition-geo",
         "eyJpbmQiOjUxNjIsInRpbWVzdGFtcCI6IjIwMTktMDktMjdUMTk6MDY6NDMiLCJsYXRpdHVkZSI6LTcxLjY2MDcsImxvbmdpdHVkZSI6LTE0OS4yMDYsImNvdW50cnkiOiJBbnRhcmN0aWNhICh0aGUgdGVycml0b3J5IFNvdXQ= (truncated)",
         "streaming-0affec486183-geo",
         "shardId-000000000000",
         "49654776715983955342252074680150793265847067769636388866",
         "2024-08-12T17:32:01.373+0000"
        ],
        [
         "partition-geo",
         "eyJpbmQiOjUxNTEsInRpbWVzdGFtcCI6IjIwMjAtMDctMTVUMDE6NDI6MzgiLCJsYXRpdHVkZSI6LTQ3LjMzNzIsImxvbmdpdHVkZSI6LTE1MS4zOTcsImNvdW50cnkiOiJHdWF0ZW1hbGEifQ==",
         "streaming-0affec486183-geo",
         "shardId-000000000000",
         "49654776715983955342252074681073203666213029898656677890",
         "2024-08-12T17:32:02.071+0000"
        ],
        [
         "partition-geo",
         "eyJpbmQiOjI0OTgsInRpbWVzdGFtcCI6IjIwMjEtMDQtMDNUMTg6MTA6MzQiLCJsYXRpdHVkZSI6NjEuNDcwNiwibG9uZ2l0dWRlIjotNTEuMDUsImNvdW50cnkiOiJUb2dvIn0=",
         "streaming-0affec486183-geo",
         "shardId-000000000000",
         "49654776715983955342252074683627663923058741413530304514",
         "2024-08-12T17:32:03.743+0000"
        ],
        [
         "partition-geo",
         "eyJpbmQiOjcyNjgsInRpbWVzdGFtcCI6IjIwMTktMTItMTFUMTQ6MDU6MTgiLCJsYXRpdHVkZSI6LTg4LjM3NTQsImxvbmdpdHVkZSI6LTE2NC4yNzMsImNvdW50cnkiOiJBZmdoYW5pc3RhbiJ9",
         "streaming-0affec486183-geo",
         "shardId-000000000000",
         "49654776715983955342252074684527104732852025519511699458",
         "2024-08-12T17:32:04.357+0000"
        ],
        [
         "partition-geo",
         "eyJpbmQiOjMzNTEsInRpbWVzdGFtcCI6IjIwMjAtMDktMTJUMTA6MzQ6MTEiLCJsYXRpdHVkZSI6LTkuMTE4NTksImxvbmdpdHVkZSI6LTk2LjkwOTEsImNvdW50cnkiOiJQb3J0dWdhbCJ9",
         "streaming-0affec486183-geo",
         "shardId-000000000000",
         "49654776715983955342252074685442261578300299873483751426",
         "2024-08-12T17:32:04.971+0000"
        ],
        [
         "partition-geo",
         "eyJpbmQiOjc3MzgsInRpbWVzdGFtcCI6IjIwMTctMTEtMTJUMDM6NDU6MjEiLCJsYXRpdHVkZSI6NjYuODQ3OCwibG9uZ2l0dWRlIjoyMi43NzcsImNvdW50cnkiOiJDb21vcm9zIn0=",
         "streaming-0affec486183-geo",
         "shardId-000000000000",
         "49654776715983955342252074686368298756125105821308682242",
         "2024-08-12T17:32:05.586+0000"
        ],
        [
         "partition-geo",
         "eyJpbmQiOjg4ODYsInRpbWVzdGFtcCI6IjIwMjItMDEtMTZUMTA6MTc6MTYiLCJsYXRpdHVkZSI6LTg4LjIyODYsImxvbmdpdHVkZSI6LTE3OC45MTksImNvdW50cnkiOiJBbWVyaWNhbiBTYW1vYSJ9",
         "streaming-0affec486183-geo",
         "shardId-000000000000",
         "49654776715983955342252074687364453631487560398705524738",
         "2024-08-12T17:32:06.240+0000"
        ],
        [
         "partition-geo",
         "eyJpbmQiOjU3NDIsInRpbWVzdGFtcCI6IjIwMjAtMDktMDJUMDE6NDA6MTgiLCJsYXRpdHVkZSI6LTczLjQ5MjYsImxvbmdpdHVkZSI6LTYxLjU2LCJjb3VudHJ5IjoiSmFtYWljYSJ9",
         "streaming-0affec486183-geo",
         "shardId-000000000000",
         "49654776715983955342252074690013210102263212989206233090",
         "2024-08-12T17:32:07.903+0000"
        ],
        [
         "partition-geo",
         "eyJpbmQiOjEzNjIsInRpbWVzdGFtcCI6IjIwMjItMDctMjBUMDU6Mzg6MTgiLCJsYXRpdHVkZSI6NDguMzcwNCwibG9uZ2l0dWRlIjo5Mi4yOCwiY291bnRyeSI6IkdoYW5hIn0=",
         "streaming-0affec486183-geo",
         "shardId-000000000000",
         "49654776715983955342252074691092780859179076910938324994",
         "2024-08-12T17:32:08.599+0000"
        ],
        [
         "partition-geo",
         "eyJpbmQiOjk5NSwidGltZXN0YW1wIjoiMjAyMi0wOS0yMlQxMjoxNzo1NyIsImxhdGl0dWRlIjotODguMDkyMywibG9uZ2l0dWRlIjotMTc5LjMxOSwiY291bnRyeSI6Ik1vbGRvdmEifQ==",
         "streaming-0affec486183-geo",
         "shardId-000000000000",
         "49654776715983955342252074693847922802080816868813176834",
         "2024-08-12T17:32:10.235+0000"
        ],
        [
         "partition-geo",
         "eyJpbmQiOjYyNTAsInRpbWVzdGFtcCI6IjIwMjAtMTEtMjJUMTg6Mjg6MDIiLCJsYXRpdHVkZSI6LTczLjIwOTgsImxvbmdpdHVkZSI6LTE1MC44NTYsImNvdW50cnkiOiJBdXN0cmlhIn0=",
         "streaming-0affec486183-geo",
         "shardId-000000000000",
         "49654776715983955342252074696794075024481668373730557954",
         "2024-08-12T17:32:11.886+0000"
        ],
        [
         "partition-geo",
         "eyJpbmQiOjMxODQsInRpbWVzdGFtcCI6IjIwMTgtMDktMjVUMjM6MTc6NDYiLCJsYXRpdHVkZSI6LTQxLjI5MywibG9uZ2l0dWRlIjotMTcxLjU4NSwiY291bnRyeSI6IkNhcGUgVmVyZGUifQ==",
         "streaming-0affec486183-geo",
         "shardId-000000000000",
         "49654776715983955342252074697978822327704004964942610434",
         "2024-08-12T17:32:12.517+0000"
        ],
        [
         "partition-geo",
         "eyJpbmQiOjI5NTUsInRpbWVzdGFtcCI6IjIwMjItMTAtMTFUMTc6MjE6MDYiLCJsYXRpdHVkZSI6MjMuNzc2OCwibG9uZ2l0dWRlIjotMjMuNDgzOCwiY291bnRyeSI6IkFudGlndWEgYW5kIEJhcmJ1ZGEifQ==",
         "streaming-0affec486183-geo",
         "shardId-000000000000",
         "49654776715983955342252074700991465470183661005749354498",
         "2024-08-12T17:32:14.169+0000"
        ],
        [
         "partition-geo",
         "eyJpbmQiOjQzNTcsInRpbWVzdGFtcCI6IjIwMjAtMDMtMDZUMDk6NTY6NDMiLCJsYXRpdHVkZSI6LTc1LjQ5MDksImxvbmdpdHVkZSI6LTE3OS45MDgsImNvdW50cnkiOiJCYWhhbWFzIn0=",
         "streaming-0affec486183-geo",
         "shardId-000000000000",
         "49654776715983955342252074702237867990206343684871421954",
         "2024-08-12T17:32:14.817+0000"
        ],
        [
         "partition-geo",
         "eyJpbmQiOjM1NjMsInRpbWVzdGFtcCI6IjIwMTgtMDktMDVUMDc6NDA6MDEiLCJsYXRpdHVkZSI6LTc3LjMxNTMsImxvbmdpdHVkZSI6LTY5LjUwNSwiY291bnRyeSI6IlNhaW50IEJhcnRoZWxlbXkifQ==",
         "streaming-0affec486183-geo",
         "shardId-000000000000",
         "49654776715983955342252074705100604331053785708014600194",
         "2024-08-12T17:32:16.441+0000"
        ],
        [
         "partition-geo",
         "eyJpbmQiOjY1NTgsInRpbWVzdGFtcCI6IjIwMTktMDktMDhUMDM6Mjc6MzEiLCJsYXRpdHVkZSI6LTI2LjQ5NDQsImxvbmdpdHVkZSI6LTE3NC4wMDksImNvdW50cnkiOiJHdWFkZWxvdXBlIn0=",
         "streaming-0affec486183-geo",
         "shardId-000000000000",
         "49654776715983955342252074707739689395272521333837135874",
         "2024-08-12T17:32:18.133+0000"
        ],
        [
         "partition-geo",
         "eyJpbmQiOjQyNTYsInRpbWVzdGFtcCI6IjIwMTgtMTAtMTBUMTc6NTc6MTYiLCJsYXRpdHVkZSI6LTg4LjU0NzgsImxvbmdpdHVkZSI6LTE3NC45NzEsImNvdW50cnkiOiJBZmdoYW5pc3RhbiJ9",
         "streaming-0affec486183-geo",
         "shardId-000000000000",
         "49654776715983955342252074710179301699254843077113675778",
         "2024-08-12T17:32:19.830+0000"
        ],
        [
         "partition-geo",
         "eyJpbmQiOjQ1MCwidGltZXN0YW1wIjoiMjAxOC0wOS0yOFQwNTo0MzoxOCIsImxhdGl0dWRlIjotODEuMDEwOCwibG9uZ2l0dWRlIjotMTY1LjIwNiwiY291bnRyeSI6IkFudGlndWEgYW5kIEJhcmJ1ZGEifQ==",
         "streaming-0affec486183-geo",
         "shardId-000000000000",
         "49654776715983955342252074712627376483974467224613158914",
         "2024-08-12T17:32:21.468+0000"
        ],
        [
         "partition-geo",
         "eyJpbmQiOjM5NDUsInRpbWVzdGFtcCI6IjIwMjItMDQtMTdUMDI6MDE6NTMiLCJsYXRpdHVkZSI6LTY2LjI4MTYsImxvbmdpdHVkZSI6LTE0Mi42NzMsImNvdW50cnkiOiJCYXJiYWRvcyJ9",
         "streaming-0affec486183-geo",
         "shardId-000000000000",
         "49654776715983955342252074714943678354356096929508622338",
         "2024-08-12T17:32:23.109+0000"
        ],
        [
         "partition-geo",
         "eyJpbmQiOjg1OSwidGltZXN0YW1wIjoiMjAyMC0wNC0wN1QxOToyMzoyNCIsImxhdGl0dWRlIjo4OS44MjYxLCJsb25naXR1ZGUiOjQ4LjIyNTYsImNvdW50cnkiOiJSb21hbmlhIn0=",
         "streaming-0affec486183-geo",
         "shardId-000000000000",
         "49654776715983955342252074715812896018659015306122362882",
         "2024-08-12T17:32:23.710+0000"
        ],
        [
         "partition-geo",
         "eyJpbmQiOjE1MjEsInRpbWVzdGFtcCI6IjIwMjItMTAtMTJUMTQ6MDM6MjYiLCJsYXRpdHVkZSI6MjQuNTE5MiwibG9uZ2l0dWRlIjo2NC45Njc0LCJjb3VudHJ5IjoiU2FpbnQgSGVsZW5hIn0=",
         "streaming-0affec486183-geo",
         "shardId-000000000000",
         "49654776715983955342252074718100183669369893842105401346",
         "2024-08-12T17:32:25.390+0000"
        ],
        [
         "partition-geo",
         "eyJpbmQiOjE5NjEsInRpbWVzdGFtcCI6IjIwMjItMDctMjlUMTg6MTY6NTAiLCJsYXRpdHVkZSI6LTY1LjM5NTIsImxvbmdpdHVkZSI6LTE3NS4yNDksImNvdW50cnkiOiJBcmdlbnRpbmEifQ==",
         "streaming-0affec486183-geo",
         "shardId-000000000000",
         "49654776715983955342252074720224266334432797370783629314",
         "2024-08-12T17:32:27.010+0000"
        ],
        [
         "partition-geo",
         "eyJpbmQiOjEwMDk5LCJ0aW1lc3RhbXAiOiIyMDIwLTEyLTI0VDEzOjMzOjAzIiwibGF0aXR1ZGUiOi04OS40MjYxLCJsb25naXR1ZGUiOi0xNzEuNTgsImNvdW50cnkiOiJBZmdoYW5pc3RhbiJ9",
         "streaming-0affec486183-geo",
         "shardId-000000000000",
         "49654776715983955342252074721116453589308393770436263938",
         "2024-08-12T17:32:27.700+0000"
        ],
        [
         "partition-geo",
         "eyJpbmQiOjYwNjYsInRpbWVzdGFtcCI6IjIwMTktMDMtMDRUMDE6MDQ6MTEiLCJsYXRpdHVkZSI6LTY3LjcyNzgsImxvbmdpdHVkZSI6LTE3NC41MDUsImNvdW50cnkiOiJCb2xpdmlhIn0=",
         "streaming-0affec486183-geo",
         "shardId-000000000000",
         "49654776715983955342252074723304609322810872714093395970",
         "2024-08-12T17:32:29.387+0000"
        ],
        [
         "partition-geo",
         "eyJpbmQiOjEwODM3LCJ0aW1lc3RhbXAiOiIyMDE4LTA5LTI3VDA3OjEyOjMxIiwibGF0aXR1ZGUiOjg2LjYzODcsImxvbmdpdHVkZSI6LTI2LjI0MDgsImNvdW50cnkiOiJTYW1vYSJ9",
         "streaming-0affec486183-geo",
         "shardId-000000000000",
         "49654776715983955342252074724027546962940420960567689218",
         "2024-08-12T17:32:30.007+0000"
        ],
        [
         "partition-geo",
         "eyJpbmQiOjY2MTUsInRpbWVzdGFtcCI6IjIwMjItMDEtMzFUMTg6NTM6MzQiLCJsYXRpdHVkZSI6LTI1LjI0MjgsImxvbmdpdHVkZSI6LTMyLjg5OTIsImNvdW50cnkiOiJXYWxsaXMgYW5kIEZ1dHVuYSJ9",
         "streaming-0affec486183-geo",
         "shardId-000000000000",
         "49654776715983955342252074724800050561674169071924412418",
         "2024-08-12T17:32:30.660+0000"
        ],
        [
         "partition-geo",
         "eyJpbmQiOjc2NDEsInRpbWVzdGFtcCI6IjIwMjEtMDktMjhUMTM6NTY6NTAiLCJsYXRpdHVkZSI6LTg3LjIsImxvbmdpdHVkZSI6LTE3Ny4xMDksImNvdW50cnkiOiJBbGJhbmlhIn0=",
         "streaming-0affec486183-geo",
         "shardId-000000000000",
         "49654776715983955342252074725654761116141711967161155586",
         "2024-08-12T17:32:31.325+0000"
        ],
        [
         "partition-geo",
         "eyJpbmQiOjY0MCwidGltZXN0YW1wIjoiMjAxOS0wNy0xMlQxNjo0NjowMyIsImxhdGl0dWRlIjotODcuMiwibG9uZ2l0dWRlIjotMTc3LjEwOSwiY291bnRyeSI6IkFsYmFuaWEifQ==",
         "streaming-0affec486183-geo",
         "shardId-000000000000",
         "49654776715983955342252074727514089026709011706578731010",
         "2024-08-12T17:32:32.929+0000"
        ],
        [
         "partition-geo",
         "eyJpbmQiOjgxNzQsInRpbWVzdGFtcCI6IjIwMTgtMTAtMjBUMTc6Mjg6MjMiLCJsYXRpdHVkZSI6LTY2LjY3MDgsImxvbmdpdHVkZSI6LTExMC40NywiY291bnRyeSI6IkJ1cmtpbmEgRmFzbyJ9",
         "streaming-0affec486183-geo",
         "shardId-000000000000",
         "49654776715983955342252074729474966706123940296671625218",
         "2024-08-12T17:32:34.564+0000"
        ],
        [
         "partition-geo",
         "eyJpbmQiOjEyMTYsInRpbWVzdGFtcCI6IjIwMjAtMDctMTlUMjM6NTc6MTYiLCJsYXRpdHVkZSI6LTY5LjgxMzQsImxvbmdpdHVkZSI6LTE1Mi44MzQsImNvdW50cnkiOiJBbGJhbmlhIn0=",
         "streaming-0affec486183-geo",
         "shardId-000000000000",
         "49654776715983955342252074730173725829861196097090748418",
         "2024-08-12T17:32:35.174+0000"
        ],
        [
         "partition-geo",
         "eyJpbmQiOjY4MCwidGltZXN0YW1wIjoiMjAxOS0wMy0yOVQyMzoyMjo1NiIsImxhdGl0dWRlIjotNzMuMTgzOCwibG9uZ2l0dWRlIjotMTU0LjI5MywiY291bnRyeSI6IkJhbmdsYWRlc2gifQ==",
         "streaming-0affec486183-geo",
         "shardId-000000000000",
         "49654776715983955342252074732227690797386451133636018178",
         "2024-08-12T17:32:36.832+0000"
        ],
        [
         "partition-geo",
         "eyJpbmQiOjk1MjcsInRpbWVzdGFtcCI6IjIwMjEtMTEtMTdUMDc6NTA6NTgiLCJsYXRpdHVkZSI6LTM4LjQ0NDMsImxvbmdpdHVkZSI6MTcwLjYwMSwiY291bnRyeSI6IlR1cmttZW5pc3RhbiJ9",
         "streaming-0affec486183-geo",
         "shardId-000000000000",
         "49654776715983955342252074734080974078855677795899539458",
         "2024-08-12T17:32:38.445+0000"
        ],
        [
         "partition-geo",
         "eyJpbmQiOjk0MjYsInRpbWVzdGFtcCI6IjIwMjEtMDYtMzBUMDI6MTQ6NDciLCJsYXRpdHVkZSI6LTI5Ljg2NDYsImxvbmdpdHVkZSI6LTc4LjE0NDksImNvdW50cnkiOiJTYW8gVG9tZSBhbmQgUHJpbmNpcGUifQ==",
         "streaming-0affec486183-geo",
         "shardId-000000000000",
         "49654776715983955342252074736038224980811762498468315138",
         "2024-08-12T17:32:40.097+0000"
        ],
        [
         "partition-geo",
         "eyJpbmQiOjg3NDUsInRpbWVzdGFtcCI6IjIwMjAtMTAtMjhUMDM6NDU6MzMiLCJsYXRpdHVkZSI6MzEuNjcwMSwibG9uZ2l0dWRlIjotNTkuNzM5MSwiY291bnRyeSI6IlR1dmFsdSJ9",
         "streaming-0affec486183-geo",
         "shardId-000000000000",
         "49654776715983955342252074738034161508995515403347165186",
         "2024-08-12T17:32:41.755+0000"
        ],
        [
         "partition-geo",
         "eyJpbmQiOjU5NTksInRpbWVzdGFtcCI6IjIwMjAtMDgtMTBUMDE6MDA6MzMiLCJsYXRpdHVkZSI6LTQ0LjkwMTYsImxvbmdpdHVkZSI6LTE3LjUxOTIsImNvdW50cnkiOiJDeXBydXMifQ==",
         "streaming-0affec486183-geo",
         "shardId-000000000000",
         "49654776715983955342252074740123185325289594754678390786",
         "2024-08-12T17:32:43.376+0000"
        ],
        [
         "partition-geo",
         "eyJpbmQiOjI1NzcsInRpbWVzdGFtcCI6IjIwMTktMDgtMDFUMDU6NDU6NTEiLCJsYXRpdHVkZSI6LTcxLjUwMjUsImxvbmdpdHVkZSI6LTE3OS4yNTcsImNvdW50cnkiOiJBcnViYSJ9",
         "streaming-0affec486183-geo",
         "shardId-000000000000",
         "49654776715983955342252074742264192951827103091802505218",
         "2024-08-12T17:32:44.997+0000"
        ],
        [
         "partition-geo",
         "eyJpbmQiOjMwMDgsInRpbWVzdGFtcCI6IjIwMTktMDctMzFUMjI6MzY6MTEiLCJsYXRpdHVkZSI6MC4zMTQzMzcsImxvbmdpdHVkZSI6LTU4Ljc2NjYsImNvdW50cnkiOiJWZW5lenVlbGEifQ==",
         "streaming-0affec486183-geo",
         "shardId-000000000000",
         "49654776715983955342252074743100769619000426618138132482",
         "2024-08-12T17:32:45.629+0000"
        ],
        [
         "partition-geo",
         "eyJpbmQiOjgwODEsInRpbWVzdGFtcCI6IjIwMjItMDMtMjVUMDc6NDI6MjkiLCJsYXRpdHVkZSI6LTMzLjgyMzgsImxvbmdpdHVkZSI6LTEyOS4xOCwiY291bnRyeSI6IkVneXB0In0=",
         "streaming-0affec486183-geo",
         "shardId-000000000000",
         "49654776715983955342252074745291343204142134751425200130",
         "2024-08-12T17:32:47.293+0000"
        ],
        [
         "partition-geo",
         "eyJpbmQiOjEwMTIwLCJ0aW1lc3RhbXAiOiIyMDIyLTAzLTEwVDA3OjAyOjMyIiwibGF0aXR1ZGUiOi01NS4xNTYyLCJsb25naXR1ZGUiOi0xMjIuODU0LCJjb3VudHJ5IjoiSXNsZSBvZiBNYW4ifQ==",
         "streaming-0affec486183-geo",
         "shardId-000000000000",
         "49654776715983955342252074747613689703621837464755240962",
         "2024-08-12T17:32:48.995+0000"
        ],
        [
         "partition-geo",
         "eyJpbmQiOjQwNDUsInRpbWVzdGFtcCI6IjIwMTgtMDMtMTFUMjM6MDE6MDgiLCJsYXRpdHVkZSI6LTg5LjMwOTksImxvbmdpdHVkZSI6LTE2Ni4wMzMsImNvdW50cnkiOiJBbWVyaWNhbiBTYW1vYSJ9",
         "streaming-0affec486183-geo",
         "shardId-000000000000",
         "49654776715983955342252074749752279478520116612249419778",
         "2024-08-12T17:32:50.614+0000"
        ],
        [
         "partition-geo",
         "eyJpbmQiOjE1OTksInRpbWVzdGFtcCI6IjIwMTktMDItMDVUMTQ6NTg6MjAiLCJsYXRpdHVkZSI6ODYuMDk2NywibG9uZ2l0dWRlIjoxMTEuMzIzLCJjb3VudHJ5IjoiQm9saXZpYSJ9",
         "streaming-0affec486183-geo",
         "shardId-000000000000",
         "49654776715983955342252074751709530380476201383537672194",
         "2024-08-12T17:32:52.226+0000"
        ],
        [
         "partition-geo",
         "eyJpbmQiOjI4OTMsInRpbWVzdGFtcCI6IjIwMTgtMDMtMDVUMDQ6MzM6NTUiLCJsYXRpdHVkZSI6LTY4LjUzOTksImxvbmdpdHVkZSI6LTI4LjM4LCJjb3VudHJ5IjoiQmVybXVkYSJ9",
         "streaming-0affec486183-geo",
         "shardId-000000000000",
         "49654776715983955342252074752764922620999772721775640578",
         "2024-08-12T17:32:53.003+0000"
        ],
        [
         "partition-geo",
         "eyJpbmQiOjQwMjQsInRpbWVzdGFtcCI6IjIwMTktMTAtMTlUMTA6MDM6MDMiLCJsYXRpdHVkZSI6LTYxLjQ3MSwibG9uZ2l0dWRlIjotMTU0LjkxMiwiY291bnRyeSI6IkFydWJhIn0=",
         "streaming-0affec486183-geo",
         "shardId-000000000000",
         "49654776715983955342252074753768331051279914936781766658",
         "2024-08-12T17:32:53.652+0000"
        ],
        [
         "partition-geo",
         "eyJpbmQiOjMxMCwidGltZXN0YW1wIjoiMjAyMS0wMS0yNVQyMjoyMjozNyIsImxhdGl0dWRlIjotODEuMDEwOCwibG9uZ2l0dWRlIjotMTY1LjIwNiwiY291bnRyeSI6IkFudGlndWEgYW5kIEJhcmJ1ZGEifQ==",
         "streaming-0affec486183-geo",
         "shardId-000000000000",
         "49654776715983955342252074754683487896728189290753818626",
         "2024-08-12T17:32:54.325+0000"
        ],
        [
         "partition-geo",
         "eyJpbmQiOjc5MDUsInRpbWVzdGFtcCI6IjIwMTgtMTEtMTNUMTI6Mzk6NDMiLCJsYXRpdHVkZSI6LTQ3LjgxMjEsImxvbmdpdHVkZSI6LTEzNC4wMTUsImNvdW50cnkiOiJOYW1pYmlhIn0=",
         "streaming-0affec486183-geo",
         "shardId-000000000000",
         "49654776715983955342252074756807570561791092819432046594",
         "2024-08-12T17:32:55.980+0000"
        ],
        [
         "partition-geo",
         "eyJpbmQiOjU0ODgsInRpbWVzdGFtcCI6IjIwMjEtMDMtMTRUMDU6NTU6MjEiLCJsYXRpdHVkZSI6LTU5LjYxNjMsImxvbmdpdHVkZSI6LTEwNy4zMjQsImNvdW50cnkiOiJGaW5sYW5kIn0=",
         "streaming-0affec486183-geo",
         "shardId-000000000000",
         "49654776715983955342252074757617550860932894366485184514",
         "2024-08-12T17:32:56.610+0000"
        ],
        [
         "partition-geo",
         "eyJpbmQiOjc0NCwidGltZXN0YW1wIjoiMjAxOS0wOC0yOFQxNTowMzoxMyIsImxhdGl0dWRlIjotNzYuODA3NCwibG9uZ2l0dWRlIjo1OC43NTE3LCJjb3VudHJ5IjoiTmV3IENhbGVkb25pYSJ9",
         "streaming-0affec486183-geo",
         "shardId-000000000000",
         "49654776715983955342252074759804497668615758749687087106",
         "2024-08-12T17:32:58.305+0000"
        ],
        [
         "partition-geo",
         "eyJpbmQiOjc4MDEsInRpbWVzdGFtcCI6IjIwMTctMTEtMThUMjI6NTQ6NTgiLCJsYXRpdHVkZSI6LTc1LjkxNjEsImxvbmdpdHVkZSI6LTI3LjYyODUsImNvdW50cnkiOiJBZmdoYW5pc3RhbiJ9",
         "streaming-0affec486183-geo",
         "shardId-000000000000",
         "49654776715983955342252074761859671561960628415407063042",
         "2024-08-12T17:32:59.946+0000"
        ],
        [
         "partition-geo",
         "eyJpbmQiOjU2MjAsInRpbWVzdGFtcCI6IjIwMjEtMDItMThUMTI6MzQ6NDQiLCJsYXRpdHVkZSI6LTUzLjYwODcsImxvbmdpdHVkZSI6LTEyMS42OCwiY291bnRyeSI6IkZhcm9lIElzbGFuZHMifQ==",
         "streaming-0affec486183-geo",
         "shardId-000000000000",
         "49654776715983955342252074763932979342599717518747631618",
         "2024-08-12T17:33:01.586+0000"
        ],
        [
         "partition-geo",
         "eyJpbmQiOjgzNDEsInRpbWVzdGFtcCI6IjIwMjItMDgtMDhUMDU6MDk6NTAiLCJsYXRpdHVkZSI6LTE2LjUwNjYsImxvbmdpdHVkZSI6LTEzMy4xODUsImNvdW50cnkiOiJTb21hbGlhIn0=",
         "streaming-0affec486183-geo",
         "shardId-000000000000",
         "49654776715983955342252074764711527570431538844697362434",
         "2024-08-12T17:33:02.197+0000"
        ],
        [
         "partition-geo",
         "eyJpbmQiOjEwMDIyLCJ0aW1lc3RhbXAiOiIyMDE4LTEyLTE3VDIwOjI2OjE0IiwibGF0aXR1ZGUiOjcwLjU2MjYsImxvbmdpdHVkZSI6LTg5LjQ1MjYsImNvdW50cnkiOiJCZW5pbiJ9",
         "streaming-0affec486183-geo",
         "shardId-000000000000",
         "49654776715983955342252074766952876039997061403322089474",
         "2024-08-12T17:33:03.838+0000"
        ],
        [
         "partition-geo",
         "eyJpbmQiOjYxMzQsInRpbWVzdGFtcCI6IjIwMjItMDQtMDNUMTI6MzQ6NTkiLCJsYXRpdHVkZSI6LTY4LjgxMzYsImxvbmdpdHVkZSI6LTEyOC40ODIsImNvdW50cnkiOiJBdXN0cmlhIn0=",
         "streaming-0affec486183-geo",
         "shardId-000000000000",
         "49654776715983955342252074767907927437492618520059445250",
         "2024-08-12T17:33:04.572+0000"
        ],
        [
         "partition-geo",
         "eyJpbmQiOjM4MjQsInRpbWVzdGFtcCI6IjIwMTgtMTAtMjhUMTk6MjI6MzQiLCJsYXRpdHVkZSI6LTgyLjQyNzYsImxvbmdpdHVkZSI6LTE3MC4wMTksImNvdW50cnkiOiJCcml0aXNoIFZpcmdpbiBJc2xhbmRzIn0=",
         "streaming-0affec486183-geo",
         "shardId-000000000000",
         "49654776715983955342252074769964310256657102814954127362",
         "2024-08-12T17:33:06.205+0000"
        ],
        [
         "partition-geo",
         "eyJpbmQiOjcxMTYsInRpbWVzdGFtcCI6IjIwMTktMDktMTZUMTg6NDU6NDEiLCJsYXRpdHVkZSI6LTE4LjM2ODYsImxvbmdpdHVkZSI6NzIuNDEwOSwiY291bnRyeSI6Ik1hY2FvIn0=",
         "streaming-0affec486183-geo",
         "shardId-000000000000",
         "49654776715983955342252074772198405171304937735969570818",
         "2024-08-12T17:33:07.886+0000"
        ],
        [
         "partition-geo",
         "eyJpbmQiOjc0LCJ0aW1lc3RhbXAiOiIyMDIwLTAxLTI5VDE0OjAzOjM1IiwibGF0aXR1ZGUiOi04MS4wMTA4LCJsb25naXR1ZGUiOi0xNjUuMjA2LCJjb3VudHJ5IjoiQW50aWd1YSBhbmQgQmFyYnVkYSJ9",
         "streaming-0affec486183-geo",
         "shardId-000000000000",
         "49654776715983955342252074773218738563059684759421583362",
         "2024-08-12T17:33:08.562+0000"
        ],
        [
         "partition-geo",
         "eyJpbmQiOjEzMzUsInRpbWVzdGFtcCI6IjIwMjItMDMtMTlUMTc6Mjk6NDIiLCJsYXRpdHVkZSI6LTc3Ljk5MzEsImxvbmdpdHVkZSI6LTE3NS42ODIsImNvdW50cnkiOiJBbnRhcmN0aWNhICh0aGUgdGVycml0b3J5IFNvdXQ= (truncated)",
         "streaming-0affec486183-geo",
         "shardId-000000000000",
         "49654776715983955342252074776340185029304657425951883266",
         "2024-08-12T17:33:10.914+0000"
        ],
        [
         "partition-geo",
         "eyJpbmQiOjQ1MTMsInRpbWVzdGFtcCI6IjIwMjItMDQtMTFUMTE6MDU6MTMiLCJsYXRpdHVkZSI6MjIuMjMxNCwibG9uZ2l0dWRlIjoxNDQuMjE0LCJjb3VudHJ5IjoiTmFtaWJpYSJ9",
         "streaming-0affec486183-geo",
         "shardId-000000000000",
         "49654776715983955342252074777180388473936824839811629058",
         "2024-08-12T17:33:11.540+0000"
        ],
        [
         "partition-geo",
         "eyJpbmQiOjc4NTAsInRpbWVzdGFtcCI6IjIwMjItMDQtMDlUMTU6MDY6MDEiLCJsYXRpdHVkZSI6MjYuNTIwOCwibG9uZ2l0dWRlIjoxNjAuNjk5LCJjb3VudHJ5IjoiVmlldG5hbSJ9",
         "streaming-0affec486183-geo",
         "shardId-000000000000",
         "49654776715983955342252074779431408350059264431834005506",
         "2024-08-12T17:33:13.180+0000"
        ],
        [
         "partition-geo",
         "eyJpbmQiOjEwMjQ4LCJ0aW1lc3RhbXAiOiIyMDE5LTExLTAzVDE1OjExOjAwIiwibGF0aXR1ZGUiOi0zMS45NjE1LCJsb25naXR1ZGUiOjE2MS4xNTEsImNvdW50cnkiOiJFcXVhdG9yaWFsIEd1aW5lYSJ9",
         "streaming-0affec486183-geo",
         "shardId-000000000000",
         "49654776715983955342252074781829917176174688783170535426",
         "2024-08-12T17:33:14.841+0000"
        ],
        [
         "partition-geo",
         "eyJpbmQiOjgxMjMsInRpbWVzdGFtcCI6IjIwMjEtMDgtMjNUMDc6MzE6NDYiLCJsYXRpdHVkZSI6ODAuMjU5MywibG9uZ2l0dWRlIjotMTM0LjI5MiwiY291bnRyeSI6Ik1vcm9jY28ifQ==",
         "streaming-0affec486183-geo",
         "shardId-000000000000",
         "49654776715983955342252074782729357985967972957871407106",
         "2024-08-12T17:33:15.448+0000"
        ],
        [
         "partition-geo",
         "eyJpbmQiOjI5ODcsInRpbWVzdGFtcCI6IjIwMTktMTItMjRUMjI6MzM6MDYiLCJsYXRpdHVkZSI6ODMuMTQ2NiwibG9uZ2l0dWRlIjotMTY5LjEzNiwiY291bnRyeSI6IkRvbWluaWNhIn0=",
         "streaming-0affec486183-geo",
         "shardId-000000000000",
         "49654776715983955342252074784910260164552764126480302082",
         "2024-08-12T17:33:17.080+0000"
        ],
        [
         "partition-geo",
         "eyJpbmQiOjE0ODcsInRpbWVzdGFtcCI6IjIwMjEtMDUtMTVUMTg6MjM6NDUiLCJsYXRpdHVkZSI6Ni4yMzAyOSwibG9uZ2l0dWRlIjotNzUuNTkzOSwiY291bnRyeSI6IkRlbm1hcmsifQ==",
         "streaming-0affec486183-geo",
         "shardId-000000000000",
         "49654776715983955342252074785833879490738340815955820546",
         "2024-08-12T17:33:17.739+0000"
        ],
        [
         "partition-geo",
         "eyJpbmQiOjEwMDUyLCJ0aW1lc3RhbXAiOiIyMDIwLTAxLTAzVDAxOjEwOjU3IiwibGF0aXR1ZGUiOjE0LjcxOTUsImxvbmdpdHVkZSI6LTEzMC45MjEsImNvdW50cnkiOiJDZW50cmFsIEFmcmljYW4gUmVwdWJsaWMifQ==",
         "streaming-0affec486183-geo",
         "shardId-000000000000",
         "49654776715983955342252074788167106322594575260577693698",
         "2024-08-12T17:33:19.410+0000"
        ],
        [
         "partition-geo",
         "eyJpbmQiOjg2NzcsInRpbWVzdGFtcCI6IjIwMjAtMDItMTJUMjM6MjQ6MDEiLCJsYXRpdHVkZSI6LTg0LjM5ODQsImxvbmdpdHVkZSI6LTE0NC45MzMsImNvdW50cnkiOiJCb3V2ZXQgSXNsYW5kIChCb3V2ZXRveWEpIn0=",
         "streaming-0affec486183-geo",
         "shardId-000000000000",
         "49654776715983955342252074788990384805752137797272076290",
         "2024-08-12T17:33:20.075+0000"
        ],
        [
         "partition-geo",
         "eyJpbmQiOjU1NTEsInRpbWVzdGFtcCI6IjIwMjItMDMtMjJUMDY6MDQ6MzMiLCJsYXRpdHVkZSI6LTY3LjgwOTUsImxvbmdpdHVkZSI6NjMuMjc1OCwiY291bnRyeSI6IkNvbG9tYmlhIn0=",
         "streaming-0affec486183-geo",
         "shardId-000000000000",
         "49654776715983955342252074789810036511450856377722863618",
         "2024-08-12T17:33:20.699+0000"
        ],
        [
         "partition-geo",
         "eyJpbmQiOjY2NTIsInRpbWVzdGFtcCI6IjIwMTgtMTEtMjhUMDg6MjE6MTIiLCJsYXRpdHVkZSI6LTc4LjI1MzQsImxvbmdpdHVkZSI6LTE3MC42NjgsImNvdW50cnkiOiJFZ3lwdCJ9",
         "streaming-0affec486183-geo",
         "shardId-000000000000",
         "49654776715983955342252074790743327244193350169315508226",
         "2024-08-12T17:33:21.395+0000"
        ],
        [
         "partition-geo",
         "eyJpbmQiOjY0NzksInRpbWVzdGFtcCI6IjIwMjAtMTAtMTJUMDQ6MTM6MDYiLCJsYXRpdHVkZSI6NDcuOTE0MiwibG9uZ2l0dWRlIjotOTguNDc1NiwiY291bnRyeSI6IklyZWxhbmQifQ==",
         "streaming-0affec486183-geo",
         "shardId-000000000000",
         "49654776715983955342252074791536382581860546907922759682",
         "2024-08-12T17:33:22.025+0000"
        ]
       ],
       "datasetInfos": [],
       "dbfsResultPath": null,
       "isJsonSchema": true,
       "metadata": {},
       "overflow": false,
       "plotOptions": {
        "customPlotOptions": {},
        "displayType": "table",
        "pivotAggregation": null,
        "pivotColumns": null,
        "xColumns": null,
        "yColumns": null
       },
       "removedWidgets": [],
       "schema": [
        {
         "metadata": "{}",
         "name": "partitionKey",
         "type": "\"string\""
        },
        {
         "metadata": "{}",
         "name": "data",
         "type": "\"binary\""
        },
        {
         "metadata": "{}",
         "name": "stream",
         "type": "\"string\""
        },
        {
         "metadata": "{}",
         "name": "shardId",
         "type": "\"string\""
        },
        {
         "metadata": "{}",
         "name": "sequenceNumber",
         "type": "\"string\""
        },
        {
         "metadata": "{}",
         "name": "approximateArrivalTimestamp",
         "type": "\"timestamp\""
        }
       ],
       "type": "table"
      }
     },
     "output_type": "display_data"
    }
   ],
   "source": [
    "display(kstream_geo)"
   ]
  },
  {
   "cell_type": "code",
   "execution_count": 0,
   "metadata": {
    "application/vnd.databricks.v1+cell": {
     "cellMetadata": {
      "byteLimit": 2048000,
      "rowLimit": 10000
     },
     "inputWidgets": {},
     "nuid": "c076e06f-ad1c-40da-9c59-289f5b50c0d2",
     "showTitle": false,
     "title": ""
    }
   },
   "outputs": [
    {
     "output_type": "display_data",
     "data": {
      "text/html": [
       "<style scoped>\n",
       "  .table-result-container {\n",
       "    max-height: 300px;\n",
       "    overflow: auto;\n",
       "  }\n",
       "  table, th, td {\n",
       "    border: 1px solid black;\n",
       "    border-collapse: collapse;\n",
       "  }\n",
       "  th, td {\n",
       "    padding: 5px;\n",
       "  }\n",
       "  th {\n",
       "    text-align: left;\n",
       "  }\n",
       "</style><div class='table-result-container'><table class='table-result'><thead style='background-color: white'><tr><th>partitionKey</th><th>data</th><th>stream</th><th>shardId</th><th>sequenceNumber</th><th>approximateArrivalTimestamp</th></tr></thead><tbody></tbody></table></div>"
      ]
     },
     "metadata": {
      "application/vnd.databricks.v1+output": {
       "addedWidgets": {},
       "aggData": [],
       "aggError": "",
       "aggOverflow": false,
       "aggSchema": [],
       "aggSeriesLimitReached": false,
       "aggType": "",
       "arguments": {},
       "columnCustomDisplayInfos": {},
       "data": [],
       "datasetInfos": [],
       "dbfsResultPath": null,
       "isJsonSchema": true,
       "metadata": {
        "isDbfsCommandResult": false
       },
       "overflow": false,
       "plotOptions": {
        "customPlotOptions": {},
        "displayType": "table",
        "pivotAggregation": null,
        "pivotColumns": null,
        "xColumns": null,
        "yColumns": null
       },
       "removedWidgets": [],
       "schema": [
        {
         "metadata": "{}",
         "name": "partitionKey",
         "type": "\"string\""
        },
        {
         "metadata": "{}",
         "name": "data",
         "type": "\"binary\""
        },
        {
         "metadata": "{}",
         "name": "stream",
         "type": "\"string\""
        },
        {
         "metadata": "{}",
         "name": "shardId",
         "type": "\"string\""
        },
        {
         "metadata": "{}",
         "name": "sequenceNumber",
         "type": "\"string\""
        },
        {
         "metadata": "{}",
         "name": "approximateArrivalTimestamp",
         "type": "\"timestamp\""
        }
       ],
       "type": "table"
      }
     },
     "output_type": "display_data"
    }
   ],
   "source": [
    "# need to be sending live data for this to work:\n",
    "kstream_user = get_kinesis_stream('streaming-0affec486183-user')\n",
    "display(kstream_user)"
   ]
  },
  {
   "cell_type": "code",
   "execution_count": 0,
   "metadata": {
    "application/vnd.databricks.v1+cell": {
     "cellMetadata": {
      "byteLimit": 2048000,
      "rowLimit": 10000
     },
     "inputWidgets": {},
     "nuid": "4c6cf5be-5217-4fc3-a012-f7d30da33d4a",
     "showTitle": false,
     "title": ""
    }
   },
   "outputs": [
    {
     "output_type": "display_data",
     "data": {
      "text/html": [
       "<style scoped>\n",
       "  .table-result-container {\n",
       "    max-height: 300px;\n",
       "    overflow: auto;\n",
       "  }\n",
       "  table, th, td {\n",
       "    border: 1px solid black;\n",
       "    border-collapse: collapse;\n",
       "  }\n",
       "  th, td {\n",
       "    padding: 5px;\n",
       "  }\n",
       "  th {\n",
       "    text-align: left;\n",
       "  }\n",
       "</style><div class='table-result-container'><table class='table-result'><thead style='background-color: white'><tr><th>partitionKey</th><th>data</th><th>stream</th><th>shardId</th><th>sequenceNumber</th><th>approximateArrivalTimestamp</th></tr></thead><tbody></tbody></table></div>"
      ]
     },
     "metadata": {
      "application/vnd.databricks.v1+output": {
       "addedWidgets": {},
       "aggData": [],
       "aggError": "",
       "aggOverflow": false,
       "aggSchema": [],
       "aggSeriesLimitReached": false,
       "aggType": "",
       "arguments": {},
       "columnCustomDisplayInfos": {},
       "data": [],
       "datasetInfos": [],
       "dbfsResultPath": null,
       "isJsonSchema": true,
       "metadata": {
        "isDbfsCommandResult": false
       },
       "overflow": false,
       "plotOptions": {
        "customPlotOptions": {},
        "displayType": "table",
        "pivotAggregation": null,
        "pivotColumns": null,
        "xColumns": null,
        "yColumns": null
       },
       "removedWidgets": [],
       "schema": [
        {
         "metadata": "{}",
         "name": "partitionKey",
         "type": "\"string\""
        },
        {
         "metadata": "{}",
         "name": "data",
         "type": "\"binary\""
        },
        {
         "metadata": "{}",
         "name": "stream",
         "type": "\"string\""
        },
        {
         "metadata": "{}",
         "name": "shardId",
         "type": "\"string\""
        },
        {
         "metadata": "{}",
         "name": "sequenceNumber",
         "type": "\"string\""
        },
        {
         "metadata": "{}",
         "name": "approximateArrivalTimestamp",
         "type": "\"timestamp\""
        }
       ],
       "type": "table"
      }
     },
     "output_type": "display_data"
    }
   ],
   "source": [
    "display(kstream_user)"
   ]
  },
  {
   "cell_type": "code",
   "execution_count": 0,
   "metadata": {
    "application/vnd.databricks.v1+cell": {
     "cellMetadata": {
      "byteLimit": 2048000,
      "rowLimit": 10000
     },
     "inputWidgets": {},
     "nuid": "fa7ba1ad-30fc-4eb0-8c0a-3ec9c6d1e1e6",
     "showTitle": false,
     "title": ""
    }
   },
   "outputs": [
    {
     "output_type": "display_data",
     "data": {
      "text/html": [
       "<style scoped>\n",
       "  .ansiout {\n",
       "    display: block;\n",
       "    unicode-bidi: embed;\n",
       "    white-space: pre-wrap;\n",
       "    word-wrap: break-word;\n",
       "    word-break: break-all;\n",
       "    font-family: \"Menlo\", \"Monaco\", \"Consolas\", \"Ubuntu Mono\", \"Source Code Pro\", monospace;\n",
       "    font-size: 13px;\n",
       "    color: #555;\n",
       "    margin-left: 4px;\n",
       "    line-height: 19px;\n",
       "  }\n",
       "</style>\n",
       "<div class=\"ansiout\"></div>"
      ]
     },
     "metadata": {
      "application/vnd.databricks.v1+output": {
       "addedWidgets": {},
       "arguments": {},
       "data": "<div class=\"ansiout\"></div>",
       "datasetInfos": [],
       "metadata": {},
       "removedWidgets": [],
       "type": "html"
      }
     },
     "output_type": "display_data"
    }
   ],
   "source": [
    "df_pin = deserialize_kinesis_stream(kstream_pin, pin_schema)\n",
    "df_geo = deserialize_kinesis_stream(kstream_geo, geo_schema)\n",
    "df_user = deserialize_kinesis_stream(kstream_user, user_schema)"
   ]
  },
  {
   "cell_type": "code",
   "execution_count": 0,
   "metadata": {
    "application/vnd.databricks.v1+cell": {
     "cellMetadata": {
      "byteLimit": 2048000,
      "rowLimit": 10000
     },
     "inputWidgets": {},
     "nuid": "ededf3e0-27c0-4084-8280-10b71be381ea",
     "showTitle": false,
     "title": ""
    }
   },
   "outputs": [
    {
     "output_type": "display_data",
     "data": {
      "text/html": [
       "<style scoped>\n",
       "  .ansiout {\n",
       "    display: block;\n",
       "    unicode-bidi: embed;\n",
       "    white-space: pre-wrap;\n",
       "    word-wrap: break-word;\n",
       "    word-break: break-all;\n",
       "    font-family: \"Menlo\", \"Monaco\", \"Consolas\", \"Ubuntu Mono\", \"Source Code Pro\", monospace;\n",
       "    font-size: 13px;\n",
       "    color: #555;\n",
       "    margin-left: 4px;\n",
       "    line-height: 19px;\n",
       "  }\n",
       "</style>\n",
       "<div class=\"ansiout\"></div>"
      ]
     },
     "metadata": {
      "application/vnd.databricks.v1+output": {
       "addedWidgets": {},
       "arguments": {},
       "data": "<div class=\"ansiout\"></div>",
       "datasetInfos": [],
       "metadata": {},
       "removedWidgets": [],
       "type": "html"
      }
     },
     "output_type": "display_data"
    }
   ],
   "source": [
    "# replace empty entries and entries with no relevant data in each column with Nones\n",
    "# column names and values to change to null\n",
    "replace_dict = {\n",
    "    \"description\": \"No description available%\",\n",
    "    \"follower_count\": \"User Info Error\",\n",
    "    \"image_src\": \"Image src error.\",\n",
    "    \"poster_name\": \"User Info Error\",\n",
    "    \"tag_list\": \"N,o, ,T,a,g,s, ,A,v,a,i,l,a,b,l,e\",\n",
    "    \"title\": \"No Title Data Available\"\n",
    "}\n",
    "# replace wrong values with None\n",
    "for key, value in replace_dict.items():\n",
    "    df_pin = df_pin.withColumn(key, when(col(key).like(value), None).otherwise(col(key)))\n",
    "\n",
    "# format follower_count as number\n",
    "df_pin = df_pin.withColumn(\"follower_count\", regexp_replace(\"follower_count\", \"k\", \"000\"))\n",
    "df_pin = df_pin.withColumn(\"follower_count\", regexp_replace(\"follower_count\", \"M\", \"000000\"))\n",
    "\n",
    "# cast follower_count to integer type\n",
    "df_pin = df_pin.withColumn(\"follower_count\", col(\"follower_count\").cast('int'))\n",
    "\n",
    "# convert save_location column to include only the save location path\n",
    "df_pin = df_pin.withColumn(\"save_location\", regexp_replace(\"save_location\", \"Local save in \", \"\"))\n",
    "\n",
    "# rename the index column to ind\n",
    "df_pin = df_pin.withColumnRenamed(\"index\", \"ind\")\n",
    "\n",
    "# reorder the df_pin\n",
    "new_order_pin = [\n",
    "    \"ind\",\n",
    "    \"unique_id\",\n",
    "    \"title\",\n",
    "    \"description\",\n",
    "    \"follower_count\",\n",
    "    \"poster_name\",\n",
    "    \"tag_list\",\n",
    "    \"is_image_or_video\",\n",
    "    \"image_src\",\n",
    "    \"save_location\",\n",
    "    \"category\"\n",
    "]\n",
    "df_pin = df_pin.select(new_order_pin)\n",
    "     "
   ]
  },
  {
   "cell_type": "code",
   "execution_count": 0,
   "metadata": {
    "application/vnd.databricks.v1+cell": {
     "cellMetadata": {
      "byteLimit": 2048000,
      "rowLimit": 10000
     },
     "inputWidgets": {},
     "nuid": "852aa08c-dc16-4f58-a982-e592217e4127",
     "showTitle": false,
     "title": ""
    }
   },
   "outputs": [
    {
     "output_type": "display_data",
     "data": {
      "text/html": [
       "<style scoped>\n",
       "  .ansiout {\n",
       "    display: block;\n",
       "    unicode-bidi: embed;\n",
       "    white-space: pre-wrap;\n",
       "    word-wrap: break-word;\n",
       "    word-break: break-all;\n",
       "    font-family: \"Menlo\", \"Monaco\", \"Consolas\", \"Ubuntu Mono\", \"Source Code Pro\", monospace;\n",
       "    font-size: 13px;\n",
       "    color: #555;\n",
       "    margin-left: 4px;\n",
       "    line-height: 19px;\n",
       "  }\n",
       "</style>\n",
       "<div class=\"ansiout\"></div>"
      ]
     },
     "metadata": {
      "application/vnd.databricks.v1+output": {
       "addedWidgets": {},
       "arguments": {},
       "data": "<div class=\"ansiout\"></div>",
       "datasetInfos": [],
       "metadata": {},
       "removedWidgets": [],
       "type": "html"
      }
     },
     "output_type": "display_data"
    }
   ],
   "source": [
    "from pyspark.sql.types import ArrayType, DoubleType\n",
    "\n",
    "# New coordinates column, array with lat, long\n",
    "df_geo = df_geo.withColumn(\"coordinates\", array(\"latitude\", \"longitude\"))\n",
    "\n",
    "# drop the lat and long cols\n",
    "cols_to_drop = (\"latitude\", \"longitude\")\n",
    "df_geo = df_geo.drop(*cols_to_drop)\n",
    "\n",
    "# convert timestamp column to type timestamp\n",
    "df_geo = df_geo.withColumn(\"timestamp\", to_timestamp(\"timestamp\"))\n",
    "\n",
    "# reorder the df_geo\n",
    "new_order_geo = [\n",
    "    \"ind\",\n",
    "    \"country\",\n",
    "    \"coordinates\",\n",
    "    \"timestamp\",\n",
    "]\n",
    "df_geo = df_geo.select(new_order_geo)\n",
    "     "
   ]
  },
  {
   "cell_type": "code",
   "execution_count": 0,
   "metadata": {
    "application/vnd.databricks.v1+cell": {
     "cellMetadata": {
      "byteLimit": 2048000,
      "rowLimit": 10000
     },
     "inputWidgets": {},
     "nuid": "dbd7a510-6603-4e38-9fc7-e3ddd784ffad",
     "showTitle": false,
     "title": ""
    }
   },
   "outputs": [
    {
     "output_type": "display_data",
     "data": {
      "text/html": [
       "<style scoped>\n",
       "  .ansiout {\n",
       "    display: block;\n",
       "    unicode-bidi: embed;\n",
       "    white-space: pre-wrap;\n",
       "    word-wrap: break-word;\n",
       "    word-break: break-all;\n",
       "    font-family: \"Menlo\", \"Monaco\", \"Consolas\", \"Ubuntu Mono\", \"Source Code Pro\", monospace;\n",
       "    font-size: 13px;\n",
       "    color: #555;\n",
       "    margin-left: 4px;\n",
       "    line-height: 19px;\n",
       "  }\n",
       "</style>\n",
       "<div class=\"ansiout\"></div>"
      ]
     },
     "metadata": {
      "application/vnd.databricks.v1+output": {
       "addedWidgets": {},
       "arguments": {},
       "data": "<div class=\"ansiout\"></div>",
       "datasetInfos": [],
       "metadata": {},
       "removedWidgets": [],
       "type": "html"
      }
     },
     "output_type": "display_data"
    }
   ],
   "source": [
    "# create new user_name from first_name and last_name\n",
    "df_user = df_user.withColumn(\"user_name\", concat(\"first_name\", \"last_name\"))\n",
    "\n",
    "# drop first_name and last_name\n",
    "df_user = df_user.drop('first_name', 'last_name')\n",
    "\n",
    "# convert date_joined to timestamp\n",
    "df_user = df_user.withColumn(\"date_joined\", to_timestamp(\"date_joined\"))\n",
    "\n",
    "# reorder the df_user\n",
    "new_order_user = [\n",
    "    \"ind\",\n",
    "    \"user_name\",\n",
    "    \"age\",\n",
    "    \"date_joined\",\n",
    "]\n",
    "df_user = df_user.select(new_order_user)"
   ]
  },
  {
   "cell_type": "code",
   "execution_count": 0,
   "metadata": {
    "application/vnd.databricks.v1+cell": {
     "cellMetadata": {
      "byteLimit": 2048000,
      "rowLimit": 10000
     },
     "inputWidgets": {},
     "nuid": "68de5dcd-e842-4099-8859-00f3ff56ccd2",
     "showTitle": false,
     "title": ""
    }
   },
   "outputs": [
    {
     "output_type": "display_data",
     "data": {
      "text/html": [
       "<style scoped>\n",
       "  .table-result-container {\n",
       "    max-height: 300px;\n",
       "    overflow: auto;\n",
       "  }\n",
       "  table, th, td {\n",
       "    border: 1px solid black;\n",
       "    border-collapse: collapse;\n",
       "  }\n",
       "  th, td {\n",
       "    padding: 5px;\n",
       "  }\n",
       "  th {\n",
       "    text-align: left;\n",
       "  }\n",
       "</style><div class='table-result-container'><table class='table-result'><thead style='background-color: white'><tr><th>ind</th><th>unique_id</th><th>title</th><th>description</th><th>follower_count</th><th>poster_name</th><th>tag_list</th><th>is_image_or_video</th><th>image_src</th><th>save_location</th><th>category</th></tr></thead><tbody><tr><td>7528</td><td>fbe53c66-3442-4773-b19e-d3ec6f54dddf</td><td>null</td><td>null</td><td>null</td><td>null</td><td>null</td><td>multi-video(story page format)</td><td>null</td><td>/data/mens-fashion</td><td>mens-fashion</td></tr><tr><td>2863</td><td>9bf39437-42a6-4f02-99a0-9a0383d8cd70</td><td>25 Super Fun Summer Crafts for Kids - Of Life and Lisa</td><td>Keep the kids busy this summer with these easy diy crafts and projects. Creative and…</td><td>124000</td><td>Of Life & Lisa | Lifestyle Blog</td><td>Summer Crafts For Kids,Fun Crafts For Kids,Summer Kids,Toddler Crafts,Crafts To Do,Diy For Kids,Summer Snow,Diys For Summer,Craft Ideas For Girls</td><td>image</td><td>https://i.pinimg.com/originals/b3/bc/e2/b3bce2964e8c8975387b39660eed5f16.jpg</td><td>/data/diy-and-crafts</td><td>diy-and-crafts</td></tr><tr><td>5730</td><td>1e1f0c8b-9fcf-460b-9154-c775827206eb</td><td>Island Oasis Coupon Organizer</td><td>Description Coupon Organizer in a fun colorful fabric -island oasis, Great Size for the \"basic\" couponer - holds up to 500 coupons with ease, and is made long enough so that you… </td><td>0</td><td>Consuelo Aguirre</td><td>Grocery Items,Grocery Coupons,Care Organization,Coupon Organization,Extreme Couponing,Couponing 101,Life Binder,Save My Money,Love Coupons</td><td>image</td><td>https://i.pinimg.com/originals/65/bb/ea/65bbeaf458907bb079317d8303c4fa0e.jpg</td><td>/data/finance</td><td>finance</td></tr><tr><td>8304</td><td>5b6d0913-25e4-43ab-839d-85d5516f78a4</td><td>The #1 Reason You’re Not His Priority Anymore - Matthew Coast</td><td>#lovequotes #matchmaker #matchmadeinheaven #loveyourself #respectyourself</td><td>51000</td><td>Commitment Connection</td><td>Wise Quotes,Quotable Quotes,Words Quotes,Wise Words,Quotes To Live By,Great Quotes,Motivational Quotes,Inspirational Quotes,Funny Quotes</td><td>image</td><td>https://i.pinimg.com/originals/c6/64/ee/c664ee71524fb5a6e7b7b49233f93b43.png</td><td>/data/quotes</td><td>quotes</td></tr><tr><td>8731</td><td>ea760f71-febf-4023-b592-d17396659039</td><td>20 Koi Fish Tattoos For Lucky Men</td><td>Koi fish tattoos are a popular choice for men who want to make a statement, thanks to their rich symbolism and bold design.</td><td>211000</td><td>TheTrendSpotter</td><td>Dr Tattoo,Wörter Tattoos,Pisces Tattoos,Tatoo Art,Dream Tattoos,Dope Tattoos,Mini Tattoos,Finger Tattoos,Body Art Tattoos</td><td>image</td><td>https://i.pinimg.com/originals/8a/0c/0a/8a0c0a7b6236565c519acd41ad1a52c0.jpg</td><td>/data/tattoos</td><td>tattoos</td></tr><tr><td>1313</td><td>44662045-e891-4821-8a19-ebe7eedd371a</td><td>Liquid Lash Extensions Mascara</td><td>Instantly create the look of lash extensions with this award-winning, best-selling mascara that won't clump, flake or smudge. Available in 3 shades!</td><td>43000</td><td>Thrive Causemetics</td><td>null</td><td>video</td><td>https://i.pinimg.com/videos/thumbnails/originals/69/84/e2/6984e20f3e262098fa9c0614c3453254.0000001.jpg</td><td>/data/beauty</td><td>beauty</td></tr><tr><td>4315</td><td>21b59ba9-829d-4c33-8c27-4cd4c56d26b8</td><td>Podcasts for Teachers or Parents of Teenagers</td><td>Podcasts for Teachers or Parents of Teenagers: Teaching teens middle school and high school can feel joyful and rewarding most days, but can also frustrate you with one challeng… </td><td>25000</td><td>Math Giraffe</td><td>Middle School Classroom,High School Students,High School Teachers,Middle School Tips,High School Counseling,Ela Classroom,High School Science,Future Classroom,Google Classroom</td><td>image</td><td>https://i.pinimg.com/originals/50/19/31/501931a27ee4d076658980851b995b2c.jpg</td><td>/data/education</td><td>education</td></tr><tr><td>10794</td><td>c4bd2577-a7bb-4409-bb7a-17d5ed7e1cf1</td><td>TireBuyer</td><td>Nissan GT-R. Sick.</td><td>437</td><td>Ray Uyemura</td><td>Lowrider,Old Vintage Cars,Antique Cars,Austin Martin,Nissan Gtr Black,Jaguar,1959 Cadillac,Cadillac Ct6,Old School Cars</td><td>image</td><td>https://i.pinimg.com/originals/0d/29/9f/0d299f3df020395aa7ce8387f40fbeed.jpg</td><td>/data/vehicles</td><td>vehicles</td></tr><tr><td>5494</td><td>8fb2af68-543b-4639-8119-de33d28706ed</td><td>Dave Ramsey's 7 Baby Steps: What Are They And Will They Work For You</td><td>If you love budgeting, make sure to give Dave Ramsey's 7 Baby Steps a try. Follow these steps to begin your debt snowball, build an emergency fund, invest and reach riches. I ca… </td><td>26000</td><td>Living Low Key | Save Money, Make Money, & Frugal Living</td><td>Financial Peace,Financial Tips,Saving Money Quotes,Total Money Makeover,Budgeting Finances,Money Management,Wealth Management,Personal Finance,Making Ideas</td><td>image</td><td>https://i.pinimg.com/originals/1e/9d/90/1e9d906e4e150e3b95187f3b76ea7c71.png</td><td>/data/finance</td><td>finance</td></tr><tr><td>5069</td><td>b75b6f87-deb3-444f-b29e-ce9161b2df49</td><td>The Vault: Curated & Refined Wedding Inspiration</td><td>Sacramento California Wedding 2 Chic Events & Design Jodi Yorston Photography Wilson Vineyards Barn Miosa Couture Yellow Barn Vineyard Outdoor Candles DIY</td><td>6000000</td><td>Style Me Pretty</td><td>60th Anniversary Parties,Anniversary Decorations,Golden Anniversary,25th Wedding Anniversary,Anniversary Pictures,Anniversary Ideas,Birthday Decorations,Event Planning Design,Event Design</td><td>image</td><td>https://i.pinimg.com/originals/7e/45/90/7e45905fefa36347e83333fd6d091140.jpg</td><td>/data/event-planning</td><td>event-planning</td></tr><tr><td>2923</td><td>52fa3af5-24a4-4ccb-8f17-9c3eb12327ee</td><td>UFO Paper Plate Craft</td><td>A fun space activity for kids. Preshoolers and kindergartners will love making their own alien spacecraft!</td><td>192000</td><td>The Crafting Chicks</td><td>Paper Plate Crafts For Kids,Fun Crafts For Kids,Summer Crafts,Toddler Crafts,Art For Kids,Outer Space Crafts For Kids,Kid Crafts,Space Kids,Back To School Crafts For Kids</td><td>image</td><td>https://i.pinimg.com/originals/6f/e8/aa/6fe8aa405513c6d2f77b5f47d17cdce8.jpg</td><td>/data/diy-and-crafts</td><td>diy-and-crafts</td></tr><tr><td>3089</td><td>88f9227e-88d0-4b1c-b0be-bcfc3028b8e2</td><td>null</td><td>null</td><td>null</td><td>null</td><td>null</td><td>multi-video(story page format)</td><td>null</td><td>/data/diy-and-crafts</td><td>diy-and-crafts</td></tr><tr><td>6063</td><td>60693727-4927-4bd6-a8c5-096a392d63e6</td><td>41 Gorgeous Fall Decor Ideas For Your Home - Chaylor & Mads</td><td>Beautiful and easy ways to update every room in your home with fall decor. Plus, my favorite finds in fall decor for 2020!</td><td>92000</td><td>Kristen | Lifestyle, Mom Tips & Teacher Stuff Blog</td><td>Fall Home Decor,Autumn Home,Fall Decor Outdoor,Front Porch Fall Decor,Home Decor Ideas,Porch Ideas For Fall,Fall Outdoor Decorating,Decorating Ideas For Fall,Fall Front Doors</td><td>image</td><td>https://i.pinimg.com/originals/e5/ae/dc/e5aedc14ce557e3a69f672e0f8c88f6e.png</td><td>/data/home-decor</td><td>home-decor</td></tr><tr><td>3454</td><td>46bd3f86-b09d-4e29-9033-7ff2df595e51</td><td>What can you use to color resin?</td><td>HELPFUL RESOURCES – Check out my resin colorants resources page here with links to all the products mentioned in this article (and more). Let me know if you have any that you lo… </td><td>6000</td><td>Mixed Media Crafts</td><td>Epoxy Resin Art,Diy Resin Art,Diy Resin Crafts,Resin Molds,Ice Resin,Resin Pour,Diy Epoxy,Diy Resin Painting,Diy Resin Dice</td><td>image</td><td>https://i.pinimg.com/originals/d4/12/78/d4127833023ca32600571ddca16f1556.jpg</td><td>/data/diy-and-crafts</td><td>diy-and-crafts</td></tr><tr><td>7554</td><td>c6fa12f4-0d4a-4b07-a335-5bf9f37f8281</td><td>Craig Style</td><td>imgentleboss: “ - More about men’s fashion at @Gentleboss - GB’s Facebook - ”</td><td>940</td><td>iElylike ..✿◕‿◕✿ஐ✿◕‿◕✿</td><td>Mens Fashion Blog,Look Fashion,Autumn Fashion,Fashion News,Fashion Sale,80s Fashion,Paris Fashion,Runway Fashion,Fashion Trends</td><td>image</td><td>https://i.pinimg.com/originals/e7/6e/8e/e76e8ed6cc838b84a934c6948a5caff7.jpg</td><td>/data/mens-fashion</td><td>mens-fashion</td></tr><tr><td>7528</td><td>fbe53c66-3442-4773-b19e-d3ec6f54dddf</td><td>null</td><td>null</td><td>null</td><td>null</td><td>null</td><td>multi-video(story page format)</td><td>null</td><td>/data/mens-fashion</td><td>mens-fashion</td></tr><tr><td>2863</td><td>9bf39437-42a6-4f02-99a0-9a0383d8cd70</td><td>25 Super Fun Summer Crafts for Kids - Of Life and Lisa</td><td>Keep the kids busy this summer with these easy diy crafts and projects. Creative and…</td><td>124000</td><td>Of Life & Lisa | Lifestyle Blog</td><td>Summer Crafts For Kids,Fun Crafts For Kids,Summer Kids,Toddler Crafts,Crafts To Do,Diy For Kids,Summer Snow,Diys For Summer,Craft Ideas For Girls</td><td>image</td><td>https://i.pinimg.com/originals/b3/bc/e2/b3bce2964e8c8975387b39660eed5f16.jpg</td><td>/data/diy-and-crafts</td><td>diy-and-crafts</td></tr><tr><td>5730</td><td>1e1f0c8b-9fcf-460b-9154-c775827206eb</td><td>Island Oasis Coupon Organizer</td><td>Description Coupon Organizer in a fun colorful fabric -island oasis, Great Size for the \"basic\" couponer - holds up to 500 coupons with ease, and is made long enough so that you… </td><td>0</td><td>Consuelo Aguirre</td><td>Grocery Items,Grocery Coupons,Care Organization,Coupon Organization,Extreme Couponing,Couponing 101,Life Binder,Save My Money,Love Coupons</td><td>image</td><td>https://i.pinimg.com/originals/65/bb/ea/65bbeaf458907bb079317d8303c4fa0e.jpg</td><td>/data/finance</td><td>finance</td></tr><tr><td>8304</td><td>5b6d0913-25e4-43ab-839d-85d5516f78a4</td><td>The #1 Reason You’re Not His Priority Anymore - Matthew Coast</td><td>#lovequotes #matchmaker #matchmadeinheaven #loveyourself #respectyourself</td><td>51000</td><td>Commitment Connection</td><td>Wise Quotes,Quotable Quotes,Words Quotes,Wise Words,Quotes To Live By,Great Quotes,Motivational Quotes,Inspirational Quotes,Funny Quotes</td><td>image</td><td>https://i.pinimg.com/originals/c6/64/ee/c664ee71524fb5a6e7b7b49233f93b43.png</td><td>/data/quotes</td><td>quotes</td></tr><tr><td>8731</td><td>ea760f71-febf-4023-b592-d17396659039</td><td>20 Koi Fish Tattoos For Lucky Men</td><td>Koi fish tattoos are a popular choice for men who want to make a statement, thanks to their rich symbolism and bold design.</td><td>211000</td><td>TheTrendSpotter</td><td>Dr Tattoo,Wörter Tattoos,Pisces Tattoos,Tatoo Art,Dream Tattoos,Dope Tattoos,Mini Tattoos,Finger Tattoos,Body Art Tattoos</td><td>image</td><td>https://i.pinimg.com/originals/8a/0c/0a/8a0c0a7b6236565c519acd41ad1a52c0.jpg</td><td>/data/tattoos</td><td>tattoos</td></tr><tr><td>1313</td><td>44662045-e891-4821-8a19-ebe7eedd371a</td><td>Liquid Lash Extensions Mascara</td><td>Instantly create the look of lash extensions with this award-winning, best-selling mascara that won't clump, flake or smudge. Available in 3 shades!</td><td>43000</td><td>Thrive Causemetics</td><td>null</td><td>video</td><td>https://i.pinimg.com/videos/thumbnails/originals/69/84/e2/6984e20f3e262098fa9c0614c3453254.0000001.jpg</td><td>/data/beauty</td><td>beauty</td></tr><tr><td>4315</td><td>21b59ba9-829d-4c33-8c27-4cd4c56d26b8</td><td>Podcasts for Teachers or Parents of Teenagers</td><td>Podcasts for Teachers or Parents of Teenagers: Teaching teens middle school and high school can feel joyful and rewarding most days, but can also frustrate you with one challeng… </td><td>25000</td><td>Math Giraffe</td><td>Middle School Classroom,High School Students,High School Teachers,Middle School Tips,High School Counseling,Ela Classroom,High School Science,Future Classroom,Google Classroom</td><td>image</td><td>https://i.pinimg.com/originals/50/19/31/501931a27ee4d076658980851b995b2c.jpg</td><td>/data/education</td><td>education</td></tr><tr><td>10794</td><td>c4bd2577-a7bb-4409-bb7a-17d5ed7e1cf1</td><td>TireBuyer</td><td>Nissan GT-R. Sick.</td><td>437</td><td>Ray Uyemura</td><td>Lowrider,Old Vintage Cars,Antique Cars,Austin Martin,Nissan Gtr Black,Jaguar,1959 Cadillac,Cadillac Ct6,Old School Cars</td><td>image</td><td>https://i.pinimg.com/originals/0d/29/9f/0d299f3df020395aa7ce8387f40fbeed.jpg</td><td>/data/vehicles</td><td>vehicles</td></tr><tr><td>5494</td><td>8fb2af68-543b-4639-8119-de33d28706ed</td><td>Dave Ramsey's 7 Baby Steps: What Are They And Will They Work For You</td><td>If you love budgeting, make sure to give Dave Ramsey's 7 Baby Steps a try. Follow these steps to begin your debt snowball, build an emergency fund, invest and reach riches. I ca… </td><td>26000</td><td>Living Low Key | Save Money, Make Money, & Frugal Living</td><td>Financial Peace,Financial Tips,Saving Money Quotes,Total Money Makeover,Budgeting Finances,Money Management,Wealth Management,Personal Finance,Making Ideas</td><td>image</td><td>https://i.pinimg.com/originals/1e/9d/90/1e9d906e4e150e3b95187f3b76ea7c71.png</td><td>/data/finance</td><td>finance</td></tr><tr><td>5069</td><td>b75b6f87-deb3-444f-b29e-ce9161b2df49</td><td>The Vault: Curated & Refined Wedding Inspiration</td><td>Sacramento California Wedding 2 Chic Events & Design Jodi Yorston Photography Wilson Vineyards Barn Miosa Couture Yellow Barn Vineyard Outdoor Candles DIY</td><td>6000000</td><td>Style Me Pretty</td><td>60th Anniversary Parties,Anniversary Decorations,Golden Anniversary,25th Wedding Anniversary,Anniversary Pictures,Anniversary Ideas,Birthday Decorations,Event Planning Design,Event Design</td><td>image</td><td>https://i.pinimg.com/originals/7e/45/90/7e45905fefa36347e83333fd6d091140.jpg</td><td>/data/event-planning</td><td>event-planning</td></tr><tr><td>2923</td><td>52fa3af5-24a4-4ccb-8f17-9c3eb12327ee</td><td>UFO Paper Plate Craft</td><td>A fun space activity for kids. Preshoolers and kindergartners will love making their own alien spacecraft!</td><td>192000</td><td>The Crafting Chicks</td><td>Paper Plate Crafts For Kids,Fun Crafts For Kids,Summer Crafts,Toddler Crafts,Art For Kids,Outer Space Crafts For Kids,Kid Crafts,Space Kids,Back To School Crafts For Kids</td><td>image</td><td>https://i.pinimg.com/originals/6f/e8/aa/6fe8aa405513c6d2f77b5f47d17cdce8.jpg</td><td>/data/diy-and-crafts</td><td>diy-and-crafts</td></tr><tr><td>3089</td><td>88f9227e-88d0-4b1c-b0be-bcfc3028b8e2</td><td>null</td><td>null</td><td>null</td><td>null</td><td>null</td><td>multi-video(story page format)</td><td>null</td><td>/data/diy-and-crafts</td><td>diy-and-crafts</td></tr><tr><td>6063</td><td>60693727-4927-4bd6-a8c5-096a392d63e6</td><td>41 Gorgeous Fall Decor Ideas For Your Home - Chaylor & Mads</td><td>Beautiful and easy ways to update every room in your home with fall decor. Plus, my favorite finds in fall decor for 2020!</td><td>92000</td><td>Kristen | Lifestyle, Mom Tips & Teacher Stuff Blog</td><td>Fall Home Decor,Autumn Home,Fall Decor Outdoor,Front Porch Fall Decor,Home Decor Ideas,Porch Ideas For Fall,Fall Outdoor Decorating,Decorating Ideas For Fall,Fall Front Doors</td><td>image</td><td>https://i.pinimg.com/originals/e5/ae/dc/e5aedc14ce557e3a69f672e0f8c88f6e.png</td><td>/data/home-decor</td><td>home-decor</td></tr><tr><td>3454</td><td>46bd3f86-b09d-4e29-9033-7ff2df595e51</td><td>What can you use to color resin?</td><td>HELPFUL RESOURCES – Check out my resin colorants resources page here with links to all the products mentioned in this article (and more). Let me know if you have any that you lo… </td><td>6000</td><td>Mixed Media Crafts</td><td>Epoxy Resin Art,Diy Resin Art,Diy Resin Crafts,Resin Molds,Ice Resin,Resin Pour,Diy Epoxy,Diy Resin Painting,Diy Resin Dice</td><td>image</td><td>https://i.pinimg.com/originals/d4/12/78/d4127833023ca32600571ddca16f1556.jpg</td><td>/data/diy-and-crafts</td><td>diy-and-crafts</td></tr><tr><td>7554</td><td>c6fa12f4-0d4a-4b07-a335-5bf9f37f8281</td><td>Craig Style</td><td>imgentleboss: “ - More about men’s fashion at @Gentleboss - GB’s Facebook - ”</td><td>940</td><td>iElylike ..✿◕‿◕✿ஐ✿◕‿◕✿</td><td>Mens Fashion Blog,Look Fashion,Autumn Fashion,Fashion News,Fashion Sale,80s Fashion,Paris Fashion,Runway Fashion,Fashion Trends</td><td>image</td><td>https://i.pinimg.com/originals/e7/6e/8e/e76e8ed6cc838b84a934c6948a5caff7.jpg</td><td>/data/mens-fashion</td><td>mens-fashion</td></tr><tr><td>6145</td><td>82e13a07-db99-43a3-b1c0-89a4b75821da</td><td>HOLIDAY MANTLE DECOR - @AMAZON & @TARGET FINDS</td><td>Holiday mantle decor, Christmas decor, metallic mercury glass style Christmas trees, eucalyptus vine, evergreen pine branches, white neutral holiday decor, cozy mantle for the h… </td><td>83000</td><td>Stylin by Aylin</td><td>Winter Home Decor,Christmas Living Room Decor,Living Room Decor Cozy,Christmas Decor,Cozy Fireplace,Rustic Fireplace Decor,Fireplace Decorations,Rustic Room,House Decorations</td><td>image</td><td>https://i.pinimg.com/originals/9d/82/1a/9d821a80acd8f90c16454e978bd9b115.jpg</td><td>/data/home-decor</td><td>home-decor</td></tr><tr><td>10625</td><td>d31885b7-742a-4e2a-bbb7-ac5f9d334340</td><td>Jaguar Type E</td><td>1937 Jaguar SS100 - 2 1/2 Litre Roadster, one of the most sought after pre-war sports cars</td><td>8000</td><td>hobbyDB</td><td>Jaguar Type E,Jaguar Xk,Jaguar Cars,Jaguar Roadster,Jaguar Sport,Retro Cars,Vintage Cars,Antique Cars,British Sports Cars</td><td>image</td><td>https://i.pinimg.com/originals/26/81/a7/2681a71bd0c8f7fd0ab79c455338a49a.jpg</td><td>/data/vehicles</td><td>vehicles</td></tr><tr><td>2959</td><td>439cac4b-18e8-4aaa-88c5-edb26a701111</td><td>The Cutest Toilet Paper Crafts</td><td>One thing I love about Crafts is how the evolve! These toilet paper rolls are adorable and modern. I love that something as simple as a recycled toilet paper roll can be taken t… </td><td>502000</td><td>CraftGossip.com</td><td>Toilet Paper Roll Crafts,Cardboard Crafts,Diy Paper,Paper Crafting,Toilet Paper Rolls,Cardboard Playhouse,Paper Art,Kids Crafts,Toddler Crafts</td><td>image</td><td>https://i.pinimg.com/originals/c6/cd/0d/c6cd0d04da9cfc11566cfd34eeb1f918.jpg</td><td>/data/diy-and-crafts</td><td>diy-and-crafts</td></tr><tr><td>9875</td><td>782dcbad-ff91-40a6-ba60-216efe29adb7</td><td>European Bucket List: 35 Things NOT To Miss When Traveling Europe</td><td>35 European bucket list destinations for any traveler heading to Europe. From Cinque Terre, Italy to Iceland - there are so many amazing sites to see in Europe.</td><td>28000</td><td>Nicki </td><td>Backpacking Europe,Europe Travel Guide,Travel Guides,Travel Packing,Traveling Europe,Travelling,Travel Backpack,Budget Travel,2 Week Europe Itinerary</td><td>image</td><td>https://i.pinimg.com/originals/71/04/1a/71041ad83ede43d9665741e719c58a86.jpg</td><td>/data/travel</td><td>travel</td></tr><tr><td>2418</td><td>da8745a6-5160-46c4-877d-181d50a729fd</td><td>100 DIY Christmas Centerpieces You'll Love To Decorate Your Home With For The Christmas Season - Hike n Dip</td><td>Here are the best DIY Christmas Centerpieces ideas perfect for your Christmas & holiday season home decor. From Christmas Vignettes to Table Centerpieces.</td><td>500000</td><td>HikenDip</td><td>Farmhouse Christmas Decor,Rustic Christmas,Christmas Time,Vintage Christmas,Xmas,Primitive Christmas Crafts,Christmas Vignette,Indoor Christmas Decorations,Diy Christmas Ornaments</td><td>image</td><td>https://i.pinimg.com/originals/aa/6d/0f/aa6d0f44d7c1c96b998cb9aa6c4446b8.png</td><td>/data/christmas</td><td>christmas</td></tr><tr><td>3156</td><td>fa6e31a4-18c2-4eca-a6d8-e903eee2c2a4</td><td>Handprint Reindeer Ornaments - Crafty Morning</td><td>This post may contain affiliate links, read our Disclosure Policy for more information. As an Amazon Associate I earn from qualifying purchases, thank you! Make some cute handpr… </td><td>892000</td><td>Michelle {CraftyMorning.com}</td><td>Christmas Gifts For Parents,Christmas Decorations For Kids,Christmas Crafts For Toddlers,Preschool Christmas,Christmas Crafts For Gifts,Christmas Activities,Toddler Crafts,Kids Christmas,Christmas Feeling</td><td>image</td><td>https://i.pinimg.com/originals/ff/fe/38/fffe384f3ec18a0d87cb2d80cc8c1499.jpg</td><td>/data/diy-and-crafts</td><td>diy-and-crafts</td></tr><tr><td>428</td><td>610b3f83-9fe0-469d-946c-d16b577fca71</td><td>Fashion Designer Isaac Mizrahi’s Updated 1930s New York City Apartment</td><td>Fashion designer Issac Mizrahi’s Greenwich Village home is an amalgamation of three apartments that was 20 years in the making</td><td>3000000</td><td>Architectural Digest</td><td>Modern Art,Contemporary Art,Contemporary Kitchens,Contemporary Bedroom,New York City Apartment,Manhattan Apartment,Art Moderne,Architectural Digest,Painting Inspiration</td><td>image</td><td>https://i.pinimg.com/originals/f4/6c/54/f46c546a2e480022a42d842b7dca157e.jpg</td><td>/data/art</td><td>art</td></tr><tr><td>7343</td><td>b8c63a95-6fe8-4d7f-9455-1eef3462fee0</td><td>This Fashion Rule Is Nonsense, And We Should All Forget About It</td><td>Black And Brown Outfits You Need To Try This Fall Season. The trick with black and brown outfits is to know how to combine colors, fabrics, and shapes to get a cohesive look. So… </td><td>1000000</td><td>Cultura Colectiva</td><td>Winter Outfits Men,Stylish Mens Outfits,Casual Outfits,Men Casual,Smart Casual,Outfits For Men,Fall Outfits,Mens Winter Boots,Business Casual Men</td><td>image</td><td>https://i.pinimg.com/originals/3e/49/09/3e4909c0ccc4dbba3cad83d97eab4a61.png</td><td>/data/mens-fashion</td><td>mens-fashion</td></tr><tr><td>2074</td><td>86ed09a7-842d-496d-9501-010c654eb340</td><td>35 Christmas Decorating Ideas We Bet You Haven't Thought Of</td><td>20 Christmas Decorating Ideas We Bet You Haven't Thought Of via @PureWow</td><td>868000</td><td>PureWow</td><td>Holiday Centerpieces,Xmas Decorations,Centerpiece Ideas,Table Centerpieces,Valentine Decorations,Wedding Centerpieces,Outdoor Decorations,Christmas Centerpieces With Candles,Christmas Dining Table Decorations</td><td>image</td><td>https://i.pinimg.com/originals/e9/b9/f0/e9b9f01cc3b2cf41948b45854335396c.jpg</td><td>/data/christmas</td><td>christmas</td></tr><tr><td>9979</td><td>2b2abc85-fc51-481f-8ae6-17681993da28</td><td>Paris in the Summer. 10 fun things to do in Paris in the Summertime • Petite in Paris</td><td>Are you traveling to Paris during the summer? Find out what to do in Paris, France during the summer. Fun summertime activities in Paris. Enjoy the incredible outdoors when trav… </td><td>3000</td><td>Petite in Paris</td><td>Torre Eiffel Paris,Tour Eiffel,Picnic In Paris,Hello France,Voyage Europe,Destination Voyage,Beautiful Places To Travel,Travel Aesthetic,Paris Travel</td><td>image</td><td>https://i.pinimg.com/originals/6c/4c/90/6c4c90bba27ebf8c8bfe4c1acfb9f07a.jpg</td><td>/data/travel</td><td>travel</td></tr><tr><td>10138</td><td>927c4658-cc3f-4b92-9b5c-70743d0c238d</td><td>14 Amazing Things To Do In Costa Rica | Volcanoes, Waterfalls, Wildlife And More</td><td>This Costa Rica itinerary is the ultimate guide to spending two weeks in Costa Rica. Find out about visiting La Fortuna, Arenal, Monteverde, Naranjo, Corcovado National Park, Or… </td><td>10000</td><td>Wanderlust Chloe ✈️ Travel guides, inspo and adventure travel ✈️</td><td>Costa Rica Travel,Rio Celeste Costa Rica,Dream Vacations,Vacation Spots,Vacation Travel,Travel Pictures,Travel Photos,Fortuna Costa Rica,Costa Rica Pictures</td><td>image</td><td>https://i.pinimg.com/originals/30/93/cb/3093cb01d9de2d125fda8ba5e3e41946.jpg</td><td>/data/travel</td><td>travel</td></tr><tr><td>9672</td><td>1a5050a4-ac82-472c-aeff-3457de8bbee9</td><td>Lake Moraine, Banff, Canada</td><td>On our Calgary to Vancouver road trip we got to spend time in Banff, Canada. We visited the stunning Lake Moraine as well as Lake Louise and plenty of other of Canada's natural… </td><td>7000</td><td>Travel Mad Mum</td><td>Beautiful Places To Travel,Cool Places To Visit,Beautiful Roads,Beautiful Scenery,Wonderful Places,Lac Moraine,Moraine Lake,Lac Louise,Natur Wallpaper</td><td>video</td><td>https://i.pinimg.com/videos/thumbnails/originals/57/9d/52/579d52242ae5609978c754d393e44e81.0000001.jpg</td><td>/data/travel</td><td>travel</td></tr><tr><td>8653</td><td>24b1343c-4d86-4705-8ec9-7f1f2df2d77e</td><td>Unique Women Tattoos Ideas 2020</td><td>We welcome you to our latest collection of Beautiful Tattoo Ideas For Women. Check out and get inspired by the most beautiful design for yourself.</td><td>21000</td><td>ALL FOR WOMAN</td><td>Small Back Tattoos,Small Girl Tattoos,Little Tattoos,Tattoo Girls,Mini Tattoos,Tattoo Small,Back Tattoo Women,Tattoo On Back,Girl Back Tattoos</td><td>image</td><td>https://i.pinimg.com/originals/fa/cf/7c/facf7cd752a4bc7c09faaa8925ab80b1.jpg</td><td>/data/tattoos</td><td>tattoos</td></tr><tr><td>8887</td><td>5df9f6e5-07f5-4ce8-a82e-96586bbc05d8</td><td>25 Ultra Sexy Back Tattoo Ideas For Girls</td><td>Tattoos are one of the most efficient ways through which one decides to express themselves…</td><td>4000</td><td>RapidLeaks</td><td>Dream Tattoos,Body Art Tattoos,New Tattoos,Small Tattoos,Cross Tattoos,Random Tattoos,Fashion Tattoos,Bird Tattoos,Fitness Tattoos</td><td>image</td><td>https://i.pinimg.com/originals/ab/8e/50/ab8e505b04d4abc8f23e273c15f8a65d.jpg</td><td>/data/tattoos</td><td>tattoos</td></tr><tr><td>7922</td><td>a584581c-1b38-4731-a1cc-f36115ecf229</td><td>45 Top Life Quotes School Did Not Teach You</td><td>summcoco gives you inspiration for the women fashion trends you want. Thinking about a new look or lifestyle? This is your ultimate resource to get the hottest trends. 45 Top Li… </td><td>306000</td><td>Sumcoco | Decor Ideas, Hairstyles, Nails Fashion Advice</td><td>Life Quotes Love,Inspirational Quotes About Love,Mood Quotes,Motivational Quotes,Tears Quotes,Quotes About Sadness,Deep Quotes About Life,Quotes Quotes,Quote Life</td><td>image</td><td>https://i.pinimg.com/originals/bb/c0/e6/bbc0e6a797079505f11ac12bcb0b8c66.jpg</td><td>/data/quotes</td><td>quotes</td></tr><tr><td>1014</td><td>9ac94307-bb27-410e-b554-0a0ab6c19847</td><td>Hairstyles & Beauty</td><td>Untitled</td><td>0</td><td>Grecia Perales</td><td>Hair Inspo,Hair Inspiration,Motivation Inspiration,Cl Rapper,Foto Glamour,Kreative Portraits,Classy Aesthetic,Pretty Hairstyles,Hair Looks</td><td>image</td><td>https://i.pinimg.com/originals/af/c4/59/afc459bd6e1fd8f9aef212504afebf3a.jpg</td><td>/data/beauty</td><td>beauty</td></tr><tr><td>4913</td><td>4d2d79c6-9ca8-46c9-a38e-931c5d967804</td><td>How to Work From Home as an Event Planner</td><td>Do you love planning parties? Do you want to work-at-home? This post covers everything you need to know about becoming a home-based event planner!</td><td>110000</td><td>The Work at Home Woman</td><td>Event Planning Tips,Event Planning Business,Party Planning,Business Ideas,Craft Business,Business Chic,Business Inspiration,Business Goals,Business Opportunities</td><td>image</td><td>https://i.pinimg.com/originals/4d/a3/a4/4da3a4730418239f1b43ce81fb032c15.jpg</td><td>/data/event-planning</td><td>event-planning</td></tr><tr><td>4137</td><td>bf275054-4464-448b-9143-1bf101aa366d</td><td>15 Essential Classroom Items For First Year Teachers / First Year Teacher Must Haves</td><td>15 Essential Classroom Items For First Year Teachers / First Year Teacher Must Haves</td><td>5000</td><td>Write Your Story | Budgeting, Healthy Lifestyle, Faith</td><td>1st Year Teachers,First Year Teaching,First Grade Teachers,Elementary Teacher,Montessori Elementary,Teaching Reading,History Teachers,High School Classroom,First Grade Classroom</td><td>image</td><td>https://i.pinimg.com/originals/4b/b9/a8/4bb9a85f609a8384ed9c9ab14e7bcea0.jpg</td><td>/data/education</td><td>education</td></tr><tr><td>7166</td><td>4a844b03-e161-47a1-904b-591eb5dc4fb1</td><td>The Killers - Mr. Brightside - Women's T-Shirt - Heather Dark Grey / S</td><td>Women's T-shirt. Design inspired by the rock band The Killers' hit \"Mr. Brightside\". One of the greatest song from the album Hot Fuss released in 2004. Soft and light, 100% cott… </td><td>27</td><td>Mala Rock | Rock T-shirts</td><td>Mr Brightside,Rock T Shirts,Greatest Songs,Timeless Classic,Rock Bands,Album,T Shirts For Women,Inspired,Hot</td><td>image</td><td>https://i.pinimg.com/originals/8c/42/39/8c42391d35fcad51a4a79f7cd81bf26d.jpg</td><td>/data/mens-fashion</td><td>mens-fashion</td></tr><tr><td>9546</td><td>efd5b2d6-2f69-40cd-bb59-41f18c089e52</td><td>20 Amazing Trips to Take in Your Twenties!</td><td>The best trips to take when you are young!</td><td>89000</td><td>The World Pursuit Travel Website</td><td>Fun Places To Go,Beautiful Places To Travel,Best Places To Travel,Travel Jobs,Holiday Places,Future Travel,Travel Around The World,Adventure Travel,Travel Photos</td><td>video</td><td>https://i.pinimg.com/videos/thumbnails/originals/81/97/c1/8197c1beef8bcb19bea5d8b422211f34.0000001.jpg</td><td>/data/travel</td><td>travel</td></tr><tr><td>2411</td><td>4e11801e-7a64-4f1e-90dd-e900677595c5</td><td>The Sweetest Gingerbread House Ornaments Kids Can Make</td><td>Transform mini terra cotta pots into the sweetest gingerbread house ornaments! Kids will love making this adorable Christmas craft to hang on the tree.</td><td>20000</td><td>Projects with Kids</td><td>Noel Christmas,Diy Christmas Ornaments,Homemade Christmas,Simple Christmas,Gingerbread Ornaments,Christmas Gingerbread,Gingerbread Houses,Preschool Christmas,Ornaments Ideas</td><td>image</td><td>https://i.pinimg.com/originals/13/28/09/1328097d7c290d1bf8642b01a6ba1c6c.jpg</td><td>/data/christmas</td><td>christmas</td></tr><tr><td>9590</td><td>b849e976-52f6-45d7-8b25-51559318f167</td><td>Top 20 Things To See And Do In Ireland</td><td>Best spots to see for travel through Ireland!</td><td>130000</td><td>Fun Life Crisis</td><td>Vacation Ideas,Vacation Spots,Emerald Isle,London England,Travel Guides,Travel Tips,Travel Hacks,Travel Packing,Places To Travel</td><td>image</td><td>https://i.pinimg.com/originals/c7/50/d3/c750d36524856873d64406652d69b4fb.png</td><td>/data/travel</td><td>travel</td></tr><tr><td>2698</td><td>73f16302-4871-486a-8836-947530526337</td><td>DIY Dollar Tree Valentine's Day Wreath</td><td>DIY Dollar Store Valentine’s Day Heart Wreath Decoration. There are so many great Valentine crafts at the Dollar Tree right now! During our last trip, we picked up a few supplie… </td><td>9000</td><td>South Lumina Style</td><td>Valentine Day Wreaths,Valentines Day Hearts,Valentines Day Decorations,Valentine Day Crafts,Holiday Crafts,Diy Christmas,Christmas Wreaths,Valentine Tree,Printable Valentine</td><td>image</td><td>https://i.pinimg.com/originals/dc/f6/8a/dcf68adcc63c339c24fa5664f1115994.png</td><td>/data/diy-and-crafts</td><td>diy-and-crafts</td></tr><tr><td>4508</td><td>9064f4a2-2753-476c-815e-db360f45a93e</td><td>Custom Event and Shop Neon Sign Lights - Event & Shop</td><td>Personalize your event or shop with a customized neon sign. Make a statement with your own custom vibes! This light is 32 -40 inches (80cm-100cm) if you need something bigger, p… </td><td>111</td><td>Life of Neon | Custom Neon Light Signs | Home Decor Wall Art</td><td>Our Wedding,Wedding Venues,Dream Wedding,Wedding Cakes,Church Wedding,Wedding Flowers,Lace Wedding,Wedding Rings,Wedding Dresses</td><td>image</td><td>https://i.pinimg.com/originals/e9/c0/7c/e9c07cf0cf16cab23764a36718ab76c1.jpg</td><td>/data/event-planning</td><td>event-planning</td></tr><tr><td>831</td><td>5e65914d-9f58-4ff1-9676-658e426e8ce5</td><td>creating mixed-media faces tutorial</td><td>Free quick inspirational video on creating a mixed media face with acrylic, collage, stenciling and simple techniques. Come on over to watch</td><td>27000</td><td>Shawn Petite</td><td>Collage Kunst,Paper Collage Art,Collage Art Mixed Media,Mixed Media Painting,Mixed Media Canvas,Canvas Collage,Art Collages,Wall Canvas,Canvas Art</td><td>video</td><td>https://i.pinimg.com/videos/thumbnails/originals/05/86/a4/0586a4116e1fc34efc25e064ccd123e8.0000001.jpg</td><td>/data/art</td><td>art</td></tr><tr><td>5076</td><td>fa3af29c-dc78-4eed-a4c5-52a407ea04c0</td><td>Quiz: Test Your Event IQ! - Pointers For Planners</td><td>So you're thinking of getting your event planner certification, but how much do you REALLY know about event planning? Event planners need to be knowledgeable and able to answer… </td><td>5000</td><td>QC Career School</td><td>Diy Wedding Food,Best Wedding Makeup,Wedding Events,Wedding Tips,Wedding Stuff,Weddings,Event Planning Business,Business Events,Wedding Makeup Tutorial</td><td>image</td><td>https://i.pinimg.com/originals/6f/19/bc/6f19bce24921bf843540fc04da9eb6bf.jpg</td><td>/data/event-planning</td><td>event-planning</td></tr><tr><td>10663</td><td>d5208c16-82ae-4fd1-87f0-36e5ef789412</td><td>21+ Classic Car Picture of the 1950s - Vintagetopia</td><td>There are a lot of options of places to stay so you probably only have to book the initial one so you know the best place to land from the airport</td><td>171000</td><td>vintagetopia</td><td>Old Classic Cars,Classic Trucks,Old Vintage Cars,Antique Cars,Vintage Trucks,Antique Trucks,Cadillac,Convertible,Mustang</td><td>image</td><td>https://i.pinimg.com/originals/e9/01/4d/e9014d537dd2b81c606e8466cef3904c.jpg</td><td>/data/vehicles</td><td>vehicles</td></tr><tr><td>5468</td><td>91ee49f6-0070-4270-ba19-fde88ba51c91</td><td>Budgets, Spouses & Making It Work! - Tshanina Peterson</td><td>Don't fight about budgets and money with your spouse! Here are a few tips that we've found that make it work in our marriage!</td><td>313</td><td>Annamarie Hilton</td><td>Ways To Save Money,Money Tips,Money Saving Tips,How To Make Money,Managing Money,Saving Time,College Fund,Scholarships For College,Education College</td><td>image</td><td>https://i.pinimg.com/originals/37/d5/82/37d58296bcef3471a633c76b89d8625e.jpg</td><td>/data/finance</td><td>finance</td></tr><tr><td>205</td><td>f4afd543-b9fe-44c3-8064-f2198faa1372</td><td>DIY Abstract Heart Painting and a Fun Paint Party</td><td>Use our easy step by step tutorial to create a DIY abstract heart painting on any canvas size. Lots of inspiration to help you choose colors.</td><td>410000</td><td>The Creativity Exchange</td><td>Painting & Drawing,Watercolor Paintings,Original Paintings,Owl Watercolor,Acrylic Paintings,Owl Art,Bird Art,Beginner Painting,Animal Paintings</td><td>image</td><td>https://i.pinimg.com/originals/33/85/f8/3385f82ee5e8ecdcccdf798bdcbee3d2.jpg</td><td>/data/art</td><td>art</td></tr><tr><td>7790</td><td>9cd89fb9-d1af-4e66-85ca-c9d656c918b4</td><td>50 Heart Touching Sad Quotes That Will Make You Cry</td><td>Are you looking for some heart touching sad quotes and sayings; Here we have collected for you 50 best heart touching sad quotes..</td><td>112</td><td>AnnaLee Kick</td><td>Crush Quotes For Girls,Sad Crush Quotes,Hurt Quotes,Love Me Quotes,Mood Quotes,Quotes To Live By,Life Quotes,Quotes Quotes,Sad Quotes That Make You Cry</td><td>image</td><td>https://i.pinimg.com/originals/0c/0f/40/0c0f408d96458080e0c82adb50be8e8f.jpg</td><td>/data/quotes</td><td>quotes</td></tr><tr><td>8606</td><td>71757040-bfc8-4631-9cac-22801e61d9e3</td><td>30+ Eagle Tattoos Ideas for Women</td><td>summcoco gives you inspiration for the women fashion trends you want. Thinking about a new look or lifestyle? This is your ultimate resource to get the hottest trends. 30+ Eagle… </td><td>306000</td><td>Sumcoco | Decor Ideas, Hairstyles, Nails Fashion Advice</td><td>White Bird Tattoos,Rose Tattoos,Flower Tattoos,Tattoo Black,Bird And Flower Tattoo,Tattoo Floral,Mini Tattoos,Flower Art,Girls With Sleeve Tattoos</td><td>image</td><td>https://i.pinimg.com/originals/8d/c6/ed/8dc6ed0b212393187a14c7d07a88060f.png</td><td>/data/tattoos</td><td>tattoos</td></tr><tr><td>9759</td><td>d105eb6e-0f9f-46e7-8d02-d24b62f6ae90</td><td>8 Best Greek Islands You Have To Visit - TheFab20s</td><td>Although you'd think Greek islands are fairly similar, you'd be completely wrong! Each island has it's own personality and appeal. Here are the 8 Best Greek Islands to visit, es… </td><td>42000</td><td>TheFab20s | Travel+Food+DIY+Listicles</td><td>Greek Islands To Visit,Best Greek Islands,Greece Islands,Cool Places To Visit,Places To Go,Best Places In Portugal,Copenhagen Travel,Paros Island,Santorini Island</td><td>image</td><td>https://i.pinimg.com/originals/06/1d/ce/061dce38929dec8e74844442116bea4a.jpg</td><td>/data/travel</td><td>travel</td></tr><tr><td>719</td><td>d7c53e34-9540-4f48-a31b-89b6ed1852bb</td><td>10 Art Sub Lessons that only need a Pencil</td><td>10 art sub lessons that only need a pencil. Cover lessons for art teachers. Make the perfect art sub lessson folder with this amazing resources.</td><td>25000</td><td>The Arty Teacher</td><td>Art Lessons For Kids,Art Lessons Elementary,Art For Kids,Art Sub Plans,Art Lesson Plans,Art Substitute Plans,High School Art,Middle School Art,Primary School Art</td><td>image</td><td>https://i.pinimg.com/originals/ee/a8/78/eea878911033897d981a69d9f6b2fb7c.png</td><td>/data/art</td><td>art</td></tr><tr><td>1704</td><td>5fbf9863-fb79-477c-a5b6-540c3020a55f</td><td>Christmas Trees From Pallet Wood | Holiday DIY</td><td>Christmas Trees From Pallet Wood | Holiday DIY: Deck the yard with some fun outdoor Christmas Trees! We made these merry and bright decorations from two old pallets we had lying… </td><td>3000000</td><td>Instructables</td><td>Pallet Wood Christmas Tree,Wooden Christmas Crafts,Diy Christmas Tree,Christmas Projects,Holiday Crafts,Wooden Xmas Trees,Different Christmas Trees,Pallet Tree,Christmas Kitchen</td><td>image</td><td>https://i.pinimg.com/originals/64/7b/ca/647bca35169b7c144604116c64bcba8a.png</td><td>/data/christmas</td><td>christmas</td></tr><tr><td>2482</td><td>08604f20-fa17-4b9a-9949-781717eca6cd</td><td>FORNT PORCH CHRISTMAS DECORATING IDEAS</td><td>Christmas decorating ideas for porches. Beautiful holiday decor ideas for front porches both small and large. Outdoor decorations like sleds, lanterns, Christmas trees, wreaths,… </td><td>46000</td><td>Life on Summerhill | Home, Holiday Decor & DIY Website</td><td>Diy Christmas Decorations For Home,Farmhouse Christmas Decor,Christmas Home,Christmas Holidays,Christmas Front Porches,How To Decorate For Christmas,Christmas Porch Ideas,Christmas Decorating Ideas,Large Outdoor Christmas Decorations</td><td>video</td><td>https://i.pinimg.com/videos/thumbnails/originals/40/83/f5/4083f5b4971bf235f89a4784ab87271e.0000001.jpg</td><td>/data/christmas</td><td>christmas</td></tr><tr><td>8930</td><td>a2999c28-f7b2-4577-af87-49d21d6d8a18</td><td>135 Sunflower Tattoo Ideas - [Best Rated Designs in 2021]</td><td>We have put together the Ultimative Sunflower Tattoo Collection in 2020. Check out our highest rated handpicked Sunflower designs here!</td><td>800000</td><td>Next Luxury</td><td>Sunflower Tattoo Sleeve,Sunflower Tattoo Shoulder,Sunflower Tattoo Small,Sunflower Tattoos,Sunflower Tattoo Design,Shoulder Tattoo,Sunflower Mandala Tattoo,Sunflower Tattoo Meaning,Form Tattoo</td><td>image</td><td>https://i.pinimg.com/originals/18/de/6c/18de6c81a8637e224c7d63dce1414ceb.jpg</td><td>/data/tattoos</td><td>tattoos</td></tr><tr><td>7294</td><td>9d8409ef-bea7-4133-a021-c58b9c042210</td><td>Foolproof Fall Fashion For Men You'll Love</td><td>Looking for the coolest fall fashion for men this season? Click to read this article on fall fashion for men to look sharp on LLEGANCE.</td><td>28000</td><td>LLEGANCE | Workwear Fashion Woman Advice For Driven Professionals</td><td>Fashion 90s,Autumn Fashion,Fashion Ideas,Trendy Fashion,Fashion Photo,Fashion Outfits,Fashion Trends,Urban Fashion Men,Men's Casual Fashion</td><td>image</td><td>https://i.pinimg.com/originals/4c/bf/2d/4cbf2d6e04d2502612169220553f4cef.jpg</td><td>/data/mens-fashion</td><td>mens-fashion</td></tr><tr><td>808</td><td>23f67e42-db9f-4aae-8b82-cbec64ad9f4d</td><td>Chalk Pastel Hot Chocolate Art Project</td><td>Kids will use chalk pastels and black paper to create this bold and bright hot chocolate art project! Easy to follow tutorial included.</td><td>20000</td><td>Projects with Kids</td><td>Hot Chocolate Art,Chocolate Crafts,Art Activities For Kids,Preschool Art,Preschool Winter,Christmas Activities,Winter Art Projects,Clay Art Projects,Chalk Pastel Art</td><td>image</td><td>https://i.pinimg.com/originals/5a/d3/82/5ad38202cf8acb022cb8f46ce2a78ad6.jpg</td><td>/data/art</td><td>art</td></tr><tr><td>771</td><td>a5021766-a8aa-4dc7-9857-4da6b8e3dc1a</td><td>African Sunset Shadow Tracing Art - Taming Little Monsters</td><td>Use your mini world figures to create this beautiful African sunset. Your kids will love learning about shadows, angles and distortion in this fun art and STEM activity for kids.</td><td>4000</td><td>Taming Little Monsters - Fun Activities for Kids</td><td>African Art Projects,Cool Art Projects,Projects For Kids,African Art For Kids,African Crafts Kids,Art Club Projects,Art Education Projects,Tracing Art,African Sunset</td><td>image</td><td>https://i.pinimg.com/originals/e3/aa/35/e3aa350f8f104d0e59f26d7f17ea7461.png</td><td>/data/art</td><td>art</td></tr><tr><td>4076</td><td>3a52d364-7c04-47cb-a3e5-56d9e2b77528</td><td>Phonics Activities Your Kids Will Love - The Literacy Nest</td><td>Hi everyone! As a teacher using the Orton-Gillingham approach, I am constantly looking for phonics activities that my students will find fun and engaging. Using Orton-Gillingham… </td><td>22000</td><td>The Literacy Nest</td><td>Literacy Games,Kindergarten Activities,Literacy Centers,Fun Phonics Activities,Listening Activities,Vocabulary Games,Literacy Stations,Letter Activities,Montessori Activities</td><td>image</td><td>https://i.pinimg.com/originals/58/8e/38/588e380b19942a71a86a69d9c9973d25.png</td><td>/data/education</td><td>education</td></tr><tr><td>1545</td><td>0c629541-cc5b-4b61-bd3f-613346893258</td><td>Oil Cleansing Method: What it is and why you should do it.</td><td>The oil cleansing method is a simple, natural way to have clean skin without using toxic chemicals. It will leave your face radiant and soft!</td><td>85000</td><td>Thank Your Body</td><td>Beauty Care,Diy Beauty,Beauty Hacks,Beauty Shop,Oil Cleansing Method,Goji,Korean Skincare Routine,Homemade Beauty Products,Organic Beauty</td><td>image</td><td>https://i.pinimg.com/originals/2c/1c/da/2c1cda7da86ee711536bbacfe89c75c9.jpg</td><td>/data/beauty</td><td>beauty</td></tr><tr><td>2293</td><td>1fd7d4cc-54c1-4542-9c1f-449cb4c875f4</td><td>Over 40 of the BEST Homemade Christmas Ornament Ideas</td><td>Over 40 of the BEST Homemade Christmas Ornaments...these easy Holiday crafts are so fun to make for Kids and Adults! Lots of great class party ideas!</td><td>245000</td><td>Kitchen Fun With My 3 Sons</td><td>Diy Christmas Lights,Homemade Christmas Decorations,Christmas Crafts For Gifts,Mini Christmas Tree,Christmas Ornament Crafts,Homemade Christmas Gifts,Xmas Decorations,Simple Christmas,Handmade Christmas</td><td>image</td><td>https://i.pinimg.com/originals/d0/d3/a3/d0d3a31e87296224d5ba8896904b5b88.jpg</td><td>/data/christmas</td><td>christmas</td></tr><tr><td>10509</td><td>6a5f0e7e-1389-4e54-942f-4cb69f09f140</td><td>Flying Car</td><td>null</td><td>89000</td><td>TheSuperBOO!</td><td>Electric Off Road Vehicle,Cool Illusions,Flying Vehicles,Wow Video,Art And Craft Videos,Top Luxury Cars,Chevy Muscle Cars,Street Racing Cars,Funny Videos Clean</td><td>multi-video(story page format)</td><td>https://i.pinimg.com/videos/thumbnails/originals/4a/d4/96/4ad4961606179854f1141a90f50f002c.0000001.jpg</td><td>/data/vehicles</td><td>vehicles</td></tr><tr><td>2015</td><td>72359164-4419-452c-81cb-74f30a5a26b7</td><td>16 Blissful Christmas Table Decor Ideas That You Must See</td><td>Take a look at this new collection of Christmas decor featuring 16 Blissful Christmas Table Decor Ideas That You Must See. Happy holidays!</td><td>616000</td><td>ArchitectureArtDesigns</td><td>Kids Crafts,Christmas Crafts For Kids,Homemade Christmas,Christmas Projects,Holiday Crafts,Christmas Gift Ideas,Preschool Christmas,Tree Crafts,Christmas Inspiration</td><td>image</td><td>https://i.pinimg.com/originals/5f/70/30/5f7030a35bb8a1491e915fb0ae29bcf5.jpg</td><td>/data/christmas</td><td>christmas</td></tr><tr><td>1094</td><td>6deacdcd-75ed-4dd8-8951-9b77453f38e0</td><td>9 colors lazy lipstick - 9 colors lazy lipstick4</td><td>9 colors lazy lipstick</td><td>8000</td><td>Jiew82633</td><td>Nail Inspo,Lazy,Lipstick,How To Apply,Makeup,Colors,Products,Make Up,Lipsticks</td><td>image</td><td>https://i.pinimg.com/originals/25/cf/8c/25cf8cb74b43ab95591342c2bbe4ecd8.jpg</td><td>/data/beauty</td><td>beauty</td></tr><tr><td>603</td><td>78e21a64-53b0-4745-8294-e8c456f0ccc1</td><td>How to Create Alcohol Ink Rings For Gorgeous Pieces of Art -</td><td>Learn to create alcohol ink rings for gorgeous pieces of art. Each ring sits on top of another, giving a multilayered appearance</td><td>7000</td><td>Kim Cook-Thirteen Chairs-Slates Mugs And Tees</td><td>Alcohol Ink Tiles,Alcohol Ink Glass,Alcohol Ink Crafts,Alcohol Ink Painting,Pour Painting,Zealand Tattoo,Copics,Types Of Art,Art Techniques</td><td>image</td><td>https://i.pinimg.com/originals/03/03/1f/03031fdc9775d0c06f61d68e51362379.png</td><td>/data/art</td><td>art</td></tr><tr><td>7768</td><td>ae1a61f6-d958-40fe-ba93-6a78b3a73178</td><td>16 Motivational Quotes Get You Inspired Today - Boss Babe Chronicles</td><td>motivation quotes</td><td>45000</td><td>Boss Babe Chronicles | Personal Development, Finances, Self Care</td><td>Motivacional Quotes,Motivational Quotes For Life,Uplifting Quotes,True Quotes,Words Quotes,Empowering Quotes,Boss Up Quotes,Inspirational Success Quotes,Boss Babe Quotes Work Hard</td><td>image</td><td>https://i.pinimg.com/originals/ee/b4/bc/eeb4bccdb074edb787ea61711e0c4dfd.jpg</td><td>/data/quotes</td><td>quotes</td></tr><tr><td>5630</td><td>d41e703c-c97c-4c5a-9f9c-338982ca7504</td><td>7 Insanely Useful Money Management Worksheets</td><td>Get your personal finance in order with these 8 fr…</td><td>46000</td><td>R.J. Weiss at The Ways To Wealth | Personal Finance | Debt Payoff</td><td>Ways To Save Money,Money Tips,Money Saving Tips,Money Budget,Saving Ideas,Budgeting Finances,Budgeting Tips,Planning Budget,Budget Planer</td><td>image</td><td>https://i.pinimg.com/originals/f1/4f/cc/f14fcc75ee73ff22c983bdce70c022e2.jpg</td><td>/data/finance</td><td>finance</td></tr><tr><td>8578</td><td>036ec267-658b-4dad-a097-8ef0b4f30c0d</td><td>Snake Collarbone Temporary Tattoo. Halloween Tattoos  Spooky | Etsy</td><td>Snake temporary tattoo for collarbone. Spooky 3D tattoo for Halloween Includes 2 copies, 1 for the right side and 1 for the left side Apply with water and remove anytime with ba… </td><td>0</td><td>Livitrevisani</td><td>Finger Tattoo Designs,Small Tattoo Designs,Finger Tattoos,Small 3d Tattoos,Cool Tattoos,Line Work Tattoo,Back Tattoo,Collarbone Tattoo,Tattoo Neck</td><td>image</td><td>https://i.pinimg.com/originals/d8/b7/a1/d8b7a11a3fe64e7fab91d3afb1536537.jpg</td><td>/data/tattoos</td><td>tattoos</td></tr><tr><td>9936</td><td>1f3154a6-13f0-4049-8d5c-faea15b9f07c</td><td>Chasing Waterfalls in Costa Rica</td><td>Volcanoes, hikes, and hot springs in Costa Rica! The ultimate 5 day travel itinerary. - #costarica #travel #blogging #blog #bucketlist</td><td>22000</td><td>Jess Wandering</td><td>Costa Rica Reisen,Costa Rica Travel,Vacation Places,Dream Vacations,Vacation Spots,Vacation Food,Vacation Ideas,Voyage Dubai,Beautiful Places To Travel</td><td>image</td><td>https://i.pinimg.com/originals/60/fe/4c/60fe4c3602e8e50e2e9f787ed27d2aba.jpg</td><td>/data/travel</td><td>travel</td></tr><tr><td>6844</td><td>69c3f268-274f-44bd-9cb4-427e64fefc44</td><td>♔the-fashman♔</td><td>billy-george: “Summer styles ”</td><td>377</td><td>Au'vey Smith</td><td>Fashion Week Hommes,La Fashion Week,Fashion Moda,Urban Fashion,Trendy Fashion,Fashion Spring,Fashion 2017,New Mens Fashion,Trendy Clothing</td><td>image</td><td>https://i.pinimg.com/originals/3c/8c/53/3c8c534cd02334c50047bd3a4feccce9.jpg</td><td>/data/mens-fashion</td><td>mens-fashion</td></tr><tr><td>3419</td><td>d0b80187-0171-49b2-8ee4-572984244f65</td><td>Easy Christmas Tree Crafts Ideas for toddlers and preschoolers | Sharing Our Experiences</td><td>Easy Christmas tree Craft Ideas for toddlers and preschoolers. Engage your kids in these DIY</td><td>3000</td><td>Kids Crafts & Free Preschool Printables- Sharing Our Experiences</td><td>Christmas Crafts For Kids To Make,Christmas Tree Painting,Christmas Activities For Kids,Easy Christmas Crafts For Toddlers,Kid Activities,Christmas Handprint Crafts,Christmas Tree Crafts,Christmas Baby,Xmas Tree</td><td>image</td><td>https://i.pinimg.com/originals/69/f0/75/69f075939d4449dffa69519756c30e26.png</td><td>/data/diy-and-crafts</td><td>diy-and-crafts</td></tr><tr><td>1268</td><td>e2f2cec5-cda5-42b2-ab9d-6dddf863e94e</td><td>Janet on Twitter</td><td>Here’s how to get long-lasting makeup, so you can do your face in the morning and be set for the entire day. Follow these makeup tips for foundation, lipstick and more using pro… </td><td>3000</td><td>Tony</td><td>Beauty Makeup,Eye Makeup,Diy Beauty,Beauty Ideas,Beauty Skin,Homemade Beauty,Wolf Makeup,Oily Skin Makeup,Face Beauty</td><td>image</td><td>https://i.pinimg.com/originals/d9/d1/3b/d9d13b9ac47d54940f05a75345a873d4.jpg</td><td>/data/beauty</td><td>beauty</td></tr><tr><td>6566</td><td>6d8848f8-f515-4935-8dae-5dd02304d76e</td><td>Navy and Neutral Fall Living Room + Kitchen Tour - Sand and Sisal</td><td>Celebrate fall with a neutral color palette with natural elements. This Navy and Neutral Fall Living Room + Kitchen Tour will make you rethink fall decor.</td><td>178000</td><td>Sand and Sisal</td><td>Fall Living Room,Coastal Living Rooms,Living Room Paint,Living Room Kitchen,Living Room Interior,Living Room Furniture,Living Room Decor,Living Area,Small Living</td><td>image</td><td>https://i.pinimg.com/originals/f1/be/b6/f1beb6d3414f1c52929df39a83d8da9f.jpg</td><td>/data/home-decor</td><td>home-decor</td></tr><tr><td>1555</td><td>1f20551b-a21c-4ff0-b20d-49e95fdc50d3</td><td>Skin Purging: Die Pflegemethode für reine Haut | ELLE</td><td>Skin Purging sorgt für die reinste Haut, die du jemals hattest #skin äpurging #skinpurging #skincare #hautpflege #schönehaut #haut #beauty #tips</td><td>326000</td><td>ELLE Germany</td><td>Natural Hair Mask,Natural Hair Styles,Natural Beauty,Skin Tag,How To Apply Makeup,Pimples,Beauty Routines,Skincare Routine,Glowing Skin</td><td>image</td><td>https://i.pinimg.com/originals/93/b2/7b/93b27be044b2fd2f227f30a7f2c2faf2.jpg</td><td>/data/beauty</td><td>beauty</td></tr><tr><td>3729</td><td>ac90f1d2-dc9e-438c-b073-dd48511b80b0</td><td>5 + Nature Games for Your Homeschool</td><td>Our family would rather spend time outdoors than indoors. We love nature! That said, sometimes mother nature is uncooperative. On these days, it can be fun to pull out some natu… </td><td>9000</td><td>My Little Poppies (Cait Curley, MA/CAGS)</td><td>Diy Nature,Theme Nature,Nature Study,Science And Nature,Summer Science,Earth Science,Nature Crafts,Outdoor Education,Outdoor Learning</td><td>image</td><td>https://i.pinimg.com/originals/d6/3b/1a/d63b1a2a36534ecac5d1fbd0d932403a.jpg</td><td>/data/education</td><td>education</td></tr><tr><td>6398</td><td>ea44d318-2ced-4cf8-a66f-a6a036b84faa</td><td>My master bathroom makeover with @flooranddecor ! Follow me on Instagram @Mojisstyle for more</td><td>null</td><td>117000</td><td>MojisStyle</td><td>Decor Home Living Room,Home And Living,Diy Bedroom Decor,Home Decor,Bathroom Interior Design,Interior Design Living Room,Dream Home Design,House Design,Beautiful Bathrooms</td><td>multi-video(story page format)</td><td>https://i.pinimg.com/videos/thumbnails/originals/75/48/3b/75483b74822855519ec8b40df4c670ef.0000001.jpg</td><td>/data/home-decor</td><td>home-decor</td></tr><tr><td>46</td><td>19234073-8905-4885-b0d5-98e0b84cbf27</td><td>10 Watercolor Hacks For Beginners | Tips and Tricks to Making Watercolor Painting Easier</td><td>Mountain monologue watercolor</td><td>27000</td><td>It's me, JD | DIY, Crafts, Home & Organization</td><td>Arte Inspo,Kunst Inspo,Watercolor Artists,Watercolor Ideas,Simple Watercolor,Tattoo Watercolor,Watercolor Techniques,Watercolor Animals,Watercolor Illustration</td><td>image</td><td>https://i.pinimg.com/originals/fd/54/89/fd548935dcb13545120a2115baaa41d9.jpg</td><td>/data/art</td><td>art</td></tr><tr><td>4988</td><td>fbdfd355-a356-46c2-a251-301869ae2674</td><td>Fun Book Page Crafts - MomAdvice</td><td>Fun Book Page Crafts - MomAdvice</td><td>112000</td><td>MomAdvice</td><td>Harry Potter Wedding,Harry Potter Theme,Wedding Book,Wedding Table,Wedding Ideas,Wedding Vintage,Garden Wedding,Vintage Party,Wedding Paper</td><td>image</td><td>https://i.pinimg.com/originals/17/55/87/175587b334e71c12300453b8b4b4c6aa.jpg</td><td>/data/event-planning</td><td>event-planning</td></tr><tr><td>427</td><td>4a455340-09a2-4370-ad86-73d7964603db</td><td>DIY Acrylic Paint Pouring Wall Art - Abbotts At Home</td><td>Easy to follow steps for this easy DIY wall art. Acrylic Paint Pouring with a blow dryer, Dutch paint pour. Written steps and full step by step video to help you do it too! 👍</td><td>52000</td><td>Abbotts At Home</td><td>Acrylic Pouring Art,Acrylic Wall Art,Acrylic Pouring Techniques,Acrylic Paintings,Art Paintings,Marble Art,Marble Painting,Pour Painting,Large Canvas Art</td><td>video</td><td>https://i.pinimg.com/videos/thumbnails/originals/d5/5e/fa/d55efa6ef50d35dac425cea935f39c89.0000001.jpg</td><td>/data/art</td><td>art</td></tr><tr><td>3800</td><td>d2c367ed-9287-4ea3-b173-198b292d9981</td><td>Reinforcing the Difficult Child When Token Boards Don't Work!</td><td>behavior, special education, token boards, when token boards don't work, money token systems</td><td>11000</td><td>Traci Bender - The Bender Bunch</td><td>Special Education Behavior,Classroom Behavior Management,Behavior Plans,Behaviour Management,Behavior Charts,Behavior Board,Behavior Report,Behavior Analyst,Preschool Special Education</td><td>image</td><td>https://i.pinimg.com/originals/24/f9/e2/24f9e22ada4a79c61432ef6c8fe1d0f9.jpg</td><td>/data/education</td><td>education</td></tr><tr><td>159</td><td>841a161a-47b8-4161-884d-adeb67a28b1e</td><td>Valentine's Day Bee Directed Drawing {Art Project}</td><td>This bee directed drawing and associated pages will help you create a fun and creative Valentine's Day Directed Drawing Art Project activity for your class.Choose to do a painti… </td><td>1000000</td><td>Teachers Pay Teachers</td><td>Classroom Art Projects,School Art Projects,Art Classroom,Art Projects For Kindergarteners,Spring Art Projects,Classroom Posters,Valentines Art Lessons,Valentines Day Activities,Grade 1 Art</td><td>image</td><td>https://i.pinimg.com/originals/49/ff/2e/49ff2e83c0cefdd37213f6084c6f0566.jpg</td><td>/data/art</td><td>art</td></tr><tr><td>3599</td><td>ff0dd945-dafa-411c-8cef-eb43e374e815</td><td>Educational Leadership in Aotearoa New Zealand : Issues of Context and Social Justice</td><td>This book presents 10 inspirational case studies of how centre leaders, principals and leadership teams in high-needs New Zealand educational settings have enacted leadership to… </td><td>2000000</td><td>Walmart</td><td>Research Studies,Educational Leadership,Education System,Secondary School,Try It Free,Book Format,Social Justice,Young People,Paperback Books</td><td>image</td><td>https://i.pinimg.com/originals/0e/ea/c4/0eeac457780bbe43fcc5e9eaabd80f62.jpg</td><td>/data/education</td><td>education</td></tr><tr><td>10552</td><td>17301b8c-ccbb-42ad-b2df-3876df35b1cd</td><td>The Prowler Emergency Response Vehicle</td><td>January 23, 2009 We can see emergency responders queueing up for this one. ATVCorp has created versions of its Prowler Light Tactical All Terrain Vehicle (LTATV) for fire-fighti… </td><td>314</td><td>p hump</td><td>Army Vehicles,Armored Vehicles,Go Kart Buggy,Atv Attachments,Aviation Fuel,Special Forces,Special Ops,Terrain Vehicle,Emergency Response</td><td>image</td><td>https://i.pinimg.com/originals/14/6b/6b/146b6b1a1127773f7046e08550e68ed0.jpg</td><td>/data/vehicles</td><td>vehicles</td></tr><tr><td>1422</td><td>7bbe860c-a739-4ba9-babd-feb24bb6e4d9</td><td>41 Life-Saving Beauty Hacks Every Girl Should Have In Her Arsenal</td><td>Might try this... I'm generally skeptical about at-home remedies, but I know baking soda and lemons both do wonders. More</td><td>5000000</td><td>BuzzFeed</td><td>Baking Soda Lemon Juice,Diy Beauté,Tips Belleza,Belleza Natural,Health And Beauty Tips,Beauty Secrets,Beauty Advice,Diy Beauty Tips,Beauty Life Hacks</td><td>image</td><td>https://i.pinimg.com/originals/c8/ab/af/c8abaffc56050f674eef8e65ad684929.jpg</td><td>/data/beauty</td><td>beauty</td></tr><tr><td>5309</td><td>c38bb47b-9584-4fc4-af0d-a31e1061df41</td><td>How to Watch Your Favorite Shows Without Cable</td><td>How to Get Rid of Cable and Still Watch all of your favorite shows! Saving Money Tips for TV & Cable!</td><td>330000</td><td>Passion For Savings</td><td>Ways To Save Money,Money Tips,Money Saving Tips,Money Hacks,Managing Money,Cable Tv Alternatives,Budget Planer,Financial Tips,Financial Planning</td><td>image</td><td>https://i.pinimg.com/originals/c9/18/be/c918be2784382dc49010719bf1742a61.jpg</td><td>/data/finance</td><td>finance</td></tr><tr><td>552</td><td>b82602a9-e434-42cf-9481-22f3f41d82ce</td><td>The herbal bed: Katie Scott's psychedelic flora and fauna – in pictures</td><td>Nike trainers sprout plants and French perfumiers inspire by mysterious scientific icons in Katie Scott’s visions that take botanical illustration into the digital age</td><td>908000</td><td>The Guardian</td><td>Art And Illustration,Illustration Inspiration,Botanical Illustration,Vintage Illustrations,Botanical Drawings,Botanical Prints,Arte Inspo,Insect Art,Psychedelic</td><td>image</td><td>https://i.pinimg.com/originals/16/8a/fa/168afae02d5ffc71da10cdb312de2cb1.jpg</td><td>/data/art</td><td>art</td></tr><tr><td>1371</td><td>33e92ac1-73d1-4c31-9892-d5e633060790</td><td>How To Do Makeup - Step By Step Tips For The Perfect Look</td><td>What are the basic things you need for makeup? Let’s be honest, ladies; all women can do makeup, yet not all women know how to do makeup right. The good news is, this post can t… </td><td>799000</td><td>Glaminati</td><td>Contouring Makeup,Skin Makeup,Beauty Makeup,Makeup Brushes,Eyeliner Makeup,Makeup Tips Lips,Makeup 101,Cheap Makeup,Rosa Eyeliner</td><td>image</td><td>https://i.pinimg.com/originals/2c/1a/d4/2c1ad45b5c54034a2dbc73c84a89f5e4.jpg</td><td>/data/beauty</td><td>beauty</td></tr><tr><td>10119</td><td>40eab9ba-7812-4f26-baca-35a6bed95a9f</td><td>How to Afford Family Travel: 10 Mistakes You're Making (and what to do instead) | Our Next Adventure</td><td>See families traveling all the time and wonder, \"how the heck do they afford this?\" Read 10 mistakes you might be making, and what you should do instead.</td><td>9000</td><td>OUR NEXT ADVENTURE | family travel blog</td><td>Family Vacation Destinations,Vacation Trips,Travel Destinations,Vacation Ideas,Cheap Family Vacations,Vacation Travel,Best Family Vacation Spots,Vacation Quotes,Vacation Memories</td><td>image</td><td>https://i.pinimg.com/originals/0a/49/fb/0a49fbcec746c4219d3a6f30834f378e.jpg</td><td>/data/travel</td><td>travel</td></tr><tr><td>9074</td><td>2adede06-7fb0-4b5f-8cf9-ce8e6d6fa6a1</td><td>77 Disney Tattoos To Unleash Your Magic Power - Our Mindful Life</td><td>Disney characters never go out with time. From small to bold, here are the best Disney tattoos that both adults and children will adore.</td><td>190000</td><td>Our Mindful Life</td><td>Small Disney Tattoos,Disney Thigh Tattoo,Matching Disney Tattoos,Disney Couple Tattoos,Disney Inspired Tattoos,Disney Sleeve Tattoos,Matching Best Friend Tattoos,Small Tattoos,3 Best Friend Tattoos</td><td>image</td><td>https://i.pinimg.com/originals/29/1d/13/291d1361e275358df53c1db02b63d3a4.jpg</td><td>/data/tattoos</td><td>tattoos</td></tr><tr><td>2604</td><td>087b0fa9-f901-4262-aa0a-6caf234d1b35</td><td>75+ Neutral Christmas Home Decor for the Holiday Season in Farmhouse Style using Earth Tones Modern</td><td>My favorite 75+ Neutral Christmas Home Decor for decorating your house during the Holiday Season in earth tones and a farmhouse, rustic style all winter. I love this modern, sim… </td><td>31000</td><td>Everyday Wholesome</td><td>Colorful Christmas Decorations,Colorful Christmas Tree,Christmas Centerpieces,Christmas Colors,Xmas Colors,Winter Decorations,Christmas Trends,Christmas Inspiration,Christmas Home</td><td>image</td><td>https://i.pinimg.com/originals/86/84/39/868439dd894969e3abd6a2a8a9fe1e9c.jpg</td><td>/data/christmas</td><td>christmas</td></tr><tr><td>223</td><td>8672f996-6ce9-403e-9599-2c4df668f1e0</td><td>Easy Gouache painting</td><td>null</td><td>29000</td><td>Jasminxg</td><td>Simple Canvas Paintings,Easy Nature Paintings,Tree Paintings,Cool Paintings,Watercolor Art Lessons,Watercolor Paintings For Beginners,Gouache Painting,Painting Art,Mandala Art Lesson</td><td>multi-video(story page format)</td><td>https://i.pinimg.com/videos/thumbnails/originals/17/49/16/1749164b93866d4eac32a52a3ccfd40a.0000001.jpg</td><td>/data/art</td><td>art</td></tr><tr><td>8312</td><td>ca3c9bb0-7281-4b9b-8abf-201da0b68d62</td><td>8 Vision Board Ideas To Manifest Your Dreams - TheFab20s</td><td>Trying to create your dream life but don't know where to start?! These vision board ideas are a great way to manifest a new you this year</td><td>42000</td><td>TheFab20s | Travel+Food+DIY+Listicles</td><td>Positive Self Affirmations,Positive Affirmations Quotes,Affirmation Quotes,Quotes Positive,Motivational Quotes For Success Positivity,Business Success Quotes,Positive Vibes,Motivational Quotes For Women,Affirmations For Love</td><td>image</td><td>https://i.pinimg.com/originals/36/d1/be/36d1be632cbf9b6c8e377a052b31d064.jpg</td><td>/data/quotes</td><td>quotes</td></tr><tr><td>2858</td><td>26f81da4-26a9-465b-b819-6099bc66e1c0</td><td>50 Popular Spring Crafts For Kids You Need To Make</td><td>Celebrate warmer weather & spring blooms with these 50 delightful spring crafts for kids. Bright, cheerful & fun to make these crafts are a guaranteed hit.</td><td>108000</td><td>This Tiny  Blue House</td><td>Spring Crafts For Kids,Diy For Kids,Arts And Crafts For Kids Toddlers,Spring Crafts For Preschoolers,Spring Craft Preschool,Simple Kids Crafts,Summer Crafts For Toddlers,Easy Preschool Crafts,Garden Crafts For Kids</td><td>image</td><td>https://i.pinimg.com/originals/f0/ca/c3/f0cac3e3b0c2ebf5f2d2e4f70455e794.jpg</td><td>/data/diy-and-crafts</td><td>diy-and-crafts</td></tr><tr><td>6261</td><td>308c5c1c-1ebd-4649-be78-14424ee346b1</td><td>DECORATING WITH RATTAN & CANE - Dashing Darlin'</td><td>BOHEMIAN TRENDING TEXTURES FOR THE HOME ~ ROUNDED UP MY FAVORITE RATTAN & CANE HOME DECOR FINDS</td><td>13000</td><td>Dashing Darlin' </td><td>Boho Chic Living Room,Boho Chic Entryway,Living Room Decor With White Couch,Rustic Living Rooms,Diy Living Room,Living Room Upstairs,Rustic Room,Bohemian Living,Living Room Inspiration</td><td>image</td><td>https://i.pinimg.com/originals/24/89/f7/2489f76f98cb3c1189848ddc42f2ec52.jpg</td><td>/data/home-decor</td><td>home-decor</td></tr><tr><td>3201</td><td>6370f096-f344-49c3-a6b1-3072c537a953</td><td>DIY Pom Pom Letters for MOM!</td><td>Marla Meridith - DIY Pom Pom Letters for MOM!</td><td>671000</td><td>Marla Meridith</td><td>Kids Crafts,Crafts To Make,Craft Projects,Arts And Crafts,Craft Ideas,Pom Pom Crafts,Yarn Crafts,Flower Crafts,Diy Flower</td><td>image</td><td>https://i.pinimg.com/originals/db/c6/98/dbc69818c531e28ee514aaaec377257d.jpg</td><td>/data/diy-and-crafts</td><td>diy-and-crafts</td></tr><tr><td>2637</td><td>b18e8d38-eb45-40c0-b443-4fca250df850</td><td>Marco Boho</td><td>null</td><td>66000</td><td>El blog amarillo</td><td>Diy Craft Projects,Diy Crafts For Home Decor,Diy And Crafts Sewing,Diy Wall Decor,Creative Crafts,Fun Crafts,Paper Crafts,Sewing Diy,Diy Wall Art</td><td>multi-video(story page format)</td><td>https://i.pinimg.com/videos/thumbnails/originals/b6/ab/28/b6ab28752f2804d71a3993565ba89308.0000001.jpg</td><td>/data/diy-and-crafts</td><td>diy-and-crafts</td></tr><tr><td>1198</td><td>1a90caac-f5df-4a27-821b-0fb4be678542</td><td>The End of the Skin-Care Craze</td><td>In the face of a pandemic, economic collapse, and climate change, Instagram photos of shelves crowded with skin-care products appear out of</td><td>20</td><td>Mccready-romero</td><td>Care Organization,Bathroom Organisation,Medicine Organization,Beauty Care,Beauty Skin,Elle Ferguson,Shelfie,Makeup Storage,Beauty Room</td><td>image</td><td>https://i.pinimg.com/originals/a3/d0/29/a3d029500020cc9c9c44f97c60dbc515.png</td><td>/data/beauty</td><td>beauty</td></tr><tr><td>10370</td><td>746948e7-a216-456b-8de7-7fee7312012c</td><td>Joshua Tree - A Weekend in the Desert with Faithfull | Song of Style</td><td>Aimee Song of the blog Song of Style shares a photo diary of her weekend in the Joshua Tree desert with Faithfull the Brand. Photos by Grant Legan.</td><td>1000</td><td>Maggie Panning</td><td>Pretty Cars,Cute Cars,Classy Cars,Sexy Cars,Dream Cars,My Dream Car,Carros Retro,Ford Classic Cars,Ford Mustang Classic</td><td>image</td><td>https://i.pinimg.com/originals/11/1e/c3/111ec37eed198cb432f71b20afd0e770.jpg</td><td>/data/vehicles</td><td>vehicles</td></tr><tr><td>7167</td><td>922425d2-16dc-465e-8fe4-e3c081a0299f</td><td>Hamilton Khaki Aviation Pilot Chrono Watch H76712151</td><td>Hamilton Khaki Aviation Pilot Chrono H76712151 Movement: ETA 251.274 quartz chronograph Case: Polished and brushed stainless steel. 44mm in diameter. Water resistant to 100 mete… </td><td>265</td><td>Midwest Jewelers & Estate Buyers</td><td>Swiss Army Watches,Seiko Watches,Luxury Watches For Men,Silver Man,Breitling,Fashion Watches,Men's Fashion,Fashion Tips,Cool Watches</td><td>image</td><td>https://i.pinimg.com/originals/13/cb/d6/13cbd63c3b2582b9ba4ec027d62e91c2.png</td><td>/data/mens-fashion</td><td>mens-fashion</td></tr><tr><td>10673</td><td>ede73169-5b9f-4906-b02e-9db1bee203a4</td><td>Discover the new Range Rover luxury performance SUV</td><td>Shadow Velar</td><td>9000</td><td>Land Rover USA</td><td>Range Rover Negro,Range Rover Preto,Range Rover Schwarz,Range Rover Black,Range Rover Evoque,Range Rover Car,Pink Range Rovers,The New Range Rover,Luxury Sports Cars</td><td>image</td><td>https://i.pinimg.com/originals/5d/c8/87/5dc887a26bd47598867f3576cfe1ace7.jpg</td><td>/data/vehicles</td><td>vehicles</td></tr><tr><td>2060</td><td>177dde1a-3409-4865-a533-9f50efaedcd8</td><td>50 DIY Decorations for a Jolly Christmas Table Setting</td><td>You'll feel extra merry during your holiday dinner!</td><td>254</td><td>Syndi Mulcahy</td><td>Christmas Place Cards,Christmas Names,Christmas Napkins,Christmas Mantels,Christmas Diy,Christmas Wreaths,Christmas Place Setting,Thanksgiving Place Cards,Christmas Favors</td><td>image</td><td>https://i.pinimg.com/originals/1a/e4/e0/1ae4e03602fb20a77cb53e623547d317.png</td><td>/data/christmas</td><td>christmas</td></tr><tr><td>9487</td><td>3bccb05e-f031-477f-9ca4-9be28e5bd542</td><td>The Cheapest Countries to Visit Around the World</td><td>Are you looking for the cheapest country to visit? Here are the cheapest countries to visit in the world! These are affordable destinations that offer the most value for an unfo… </td><td>7000</td><td>Diana's Healthy Living | Luxury Adventure Travel Blog</td><td>Travel Advice,Travel Guides,Travel Tips,Travel Goals,Travel Info,Travel Essentials,Travel Stuff,Travel Hacks,Cheap Travel</td><td>image</td><td>https://i.pinimg.com/originals/56/10/37/561037138bcc9c20e88a8e66ae0cb658.png</td><td>/data/travel</td><td>travel</td></tr><tr><td>772</td><td>49a12516-2c77-445f-b656-4b55b4a69608</td><td>5 Pastel Color Palettes for 5 Floral Favorites</td><td>Everyone loves flowers for their beautiful shapes and color, but confronting all that colorful splendor can be daunting. Artist Jude Tolar shows how to make color decoding easy… </td><td>227000</td><td>Artists Network</td><td>Chalk Pastel Art,Soft Pastel Art,Pastel Artwork,Oil Pastel Paintings,Chalk Pastels,Pastel Drawing,Oil Pastels,Horse Paintings,Flower Paintings</td><td>image</td><td>https://i.pinimg.com/originals/e1/eb/e8/e1ebe8d2f201d92109b1b12bf6e2c1ac.jpg</td><td>/data/art</td><td>art</td></tr><tr><td>7510</td><td>e09fddda-1cc2-41c8-b799-d238fe90b937</td><td>See the Most Stylish Men of New York Fashion Week</td><td>10 guys with great style at the spring 2016 shows.</td><td>874000</td><td>GQ Magazine</td><td>Nyc Mens Fashion,Fashion Mode,Mens Fashion Suits,New York Fashion,Fashion Fashion,Fashion Check,Paris Fashion,Latex Fashion,Fashion Outlet</td><td>image</td><td>https://i.pinimg.com/originals/45/3c/fb/453cfb4859d0b6730422c75f7b8918ec.jpg</td><td>/data/mens-fashion</td><td>mens-fashion</td></tr><tr><td>5758</td><td>af602075-7bea-4aa0-adf4-a1a89952e92e</td><td>Robot Challenge Screen</td><td>Need to organize your finances? Create a filing system that works for you. Learn how to organize your finances and give all your documents a home with</td><td>14000</td><td>Esavingsblog</td><td>Ways To Save Money,Money Tips,Money Saving Tips,Managing Money,Money Hacks,Saving Ideas,Finance Bank,Personal Finance,Finance Degree</td><td>image</td><td>https://i.pinimg.com/originals/e6/46/a3/e646a3462219ed0f6f752bcad93fd5a5.png</td><td>/data/finance</td><td>finance</td></tr></tbody></table></div>"
      ]
     },
     "metadata": {
      "application/vnd.databricks.v1+output": {
       "addedWidgets": {},
       "aggData": [],
       "aggError": "",
       "aggOverflow": false,
       "aggSchema": [],
       "aggSeriesLimitReached": false,
       "aggType": "",
       "arguments": {},
       "columnCustomDisplayInfos": {},
       "data": [
        [
         7528,
         "fbe53c66-3442-4773-b19e-d3ec6f54dddf",
         null,
         null,
         null,
         null,
         null,
         "multi-video(story page format)",
         null,
         "/data/mens-fashion",
         "mens-fashion"
        ],
        [
         2863,
         "9bf39437-42a6-4f02-99a0-9a0383d8cd70",
         "25 Super Fun Summer Crafts for Kids - Of Life and Lisa",
         "Keep the kids busy this summer with these easy diy crafts and projects. Creative and…",
         124000,
         "Of Life & Lisa | Lifestyle Blog",
         "Summer Crafts For Kids,Fun Crafts For Kids,Summer Kids,Toddler Crafts,Crafts To Do,Diy For Kids,Summer Snow,Diys For Summer,Craft Ideas For Girls",
         "image",
         "https://i.pinimg.com/originals/b3/bc/e2/b3bce2964e8c8975387b39660eed5f16.jpg",
         "/data/diy-and-crafts",
         "diy-and-crafts"
        ],
        [
         5730,
         "1e1f0c8b-9fcf-460b-9154-c775827206eb",
         "Island Oasis Coupon Organizer",
         "Description Coupon Organizer in a fun colorful fabric -island oasis, Great Size for the \"basic\" couponer - holds up to 500 coupons with ease, and is made long enough so that you… ",
         0,
         "Consuelo Aguirre",
         "Grocery Items,Grocery Coupons,Care Organization,Coupon Organization,Extreme Couponing,Couponing 101,Life Binder,Save My Money,Love Coupons",
         "image",
         "https://i.pinimg.com/originals/65/bb/ea/65bbeaf458907bb079317d8303c4fa0e.jpg",
         "/data/finance",
         "finance"
        ],
        [
         8304,
         "5b6d0913-25e4-43ab-839d-85d5516f78a4",
         "The #1 Reason You’re Not His Priority Anymore - Matthew Coast",
         "#lovequotes #matchmaker #matchmadeinheaven #loveyourself #respectyourself",
         51000,
         "Commitment Connection",
         "Wise Quotes,Quotable Quotes,Words Quotes,Wise Words,Quotes To Live By,Great Quotes,Motivational Quotes,Inspirational Quotes,Funny Quotes",
         "image",
         "https://i.pinimg.com/originals/c6/64/ee/c664ee71524fb5a6e7b7b49233f93b43.png",
         "/data/quotes",
         "quotes"
        ],
        [
         8731,
         "ea760f71-febf-4023-b592-d17396659039",
         "20 Koi Fish Tattoos For Lucky Men",
         "Koi fish tattoos are a popular choice for men who want to make a statement, thanks to their rich symbolism and bold design.",
         211000,
         "TheTrendSpotter",
         "Dr Tattoo,Wörter Tattoos,Pisces Tattoos,Tatoo Art,Dream Tattoos,Dope Tattoos,Mini Tattoos,Finger Tattoos,Body Art Tattoos",
         "image",
         "https://i.pinimg.com/originals/8a/0c/0a/8a0c0a7b6236565c519acd41ad1a52c0.jpg",
         "/data/tattoos",
         "tattoos"
        ],
        [
         1313,
         "44662045-e891-4821-8a19-ebe7eedd371a",
         "Liquid Lash Extensions Mascara",
         "Instantly create the look of lash extensions with this award-winning, best-selling mascara that won't clump, flake or smudge. Available in 3 shades!",
         43000,
         "Thrive Causemetics",
         null,
         "video",
         "https://i.pinimg.com/videos/thumbnails/originals/69/84/e2/6984e20f3e262098fa9c0614c3453254.0000001.jpg",
         "/data/beauty",
         "beauty"
        ],
        [
         4315,
         "21b59ba9-829d-4c33-8c27-4cd4c56d26b8",
         "Podcasts for Teachers or Parents of Teenagers",
         "Podcasts for Teachers or Parents of Teenagers: Teaching teens middle school and high school can feel joyful and rewarding most days, but can also frustrate you with one challeng… ",
         25000,
         "Math Giraffe",
         "Middle School Classroom,High School Students,High School Teachers,Middle School Tips,High School Counseling,Ela Classroom,High School Science,Future Classroom,Google Classroom",
         "image",
         "https://i.pinimg.com/originals/50/19/31/501931a27ee4d076658980851b995b2c.jpg",
         "/data/education",
         "education"
        ],
        [
         10794,
         "c4bd2577-a7bb-4409-bb7a-17d5ed7e1cf1",
         "TireBuyer",
         "Nissan GT-R. Sick.",
         437,
         "Ray Uyemura",
         "Lowrider,Old Vintage Cars,Antique Cars,Austin Martin,Nissan Gtr Black,Jaguar,1959 Cadillac,Cadillac Ct6,Old School Cars",
         "image",
         "https://i.pinimg.com/originals/0d/29/9f/0d299f3df020395aa7ce8387f40fbeed.jpg",
         "/data/vehicles",
         "vehicles"
        ],
        [
         5494,
         "8fb2af68-543b-4639-8119-de33d28706ed",
         "Dave Ramsey's 7 Baby Steps: What Are They And Will They Work For You",
         "If you love budgeting, make sure to give Dave Ramsey's 7 Baby Steps a try. Follow these steps to begin your debt snowball, build an emergency fund, invest and reach riches. I ca… ",
         26000,
         "Living Low Key | Save Money, Make Money, & Frugal Living",
         "Financial Peace,Financial Tips,Saving Money Quotes,Total Money Makeover,Budgeting Finances,Money Management,Wealth Management,Personal Finance,Making Ideas",
         "image",
         "https://i.pinimg.com/originals/1e/9d/90/1e9d906e4e150e3b95187f3b76ea7c71.png",
         "/data/finance",
         "finance"
        ],
        [
         5069,
         "b75b6f87-deb3-444f-b29e-ce9161b2df49",
         "The Vault: Curated & Refined Wedding Inspiration",
         "Sacramento California Wedding 2 Chic Events & Design Jodi Yorston Photography Wilson Vineyards Barn Miosa Couture Yellow Barn Vineyard Outdoor Candles DIY",
         6000000,
         "Style Me Pretty",
         "60th Anniversary Parties,Anniversary Decorations,Golden Anniversary,25th Wedding Anniversary,Anniversary Pictures,Anniversary Ideas,Birthday Decorations,Event Planning Design,Event Design",
         "image",
         "https://i.pinimg.com/originals/7e/45/90/7e45905fefa36347e83333fd6d091140.jpg",
         "/data/event-planning",
         "event-planning"
        ],
        [
         2923,
         "52fa3af5-24a4-4ccb-8f17-9c3eb12327ee",
         "UFO Paper Plate Craft",
         "A fun space activity for kids. Preshoolers and kindergartners will love making their own alien spacecraft!",
         192000,
         "The Crafting Chicks",
         "Paper Plate Crafts For Kids,Fun Crafts For Kids,Summer Crafts,Toddler Crafts,Art For Kids,Outer Space Crafts For Kids,Kid Crafts,Space Kids,Back To School Crafts For Kids",
         "image",
         "https://i.pinimg.com/originals/6f/e8/aa/6fe8aa405513c6d2f77b5f47d17cdce8.jpg",
         "/data/diy-and-crafts",
         "diy-and-crafts"
        ],
        [
         3089,
         "88f9227e-88d0-4b1c-b0be-bcfc3028b8e2",
         null,
         null,
         null,
         null,
         null,
         "multi-video(story page format)",
         null,
         "/data/diy-and-crafts",
         "diy-and-crafts"
        ],
        [
         6063,
         "60693727-4927-4bd6-a8c5-096a392d63e6",
         "41 Gorgeous Fall Decor Ideas For Your Home - Chaylor & Mads",
         "Beautiful and easy ways to update every room in your home with fall decor. Plus, my favorite finds in fall decor for 2020!",
         92000,
         "Kristen | Lifestyle, Mom Tips & Teacher Stuff Blog",
         "Fall Home Decor,Autumn Home,Fall Decor Outdoor,Front Porch Fall Decor,Home Decor Ideas,Porch Ideas For Fall,Fall Outdoor Decorating,Decorating Ideas For Fall,Fall Front Doors",
         "image",
         "https://i.pinimg.com/originals/e5/ae/dc/e5aedc14ce557e3a69f672e0f8c88f6e.png",
         "/data/home-decor",
         "home-decor"
        ],
        [
         3454,
         "46bd3f86-b09d-4e29-9033-7ff2df595e51",
         "What can you use to color resin?",
         "HELPFUL RESOURCES – Check out my resin colorants resources page here with links to all the products mentioned in this article (and more). Let me know if you have any that you lo… ",
         6000,
         "Mixed Media Crafts",
         "Epoxy Resin Art,Diy Resin Art,Diy Resin Crafts,Resin Molds,Ice Resin,Resin Pour,Diy Epoxy,Diy Resin Painting,Diy Resin Dice",
         "image",
         "https://i.pinimg.com/originals/d4/12/78/d4127833023ca32600571ddca16f1556.jpg",
         "/data/diy-and-crafts",
         "diy-and-crafts"
        ],
        [
         7554,
         "c6fa12f4-0d4a-4b07-a335-5bf9f37f8281",
         "Craig Style",
         "imgentleboss: “ - More about men’s fashion at @Gentleboss - GB’s Facebook - ”",
         940,
         "iElylike ..✿◕‿◕✿ஐ✿◕‿◕✿",
         "Mens Fashion Blog,Look Fashion,Autumn Fashion,Fashion News,Fashion Sale,80s Fashion,Paris Fashion,Runway Fashion,Fashion Trends",
         "image",
         "https://i.pinimg.com/originals/e7/6e/8e/e76e8ed6cc838b84a934c6948a5caff7.jpg",
         "/data/mens-fashion",
         "mens-fashion"
        ],
        [
         7528,
         "fbe53c66-3442-4773-b19e-d3ec6f54dddf",
         null,
         null,
         null,
         null,
         null,
         "multi-video(story page format)",
         null,
         "/data/mens-fashion",
         "mens-fashion"
        ],
        [
         2863,
         "9bf39437-42a6-4f02-99a0-9a0383d8cd70",
         "25 Super Fun Summer Crafts for Kids - Of Life and Lisa",
         "Keep the kids busy this summer with these easy diy crafts and projects. Creative and…",
         124000,
         "Of Life & Lisa | Lifestyle Blog",
         "Summer Crafts For Kids,Fun Crafts For Kids,Summer Kids,Toddler Crafts,Crafts To Do,Diy For Kids,Summer Snow,Diys For Summer,Craft Ideas For Girls",
         "image",
         "https://i.pinimg.com/originals/b3/bc/e2/b3bce2964e8c8975387b39660eed5f16.jpg",
         "/data/diy-and-crafts",
         "diy-and-crafts"
        ],
        [
         5730,
         "1e1f0c8b-9fcf-460b-9154-c775827206eb",
         "Island Oasis Coupon Organizer",
         "Description Coupon Organizer in a fun colorful fabric -island oasis, Great Size for the \"basic\" couponer - holds up to 500 coupons with ease, and is made long enough so that you… ",
         0,
         "Consuelo Aguirre",
         "Grocery Items,Grocery Coupons,Care Organization,Coupon Organization,Extreme Couponing,Couponing 101,Life Binder,Save My Money,Love Coupons",
         "image",
         "https://i.pinimg.com/originals/65/bb/ea/65bbeaf458907bb079317d8303c4fa0e.jpg",
         "/data/finance",
         "finance"
        ],
        [
         8304,
         "5b6d0913-25e4-43ab-839d-85d5516f78a4",
         "The #1 Reason You’re Not His Priority Anymore - Matthew Coast",
         "#lovequotes #matchmaker #matchmadeinheaven #loveyourself #respectyourself",
         51000,
         "Commitment Connection",
         "Wise Quotes,Quotable Quotes,Words Quotes,Wise Words,Quotes To Live By,Great Quotes,Motivational Quotes,Inspirational Quotes,Funny Quotes",
         "image",
         "https://i.pinimg.com/originals/c6/64/ee/c664ee71524fb5a6e7b7b49233f93b43.png",
         "/data/quotes",
         "quotes"
        ],
        [
         8731,
         "ea760f71-febf-4023-b592-d17396659039",
         "20 Koi Fish Tattoos For Lucky Men",
         "Koi fish tattoos are a popular choice for men who want to make a statement, thanks to their rich symbolism and bold design.",
         211000,
         "TheTrendSpotter",
         "Dr Tattoo,Wörter Tattoos,Pisces Tattoos,Tatoo Art,Dream Tattoos,Dope Tattoos,Mini Tattoos,Finger Tattoos,Body Art Tattoos",
         "image",
         "https://i.pinimg.com/originals/8a/0c/0a/8a0c0a7b6236565c519acd41ad1a52c0.jpg",
         "/data/tattoos",
         "tattoos"
        ],
        [
         1313,
         "44662045-e891-4821-8a19-ebe7eedd371a",
         "Liquid Lash Extensions Mascara",
         "Instantly create the look of lash extensions with this award-winning, best-selling mascara that won't clump, flake or smudge. Available in 3 shades!",
         43000,
         "Thrive Causemetics",
         null,
         "video",
         "https://i.pinimg.com/videos/thumbnails/originals/69/84/e2/6984e20f3e262098fa9c0614c3453254.0000001.jpg",
         "/data/beauty",
         "beauty"
        ],
        [
         4315,
         "21b59ba9-829d-4c33-8c27-4cd4c56d26b8",
         "Podcasts for Teachers or Parents of Teenagers",
         "Podcasts for Teachers or Parents of Teenagers: Teaching teens middle school and high school can feel joyful and rewarding most days, but can also frustrate you with one challeng… ",
         25000,
         "Math Giraffe",
         "Middle School Classroom,High School Students,High School Teachers,Middle School Tips,High School Counseling,Ela Classroom,High School Science,Future Classroom,Google Classroom",
         "image",
         "https://i.pinimg.com/originals/50/19/31/501931a27ee4d076658980851b995b2c.jpg",
         "/data/education",
         "education"
        ],
        [
         10794,
         "c4bd2577-a7bb-4409-bb7a-17d5ed7e1cf1",
         "TireBuyer",
         "Nissan GT-R. Sick.",
         437,
         "Ray Uyemura",
         "Lowrider,Old Vintage Cars,Antique Cars,Austin Martin,Nissan Gtr Black,Jaguar,1959 Cadillac,Cadillac Ct6,Old School Cars",
         "image",
         "https://i.pinimg.com/originals/0d/29/9f/0d299f3df020395aa7ce8387f40fbeed.jpg",
         "/data/vehicles",
         "vehicles"
        ],
        [
         5494,
         "8fb2af68-543b-4639-8119-de33d28706ed",
         "Dave Ramsey's 7 Baby Steps: What Are They And Will They Work For You",
         "If you love budgeting, make sure to give Dave Ramsey's 7 Baby Steps a try. Follow these steps to begin your debt snowball, build an emergency fund, invest and reach riches. I ca… ",
         26000,
         "Living Low Key | Save Money, Make Money, & Frugal Living",
         "Financial Peace,Financial Tips,Saving Money Quotes,Total Money Makeover,Budgeting Finances,Money Management,Wealth Management,Personal Finance,Making Ideas",
         "image",
         "https://i.pinimg.com/originals/1e/9d/90/1e9d906e4e150e3b95187f3b76ea7c71.png",
         "/data/finance",
         "finance"
        ],
        [
         5069,
         "b75b6f87-deb3-444f-b29e-ce9161b2df49",
         "The Vault: Curated & Refined Wedding Inspiration",
         "Sacramento California Wedding 2 Chic Events & Design Jodi Yorston Photography Wilson Vineyards Barn Miosa Couture Yellow Barn Vineyard Outdoor Candles DIY",
         6000000,
         "Style Me Pretty",
         "60th Anniversary Parties,Anniversary Decorations,Golden Anniversary,25th Wedding Anniversary,Anniversary Pictures,Anniversary Ideas,Birthday Decorations,Event Planning Design,Event Design",
         "image",
         "https://i.pinimg.com/originals/7e/45/90/7e45905fefa36347e83333fd6d091140.jpg",
         "/data/event-planning",
         "event-planning"
        ],
        [
         2923,
         "52fa3af5-24a4-4ccb-8f17-9c3eb12327ee",
         "UFO Paper Plate Craft",
         "A fun space activity for kids. Preshoolers and kindergartners will love making their own alien spacecraft!",
         192000,
         "The Crafting Chicks",
         "Paper Plate Crafts For Kids,Fun Crafts For Kids,Summer Crafts,Toddler Crafts,Art For Kids,Outer Space Crafts For Kids,Kid Crafts,Space Kids,Back To School Crafts For Kids",
         "image",
         "https://i.pinimg.com/originals/6f/e8/aa/6fe8aa405513c6d2f77b5f47d17cdce8.jpg",
         "/data/diy-and-crafts",
         "diy-and-crafts"
        ],
        [
         3089,
         "88f9227e-88d0-4b1c-b0be-bcfc3028b8e2",
         null,
         null,
         null,
         null,
         null,
         "multi-video(story page format)",
         null,
         "/data/diy-and-crafts",
         "diy-and-crafts"
        ],
        [
         6063,
         "60693727-4927-4bd6-a8c5-096a392d63e6",
         "41 Gorgeous Fall Decor Ideas For Your Home - Chaylor & Mads",
         "Beautiful and easy ways to update every room in your home with fall decor. Plus, my favorite finds in fall decor for 2020!",
         92000,
         "Kristen | Lifestyle, Mom Tips & Teacher Stuff Blog",
         "Fall Home Decor,Autumn Home,Fall Decor Outdoor,Front Porch Fall Decor,Home Decor Ideas,Porch Ideas For Fall,Fall Outdoor Decorating,Decorating Ideas For Fall,Fall Front Doors",
         "image",
         "https://i.pinimg.com/originals/e5/ae/dc/e5aedc14ce557e3a69f672e0f8c88f6e.png",
         "/data/home-decor",
         "home-decor"
        ],
        [
         3454,
         "46bd3f86-b09d-4e29-9033-7ff2df595e51",
         "What can you use to color resin?",
         "HELPFUL RESOURCES – Check out my resin colorants resources page here with links to all the products mentioned in this article (and more). Let me know if you have any that you lo… ",
         6000,
         "Mixed Media Crafts",
         "Epoxy Resin Art,Diy Resin Art,Diy Resin Crafts,Resin Molds,Ice Resin,Resin Pour,Diy Epoxy,Diy Resin Painting,Diy Resin Dice",
         "image",
         "https://i.pinimg.com/originals/d4/12/78/d4127833023ca32600571ddca16f1556.jpg",
         "/data/diy-and-crafts",
         "diy-and-crafts"
        ],
        [
         7554,
         "c6fa12f4-0d4a-4b07-a335-5bf9f37f8281",
         "Craig Style",
         "imgentleboss: “ - More about men’s fashion at @Gentleboss - GB’s Facebook - ”",
         940,
         "iElylike ..✿◕‿◕✿ஐ✿◕‿◕✿",
         "Mens Fashion Blog,Look Fashion,Autumn Fashion,Fashion News,Fashion Sale,80s Fashion,Paris Fashion,Runway Fashion,Fashion Trends",
         "image",
         "https://i.pinimg.com/originals/e7/6e/8e/e76e8ed6cc838b84a934c6948a5caff7.jpg",
         "/data/mens-fashion",
         "mens-fashion"
        ],
        [
         6145,
         "82e13a07-db99-43a3-b1c0-89a4b75821da",
         "HOLIDAY MANTLE DECOR - @AMAZON & @TARGET FINDS",
         "Holiday mantle decor, Christmas decor, metallic mercury glass style Christmas trees, eucalyptus vine, evergreen pine branches, white neutral holiday decor, cozy mantle for the h… ",
         83000,
         "Stylin by Aylin",
         "Winter Home Decor,Christmas Living Room Decor,Living Room Decor Cozy,Christmas Decor,Cozy Fireplace,Rustic Fireplace Decor,Fireplace Decorations,Rustic Room,House Decorations",
         "image",
         "https://i.pinimg.com/originals/9d/82/1a/9d821a80acd8f90c16454e978bd9b115.jpg",
         "/data/home-decor",
         "home-decor"
        ],
        [
         10625,
         "d31885b7-742a-4e2a-bbb7-ac5f9d334340",
         "Jaguar Type E",
         "1937 Jaguar SS100 - 2 1/2 Litre Roadster, one of the most sought after pre-war sports cars",
         8000,
         "hobbyDB",
         "Jaguar Type E,Jaguar Xk,Jaguar Cars,Jaguar Roadster,Jaguar Sport,Retro Cars,Vintage Cars,Antique Cars,British Sports Cars",
         "image",
         "https://i.pinimg.com/originals/26/81/a7/2681a71bd0c8f7fd0ab79c455338a49a.jpg",
         "/data/vehicles",
         "vehicles"
        ],
        [
         2959,
         "439cac4b-18e8-4aaa-88c5-edb26a701111",
         "The Cutest Toilet Paper Crafts",
         "One thing I love about Crafts is how the evolve! These toilet paper rolls are adorable and modern. I love that something as simple as a recycled toilet paper roll can be taken t… ",
         502000,
         "CraftGossip.com",
         "Toilet Paper Roll Crafts,Cardboard Crafts,Diy Paper,Paper Crafting,Toilet Paper Rolls,Cardboard Playhouse,Paper Art,Kids Crafts,Toddler Crafts",
         "image",
         "https://i.pinimg.com/originals/c6/cd/0d/c6cd0d04da9cfc11566cfd34eeb1f918.jpg",
         "/data/diy-and-crafts",
         "diy-and-crafts"
        ],
        [
         9875,
         "782dcbad-ff91-40a6-ba60-216efe29adb7",
         "European Bucket List: 35 Things NOT To Miss When Traveling Europe",
         "35 European bucket list destinations for any traveler heading to Europe. From Cinque Terre, Italy to Iceland - there are so many amazing sites to see in Europe.",
         28000,
         "Nicki ",
         "Backpacking Europe,Europe Travel Guide,Travel Guides,Travel Packing,Traveling Europe,Travelling,Travel Backpack,Budget Travel,2 Week Europe Itinerary",
         "image",
         "https://i.pinimg.com/originals/71/04/1a/71041ad83ede43d9665741e719c58a86.jpg",
         "/data/travel",
         "travel"
        ],
        [
         2418,
         "da8745a6-5160-46c4-877d-181d50a729fd",
         "100 DIY Christmas Centerpieces You'll Love To Decorate Your Home With For The Christmas Season - Hike n Dip",
         "Here are the best DIY Christmas Centerpieces ideas perfect for your Christmas & holiday season home decor. From Christmas Vignettes to Table Centerpieces.",
         500000,
         "HikenDip",
         "Farmhouse Christmas Decor,Rustic Christmas,Christmas Time,Vintage Christmas,Xmas,Primitive Christmas Crafts,Christmas Vignette,Indoor Christmas Decorations,Diy Christmas Ornaments",
         "image",
         "https://i.pinimg.com/originals/aa/6d/0f/aa6d0f44d7c1c96b998cb9aa6c4446b8.png",
         "/data/christmas",
         "christmas"
        ],
        [
         3156,
         "fa6e31a4-18c2-4eca-a6d8-e903eee2c2a4",
         "Handprint Reindeer Ornaments - Crafty Morning",
         "This post may contain affiliate links, read our Disclosure Policy for more information. As an Amazon Associate I earn from qualifying purchases, thank you! Make some cute handpr… ",
         892000,
         "Michelle {CraftyMorning.com}",
         "Christmas Gifts For Parents,Christmas Decorations For Kids,Christmas Crafts For Toddlers,Preschool Christmas,Christmas Crafts For Gifts,Christmas Activities,Toddler Crafts,Kids Christmas,Christmas Feeling",
         "image",
         "https://i.pinimg.com/originals/ff/fe/38/fffe384f3ec18a0d87cb2d80cc8c1499.jpg",
         "/data/diy-and-crafts",
         "diy-and-crafts"
        ],
        [
         428,
         "610b3f83-9fe0-469d-946c-d16b577fca71",
         "Fashion Designer Isaac Mizrahi’s Updated 1930s New York City Apartment",
         "Fashion designer Issac Mizrahi’s Greenwich Village home is an amalgamation of three apartments that was 20 years in the making",
         3000000,
         "Architectural Digest",
         "Modern Art,Contemporary Art,Contemporary Kitchens,Contemporary Bedroom,New York City Apartment,Manhattan Apartment,Art Moderne,Architectural Digest,Painting Inspiration",
         "image",
         "https://i.pinimg.com/originals/f4/6c/54/f46c546a2e480022a42d842b7dca157e.jpg",
         "/data/art",
         "art"
        ],
        [
         7343,
         "b8c63a95-6fe8-4d7f-9455-1eef3462fee0",
         "This Fashion Rule Is Nonsense, And We Should All Forget About It",
         "Black And Brown Outfits You Need To Try This Fall Season. The trick with black and brown outfits is to know how to combine colors, fabrics, and shapes to get a cohesive look. So… ",
         1000000,
         "Cultura Colectiva",
         "Winter Outfits Men,Stylish Mens Outfits,Casual Outfits,Men Casual,Smart Casual,Outfits For Men,Fall Outfits,Mens Winter Boots,Business Casual Men",
         "image",
         "https://i.pinimg.com/originals/3e/49/09/3e4909c0ccc4dbba3cad83d97eab4a61.png",
         "/data/mens-fashion",
         "mens-fashion"
        ],
        [
         2074,
         "86ed09a7-842d-496d-9501-010c654eb340",
         "35 Christmas Decorating Ideas We Bet You Haven't Thought Of",
         "20 Christmas Decorating Ideas We Bet You Haven't Thought Of via @PureWow",
         868000,
         "PureWow",
         "Holiday Centerpieces,Xmas Decorations,Centerpiece Ideas,Table Centerpieces,Valentine Decorations,Wedding Centerpieces,Outdoor Decorations,Christmas Centerpieces With Candles,Christmas Dining Table Decorations",
         "image",
         "https://i.pinimg.com/originals/e9/b9/f0/e9b9f01cc3b2cf41948b45854335396c.jpg",
         "/data/christmas",
         "christmas"
        ],
        [
         9979,
         "2b2abc85-fc51-481f-8ae6-17681993da28",
         "Paris in the Summer. 10 fun things to do in Paris in the Summertime • Petite in Paris",
         "Are you traveling to Paris during the summer? Find out what to do in Paris, France during the summer. Fun summertime activities in Paris. Enjoy the incredible outdoors when trav… ",
         3000,
         "Petite in Paris",
         "Torre Eiffel Paris,Tour Eiffel,Picnic In Paris,Hello France,Voyage Europe,Destination Voyage,Beautiful Places To Travel,Travel Aesthetic,Paris Travel",
         "image",
         "https://i.pinimg.com/originals/6c/4c/90/6c4c90bba27ebf8c8bfe4c1acfb9f07a.jpg",
         "/data/travel",
         "travel"
        ],
        [
         10138,
         "927c4658-cc3f-4b92-9b5c-70743d0c238d",
         "14 Amazing Things To Do In Costa Rica | Volcanoes, Waterfalls, Wildlife And More",
         "This Costa Rica itinerary is the ultimate guide to spending two weeks in Costa Rica. Find out about visiting La Fortuna, Arenal, Monteverde, Naranjo, Corcovado National Park, Or… ",
         10000,
         "Wanderlust Chloe ✈️ Travel guides, inspo and adventure travel ✈️",
         "Costa Rica Travel,Rio Celeste Costa Rica,Dream Vacations,Vacation Spots,Vacation Travel,Travel Pictures,Travel Photos,Fortuna Costa Rica,Costa Rica Pictures",
         "image",
         "https://i.pinimg.com/originals/30/93/cb/3093cb01d9de2d125fda8ba5e3e41946.jpg",
         "/data/travel",
         "travel"
        ],
        [
         9672,
         "1a5050a4-ac82-472c-aeff-3457de8bbee9",
         "Lake Moraine, Banff, Canada",
         "On our Calgary to Vancouver road trip we got to spend time in Banff, Canada. We visited the stunning Lake Moraine as well as Lake Louise and plenty of other of Canada's natural… ",
         7000,
         "Travel Mad Mum",
         "Beautiful Places To Travel,Cool Places To Visit,Beautiful Roads,Beautiful Scenery,Wonderful Places,Lac Moraine,Moraine Lake,Lac Louise,Natur Wallpaper",
         "video",
         "https://i.pinimg.com/videos/thumbnails/originals/57/9d/52/579d52242ae5609978c754d393e44e81.0000001.jpg",
         "/data/travel",
         "travel"
        ],
        [
         8653,
         "24b1343c-4d86-4705-8ec9-7f1f2df2d77e",
         "Unique Women Tattoos Ideas 2020",
         "We welcome you to our latest collection of Beautiful Tattoo Ideas For Women. Check out and get inspired by the most beautiful design for yourself.",
         21000,
         "ALL FOR WOMAN",
         "Small Back Tattoos,Small Girl Tattoos,Little Tattoos,Tattoo Girls,Mini Tattoos,Tattoo Small,Back Tattoo Women,Tattoo On Back,Girl Back Tattoos",
         "image",
         "https://i.pinimg.com/originals/fa/cf/7c/facf7cd752a4bc7c09faaa8925ab80b1.jpg",
         "/data/tattoos",
         "tattoos"
        ],
        [
         8887,
         "5df9f6e5-07f5-4ce8-a82e-96586bbc05d8",
         "25 Ultra Sexy Back Tattoo Ideas For Girls",
         "Tattoos are one of the most efficient ways through which one decides to express themselves…",
         4000,
         "RapidLeaks",
         "Dream Tattoos,Body Art Tattoos,New Tattoos,Small Tattoos,Cross Tattoos,Random Tattoos,Fashion Tattoos,Bird Tattoos,Fitness Tattoos",
         "image",
         "https://i.pinimg.com/originals/ab/8e/50/ab8e505b04d4abc8f23e273c15f8a65d.jpg",
         "/data/tattoos",
         "tattoos"
        ],
        [
         7922,
         "a584581c-1b38-4731-a1cc-f36115ecf229",
         "45 Top Life Quotes School Did Not Teach You",
         "summcoco gives you inspiration for the women fashion trends you want. Thinking about a new look or lifestyle? This is your ultimate resource to get the hottest trends. 45 Top Li… ",
         306000,
         "Sumcoco | Decor Ideas, Hairstyles, Nails Fashion Advice",
         "Life Quotes Love,Inspirational Quotes About Love,Mood Quotes,Motivational Quotes,Tears Quotes,Quotes About Sadness,Deep Quotes About Life,Quotes Quotes,Quote Life",
         "image",
         "https://i.pinimg.com/originals/bb/c0/e6/bbc0e6a797079505f11ac12bcb0b8c66.jpg",
         "/data/quotes",
         "quotes"
        ],
        [
         1014,
         "9ac94307-bb27-410e-b554-0a0ab6c19847",
         "Hairstyles & Beauty",
         "Untitled",
         0,
         "Grecia Perales",
         "Hair Inspo,Hair Inspiration,Motivation Inspiration,Cl Rapper,Foto Glamour,Kreative Portraits,Classy Aesthetic,Pretty Hairstyles,Hair Looks",
         "image",
         "https://i.pinimg.com/originals/af/c4/59/afc459bd6e1fd8f9aef212504afebf3a.jpg",
         "/data/beauty",
         "beauty"
        ],
        [
         4913,
         "4d2d79c6-9ca8-46c9-a38e-931c5d967804",
         "How to Work From Home as an Event Planner",
         "Do you love planning parties? Do you want to work-at-home? This post covers everything you need to know about becoming a home-based event planner!",
         110000,
         "The Work at Home Woman",
         "Event Planning Tips,Event Planning Business,Party Planning,Business Ideas,Craft Business,Business Chic,Business Inspiration,Business Goals,Business Opportunities",
         "image",
         "https://i.pinimg.com/originals/4d/a3/a4/4da3a4730418239f1b43ce81fb032c15.jpg",
         "/data/event-planning",
         "event-planning"
        ],
        [
         4137,
         "bf275054-4464-448b-9143-1bf101aa366d",
         "15 Essential Classroom Items For First Year Teachers / First Year Teacher Must Haves",
         "15 Essential Classroom Items For First Year Teachers / First Year Teacher Must Haves",
         5000,
         "Write Your Story | Budgeting, Healthy Lifestyle, Faith",
         "1st Year Teachers,First Year Teaching,First Grade Teachers,Elementary Teacher,Montessori Elementary,Teaching Reading,History Teachers,High School Classroom,First Grade Classroom",
         "image",
         "https://i.pinimg.com/originals/4b/b9/a8/4bb9a85f609a8384ed9c9ab14e7bcea0.jpg",
         "/data/education",
         "education"
        ],
        [
         7166,
         "4a844b03-e161-47a1-904b-591eb5dc4fb1",
         "The Killers - Mr. Brightside - Women's T-Shirt - Heather Dark Grey / S",
         "Women's T-shirt. Design inspired by the rock band The Killers' hit \"Mr. Brightside\". One of the greatest song from the album Hot Fuss released in 2004. Soft and light, 100% cott… ",
         27,
         "Mala Rock | Rock T-shirts",
         "Mr Brightside,Rock T Shirts,Greatest Songs,Timeless Classic,Rock Bands,Album,T Shirts For Women,Inspired,Hot",
         "image",
         "https://i.pinimg.com/originals/8c/42/39/8c42391d35fcad51a4a79f7cd81bf26d.jpg",
         "/data/mens-fashion",
         "mens-fashion"
        ],
        [
         9546,
         "efd5b2d6-2f69-40cd-bb59-41f18c089e52",
         "20 Amazing Trips to Take in Your Twenties!",
         "The best trips to take when you are young!",
         89000,
         "The World Pursuit Travel Website",
         "Fun Places To Go,Beautiful Places To Travel,Best Places To Travel,Travel Jobs,Holiday Places,Future Travel,Travel Around The World,Adventure Travel,Travel Photos",
         "video",
         "https://i.pinimg.com/videos/thumbnails/originals/81/97/c1/8197c1beef8bcb19bea5d8b422211f34.0000001.jpg",
         "/data/travel",
         "travel"
        ],
        [
         2411,
         "4e11801e-7a64-4f1e-90dd-e900677595c5",
         "The Sweetest Gingerbread House Ornaments Kids Can Make",
         "Transform mini terra cotta pots into the sweetest gingerbread house ornaments! Kids will love making this adorable Christmas craft to hang on the tree.",
         20000,
         "Projects with Kids",
         "Noel Christmas,Diy Christmas Ornaments,Homemade Christmas,Simple Christmas,Gingerbread Ornaments,Christmas Gingerbread,Gingerbread Houses,Preschool Christmas,Ornaments Ideas",
         "image",
         "https://i.pinimg.com/originals/13/28/09/1328097d7c290d1bf8642b01a6ba1c6c.jpg",
         "/data/christmas",
         "christmas"
        ],
        [
         9590,
         "b849e976-52f6-45d7-8b25-51559318f167",
         "Top 20 Things To See And Do In Ireland",
         "Best spots to see for travel through Ireland!",
         130000,
         "Fun Life Crisis",
         "Vacation Ideas,Vacation Spots,Emerald Isle,London England,Travel Guides,Travel Tips,Travel Hacks,Travel Packing,Places To Travel",
         "image",
         "https://i.pinimg.com/originals/c7/50/d3/c750d36524856873d64406652d69b4fb.png",
         "/data/travel",
         "travel"
        ],
        [
         2698,
         "73f16302-4871-486a-8836-947530526337",
         "DIY Dollar Tree Valentine's Day Wreath",
         "DIY Dollar Store Valentine’s Day Heart Wreath Decoration. There are so many great Valentine crafts at the Dollar Tree right now! During our last trip, we picked up a few supplie… ",
         9000,
         "South Lumina Style",
         "Valentine Day Wreaths,Valentines Day Hearts,Valentines Day Decorations,Valentine Day Crafts,Holiday Crafts,Diy Christmas,Christmas Wreaths,Valentine Tree,Printable Valentine",
         "image",
         "https://i.pinimg.com/originals/dc/f6/8a/dcf68adcc63c339c24fa5664f1115994.png",
         "/data/diy-and-crafts",
         "diy-and-crafts"
        ],
        [
         4508,
         "9064f4a2-2753-476c-815e-db360f45a93e",
         "Custom Event and Shop Neon Sign Lights - Event & Shop",
         "Personalize your event or shop with a customized neon sign. Make a statement with your own custom vibes! This light is 32 -40 inches (80cm-100cm) if you need something bigger, p… ",
         111,
         "Life of Neon | Custom Neon Light Signs | Home Decor Wall Art",
         "Our Wedding,Wedding Venues,Dream Wedding,Wedding Cakes,Church Wedding,Wedding Flowers,Lace Wedding,Wedding Rings,Wedding Dresses",
         "image",
         "https://i.pinimg.com/originals/e9/c0/7c/e9c07cf0cf16cab23764a36718ab76c1.jpg",
         "/data/event-planning",
         "event-planning"
        ],
        [
         831,
         "5e65914d-9f58-4ff1-9676-658e426e8ce5",
         "creating mixed-media faces tutorial",
         "Free quick inspirational video on creating a mixed media face with acrylic, collage, stenciling and simple techniques. Come on over to watch",
         27000,
         "Shawn Petite",
         "Collage Kunst,Paper Collage Art,Collage Art Mixed Media,Mixed Media Painting,Mixed Media Canvas,Canvas Collage,Art Collages,Wall Canvas,Canvas Art",
         "video",
         "https://i.pinimg.com/videos/thumbnails/originals/05/86/a4/0586a4116e1fc34efc25e064ccd123e8.0000001.jpg",
         "/data/art",
         "art"
        ],
        [
         5076,
         "fa3af29c-dc78-4eed-a4c5-52a407ea04c0",
         "Quiz: Test Your Event IQ! - Pointers For Planners",
         "So you're thinking of getting your event planner certification, but how much do you REALLY know about event planning? Event planners need to be knowledgeable and able to answer… ",
         5000,
         "QC Career School",
         "Diy Wedding Food,Best Wedding Makeup,Wedding Events,Wedding Tips,Wedding Stuff,Weddings,Event Planning Business,Business Events,Wedding Makeup Tutorial",
         "image",
         "https://i.pinimg.com/originals/6f/19/bc/6f19bce24921bf843540fc04da9eb6bf.jpg",
         "/data/event-planning",
         "event-planning"
        ],
        [
         10663,
         "d5208c16-82ae-4fd1-87f0-36e5ef789412",
         "21+ Classic Car Picture of the 1950s - Vintagetopia",
         "There are a lot of options of places to stay so you probably only have to book the initial one so you know the best place to land from the airport",
         171000,
         "vintagetopia",
         "Old Classic Cars,Classic Trucks,Old Vintage Cars,Antique Cars,Vintage Trucks,Antique Trucks,Cadillac,Convertible,Mustang",
         "image",
         "https://i.pinimg.com/originals/e9/01/4d/e9014d537dd2b81c606e8466cef3904c.jpg",
         "/data/vehicles",
         "vehicles"
        ],
        [
         5468,
         "91ee49f6-0070-4270-ba19-fde88ba51c91",
         "Budgets, Spouses & Making It Work! - Tshanina Peterson",
         "Don't fight about budgets and money with your spouse! Here are a few tips that we've found that make it work in our marriage!",
         313,
         "Annamarie Hilton",
         "Ways To Save Money,Money Tips,Money Saving Tips,How To Make Money,Managing Money,Saving Time,College Fund,Scholarships For College,Education College",
         "image",
         "https://i.pinimg.com/originals/37/d5/82/37d58296bcef3471a633c76b89d8625e.jpg",
         "/data/finance",
         "finance"
        ],
        [
         205,
         "f4afd543-b9fe-44c3-8064-f2198faa1372",
         "DIY Abstract Heart Painting and a Fun Paint Party",
         "Use our easy step by step tutorial to create a DIY abstract heart painting on any canvas size. Lots of inspiration to help you choose colors.",
         410000,
         "The Creativity Exchange",
         "Painting & Drawing,Watercolor Paintings,Original Paintings,Owl Watercolor,Acrylic Paintings,Owl Art,Bird Art,Beginner Painting,Animal Paintings",
         "image",
         "https://i.pinimg.com/originals/33/85/f8/3385f82ee5e8ecdcccdf798bdcbee3d2.jpg",
         "/data/art",
         "art"
        ],
        [
         7790,
         "9cd89fb9-d1af-4e66-85ca-c9d656c918b4",
         "50 Heart Touching Sad Quotes That Will Make You Cry",
         "Are you looking for some heart touching sad quotes and sayings; Here we have collected for you 50 best heart touching sad quotes..",
         112,
         "AnnaLee Kick",
         "Crush Quotes For Girls,Sad Crush Quotes,Hurt Quotes,Love Me Quotes,Mood Quotes,Quotes To Live By,Life Quotes,Quotes Quotes,Sad Quotes That Make You Cry",
         "image",
         "https://i.pinimg.com/originals/0c/0f/40/0c0f408d96458080e0c82adb50be8e8f.jpg",
         "/data/quotes",
         "quotes"
        ],
        [
         8606,
         "71757040-bfc8-4631-9cac-22801e61d9e3",
         "30+ Eagle Tattoos Ideas for Women",
         "summcoco gives you inspiration for the women fashion trends you want. Thinking about a new look or lifestyle? This is your ultimate resource to get the hottest trends. 30+ Eagle… ",
         306000,
         "Sumcoco | Decor Ideas, Hairstyles, Nails Fashion Advice",
         "White Bird Tattoos,Rose Tattoos,Flower Tattoos,Tattoo Black,Bird And Flower Tattoo,Tattoo Floral,Mini Tattoos,Flower Art,Girls With Sleeve Tattoos",
         "image",
         "https://i.pinimg.com/originals/8d/c6/ed/8dc6ed0b212393187a14c7d07a88060f.png",
         "/data/tattoos",
         "tattoos"
        ],
        [
         9759,
         "d105eb6e-0f9f-46e7-8d02-d24b62f6ae90",
         "8 Best Greek Islands You Have To Visit - TheFab20s",
         "Although you'd think Greek islands are fairly similar, you'd be completely wrong! Each island has it's own personality and appeal. Here are the 8 Best Greek Islands to visit, es… ",
         42000,
         "TheFab20s | Travel+Food+DIY+Listicles",
         "Greek Islands To Visit,Best Greek Islands,Greece Islands,Cool Places To Visit,Places To Go,Best Places In Portugal,Copenhagen Travel,Paros Island,Santorini Island",
         "image",
         "https://i.pinimg.com/originals/06/1d/ce/061dce38929dec8e74844442116bea4a.jpg",
         "/data/travel",
         "travel"
        ],
        [
         719,
         "d7c53e34-9540-4f48-a31b-89b6ed1852bb",
         "10 Art Sub Lessons that only need a Pencil",
         "10 art sub lessons that only need a pencil. Cover lessons for art teachers. Make the perfect art sub lessson folder with this amazing resources.",
         25000,
         "The Arty Teacher",
         "Art Lessons For Kids,Art Lessons Elementary,Art For Kids,Art Sub Plans,Art Lesson Plans,Art Substitute Plans,High School Art,Middle School Art,Primary School Art",
         "image",
         "https://i.pinimg.com/originals/ee/a8/78/eea878911033897d981a69d9f6b2fb7c.png",
         "/data/art",
         "art"
        ],
        [
         1704,
         "5fbf9863-fb79-477c-a5b6-540c3020a55f",
         "Christmas Trees From Pallet Wood | Holiday DIY",
         "Christmas Trees From Pallet Wood | Holiday DIY: Deck the yard with some fun outdoor Christmas Trees! We made these merry and bright decorations from two old pallets we had lying… ",
         3000000,
         "Instructables",
         "Pallet Wood Christmas Tree,Wooden Christmas Crafts,Diy Christmas Tree,Christmas Projects,Holiday Crafts,Wooden Xmas Trees,Different Christmas Trees,Pallet Tree,Christmas Kitchen",
         "image",
         "https://i.pinimg.com/originals/64/7b/ca/647bca35169b7c144604116c64bcba8a.png",
         "/data/christmas",
         "christmas"
        ],
        [
         2482,
         "08604f20-fa17-4b9a-9949-781717eca6cd",
         "FORNT PORCH CHRISTMAS DECORATING IDEAS",
         "Christmas decorating ideas for porches. Beautiful holiday decor ideas for front porches both small and large. Outdoor decorations like sleds, lanterns, Christmas trees, wreaths,… ",
         46000,
         "Life on Summerhill | Home, Holiday Decor & DIY Website",
         "Diy Christmas Decorations For Home,Farmhouse Christmas Decor,Christmas Home,Christmas Holidays,Christmas Front Porches,How To Decorate For Christmas,Christmas Porch Ideas,Christmas Decorating Ideas,Large Outdoor Christmas Decorations",
         "video",
         "https://i.pinimg.com/videos/thumbnails/originals/40/83/f5/4083f5b4971bf235f89a4784ab87271e.0000001.jpg",
         "/data/christmas",
         "christmas"
        ],
        [
         8930,
         "a2999c28-f7b2-4577-af87-49d21d6d8a18",
         "135 Sunflower Tattoo Ideas - [Best Rated Designs in 2021]",
         "We have put together the Ultimative Sunflower Tattoo Collection in 2020. Check out our highest rated handpicked Sunflower designs here!",
         800000,
         "Next Luxury",
         "Sunflower Tattoo Sleeve,Sunflower Tattoo Shoulder,Sunflower Tattoo Small,Sunflower Tattoos,Sunflower Tattoo Design,Shoulder Tattoo,Sunflower Mandala Tattoo,Sunflower Tattoo Meaning,Form Tattoo",
         "image",
         "https://i.pinimg.com/originals/18/de/6c/18de6c81a8637e224c7d63dce1414ceb.jpg",
         "/data/tattoos",
         "tattoos"
        ],
        [
         7294,
         "9d8409ef-bea7-4133-a021-c58b9c042210",
         "Foolproof Fall Fashion For Men You'll Love",
         "Looking for the coolest fall fashion for men this season? Click to read this article on fall fashion for men to look sharp on LLEGANCE.",
         28000,
         "LLEGANCE | Workwear Fashion Woman Advice For Driven Professionals",
         "Fashion 90s,Autumn Fashion,Fashion Ideas,Trendy Fashion,Fashion Photo,Fashion Outfits,Fashion Trends,Urban Fashion Men,Men's Casual Fashion",
         "image",
         "https://i.pinimg.com/originals/4c/bf/2d/4cbf2d6e04d2502612169220553f4cef.jpg",
         "/data/mens-fashion",
         "mens-fashion"
        ],
        [
         808,
         "23f67e42-db9f-4aae-8b82-cbec64ad9f4d",
         "Chalk Pastel Hot Chocolate Art Project",
         "Kids will use chalk pastels and black paper to create this bold and bright hot chocolate art project! Easy to follow tutorial included.",
         20000,
         "Projects with Kids",
         "Hot Chocolate Art,Chocolate Crafts,Art Activities For Kids,Preschool Art,Preschool Winter,Christmas Activities,Winter Art Projects,Clay Art Projects,Chalk Pastel Art",
         "image",
         "https://i.pinimg.com/originals/5a/d3/82/5ad38202cf8acb022cb8f46ce2a78ad6.jpg",
         "/data/art",
         "art"
        ],
        [
         771,
         "a5021766-a8aa-4dc7-9857-4da6b8e3dc1a",
         "African Sunset Shadow Tracing Art - Taming Little Monsters",
         "Use your mini world figures to create this beautiful African sunset. Your kids will love learning about shadows, angles and distortion in this fun art and STEM activity for kids.",
         4000,
         "Taming Little Monsters - Fun Activities for Kids",
         "African Art Projects,Cool Art Projects,Projects For Kids,African Art For Kids,African Crafts Kids,Art Club Projects,Art Education Projects,Tracing Art,African Sunset",
         "image",
         "https://i.pinimg.com/originals/e3/aa/35/e3aa350f8f104d0e59f26d7f17ea7461.png",
         "/data/art",
         "art"
        ],
        [
         4076,
         "3a52d364-7c04-47cb-a3e5-56d9e2b77528",
         "Phonics Activities Your Kids Will Love - The Literacy Nest",
         "Hi everyone! As a teacher using the Orton-Gillingham approach, I am constantly looking for phonics activities that my students will find fun and engaging. Using Orton-Gillingham… ",
         22000,
         "The Literacy Nest",
         "Literacy Games,Kindergarten Activities,Literacy Centers,Fun Phonics Activities,Listening Activities,Vocabulary Games,Literacy Stations,Letter Activities,Montessori Activities",
         "image",
         "https://i.pinimg.com/originals/58/8e/38/588e380b19942a71a86a69d9c9973d25.png",
         "/data/education",
         "education"
        ],
        [
         1545,
         "0c629541-cc5b-4b61-bd3f-613346893258",
         "Oil Cleansing Method: What it is and why you should do it.",
         "The oil cleansing method is a simple, natural way to have clean skin without using toxic chemicals. It will leave your face radiant and soft!",
         85000,
         "Thank Your Body",
         "Beauty Care,Diy Beauty,Beauty Hacks,Beauty Shop,Oil Cleansing Method,Goji,Korean Skincare Routine,Homemade Beauty Products,Organic Beauty",
         "image",
         "https://i.pinimg.com/originals/2c/1c/da/2c1cda7da86ee711536bbacfe89c75c9.jpg",
         "/data/beauty",
         "beauty"
        ],
        [
         2293,
         "1fd7d4cc-54c1-4542-9c1f-449cb4c875f4",
         "Over 40 of the BEST Homemade Christmas Ornament Ideas",
         "Over 40 of the BEST Homemade Christmas Ornaments...these easy Holiday crafts are so fun to make for Kids and Adults! Lots of great class party ideas!",
         245000,
         "Kitchen Fun With My 3 Sons",
         "Diy Christmas Lights,Homemade Christmas Decorations,Christmas Crafts For Gifts,Mini Christmas Tree,Christmas Ornament Crafts,Homemade Christmas Gifts,Xmas Decorations,Simple Christmas,Handmade Christmas",
         "image",
         "https://i.pinimg.com/originals/d0/d3/a3/d0d3a31e87296224d5ba8896904b5b88.jpg",
         "/data/christmas",
         "christmas"
        ],
        [
         10509,
         "6a5f0e7e-1389-4e54-942f-4cb69f09f140",
         "Flying Car",
         null,
         89000,
         "TheSuperBOO!",
         "Electric Off Road Vehicle,Cool Illusions,Flying Vehicles,Wow Video,Art And Craft Videos,Top Luxury Cars,Chevy Muscle Cars,Street Racing Cars,Funny Videos Clean",
         "multi-video(story page format)",
         "https://i.pinimg.com/videos/thumbnails/originals/4a/d4/96/4ad4961606179854f1141a90f50f002c.0000001.jpg",
         "/data/vehicles",
         "vehicles"
        ],
        [
         2015,
         "72359164-4419-452c-81cb-74f30a5a26b7",
         "16 Blissful Christmas Table Decor Ideas That You Must See",
         "Take a look at this new collection of Christmas decor featuring 16 Blissful Christmas Table Decor Ideas That You Must See. Happy holidays!",
         616000,
         "ArchitectureArtDesigns",
         "Kids Crafts,Christmas Crafts For Kids,Homemade Christmas,Christmas Projects,Holiday Crafts,Christmas Gift Ideas,Preschool Christmas,Tree Crafts,Christmas Inspiration",
         "image",
         "https://i.pinimg.com/originals/5f/70/30/5f7030a35bb8a1491e915fb0ae29bcf5.jpg",
         "/data/christmas",
         "christmas"
        ],
        [
         1094,
         "6deacdcd-75ed-4dd8-8951-9b77453f38e0",
         "9 colors lazy lipstick - 9 colors lazy lipstick4",
         "9 colors lazy lipstick",
         8000,
         "Jiew82633",
         "Nail Inspo,Lazy,Lipstick,How To Apply,Makeup,Colors,Products,Make Up,Lipsticks",
         "image",
         "https://i.pinimg.com/originals/25/cf/8c/25cf8cb74b43ab95591342c2bbe4ecd8.jpg",
         "/data/beauty",
         "beauty"
        ],
        [
         603,
         "78e21a64-53b0-4745-8294-e8c456f0ccc1",
         "How to Create Alcohol Ink Rings For Gorgeous Pieces of Art -",
         "Learn to create alcohol ink rings for gorgeous pieces of art. Each ring sits on top of another, giving a multilayered appearance",
         7000,
         "Kim Cook-Thirteen Chairs-Slates Mugs And Tees",
         "Alcohol Ink Tiles,Alcohol Ink Glass,Alcohol Ink Crafts,Alcohol Ink Painting,Pour Painting,Zealand Tattoo,Copics,Types Of Art,Art Techniques",
         "image",
         "https://i.pinimg.com/originals/03/03/1f/03031fdc9775d0c06f61d68e51362379.png",
         "/data/art",
         "art"
        ],
        [
         7768,
         "ae1a61f6-d958-40fe-ba93-6a78b3a73178",
         "16 Motivational Quotes Get You Inspired Today - Boss Babe Chronicles",
         "motivation quotes",
         45000,
         "Boss Babe Chronicles | Personal Development, Finances, Self Care",
         "Motivacional Quotes,Motivational Quotes For Life,Uplifting Quotes,True Quotes,Words Quotes,Empowering Quotes,Boss Up Quotes,Inspirational Success Quotes,Boss Babe Quotes Work Hard",
         "image",
         "https://i.pinimg.com/originals/ee/b4/bc/eeb4bccdb074edb787ea61711e0c4dfd.jpg",
         "/data/quotes",
         "quotes"
        ],
        [
         5630,
         "d41e703c-c97c-4c5a-9f9c-338982ca7504",
         "7 Insanely Useful Money Management Worksheets",
         "Get your personal finance in order with these 8 fr…",
         46000,
         "R.J. Weiss at The Ways To Wealth | Personal Finance | Debt Payoff",
         "Ways To Save Money,Money Tips,Money Saving Tips,Money Budget,Saving Ideas,Budgeting Finances,Budgeting Tips,Planning Budget,Budget Planer",
         "image",
         "https://i.pinimg.com/originals/f1/4f/cc/f14fcc75ee73ff22c983bdce70c022e2.jpg",
         "/data/finance",
         "finance"
        ],
        [
         8578,
         "036ec267-658b-4dad-a097-8ef0b4f30c0d",
         "Snake Collarbone Temporary Tattoo. Halloween Tattoos  Spooky | Etsy",
         "Snake temporary tattoo for collarbone. Spooky 3D tattoo for Halloween Includes 2 copies, 1 for the right side and 1 for the left side Apply with water and remove anytime with ba… ",
         0,
         "Livitrevisani",
         "Finger Tattoo Designs,Small Tattoo Designs,Finger Tattoos,Small 3d Tattoos,Cool Tattoos,Line Work Tattoo,Back Tattoo,Collarbone Tattoo,Tattoo Neck",
         "image",
         "https://i.pinimg.com/originals/d8/b7/a1/d8b7a11a3fe64e7fab91d3afb1536537.jpg",
         "/data/tattoos",
         "tattoos"
        ],
        [
         9936,
         "1f3154a6-13f0-4049-8d5c-faea15b9f07c",
         "Chasing Waterfalls in Costa Rica",
         "Volcanoes, hikes, and hot springs in Costa Rica! The ultimate 5 day travel itinerary. - #costarica #travel #blogging #blog #bucketlist",
         22000,
         "Jess Wandering",
         "Costa Rica Reisen,Costa Rica Travel,Vacation Places,Dream Vacations,Vacation Spots,Vacation Food,Vacation Ideas,Voyage Dubai,Beautiful Places To Travel",
         "image",
         "https://i.pinimg.com/originals/60/fe/4c/60fe4c3602e8e50e2e9f787ed27d2aba.jpg",
         "/data/travel",
         "travel"
        ],
        [
         6844,
         "69c3f268-274f-44bd-9cb4-427e64fefc44",
         "♔the-fashman♔",
         "billy-george: “Summer styles ”",
         377,
         "Au'vey Smith",
         "Fashion Week Hommes,La Fashion Week,Fashion Moda,Urban Fashion,Trendy Fashion,Fashion Spring,Fashion 2017,New Mens Fashion,Trendy Clothing",
         "image",
         "https://i.pinimg.com/originals/3c/8c/53/3c8c534cd02334c50047bd3a4feccce9.jpg",
         "/data/mens-fashion",
         "mens-fashion"
        ],
        [
         3419,
         "d0b80187-0171-49b2-8ee4-572984244f65",
         "Easy Christmas Tree Crafts Ideas for toddlers and preschoolers | Sharing Our Experiences",
         "Easy Christmas tree Craft Ideas for toddlers and preschoolers. Engage your kids in these DIY",
         3000,
         "Kids Crafts & Free Preschool Printables- Sharing Our Experiences",
         "Christmas Crafts For Kids To Make,Christmas Tree Painting,Christmas Activities For Kids,Easy Christmas Crafts For Toddlers,Kid Activities,Christmas Handprint Crafts,Christmas Tree Crafts,Christmas Baby,Xmas Tree",
         "image",
         "https://i.pinimg.com/originals/69/f0/75/69f075939d4449dffa69519756c30e26.png",
         "/data/diy-and-crafts",
         "diy-and-crafts"
        ],
        [
         1268,
         "e2f2cec5-cda5-42b2-ab9d-6dddf863e94e",
         "Janet on Twitter",
         "Here’s how to get long-lasting makeup, so you can do your face in the morning and be set for the entire day. Follow these makeup tips for foundation, lipstick and more using pro… ",
         3000,
         "Tony",
         "Beauty Makeup,Eye Makeup,Diy Beauty,Beauty Ideas,Beauty Skin,Homemade Beauty,Wolf Makeup,Oily Skin Makeup,Face Beauty",
         "image",
         "https://i.pinimg.com/originals/d9/d1/3b/d9d13b9ac47d54940f05a75345a873d4.jpg",
         "/data/beauty",
         "beauty"
        ],
        [
         6566,
         "6d8848f8-f515-4935-8dae-5dd02304d76e",
         "Navy and Neutral Fall Living Room + Kitchen Tour - Sand and Sisal",
         "Celebrate fall with a neutral color palette with natural elements. This Navy and Neutral Fall Living Room + Kitchen Tour will make you rethink fall decor.",
         178000,
         "Sand and Sisal",
         "Fall Living Room,Coastal Living Rooms,Living Room Paint,Living Room Kitchen,Living Room Interior,Living Room Furniture,Living Room Decor,Living Area,Small Living",
         "image",
         "https://i.pinimg.com/originals/f1/be/b6/f1beb6d3414f1c52929df39a83d8da9f.jpg",
         "/data/home-decor",
         "home-decor"
        ],
        [
         1555,
         "1f20551b-a21c-4ff0-b20d-49e95fdc50d3",
         "Skin Purging: Die Pflegemethode für reine Haut | ELLE",
         "Skin Purging sorgt für die reinste Haut, die du jemals hattest #skin äpurging #skinpurging #skincare #hautpflege #schönehaut #haut #beauty #tips",
         326000,
         "ELLE Germany",
         "Natural Hair Mask,Natural Hair Styles,Natural Beauty,Skin Tag,How To Apply Makeup,Pimples,Beauty Routines,Skincare Routine,Glowing Skin",
         "image",
         "https://i.pinimg.com/originals/93/b2/7b/93b27be044b2fd2f227f30a7f2c2faf2.jpg",
         "/data/beauty",
         "beauty"
        ],
        [
         3729,
         "ac90f1d2-dc9e-438c-b073-dd48511b80b0",
         "5 + Nature Games for Your Homeschool",
         "Our family would rather spend time outdoors than indoors. We love nature! That said, sometimes mother nature is uncooperative. On these days, it can be fun to pull out some natu… ",
         9000,
         "My Little Poppies (Cait Curley, MA/CAGS)",
         "Diy Nature,Theme Nature,Nature Study,Science And Nature,Summer Science,Earth Science,Nature Crafts,Outdoor Education,Outdoor Learning",
         "image",
         "https://i.pinimg.com/originals/d6/3b/1a/d63b1a2a36534ecac5d1fbd0d932403a.jpg",
         "/data/education",
         "education"
        ],
        [
         6398,
         "ea44d318-2ced-4cf8-a66f-a6a036b84faa",
         "My master bathroom makeover with @flooranddecor ! Follow me on Instagram @Mojisstyle for more",
         null,
         117000,
         "MojisStyle",
         "Decor Home Living Room,Home And Living,Diy Bedroom Decor,Home Decor,Bathroom Interior Design,Interior Design Living Room,Dream Home Design,House Design,Beautiful Bathrooms",
         "multi-video(story page format)",
         "https://i.pinimg.com/videos/thumbnails/originals/75/48/3b/75483b74822855519ec8b40df4c670ef.0000001.jpg",
         "/data/home-decor",
         "home-decor"
        ],
        [
         46,
         "19234073-8905-4885-b0d5-98e0b84cbf27",
         "10 Watercolor Hacks For Beginners | Tips and Tricks to Making Watercolor Painting Easier",
         "Mountain monologue watercolor",
         27000,
         "It's me, JD | DIY, Crafts, Home & Organization",
         "Arte Inspo,Kunst Inspo,Watercolor Artists,Watercolor Ideas,Simple Watercolor,Tattoo Watercolor,Watercolor Techniques,Watercolor Animals,Watercolor Illustration",
         "image",
         "https://i.pinimg.com/originals/fd/54/89/fd548935dcb13545120a2115baaa41d9.jpg",
         "/data/art",
         "art"
        ],
        [
         4988,
         "fbdfd355-a356-46c2-a251-301869ae2674",
         "Fun Book Page Crafts - MomAdvice",
         "Fun Book Page Crafts - MomAdvice",
         112000,
         "MomAdvice",
         "Harry Potter Wedding,Harry Potter Theme,Wedding Book,Wedding Table,Wedding Ideas,Wedding Vintage,Garden Wedding,Vintage Party,Wedding Paper",
         "image",
         "https://i.pinimg.com/originals/17/55/87/175587b334e71c12300453b8b4b4c6aa.jpg",
         "/data/event-planning",
         "event-planning"
        ],
        [
         427,
         "4a455340-09a2-4370-ad86-73d7964603db",
         "DIY Acrylic Paint Pouring Wall Art - Abbotts At Home",
         "Easy to follow steps for this easy DIY wall art. Acrylic Paint Pouring with a blow dryer, Dutch paint pour. Written steps and full step by step video to help you do it too! 👍",
         52000,
         "Abbotts At Home",
         "Acrylic Pouring Art,Acrylic Wall Art,Acrylic Pouring Techniques,Acrylic Paintings,Art Paintings,Marble Art,Marble Painting,Pour Painting,Large Canvas Art",
         "video",
         "https://i.pinimg.com/videos/thumbnails/originals/d5/5e/fa/d55efa6ef50d35dac425cea935f39c89.0000001.jpg",
         "/data/art",
         "art"
        ],
        [
         3800,
         "d2c367ed-9287-4ea3-b173-198b292d9981",
         "Reinforcing the Difficult Child When Token Boards Don't Work!",
         "behavior, special education, token boards, when token boards don't work, money token systems",
         11000,
         "Traci Bender - The Bender Bunch",
         "Special Education Behavior,Classroom Behavior Management,Behavior Plans,Behaviour Management,Behavior Charts,Behavior Board,Behavior Report,Behavior Analyst,Preschool Special Education",
         "image",
         "https://i.pinimg.com/originals/24/f9/e2/24f9e22ada4a79c61432ef6c8fe1d0f9.jpg",
         "/data/education",
         "education"
        ],
        [
         159,
         "841a161a-47b8-4161-884d-adeb67a28b1e",
         "Valentine's Day Bee Directed Drawing {Art Project}",
         "This bee directed drawing and associated pages will help you create a fun and creative Valentine's Day Directed Drawing Art Project activity for your class.Choose to do a painti… ",
         1000000,
         "Teachers Pay Teachers",
         "Classroom Art Projects,School Art Projects,Art Classroom,Art Projects For Kindergarteners,Spring Art Projects,Classroom Posters,Valentines Art Lessons,Valentines Day Activities,Grade 1 Art",
         "image",
         "https://i.pinimg.com/originals/49/ff/2e/49ff2e83c0cefdd37213f6084c6f0566.jpg",
         "/data/art",
         "art"
        ],
        [
         3599,
         "ff0dd945-dafa-411c-8cef-eb43e374e815",
         "Educational Leadership in Aotearoa New Zealand : Issues of Context and Social Justice",
         "This book presents 10 inspirational case studies of how centre leaders, principals and leadership teams in high-needs New Zealand educational settings have enacted leadership to… ",
         2000000,
         "Walmart",
         "Research Studies,Educational Leadership,Education System,Secondary School,Try It Free,Book Format,Social Justice,Young People,Paperback Books",
         "image",
         "https://i.pinimg.com/originals/0e/ea/c4/0eeac457780bbe43fcc5e9eaabd80f62.jpg",
         "/data/education",
         "education"
        ],
        [
         10552,
         "17301b8c-ccbb-42ad-b2df-3876df35b1cd",
         "The Prowler Emergency Response Vehicle",
         "January 23, 2009 We can see emergency responders queueing up for this one. ATVCorp has created versions of its Prowler Light Tactical All Terrain Vehicle (LTATV) for fire-fighti… ",
         314,
         "p hump",
         "Army Vehicles,Armored Vehicles,Go Kart Buggy,Atv Attachments,Aviation Fuel,Special Forces,Special Ops,Terrain Vehicle,Emergency Response",
         "image",
         "https://i.pinimg.com/originals/14/6b/6b/146b6b1a1127773f7046e08550e68ed0.jpg",
         "/data/vehicles",
         "vehicles"
        ],
        [
         1422,
         "7bbe860c-a739-4ba9-babd-feb24bb6e4d9",
         "41 Life-Saving Beauty Hacks Every Girl Should Have In Her Arsenal",
         "Might try this... I'm generally skeptical about at-home remedies, but I know baking soda and lemons both do wonders. More",
         5000000,
         "BuzzFeed",
         "Baking Soda Lemon Juice,Diy Beauté,Tips Belleza,Belleza Natural,Health And Beauty Tips,Beauty Secrets,Beauty Advice,Diy Beauty Tips,Beauty Life Hacks",
         "image",
         "https://i.pinimg.com/originals/c8/ab/af/c8abaffc56050f674eef8e65ad684929.jpg",
         "/data/beauty",
         "beauty"
        ],
        [
         5309,
         "c38bb47b-9584-4fc4-af0d-a31e1061df41",
         "How to Watch Your Favorite Shows Without Cable",
         "How to Get Rid of Cable and Still Watch all of your favorite shows! Saving Money Tips for TV & Cable!",
         330000,
         "Passion For Savings",
         "Ways To Save Money,Money Tips,Money Saving Tips,Money Hacks,Managing Money,Cable Tv Alternatives,Budget Planer,Financial Tips,Financial Planning",
         "image",
         "https://i.pinimg.com/originals/c9/18/be/c918be2784382dc49010719bf1742a61.jpg",
         "/data/finance",
         "finance"
        ],
        [
         552,
         "b82602a9-e434-42cf-9481-22f3f41d82ce",
         "The herbal bed: Katie Scott's psychedelic flora and fauna – in pictures",
         "Nike trainers sprout plants and French perfumiers inspire by mysterious scientific icons in Katie Scott’s visions that take botanical illustration into the digital age",
         908000,
         "The Guardian",
         "Art And Illustration,Illustration Inspiration,Botanical Illustration,Vintage Illustrations,Botanical Drawings,Botanical Prints,Arte Inspo,Insect Art,Psychedelic",
         "image",
         "https://i.pinimg.com/originals/16/8a/fa/168afae02d5ffc71da10cdb312de2cb1.jpg",
         "/data/art",
         "art"
        ],
        [
         1371,
         "33e92ac1-73d1-4c31-9892-d5e633060790",
         "How To Do Makeup - Step By Step Tips For The Perfect Look",
         "What are the basic things you need for makeup? Let’s be honest, ladies; all women can do makeup, yet not all women know how to do makeup right. The good news is, this post can t… ",
         799000,
         "Glaminati",
         "Contouring Makeup,Skin Makeup,Beauty Makeup,Makeup Brushes,Eyeliner Makeup,Makeup Tips Lips,Makeup 101,Cheap Makeup,Rosa Eyeliner",
         "image",
         "https://i.pinimg.com/originals/2c/1a/d4/2c1ad45b5c54034a2dbc73c84a89f5e4.jpg",
         "/data/beauty",
         "beauty"
        ],
        [
         10119,
         "40eab9ba-7812-4f26-baca-35a6bed95a9f",
         "How to Afford Family Travel: 10 Mistakes You're Making (and what to do instead) | Our Next Adventure",
         "See families traveling all the time and wonder, \"how the heck do they afford this?\" Read 10 mistakes you might be making, and what you should do instead.",
         9000,
         "OUR NEXT ADVENTURE | family travel blog",
         "Family Vacation Destinations,Vacation Trips,Travel Destinations,Vacation Ideas,Cheap Family Vacations,Vacation Travel,Best Family Vacation Spots,Vacation Quotes,Vacation Memories",
         "image",
         "https://i.pinimg.com/originals/0a/49/fb/0a49fbcec746c4219d3a6f30834f378e.jpg",
         "/data/travel",
         "travel"
        ],
        [
         9074,
         "2adede06-7fb0-4b5f-8cf9-ce8e6d6fa6a1",
         "77 Disney Tattoos To Unleash Your Magic Power - Our Mindful Life",
         "Disney characters never go out with time. From small to bold, here are the best Disney tattoos that both adults and children will adore.",
         190000,
         "Our Mindful Life",
         "Small Disney Tattoos,Disney Thigh Tattoo,Matching Disney Tattoos,Disney Couple Tattoos,Disney Inspired Tattoos,Disney Sleeve Tattoos,Matching Best Friend Tattoos,Small Tattoos,3 Best Friend Tattoos",
         "image",
         "https://i.pinimg.com/originals/29/1d/13/291d1361e275358df53c1db02b63d3a4.jpg",
         "/data/tattoos",
         "tattoos"
        ],
        [
         2604,
         "087b0fa9-f901-4262-aa0a-6caf234d1b35",
         "75+ Neutral Christmas Home Decor for the Holiday Season in Farmhouse Style using Earth Tones Modern",
         "My favorite 75+ Neutral Christmas Home Decor for decorating your house during the Holiday Season in earth tones and a farmhouse, rustic style all winter. I love this modern, sim… ",
         31000,
         "Everyday Wholesome",
         "Colorful Christmas Decorations,Colorful Christmas Tree,Christmas Centerpieces,Christmas Colors,Xmas Colors,Winter Decorations,Christmas Trends,Christmas Inspiration,Christmas Home",
         "image",
         "https://i.pinimg.com/originals/86/84/39/868439dd894969e3abd6a2a8a9fe1e9c.jpg",
         "/data/christmas",
         "christmas"
        ],
        [
         223,
         "8672f996-6ce9-403e-9599-2c4df668f1e0",
         "Easy Gouache painting",
         null,
         29000,
         "Jasminxg",
         "Simple Canvas Paintings,Easy Nature Paintings,Tree Paintings,Cool Paintings,Watercolor Art Lessons,Watercolor Paintings For Beginners,Gouache Painting,Painting Art,Mandala Art Lesson",
         "multi-video(story page format)",
         "https://i.pinimg.com/videos/thumbnails/originals/17/49/16/1749164b93866d4eac32a52a3ccfd40a.0000001.jpg",
         "/data/art",
         "art"
        ],
        [
         8312,
         "ca3c9bb0-7281-4b9b-8abf-201da0b68d62",
         "8 Vision Board Ideas To Manifest Your Dreams - TheFab20s",
         "Trying to create your dream life but don't know where to start?! These vision board ideas are a great way to manifest a new you this year",
         42000,
         "TheFab20s | Travel+Food+DIY+Listicles",
         "Positive Self Affirmations,Positive Affirmations Quotes,Affirmation Quotes,Quotes Positive,Motivational Quotes For Success Positivity,Business Success Quotes,Positive Vibes,Motivational Quotes For Women,Affirmations For Love",
         "image",
         "https://i.pinimg.com/originals/36/d1/be/36d1be632cbf9b6c8e377a052b31d064.jpg",
         "/data/quotes",
         "quotes"
        ],
        [
         2858,
         "26f81da4-26a9-465b-b819-6099bc66e1c0",
         "50 Popular Spring Crafts For Kids You Need To Make",
         "Celebrate warmer weather & spring blooms with these 50 delightful spring crafts for kids. Bright, cheerful & fun to make these crafts are a guaranteed hit.",
         108000,
         "This Tiny  Blue House",
         "Spring Crafts For Kids,Diy For Kids,Arts And Crafts For Kids Toddlers,Spring Crafts For Preschoolers,Spring Craft Preschool,Simple Kids Crafts,Summer Crafts For Toddlers,Easy Preschool Crafts,Garden Crafts For Kids",
         "image",
         "https://i.pinimg.com/originals/f0/ca/c3/f0cac3e3b0c2ebf5f2d2e4f70455e794.jpg",
         "/data/diy-and-crafts",
         "diy-and-crafts"
        ],
        [
         6261,
         "308c5c1c-1ebd-4649-be78-14424ee346b1",
         "DECORATING WITH RATTAN & CANE - Dashing Darlin'",
         "BOHEMIAN TRENDING TEXTURES FOR THE HOME ~ ROUNDED UP MY FAVORITE RATTAN & CANE HOME DECOR FINDS",
         13000,
         "Dashing Darlin' ",
         "Boho Chic Living Room,Boho Chic Entryway,Living Room Decor With White Couch,Rustic Living Rooms,Diy Living Room,Living Room Upstairs,Rustic Room,Bohemian Living,Living Room Inspiration",
         "image",
         "https://i.pinimg.com/originals/24/89/f7/2489f76f98cb3c1189848ddc42f2ec52.jpg",
         "/data/home-decor",
         "home-decor"
        ],
        [
         3201,
         "6370f096-f344-49c3-a6b1-3072c537a953",
         "DIY Pom Pom Letters for MOM!",
         "Marla Meridith - DIY Pom Pom Letters for MOM!",
         671000,
         "Marla Meridith",
         "Kids Crafts,Crafts To Make,Craft Projects,Arts And Crafts,Craft Ideas,Pom Pom Crafts,Yarn Crafts,Flower Crafts,Diy Flower",
         "image",
         "https://i.pinimg.com/originals/db/c6/98/dbc69818c531e28ee514aaaec377257d.jpg",
         "/data/diy-and-crafts",
         "diy-and-crafts"
        ],
        [
         2637,
         "b18e8d38-eb45-40c0-b443-4fca250df850",
         "Marco Boho",
         null,
         66000,
         "El blog amarillo",
         "Diy Craft Projects,Diy Crafts For Home Decor,Diy And Crafts Sewing,Diy Wall Decor,Creative Crafts,Fun Crafts,Paper Crafts,Sewing Diy,Diy Wall Art",
         "multi-video(story page format)",
         "https://i.pinimg.com/videos/thumbnails/originals/b6/ab/28/b6ab28752f2804d71a3993565ba89308.0000001.jpg",
         "/data/diy-and-crafts",
         "diy-and-crafts"
        ],
        [
         1198,
         "1a90caac-f5df-4a27-821b-0fb4be678542",
         "The End of the Skin-Care Craze",
         "In the face of a pandemic, economic collapse, and climate change, Instagram photos of shelves crowded with skin-care products appear out of",
         20,
         "Mccready-romero",
         "Care Organization,Bathroom Organisation,Medicine Organization,Beauty Care,Beauty Skin,Elle Ferguson,Shelfie,Makeup Storage,Beauty Room",
         "image",
         "https://i.pinimg.com/originals/a3/d0/29/a3d029500020cc9c9c44f97c60dbc515.png",
         "/data/beauty",
         "beauty"
        ],
        [
         10370,
         "746948e7-a216-456b-8de7-7fee7312012c",
         "Joshua Tree - A Weekend in the Desert with Faithfull | Song of Style",
         "Aimee Song of the blog Song of Style shares a photo diary of her weekend in the Joshua Tree desert with Faithfull the Brand. Photos by Grant Legan.",
         1000,
         "Maggie Panning",
         "Pretty Cars,Cute Cars,Classy Cars,Sexy Cars,Dream Cars,My Dream Car,Carros Retro,Ford Classic Cars,Ford Mustang Classic",
         "image",
         "https://i.pinimg.com/originals/11/1e/c3/111ec37eed198cb432f71b20afd0e770.jpg",
         "/data/vehicles",
         "vehicles"
        ],
        [
         7167,
         "922425d2-16dc-465e-8fe4-e3c081a0299f",
         "Hamilton Khaki Aviation Pilot Chrono Watch H76712151",
         "Hamilton Khaki Aviation Pilot Chrono H76712151 Movement: ETA 251.274 quartz chronograph Case: Polished and brushed stainless steel. 44mm in diameter. Water resistant to 100 mete… ",
         265,
         "Midwest Jewelers & Estate Buyers",
         "Swiss Army Watches,Seiko Watches,Luxury Watches For Men,Silver Man,Breitling,Fashion Watches,Men's Fashion,Fashion Tips,Cool Watches",
         "image",
         "https://i.pinimg.com/originals/13/cb/d6/13cbd63c3b2582b9ba4ec027d62e91c2.png",
         "/data/mens-fashion",
         "mens-fashion"
        ],
        [
         10673,
         "ede73169-5b9f-4906-b02e-9db1bee203a4",
         "Discover the new Range Rover luxury performance SUV",
         "Shadow Velar",
         9000,
         "Land Rover USA",
         "Range Rover Negro,Range Rover Preto,Range Rover Schwarz,Range Rover Black,Range Rover Evoque,Range Rover Car,Pink Range Rovers,The New Range Rover,Luxury Sports Cars",
         "image",
         "https://i.pinimg.com/originals/5d/c8/87/5dc887a26bd47598867f3576cfe1ace7.jpg",
         "/data/vehicles",
         "vehicles"
        ],
        [
         2060,
         "177dde1a-3409-4865-a533-9f50efaedcd8",
         "50 DIY Decorations for a Jolly Christmas Table Setting",
         "You'll feel extra merry during your holiday dinner!",
         254,
         "Syndi Mulcahy",
         "Christmas Place Cards,Christmas Names,Christmas Napkins,Christmas Mantels,Christmas Diy,Christmas Wreaths,Christmas Place Setting,Thanksgiving Place Cards,Christmas Favors",
         "image",
         "https://i.pinimg.com/originals/1a/e4/e0/1ae4e03602fb20a77cb53e623547d317.png",
         "/data/christmas",
         "christmas"
        ],
        [
         9487,
         "3bccb05e-f031-477f-9ca4-9be28e5bd542",
         "The Cheapest Countries to Visit Around the World",
         "Are you looking for the cheapest country to visit? Here are the cheapest countries to visit in the world! These are affordable destinations that offer the most value for an unfo… ",
         7000,
         "Diana's Healthy Living | Luxury Adventure Travel Blog",
         "Travel Advice,Travel Guides,Travel Tips,Travel Goals,Travel Info,Travel Essentials,Travel Stuff,Travel Hacks,Cheap Travel",
         "image",
         "https://i.pinimg.com/originals/56/10/37/561037138bcc9c20e88a8e66ae0cb658.png",
         "/data/travel",
         "travel"
        ],
        [
         772,
         "49a12516-2c77-445f-b656-4b55b4a69608",
         "5 Pastel Color Palettes for 5 Floral Favorites",
         "Everyone loves flowers for their beautiful shapes and color, but confronting all that colorful splendor can be daunting. Artist Jude Tolar shows how to make color decoding easy… ",
         227000,
         "Artists Network",
         "Chalk Pastel Art,Soft Pastel Art,Pastel Artwork,Oil Pastel Paintings,Chalk Pastels,Pastel Drawing,Oil Pastels,Horse Paintings,Flower Paintings",
         "image",
         "https://i.pinimg.com/originals/e1/eb/e8/e1ebe8d2f201d92109b1b12bf6e2c1ac.jpg",
         "/data/art",
         "art"
        ],
        [
         7510,
         "e09fddda-1cc2-41c8-b799-d238fe90b937",
         "See the Most Stylish Men of New York Fashion Week",
         "10 guys with great style at the spring 2016 shows.",
         874000,
         "GQ Magazine",
         "Nyc Mens Fashion,Fashion Mode,Mens Fashion Suits,New York Fashion,Fashion Fashion,Fashion Check,Paris Fashion,Latex Fashion,Fashion Outlet",
         "image",
         "https://i.pinimg.com/originals/45/3c/fb/453cfb4859d0b6730422c75f7b8918ec.jpg",
         "/data/mens-fashion",
         "mens-fashion"
        ],
        [
         5758,
         "af602075-7bea-4aa0-adf4-a1a89952e92e",
         "Robot Challenge Screen",
         "Need to organize your finances? Create a filing system that works for you. Learn how to organize your finances and give all your documents a home with",
         14000,
         "Esavingsblog",
         "Ways To Save Money,Money Tips,Money Saving Tips,Managing Money,Money Hacks,Saving Ideas,Finance Bank,Personal Finance,Finance Degree",
         "image",
         "https://i.pinimg.com/originals/e6/46/a3/e646a3462219ed0f6f752bcad93fd5a5.png",
         "/data/finance",
         "finance"
        ]
       ],
       "datasetInfos": [],
       "dbfsResultPath": null,
       "isJsonSchema": true,
       "metadata": {},
       "overflow": false,
       "plotOptions": {
        "customPlotOptions": {},
        "displayType": "table",
        "pivotAggregation": null,
        "pivotColumns": null,
        "xColumns": null,
        "yColumns": null
       },
       "removedWidgets": [],
       "schema": [
        {
         "metadata": "{}",
         "name": "ind",
         "type": "\"integer\""
        },
        {
         "metadata": "{}",
         "name": "unique_id",
         "type": "\"string\""
        },
        {
         "metadata": "{}",
         "name": "title",
         "type": "\"string\""
        },
        {
         "metadata": "{}",
         "name": "description",
         "type": "\"string\""
        },
        {
         "metadata": "{}",
         "name": "follower_count",
         "type": "\"integer\""
        },
        {
         "metadata": "{}",
         "name": "poster_name",
         "type": "\"string\""
        },
        {
         "metadata": "{}",
         "name": "tag_list",
         "type": "\"string\""
        },
        {
         "metadata": "{}",
         "name": "is_image_or_video",
         "type": "\"string\""
        },
        {
         "metadata": "{}",
         "name": "image_src",
         "type": "\"string\""
        },
        {
         "metadata": "{}",
         "name": "save_location",
         "type": "\"string\""
        },
        {
         "metadata": "{}",
         "name": "category",
         "type": "\"string\""
        }
       ],
       "type": "table"
      }
     },
     "output_type": "display_data"
    }
   ],
   "source": [
    "# insepct df_pin\n",
    "display(df_pin)"
   ]
  },
  {
   "cell_type": "code",
   "execution_count": 0,
   "metadata": {
    "application/vnd.databricks.v1+cell": {
     "cellMetadata": {
      "byteLimit": 2048000,
      "rowLimit": 10000
     },
     "inputWidgets": {},
     "nuid": "35cdb8c7-42c2-43f4-822c-b8ef97609f6e",
     "showTitle": false,
     "title": ""
    }
   },
   "outputs": [
    {
     "output_type": "display_data",
     "data": {
      "text/html": [
       "<style scoped>\n",
       "  .ansiout {\n",
       "    display: block;\n",
       "    unicode-bidi: embed;\n",
       "    white-space: pre-wrap;\n",
       "    word-wrap: break-word;\n",
       "    word-break: break-all;\n",
       "    font-family: \"Menlo\", \"Monaco\", \"Consolas\", \"Ubuntu Mono\", \"Source Code Pro\", monospace;\n",
       "    font-size: 13px;\n",
       "    color: #555;\n",
       "    margin-left: 4px;\n",
       "    line-height: 19px;\n",
       "  }\n",
       "</style>\n",
       "<div class=\"ansiout\">root\n",
       "-- ind: integer (nullable = true)\n",
       "-- unique_id: string (nullable = true)\n",
       "-- title: string (nullable = true)\n",
       "-- description: string (nullable = true)\n",
       "-- follower_count: integer (nullable = true)\n",
       "-- poster_name: string (nullable = true)\n",
       "-- tag_list: string (nullable = true)\n",
       "-- is_image_or_video: string (nullable = true)\n",
       "-- image_src: string (nullable = true)\n",
       "-- save_location: string (nullable = true)\n",
       "-- category: string (nullable = true)\n",
       "\n",
       "</div>"
      ]
     },
     "metadata": {
      "application/vnd.databricks.v1+output": {
       "addedWidgets": {},
       "arguments": {},
       "data": "<div class=\"ansiout\">root\n |-- ind: integer (nullable = true)\n |-- unique_id: string (nullable = true)\n |-- title: string (nullable = true)\n |-- description: string (nullable = true)\n |-- follower_count: integer (nullable = true)\n |-- poster_name: string (nullable = true)\n |-- tag_list: string (nullable = true)\n |-- is_image_or_video: string (nullable = true)\n |-- image_src: string (nullable = true)\n |-- save_location: string (nullable = true)\n |-- category: string (nullable = true)\n\n</div>",
       "datasetInfos": [],
       "metadata": {},
       "removedWidgets": [],
       "type": "html"
      }
     },
     "output_type": "display_data"
    }
   ],
   "source": [
    "#df_pin.schema\n",
    "#df_pin.schema.simpleString()\n",
    "df_pin.printSchema()"
   ]
  },
  {
   "cell_type": "code",
   "execution_count": 0,
   "metadata": {
    "application/vnd.databricks.v1+cell": {
     "cellMetadata": {
      "byteLimit": 2048000,
      "rowLimit": 10000
     },
     "inputWidgets": {},
     "nuid": "33453df4-34c2-4aae-bae5-f0ef09a8a32d",
     "showTitle": false,
     "title": ""
    }
   },
   "outputs": [
    {
     "output_type": "display_data",
     "data": {
      "text/html": [
       "<style scoped>\n",
       "  .table-result-container {\n",
       "    max-height: 300px;\n",
       "    overflow: auto;\n",
       "  }\n",
       "  table, th, td {\n",
       "    border: 1px solid black;\n",
       "    border-collapse: collapse;\n",
       "  }\n",
       "  th, td {\n",
       "    padding: 5px;\n",
       "  }\n",
       "  th {\n",
       "    text-align: left;\n",
       "  }\n",
       "</style><div class='table-result-container'><table class='table-result'><thead style='background-color: white'><tr><th>ind</th><th>country</th><th>coordinates</th><th>timestamp</th></tr></thead><tbody><tr><td>7528</td><td>Albania</td><td>List(-89.9787, -173.293)</td><td>2020-08-28T03:52:47.000+0000</td></tr><tr><td>2863</td><td>Armenia</td><td>List(-5.34445, -177.924)</td><td>2020-04-27T13:34:16.000+0000</td></tr><tr><td>5730</td><td>Colombia</td><td>List(-77.015, -101.437)</td><td>2021-04-19T17:37:03.000+0000</td></tr><tr><td>8304</td><td>French Guiana</td><td>List(-28.8852, -164.87)</td><td>2019-09-13T04:50:29.000+0000</td></tr><tr><td>8731</td><td>Aruba</td><td>List(-83.104, -171.302)</td><td>2020-07-17T04:39:09.000+0000</td></tr><tr><td>1313</td><td>Maldives</td><td>List(77.0447, 61.9119)</td><td>2018-06-26T02:39:25.000+0000</td></tr><tr><td>4315</td><td>Cote d'Ivoire</td><td>List(-45.8508, 66.1003)</td><td>2019-12-15T03:51:28.000+0000</td></tr><tr><td>10794</td><td>Cocos (Keeling) Islands</td><td>List(-89.5236, -154.567)</td><td>2022-01-01T02:26:50.000+0000</td></tr><tr><td>5494</td><td>Bulgaria</td><td>List(-82.6768, -129.202)</td><td>2021-07-21T02:02:35.000+0000</td></tr><tr><td>5069</td><td>Azerbaijan</td><td>List(-63.0063, -157.474)</td><td>2021-03-20T09:32:44.000+0000</td></tr><tr><td>2923</td><td>Cote d'Ivoire</td><td>List(-84.6302, -164.507)</td><td>2019-09-08T22:53:09.000+0000</td></tr><tr><td>3089</td><td>Albania</td><td>List(-89.9787, -173.293)</td><td>2018-02-28T05:31:29.000+0000</td></tr><tr><td>6063</td><td>Anguilla</td><td>List(-89.1797, -174.015)</td><td>2021-07-20T09:02:47.000+0000</td></tr><tr><td>3454</td><td>Cambodia</td><td>List(-0.375174, 49.8106)</td><td>2021-07-25T02:20:29.000+0000</td></tr><tr><td>7554</td><td>Sudan</td><td>List(-51.2172, -77.9768)</td><td>2019-03-20T03:15:07.000+0000</td></tr><tr><td>6145</td><td>Mozambique</td><td>List(-65.9079, -143.845)</td><td>2019-12-05T02:09:44.000+0000</td></tr><tr><td>10625</td><td>Jamaica</td><td>List(-84.4944, -81.0613)</td><td>2018-07-13T11:51:15.000+0000</td></tr><tr><td>2959</td><td>Angola</td><td>List(-68.0095, -157.227)</td><td>2019-08-19T08:22:02.000+0000</td></tr><tr><td>9875</td><td>Barbados</td><td>List(-74.3382, -110.484)</td><td>2020-03-20T13:03:18.000+0000</td></tr><tr><td>2418</td><td>Antarctica (the territory South of 60 deg S)</td><td>List(-88.4642, -171.061)</td><td>2022-05-27T11:30:59.000+0000</td></tr><tr><td>3156</td><td>Armenia</td><td>List(-84.738, -160.795)</td><td>2018-01-13T19:33:49.000+0000</td></tr><tr><td>428</td><td>Bangladesh</td><td>List(-83.4105, -150.788)</td><td>2020-09-27T18:46:41.000+0000</td></tr><tr><td>7343</td><td>Australia</td><td>List(-65.4428, -161.684)</td><td>2018-08-06T12:17:07.000+0000</td></tr><tr><td>2074</td><td>Central African Republic</td><td>List(-52.3213, -50.11)</td><td>2019-11-03T05:41:59.000+0000</td></tr><tr><td>9979</td><td>Dominican Republic</td><td>List(14.9967, -120.682)</td><td>2018-07-18T19:01:46.000+0000</td></tr><tr><td>10138</td><td>Austria</td><td>List(-72.142, -74.3545)</td><td>2019-08-03T00:59:29.000+0000</td></tr><tr><td>9672</td><td>India</td><td>List(79.4658, -69.4133)</td><td>2019-11-03T13:15:52.000+0000</td></tr><tr><td>8653</td><td>Seychelles</td><td>List(48.4569, -139.658)</td><td>2022-04-11T18:30:19.000+0000</td></tr><tr><td>8887</td><td>Botswana</td><td>List(-28.0137, -160.708)</td><td>2021-09-19T05:27:43.000+0000</td></tr><tr><td>7922</td><td>Antigua and Barbuda</td><td>List(-88.0974, -172.052)</td><td>2021-01-27T09:14:19.000+0000</td></tr><tr><td>1014</td><td>Tonga</td><td>List(81.1477, 69.3538)</td><td>2022-02-03T22:05:34.000+0000</td></tr><tr><td>4913</td><td>Aruba</td><td>List(-84.3768, -157.544)</td><td>2019-03-08T06:45:39.000+0000</td></tr><tr><td>4137</td><td>Australia</td><td>List(-55.3079, 108.918)</td><td>2019-06-23T22:16:34.000+0000</td></tr><tr><td>7166</td><td>Aruba</td><td>List(-86.4063, -136.657)</td><td>2022-07-25T03:07:37.000+0000</td></tr><tr><td>9546</td><td>Austria</td><td>List(-70.0295, -155.428)</td><td>2018-02-10T06:16:40.000+0000</td></tr><tr><td>2411</td><td>Albania</td><td>List(-71.6856, -179.126)</td><td>2020-11-15T17:10:07.000+0000</td></tr><tr><td>9590</td><td>Algeria</td><td>List(-64.3876, -174.281)</td><td>2019-05-20T19:48:48.000+0000</td></tr><tr><td>2698</td><td>Egypt</td><td>List(-72.7174, 24.169)</td><td>2021-11-24T08:33:51.000+0000</td></tr><tr><td>4508</td><td>Philippines</td><td>List(69.1858, -76.0761)</td><td>2019-01-04T11:15:27.000+0000</td></tr><tr><td>831</td><td>Congo</td><td>List(-43.7816, -66.1592)</td><td>2021-06-23T23:16:10.000+0000</td></tr><tr><td>5076</td><td>Germany</td><td>List(-70.7195, -91.1935)</td><td>2019-05-05T16:22:23.000+0000</td></tr><tr><td>10663</td><td>Saint Kitts and Nevis</td><td>List(-27.3474, -162.83)</td><td>2019-07-25T18:53:51.000+0000</td></tr><tr><td>5468</td><td>Isle of Man</td><td>List(-83.544, 33.9473)</td><td>2020-05-16T23:17:50.000+0000</td></tr><tr><td>205</td><td>Barbados</td><td>List(-75.8378, -163.945)</td><td>2020-07-08T14:10:38.000+0000</td></tr><tr><td>7790</td><td>Papua New Guinea</td><td>List(-43.692, 64.9839)</td><td>2018-07-31T08:19:15.000+0000</td></tr><tr><td>8606</td><td>Antigua and Barbuda</td><td>List(-88.0974, -172.052)</td><td>2021-03-28T14:54:07.000+0000</td></tr><tr><td>9759</td><td>American Samoa</td><td>List(-77.9744, -106.258)</td><td>2017-12-30T13:05:49.000+0000</td></tr><tr><td>719</td><td>Armenia</td><td>List(-38.4062, -154.323)</td><td>2018-10-29T04:05:12.000+0000</td></tr><tr><td>1704</td><td>Christmas Island</td><td>List(-56.8702, -93.6232)</td><td>2018-11-29T04:46:39.000+0000</td></tr><tr><td>2482</td><td>Bermuda</td><td>List(63.4563, -164.709)</td><td>2019-09-13T08:20:13.000+0000</td></tr><tr><td>8930</td><td>Argentina</td><td>List(-89.4739, -176.154)</td><td>2021-09-29T13:25:49.000+0000</td></tr><tr><td>7294</td><td>Australia</td><td>List(-76.2967, -136.501)</td><td>2018-02-12T08:06:28.000+0000</td></tr><tr><td>808</td><td>Albania</td><td>List(-71.6856, -179.126)</td><td>2019-01-03T15:43:12.000+0000</td></tr><tr><td>771</td><td>Montserrat</td><td>List(-29.1712, -107.111)</td><td>2018-06-21T08:42:57.000+0000</td></tr><tr><td>4076</td><td>Mauritania</td><td>List(-67.2157, 27.8139)</td><td>2019-06-07T20:13:50.000+0000</td></tr><tr><td>1545</td><td>Anguilla</td><td>List(-30.18, -72.3784)</td><td>2022-06-17T05:47:12.000+0000</td></tr><tr><td>2293</td><td>British Virgin Islands</td><td>List(-87.7946, -159.647)</td><td>2022-03-21T10:46:53.000+0000</td></tr><tr><td>10509</td><td>Gibraltar</td><td>List(-67.187, -24.2977)</td><td>2019-03-06T12:21:56.000+0000</td></tr><tr><td>2015</td><td>Armenia</td><td>List(-17.629, -177.685)</td><td>2018-09-22T13:52:19.000+0000</td></tr><tr><td>1094</td><td>Armenia</td><td>List(-46.7328, -124.445)</td><td>2018-08-19T00:34:20.000+0000</td></tr><tr><td>603</td><td>Netherlands Antilles</td><td>List(14.0083, -141.603)</td><td>2019-06-25T05:13:01.000+0000</td></tr><tr><td>7768</td><td>Algeria</td><td>List(-88.355, -96.0131)</td><td>2018-05-25T21:34:19.000+0000</td></tr><tr><td>5630</td><td>Bahrain</td><td>List(-19.1403, -164.987)</td><td>2019-05-12T14:43:19.000+0000</td></tr><tr><td>8578</td><td>Guinea-Bissau</td><td>List(34.6427, -161.397)</td><td>2018-01-26T19:27:11.000+0000</td></tr><tr><td>9936</td><td>Australia</td><td>List(-82.1715, -147.691)</td><td>2018-06-30T22:07:13.000+0000</td></tr><tr><td>6844</td><td>New Caledonia</td><td>List(-22.6915, 5.69245)</td><td>2021-06-06T21:53:11.000+0000</td></tr><tr><td>3419</td><td>Bhutan</td><td>List(7.60293, -108.979)</td><td>2021-12-20T05:01:54.000+0000</td></tr><tr><td>1268</td><td>Argentina</td><td>List(-41.7803, -177.23)</td><td>2019-07-06T04:10:29.000+0000</td></tr><tr><td>6566</td><td>Cape Verde</td><td>List(-39.225, -71.6593)</td><td>2020-11-19T10:06:13.000+0000</td></tr><tr><td>1555</td><td>Algeria</td><td>List(-1.7046, -55.332)</td><td>2017-12-24T18:41:23.000+0000</td></tr><tr><td>3729</td><td>Turkey</td><td>List(-24.4793, -150.145)</td><td>2018-01-17T03:43:38.000+0000</td></tr><tr><td>6398</td><td>Albania</td><td>List(-3.29267, -179.726)</td><td>2020-01-19T01:49:05.000+0000</td></tr><tr><td>46</td><td>Afghanistan</td><td>List(4.21689, -145.82)</td><td>2018-09-15T09:16:57.000+0000</td></tr><tr><td>4988</td><td>Madagascar</td><td>List(-32.1879, -35.2784)</td><td>2020-07-11T11:01:12.000+0000</td></tr><tr><td>427</td><td>Isle of Man</td><td>List(-66.9418, -30.0087)</td><td>2020-04-22T03:08:50.000+0000</td></tr><tr><td>3800</td><td>Aruba</td><td>List(-61.471, -154.912)</td><td>2018-01-27T16:49:07.000+0000</td></tr><tr><td>159</td><td>Andorra</td><td>List(-88.0812, -166.603)</td><td>2017-11-20T21:14:56.000+0000</td></tr><tr><td>3599</td><td>Afghanistan</td><td>List(-88.5478, -174.971)</td><td>2019-03-03T06:13:41.000+0000</td></tr><tr><td>10552</td><td>Grenada</td><td>List(32.7568, -179.812)</td><td>2020-08-24T11:39:32.000+0000</td></tr><tr><td>1422</td><td>American Samoa</td><td>List(-88.5252, -172.436)</td><td>2018-04-30T08:27:21.000+0000</td></tr><tr><td>5309</td><td>Maldives</td><td>List(-89.4194, -84.2493)</td><td>2020-05-04T22:00:32.000+0000</td></tr><tr><td>552</td><td>Lesotho</td><td>List(-80.6043, 31.9601)</td><td>2022-03-14T05:12:07.000+0000</td></tr><tr><td>1371</td><td>Andorra</td><td>List(-89.4584, -134.271)</td><td>2018-08-08T04:41:17.000+0000</td></tr><tr><td>10119</td><td>Christmas Island</td><td>List(-74.5431, -162.795)</td><td>2020-10-22T01:59:58.000+0000</td></tr><tr><td>9074</td><td>Andorra</td><td>List(-84.7363, -179.087)</td><td>2022-04-10T17:06:13.000+0000</td></tr><tr><td>2604</td><td>Antigua and Barbuda</td><td>List(-80.8933, -104.972)</td><td>2018-12-01T09:23:35.000+0000</td></tr><tr><td>223</td><td>Isle of Man</td><td>List(1.15509, -118.397)</td><td>2018-12-07T07:30:40.000+0000</td></tr><tr><td>8312</td><td>American Samoa</td><td>List(-77.9744, -106.258)</td><td>2021-04-25T15:56:29.000+0000</td></tr><tr><td>2858</td><td>Argentina</td><td>List(-65.1565, -166.807)</td><td>2018-05-03T13:27:09.000+0000</td></tr><tr><td>6261</td><td>Marshall Islands</td><td>List(-10.3101, -109.763)</td><td>2021-11-11T16:18:45.000+0000</td></tr><tr><td>3201</td><td>Pitcairn Islands</td><td>List(34.0532, -68.4946)</td><td>2019-06-25T08:31:37.000+0000</td></tr><tr><td>2637</td><td>Tunisia</td><td>List(3.0033, -96.4904)</td><td>2022-10-15T13:25:51.000+0000</td></tr><tr><td>1198</td><td>Finland</td><td>List(6.37207, -150.73)</td><td>2020-01-24T23:42:18.000+0000</td></tr><tr><td>10370</td><td>Finland</td><td>List(-81.9798, -71.932)</td><td>2018-07-29T15:53:40.000+0000</td></tr><tr><td>7167</td><td>Ecuador</td><td>List(-55.757, -157.572)</td><td>2019-12-27T20:45:04.000+0000</td></tr><tr><td>10673</td><td>Nicaragua</td><td>List(37.1991, -32.1713)</td><td>2021-06-30T08:47:01.000+0000</td></tr><tr><td>2060</td><td>Trinidad and Tobago</td><td>List(52.4584, 68.6527)</td><td>2020-01-25T13:54:17.000+0000</td></tr><tr><td>9487</td><td>Canada</td><td>List(-76.9532, -113.641)</td><td>2018-12-18T11:16:52.000+0000</td></tr><tr><td>772</td><td>Monaco</td><td>List(25.0708, -97.1964)</td><td>2022-09-22T05:59:55.000+0000</td></tr><tr><td>7510</td><td>Aruba</td><td>List(-79.9828, -172.235)</td><td>2021-12-21T01:37:25.000+0000</td></tr><tr><td>5758</td><td>Azerbaijan</td><td>List(-79.3714, -145.242)</td><td>2018-09-12T15:08:34.000+0000</td></tr><tr><td>1137</td><td>Seychelles</td><td>List(12.2544, 10.7361)</td><td>2020-12-26T00:56:04.000+0000</td></tr><tr><td>7234</td><td>Algeria</td><td>List(-86.4791, -169.547)</td><td>2017-10-21T14:31:02.000+0000</td></tr><tr><td>327</td><td>Gibraltar</td><td>List(62.3674, 100.972)</td><td>2022-02-09T03:03:58.000+0000</td></tr><tr><td>7874</td><td>Algeria</td><td>List(-89.5173, -179.689)</td><td>2022-01-18T08:58:49.000+0000</td></tr><tr><td>1450</td><td>American Samoa</td><td>List(-88.5252, -172.436)</td><td>2022-01-15T16:04:27.000+0000</td></tr><tr><td>10245</td><td>Bahamas</td><td>List(-50.1835, 146.776)</td><td>2020-03-03T15:39:44.000+0000</td></tr><tr><td>9093</td><td>Austria</td><td>List(-87.7764, -151.645)</td><td>2021-07-24T23:07:06.000+0000</td></tr><tr><td>2301</td><td>Saint Vincent and the Grenadines</td><td>List(13.4683, 51.7244)</td><td>2020-11-14T00:25:28.000+0000</td></tr><tr><td>2788</td><td>Djibouti</td><td>List(-36.076, -94.1779)</td><td>2019-12-18T03:04:41.000+0000</td></tr><tr><td>9268</td><td>American Samoa</td><td>List(-88.5255, -161.644)</td><td>2020-03-16T23:13:51.000+0000</td></tr><tr><td>1706</td><td>Aruba</td><td>List(-71.5025, -179.257)</td><td>2017-11-24T23:36:46.000+0000</td></tr><tr><td>5293</td><td>Sao Tome and Principe</td><td>List(-13.1463, -25.9649)</td><td>2019-05-31T20:49:36.000+0000</td></tr><tr><td>7733</td><td>Algeria</td><td>List(-89.5173, -179.689)</td><td>2022-09-29T10:45:19.000+0000</td></tr><tr><td>3716</td><td>Lithuania</td><td>List(32.6648, -16.0578)</td><td>2018-12-31T20:43:42.000+0000</td></tr><tr><td>3750</td><td>Comoros</td><td>List(-73.8837, -159.054)</td><td>2022-09-03T23:36:08.000+0000</td></tr><tr><td>232</td><td>Tanzania</td><td>List(6.60912, -173.609)</td><td>2019-02-18T03:38:47.000+0000</td></tr><tr><td>8300</td><td>Chile</td><td>List(-64.5259, 19.7049)</td><td>2018-02-14T23:50:10.000+0000</td></tr><tr><td>8978</td><td>Faroe Islands</td><td>List(-2.01499, 3.78198)</td><td>2017-12-01T13:26:06.000+0000</td></tr><tr><td>2048</td><td>Antigua and Barbuda</td><td>List(-89.4008, -142.186)</td><td>2017-11-20T06:33:50.000+0000</td></tr><tr><td>10337</td><td>Christmas Island</td><td>List(-42.3069, -109.17)</td><td>2021-10-26T12:09:43.000+0000</td></tr><tr><td>7832</td><td>Israel</td><td>List(-53.8629, 91.8136)</td><td>2022-02-14T13:47:24.000+0000</td></tr><tr><td>8366</td><td>Kuwait</td><td>List(-38.5318, -139.215)</td><td>2018-03-28T14:17:11.000+0000</td></tr><tr><td>3334</td><td>Anguilla</td><td>List(-89.0609, -170.904)</td><td>2019-09-26T20:13:48.000+0000</td></tr><tr><td>778</td><td>Guatemala</td><td>List(48.2704, -123.073)</td><td>2018-10-19T14:43:39.000+0000</td></tr><tr><td>480</td><td>Mozambique</td><td>List(-30.7158, -167.461)</td><td>2019-02-08T03:34:58.000+0000</td></tr><tr><td>3011</td><td>Kuwait</td><td>List(-76.4675, 28.8054)</td><td>2019-12-17T17:46:18.000+0000</td></tr><tr><td>9475</td><td>Panama</td><td>List(-84.1953, 164.362)</td><td>2019-03-19T08:26:35.000+0000</td></tr><tr><td>7586</td><td>Andorra</td><td>List(-84.7363, -179.087)</td><td>2021-02-07T22:17:31.000+0000</td></tr><tr><td>1864</td><td>Algeria</td><td>List(-72.3958, -164.414)</td><td>2020-04-24T17:08:13.000+0000</td></tr><tr><td>6014</td><td>French Southern Territories</td><td>List(-26.6026, 155.206)</td><td>2019-04-30T12:33:13.000+0000</td></tr><tr><td>1967</td><td>Australia</td><td>List(32.74, -179.581)</td><td>2021-02-05T10:37:28.000+0000</td></tr><tr><td>1699</td><td>Canada</td><td>List(-54.3706, -127.783)</td><td>2022-07-03T13:25:48.000+0000</td></tr><tr><td>4996</td><td>Poland</td><td>List(39.9625, -118.569)</td><td>2019-04-16T23:49:42.000+0000</td></tr><tr><td>10168</td><td>Norway</td><td>List(-14.7211, 137.812)</td><td>2019-10-14T00:19:33.000+0000</td></tr><tr><td>5333</td><td>Croatia</td><td>List(-86.6652, -173.898)</td><td>2021-01-20T08:10:08.000+0000</td></tr><tr><td>2565</td><td>Bulgaria</td><td>List(-87.4992, -177.336)</td><td>2022-02-06T13:42:35.000+0000</td></tr><tr><td>9778</td><td>Guam</td><td>List(85.2343, 126.628)</td><td>2020-08-24T14:24:42.000+0000</td></tr><tr><td>3145</td><td>Kenya</td><td>List(-57.5981, -19.8932)</td><td>2022-06-18T22:46:26.000+0000</td></tr><tr><td>1341</td><td>Albania</td><td>List(-89.9787, -173.293)</td><td>2022-08-11T05:25:33.000+0000</td></tr><tr><td>5162</td><td>Antarctica (the territory South of 60 deg S)</td><td>List(-71.6607, -149.206)</td><td>2019-09-27T19:06:43.000+0000</td></tr><tr><td>5151</td><td>Guatemala</td><td>List(-47.3372, -151.397)</td><td>2020-07-15T01:42:38.000+0000</td></tr><tr><td>2498</td><td>Togo</td><td>List(61.4706, -51.05)</td><td>2021-04-03T18:10:34.000+0000</td></tr><tr><td>7268</td><td>Afghanistan</td><td>List(-88.3754, -164.273)</td><td>2019-12-11T14:05:18.000+0000</td></tr><tr><td>3351</td><td>Portugal</td><td>List(-9.11859, -96.9091)</td><td>2020-09-12T10:34:11.000+0000</td></tr><tr><td>7738</td><td>Comoros</td><td>List(66.8478, 22.777)</td><td>2017-11-12T03:45:21.000+0000</td></tr><tr><td>8886</td><td>American Samoa</td><td>List(-88.2286, -178.919)</td><td>2022-01-16T10:17:16.000+0000</td></tr><tr><td>5742</td><td>Jamaica</td><td>List(-73.4926, -61.56)</td><td>2020-09-02T01:40:18.000+0000</td></tr><tr><td>1362</td><td>Ghana</td><td>List(48.3704, 92.28)</td><td>2022-07-20T05:38:18.000+0000</td></tr><tr><td>995</td><td>Moldova</td><td>List(-88.0923, -179.319)</td><td>2022-09-22T12:17:57.000+0000</td></tr><tr><td>6250</td><td>Austria</td><td>List(-73.2098, -150.856)</td><td>2020-11-22T18:28:02.000+0000</td></tr><tr><td>3184</td><td>Cape Verde</td><td>List(-41.293, -171.585)</td><td>2018-09-25T23:17:46.000+0000</td></tr><tr><td>2955</td><td>Antigua and Barbuda</td><td>List(23.7768, -23.4838)</td><td>2022-10-11T17:21:06.000+0000</td></tr><tr><td>4357</td><td>Bahamas</td><td>List(-75.4909, -179.908)</td><td>2020-03-06T09:56:43.000+0000</td></tr><tr><td>3563</td><td>Saint Barthelemy</td><td>List(-77.3153, -69.505)</td><td>2018-09-05T07:40:01.000+0000</td></tr><tr><td>6558</td><td>Guadeloupe</td><td>List(-26.4944, -174.009)</td><td>2019-09-08T03:27:31.000+0000</td></tr><tr><td>4256</td><td>Afghanistan</td><td>List(-88.5478, -174.971)</td><td>2018-10-10T17:57:16.000+0000</td></tr><tr><td>450</td><td>Antigua and Barbuda</td><td>List(-81.0108, -165.206)</td><td>2018-09-28T05:43:18.000+0000</td></tr><tr><td>3945</td><td>Barbados</td><td>List(-66.2816, -142.673)</td><td>2022-04-17T02:01:53.000+0000</td></tr><tr><td>859</td><td>Romania</td><td>List(89.8261, 48.2256)</td><td>2020-04-07T19:23:24.000+0000</td></tr><tr><td>1521</td><td>Saint Helena</td><td>List(24.5192, 64.9674)</td><td>2022-10-12T14:03:26.000+0000</td></tr><tr><td>1961</td><td>Argentina</td><td>List(-65.3952, -175.249)</td><td>2022-07-29T18:16:50.000+0000</td></tr><tr><td>10099</td><td>Afghanistan</td><td>List(-89.4261, -171.58)</td><td>2020-12-24T13:33:03.000+0000</td></tr><tr><td>6066</td><td>Bolivia</td><td>List(-67.7278, -174.505)</td><td>2019-03-04T01:04:11.000+0000</td></tr><tr><td>10837</td><td>Samoa</td><td>List(86.6387, -26.2408)</td><td>2018-09-27T07:12:31.000+0000</td></tr><tr><td>6615</td><td>Wallis and Futuna</td><td>List(-25.2428, -32.8992)</td><td>2022-01-31T18:53:34.000+0000</td></tr><tr><td>7641</td><td>Albania</td><td>List(-87.2, -177.109)</td><td>2021-09-28T13:56:50.000+0000</td></tr><tr><td>640</td><td>Albania</td><td>List(-87.2, -177.109)</td><td>2019-07-12T16:46:03.000+0000</td></tr><tr><td>8174</td><td>Burkina Faso</td><td>List(-66.6708, -110.47)</td><td>2018-10-20T17:28:23.000+0000</td></tr><tr><td>1216</td><td>Albania</td><td>List(-69.8134, -152.834)</td><td>2020-07-19T23:57:16.000+0000</td></tr><tr><td>680</td><td>Bangladesh</td><td>List(-73.1838, -154.293)</td><td>2019-03-29T23:22:56.000+0000</td></tr><tr><td>9527</td><td>Turkmenistan</td><td>List(-38.4443, 170.601)</td><td>2021-11-17T07:50:58.000+0000</td></tr><tr><td>9426</td><td>Sao Tome and Principe</td><td>List(-29.8646, -78.1449)</td><td>2021-06-30T02:14:47.000+0000</td></tr><tr><td>8745</td><td>Tuvalu</td><td>List(31.6701, -59.7391)</td><td>2020-10-28T03:45:33.000+0000</td></tr><tr><td>5959</td><td>Cyprus</td><td>List(-44.9016, -17.5192)</td><td>2020-08-10T01:00:33.000+0000</td></tr><tr><td>2577</td><td>Aruba</td><td>List(-71.5025, -179.257)</td><td>2019-08-01T05:45:51.000+0000</td></tr><tr><td>3008</td><td>Venezuela</td><td>List(0.314337, -58.7666)</td><td>2019-07-31T22:36:11.000+0000</td></tr><tr><td>8081</td><td>Egypt</td><td>List(-33.8238, -129.18)</td><td>2022-03-25T07:42:29.000+0000</td></tr><tr><td>10120</td><td>Isle of Man</td><td>List(-55.1562, -122.854)</td><td>2022-03-10T07:02:32.000+0000</td></tr><tr><td>4045</td><td>American Samoa</td><td>List(-89.3099, -166.033)</td><td>2018-03-11T23:01:08.000+0000</td></tr><tr><td>1599</td><td>Bolivia</td><td>List(86.0967, 111.323)</td><td>2019-02-05T14:58:20.000+0000</td></tr><tr><td>2893</td><td>Bermuda</td><td>List(-68.5399, -28.38)</td><td>2018-03-05T04:33:55.000+0000</td></tr><tr><td>4024</td><td>Aruba</td><td>List(-61.471, -154.912)</td><td>2019-10-19T10:03:03.000+0000</td></tr><tr><td>310</td><td>Antigua and Barbuda</td><td>List(-81.0108, -165.206)</td><td>2021-01-25T22:22:37.000+0000</td></tr><tr><td>7905</td><td>Namibia</td><td>List(-47.8121, -134.015)</td><td>2018-11-13T12:39:43.000+0000</td></tr><tr><td>5488</td><td>Finland</td><td>List(-59.6163, -107.324)</td><td>2021-03-14T05:55:21.000+0000</td></tr><tr><td>744</td><td>New Caledonia</td><td>List(-76.8074, 58.7517)</td><td>2019-08-28T15:03:13.000+0000</td></tr><tr><td>7801</td><td>Afghanistan</td><td>List(-75.9161, -27.6285)</td><td>2017-11-18T22:54:58.000+0000</td></tr><tr><td>5620</td><td>Faroe Islands</td><td>List(-53.6087, -121.68)</td><td>2021-02-18T12:34:44.000+0000</td></tr><tr><td>8341</td><td>Somalia</td><td>List(-16.5066, -133.185)</td><td>2022-08-08T05:09:50.000+0000</td></tr><tr><td>10022</td><td>Benin</td><td>List(70.5626, -89.4526)</td><td>2018-12-17T20:26:14.000+0000</td></tr><tr><td>6134</td><td>Austria</td><td>List(-68.8136, -128.482)</td><td>2022-04-03T12:34:59.000+0000</td></tr><tr><td>3824</td><td>British Virgin Islands</td><td>List(-82.4276, -170.019)</td><td>2018-10-28T19:22:34.000+0000</td></tr><tr><td>7116</td><td>Macao</td><td>List(-18.3686, 72.4109)</td><td>2019-09-16T18:45:41.000+0000</td></tr><tr><td>74</td><td>Antigua and Barbuda</td><td>List(-81.0108, -165.206)</td><td>2020-01-29T14:03:35.000+0000</td></tr><tr><td>1335</td><td>Antarctica (the territory South of 60 deg S)</td><td>List(-77.9931, -175.682)</td><td>2022-03-19T17:29:42.000+0000</td></tr><tr><td>4513</td><td>Namibia</td><td>List(22.2314, 144.214)</td><td>2022-04-11T11:05:13.000+0000</td></tr><tr><td>7850</td><td>Vietnam</td><td>List(26.5208, 160.699)</td><td>2022-04-09T15:06:01.000+0000</td></tr><tr><td>10248</td><td>Equatorial Guinea</td><td>List(-31.9615, 161.151)</td><td>2019-11-03T15:11:00.000+0000</td></tr><tr><td>8123</td><td>Morocco</td><td>List(80.2593, -134.292)</td><td>2021-08-23T07:31:46.000+0000</td></tr><tr><td>2987</td><td>Dominica</td><td>List(83.1466, -169.136)</td><td>2019-12-24T22:33:06.000+0000</td></tr><tr><td>1487</td><td>Denmark</td><td>List(6.23029, -75.5939)</td><td>2021-05-15T18:23:45.000+0000</td></tr><tr><td>10052</td><td>Central African Republic</td><td>List(14.7195, -130.921)</td><td>2020-01-03T01:10:57.000+0000</td></tr><tr><td>8677</td><td>Bouvet Island (Bouvetoya)</td><td>List(-84.3984, -144.933)</td><td>2020-02-12T23:24:01.000+0000</td></tr><tr><td>5551</td><td>Colombia</td><td>List(-67.8095, 63.2758)</td><td>2022-03-22T06:04:33.000+0000</td></tr><tr><td>6652</td><td>Egypt</td><td>List(-78.2534, -170.668)</td><td>2018-11-28T08:21:12.000+0000</td></tr><tr><td>6479</td><td>Ireland</td><td>List(47.9142, -98.4756)</td><td>2020-10-12T04:13:06.000+0000</td></tr></tbody></table></div>"
      ]
     },
     "metadata": {
      "application/vnd.databricks.v1+output": {
       "addedWidgets": {},
       "aggData": [],
       "aggError": "",
       "aggOverflow": false,
       "aggSchema": [],
       "aggSeriesLimitReached": false,
       "aggType": "",
       "arguments": {},
       "columnCustomDisplayInfos": {},
       "data": [
        [
         7528,
         "Albania",
         [
          -89.9787,
          -173.293
         ],
         "2020-08-28T03:52:47.000+0000"
        ],
        [
         2863,
         "Armenia",
         [
          -5.34445,
          -177.924
         ],
         "2020-04-27T13:34:16.000+0000"
        ],
        [
         5730,
         "Colombia",
         [
          -77.015,
          -101.437
         ],
         "2021-04-19T17:37:03.000+0000"
        ],
        [
         8304,
         "French Guiana",
         [
          -28.8852,
          -164.87
         ],
         "2019-09-13T04:50:29.000+0000"
        ],
        [
         8731,
         "Aruba",
         [
          -83.104,
          -171.302
         ],
         "2020-07-17T04:39:09.000+0000"
        ],
        [
         1313,
         "Maldives",
         [
          77.0447,
          61.9119
         ],
         "2018-06-26T02:39:25.000+0000"
        ],
        [
         4315,
         "Cote d'Ivoire",
         [
          -45.8508,
          66.1003
         ],
         "2019-12-15T03:51:28.000+0000"
        ],
        [
         10794,
         "Cocos (Keeling) Islands",
         [
          -89.5236,
          -154.567
         ],
         "2022-01-01T02:26:50.000+0000"
        ],
        [
         5494,
         "Bulgaria",
         [
          -82.6768,
          -129.202
         ],
         "2021-07-21T02:02:35.000+0000"
        ],
        [
         5069,
         "Azerbaijan",
         [
          -63.0063,
          -157.474
         ],
         "2021-03-20T09:32:44.000+0000"
        ],
        [
         2923,
         "Cote d'Ivoire",
         [
          -84.6302,
          -164.507
         ],
         "2019-09-08T22:53:09.000+0000"
        ],
        [
         3089,
         "Albania",
         [
          -89.9787,
          -173.293
         ],
         "2018-02-28T05:31:29.000+0000"
        ],
        [
         6063,
         "Anguilla",
         [
          -89.1797,
          -174.015
         ],
         "2021-07-20T09:02:47.000+0000"
        ],
        [
         3454,
         "Cambodia",
         [
          -0.375174,
          49.8106
         ],
         "2021-07-25T02:20:29.000+0000"
        ],
        [
         7554,
         "Sudan",
         [
          -51.2172,
          -77.9768
         ],
         "2019-03-20T03:15:07.000+0000"
        ],
        [
         6145,
         "Mozambique",
         [
          -65.9079,
          -143.845
         ],
         "2019-12-05T02:09:44.000+0000"
        ],
        [
         10625,
         "Jamaica",
         [
          -84.4944,
          -81.0613
         ],
         "2018-07-13T11:51:15.000+0000"
        ],
        [
         2959,
         "Angola",
         [
          -68.0095,
          -157.227
         ],
         "2019-08-19T08:22:02.000+0000"
        ],
        [
         9875,
         "Barbados",
         [
          -74.3382,
          -110.484
         ],
         "2020-03-20T13:03:18.000+0000"
        ],
        [
         2418,
         "Antarctica (the territory South of 60 deg S)",
         [
          -88.4642,
          -171.061
         ],
         "2022-05-27T11:30:59.000+0000"
        ],
        [
         3156,
         "Armenia",
         [
          -84.738,
          -160.795
         ],
         "2018-01-13T19:33:49.000+0000"
        ],
        [
         428,
         "Bangladesh",
         [
          -83.4105,
          -150.788
         ],
         "2020-09-27T18:46:41.000+0000"
        ],
        [
         7343,
         "Australia",
         [
          -65.4428,
          -161.684
         ],
         "2018-08-06T12:17:07.000+0000"
        ],
        [
         2074,
         "Central African Republic",
         [
          -52.3213,
          -50.11
         ],
         "2019-11-03T05:41:59.000+0000"
        ],
        [
         9979,
         "Dominican Republic",
         [
          14.9967,
          -120.682
         ],
         "2018-07-18T19:01:46.000+0000"
        ],
        [
         10138,
         "Austria",
         [
          -72.142,
          -74.3545
         ],
         "2019-08-03T00:59:29.000+0000"
        ],
        [
         9672,
         "India",
         [
          79.4658,
          -69.4133
         ],
         "2019-11-03T13:15:52.000+0000"
        ],
        [
         8653,
         "Seychelles",
         [
          48.4569,
          -139.658
         ],
         "2022-04-11T18:30:19.000+0000"
        ],
        [
         8887,
         "Botswana",
         [
          -28.0137,
          -160.708
         ],
         "2021-09-19T05:27:43.000+0000"
        ],
        [
         7922,
         "Antigua and Barbuda",
         [
          -88.0974,
          -172.052
         ],
         "2021-01-27T09:14:19.000+0000"
        ],
        [
         1014,
         "Tonga",
         [
          81.1477,
          69.3538
         ],
         "2022-02-03T22:05:34.000+0000"
        ],
        [
         4913,
         "Aruba",
         [
          -84.3768,
          -157.544
         ],
         "2019-03-08T06:45:39.000+0000"
        ],
        [
         4137,
         "Australia",
         [
          -55.3079,
          108.918
         ],
         "2019-06-23T22:16:34.000+0000"
        ],
        [
         7166,
         "Aruba",
         [
          -86.4063,
          -136.657
         ],
         "2022-07-25T03:07:37.000+0000"
        ],
        [
         9546,
         "Austria",
         [
          -70.0295,
          -155.428
         ],
         "2018-02-10T06:16:40.000+0000"
        ],
        [
         2411,
         "Albania",
         [
          -71.6856,
          -179.126
         ],
         "2020-11-15T17:10:07.000+0000"
        ],
        [
         9590,
         "Algeria",
         [
          -64.3876,
          -174.281
         ],
         "2019-05-20T19:48:48.000+0000"
        ],
        [
         2698,
         "Egypt",
         [
          -72.7174,
          24.169
         ],
         "2021-11-24T08:33:51.000+0000"
        ],
        [
         4508,
         "Philippines",
         [
          69.1858,
          -76.0761
         ],
         "2019-01-04T11:15:27.000+0000"
        ],
        [
         831,
         "Congo",
         [
          -43.7816,
          -66.1592
         ],
         "2021-06-23T23:16:10.000+0000"
        ],
        [
         5076,
         "Germany",
         [
          -70.7195,
          -91.1935
         ],
         "2019-05-05T16:22:23.000+0000"
        ],
        [
         10663,
         "Saint Kitts and Nevis",
         [
          -27.3474,
          -162.83
         ],
         "2019-07-25T18:53:51.000+0000"
        ],
        [
         5468,
         "Isle of Man",
         [
          -83.544,
          33.9473
         ],
         "2020-05-16T23:17:50.000+0000"
        ],
        [
         205,
         "Barbados",
         [
          -75.8378,
          -163.945
         ],
         "2020-07-08T14:10:38.000+0000"
        ],
        [
         7790,
         "Papua New Guinea",
         [
          -43.692,
          64.9839
         ],
         "2018-07-31T08:19:15.000+0000"
        ],
        [
         8606,
         "Antigua and Barbuda",
         [
          -88.0974,
          -172.052
         ],
         "2021-03-28T14:54:07.000+0000"
        ],
        [
         9759,
         "American Samoa",
         [
          -77.9744,
          -106.258
         ],
         "2017-12-30T13:05:49.000+0000"
        ],
        [
         719,
         "Armenia",
         [
          -38.4062,
          -154.323
         ],
         "2018-10-29T04:05:12.000+0000"
        ],
        [
         1704,
         "Christmas Island",
         [
          -56.8702,
          -93.6232
         ],
         "2018-11-29T04:46:39.000+0000"
        ],
        [
         2482,
         "Bermuda",
         [
          63.4563,
          -164.709
         ],
         "2019-09-13T08:20:13.000+0000"
        ],
        [
         8930,
         "Argentina",
         [
          -89.4739,
          -176.154
         ],
         "2021-09-29T13:25:49.000+0000"
        ],
        [
         7294,
         "Australia",
         [
          -76.2967,
          -136.501
         ],
         "2018-02-12T08:06:28.000+0000"
        ],
        [
         808,
         "Albania",
         [
          -71.6856,
          -179.126
         ],
         "2019-01-03T15:43:12.000+0000"
        ],
        [
         771,
         "Montserrat",
         [
          -29.1712,
          -107.111
         ],
         "2018-06-21T08:42:57.000+0000"
        ],
        [
         4076,
         "Mauritania",
         [
          -67.2157,
          27.8139
         ],
         "2019-06-07T20:13:50.000+0000"
        ],
        [
         1545,
         "Anguilla",
         [
          -30.18,
          -72.3784
         ],
         "2022-06-17T05:47:12.000+0000"
        ],
        [
         2293,
         "British Virgin Islands",
         [
          -87.7946,
          -159.647
         ],
         "2022-03-21T10:46:53.000+0000"
        ],
        [
         10509,
         "Gibraltar",
         [
          -67.187,
          -24.2977
         ],
         "2019-03-06T12:21:56.000+0000"
        ],
        [
         2015,
         "Armenia",
         [
          -17.629,
          -177.685
         ],
         "2018-09-22T13:52:19.000+0000"
        ],
        [
         1094,
         "Armenia",
         [
          -46.7328,
          -124.445
         ],
         "2018-08-19T00:34:20.000+0000"
        ],
        [
         603,
         "Netherlands Antilles",
         [
          14.0083,
          -141.603
         ],
         "2019-06-25T05:13:01.000+0000"
        ],
        [
         7768,
         "Algeria",
         [
          -88.355,
          -96.0131
         ],
         "2018-05-25T21:34:19.000+0000"
        ],
        [
         5630,
         "Bahrain",
         [
          -19.1403,
          -164.987
         ],
         "2019-05-12T14:43:19.000+0000"
        ],
        [
         8578,
         "Guinea-Bissau",
         [
          34.6427,
          -161.397
         ],
         "2018-01-26T19:27:11.000+0000"
        ],
        [
         9936,
         "Australia",
         [
          -82.1715,
          -147.691
         ],
         "2018-06-30T22:07:13.000+0000"
        ],
        [
         6844,
         "New Caledonia",
         [
          -22.6915,
          5.69245
         ],
         "2021-06-06T21:53:11.000+0000"
        ],
        [
         3419,
         "Bhutan",
         [
          7.60293,
          -108.979
         ],
         "2021-12-20T05:01:54.000+0000"
        ],
        [
         1268,
         "Argentina",
         [
          -41.7803,
          -177.23
         ],
         "2019-07-06T04:10:29.000+0000"
        ],
        [
         6566,
         "Cape Verde",
         [
          -39.225,
          -71.6593
         ],
         "2020-11-19T10:06:13.000+0000"
        ],
        [
         1555,
         "Algeria",
         [
          -1.7046,
          -55.332
         ],
         "2017-12-24T18:41:23.000+0000"
        ],
        [
         3729,
         "Turkey",
         [
          -24.4793,
          -150.145
         ],
         "2018-01-17T03:43:38.000+0000"
        ],
        [
         6398,
         "Albania",
         [
          -3.29267,
          -179.726
         ],
         "2020-01-19T01:49:05.000+0000"
        ],
        [
         46,
         "Afghanistan",
         [
          4.21689,
          -145.82
         ],
         "2018-09-15T09:16:57.000+0000"
        ],
        [
         4988,
         "Madagascar",
         [
          -32.1879,
          -35.2784
         ],
         "2020-07-11T11:01:12.000+0000"
        ],
        [
         427,
         "Isle of Man",
         [
          -66.9418,
          -30.0087
         ],
         "2020-04-22T03:08:50.000+0000"
        ],
        [
         3800,
         "Aruba",
         [
          -61.471,
          -154.912
         ],
         "2018-01-27T16:49:07.000+0000"
        ],
        [
         159,
         "Andorra",
         [
          -88.0812,
          -166.603
         ],
         "2017-11-20T21:14:56.000+0000"
        ],
        [
         3599,
         "Afghanistan",
         [
          -88.5478,
          -174.971
         ],
         "2019-03-03T06:13:41.000+0000"
        ],
        [
         10552,
         "Grenada",
         [
          32.7568,
          -179.812
         ],
         "2020-08-24T11:39:32.000+0000"
        ],
        [
         1422,
         "American Samoa",
         [
          -88.5252,
          -172.436
         ],
         "2018-04-30T08:27:21.000+0000"
        ],
        [
         5309,
         "Maldives",
         [
          -89.4194,
          -84.2493
         ],
         "2020-05-04T22:00:32.000+0000"
        ],
        [
         552,
         "Lesotho",
         [
          -80.6043,
          31.9601
         ],
         "2022-03-14T05:12:07.000+0000"
        ],
        [
         1371,
         "Andorra",
         [
          -89.4584,
          -134.271
         ],
         "2018-08-08T04:41:17.000+0000"
        ],
        [
         10119,
         "Christmas Island",
         [
          -74.5431,
          -162.795
         ],
         "2020-10-22T01:59:58.000+0000"
        ],
        [
         9074,
         "Andorra",
         [
          -84.7363,
          -179.087
         ],
         "2022-04-10T17:06:13.000+0000"
        ],
        [
         2604,
         "Antigua and Barbuda",
         [
          -80.8933,
          -104.972
         ],
         "2018-12-01T09:23:35.000+0000"
        ],
        [
         223,
         "Isle of Man",
         [
          1.15509,
          -118.397
         ],
         "2018-12-07T07:30:40.000+0000"
        ],
        [
         8312,
         "American Samoa",
         [
          -77.9744,
          -106.258
         ],
         "2021-04-25T15:56:29.000+0000"
        ],
        [
         2858,
         "Argentina",
         [
          -65.1565,
          -166.807
         ],
         "2018-05-03T13:27:09.000+0000"
        ],
        [
         6261,
         "Marshall Islands",
         [
          -10.3101,
          -109.763
         ],
         "2021-11-11T16:18:45.000+0000"
        ],
        [
         3201,
         "Pitcairn Islands",
         [
          34.0532,
          -68.4946
         ],
         "2019-06-25T08:31:37.000+0000"
        ],
        [
         2637,
         "Tunisia",
         [
          3.0033,
          -96.4904
         ],
         "2022-10-15T13:25:51.000+0000"
        ],
        [
         1198,
         "Finland",
         [
          6.37207,
          -150.73
         ],
         "2020-01-24T23:42:18.000+0000"
        ],
        [
         10370,
         "Finland",
         [
          -81.9798,
          -71.932
         ],
         "2018-07-29T15:53:40.000+0000"
        ],
        [
         7167,
         "Ecuador",
         [
          -55.757,
          -157.572
         ],
         "2019-12-27T20:45:04.000+0000"
        ],
        [
         10673,
         "Nicaragua",
         [
          37.1991,
          -32.1713
         ],
         "2021-06-30T08:47:01.000+0000"
        ],
        [
         2060,
         "Trinidad and Tobago",
         [
          52.4584,
          68.6527
         ],
         "2020-01-25T13:54:17.000+0000"
        ],
        [
         9487,
         "Canada",
         [
          -76.9532,
          -113.641
         ],
         "2018-12-18T11:16:52.000+0000"
        ],
        [
         772,
         "Monaco",
         [
          25.0708,
          -97.1964
         ],
         "2022-09-22T05:59:55.000+0000"
        ],
        [
         7510,
         "Aruba",
         [
          -79.9828,
          -172.235
         ],
         "2021-12-21T01:37:25.000+0000"
        ],
        [
         5758,
         "Azerbaijan",
         [
          -79.3714,
          -145.242
         ],
         "2018-09-12T15:08:34.000+0000"
        ],
        [
         1137,
         "Seychelles",
         [
          12.2544,
          10.7361
         ],
         "2020-12-26T00:56:04.000+0000"
        ],
        [
         7234,
         "Algeria",
         [
          -86.4791,
          -169.547
         ],
         "2017-10-21T14:31:02.000+0000"
        ],
        [
         327,
         "Gibraltar",
         [
          62.3674,
          100.972
         ],
         "2022-02-09T03:03:58.000+0000"
        ],
        [
         7874,
         "Algeria",
         [
          -89.5173,
          -179.689
         ],
         "2022-01-18T08:58:49.000+0000"
        ],
        [
         1450,
         "American Samoa",
         [
          -88.5252,
          -172.436
         ],
         "2022-01-15T16:04:27.000+0000"
        ],
        [
         10245,
         "Bahamas",
         [
          -50.1835,
          146.776
         ],
         "2020-03-03T15:39:44.000+0000"
        ],
        [
         9093,
         "Austria",
         [
          -87.7764,
          -151.645
         ],
         "2021-07-24T23:07:06.000+0000"
        ],
        [
         2301,
         "Saint Vincent and the Grenadines",
         [
          13.4683,
          51.7244
         ],
         "2020-11-14T00:25:28.000+0000"
        ],
        [
         2788,
         "Djibouti",
         [
          -36.076,
          -94.1779
         ],
         "2019-12-18T03:04:41.000+0000"
        ],
        [
         9268,
         "American Samoa",
         [
          -88.5255,
          -161.644
         ],
         "2020-03-16T23:13:51.000+0000"
        ],
        [
         1706,
         "Aruba",
         [
          -71.5025,
          -179.257
         ],
         "2017-11-24T23:36:46.000+0000"
        ],
        [
         5293,
         "Sao Tome and Principe",
         [
          -13.1463,
          -25.9649
         ],
         "2019-05-31T20:49:36.000+0000"
        ],
        [
         7733,
         "Algeria",
         [
          -89.5173,
          -179.689
         ],
         "2022-09-29T10:45:19.000+0000"
        ],
        [
         3716,
         "Lithuania",
         [
          32.6648,
          -16.0578
         ],
         "2018-12-31T20:43:42.000+0000"
        ],
        [
         3750,
         "Comoros",
         [
          -73.8837,
          -159.054
         ],
         "2022-09-03T23:36:08.000+0000"
        ],
        [
         232,
         "Tanzania",
         [
          6.60912,
          -173.609
         ],
         "2019-02-18T03:38:47.000+0000"
        ],
        [
         8300,
         "Chile",
         [
          -64.5259,
          19.7049
         ],
         "2018-02-14T23:50:10.000+0000"
        ],
        [
         8978,
         "Faroe Islands",
         [
          -2.01499,
          3.78198
         ],
         "2017-12-01T13:26:06.000+0000"
        ],
        [
         2048,
         "Antigua and Barbuda",
         [
          -89.4008,
          -142.186
         ],
         "2017-11-20T06:33:50.000+0000"
        ],
        [
         10337,
         "Christmas Island",
         [
          -42.3069,
          -109.17
         ],
         "2021-10-26T12:09:43.000+0000"
        ],
        [
         7832,
         "Israel",
         [
          -53.8629,
          91.8136
         ],
         "2022-02-14T13:47:24.000+0000"
        ],
        [
         8366,
         "Kuwait",
         [
          -38.5318,
          -139.215
         ],
         "2018-03-28T14:17:11.000+0000"
        ],
        [
         3334,
         "Anguilla",
         [
          -89.0609,
          -170.904
         ],
         "2019-09-26T20:13:48.000+0000"
        ],
        [
         778,
         "Guatemala",
         [
          48.2704,
          -123.073
         ],
         "2018-10-19T14:43:39.000+0000"
        ],
        [
         480,
         "Mozambique",
         [
          -30.7158,
          -167.461
         ],
         "2019-02-08T03:34:58.000+0000"
        ],
        [
         3011,
         "Kuwait",
         [
          -76.4675,
          28.8054
         ],
         "2019-12-17T17:46:18.000+0000"
        ],
        [
         9475,
         "Panama",
         [
          -84.1953,
          164.362
         ],
         "2019-03-19T08:26:35.000+0000"
        ],
        [
         7586,
         "Andorra",
         [
          -84.7363,
          -179.087
         ],
         "2021-02-07T22:17:31.000+0000"
        ],
        [
         1864,
         "Algeria",
         [
          -72.3958,
          -164.414
         ],
         "2020-04-24T17:08:13.000+0000"
        ],
        [
         6014,
         "French Southern Territories",
         [
          -26.6026,
          155.206
         ],
         "2019-04-30T12:33:13.000+0000"
        ],
        [
         1967,
         "Australia",
         [
          32.74,
          -179.581
         ],
         "2021-02-05T10:37:28.000+0000"
        ],
        [
         1699,
         "Canada",
         [
          -54.3706,
          -127.783
         ],
         "2022-07-03T13:25:48.000+0000"
        ],
        [
         4996,
         "Poland",
         [
          39.9625,
          -118.569
         ],
         "2019-04-16T23:49:42.000+0000"
        ],
        [
         10168,
         "Norway",
         [
          -14.7211,
          137.812
         ],
         "2019-10-14T00:19:33.000+0000"
        ],
        [
         5333,
         "Croatia",
         [
          -86.6652,
          -173.898
         ],
         "2021-01-20T08:10:08.000+0000"
        ],
        [
         2565,
         "Bulgaria",
         [
          -87.4992,
          -177.336
         ],
         "2022-02-06T13:42:35.000+0000"
        ],
        [
         9778,
         "Guam",
         [
          85.2343,
          126.628
         ],
         "2020-08-24T14:24:42.000+0000"
        ],
        [
         3145,
         "Kenya",
         [
          -57.5981,
          -19.8932
         ],
         "2022-06-18T22:46:26.000+0000"
        ],
        [
         1341,
         "Albania",
         [
          -89.9787,
          -173.293
         ],
         "2022-08-11T05:25:33.000+0000"
        ],
        [
         5162,
         "Antarctica (the territory South of 60 deg S)",
         [
          -71.6607,
          -149.206
         ],
         "2019-09-27T19:06:43.000+0000"
        ],
        [
         5151,
         "Guatemala",
         [
          -47.3372,
          -151.397
         ],
         "2020-07-15T01:42:38.000+0000"
        ],
        [
         2498,
         "Togo",
         [
          61.4706,
          -51.05
         ],
         "2021-04-03T18:10:34.000+0000"
        ],
        [
         7268,
         "Afghanistan",
         [
          -88.3754,
          -164.273
         ],
         "2019-12-11T14:05:18.000+0000"
        ],
        [
         3351,
         "Portugal",
         [
          -9.11859,
          -96.9091
         ],
         "2020-09-12T10:34:11.000+0000"
        ],
        [
         7738,
         "Comoros",
         [
          66.8478,
          22.777
         ],
         "2017-11-12T03:45:21.000+0000"
        ],
        [
         8886,
         "American Samoa",
         [
          -88.2286,
          -178.919
         ],
         "2022-01-16T10:17:16.000+0000"
        ],
        [
         5742,
         "Jamaica",
         [
          -73.4926,
          -61.56
         ],
         "2020-09-02T01:40:18.000+0000"
        ],
        [
         1362,
         "Ghana",
         [
          48.3704,
          92.28
         ],
         "2022-07-20T05:38:18.000+0000"
        ],
        [
         995,
         "Moldova",
         [
          -88.0923,
          -179.319
         ],
         "2022-09-22T12:17:57.000+0000"
        ],
        [
         6250,
         "Austria",
         [
          -73.2098,
          -150.856
         ],
         "2020-11-22T18:28:02.000+0000"
        ],
        [
         3184,
         "Cape Verde",
         [
          -41.293,
          -171.585
         ],
         "2018-09-25T23:17:46.000+0000"
        ],
        [
         2955,
         "Antigua and Barbuda",
         [
          23.7768,
          -23.4838
         ],
         "2022-10-11T17:21:06.000+0000"
        ],
        [
         4357,
         "Bahamas",
         [
          -75.4909,
          -179.908
         ],
         "2020-03-06T09:56:43.000+0000"
        ],
        [
         3563,
         "Saint Barthelemy",
         [
          -77.3153,
          -69.505
         ],
         "2018-09-05T07:40:01.000+0000"
        ],
        [
         6558,
         "Guadeloupe",
         [
          -26.4944,
          -174.009
         ],
         "2019-09-08T03:27:31.000+0000"
        ],
        [
         4256,
         "Afghanistan",
         [
          -88.5478,
          -174.971
         ],
         "2018-10-10T17:57:16.000+0000"
        ],
        [
         450,
         "Antigua and Barbuda",
         [
          -81.0108,
          -165.206
         ],
         "2018-09-28T05:43:18.000+0000"
        ],
        [
         3945,
         "Barbados",
         [
          -66.2816,
          -142.673
         ],
         "2022-04-17T02:01:53.000+0000"
        ],
        [
         859,
         "Romania",
         [
          89.8261,
          48.2256
         ],
         "2020-04-07T19:23:24.000+0000"
        ],
        [
         1521,
         "Saint Helena",
         [
          24.5192,
          64.9674
         ],
         "2022-10-12T14:03:26.000+0000"
        ],
        [
         1961,
         "Argentina",
         [
          -65.3952,
          -175.249
         ],
         "2022-07-29T18:16:50.000+0000"
        ],
        [
         10099,
         "Afghanistan",
         [
          -89.4261,
          -171.58
         ],
         "2020-12-24T13:33:03.000+0000"
        ],
        [
         6066,
         "Bolivia",
         [
          -67.7278,
          -174.505
         ],
         "2019-03-04T01:04:11.000+0000"
        ],
        [
         10837,
         "Samoa",
         [
          86.6387,
          -26.2408
         ],
         "2018-09-27T07:12:31.000+0000"
        ],
        [
         6615,
         "Wallis and Futuna",
         [
          -25.2428,
          -32.8992
         ],
         "2022-01-31T18:53:34.000+0000"
        ],
        [
         7641,
         "Albania",
         [
          -87.2,
          -177.109
         ],
         "2021-09-28T13:56:50.000+0000"
        ],
        [
         640,
         "Albania",
         [
          -87.2,
          -177.109
         ],
         "2019-07-12T16:46:03.000+0000"
        ],
        [
         8174,
         "Burkina Faso",
         [
          -66.6708,
          -110.47
         ],
         "2018-10-20T17:28:23.000+0000"
        ],
        [
         1216,
         "Albania",
         [
          -69.8134,
          -152.834
         ],
         "2020-07-19T23:57:16.000+0000"
        ],
        [
         680,
         "Bangladesh",
         [
          -73.1838,
          -154.293
         ],
         "2019-03-29T23:22:56.000+0000"
        ],
        [
         9527,
         "Turkmenistan",
         [
          -38.4443,
          170.601
         ],
         "2021-11-17T07:50:58.000+0000"
        ],
        [
         9426,
         "Sao Tome and Principe",
         [
          -29.8646,
          -78.1449
         ],
         "2021-06-30T02:14:47.000+0000"
        ],
        [
         8745,
         "Tuvalu",
         [
          31.6701,
          -59.7391
         ],
         "2020-10-28T03:45:33.000+0000"
        ],
        [
         5959,
         "Cyprus",
         [
          -44.9016,
          -17.5192
         ],
         "2020-08-10T01:00:33.000+0000"
        ],
        [
         2577,
         "Aruba",
         [
          -71.5025,
          -179.257
         ],
         "2019-08-01T05:45:51.000+0000"
        ],
        [
         3008,
         "Venezuela",
         [
          0.314337,
          -58.7666
         ],
         "2019-07-31T22:36:11.000+0000"
        ],
        [
         8081,
         "Egypt",
         [
          -33.8238,
          -129.18
         ],
         "2022-03-25T07:42:29.000+0000"
        ],
        [
         10120,
         "Isle of Man",
         [
          -55.1562,
          -122.854
         ],
         "2022-03-10T07:02:32.000+0000"
        ],
        [
         4045,
         "American Samoa",
         [
          -89.3099,
          -166.033
         ],
         "2018-03-11T23:01:08.000+0000"
        ],
        [
         1599,
         "Bolivia",
         [
          86.0967,
          111.323
         ],
         "2019-02-05T14:58:20.000+0000"
        ],
        [
         2893,
         "Bermuda",
         [
          -68.5399,
          -28.38
         ],
         "2018-03-05T04:33:55.000+0000"
        ],
        [
         4024,
         "Aruba",
         [
          -61.471,
          -154.912
         ],
         "2019-10-19T10:03:03.000+0000"
        ],
        [
         310,
         "Antigua and Barbuda",
         [
          -81.0108,
          -165.206
         ],
         "2021-01-25T22:22:37.000+0000"
        ],
        [
         7905,
         "Namibia",
         [
          -47.8121,
          -134.015
         ],
         "2018-11-13T12:39:43.000+0000"
        ],
        [
         5488,
         "Finland",
         [
          -59.6163,
          -107.324
         ],
         "2021-03-14T05:55:21.000+0000"
        ],
        [
         744,
         "New Caledonia",
         [
          -76.8074,
          58.7517
         ],
         "2019-08-28T15:03:13.000+0000"
        ],
        [
         7801,
         "Afghanistan",
         [
          -75.9161,
          -27.6285
         ],
         "2017-11-18T22:54:58.000+0000"
        ],
        [
         5620,
         "Faroe Islands",
         [
          -53.6087,
          -121.68
         ],
         "2021-02-18T12:34:44.000+0000"
        ],
        [
         8341,
         "Somalia",
         [
          -16.5066,
          -133.185
         ],
         "2022-08-08T05:09:50.000+0000"
        ],
        [
         10022,
         "Benin",
         [
          70.5626,
          -89.4526
         ],
         "2018-12-17T20:26:14.000+0000"
        ],
        [
         6134,
         "Austria",
         [
          -68.8136,
          -128.482
         ],
         "2022-04-03T12:34:59.000+0000"
        ],
        [
         3824,
         "British Virgin Islands",
         [
          -82.4276,
          -170.019
         ],
         "2018-10-28T19:22:34.000+0000"
        ],
        [
         7116,
         "Macao",
         [
          -18.3686,
          72.4109
         ],
         "2019-09-16T18:45:41.000+0000"
        ],
        [
         74,
         "Antigua and Barbuda",
         [
          -81.0108,
          -165.206
         ],
         "2020-01-29T14:03:35.000+0000"
        ],
        [
         1335,
         "Antarctica (the territory South of 60 deg S)",
         [
          -77.9931,
          -175.682
         ],
         "2022-03-19T17:29:42.000+0000"
        ],
        [
         4513,
         "Namibia",
         [
          22.2314,
          144.214
         ],
         "2022-04-11T11:05:13.000+0000"
        ],
        [
         7850,
         "Vietnam",
         [
          26.5208,
          160.699
         ],
         "2022-04-09T15:06:01.000+0000"
        ],
        [
         10248,
         "Equatorial Guinea",
         [
          -31.9615,
          161.151
         ],
         "2019-11-03T15:11:00.000+0000"
        ],
        [
         8123,
         "Morocco",
         [
          80.2593,
          -134.292
         ],
         "2021-08-23T07:31:46.000+0000"
        ],
        [
         2987,
         "Dominica",
         [
          83.1466,
          -169.136
         ],
         "2019-12-24T22:33:06.000+0000"
        ],
        [
         1487,
         "Denmark",
         [
          6.23029,
          -75.5939
         ],
         "2021-05-15T18:23:45.000+0000"
        ],
        [
         10052,
         "Central African Republic",
         [
          14.7195,
          -130.921
         ],
         "2020-01-03T01:10:57.000+0000"
        ],
        [
         8677,
         "Bouvet Island (Bouvetoya)",
         [
          -84.3984,
          -144.933
         ],
         "2020-02-12T23:24:01.000+0000"
        ],
        [
         5551,
         "Colombia",
         [
          -67.8095,
          63.2758
         ],
         "2022-03-22T06:04:33.000+0000"
        ],
        [
         6652,
         "Egypt",
         [
          -78.2534,
          -170.668
         ],
         "2018-11-28T08:21:12.000+0000"
        ],
        [
         6479,
         "Ireland",
         [
          47.9142,
          -98.4756
         ],
         "2020-10-12T04:13:06.000+0000"
        ]
       ],
       "datasetInfos": [],
       "dbfsResultPath": null,
       "isJsonSchema": true,
       "metadata": {},
       "overflow": false,
       "plotOptions": {
        "customPlotOptions": {},
        "displayType": "table",
        "pivotAggregation": null,
        "pivotColumns": null,
        "xColumns": null,
        "yColumns": null
       },
       "removedWidgets": [],
       "schema": [
        {
         "metadata": "{}",
         "name": "ind",
         "type": "\"integer\""
        },
        {
         "metadata": "{}",
         "name": "country",
         "type": "\"string\""
        },
        {
         "metadata": "{}",
         "name": "coordinates",
         "type": "{\"type\":\"array\",\"elementType\":\"float\",\"containsNull\":true}"
        },
        {
         "metadata": "{}",
         "name": "timestamp",
         "type": "\"timestamp\""
        }
       ],
       "type": "table"
      }
     },
     "output_type": "display_data"
    }
   ],
   "source": [
    "display(df_geo)"
   ]
  },
  {
   "cell_type": "code",
   "execution_count": 0,
   "metadata": {
    "application/vnd.databricks.v1+cell": {
     "cellMetadata": {
      "byteLimit": 2048000,
      "rowLimit": 10000
     },
     "inputWidgets": {},
     "nuid": "1eeb7e04-29a9-4c4d-bd8f-78b588118dc3",
     "showTitle": false,
     "title": ""
    }
   },
   "outputs": [
    {
     "output_type": "display_data",
     "data": {
      "text/html": [
       "<style scoped>\n",
       "  .ansiout {\n",
       "    display: block;\n",
       "    unicode-bidi: embed;\n",
       "    white-space: pre-wrap;\n",
       "    word-wrap: break-word;\n",
       "    word-break: break-all;\n",
       "    font-family: \"Menlo\", \"Monaco\", \"Consolas\", \"Ubuntu Mono\", \"Source Code Pro\", monospace;\n",
       "    font-size: 13px;\n",
       "    color: #555;\n",
       "    margin-left: 4px;\n",
       "    line-height: 19px;\n",
       "  }\n",
       "</style>\n",
       "<div class=\"ansiout\">root\n",
       "-- ind: integer (nullable = true)\n",
       "-- country: string (nullable = true)\n",
       "-- coordinates: array (nullable = false)\n",
       "    |-- element: float (containsNull = true)\n",
       "-- timestamp: timestamp (nullable = true)\n",
       "\n",
       "</div>"
      ]
     },
     "metadata": {
      "application/vnd.databricks.v1+output": {
       "addedWidgets": {},
       "arguments": {},
       "data": "<div class=\"ansiout\">root\n |-- ind: integer (nullable = true)\n |-- country: string (nullable = true)\n |-- coordinates: array (nullable = false)\n |    |-- element: float (containsNull = true)\n |-- timestamp: timestamp (nullable = true)\n\n</div>",
       "datasetInfos": [],
       "metadata": {},
       "removedWidgets": [],
       "type": "html"
      }
     },
     "output_type": "display_data"
    }
   ],
   "source": [
    "df_geo.printSchema()"
   ]
  },
  {
   "cell_type": "code",
   "execution_count": 0,
   "metadata": {
    "application/vnd.databricks.v1+cell": {
     "cellMetadata": {
      "byteLimit": 2048000,
      "rowLimit": 10000
     },
     "inputWidgets": {},
     "nuid": "e459f461-4807-43ed-a2e8-487c01904aa2",
     "showTitle": false,
     "title": ""
    }
   },
   "outputs": [
    {
     "output_type": "display_data",
     "data": {
      "text/html": [
       "<style scoped>\n",
       "  .table-result-container {\n",
       "    max-height: 300px;\n",
       "    overflow: auto;\n",
       "  }\n",
       "  table, th, td {\n",
       "    border: 1px solid black;\n",
       "    border-collapse: collapse;\n",
       "  }\n",
       "  th, td {\n",
       "    padding: 5px;\n",
       "  }\n",
       "  th {\n",
       "    text-align: left;\n",
       "  }\n",
       "</style><div class='table-result-container'><table class='table-result'><thead style='background-color: white'><tr><th>ind</th><th>user_name</th><th>age</th><th>date_joined</th></tr></thead><tbody></tbody></table></div>"
      ]
     },
     "metadata": {
      "application/vnd.databricks.v1+output": {
       "addedWidgets": {},
       "aggData": [],
       "aggError": "",
       "aggOverflow": false,
       "aggSchema": [],
       "aggSeriesLimitReached": false,
       "aggType": "",
       "arguments": {},
       "columnCustomDisplayInfos": {},
       "data": [],
       "datasetInfos": [],
       "dbfsResultPath": null,
       "isJsonSchema": true,
       "metadata": {
        "isDbfsCommandResult": false
       },
       "overflow": false,
       "plotOptions": {
        "customPlotOptions": {},
        "displayType": "table",
        "pivotAggregation": null,
        "pivotColumns": null,
        "xColumns": null,
        "yColumns": null
       },
       "removedWidgets": [],
       "schema": [
        {
         "metadata": "{}",
         "name": "ind",
         "type": "\"integer\""
        },
        {
         "metadata": "{}",
         "name": "user_name",
         "type": "\"string\""
        },
        {
         "metadata": "{}",
         "name": "age",
         "type": "\"string\""
        },
        {
         "metadata": "{}",
         "name": "date_joined",
         "type": "\"timestamp\""
        }
       ],
       "type": "table"
      }
     },
     "output_type": "display_data"
    }
   ],
   "source": [
    "display(df_user)"
   ]
  },
  {
   "cell_type": "code",
   "execution_count": 0,
   "metadata": {
    "application/vnd.databricks.v1+cell": {
     "cellMetadata": {
      "byteLimit": 2048000,
      "rowLimit": 10000
     },
     "inputWidgets": {},
     "nuid": "050580d9-8724-479b-a66c-0c358dfc5185",
     "showTitle": false,
     "title": ""
    }
   },
   "outputs": [
    {
     "output_type": "display_data",
     "data": {
      "text/html": [
       "<style scoped>\n",
       "  .ansiout {\n",
       "    display: block;\n",
       "    unicode-bidi: embed;\n",
       "    white-space: pre-wrap;\n",
       "    word-wrap: break-word;\n",
       "    word-break: break-all;\n",
       "    font-family: \"Menlo\", \"Monaco\", \"Consolas\", \"Ubuntu Mono\", \"Source Code Pro\", monospace;\n",
       "    font-size: 13px;\n",
       "    color: #555;\n",
       "    margin-left: 4px;\n",
       "    line-height: 19px;\n",
       "  }\n",
       "</style>\n",
       "<div class=\"ansiout\">root\n",
       "-- ind: integer (nullable = true)\n",
       "-- user_name: string (nullable = true)\n",
       "-- age: string (nullable = true)\n",
       "-- date_joined: timestamp (nullable = true)\n",
       "\n",
       "</div>"
      ]
     },
     "metadata": {
      "application/vnd.databricks.v1+output": {
       "addedWidgets": {},
       "arguments": {},
       "data": "<div class=\"ansiout\">root\n |-- ind: integer (nullable = true)\n |-- user_name: string (nullable = true)\n |-- age: string (nullable = true)\n |-- date_joined: timestamp (nullable = true)\n\n</div>",
       "datasetInfos": [],
       "metadata": {},
       "removedWidgets": [],
       "type": "html"
      }
     },
     "output_type": "display_data"
    }
   ],
   "source": [
    "df_user.printSchema()"
   ]
  },
  {
   "cell_type": "code",
   "execution_count": 0,
   "metadata": {
    "application/vnd.databricks.v1+cell": {
     "cellMetadata": {},
     "inputWidgets": {},
     "nuid": "e88daf1b-36c1-49fd-a8dc-61c79256d6dd",
     "showTitle": false,
     "title": ""
    }
   },
   "outputs": [],
   "source": []
  },
  {
   "cell_type": "code",
   "execution_count": 0,
   "metadata": {
    "application/vnd.databricks.v1+cell": {
     "cellMetadata": {
      "byteLimit": 2048000,
      "rowLimit": 10000
     },
     "inputWidgets": {},
     "nuid": "678a2b76-2661-4e8d-92f7-200c879a2c4a",
     "showTitle": false,
     "title": ""
    }
   },
   "outputs": [
    {
     "output_type": "display_data",
     "data": {
      "text/html": [
       "<style scoped>\n",
       "  .ansiout {\n",
       "    display: block;\n",
       "    unicode-bidi: embed;\n",
       "    white-space: pre-wrap;\n",
       "    word-wrap: break-word;\n",
       "    word-break: break-all;\n",
       "    font-family: \"Menlo\", \"Monaco\", \"Consolas\", \"Ubuntu Mono\", \"Source Code Pro\", monospace;\n",
       "    font-size: 13px;\n",
       "    color: #555;\n",
       "    margin-left: 4px;\n",
       "    line-height: 19px;\n",
       "  }\n",
       "</style>\n",
       "<div class=\"ansiout\"></div>"
      ]
     },
     "metadata": {
      "application/vnd.databricks.v1+output": {
       "addedWidgets": {},
       "arguments": {},
       "data": "<div class=\"ansiout\"></div>",
       "datasetInfos": [],
       "metadata": {},
       "removedWidgets": [],
       "type": "html"
      }
     },
     "output_type": "display_data"
    },
    {
     "output_type": "display_data",
     "data": {
      "text/html": [
       "<style scoped>\n",
       "  .ansiout {\n",
       "    display: block;\n",
       "    unicode-bidi: embed;\n",
       "    white-space: pre-wrap;\n",
       "    word-wrap: break-word;\n",
       "    word-break: break-all;\n",
       "    font-family: \"Menlo\", \"Monaco\", \"Consolas\", \"Ubuntu Mono\", \"Source Code Pro\", monospace;\n",
       "    font-size: 13px;\n",
       "    color: #555;\n",
       "    margin-left: 4px;\n",
       "    line-height: 19px;\n",
       "  }\n",
       "</style>\n",
       "<div class=\"ansiout\"><span class=\"ansi-red-fg\">---------------------------------------------------------------------------</span>\n",
       "<span class=\"ansi-red-fg\">AnalysisException</span>                         Traceback (most recent call last)\n",
       "<span class=\"ansi-green-fg\">&lt;command-1126979784802560&gt;</span> in <span class=\"ansi-cyan-fg\">&lt;module&gt;</span>\n",
       "<span class=\"ansi-green-fg\">----&gt; 1</span><span class=\"ansi-red-fg\"> </span>print<span class=\"ansi-blue-fg\">(</span><span class=\"ansi-blue-fg\">(</span>df_pin<span class=\"ansi-blue-fg\">.</span>count<span class=\"ansi-blue-fg\">(</span><span class=\"ansi-blue-fg\">)</span><span class=\"ansi-blue-fg\">,</span> len<span class=\"ansi-blue-fg\">(</span>df<span class=\"ansi-blue-fg\">.</span>columns<span class=\"ansi-blue-fg\">)</span><span class=\"ansi-blue-fg\">)</span><span class=\"ansi-blue-fg\">)</span>\n",
       "\n",
       "<span class=\"ansi-green-fg\">/databricks/spark/python/pyspark/sql/dataframe.py</span> in <span class=\"ansi-cyan-fg\">count</span><span class=\"ansi-blue-fg\">(self)</span>\n",
       "<span class=\"ansi-green-intense-fg ansi-bold\">    686</span>         <span class=\"ansi-cyan-fg\">2</span>\n",
       "<span class=\"ansi-green-intense-fg ansi-bold\">    687</span>         &#34;&#34;&#34;\n",
       "<span class=\"ansi-green-fg\">--&gt; 688</span><span class=\"ansi-red-fg\">         </span><span class=\"ansi-green-fg\">return</span> int<span class=\"ansi-blue-fg\">(</span>self<span class=\"ansi-blue-fg\">.</span>_jdf<span class=\"ansi-blue-fg\">.</span>count<span class=\"ansi-blue-fg\">(</span><span class=\"ansi-blue-fg\">)</span><span class=\"ansi-blue-fg\">)</span>\n",
       "<span class=\"ansi-green-intense-fg ansi-bold\">    689</span> \n",
       "<span class=\"ansi-green-intense-fg ansi-bold\">    690</span>     <span class=\"ansi-green-fg\">def</span> collect<span class=\"ansi-blue-fg\">(</span>self<span class=\"ansi-blue-fg\">)</span><span class=\"ansi-blue-fg\">:</span>\n",
       "\n",
       "<span class=\"ansi-green-fg\">/databricks/spark/python/lib/py4j-0.10.9.1-src.zip/py4j/java_gateway.py</span> in <span class=\"ansi-cyan-fg\">__call__</span><span class=\"ansi-blue-fg\">(self, *args)</span>\n",
       "<span class=\"ansi-green-intense-fg ansi-bold\">   1302</span> \n",
       "<span class=\"ansi-green-intense-fg ansi-bold\">   1303</span>         answer <span class=\"ansi-blue-fg\">=</span> self<span class=\"ansi-blue-fg\">.</span>gateway_client<span class=\"ansi-blue-fg\">.</span>send_command<span class=\"ansi-blue-fg\">(</span>command<span class=\"ansi-blue-fg\">)</span>\n",
       "<span class=\"ansi-green-fg\">-&gt; 1304</span><span class=\"ansi-red-fg\">         return_value = get_return_value(\n",
       "</span><span class=\"ansi-green-intense-fg ansi-bold\">   1305</span>             answer, self.gateway_client, self.target_id, self.name)\n",
       "<span class=\"ansi-green-intense-fg ansi-bold\">   1306</span> \n",
       "\n",
       "<span class=\"ansi-green-fg\">/databricks/spark/python/pyspark/sql/utils.py</span> in <span class=\"ansi-cyan-fg\">deco</span><span class=\"ansi-blue-fg\">(*a, **kw)</span>\n",
       "<span class=\"ansi-green-intense-fg ansi-bold\">    121</span>                 <span class=\"ansi-red-fg\"># Hide where the exception came from that shows a non-Pythonic</span>\n",
       "<span class=\"ansi-green-intense-fg ansi-bold\">    122</span>                 <span class=\"ansi-red-fg\"># JVM exception message.</span>\n",
       "<span class=\"ansi-green-fg\">--&gt; 123</span><span class=\"ansi-red-fg\">                 </span><span class=\"ansi-green-fg\">raise</span> converted <span class=\"ansi-green-fg\">from</span> <span class=\"ansi-green-fg\">None</span>\n",
       "<span class=\"ansi-green-intense-fg ansi-bold\">    124</span>             <span class=\"ansi-green-fg\">else</span><span class=\"ansi-blue-fg\">:</span>\n",
       "<span class=\"ansi-green-intense-fg ansi-bold\">    125</span>                 <span class=\"ansi-green-fg\">raise</span>\n",
       "\n",
       "<span class=\"ansi-red-fg\">AnalysisException</span>: Queries with streaming sources must be executed with writeStream.start();\n",
       "kinesis</div>"
      ]
     },
     "metadata": {
      "application/vnd.databricks.v1+output": {
       "arguments": {},
       "data": "<div class=\"ansiout\"><span class=\"ansi-red-fg\">---------------------------------------------------------------------------</span>\n<span class=\"ansi-red-fg\">AnalysisException</span>                         Traceback (most recent call last)\n<span class=\"ansi-green-fg\">&lt;command-1126979784802560&gt;</span> in <span class=\"ansi-cyan-fg\">&lt;module&gt;</span>\n<span class=\"ansi-green-fg\">----&gt; 1</span><span class=\"ansi-red-fg\"> </span>print<span class=\"ansi-blue-fg\">(</span><span class=\"ansi-blue-fg\">(</span>df_pin<span class=\"ansi-blue-fg\">.</span>count<span class=\"ansi-blue-fg\">(</span><span class=\"ansi-blue-fg\">)</span><span class=\"ansi-blue-fg\">,</span> len<span class=\"ansi-blue-fg\">(</span>df<span class=\"ansi-blue-fg\">.</span>columns<span class=\"ansi-blue-fg\">)</span><span class=\"ansi-blue-fg\">)</span><span class=\"ansi-blue-fg\">)</span>\n\n<span class=\"ansi-green-fg\">/databricks/spark/python/pyspark/sql/dataframe.py</span> in <span class=\"ansi-cyan-fg\">count</span><span class=\"ansi-blue-fg\">(self)</span>\n<span class=\"ansi-green-intense-fg ansi-bold\">    686</span>         <span class=\"ansi-cyan-fg\">2</span>\n<span class=\"ansi-green-intense-fg ansi-bold\">    687</span>         &#34;&#34;&#34;\n<span class=\"ansi-green-fg\">--&gt; 688</span><span class=\"ansi-red-fg\">         </span><span class=\"ansi-green-fg\">return</span> int<span class=\"ansi-blue-fg\">(</span>self<span class=\"ansi-blue-fg\">.</span>_jdf<span class=\"ansi-blue-fg\">.</span>count<span class=\"ansi-blue-fg\">(</span><span class=\"ansi-blue-fg\">)</span><span class=\"ansi-blue-fg\">)</span>\n<span class=\"ansi-green-intense-fg ansi-bold\">    689</span> \n<span class=\"ansi-green-intense-fg ansi-bold\">    690</span>     <span class=\"ansi-green-fg\">def</span> collect<span class=\"ansi-blue-fg\">(</span>self<span class=\"ansi-blue-fg\">)</span><span class=\"ansi-blue-fg\">:</span>\n\n<span class=\"ansi-green-fg\">/databricks/spark/python/lib/py4j-0.10.9.1-src.zip/py4j/java_gateway.py</span> in <span class=\"ansi-cyan-fg\">__call__</span><span class=\"ansi-blue-fg\">(self, *args)</span>\n<span class=\"ansi-green-intense-fg ansi-bold\">   1302</span> \n<span class=\"ansi-green-intense-fg ansi-bold\">   1303</span>         answer <span class=\"ansi-blue-fg\">=</span> self<span class=\"ansi-blue-fg\">.</span>gateway_client<span class=\"ansi-blue-fg\">.</span>send_command<span class=\"ansi-blue-fg\">(</span>command<span class=\"ansi-blue-fg\">)</span>\n<span class=\"ansi-green-fg\">-&gt; 1304</span><span class=\"ansi-red-fg\">         return_value = get_return_value(\n</span><span class=\"ansi-green-intense-fg ansi-bold\">   1305</span>             answer, self.gateway_client, self.target_id, self.name)\n<span class=\"ansi-green-intense-fg ansi-bold\">   1306</span> \n\n<span class=\"ansi-green-fg\">/databricks/spark/python/pyspark/sql/utils.py</span> in <span class=\"ansi-cyan-fg\">deco</span><span class=\"ansi-blue-fg\">(*a, **kw)</span>\n<span class=\"ansi-green-intense-fg ansi-bold\">    121</span>                 <span class=\"ansi-red-fg\"># Hide where the exception came from that shows a non-Pythonic</span>\n<span class=\"ansi-green-intense-fg ansi-bold\">    122</span>                 <span class=\"ansi-red-fg\"># JVM exception message.</span>\n<span class=\"ansi-green-fg\">--&gt; 123</span><span class=\"ansi-red-fg\">                 </span><span class=\"ansi-green-fg\">raise</span> converted <span class=\"ansi-green-fg\">from</span> <span class=\"ansi-green-fg\">None</span>\n<span class=\"ansi-green-intense-fg ansi-bold\">    124</span>             <span class=\"ansi-green-fg\">else</span><span class=\"ansi-blue-fg\">:</span>\n<span class=\"ansi-green-intense-fg ansi-bold\">    125</span>                 <span class=\"ansi-green-fg\">raise</span>\n\n<span class=\"ansi-red-fg\">AnalysisException</span>: Queries with streaming sources must be executed with writeStream.start();\nkinesis</div>",
       "errorSummary": "<span class=\"ansi-red-fg\">AnalysisException</span>: Queries with streaming sources must be executed with writeStream.start();",
       "errorTraceType": "html",
       "metadata": {},
       "type": "ipynbError"
      }
     },
     "output_type": "display_data"
    }
   ],
   "source": [
    "print((df_pin.count(), len(df.columns)))\n",
    "# get this error: why?\n",
    "# AnalysisException: Queries with streaming sources must be executed with writeStream.start();"
   ]
  },
  {
   "cell_type": "code",
   "execution_count": 0,
   "metadata": {
    "application/vnd.databricks.v1+cell": {
     "cellMetadata": {
      "byteLimit": 2048000,
      "rowLimit": 10000
     },
     "inputWidgets": {},
     "nuid": "5d7b5fc4-c2db-4367-a15c-7f63fb4aa8a7",
     "showTitle": false,
     "title": ""
    }
   },
   "outputs": [
    {
     "output_type": "display_data",
     "data": {
      "text/html": [
       "<style scoped>\n",
       "  .ansiout {\n",
       "    display: block;\n",
       "    unicode-bidi: embed;\n",
       "    white-space: pre-wrap;\n",
       "    word-wrap: break-word;\n",
       "    word-break: break-all;\n",
       "    font-family: \"Menlo\", \"Monaco\", \"Consolas\", \"Ubuntu Mono\", \"Source Code Pro\", monospace;\n",
       "    font-size: 13px;\n",
       "    color: #555;\n",
       "    margin-left: 4px;\n",
       "    line-height: 19px;\n",
       "  }\n",
       "</style>\n",
       "<div class=\"ansiout\"></div>"
      ]
     },
     "metadata": {
      "application/vnd.databricks.v1+output": {
       "addedWidgets": {},
       "arguments": {},
       "data": "<div class=\"ansiout\"></div>",
       "datasetInfos": [],
       "metadata": {},
       "removedWidgets": [],
       "type": "html"
      }
     },
     "output_type": "display_data"
    }
   ],
   "source": [
    "write_Kinesis_stream_df_to_table(df_pin, \"0affec486183\", \"pin\")\n",
    "write_Kinesis_stream_df_to_table(df_geo, \"0affec486183\", \"geo\")\n",
    "write_Kinesis_stream_df_to_table(df_user, \"0affec486183\", \"user\")"
   ]
  },
  {
   "cell_type": "code",
   "execution_count": 0,
   "metadata": {
    "application/vnd.databricks.v1+cell": {
     "cellMetadata": {},
     "inputWidgets": {},
     "nuid": "193b0832-b276-4d45-af64-26a8e81abc00",
     "showTitle": false,
     "title": ""
    }
   },
   "outputs": [],
   "source": []
  },
  {
   "cell_type": "markdown",
   "metadata": {
    "application/vnd.databricks.v1+cell": {
     "cellMetadata": {},
     "inputWidgets": {},
     "nuid": "6e3a286b-9ca7-442b-8346-f28d4d5a76d3",
     "showTitle": false,
     "title": ""
    }
   },
   "source": [
    "## Some Stream Analytics"
   ]
  },
  {
   "cell_type": "code",
   "execution_count": 0,
   "metadata": {
    "application/vnd.databricks.v1+cell": {
     "cellMetadata": {
      "byteLimit": 2048000,
      "rowLimit": 10000
     },
     "inputWidgets": {},
     "nuid": "1330718d-105d-40fc-83db-cbf84d6ea009",
     "showTitle": false,
     "title": ""
    }
   },
   "outputs": [
    {
     "output_type": "display_data",
     "data": {
      "text/html": [
       "<style scoped>\n",
       "  .ansiout {\n",
       "    display: block;\n",
       "    unicode-bidi: embed;\n",
       "    white-space: pre-wrap;\n",
       "    word-wrap: break-word;\n",
       "    word-break: break-all;\n",
       "    font-family: \"Menlo\", \"Monaco\", \"Consolas\", \"Ubuntu Mono\", \"Source Code Pro\", monospace;\n",
       "    font-size: 13px;\n",
       "    color: #555;\n",
       "    margin-left: 4px;\n",
       "    line-height: 19px;\n",
       "  }\n",
       "</style>\n",
       "<div class=\"ansiout\">DataFrame[window: struct&lt;start:timestamp,end:timestamp&gt;, count(Data): bigint]\n",
       "</div>"
      ]
     },
     "metadata": {
      "application/vnd.databricks.v1+output": {
       "addedWidgets": {},
       "arguments": {},
       "data": "<div class=\"ansiout\">DataFrame[window: struct&lt;start:timestamp,end:timestamp&gt;, count(Data): bigint]\n</div>",
       "datasetInfos": [],
       "metadata": {},
       "removedWidgets": [],
       "type": "html"
      }
     },
     "output_type": "display_data"
    }
   ],
   "source": [
    "sliding_window_df_pin = (\n",
    "    kstream_pin\n",
    "    .groupBy(window(\"shardId\", \"1 hour\", \"30 minutes\"))\n",
    "    .agg(count(\"Data\"))\n",
    ")\n",
    "#AnalysisException: Column 'timestamp' does not exist. Did you mean one of the following? [stream, data, shardId, partitionKey, sequenceNumber, approximateArrivalTimestamp];\n",
    "print(sliding_window_df)"
   ]
  },
  {
   "cell_type": "code",
   "execution_count": 0,
   "metadata": {
    "application/vnd.databricks.v1+cell": {
     "cellMetadata": {
      "byteLimit": 2048000,
      "rowLimit": 10000
     },
     "inputWidgets": {},
     "nuid": "a2507678-e418-4da6-9e23-2b5c6f0ac407",
     "showTitle": false,
     "title": ""
    }
   },
   "outputs": [
    {
     "output_type": "display_data",
     "data": {
      "text/html": [
       "<style scoped>\n",
       "  .table-result-container {\n",
       "    max-height: 300px;\n",
       "    overflow: auto;\n",
       "  }\n",
       "  table, th, td {\n",
       "    border: 1px solid black;\n",
       "    border-collapse: collapse;\n",
       "  }\n",
       "  th, td {\n",
       "    padding: 5px;\n",
       "  }\n",
       "  th {\n",
       "    text-align: left;\n",
       "  }\n",
       "</style><div class='table-result-container'><table class='table-result'><thead style='background-color: white'><tr><th>window</th><th>count(Data)</th></tr></thead><tbody></tbody></table></div>"
      ]
     },
     "metadata": {
      "application/vnd.databricks.v1+output": {
       "addedWidgets": {},
       "aggData": [],
       "aggError": "",
       "aggOverflow": false,
       "aggSchema": [],
       "aggSeriesLimitReached": false,
       "aggType": "",
       "arguments": {},
       "columnCustomDisplayInfos": {},
       "data": [],
       "datasetInfos": [],
       "dbfsResultPath": null,
       "isJsonSchema": true,
       "metadata": {
        "isDbfsCommandResult": false
       },
       "overflow": false,
       "plotOptions": {
        "customPlotOptions": {},
        "displayType": "table",
        "pivotAggregation": null,
        "pivotColumns": null,
        "xColumns": null,
        "yColumns": null
       },
       "removedWidgets": [],
       "schema": [
        {
         "metadata": "{}",
         "name": "window",
         "type": "{\"type\":\"struct\",\"fields\":[{\"name\":\"start\",\"type\":\"timestamp\",\"nullable\":true,\"metadata\":{}},{\"name\":\"end\",\"type\":\"timestamp\",\"nullable\":true,\"metadata\":{}}]}"
        },
        {
         "metadata": "{}",
         "name": "count(Data)",
         "type": "\"long\""
        }
       ],
       "type": "table"
      }
     },
     "output_type": "display_data"
    }
   ],
   "source": [
    "display(sliding_window_df_pin)"
   ]
  },
  {
   "cell_type": "code",
   "execution_count": 0,
   "metadata": {
    "application/vnd.databricks.v1+cell": {
     "cellMetadata": {
      "byteLimit": 2048000,
      "rowLimit": 10000
     },
     "inputWidgets": {},
     "nuid": "93b9b8dd-4c52-42c2-b63c-023f155aa266",
     "showTitle": false,
     "title": ""
    }
   },
   "outputs": [
    {
     "output_type": "display_data",
     "data": {
      "text/html": [
       "<style scoped>\n",
       "  .ansiout {\n",
       "    display: block;\n",
       "    unicode-bidi: embed;\n",
       "    white-space: pre-wrap;\n",
       "    word-wrap: break-word;\n",
       "    word-break: break-all;\n",
       "    font-family: \"Menlo\", \"Monaco\", \"Consolas\", \"Ubuntu Mono\", \"Source Code Pro\", monospace;\n",
       "    font-size: 13px;\n",
       "    color: #555;\n",
       "    margin-left: 4px;\n",
       "    line-height: 19px;\n",
       "  }\n",
       "</style>\n",
       "<div class=\"ansiout\"></div>"
      ]
     },
     "metadata": {
      "application/vnd.databricks.v1+output": {
       "addedWidgets": {},
       "arguments": {},
       "data": "<div class=\"ansiout\"></div>",
       "datasetInfos": [],
       "metadata": {},
       "removedWidgets": [],
       "type": "html"
      }
     },
     "output_type": "display_data"
    }
   ],
   "source": [
    "sliding_window_df_geo = (\n",
    "    kstream_geo\n",
    "    .groupBy(window(\"shardId\", \"1 hour\", \"30 minutes\"))\n",
    "    .agg(count(\"Data\"))\n",
    ")"
   ]
  },
  {
   "cell_type": "code",
   "execution_count": 0,
   "metadata": {
    "application/vnd.databricks.v1+cell": {
     "cellMetadata": {
      "byteLimit": 2048000,
      "rowLimit": 10000
     },
     "inputWidgets": {},
     "nuid": "110dc656-f208-4c8a-8e88-82d502c57a56",
     "showTitle": false,
     "title": ""
    }
   },
   "outputs": [
    {
     "output_type": "display_data",
     "data": {
      "text/html": [
       "<style scoped>\n",
       "  .table-result-container {\n",
       "    max-height: 300px;\n",
       "    overflow: auto;\n",
       "  }\n",
       "  table, th, td {\n",
       "    border: 1px solid black;\n",
       "    border-collapse: collapse;\n",
       "  }\n",
       "  th, td {\n",
       "    padding: 5px;\n",
       "  }\n",
       "  th {\n",
       "    text-align: left;\n",
       "  }\n",
       "</style><div class='table-result-container'><table class='table-result'><thead style='background-color: white'><tr><th>window</th><th>count(Data)</th></tr></thead><tbody></tbody></table></div>"
      ]
     },
     "metadata": {
      "application/vnd.databricks.v1+output": {
       "addedWidgets": {},
       "aggData": [],
       "aggError": "",
       "aggOverflow": false,
       "aggSchema": [],
       "aggSeriesLimitReached": false,
       "aggType": "",
       "arguments": {},
       "columnCustomDisplayInfos": {},
       "data": [],
       "datasetInfos": [],
       "dbfsResultPath": null,
       "isJsonSchema": true,
       "metadata": {
        "isDbfsCommandResult": false
       },
       "overflow": false,
       "plotOptions": {
        "customPlotOptions": {},
        "displayType": "table",
        "pivotAggregation": null,
        "pivotColumns": null,
        "xColumns": null,
        "yColumns": null
       },
       "removedWidgets": [],
       "schema": [
        {
         "metadata": "{}",
         "name": "window",
         "type": "{\"type\":\"struct\",\"fields\":[{\"name\":\"start\",\"type\":\"timestamp\",\"nullable\":true,\"metadata\":{}},{\"name\":\"end\",\"type\":\"timestamp\",\"nullable\":true,\"metadata\":{}}]}"
        },
        {
         "metadata": "{}",
         "name": "count(Data)",
         "type": "\"long\""
        }
       ],
       "type": "table"
      }
     },
     "output_type": "display_data"
    }
   ],
   "source": [
    "display(sliding_window_df_geo)"
   ]
  },
  {
   "cell_type": "code",
   "execution_count": 0,
   "metadata": {
    "application/vnd.databricks.v1+cell": {
     "cellMetadata": {
      "byteLimit": 2048000,
      "rowLimit": 10000
     },
     "inputWidgets": {},
     "nuid": "c4f18f6c-fb8d-4859-86ae-19b703432d16",
     "showTitle": false,
     "title": ""
    }
   },
   "outputs": [
    {
     "output_type": "display_data",
     "data": {
      "text/html": [
       "<style scoped>\n",
       "  .ansiout {\n",
       "    display: block;\n",
       "    unicode-bidi: embed;\n",
       "    white-space: pre-wrap;\n",
       "    word-wrap: break-word;\n",
       "    word-break: break-all;\n",
       "    font-family: \"Menlo\", \"Monaco\", \"Consolas\", \"Ubuntu Mono\", \"Source Code Pro\", monospace;\n",
       "    font-size: 13px;\n",
       "    color: #555;\n",
       "    margin-left: 4px;\n",
       "    line-height: 19px;\n",
       "  }\n",
       "</style>\n",
       "<div class=\"ansiout\"></div>"
      ]
     },
     "metadata": {
      "application/vnd.databricks.v1+output": {
       "addedWidgets": {},
       "arguments": {},
       "data": "<div class=\"ansiout\"></div>",
       "datasetInfos": [],
       "metadata": {},
       "removedWidgets": [],
       "type": "html"
      }
     },
     "output_type": "display_data"
    }
   ],
   "source": [
    "sliding_window_df_user = (\n",
    "    kstream_geo\n",
    "    .groupBy(window(\"shardId\", \"1 hour\", \"30 minutes\"))\n",
    "    .agg(count(\"Data\"))\n",
    ")"
   ]
  },
  {
   "cell_type": "code",
   "execution_count": 0,
   "metadata": {
    "application/vnd.databricks.v1+cell": {
     "cellMetadata": {
      "byteLimit": 2048000,
      "rowLimit": 10000
     },
     "inputWidgets": {},
     "nuid": "fc781ef5-c29b-4190-9569-267e9ef67ab2",
     "showTitle": false,
     "title": ""
    }
   },
   "outputs": [
    {
     "output_type": "display_data",
     "data": {
      "text/html": [
       "<style scoped>\n",
       "  .table-result-container {\n",
       "    max-height: 300px;\n",
       "    overflow: auto;\n",
       "  }\n",
       "  table, th, td {\n",
       "    border: 1px solid black;\n",
       "    border-collapse: collapse;\n",
       "  }\n",
       "  th, td {\n",
       "    padding: 5px;\n",
       "  }\n",
       "  th {\n",
       "    text-align: left;\n",
       "  }\n",
       "</style><div class='table-result-container'><table class='table-result'><thead style='background-color: white'><tr><th>window</th><th>count(Data)</th></tr></thead><tbody></tbody></table></div>"
      ]
     },
     "metadata": {
      "application/vnd.databricks.v1+output": {
       "addedWidgets": {},
       "aggData": [],
       "aggError": "",
       "aggOverflow": false,
       "aggSchema": [],
       "aggSeriesLimitReached": false,
       "aggType": "",
       "arguments": {},
       "columnCustomDisplayInfos": {},
       "data": [],
       "datasetInfos": [],
       "dbfsResultPath": null,
       "isJsonSchema": true,
       "metadata": {
        "isDbfsCommandResult": false
       },
       "overflow": false,
       "plotOptions": {
        "customPlotOptions": {},
        "displayType": "table",
        "pivotAggregation": null,
        "pivotColumns": null,
        "xColumns": null,
        "yColumns": null
       },
       "removedWidgets": [],
       "schema": [
        {
         "metadata": "{}",
         "name": "window",
         "type": "{\"type\":\"struct\",\"fields\":[{\"name\":\"start\",\"type\":\"timestamp\",\"nullable\":true,\"metadata\":{}},{\"name\":\"end\",\"type\":\"timestamp\",\"nullable\":true,\"metadata\":{}}]}"
        },
        {
         "metadata": "{}",
         "name": "count(Data)",
         "type": "\"long\""
        }
       ],
       "type": "table"
      }
     },
     "output_type": "display_data"
    }
   ],
   "source": [
    "display(sliding_window_df_user)"
   ]
  },
  {
   "cell_type": "code",
   "execution_count": 0,
   "metadata": {
    "application/vnd.databricks.v1+cell": {
     "cellMetadata": {},
     "inputWidgets": {},
     "nuid": "daa9d6a7-b819-4765-bfa9-50dada5f727b",
     "showTitle": false,
     "title": ""
    }
   },
   "outputs": [],
   "source": []
  }
 ],
 "metadata": {
  "application/vnd.databricks.v1+notebook": {
   "dashboards": [],
   "environmentMetadata": null,
   "language": "python",
   "notebookMetadata": {
    "pythonIndentUnit": 4
   },
   "notebookName": "Processing Kensis Streams 2024-08-12 12:16:08",
   "widgets": {}
  }
 },
 "nbformat": 4,
 "nbformat_minor": 0
}
